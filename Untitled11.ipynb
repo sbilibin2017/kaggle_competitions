{
 "cells": [
  {
   "cell_type": "code",
   "execution_count": 4,
   "metadata": {},
   "outputs": [],
   "source": [
    "from bs4 import BeautifulSoup\n",
    "import gc, re, os, json, requests"
   ]
  },
  {
   "cell_type": "code",
   "execution_count": 8,
   "metadata": {},
   "outputs": [],
   "source": [
    "url = 'https://www.youtube.com/c/ЮрийХованский69/videos?view=0&sort=dd&shelf_id=1'\n",
    "source= requests.get(url).text\n",
    "soup=BeautifulSoup(source,'lxml')"
   ]
  },
  {
   "cell_type": "code",
   "execution_count": 18,
   "metadata": {
    "scrolled": true
   },
   "outputs": [
    {
     "ename": "TypeError",
     "evalue": "'NoneType' object is not iterable",
     "output_type": "error",
     "traceback": [
      "\u001b[1;31m---------------------------------------------------------------------------\u001b[0m",
      "\u001b[1;31mTypeError\u001b[0m                                 Traceback (most recent call last)",
      "\u001b[1;32m<ipython-input-18-fb3b323a3ee0>\u001b[0m in \u001b[0;36m<module>\u001b[1;34m\u001b[0m\n\u001b[1;32m----> 1\u001b[1;33m \u001b[1;32mfor\u001b[0m \u001b[0mr\u001b[0m \u001b[1;32min\u001b[0m \u001b[0msoup\u001b[0m\u001b[1;33m.\u001b[0m\u001b[0mfind\u001b[0m\u001b[1;33m(\u001b[0m\u001b[1;34m'h3'\u001b[0m\u001b[1;33m)\u001b[0m\u001b[1;33m:\u001b[0m\u001b[1;33m\u001b[0m\u001b[1;33m\u001b[0m\u001b[0m\n\u001b[0m\u001b[0;32m      2\u001b[0m     \u001b[0mprint\u001b[0m\u001b[1;33m(\u001b[0m\u001b[0mr\u001b[0m\u001b[1;33m)\u001b[0m\u001b[1;33m\u001b[0m\u001b[1;33m\u001b[0m\u001b[0m\n",
      "\u001b[1;31mTypeError\u001b[0m: 'NoneType' object is not iterable"
     ]
    }
   ],
   "source": [
    "for r in soup.find('h3'):\n",
    "    print(r)"
   ]
  },
  {
   "cell_type": "code",
   "execution_count": 22,
   "metadata": {},
   "outputs": [],
   "source": [
    "tags = soup.find_all(['h3'])"
   ]
  },
  {
   "cell_type": "code",
   "execution_count": 23,
   "metadata": {},
   "outputs": [],
   "source": [
    "for tag in tags:\n",
    "    print(tag)"
   ]
  },
  {
   "cell_type": "code",
   "execution_count": null,
   "metadata": {},
   "outputs": [],
   "source": [
    "<a id=\"video-title\" class=\"yt-simple-endpoint style-scope ytd-grid-video-renderer\" aria-label=\"НАВАЛЬНЫЙ В ТЮРЬМЕ - БЕСПРЕДЕЛ ИЛИ ОЧЕВИДНЫЙ ИСХОД? Автор: Юрий Хованский 6 часов назад 1 час 44 минуты 48&nbsp;213 просмотров\" title=\"НАВАЛЬНЫЙ В ТЮРЬМЕ - БЕСПРЕДЕЛ ИЛИ ОЧЕВИДНЫЙ ИСХОД?\" href=\"/watch?v=zaAWuo9E9Zk\">НАВАЛЬНЫЙ В ТЮРЬМЕ - БЕСПРЕДЕЛ ИЛИ ОЧЕВИДНЫЙ ИСХОД?</a>"
   ]
  },
  {
   "cell_type": "code",
   "execution_count": null,
   "metadata": {},
   "outputs": [],
   "source": [
    "<h3 class=\"style-scope ytd-grid-video-renderer\"><ytd-badge-supported-renderer class=\"style-scope ytd-grid-video-renderer\" disable-upgrade=\"\" hidden=\"\"></ytd-badge-supported-renderer><a id=\"video-title\" class=\"yt-simple-endpoint style-scope ytd-grid-video-renderer\" aria-label=\"НАВАЛЬНЫЙ В ТЮРЬМЕ - БЕСПРЕДЕЛ ИЛИ ОЧЕВИДНЫЙ ИСХОД? Автор: Юрий Хованский 6 часов назад 1 час 44 минуты 48&nbsp;213 просмотров\" title=\"НАВАЛЬНЫЙ В ТЮРЬМЕ - БЕСПРЕДЕЛ ИЛИ ОЧЕВИДНЫЙ ИСХОД?\" href=\"/watch?v=zaAWuo9E9Zk\">НАВАЛЬНЫЙ В ТЮРЬМЕ - БЕСПРЕДЕЛ ИЛИ ОЧЕВИДНЫЙ ИСХОД?</a></h3>"
   ]
  }
 ],
 "metadata": {
  "kernelspec": {
   "display_name": "Python 3",
   "language": "python",
   "name": "python3"
  },
  "language_info": {
   "codemirror_mode": {
    "name": "ipython",
    "version": 3
   },
   "file_extension": ".py",
   "mimetype": "text/x-python",
   "name": "python",
   "nbconvert_exporter": "python",
   "pygments_lexer": "ipython3",
   "version": "3.8.3"
  }
 },
 "nbformat": 4,
 "nbformat_minor": 4
}
