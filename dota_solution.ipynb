{
 "cells": [
  {
   "cell_type": "markdown",
   "metadata": {},
   "source": [
    "<h1><center>Predict Dota2 winner<center><h1>"
   ]
  },
  {
   "cell_type": "markdown",
   "metadata": {},
   "source": [
    "[Соревнование](https://www.kaggle.com/c/mlcourse-dota2-win-prediction)"
   ]
  },
  {
   "cell_type": "code",
   "execution_count": 1,
   "metadata": {},
   "outputs": [],
   "source": [
    "import pandas as pd\n",
    "import numpy as np\n",
    "import matplotlib.pyplot as plt\n",
    "plt.style.use('ggplot')\n",
    "import seaborn as sns\n",
    "import pickle\n",
    "from collections import defaultdict\n",
    "from lightgbm import LGBMClassifier\n",
    "from sklearn.model_selection import KFold, StratifiedKFold, TimeSeriesSplit,\\\n",
    "                                    cross_val_score, cross_validate\n",
    "import scipy.stats as stats\n",
    "import gc\n",
    "import warnings\n",
    "warnings.filterwarnings('ignore')\n",
    "import os\n",
    "import category_encoders as ce\n",
    "from tqdm import tqdm_notebook\n",
    "import json\n",
    "from itertools import combinations, groupby\n",
    "from functools import reduce\n",
    "from sklearn.cluster import KMeans\n",
    "import time\n",
    "from itertools import groupby\n",
    "from sklearn.metrics import roc_auc_score\n",
    "from sklearn.feature_selection import RFECV\n",
    "from sklearn.ensemble import RandomForestClassifier\n",
    "from sklearn.linear_model import LogisticRegression\n",
    "from sklearn.preprocessing import MinMaxScaler\n",
    "import lightgbm as lgb\n",
    "from sklearn.feature_selection import RFECV\n",
    "import pickle\n",
    "from sklearn.model_selection import train_test_split\n",
    "from sklearn.metrics import roc_auc_score, f1_score, accuracy_score, precision_score, recall_score\n",
    "from sklearn.model_selection import GridSearchCV"
   ]
  },
  {
   "cell_type": "code",
   "execution_count": 2,
   "metadata": {},
   "outputs": [],
   "source": [
    "# функция для чтения json файлов\n",
    "def read_matches(path_to_file):\n",
    "    with open(path_to_file) as fin:\n",
    "        for line in fin: \n",
    "            yield json.loads(line)"
   ]
  },
  {
   "cell_type": "code",
   "execution_count": 3,
   "metadata": {},
   "outputs": [],
   "source": [
    "# пути к файлам, размеры файлов\n",
    "PATH_TR, TOTAL_TR = 'train_matches.jsonl', 39675\n",
    "PATH_TE, TOTAL_TE = 'test_matches.jsonl', 10000\n"
   ]
  },
  {
   "cell_type": "code",
   "execution_count": 4,
   "metadata": {
    "scrolled": false
   },
   "outputs": [
    {
     "data": {
      "application/vnd.jupyter.widget-view+json": {
       "model_id": "fa01e2d581d3408dbd744c4e61e1e4b7",
       "version_major": 2,
       "version_minor": 0
      },
      "text/plain": [
       "HBox(children=(FloatProgress(value=0.0, max=39675.0), HTML(value='')))"
      ]
     },
     "metadata": {},
     "output_type": "display_data"
    },
    {
     "name": "stdout",
     "output_type": "stream",
     "text": [
      "\n",
      "       teamfights        \n",
      "-----------------------\n",
      "1) start\n",
      "2) end\n",
      "3) last_death\n",
      "4) deaths\n",
      "5) players\n",
      "   5.1) deaths_pos\n",
      "   5.2) ability_uses\n",
      "   5.3) item_uses\n",
      "   5.4) killed\n",
      "   5.5) deaths\n",
      "   5.6) buybacks\n",
      "   5.7) damage\n",
      "   5.8) healing\n",
      "   5.9) gold_delta\n",
      "   5.10) xp_delta\n",
      "-----------------------\n",
      "\n",
      "\n",
      "            objectives             \n",
      "-----------------------------------\n",
      "   1) CHAT_MESSAGE_AEGIS\n",
      "   2) CHAT_MESSAGE_AEGIS_STOLEN\n",
      "   3) CHAT_MESSAGE_BARRACKS_KILL\n",
      "   4) CHAT_MESSAGE_DENIED_AEGIS\n",
      "   5) CHAT_MESSAGE_FIRSTBLOOD\n",
      "   6) CHAT_MESSAGE_ROSHAN_KILL\n",
      "   7) CHAT_MESSAGE_TOWER_DENY\n",
      "   8) CHAT_MESSAGE_TOWER_KILL\n",
      "-----------------------------------\n",
      "\n",
      "\n",
      "                        players                        \n",
      "------------------------------------------------------------\n",
      "              player_slot <class 'int'>\n",
      "                  hero_id <class 'int'>\n",
      "                hero_name <class 'str'>\n",
      "          account_id_hash <class 'str'>\n",
      "         ability_upgrades <class 'list'>\n",
      "               obs_placed <class 'int'>\n",
      "               sen_placed <class 'int'>\n",
      "           creeps_stacked <class 'int'>\n",
      "            camps_stacked <class 'int'>\n",
      "             rune_pickups <class 'int'>\n",
      "       firstblood_claimed <class 'int'>\n",
      "  teamfight_participation <class 'float'>\n",
      "            towers_killed <class 'int'>\n",
      "           roshans_killed <class 'int'>\n",
      "         observers_placed <class 'int'>\n",
      "                    stuns <class 'int'>\n",
      "             max_hero_hit <class 'dict'>\n",
      "                    times <class 'list'>\n",
      "                   gold_t <class 'list'>\n",
      "                     lh_t <class 'list'>\n",
      "                     dn_t <class 'list'>\n",
      "                     xp_t <class 'list'>\n",
      "                  obs_log <class 'list'>\n",
      "                  sen_log <class 'list'>\n",
      "             obs_left_log <class 'list'>\n",
      "             sen_left_log <class 'list'>\n",
      "             purchase_log <class 'list'>\n",
      "                kills_log <class 'list'>\n",
      "              buyback_log <class 'list'>\n",
      "                runes_log <class 'list'>\n",
      "                      obs <class 'dict'>\n",
      "                      sen <class 'dict'>\n",
      "                  actions <class 'dict'>\n",
      "                    pings <class 'dict'>\n",
      "                 purchase <class 'dict'>\n",
      "             gold_reasons <class 'dict'>\n",
      "               xp_reasons <class 'dict'>\n",
      "                   killed <class 'dict'>\n",
      "                item_uses <class 'dict'>\n",
      "             ability_uses <class 'dict'>\n",
      "                hero_hits <class 'dict'>\n",
      "                   damage <class 'dict'>\n",
      "             damage_taken <class 'dict'>\n",
      "         damage_inflictor <class 'dict'>\n",
      "                    runes <class 'dict'>\n",
      "                killed_by <class 'dict'>\n",
      "             kill_streaks <class 'dict'>\n",
      "              multi_kills <class 'dict'>\n",
      "               life_state <class 'dict'>\n",
      "                  healing <class 'dict'>\n",
      "damage_inflictor_received <class 'dict'>\n",
      "                 randomed <class 'bool'>\n",
      "                pred_vict <class 'bool'>\n",
      "                     gold <class 'int'>\n",
      "                       lh <class 'int'>\n",
      "                       xp <class 'int'>\n",
      "                        x <class 'int'>\n",
      "                        y <class 'int'>\n",
      "           hero_inventory <class 'list'>\n",
      "               hero_stash <class 'list'>\n",
      "                   health <class 'int'>\n",
      "               max_health <class 'int'>\n",
      "                 max_mana <class 'float'>\n",
      "                    level <class 'int'>\n",
      "                    kills <class 'int'>\n",
      "                   deaths <class 'int'>\n",
      "                  assists <class 'int'>\n",
      "                   denies <class 'int'>\n",
      " nearby_creep_death_count <class 'int'>\n",
      "------------------------------------------------------------\n"
     ]
    }
   ],
   "source": [
    "types = []\n",
    "for MATCH in tqdm_notebook(read_matches(PATH_TR), total = TOTAL_TR):\n",
    "    for obj in MATCH['objectives']:\n",
    "        types.append(obj['type'])\n",
    "unqiue_types = np.unique(types)\n",
    "topkeys = list(MATCH.keys())\n",
    "\n",
    "print('{:^25}'.format('teamfights'))\n",
    "print('-----------------------')\n",
    "for idx, el in enumerate(list(MATCH['teamfights'][0].keys())):\n",
    "    print('{}) {}'.format(idx+1, el))\n",
    "for idx2, el2 in enumerate(list(MATCH['teamfights'][0]['players'][0].keys())):\n",
    "    print('{:>4}.{}) {}'.format(5, idx2+1, el2)) \n",
    "print('-----------------------\\n\\n')\n",
    "\n",
    "print('{:^35}'.format('objectives'))\n",
    "print('-----------------------------------')\n",
    "for idx3, tp in enumerate(unqiue_types):\n",
    "    print('{:>4}) {}'.format(idx3+1, tp))  \n",
    "print('-----------------------------------\\n\\n')\n",
    "\n",
    "print('{:^55}'.format('players'))\n",
    "print('------------------------------------------------------------')\n",
    "for k, v in MATCH['players'][0].items():\n",
    "    print('{:>25} {}'.format(k, type(v)))\n",
    "print('------------------------------------------------------------')"
   ]
  },
  {
   "cell_type": "markdown",
   "metadata": {},
   "source": [
    "#### Целевой признак"
   ]
  },
  {
   "cell_type": "code",
   "execution_count": 5,
   "metadata": {},
   "outputs": [
    {
     "data": {
      "application/vnd.jupyter.widget-view+json": {
       "model_id": "c26ebc300b1848d285a25e1815ae6b1f",
       "version_major": 2,
       "version_minor": 0
      },
      "text/plain": [
       "HBox(children=(FloatProgress(value=0.0, max=39675.0), HTML(value='')))"
      ]
     },
     "metadata": {},
     "output_type": "display_data"
    },
    {
     "name": "stdout",
     "output_type": "stream",
     "text": [
      "\n"
     ]
    }
   ],
   "source": [
    "target_L = []\n",
    "for MATCH in tqdm_notebook(read_matches(PATH_TR), total = TOTAL_TR):    \n",
    "    target_L.append((MATCH['match_id_hash'], MATCH['targets']['radiant_win']))\n",
    "y_tr = pd.DataFrame.from_records(target_L).set_index(0)[1].astype(int).values"
   ]
  },
  {
   "cell_type": "markdown",
   "metadata": {},
   "source": [
    "#### Глобальные статы"
   ]
  },
  {
   "cell_type": "code",
   "execution_count": 6,
   "metadata": {},
   "outputs": [
    {
     "data": {
      "application/vnd.jupyter.widget-view+json": {
       "model_id": "01dd131803764803b70e4bcf5107ce7b",
       "version_major": 2,
       "version_minor": 0
      },
      "text/plain": [
       "HBox(children=(FloatProgress(value=0.0, max=39675.0), HTML(value='')))"
      ]
     },
     "metadata": {},
     "output_type": "display_data"
    },
    {
     "name": "stdout",
     "output_type": "stream",
     "text": [
      "\n"
     ]
    }
   ],
   "source": [
    "globals_L = []\n",
    "for MATCH in tqdm_notebook(read_matches(PATH_TR), total = TOTAL_TR):\n",
    "    globals_L.append((MATCH['game_time'], MATCH['match_id_hash'],\n",
    "                      MATCH['game_mode'], MATCH['lobby_type']))\n",
    "glob_df = pd.DataFrame.from_records(globals_L)"
   ]
  },
  {
   "cell_type": "code",
   "execution_count": 7,
   "metadata": {},
   "outputs": [],
   "source": [
    "empty_df = pd.DataFrame(index = glob_df[1])"
   ]
  },
  {
   "cell_type": "markdown",
   "metadata": {},
   "source": [
    "#### Чат (длина переписки, интесивность переписки)"
   ]
  },
  {
   "cell_type": "code",
   "execution_count": 8,
   "metadata": {},
   "outputs": [],
   "source": [
    "# messages_L = []\n",
    "# for MATCH in tqdm_notebook(read_matches(PATH_TR), total = TOTAL_TR):\n",
    "#     for msg in MATCH['chat']:\n",
    "#         try:\n",
    "#             messages_L.append((MATCH['match_id_hash'], msg['player_slot']<100,\\\n",
    "#                                np.abs(msg['time']), msg['text'].count('*')))\n",
    "#         except:\n",
    "#             pass\n",
    "# mess_df = pd.DataFrame.from_records(messages_L)\n",
    "# mess_df[4] = mess_df[1].replace({True:1, False:-1}) * mess_df[3]\n",
    "\n",
    "# X_tr = np.column_stack([glob_df.set_index(1),\\\n",
    "#                         empty_df.join(mess_df.groupby(0)[4].sum()),\\\n",
    "#                         empty_df.join(mess_df.groupby([0, 1])[2].apply(lambda x: np.diff(sorted(x)).mean()).unstack())])"
   ]
  },
  {
   "cell_type": "code",
   "execution_count": 9,
   "metadata": {},
   "outputs": [],
   "source": [
    "X_tr = glob_df.set_index(1).values"
   ]
  },
  {
   "cell_type": "markdown",
   "metadata": {},
   "source": [
    "#### Командные сражения"
   ]
  },
  {
   "cell_type": "code",
   "execution_count": 10,
   "metadata": {},
   "outputs": [
    {
     "data": {
      "application/vnd.jupyter.widget-view+json": {
       "model_id": "7d14c18503b5420e84c9533f74a080fc",
       "version_major": 2,
       "version_minor": 0
      },
      "text/plain": [
       "HBox(children=(FloatProgress(value=0.0, max=39675.0), HTML(value='')))"
      ]
     },
     "metadata": {},
     "output_type": "display_data"
    },
    {
     "name": "stdout",
     "output_type": "stream",
     "text": [
      "\n"
     ]
    },
    {
     "data": {
      "application/vnd.jupyter.widget-view+json": {
       "model_id": "36ffc1a51ba84f0b9498e29989df1d36",
       "version_major": 2,
       "version_minor": 0
      },
      "text/plain": [
       "HBox(children=(FloatProgress(value=0.0, max=6.0), HTML(value='')))"
      ]
     },
     "metadata": {},
     "output_type": "display_data"
    },
    {
     "name": "stdout",
     "output_type": "stream",
     "text": [
      "\n"
     ]
    },
    {
     "data": {
      "application/vnd.jupyter.widget-view+json": {
       "model_id": "8a943f1a110e4a65af6583ef24a3bae5",
       "version_major": 2,
       "version_minor": 0
      },
      "text/plain": [
       "HBox(children=(FloatProgress(value=0.0, max=3.0), HTML(value='')))"
      ]
     },
     "metadata": {},
     "output_type": "display_data"
    },
    {
     "name": "stdout",
     "output_type": "stream",
     "text": [
      "\n"
     ]
    }
   ],
   "source": [
    "tf_D = defaultdict(list)\n",
    "for MATCH in tqdm_notebook(read_matches(PATH_TR), total = TOTAL_TR):\n",
    "    idx = MATCH['match_id_hash']\n",
    "    for tf_idx, tf in enumerate(MATCH['teamfights']):\n",
    "        tf_D['glob'].append((idx, tf_idx, abs(tf['start']), abs(tf['end']), abs(tf['last_death']), tf['deaths']))\n",
    "        for player_idx, player in enumerate(tf['players']):\n",
    "            team = 'r' if player_idx<=4 else 'd'            \n",
    "            for k, v in player['deaths_pos'].items():\n",
    "                for k2,v2 in v.items():\n",
    "                    tf_D['deaths_pos'].append((idx, team, k, k2, v2))\n",
    "            for key in ('ability_uses', 'item_uses', 'killed'):\n",
    "                for k, v in player[key].items():\n",
    "                    tf_D[key].append((idx, team, k, v))\n",
    "            for key in ('deaths', 'buybacks', 'damage', 'healing', 'gold_delta', 'xp_delta'):\n",
    "                tf_D[key].append((idx, team, player[key]))\n",
    "                \n",
    "df_tf_glob = pd.DataFrame.from_records(tf_D['glob'])\n",
    "df_tf_glob.columns = ['idx', 'tf_idx', 'start', 'end', 'last_death', 'deaths']\n",
    "df_tf_glob['duration'] = df_tf_glob['end'] - df_tf_glob['start']\n",
    "tf_glob_df = empty_df.join(df_tf_glob.groupby('idx').size().to_frame('count'))\\\n",
    "    .join(df_tf_glob.groupby('idx')['duration'].mean().to_frame('duration_mean'))\n",
    "\n",
    "df_tf_glob['start2'] = df_tf_glob['start'] // 60\n",
    "for ts in np.unique(df_tf_glob['start2']):\n",
    "    tf_glob_df = tf_glob_df.join(df_tf_glob[df_tf_glob['start2']<=ts].groupby('idx').size().to_frame(ts))\n",
    "tf_glob_df = tf_glob_df.join(df_tf_glob.groupby('idx').apply(lambda x: np.mean(x['deaths'])\\\n",
    "                                                / np.sum(x['duration'])).to_frame('death_per_min_tf'))\n",
    "L2_tf = []\n",
    "for key in tqdm_notebook(('deaths', 'buybacks', 'damage', 'healing', 'gold_delta', 'xp_delta')):\n",
    "    _df = pd.DataFrame.from_records(tf_D[key])\n",
    "    _ddf = empty_df.join(_df.groupby([0, 1])[2].sum().unstack())    \n",
    "    L2_tf.append(_ddf.iloc[:, 1] - _ddf.iloc[:, 0])\n",
    "for key in tqdm_notebook(('ability_uses', 'item_uses', 'killed')):\n",
    "    _df = pd.DataFrame.from_records(tf_D[key])\n",
    "    _df[4] = _df[1].replace({'r':1, 'd':-1}) * _df[3]\n",
    "    L2_tf.append(empty_df.join(_df.groupby([0, 2])[4].sum().unstack()))\n",
    "    \n",
    "tf_glob_df = pd.concat([tf_glob_df, pd.concat(L2_tf, 1)], 1)\n",
    "_df = pd.DataFrame.from_records(tf_D['deaths_pos'])\n",
    "_df[5] = _df[2].astype(str) +'_' + _df[3].astype(str)\n",
    "_df[6] = _df[4] * _df[1].replace({'r':1, 'd':-1})\n",
    "\n",
    "X_tr = np.column_stack([X_tr, empty_df.join(_df.groupby([0, 5])[6].sum().unstack())])"
   ]
  },
  {
   "cell_type": "markdown",
   "metadata": {},
   "source": [
    "#### Обжективы (глобальные объекты на карте) (собираем мешок обжективов)"
   ]
  },
  {
   "cell_type": "code",
   "execution_count": 26,
   "metadata": {},
   "outputs": [],
   "source": [
    "obj_L = []\n",
    "for MATCH in tqdm_notebook(read_matches(PATH_TR), total = TOTAL_TR):\n",
    "    idx = MATCH['match_id_hash']  \n",
    "    for obj in MATCH['objectives']:\n",
    "        obj['idx'] = idx\n",
    "        obj_L.append(obj)\n",
    "df = pd.DataFrame.from_records(obj_L)\n",
    "\n",
    "df.loc[df['team'].isna(), 'flag'] = df[df['team'].isna()]['player_slot'].apply(lambda x: 2 if x<100 else 3)\n",
    "df.loc[~df['team'].isna(), 'flag'] = df[~df['team'].isna()]['team']\n",
    "df.loc[df['flag'].isin([60, 100]), 'flag'] = df[df['flag'].isin([60, 100])]['slot'].apply(lambda x: 2 if x<=4 else 3)\n",
    "df['flag'] = df['flag'].replace({2:1, 3:-1})\n",
    "\n",
    "L2 = []\n",
    "for ts in tqdm_notebook(np.unique((df['time']/60).round())):\n",
    "    _subdf = df[df['time']/60 <= ts]\n",
    "    L2.append(empty_df.join(_subdf.groupby(['idx', 'type'])['flag'].sum().unstack()))\n",
    "    L2.append(empty_df.join(_subdf.groupby(['idx', 'type'])['flag'].mean().unstack()))\n",
    "    \n",
    "X_tr = np.column_stack([X_tr, np.column_stack(L2)])"
   ]
  },
  {
   "cell_type": "code",
   "execution_count": 27,
   "metadata": {},
   "outputs": [
    {
     "data": {
      "text/plain": [
       "(39675, 4049)"
      ]
     },
     "execution_count": 27,
     "metadata": {},
     "output_type": "execute_result"
    }
   ],
   "source": [
    "X_tr.shape"
   ]
  },
  {
   "cell_type": "markdown",
   "metadata": {},
   "source": [
    "#### Игроки (конечные числовые характеристики)"
   ]
  },
  {
   "cell_type": "code",
   "execution_count": 28,
   "metadata": {},
   "outputs": [
    {
     "data": {
      "application/vnd.jupyter.widget-view+json": {
       "model_id": "ba4405be4af4492f8bb37b39b3547967",
       "version_major": 2,
       "version_minor": 0
      },
      "text/plain": [
       "HBox(children=(FloatProgress(value=0.0, max=39675.0), HTML(value='')))"
      ]
     },
     "metadata": {},
     "output_type": "display_data"
    },
    {
     "name": "stdout",
     "output_type": "stream",
     "text": [
      "\n"
     ]
    }
   ],
   "source": [
    "numbers = ['assists', 'camps_stacked', 'creeps_stacked', 'deaths', 'denies',\n",
    "           'firstblood_claimed', 'gold', 'health',  'kills',\n",
    "           'level', 'lh', 'max_health', 'max_mana',\n",
    "           'nearby_creep_death_count', 'obs_placed', 'observers_placed',\n",
    "           'roshans_killed','rune_pickups', 'sen_placed', 'stuns', 'teamfight_participation',\n",
    "           'towers_killed', 'xp']\n",
    "\n",
    "D_players = defaultdict(list)\n",
    "for MATCH in tqdm_notebook(read_matches(PATH_TR), total = TOTAL_TR):\n",
    "    idx = MATCH['match_id_hash']  \n",
    "    for player_idx, player in enumerate(MATCH['players']):\n",
    "        team = 'r' if player_idx<=4 else 'd'\n",
    "        for key in numbers:\n",
    "            D_players[key].append((idx, team, player[key]))\n",
    "L3 = []\n",
    "for k, v in tqdm_notebook(D_players.items()):\n",
    "    _df = pd.DataFrame.from_records(v)\n",
    "    L2 = []\n",
    "    for idx, _subdf in tqdm_notebook(_df.groupby(0)):\n",
    "        _subdf_r = _subdf[_subdf[1] == 'r'][2]\n",
    "        _subdf_d = _subdf[_subdf[1] == 'd'][2]\n",
    "        diffs = []\n",
    "        for vr in _subdf_r.values:\n",
    "            for vd in _subdf_d.values:\n",
    "                diffs.append(vr-vd)\n",
    "        diffs = sorted(diffs)\n",
    "        L2.append([idx] + diffs)\n",
    "    L3.append(empty_df.join(pd.DataFrame.from_records(L2).set_index(0)))\n",
    "    \n",
    "X_tr = np.column_stack([X_tr, np.column_stack(L3)])"
   ]
  },
  {
   "cell_type": "code",
   "execution_count": 44,
   "metadata": {},
   "outputs": [
    {
     "data": {
      "application/vnd.jupyter.widget-view+json": {
       "model_id": "09b991ec93aa4a629abfe47761d67579",
       "version_major": 2,
       "version_minor": 0
      },
      "text/plain": [
       "HBox(children=(FloatProgress(value=0.0, max=23.0), HTML(value='')))"
      ]
     },
     "metadata": {},
     "output_type": "display_data"
    },
    {
     "data": {
      "application/vnd.jupyter.widget-view+json": {
       "model_id": "fcae5eeb722049908263405b27fa18be",
       "version_major": 2,
       "version_minor": 0
      },
      "text/plain": [
       "HBox(children=(FloatProgress(value=0.0, max=39675.0), HTML(value='')))"
      ]
     },
     "metadata": {},
     "output_type": "display_data"
    },
    {
     "name": "stdout",
     "output_type": "stream",
     "text": [
      "\n"
     ]
    },
    {
     "data": {
      "application/vnd.jupyter.widget-view+json": {
       "model_id": "74a4f170581c476bb803d8b16eea8cb2",
       "version_major": 2,
       "version_minor": 0
      },
      "text/plain": [
       "HBox(children=(FloatProgress(value=0.0, max=39675.0), HTML(value='')))"
      ]
     },
     "metadata": {},
     "output_type": "display_data"
    },
    {
     "name": "stdout",
     "output_type": "stream",
     "text": [
      "\n"
     ]
    },
    {
     "data": {
      "application/vnd.jupyter.widget-view+json": {
       "model_id": "234aa55a79ab4464af0edd1b8240dd2b",
       "version_major": 2,
       "version_minor": 0
      },
      "text/plain": [
       "HBox(children=(FloatProgress(value=0.0, max=39675.0), HTML(value='')))"
      ]
     },
     "metadata": {},
     "output_type": "display_data"
    },
    {
     "name": "stdout",
     "output_type": "stream",
     "text": [
      "\n"
     ]
    },
    {
     "data": {
      "application/vnd.jupyter.widget-view+json": {
       "model_id": "854639792608494d9e2f131a9359b733",
       "version_major": 2,
       "version_minor": 0
      },
      "text/plain": [
       "HBox(children=(FloatProgress(value=0.0, max=39675.0), HTML(value='')))"
      ]
     },
     "metadata": {},
     "output_type": "display_data"
    },
    {
     "name": "stdout",
     "output_type": "stream",
     "text": [
      "\n"
     ]
    },
    {
     "data": {
      "application/vnd.jupyter.widget-view+json": {
       "model_id": "58819e8a1dd94899bb6134c43ddd5491",
       "version_major": 2,
       "version_minor": 0
      },
      "text/plain": [
       "HBox(children=(FloatProgress(value=0.0, max=39675.0), HTML(value='')))"
      ]
     },
     "metadata": {},
     "output_type": "display_data"
    },
    {
     "name": "stdout",
     "output_type": "stream",
     "text": [
      "\n"
     ]
    },
    {
     "data": {
      "application/vnd.jupyter.widget-view+json": {
       "model_id": "7e8831c162d14742adea9660455b3f9f",
       "version_major": 2,
       "version_minor": 0
      },
      "text/plain": [
       "HBox(children=(FloatProgress(value=0.0, max=39675.0), HTML(value='')))"
      ]
     },
     "metadata": {},
     "output_type": "display_data"
    },
    {
     "name": "stdout",
     "output_type": "stream",
     "text": [
      "\n"
     ]
    },
    {
     "data": {
      "application/vnd.jupyter.widget-view+json": {
       "model_id": "4f3f6f7ff5b047f39ba509c2f07a0188",
       "version_major": 2,
       "version_minor": 0
      },
      "text/plain": [
       "HBox(children=(FloatProgress(value=0.0, max=39675.0), HTML(value='')))"
      ]
     },
     "metadata": {},
     "output_type": "display_data"
    },
    {
     "name": "stdout",
     "output_type": "stream",
     "text": [
      "\n"
     ]
    },
    {
     "data": {
      "application/vnd.jupyter.widget-view+json": {
       "model_id": "a2dcf59ce49a43e884fe677e20353cbb",
       "version_major": 2,
       "version_minor": 0
      },
      "text/plain": [
       "HBox(children=(FloatProgress(value=0.0, max=39675.0), HTML(value='')))"
      ]
     },
     "metadata": {},
     "output_type": "display_data"
    },
    {
     "name": "stdout",
     "output_type": "stream",
     "text": [
      "\n"
     ]
    },
    {
     "data": {
      "application/vnd.jupyter.widget-view+json": {
       "model_id": "247069ad694d4add9d62e70bfaa29a47",
       "version_major": 2,
       "version_minor": 0
      },
      "text/plain": [
       "HBox(children=(FloatProgress(value=0.0, max=39675.0), HTML(value='')))"
      ]
     },
     "metadata": {},
     "output_type": "display_data"
    },
    {
     "name": "stdout",
     "output_type": "stream",
     "text": [
      "\n"
     ]
    },
    {
     "data": {
      "application/vnd.jupyter.widget-view+json": {
       "model_id": "09ec35ffd5e64c779de924ae409efb3d",
       "version_major": 2,
       "version_minor": 0
      },
      "text/plain": [
       "HBox(children=(FloatProgress(value=0.0, max=39675.0), HTML(value='')))"
      ]
     },
     "metadata": {},
     "output_type": "display_data"
    },
    {
     "name": "stdout",
     "output_type": "stream",
     "text": [
      "\n"
     ]
    },
    {
     "data": {
      "application/vnd.jupyter.widget-view+json": {
       "model_id": "0440708576a74f6cb379244a09e0718a",
       "version_major": 2,
       "version_minor": 0
      },
      "text/plain": [
       "HBox(children=(FloatProgress(value=0.0, max=39675.0), HTML(value='')))"
      ]
     },
     "metadata": {},
     "output_type": "display_data"
    },
    {
     "name": "stdout",
     "output_type": "stream",
     "text": [
      "\n"
     ]
    },
    {
     "data": {
      "application/vnd.jupyter.widget-view+json": {
       "model_id": "4e708ebc096e47a48e9b7c948a090762",
       "version_major": 2,
       "version_minor": 0
      },
      "text/plain": [
       "HBox(children=(FloatProgress(value=0.0, max=39675.0), HTML(value='')))"
      ]
     },
     "metadata": {},
     "output_type": "display_data"
    },
    {
     "name": "stdout",
     "output_type": "stream",
     "text": [
      "\n"
     ]
    },
    {
     "data": {
      "application/vnd.jupyter.widget-view+json": {
       "model_id": "26e2f200c38347899238148418b289ae",
       "version_major": 2,
       "version_minor": 0
      },
      "text/plain": [
       "HBox(children=(FloatProgress(value=0.0, max=39675.0), HTML(value='')))"
      ]
     },
     "metadata": {},
     "output_type": "display_data"
    },
    {
     "name": "stdout",
     "output_type": "stream",
     "text": [
      "\n"
     ]
    },
    {
     "data": {
      "application/vnd.jupyter.widget-view+json": {
       "model_id": "afbdfb306af5469ba6613920b3dd21cf",
       "version_major": 2,
       "version_minor": 0
      },
      "text/plain": [
       "HBox(children=(FloatProgress(value=0.0, max=39675.0), HTML(value='')))"
      ]
     },
     "metadata": {},
     "output_type": "display_data"
    },
    {
     "name": "stdout",
     "output_type": "stream",
     "text": [
      "\n"
     ]
    },
    {
     "data": {
      "application/vnd.jupyter.widget-view+json": {
       "model_id": "f6a669b90f52417d9617543d965f5492",
       "version_major": 2,
       "version_minor": 0
      },
      "text/plain": [
       "HBox(children=(FloatProgress(value=0.0, max=39675.0), HTML(value='')))"
      ]
     },
     "metadata": {},
     "output_type": "display_data"
    },
    {
     "name": "stdout",
     "output_type": "stream",
     "text": [
      "\n"
     ]
    },
    {
     "data": {
      "application/vnd.jupyter.widget-view+json": {
       "model_id": "b3f2b120bfbf457495e7820d1f0787b5",
       "version_major": 2,
       "version_minor": 0
      },
      "text/plain": [
       "HBox(children=(FloatProgress(value=0.0, max=39675.0), HTML(value='')))"
      ]
     },
     "metadata": {},
     "output_type": "display_data"
    },
    {
     "name": "stdout",
     "output_type": "stream",
     "text": [
      "\n"
     ]
    },
    {
     "data": {
      "application/vnd.jupyter.widget-view+json": {
       "model_id": "36b45ae047724d019ca00a8687d48757",
       "version_major": 2,
       "version_minor": 0
      },
      "text/plain": [
       "HBox(children=(FloatProgress(value=0.0, max=39675.0), HTML(value='')))"
      ]
     },
     "metadata": {},
     "output_type": "display_data"
    },
    {
     "name": "stdout",
     "output_type": "stream",
     "text": [
      "\n"
     ]
    },
    {
     "data": {
      "application/vnd.jupyter.widget-view+json": {
       "model_id": "bb9c87bf57a94aa587654295cf39cc1b",
       "version_major": 2,
       "version_minor": 0
      },
      "text/plain": [
       "HBox(children=(FloatProgress(value=0.0, max=39675.0), HTML(value='')))"
      ]
     },
     "metadata": {},
     "output_type": "display_data"
    },
    {
     "name": "stdout",
     "output_type": "stream",
     "text": [
      "\n"
     ]
    },
    {
     "data": {
      "application/vnd.jupyter.widget-view+json": {
       "model_id": "679b62ac3f5b41d8b290d7d26822d8b8",
       "version_major": 2,
       "version_minor": 0
      },
      "text/plain": [
       "HBox(children=(FloatProgress(value=0.0, max=39675.0), HTML(value='')))"
      ]
     },
     "metadata": {},
     "output_type": "display_data"
    },
    {
     "name": "stdout",
     "output_type": "stream",
     "text": [
      "\n"
     ]
    },
    {
     "data": {
      "application/vnd.jupyter.widget-view+json": {
       "model_id": "27b32eabf1e74fc2853b58f51f72cbf5",
       "version_major": 2,
       "version_minor": 0
      },
      "text/plain": [
       "HBox(children=(FloatProgress(value=0.0, max=39675.0), HTML(value='')))"
      ]
     },
     "metadata": {},
     "output_type": "display_data"
    },
    {
     "name": "stdout",
     "output_type": "stream",
     "text": [
      "\n"
     ]
    },
    {
     "data": {
      "application/vnd.jupyter.widget-view+json": {
       "model_id": "84fbd709b5b746699a061458ce788616",
       "version_major": 2,
       "version_minor": 0
      },
      "text/plain": [
       "HBox(children=(FloatProgress(value=0.0, max=39675.0), HTML(value='')))"
      ]
     },
     "metadata": {},
     "output_type": "display_data"
    },
    {
     "name": "stdout",
     "output_type": "stream",
     "text": [
      "\n"
     ]
    },
    {
     "data": {
      "application/vnd.jupyter.widget-view+json": {
       "model_id": "a6edde7c37264b83a0b43755440f853e",
       "version_major": 2,
       "version_minor": 0
      },
      "text/plain": [
       "HBox(children=(FloatProgress(value=0.0, max=39675.0), HTML(value='')))"
      ]
     },
     "metadata": {},
     "output_type": "display_data"
    },
    {
     "name": "stdout",
     "output_type": "stream",
     "text": [
      "\n"
     ]
    },
    {
     "data": {
      "application/vnd.jupyter.widget-view+json": {
       "model_id": "2784beaf46184751bbf22abacac4d36c",
       "version_major": 2,
       "version_minor": 0
      },
      "text/plain": [
       "HBox(children=(FloatProgress(value=0.0, max=39675.0), HTML(value='')))"
      ]
     },
     "metadata": {},
     "output_type": "display_data"
    },
    {
     "name": "stdout",
     "output_type": "stream",
     "text": [
      "\n",
      "\n"
     ]
    }
   ],
   "source": []
  },
  {
   "cell_type": "markdown",
   "metadata": {},
   "source": [
    "#### Игроки (герои, координаты)"
   ]
  },
  {
   "cell_type": "code",
   "execution_count": 46,
   "metadata": {},
   "outputs": [
    {
     "data": {
      "application/vnd.jupyter.widget-view+json": {
       "model_id": "acd484a6cb5349ce88b196ff61a92ef9",
       "version_major": 2,
       "version_minor": 0
      },
      "text/plain": [
       "HBox(children=(FloatProgress(value=0.0, max=39675.0), HTML(value='')))"
      ]
     },
     "metadata": {},
     "output_type": "display_data"
    },
    {
     "name": "stdout",
     "output_type": "stream",
     "text": [
      "\n"
     ]
    },
    {
     "data": {
      "text/plain": [
       "4"
      ]
     },
     "execution_count": 46,
     "metadata": {},
     "output_type": "execute_result"
    }
   ],
   "source": [
    "for MATCH in tqdm_notebook(read_matches(PATH_TR), total = TOTAL_TR):\n",
    "    idx = MATCH['match_id_hash']  \n",
    "    for player_idx, player in enumerate(MATCH['players']):\n",
    "        team = 'r' if player_idx<=4 else 'd'\n",
    "        for key in ('hero_id','x', 'y'):\n",
    "            D_players[key].append((idx, team, player[key]))\n",
    "            \n",
    "hero_coords_L = [] \n",
    "for key in ('hero_id','x', 'y'):\n",
    "    _df = pd.DataFrame.from_records(D_players[key])\n",
    "    _df[1] = _df[1].replace({'r':1, 'd':-1})\n",
    "    hero_coords_L.append(empty_df.join(_df.groupby([0, 2])[1].sum().unstack())) \n",
    "    \n",
    "X_tr  = np.column_stack([X_tr, np.column_stack(hero_coords_L)])\n",
    "del hero_coords_L\n",
    "gc.collect()"
   ]
  },
  {
   "cell_type": "markdown",
   "metadata": {},
   "source": [
    "#### Игроки (золото, ласт хиты, денаи, опыт с течением времени)"
   ]
  },
  {
   "cell_type": "code",
   "execution_count": 47,
   "metadata": {},
   "outputs": [
    {
     "data": {
      "application/vnd.jupyter.widget-view+json": {
       "model_id": "30b72491019c4c8f868d7fe8761416ba",
       "version_major": 2,
       "version_minor": 0
      },
      "text/plain": [
       "HBox(children=(FloatProgress(value=0.0, max=39675.0), HTML(value='')))"
      ]
     },
     "metadata": {},
     "output_type": "display_data"
    },
    {
     "name": "stdout",
     "output_type": "stream",
     "text": [
      "\n"
     ]
    },
    {
     "data": {
      "application/vnd.jupyter.widget-view+json": {
       "model_id": "b29d5232923a423dbc7b0be6a95e3e50",
       "version_major": 2,
       "version_minor": 0
      },
      "text/plain": [
       "HBox(children=(FloatProgress(value=0.0, max=4.0), HTML(value='')))"
      ]
     },
     "metadata": {},
     "output_type": "display_data"
    },
    {
     "data": {
      "application/vnd.jupyter.widget-view+json": {
       "model_id": "8225728021b94adc8bebdb3cfc97e266",
       "version_major": 2,
       "version_minor": 0
      },
      "text/plain": [
       "HBox(children=(FloatProgress(value=0.0, max=39668.0), HTML(value='')))"
      ]
     },
     "metadata": {},
     "output_type": "display_data"
    },
    {
     "name": "stdout",
     "output_type": "stream",
     "text": [
      "\n"
     ]
    },
    {
     "data": {
      "application/vnd.jupyter.widget-view+json": {
       "model_id": "034f85dfb8664e97a13e378e335fbdfa",
       "version_major": 2,
       "version_minor": 0
      },
      "text/plain": [
       "HBox(children=(FloatProgress(value=0.0, max=39668.0), HTML(value='')))"
      ]
     },
     "metadata": {},
     "output_type": "display_data"
    },
    {
     "name": "stdout",
     "output_type": "stream",
     "text": [
      "\n"
     ]
    },
    {
     "data": {
      "application/vnd.jupyter.widget-view+json": {
       "model_id": "76617ea4ec454b1b8963bbbd7a27c4e3",
       "version_major": 2,
       "version_minor": 0
      },
      "text/plain": [
       "HBox(children=(FloatProgress(value=0.0, max=39668.0), HTML(value='')))"
      ]
     },
     "metadata": {},
     "output_type": "display_data"
    },
    {
     "name": "stdout",
     "output_type": "stream",
     "text": [
      "\n"
     ]
    },
    {
     "data": {
      "application/vnd.jupyter.widget-view+json": {
       "model_id": "d26201a6635d431ea1a30f8b199f8e23",
       "version_major": 2,
       "version_minor": 0
      },
      "text/plain": [
       "HBox(children=(FloatProgress(value=0.0, max=39668.0), HTML(value='')))"
      ]
     },
     "metadata": {},
     "output_type": "display_data"
    },
    {
     "name": "stdout",
     "output_type": "stream",
     "text": [
      "\n",
      "\n"
     ]
    },
    {
     "data": {
      "text/plain": [
       "25"
      ]
     },
     "execution_count": 47,
     "metadata": {},
     "output_type": "execute_result"
    }
   ],
   "source": [
    "ts_keys = ['gold_t', 'xp_t', 'lh_t', 'dn_t']\n",
    "ts_D = defaultdict(list)\n",
    "for MATCH in tqdm_notebook(read_matches(PATH_TR), total = TOTAL_TR):\n",
    "    idx = MATCH['match_id_hash']  \n",
    "    for player_idx, player in enumerate(MATCH['players']):\n",
    "        team = 'r' if player_idx<=4 else 'd'\n",
    "        for key in ts_keys:\n",
    "            for element_idx, element in enumerate(player[key]):\n",
    "                ts_D[key].append((idx, team, element_idx, element))\n",
    "                \n",
    "ts_L = []\n",
    "for k, v in tqdm_notebook(ts_D.items()):    \n",
    "    _df = pd.DataFrame.from_records(v)\n",
    "    _df[1] = _df[1].replace({'r':1, 'd':-1})\n",
    "    _df[3] = _df[1] * _df[3]\n",
    "    _df = _df.drop(1, axis = 1)\n",
    "    _ddf = _df.groupby([0, 2])[3].mean().unstack()\n",
    "    \n",
    "    _L = []\n",
    "    for i in tqdm_notebook(range(len(_ddf))):\n",
    "        ser = _ddf.iloc[i].dropna()\n",
    "        from itertools import groupby\n",
    "        L = []\n",
    "        for k, v in groupby(ser.values, key = lambda x: x<0):\n",
    "            L.append((k, len(list(v))/len(ser)))\n",
    "        L_ser = pd.DataFrame.from_records(L).groupby(0)[1].max()\n",
    "        try:\n",
    "            fs = L_ser[False]\n",
    "        except:\n",
    "            fs = np.nan\n",
    "        try:\n",
    "            tr = L_ser[True]\n",
    "        except:\n",
    "            tr = np.nan\n",
    "\n",
    "        _L.append((ser.name, (ser < 0).mean(), ser.diff().dropna().mean(), tr, fs))\n",
    "    ts_L.append(empty_df.join(pd.DataFrame.from_records(_L).set_index(0)        ))\n",
    "X_tr  = np.column_stack([X_tr,np.column_stack(ts_L)])\n",
    "del ts_D, ts_L\n",
    "gc.collect()"
   ]
  },
  {
   "cell_type": "markdown",
   "metadata": {},
   "source": [
    "#### Игроки (апгрейд умений)"
   ]
  },
  {
   "cell_type": "code",
   "execution_count": 48,
   "metadata": {},
   "outputs": [
    {
     "data": {
      "application/vnd.jupyter.widget-view+json": {
       "model_id": "6553ec8e20974366a76f00204e8fba24",
       "version_major": 2,
       "version_minor": 0
      },
      "text/plain": [
       "HBox(children=(FloatProgress(value=0.0, max=39675.0), HTML(value='')))"
      ]
     },
     "metadata": {},
     "output_type": "display_data"
    },
    {
     "name": "stdout",
     "output_type": "stream",
     "text": [
      "\n"
     ]
    }
   ],
   "source": [
    "abil_upgrades_L = []\n",
    "for MATCH in tqdm_notebook(read_matches(PATH_TR), total = TOTAL_TR):\n",
    "    idx = MATCH['match_id_hash']  \n",
    "    for player_idx, player in enumerate(MATCH['players']):\n",
    "        team = 'r' if player_idx<=4 else 'd'\n",
    "        for upgrade in player['ability_upgrades']:\n",
    "            upgrade['idx'] = idx\n",
    "            upgrade['team'] = team\n",
    "            abil_upgrades_L.append(upgrade)\n",
    "_df = pd.DataFrame.from_records(abil_upgrades_L)\n",
    "_df['time'] = _df['time'].abs()\n",
    "X_tr  = np.column_stack([X_tr, empty_df.join(_df.groupby(['idx', 'team'])['time']\\\n",
    "                                                .apply(lambda x: np.diff(sorted(x)).mean()).unstack())])"
   ]
  },
  {
   "cell_type": "markdown",
   "metadata": {},
   "source": [
    "#### Игроки (buyback:выкуп мертвого героя)"
   ]
  },
  {
   "cell_type": "code",
   "execution_count": 50,
   "metadata": {},
   "outputs": [
    {
     "data": {
      "application/vnd.jupyter.widget-view+json": {
       "model_id": "21c95446a8ef425ab5267c02b5a56748",
       "version_major": 2,
       "version_minor": 0
      },
      "text/plain": [
       "HBox(children=(FloatProgress(value=0.0, max=39675.0), HTML(value='')))"
      ]
     },
     "metadata": {},
     "output_type": "display_data"
    },
    {
     "name": "stdout",
     "output_type": "stream",
     "text": [
      "\n"
     ]
    },
    {
     "data": {
      "text/plain": [
       "4"
      ]
     },
     "execution_count": 50,
     "metadata": {},
     "output_type": "execute_result"
    }
   ],
   "source": [
    "bb_log_L = []\n",
    "for MATCH in tqdm_notebook(read_matches(PATH_TR), total = TOTAL_TR):\n",
    "    idx = MATCH['match_id_hash']  \n",
    "    for player_idx, player in enumerate(MATCH['players']):\n",
    "        team = 'r' if player_idx<=4 else 'd'\n",
    "        for bb_log in player['buyback_log']:\n",
    "            bb_log_L.append((idx, ('r' if bb_log['player_slot'] < 100 else 'd'), np.abs(bb_log['time'])))\n",
    "_df = pd.DataFrame.from_records(bb_log_L)\n",
    "X_tr  = np.column_stack([X_tr,empty_df.join(_df.groupby([0, 1])[2].apply(lambda x: np.diff(sorted(x)).mean()).unstack())])\n",
    "del bb_log_L, _df\n",
    "gc.collect()"
   ]
  },
  {
   "cell_type": "markdown",
   "metadata": {},
   "source": [
    "#### Игроки (hero inventory: инвентарь героя)"
   ]
  },
  {
   "cell_type": "code",
   "execution_count": 51,
   "metadata": {},
   "outputs": [
    {
     "data": {
      "application/vnd.jupyter.widget-view+json": {
       "model_id": "67713615527545d7bbf6f455ed84e1c4",
       "version_major": 2,
       "version_minor": 0
      },
      "text/plain": [
       "HBox(children=(FloatProgress(value=0.0, max=39675.0), HTML(value='')))"
      ]
     },
     "metadata": {},
     "output_type": "display_data"
    },
    {
     "name": "stdout",
     "output_type": "stream",
     "text": [
      "\n"
     ]
    },
    {
     "data": {
      "text/plain": [
       "17"
      ]
     },
     "execution_count": 51,
     "metadata": {},
     "output_type": "execute_result"
    }
   ],
   "source": [
    "inv_L = []\n",
    "for MATCH in tqdm_notebook(read_matches(PATH_TR), total = TOTAL_TR):\n",
    "    idx = MATCH['match_id_hash']  \n",
    "    for player_idx, player in enumerate(MATCH['players']):\n",
    "        team = 'r' if player_idx<=4 else 'd'\n",
    "        for item in player['hero_inventory']:\n",
    "            try:\n",
    "                inv_L.append((idx, team, item['id'], item['cooldown']))\n",
    "            except:\n",
    "                pass\n",
    "_df = pd.DataFrame.from_records(inv_L)  \n",
    "_df[4] = _df[3] * _df[1].replace({'r':1, 'd':-1})\n",
    "X_tr  = np.column_stack([X_tr, empty_df.join(_df.groupby([0, 2])[4].sum().unstack()),\\\n",
    "                               empty_df.join(_df.groupby([0, 2])[4].mean().unstack())])\n",
    "del inv_L, _df\n",
    "gc.collect()"
   ]
  },
  {
   "cell_type": "markdown",
   "metadata": {},
   "source": [
    "#### Игроки (kills log: логи убийств)"
   ]
  },
  {
   "cell_type": "code",
   "execution_count": 52,
   "metadata": {},
   "outputs": [
    {
     "data": {
      "application/vnd.jupyter.widget-view+json": {
       "model_id": "31452f2990bc47ab89e7b0682ff88de7",
       "version_major": 2,
       "version_minor": 0
      },
      "text/plain": [
       "HBox(children=(FloatProgress(value=0.0, max=39675.0), HTML(value='')))"
      ]
     },
     "metadata": {},
     "output_type": "display_data"
    },
    {
     "name": "stdout",
     "output_type": "stream",
     "text": [
      "\n"
     ]
    },
    {
     "data": {
      "text/plain": [
       "4"
      ]
     },
     "execution_count": 52,
     "metadata": {},
     "output_type": "execute_result"
    }
   ],
   "source": [
    "kl_L = []\n",
    "for MATCH in tqdm_notebook(read_matches(PATH_TR), total = TOTAL_TR):\n",
    "    idx = MATCH['match_id_hash']  \n",
    "    for player_idx, player in enumerate(MATCH['players']):\n",
    "        team = 'r' if player_idx<=4 else 'd'\n",
    "        for log in player['kills_log']:\n",
    "            kl_L.append((idx, team, np.abs(log['time'])))\n",
    "            \n",
    "_df = pd.DataFrame.from_records(kl_L)  \n",
    "X_tr  = np.column_stack([X_tr, empty_df.join(_df.groupby([0, 1])[2].apply(lambda x: np.diff(sorted(x)).mean()).unstack())])\n",
    "del kl_L, _df\n",
    "gc.collect()"
   ]
  },
  {
   "cell_type": "markdown",
   "metadata": {},
   "source": [
    "#### Игроки (purchase log: логи покупок)"
   ]
  },
  {
   "cell_type": "code",
   "execution_count": 53,
   "metadata": {},
   "outputs": [
    {
     "data": {
      "application/vnd.jupyter.widget-view+json": {
       "model_id": "1304d59fc9604d62ad0f289d45549134",
       "version_major": 2,
       "version_minor": 0
      },
      "text/plain": [
       "HBox(children=(FloatProgress(value=0.0, max=39675.0), HTML(value='')))"
      ]
     },
     "metadata": {},
     "output_type": "display_data"
    },
    {
     "name": "stdout",
     "output_type": "stream",
     "text": [
      "\n"
     ]
    },
    {
     "data": {
      "text/plain": [
       "4"
      ]
     },
     "execution_count": 53,
     "metadata": {},
     "output_type": "execute_result"
    }
   ],
   "source": [
    "pc_L = []\n",
    "rn_L = []\n",
    "for MATCH in tqdm_notebook(read_matches(PATH_TR), total = TOTAL_TR):\n",
    "    idx = MATCH['match_id_hash']  \n",
    "    for player_idx, player in enumerate(MATCH['players']):\n",
    "        team = 'r' if player_idx<=4 else 'd'\n",
    "        for log in player['purchase_log']:\n",
    "            pc_L.append((idx, team, np.abs(log['time']), log['key']))\n",
    "        for log in player['runes_log']:\n",
    "            rn_L.append((idx, team, np.abs(log['time']), log['key']))\n",
    "_df = pd.DataFrame.from_records(pc_L) \n",
    "_df[1] = _df[1].replace({'r':1, 'd':-1})\n",
    "X_tr  = np.column_stack([X_tr, empty_df.join(_df.groupby([0, 3])[1].sum().unstack()),\\\n",
    "                               empty_df.join(_df.groupby([0, 3])[1].mean().unstack())])\n",
    "\n",
    "_df = pd.DataFrame.from_records(rn_L) \n",
    "_df[1] = _df[1].replace({'r':1, 'd':-1})\n",
    "X_tr  = np.column_stack([X_tr, empty_df.join(_df.groupby([0, 3])[1].sum().unstack()),\\\n",
    "                               empty_df.join(_df.groupby([0, 3])[1].mean().unstack())])\n",
    "\n",
    "del pc_L, _df, rn_L\n",
    "gc.collect()\n"
   ]
  },
  {
   "cell_type": "markdown",
   "metadata": {},
   "source": [
    "#### Игроки (логи вардов)"
   ]
  },
  {
   "cell_type": "code",
   "execution_count": 54,
   "metadata": {},
   "outputs": [
    {
     "data": {
      "application/vnd.jupyter.widget-view+json": {
       "model_id": "f94740739d1f49e7ad3be2537d91b306",
       "version_major": 2,
       "version_minor": 0
      },
      "text/plain": [
       "HBox(children=(FloatProgress(value=0.0, max=39675.0), HTML(value='')))"
      ]
     },
     "metadata": {},
     "output_type": "display_data"
    },
    {
     "name": "stdout",
     "output_type": "stream",
     "text": [
      "\n"
     ]
    },
    {
     "data": {
      "application/vnd.jupyter.widget-view+json": {
       "model_id": "011dd13d02a74ba3b1dfb7e60f4092c4",
       "version_major": 2,
       "version_minor": 0
      },
      "text/plain": [
       "HBox(children=(FloatProgress(value=0.0, max=4.0), HTML(value='')))"
      ]
     },
     "metadata": {},
     "output_type": "display_data"
    },
    {
     "name": "stdout",
     "output_type": "stream",
     "text": [
      "\n"
     ]
    },
    {
     "data": {
      "text/plain": [
       "79"
      ]
     },
     "execution_count": 54,
     "metadata": {},
     "output_type": "execute_result"
    }
   ],
   "source": [
    "D = defaultdict(list)\n",
    "logs = ['obs_left_log', 'obs_log', 'sen_left_log', 'sen_log']\n",
    "for MATCH in tqdm_notebook(read_matches(PATH_TR), total = TOTAL_TR):\n",
    "    idx = MATCH['match_id_hash']  \n",
    "    for player_idx, player in enumerate(MATCH['players']):\n",
    "        team = 'r' if player_idx<=4 else 'd'\n",
    "        for key in logs: \n",
    "            for element in player[key]:\n",
    "                D[key].append((idx, team, str(element['x'] // 10)+'_'+str(element['y'] // 10)+'_'+str(element['z'] // 10)))\n",
    "            \n",
    "            \n",
    "_logs_L = []\n",
    "for k, v in tqdm_notebook(D.items()):\n",
    "    _df = pd.DataFrame.from_records(v)\n",
    "    _df[1] = _df[1].replace({'r':1, 'd':-1})\n",
    "    _logs_L.append(empty_df.join(_df.groupby([0, 2])[1].sum().unstack()))  \n",
    "    _logs_L.append(empty_df.join(_df.groupby([0, 2])[1].mean().unstack()))  \n",
    "    \n",
    "X_tr  = np.column_stack([X_tr, np.column_stack(_logs_L)])\n",
    "del D, _logs_L, _df\n",
    "gc.collect()"
   ]
  },
  {
   "cell_type": "markdown",
   "metadata": {},
   "source": [
    "#### Игроки (использованные умения, айтемы)"
   ]
  },
  {
   "cell_type": "code",
   "execution_count": 55,
   "metadata": {},
   "outputs": [
    {
     "data": {
      "application/vnd.jupyter.widget-view+json": {
       "model_id": "9dfdeedfcb894932a52faffc25b7c430",
       "version_major": 2,
       "version_minor": 0
      },
      "text/plain": [
       "HBox(children=(FloatProgress(value=0.0, max=39675.0), HTML(value='')))"
      ]
     },
     "metadata": {},
     "output_type": "display_data"
    },
    {
     "name": "stdout",
     "output_type": "stream",
     "text": [
      "\n"
     ]
    }
   ],
   "source": [
    "abil_uses_L = []\n",
    "item_uses_L = []\n",
    "for MATCH in tqdm_notebook(read_matches(PATH_TR), total = TOTAL_TR):\n",
    "    idx = MATCH['match_id_hash']  \n",
    "    for player_idx, player in enumerate(MATCH['players']):\n",
    "        team = 'r' if player_idx<=4 else 'd'\n",
    "        for k, v in player['ability_uses'].items():\n",
    "            abil_uses_L.append((idx, team, k, v))\n",
    "        for k, v in player['item_uses'].items():\n",
    "            item_uses_L.append((idx, team, k, v))\n",
    "_df = pd.DataFrame.from_records(abil_uses_L)\n",
    "_df[1] = _df[1].replace({'r':1, 'd':-1})\n",
    "_df[4] = _df[1]*_df[3]\n",
    "\n",
    "_df2 = pd.DataFrame.from_records(item_uses_L)\n",
    "_df2[1] = _df2[1].replace({'r':1, 'd':-1})\n",
    "_df2[4] = _df2[1]*_df2[3]\n",
    "\n",
    "X_tr = np.column_stack([X_tr, np.column_stack([empty_df.join(_df.groupby([0, 2])[4].sum().unstack()),\\\n",
    "                                               empty_df.join(_df2.groupby([0, 2])[4].sum().unstack()),\\\n",
    "                                               empty_df.join(_df.groupby([0, 2])[4].mean().unstack()),\\\n",
    "                                               empty_df.join(_df2.groupby([0, 2])[4].mean().unstack())])])        "
   ]
  },
  {
   "cell_type": "markdown",
   "metadata": {},
   "source": [
    "#### Игроки (действия, причины получения золотта, серии убийств, мульти убийства, пинги, причины получения опыта)"
   ]
  },
  {
   "cell_type": "code",
   "execution_count": 56,
   "metadata": {},
   "outputs": [
    {
     "data": {
      "application/vnd.jupyter.widget-view+json": {
       "model_id": "7a09fbd36ffa4660be0457bdc02ed49e",
       "version_major": 2,
       "version_minor": 0
      },
      "text/plain": [
       "HBox(children=(FloatProgress(value=0.0, max=39675.0), HTML(value='')))"
      ]
     },
     "metadata": {},
     "output_type": "display_data"
    },
    {
     "name": "stdout",
     "output_type": "stream",
     "text": [
      "\n"
     ]
    },
    {
     "data": {
      "text/plain": [
       "4"
      ]
     },
     "execution_count": 56,
     "metadata": {},
     "output_type": "execute_result"
    }
   ],
   "source": [
    "LL = ['actions', 'gold_reasons', 'kill_streaks', 'life_state', 'multi_kills', 'pings', 'xp_reasons']\n",
    "D = defaultdict(list)\n",
    "for MATCH in tqdm_notebook(read_matches(PATH_TR), total = TOTAL_TR):\n",
    "    idx = MATCH['match_id_hash']  \n",
    "    for player_idx, player in enumerate(MATCH['players']):\n",
    "        team = 'r' if player_idx<=4 else 'd'\n",
    "        for key in LL:\n",
    "            for k, v in player[key].items():\n",
    "                D[key].append((idx, team, k, v))\n",
    "_dfs = []\n",
    "for k, v in D.items():\n",
    "    _df = pd.DataFrame.from_records(v)\n",
    "    _df[4] = _df[1].replace({'r':1, 'd':-1}) * _df[3]\n",
    "    _dfs.append(empty_df.join(_df.groupby([0, 2])[4].sum().unstack()))\n",
    "    _dfs.append(empty_df.join(_df.groupby([0, 2])[4].mean().unstack()))\n",
    "    \n",
    "X_tr = np.column_stack([X_tr,np.column_stack(_dfs)])\n",
    "del D, _dfs, _df\n",
    "gc.collect()"
   ]
  },
  {
   "cell_type": "markdown",
   "metadata": {},
   "source": [
    "#### Игроки (урон)"
   ]
  },
  {
   "cell_type": "code",
   "execution_count": 57,
   "metadata": {},
   "outputs": [
    {
     "data": {
      "application/vnd.jupyter.widget-view+json": {
       "model_id": "370dc1d22d8e42eb8628126fa7898f6c",
       "version_major": 2,
       "version_minor": 0
      },
      "text/plain": [
       "HBox(children=(FloatProgress(value=0.0, max=39675.0), HTML(value='')))"
      ]
     },
     "metadata": {},
     "output_type": "display_data"
    },
    {
     "name": "stdout",
     "output_type": "stream",
     "text": [
      "\n"
     ]
    }
   ],
   "source": [
    "dmg_L = []\n",
    "for MATCH in tqdm_notebook(read_matches(PATH_TR), total = TOTAL_TR):\n",
    "    idx = MATCH['match_id_hash']\n",
    "    for player_idx, player in enumerate(MATCH['players']):\n",
    "        team = 'r' if player_idx<=4 else 'd'   \n",
    "        for k, v in player['damage'].items():\n",
    "            dmg_L.append((idx, team, k, v))\n",
    "_df = pd.DataFrame.from_records(dmg_L)  \n",
    "\n",
    "_df[4] = _df[1].replace({'r':1, 'd':-1}) * _df[3]\n",
    "X_tr = np.column_stack([X_tr,empty_df.join(_df.groupby([0, 2])[4].sum().unstack()),\\\n",
    "                             empty_df.join(_df.groupby([0, 2])[4].mean().unstack())])"
   ]
  },
  {
   "cell_type": "code",
   "execution_count": 59,
   "metadata": {},
   "outputs": [
    {
     "name": "stdout",
     "output_type": "stream",
     "text": [
      "Кол-во признаков = 9008\n"
     ]
    }
   ],
   "source": [
    "print('Кол-во признаков = {}'.format(X_tr.shape[1]))"
   ]
  },
  {
   "cell_type": "code",
   "execution_count": 60,
   "metadata": {},
   "outputs": [],
   "source": [
    "# with open('X_tr.pickle', 'wb') as f:\n",
    "#     pickle.dump(X_tr, f)\n",
    "# with open('y_tr.pickle', 'wb') as f:\n",
    "#     pickle.dump(y_tr, f)"
   ]
  },
  {
   "cell_type": "code",
   "execution_count": 5,
   "metadata": {},
   "outputs": [],
   "source": [
    "# with open('X_tr.pickle', 'rb') as f:\n",
    "#     X_tr = pickle.load(f)\n",
    "# with open('y_tr.pickle', 'rb') as f:\n",
    "#     y_tr = pickle.load(f)"
   ]
  },
  {
   "cell_type": "markdown",
   "metadata": {},
   "source": [
    "#### Отбираем признаки"
   ]
  },
  {
   "cell_type": "code",
   "execution_count": 63,
   "metadata": {},
   "outputs": [],
   "source": [
    "def _select_features(estimator, X, y, cv, scoring, holdout_share, stratify, seed):\n",
    "    \n",
    "    '''Рекурсивно отбирает признаки (в соответствии с метриками на валидационной и на отложенной выборках)'''\n",
    "    \n",
    "    ############################################################################################################\n",
    "    def _get_val_holdout_scores(estimator, _X_TR, _X_HOLDOUT, Y_TR, Y_HOLDOUT, cv, metric):\n",
    "        mean_cv = cross_validate(estimator, _X_TR, Y_TR, cv = cv, scoring = metric)['test_score'].mean()\n",
    "        estimator.fit(X_TR[:, current_features], Y_TR)\n",
    "        Y_PREDPROB = estimator.predict_proba(_X_HOLDOUT)[:, 1]\n",
    "        Y_PRED = estimator.predict(_X_HOLDOUT)\n",
    "        if metric == 'roc_auc':\n",
    "            holdout = roc_auc_score(Y_HOLDOUT, Y_PREDPROB)\n",
    "        if metric == 'accuracy':\n",
    "            holdout = accuracy_score(Y_HOLDOUT, Y_PRED)\n",
    "        if metric == 'precision':\n",
    "            holdout = precision_score(Y_HOLDOUT, Y_PRED)\n",
    "        if metric == 'recall':\n",
    "            holdout = recall_score(Y_HOLDOUT, Y_PRED)\n",
    "        if metric == 'f1':\n",
    "            holdout = f1_score(Y_HOLDOUT, Y_PRED)\n",
    "        return (mean_cv, holdout)\n",
    "    #################################################################################################################\n",
    "    \n",
    "    try:\n",
    "        _X, _y = np.array(X), np.array(y)\n",
    "    except:\n",
    "        _X, _y = X, y\n",
    "        \n",
    "    if stratify:\n",
    "        # разбиваем данные на трейн и отложенную части, сохраняя пропорции таргета\n",
    "        X_TR, X_HOLDOUT, Y_TR, Y_HOLDOUT = train_test_split(_X, _y, stratify = _y,\\\n",
    "                                                            test_size = holdout_share,\\\n",
    "                                                            random_state = seed, shuffle = True)\n",
    "    else:\n",
    "        X_TR, X_HOLDOUT, Y_TR, Y_HOLDOUT = train_test_split(_X, _y, test_size = holdout_share)\n",
    "        \n",
    "    # считаем валидацию каждого признака\n",
    "    scores = []\n",
    "    for i in tqdm_notebook(range(X_TR.shape[1])):\n",
    "        mean_cv = cross_validate(estimator, X_TR[:, i].reshape(-1,1), Y_TR, cv = cv, scoring = scoring)['test_score'].mean()\n",
    "        scores.append(mean_cv)\n",
    "\n",
    "    # сортируем признаки в порядке убывания валидации\n",
    "    order = np.argsort(scores)[::-1]\n",
    "\n",
    "    # лучший набор, лучшая валидация, лучшая отложенная\n",
    "    # бесполезные признаки до и после повторного отбора \n",
    "    best_features, best_cv, best_holdout, to_drop_before, to_drop_after = [], .5, .5, [], []\n",
    "\n",
    "    # по признакам в порядке убывания валидации\n",
    "    for i in tqdm_notebook(order):\n",
    "\n",
    "        # добавляем к писку лучших\n",
    "        current_features = best_features+[i]\n",
    "\n",
    "        # валидация, отложенная\n",
    "        mean_cv, holdout = _get_val_holdout_scores(estimator, X_TR[:, current_features], X_HOLDOUT[:, current_features],\\\n",
    "                                                   Y_TR, Y_HOLDOUT, cv=cv, metric=scoring)\n",
    "\n",
    "        # если оба скора растут\n",
    "        if (mean_cv>best_cv) & (holdout>best_holdout):\n",
    "            # обновляем лучшие скоры, лучшие признаки\n",
    "            best_cv = mean_cv\n",
    "            best_holdout = holdout\n",
    "            best_features = current_features\n",
    "        else:\n",
    "            # если скоры не растут, добавляем признак в претенденты на удаление\n",
    "            to_drop_before.append(i)\n",
    "\n",
    "    # пока списки кандидатов на удаление ДО и ПОСЛЕ отбора не перестанут изменяться\n",
    "    while True:   \n",
    "\n",
    "        # добавляем очередной признак\n",
    "        for i in tqdm_notebook(to_drop_before):\n",
    "            current_features = best_features+[i]\n",
    "            \n",
    "            # валидация, отложенная\n",
    "            mean_cv, holdout = _get_val_holdout_scores(estimator, X_TR[:, current_features], X_HOLDOUT[:, current_features],\\\n",
    "                                                       Y_TR, Y_HOLDOUT, cv=cv, metric=scoring)\n",
    "            \n",
    "            if (mean_cv>best_cv) & (holdout>best_holdout):\n",
    "                best_cv = mean_cv\n",
    "                best_holdout = holdout\n",
    "                best_features = current_features\n",
    "            else:\n",
    "                # выбрасываем, если он не дал улучшений\n",
    "                to_drop_after.append(i)\n",
    "\n",
    "        # если списки признаков до и после отбора не изменились, прекращаем отбор\n",
    "        if len(to_drop_before) == len(to_drop_after):\n",
    "            break\n",
    "        else:\n",
    "            # список до --> список после, список после - пустой\n",
    "            to_drop_before = to_drop_after\n",
    "            to_drop_after = []   \n",
    "            \n",
    "    return (best_cv, best_holdout, best_features)\n",
    "    "
   ]
  },
  {
   "cell_type": "code",
   "execution_count": 64,
   "metadata": {},
   "outputs": [
    {
     "data": {
      "application/vnd.jupyter.widget-view+json": {
       "model_id": "c47f69bffbca42bea9ee6b5826acfdf5",
       "version_major": 2,
       "version_minor": 0
      },
      "text/plain": [
       "HBox(children=(FloatProgress(value=0.0, max=9008.0), HTML(value='')))"
      ]
     },
     "metadata": {},
     "output_type": "display_data"
    },
    {
     "name": "stdout",
     "output_type": "stream",
     "text": [
      "\n"
     ]
    },
    {
     "data": {
      "application/vnd.jupyter.widget-view+json": {
       "model_id": "96ca052ff66849feaa30e33438f50f32",
       "version_major": 2,
       "version_minor": 0
      },
      "text/plain": [
       "HBox(children=(FloatProgress(value=0.0, max=9008.0), HTML(value='')))"
      ]
     },
     "metadata": {},
     "output_type": "display_data"
    },
    {
     "name": "stdout",
     "output_type": "stream",
     "text": [
      "\n"
     ]
    },
    {
     "data": {
      "application/vnd.jupyter.widget-view+json": {
       "model_id": "31aaa874da46466780758aeb55c3a22e",
       "version_major": 2,
       "version_minor": 0
      },
      "text/plain": [
       "HBox(children=(FloatProgress(value=0.0, max=8966.0), HTML(value='')))"
      ]
     },
     "metadata": {},
     "output_type": "display_data"
    },
    {
     "name": "stdout",
     "output_type": "stream",
     "text": [
      "\n"
     ]
    },
    {
     "data": {
      "application/vnd.jupyter.widget-view+json": {
       "model_id": "56ef75547dc64e6e92b91d94db343de1",
       "version_major": 2,
       "version_minor": 0
      },
      "text/plain": [
       "HBox(children=(FloatProgress(value=0.0, max=8965.0), HTML(value='')))"
      ]
     },
     "metadata": {},
     "output_type": "display_data"
    },
    {
     "name": "stdout",
     "output_type": "stream",
     "text": [
      "\n"
     ]
    }
   ],
   "source": [
    "SEED = 13\n",
    "best_cv, best_holdout, best_features = _select_features(estimator=LGBMClassifier(random_state = SEED),\\\n",
    "                                                        X=X_tr, y=y_tr,\\\n",
    "                                                        cv=StratifiedKFold(3, random_state = SEED),\\\n",
    "                                                        scoring='roc_auc',\\\n",
    "                                                        holdout_share=.2, stratify=True, seed=SEED)"
   ]
  },
  {
   "cell_type": "code",
   "execution_count": 65,
   "metadata": {},
   "outputs": [],
   "source": [
    "X_selected_tr = X_tr[:, best_features]"
   ]
  },
  {
   "cell_type": "code",
   "execution_count": 66,
   "metadata": {},
   "outputs": [
    {
     "name": "stdout",
     "output_type": "stream",
     "text": [
      "auc на валидации = 0.8295071267301249\n",
      "auc на отложенной = 0.8330917300607246\n"
     ]
    }
   ],
   "source": [
    "print('auc на валидации = {}\\nauc на отложенной = {}'.format(best_cv, best_holdout))"
   ]
  },
  {
   "cell_type": "code",
   "execution_count": 68,
   "metadata": {},
   "outputs": [],
   "source": [
    "# with open('X_selected_tr.pickle', 'wb') as f:\n",
    "#     pickle.dump(X_selected_tr, f)\n",
    "\n",
    "# with open('X_selected_tr.pickle', 'rb') as f:\n",
    "#     X_selected_tr = pickle.load(f)"
   ]
  },
  {
   "cell_type": "code",
   "execution_count": 51,
   "metadata": {},
   "outputs": [
    {
     "name": "stdout",
     "output_type": "stream",
     "text": [
      "Wall time: 33min 18s\n"
     ]
    },
    {
     "data": {
      "text/plain": [
       "GridSearchCV(cv=StratifiedKFold(n_splits=3, random_state=13, shuffle=False),\n",
       "             estimator=LGBMClassifier(learning_rate=0.05, max_depth=3,\n",
       "                                      min_child_samples=50, n_estimators=500,\n",
       "                                      num_leaves=32, random_state=13),\n",
       "             param_grid={'learning_rate': array([0.005     , 0.00519038, 0.00538076, 0.00557114, 0.00576152,\n",
       "       0.0059519 , 0.00614228, 0.00633267, 0.00652305, 0.00671343,\n",
       "       0.00690381, 0...\n",
       "       0.09352705, 0.09371743, 0.09390782, 0.0940982 , 0.09428858,\n",
       "       0.09447896, 0.09466934, 0.09485972, 0.0950501 , 0.09524048,\n",
       "       0.09543086, 0.09562124, 0.09581162, 0.096002  , 0.09619238,\n",
       "       0.09638277, 0.09657315, 0.09676353, 0.09695391, 0.09714429,\n",
       "       0.09733467, 0.09752505, 0.09771543, 0.09790581, 0.09809619,\n",
       "       0.09828657, 0.09847695, 0.09866733, 0.09885772, 0.0990481 ,\n",
       "       0.09923848, 0.09942886, 0.09961924, 0.09980962, 0.1       ])},\n",
       "             scoring='roc_auc')"
      ]
     },
     "execution_count": 51,
     "metadata": {},
     "output_type": "execute_result"
    }
   ],
   "source": [
    "%%time\n",
    "\n",
    "lgb_params = {'n_estimators': [500], 'learning_rate':[.05],\\\n",
    "             'max_depth':[3, 5, 7, 70, 90, 110],\\\n",
    "             'num_leaves' : [32, 64, 128, 256, 512],\n",
    "             'min_child_samples': [50, 100, 200, 300]}\n",
    "\n",
    "lgb_grid = GridSearchCV(LGBMClassifier(random_state = SEED), param_grid = lgb_params,\\\n",
    "              scoring = 'roc_auc', cv = StratifiedKFold(3, random_state=SEED))\n",
    "\n",
    "lgb_grid.fit(X_selected_tr, y_tr)\n",
    "\n",
    "lgb_params2 = {'learning_rate':np.linspace(.005, .1, 500)}\n",
    "lgb_grid2 = GridSearchCV(LGBMClassifier(random_state = SEED, **lgb_grid.best_params_), param_grid = lgb_params2,\\\n",
    "              scoring = 'roc_auc', cv = StratifiedKFold(3, random_state=SEED))\n",
    "\n",
    "lgb_grid2.fit(X_selected_tr, y_tr)"
   ]
  },
  {
   "cell_type": "code",
   "execution_count": 59,
   "metadata": {},
   "outputs": [
    {
     "name": "stdout",
     "output_type": "stream",
     "text": [
      "auc (lightgbm с подбором гиперпараметров) = 0.8322006793470723\n",
      "оптимальные гиперпараметры:\n",
      "\tlearning_rate = 0.06211422845691383\n",
      "\tmax_depth = 3\n",
      "\tmin_child_samples = 50\n",
      "\tn_estimators = 500\n",
      "\tnum_leaves = 32\n"
     ]
    }
   ],
   "source": [
    "best_params_d = lgb_grid.best_params_\n",
    "best_params_d.update(lgb_grid2.best_params_)\n",
    "\n",
    "print('auc (lightgbm с подбором гиперпараметров) = {}'.format(lgb_grid2.best_score_))\n",
    "print('оптимальные гиперпараметры:')\n",
    "for k, v in best_params_d.items():\n",
    "    print('\\t{} = {}'.format(k, v))"
   ]
  },
  {
   "cell_type": "code",
   "execution_count": null,
   "metadata": {},
   "outputs": [],
   "source": []
  },
  {
   "cell_type": "code",
   "execution_count": null,
   "metadata": {},
   "outputs": [],
   "source": []
  },
  {
   "cell_type": "code",
   "execution_count": null,
   "metadata": {},
   "outputs": [],
   "source": []
  },
  {
   "cell_type": "code",
   "execution_count": null,
   "metadata": {},
   "outputs": [],
   "source": []
  },
  {
   "cell_type": "code",
   "execution_count": null,
   "metadata": {},
   "outputs": [],
   "source": []
  },
  {
   "cell_type": "code",
   "execution_count": null,
   "metadata": {},
   "outputs": [],
   "source": []
  },
  {
   "cell_type": "code",
   "execution_count": null,
   "metadata": {},
   "outputs": [],
   "source": []
  },
  {
   "cell_type": "code",
   "execution_count": null,
   "metadata": {},
   "outputs": [],
   "source": []
  },
  {
   "cell_type": "code",
   "execution_count": null,
   "metadata": {},
   "outputs": [],
   "source": []
  },
  {
   "cell_type": "code",
   "execution_count": null,
   "metadata": {},
   "outputs": [],
   "source": []
  },
  {
   "cell_type": "code",
   "execution_count": null,
   "metadata": {},
   "outputs": [],
   "source": []
  },
  {
   "cell_type": "code",
   "execution_count": null,
   "metadata": {},
   "outputs": [],
   "source": []
  },
  {
   "cell_type": "code",
   "execution_count": null,
   "metadata": {},
   "outputs": [],
   "source": []
  },
  {
   "cell_type": "code",
   "execution_count": null,
   "metadata": {},
   "outputs": [],
   "source": []
  },
  {
   "cell_type": "code",
   "execution_count": null,
   "metadata": {},
   "outputs": [],
   "source": []
  },
  {
   "cell_type": "code",
   "execution_count": null,
   "metadata": {},
   "outputs": [],
   "source": []
  }
 ],
 "metadata": {
  "kernelspec": {
   "display_name": "Python 3",
   "language": "python",
   "name": "python3"
  },
  "language_info": {
   "codemirror_mode": {
    "name": "ipython",
    "version": 3
   },
   "file_extension": ".py",
   "mimetype": "text/x-python",
   "name": "python",
   "nbconvert_exporter": "python",
   "pygments_lexer": "ipython3",
   "version": "3.8.3"
  }
 },
 "nbformat": 4,
 "nbformat_minor": 4
}
