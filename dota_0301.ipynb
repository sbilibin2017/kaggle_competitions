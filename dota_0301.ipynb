{
 "cells": [
  {
   "cell_type": "markdown",
   "metadata": {},
   "source": [
    "<h1><center>Predict Dota2 winner<center><h1>"
   ]
  },
  {
   "cell_type": "markdown",
   "metadata": {},
   "source": [
    "[Соревнование](https://www.kaggle.com/c/mlcourse-dota2-win-prediction)"
   ]
  },
  {
   "cell_type": "code",
   "execution_count": 1,
   "metadata": {},
   "outputs": [],
   "source": [
    "import pandas as pd\n",
    "import numpy as np\n",
    "import matplotlib.pyplot as plt\n",
    "plt.style.use('ggplot')\n",
    "import seaborn as sns\n",
    "import pickle\n",
    "from collections import defaultdict\n",
    "from lightgbm import LGBMClassifier\n",
    "from sklearn.model_selection import KFold, StratifiedKFold, TimeSeriesSplit,\\\n",
    "                                    cross_val_score, cross_validate\n",
    "import scipy.stats as stats\n",
    "import gc\n",
    "import warnings\n",
    "warnings.filterwarnings('ignore')\n",
    "import os\n",
    "import category_encoders as ce\n",
    "from tqdm import tqdm_notebook\n",
    "import json\n",
    "from itertools import combinations, groupby\n",
    "from functools import reduce\n",
    "from sklearn.cluster import KMeans\n",
    "import time\n",
    "from itertools import groupby\n",
    "from sklearn.metrics import roc_auc_score\n",
    "from sklearn.feature_selection import RFECV\n",
    "from sklearn.ensemble import RandomForestClassifier\n",
    "from sklearn.linear_model import LogisticRegression\n",
    "from sklearn.preprocessing import MinMaxScaler\n",
    "import lightgbm as lgb\n",
    "from sklearn.feature_selection import RFECV\n",
    "import pickle\n",
    "from sklearn.model_selection import train_test_split\n",
    "from sklearn.metrics import roc_auc_score, f1_score, accuracy_score, precision_score, recall_score\n",
    "from sklearn.model_selection import GridSearchCV"
   ]
  },
  {
   "cell_type": "code",
   "execution_count": 2,
   "metadata": {},
   "outputs": [],
   "source": [
    "# функция для чтения json файлов\n",
    "def read_matches(path_to_file):\n",
    "    with open(path_to_file) as fin:\n",
    "        for line in fin: \n",
    "            yield json.loads(line)"
   ]
  },
  {
   "cell_type": "code",
   "execution_count": 3,
   "metadata": {},
   "outputs": [],
   "source": [
    "# пути к файлам, размеры файлов\n",
    "PATH_TR, TOTAL_TR = 'train_matches.jsonl', 39675\n",
    "PATH_TE, TOTAL_TE = 'test_matches.jsonl', 10000\n"
   ]
  },
  {
   "cell_type": "code",
   "execution_count": 4,
   "metadata": {
    "scrolled": false
   },
   "outputs": [
    {
     "data": {
      "application/vnd.jupyter.widget-view+json": {
       "model_id": "a15dca5630754022a375f9a21800b2c0",
       "version_major": 2,
       "version_minor": 0
      },
      "text/plain": [
       "HBox(children=(FloatProgress(value=0.0, max=39675.0), HTML(value='')))"
      ]
     },
     "metadata": {},
     "output_type": "display_data"
    },
    {
     "name": "stdout",
     "output_type": "stream",
     "text": [
      "\n",
      "       teamfights        \n",
      "-----------------------\n",
      "1) start\n",
      "2) end\n",
      "3) last_death\n",
      "4) deaths\n",
      "5) players\n",
      "   5.1) deaths_pos\n",
      "   5.2) ability_uses\n",
      "   5.3) item_uses\n",
      "   5.4) killed\n",
      "   5.5) deaths\n",
      "   5.6) buybacks\n",
      "   5.7) damage\n",
      "   5.8) healing\n",
      "   5.9) gold_delta\n",
      "   5.10) xp_delta\n",
      "-----------------------\n",
      "\n",
      "\n",
      "            objectives             \n",
      "-----------------------------------\n",
      "   1) CHAT_MESSAGE_AEGIS\n",
      "   2) CHAT_MESSAGE_AEGIS_STOLEN\n",
      "   3) CHAT_MESSAGE_BARRACKS_KILL\n",
      "   4) CHAT_MESSAGE_DENIED_AEGIS\n",
      "   5) CHAT_MESSAGE_FIRSTBLOOD\n",
      "   6) CHAT_MESSAGE_ROSHAN_KILL\n",
      "   7) CHAT_MESSAGE_TOWER_DENY\n",
      "   8) CHAT_MESSAGE_TOWER_KILL\n",
      "-----------------------------------\n",
      "\n",
      "\n",
      "                        players                        \n",
      "------------------------------------------------------------\n",
      "              player_slot <class 'int'>\n",
      "                  hero_id <class 'int'>\n",
      "                hero_name <class 'str'>\n",
      "          account_id_hash <class 'str'>\n",
      "         ability_upgrades <class 'list'>\n",
      "               obs_placed <class 'int'>\n",
      "               sen_placed <class 'int'>\n",
      "           creeps_stacked <class 'int'>\n",
      "            camps_stacked <class 'int'>\n",
      "             rune_pickups <class 'int'>\n",
      "       firstblood_claimed <class 'int'>\n",
      "  teamfight_participation <class 'float'>\n",
      "            towers_killed <class 'int'>\n",
      "           roshans_killed <class 'int'>\n",
      "         observers_placed <class 'int'>\n",
      "                    stuns <class 'int'>\n",
      "             max_hero_hit <class 'dict'>\n",
      "                    times <class 'list'>\n",
      "                   gold_t <class 'list'>\n",
      "                     lh_t <class 'list'>\n",
      "                     dn_t <class 'list'>\n",
      "                     xp_t <class 'list'>\n",
      "                  obs_log <class 'list'>\n",
      "                  sen_log <class 'list'>\n",
      "             obs_left_log <class 'list'>\n",
      "             sen_left_log <class 'list'>\n",
      "             purchase_log <class 'list'>\n",
      "                kills_log <class 'list'>\n",
      "              buyback_log <class 'list'>\n",
      "                runes_log <class 'list'>\n",
      "                      obs <class 'dict'>\n",
      "                      sen <class 'dict'>\n",
      "                  actions <class 'dict'>\n",
      "                    pings <class 'dict'>\n",
      "                 purchase <class 'dict'>\n",
      "             gold_reasons <class 'dict'>\n",
      "               xp_reasons <class 'dict'>\n",
      "                   killed <class 'dict'>\n",
      "                item_uses <class 'dict'>\n",
      "             ability_uses <class 'dict'>\n",
      "                hero_hits <class 'dict'>\n",
      "                   damage <class 'dict'>\n",
      "             damage_taken <class 'dict'>\n",
      "         damage_inflictor <class 'dict'>\n",
      "                    runes <class 'dict'>\n",
      "                killed_by <class 'dict'>\n",
      "             kill_streaks <class 'dict'>\n",
      "              multi_kills <class 'dict'>\n",
      "               life_state <class 'dict'>\n",
      "                  healing <class 'dict'>\n",
      "damage_inflictor_received <class 'dict'>\n",
      "                 randomed <class 'bool'>\n",
      "                pred_vict <class 'bool'>\n",
      "                     gold <class 'int'>\n",
      "                       lh <class 'int'>\n",
      "                       xp <class 'int'>\n",
      "                        x <class 'int'>\n",
      "                        y <class 'int'>\n",
      "           hero_inventory <class 'list'>\n",
      "               hero_stash <class 'list'>\n",
      "                   health <class 'int'>\n",
      "               max_health <class 'int'>\n",
      "                 max_mana <class 'float'>\n",
      "                    level <class 'int'>\n",
      "                    kills <class 'int'>\n",
      "                   deaths <class 'int'>\n",
      "                  assists <class 'int'>\n",
      "                   denies <class 'int'>\n",
      " nearby_creep_death_count <class 'int'>\n",
      "------------------------------------------------------------\n"
     ]
    }
   ],
   "source": [
    "types = []\n",
    "for MATCH in tqdm_notebook(read_matches(PATH_TR), total = TOTAL_TR):\n",
    "    for obj in MATCH['objectives']:\n",
    "        types.append(obj['type'])\n",
    "unqiue_types = np.unique(types)\n",
    "topkeys = list(MATCH.keys())\n",
    "\n",
    "print('{:^25}'.format('teamfights'))\n",
    "print('-----------------------')\n",
    "for idx, el in enumerate(list(MATCH['teamfights'][0].keys())):\n",
    "    print('{}) {}'.format(idx+1, el))\n",
    "for idx2, el2 in enumerate(list(MATCH['teamfights'][0]['players'][0].keys())):\n",
    "    print('{:>4}.{}) {}'.format(5, idx2+1, el2)) \n",
    "print('-----------------------\\n\\n')\n",
    "\n",
    "print('{:^35}'.format('objectives'))\n",
    "print('-----------------------------------')\n",
    "for idx3, tp in enumerate(unqiue_types):\n",
    "    print('{:>4}) {}'.format(idx3+1, tp))  \n",
    "print('-----------------------------------\\n\\n')\n",
    "\n",
    "print('{:^55}'.format('players'))\n",
    "print('------------------------------------------------------------')\n",
    "for k, v in MATCH['players'][0].items():\n",
    "    print('{:>25} {}'.format(k, type(v)))\n",
    "print('------------------------------------------------------------')"
   ]
  },
  {
   "cell_type": "markdown",
   "metadata": {},
   "source": [
    "#### Целевой признак"
   ]
  },
  {
   "cell_type": "code",
   "execution_count": 5,
   "metadata": {},
   "outputs": [
    {
     "data": {
      "application/vnd.jupyter.widget-view+json": {
       "model_id": "dc781f91608c4c5ea2e98c4e0ef47b99",
       "version_major": 2,
       "version_minor": 0
      },
      "text/plain": [
       "HBox(children=(FloatProgress(value=0.0, max=39675.0), HTML(value='')))"
      ]
     },
     "metadata": {},
     "output_type": "display_data"
    },
    {
     "name": "stdout",
     "output_type": "stream",
     "text": [
      "\n"
     ]
    }
   ],
   "source": [
    "target_L = []\n",
    "for MATCH in tqdm_notebook(read_matches(PATH_TR), total = TOTAL_TR):    \n",
    "    target_L.append((MATCH['match_id_hash'], MATCH['targets']['radiant_win']))\n",
    "y_tr = pd.DataFrame.from_records(target_L).set_index(0)[1].astype(int).values"
   ]
  },
  {
   "cell_type": "markdown",
   "metadata": {},
   "source": [
    "#### Глобальные статы"
   ]
  },
  {
   "cell_type": "code",
   "execution_count": 6,
   "metadata": {},
   "outputs": [
    {
     "data": {
      "application/vnd.jupyter.widget-view+json": {
       "model_id": "8e921cc562a74f25a745d03575be861e",
       "version_major": 2,
       "version_minor": 0
      },
      "text/plain": [
       "HBox(children=(FloatProgress(value=0.0, max=39675.0), HTML(value='')))"
      ]
     },
     "metadata": {},
     "output_type": "display_data"
    },
    {
     "name": "stdout",
     "output_type": "stream",
     "text": [
      "\n"
     ]
    }
   ],
   "source": [
    "globals_L = []\n",
    "for MATCH in tqdm_notebook(read_matches(PATH_TR), total = TOTAL_TR):\n",
    "    globals_L.append((MATCH['game_time'], MATCH['match_id_hash'],\n",
    "                      MATCH['game_mode'], MATCH['lobby_type']))\n",
    "glob_df = pd.DataFrame.from_records(globals_L)"
   ]
  },
  {
   "cell_type": "code",
   "execution_count": 7,
   "metadata": {},
   "outputs": [],
   "source": [
    "empty_df = pd.DataFrame(index = glob_df[1])"
   ]
  },
  {
   "cell_type": "markdown",
   "metadata": {},
   "source": [
    "#### Чат (длина переписки, интесивность переписки)"
   ]
  },
  {
   "cell_type": "code",
   "execution_count": 8,
   "metadata": {},
   "outputs": [
    {
     "data": {
      "application/vnd.jupyter.widget-view+json": {
       "model_id": "50f2b7228a6d4d7b950f4bd2a76e9337",
       "version_major": 2,
       "version_minor": 0
      },
      "text/plain": [
       "HBox(children=(FloatProgress(value=0.0, max=39675.0), HTML(value='')))"
      ]
     },
     "metadata": {},
     "output_type": "display_data"
    },
    {
     "name": "stdout",
     "output_type": "stream",
     "text": [
      "\n"
     ]
    }
   ],
   "source": [
    "messages_L = []\n",
    "for MATCH in tqdm_notebook(read_matches(PATH_TR), total = TOTAL_TR):\n",
    "    for msg in MATCH['chat']:\n",
    "        try:\n",
    "            messages_L.append((MATCH['match_id_hash'], msg['player_slot']<100,\\\n",
    "                               np.abs(msg['time']), msg['text'].count('*')))\n",
    "        except:\n",
    "            pass\n",
    "mess_df = pd.DataFrame.from_records(messages_L)\n",
    "mess_df[4] = mess_df[1].replace({True:1, False:-1}) * mess_df[3]\n",
    "\n",
    "X_tr = np.column_stack([glob_df.set_index(1),\\\n",
    "                        empty_df.join(mess_df.groupby(0)[4].sum()),\\\n",
    "                        empty_df.join(mess_df.groupby([0, 1])[2].apply(lambda x: np.diff(sorted(x)).mean()).unstack())])"
   ]
  },
  {
   "cell_type": "markdown",
   "metadata": {},
   "source": [
    "#### Командные сражения"
   ]
  },
  {
   "cell_type": "code",
   "execution_count": 9,
   "metadata": {},
   "outputs": [
    {
     "data": {
      "application/vnd.jupyter.widget-view+json": {
       "model_id": "64ccdeeacb2444a3a2fc2cd7df45f131",
       "version_major": 2,
       "version_minor": 0
      },
      "text/plain": [
       "HBox(children=(FloatProgress(value=0.0, max=39675.0), HTML(value='')))"
      ]
     },
     "metadata": {},
     "output_type": "display_data"
    },
    {
     "name": "stdout",
     "output_type": "stream",
     "text": [
      "\n"
     ]
    },
    {
     "data": {
      "application/vnd.jupyter.widget-view+json": {
       "model_id": "c831afdbd61a46d6beac7ab28b3bfaa2",
       "version_major": 2,
       "version_minor": 0
      },
      "text/plain": [
       "HBox(children=(FloatProgress(value=0.0, max=6.0), HTML(value='')))"
      ]
     },
     "metadata": {},
     "output_type": "display_data"
    },
    {
     "name": "stdout",
     "output_type": "stream",
     "text": [
      "\n"
     ]
    },
    {
     "data": {
      "application/vnd.jupyter.widget-view+json": {
       "model_id": "84875f4bae79434ebc38ca275f5b43fb",
       "version_major": 2,
       "version_minor": 0
      },
      "text/plain": [
       "HBox(children=(FloatProgress(value=0.0, max=3.0), HTML(value='')))"
      ]
     },
     "metadata": {},
     "output_type": "display_data"
    },
    {
     "name": "stdout",
     "output_type": "stream",
     "text": [
      "\n"
     ]
    }
   ],
   "source": [
    "tf_D = defaultdict(list)\n",
    "for MATCH in tqdm_notebook(read_matches(PATH_TR), total = TOTAL_TR):\n",
    "    idx = MATCH['match_id_hash']\n",
    "    for tf_idx, tf in enumerate(MATCH['teamfights']):\n",
    "        tf_D['glob'].append((idx, tf_idx, abs(tf['start']), abs(tf['end']), abs(tf['last_death']), tf['deaths']))\n",
    "        for player_idx, player in enumerate(tf['players']):\n",
    "            team = 'r' if player_idx<=4 else 'd'            \n",
    "            for k, v in player['deaths_pos'].items():\n",
    "                for k2,v2 in v.items():\n",
    "                    tf_D['deaths_pos'].append((idx, team, k, k2, v2))\n",
    "            for key in ('ability_uses', 'item_uses', 'killed'):\n",
    "                for k, v in player[key].items():\n",
    "                    tf_D[key].append((idx, team, k, v))\n",
    "            for key in ('deaths', 'buybacks', 'damage', 'healing', 'gold_delta', 'xp_delta'):\n",
    "                tf_D[key].append((idx, team, player[key]))\n",
    "                \n",
    "df_tf_glob = pd.DataFrame.from_records(tf_D['glob'])\n",
    "df_tf_glob.columns = ['idx', 'tf_idx', 'start', 'end', 'last_death', 'deaths']\n",
    "df_tf_glob['duration'] = df_tf_glob['end'] - df_tf_glob['start']\n",
    "tf_glob_df = empty_df.join(df_tf_glob.groupby('idx').size().to_frame('count'))\\\n",
    "    .join(df_tf_glob.groupby('idx')['duration'].mean().to_frame('duration_mean'))\n",
    "\n",
    "df_tf_glob['start2'] = df_tf_glob['start'] // 60\n",
    "for ts in np.unique(df_tf_glob['start2']):\n",
    "    tf_glob_df = tf_glob_df.join(df_tf_glob[df_tf_glob['start2']<=ts].groupby('idx').size().to_frame(ts))\n",
    "tf_glob_df = tf_glob_df.join(df_tf_glob.groupby('idx').apply(lambda x: np.mean(x['deaths'])\\\n",
    "                                                / np.sum(x['duration'])).to_frame('death_per_min_tf'))\n",
    "L2_tf = []\n",
    "for key in tqdm_notebook(('deaths', 'buybacks', 'damage', 'healing', 'gold_delta', 'xp_delta')):\n",
    "    _df = pd.DataFrame.from_records(tf_D[key])\n",
    "    _ddf = empty_df.join(_df.groupby([0, 1])[2].sum().unstack())    \n",
    "    L2_tf.append(_ddf.iloc[:, 1] - _ddf.iloc[:, 0])\n",
    "for key in tqdm_notebook(('ability_uses', 'item_uses', 'killed')):\n",
    "    _df = pd.DataFrame.from_records(tf_D[key])\n",
    "    _df[4] = _df[1].replace({'r':1, 'd':-1}) * _df[3]\n",
    "    L2_tf.append(empty_df.join(_df.groupby([0, 2])[4].sum().unstack()))\n",
    "    \n",
    "tf_glob_df = pd.concat([tf_glob_df, pd.concat(L2_tf, 1)], 1)\n",
    "_df = pd.DataFrame.from_records(tf_D['deaths_pos'])\n",
    "_df[5] = _df[2].astype(str) +'_' + _df[3].astype(str)\n",
    "_df[6] = _df[4] * _df[1].replace({'r':1, 'd':-1})\n",
    "\n",
    "X_tr = np.column_stack([X_tr, empty_df.join(_df.groupby([0, 5])[6].sum().unstack())])"
   ]
  },
  {
   "cell_type": "markdown",
   "metadata": {},
   "source": [
    "#### Обжективы (глобальные объекты на карте) (собираем мешок обжективов)"
   ]
  },
  {
   "cell_type": "code",
   "execution_count": 10,
   "metadata": {},
   "outputs": [
    {
     "data": {
      "application/vnd.jupyter.widget-view+json": {
       "model_id": "92c9fd13bad54e95a1acdca0ff724433",
       "version_major": 2,
       "version_minor": 0
      },
      "text/plain": [
       "HBox(children=(FloatProgress(value=0.0, max=39675.0), HTML(value='')))"
      ]
     },
     "metadata": {},
     "output_type": "display_data"
    },
    {
     "name": "stdout",
     "output_type": "stream",
     "text": [
      "\n"
     ]
    }
   ],
   "source": [
    "obj_L = []\n",
    "for MATCH in tqdm_notebook(read_matches(PATH_TR), total = TOTAL_TR):\n",
    "    idx = MATCH['match_id_hash']  \n",
    "    for obj in MATCH['objectives']:\n",
    "        obj['idx'] = idx\n",
    "        obj_L.append(obj)\n",
    "df = pd.DataFrame.from_records(obj_L)\n",
    "\n",
    "df.loc[df['team'].isna(), 'flag'] = df[df['team'].isna()]['player_slot'].apply(lambda x: 2 if x<100 else 3)\n",
    "df.loc[~df['team'].isna(), 'flag'] = df[~df['team'].isna()]['team']\n",
    "df.loc[df['flag'].isin([60, 100]), 'flag'] = df[df['flag'].isin([60, 100])]['slot'].apply(lambda x: 2 if x<=4 else 3)\n",
    "df['flag'] = df['flag'].replace({2:1, 3:-1})\n",
    "\n",
    "X_tr = np.column_stack([X_tr,\\\n",
    "                        empty_df.join(df.groupby(['idx', 'type'])['flag'].sum().unstack()).values])"
   ]
  },
  {
   "cell_type": "markdown",
   "metadata": {},
   "source": [
    "#### Игроки (конечные числовые характеристики)"
   ]
  },
  {
   "cell_type": "code",
   "execution_count": 11,
   "metadata": {},
   "outputs": [
    {
     "data": {
      "application/vnd.jupyter.widget-view+json": {
       "model_id": "9f6c577778e54f5082988c668f0dfc85",
       "version_major": 2,
       "version_minor": 0
      },
      "text/plain": [
       "HBox(children=(FloatProgress(value=0.0, max=39675.0), HTML(value='')))"
      ]
     },
     "metadata": {},
     "output_type": "display_data"
    },
    {
     "name": "stdout",
     "output_type": "stream",
     "text": [
      "\n"
     ]
    },
    {
     "data": {
      "application/vnd.jupyter.widget-view+json": {
       "model_id": "99bb350362eb46e89743d01ebccd5cd1",
       "version_major": 2,
       "version_minor": 0
      },
      "text/plain": [
       "HBox(children=(FloatProgress(value=0.0, max=23.0), HTML(value='')))"
      ]
     },
     "metadata": {},
     "output_type": "display_data"
    },
    {
     "name": "stdout",
     "output_type": "stream",
     "text": [
      "\n"
     ]
    }
   ],
   "source": [
    "numbers = ['assists', 'camps_stacked', 'creeps_stacked', 'deaths', 'denies',\n",
    "           'firstblood_claimed', 'gold', 'health',  'kills',\n",
    "           'level', 'lh', 'max_health', 'max_mana',\n",
    "           'nearby_creep_death_count', 'obs_placed', 'observers_placed',\n",
    "           'roshans_killed','rune_pickups', 'sen_placed', 'stuns', 'teamfight_participation',\n",
    "           'towers_killed', 'xp']\n",
    "D_players = defaultdict(list)\n",
    "for MATCH in tqdm_notebook(read_matches(PATH_TR), total = TOTAL_TR):\n",
    "    idx = MATCH['match_id_hash']  \n",
    "    for player_idx, player in enumerate(MATCH['players']):\n",
    "        team = 'r' if player_idx<=4 else 'd'\n",
    "        for key in numbers:\n",
    "            D_players[key].append((idx, team, player[key]))\n",
    "\n",
    "diffs_df = pd.DataFrame()\n",
    "for k, v in tqdm_notebook(D_players.items()):\n",
    "    _df = pd.DataFrame.from_records(v)\n",
    "    diffs_df[k] = _df.groupby([0, 1])[2].mean().unstack().diff(axis = 1).iloc[:, -1]\n",
    "X_tr  = np.column_stack([X_tr, empty_df.join(diffs_df)])\n",
    "del diffs_df, D_players\n",
    "gc.collect()\n",
    "D_players = defaultdict(list)"
   ]
  },
  {
   "cell_type": "markdown",
   "metadata": {},
   "source": [
    "#### Игроки (герои, координаты)"
   ]
  },
  {
   "cell_type": "code",
   "execution_count": 12,
   "metadata": {},
   "outputs": [
    {
     "data": {
      "application/vnd.jupyter.widget-view+json": {
       "model_id": "c3b4ff5eb2e94d259c1de1b4f4aaa016",
       "version_major": 2,
       "version_minor": 0
      },
      "text/plain": [
       "HBox(children=(FloatProgress(value=0.0, max=39675.0), HTML(value='')))"
      ]
     },
     "metadata": {},
     "output_type": "display_data"
    },
    {
     "name": "stdout",
     "output_type": "stream",
     "text": [
      "\n"
     ]
    },
    {
     "data": {
      "text/plain": [
       "4"
      ]
     },
     "execution_count": 12,
     "metadata": {},
     "output_type": "execute_result"
    }
   ],
   "source": [
    "for MATCH in tqdm_notebook(read_matches(PATH_TR), total = TOTAL_TR):\n",
    "    idx = MATCH['match_id_hash']  \n",
    "    for player_idx, player in enumerate(MATCH['players']):\n",
    "        team = 'r' if player_idx<=4 else 'd'\n",
    "        for key in ('hero_id','x', 'y'):\n",
    "            D_players[key].append((idx, team, player[key]))\n",
    "            \n",
    "hero_coords_L = [] \n",
    "for key in ('hero_id','x', 'y'):\n",
    "    _df = pd.DataFrame.from_records(D_players[key])\n",
    "    _df[1] = _df[1].replace({'r':1, 'd':-1})\n",
    "    hero_coords_L.append(empty_df.join(_df.groupby([0, 2])[1].sum().unstack())) \n",
    "    \n",
    "X_tr  = np.column_stack([X_tr, np.column_stack(hero_coords_L)])\n",
    "del hero_coords_L\n",
    "gc.collect()"
   ]
  },
  {
   "cell_type": "markdown",
   "metadata": {},
   "source": [
    "#### Игроки (золото, ласт хиты, денаи, опыт с течением времени)"
   ]
  },
  {
   "cell_type": "code",
   "execution_count": 13,
   "metadata": {},
   "outputs": [
    {
     "data": {
      "application/vnd.jupyter.widget-view+json": {
       "model_id": "48daeaacdb5b41ae8a53d638db9da375",
       "version_major": 2,
       "version_minor": 0
      },
      "text/plain": [
       "HBox(children=(FloatProgress(value=0.0, max=39675.0), HTML(value='')))"
      ]
     },
     "metadata": {},
     "output_type": "display_data"
    },
    {
     "name": "stdout",
     "output_type": "stream",
     "text": [
      "\n"
     ]
    },
    {
     "data": {
      "application/vnd.jupyter.widget-view+json": {
       "model_id": "a097ecbff4f34c22b637608a92ebb5a0",
       "version_major": 2,
       "version_minor": 0
      },
      "text/plain": [
       "HBox(children=(FloatProgress(value=0.0, max=4.0), HTML(value='')))"
      ]
     },
     "metadata": {},
     "output_type": "display_data"
    },
    {
     "name": "stdout",
     "output_type": "stream",
     "text": [
      "\n"
     ]
    },
    {
     "data": {
      "text/plain": [
       "12"
      ]
     },
     "execution_count": 13,
     "metadata": {},
     "output_type": "execute_result"
    }
   ],
   "source": [
    "ts_keys = ['gold_t', 'xp_t', 'lh_t', 'dn_t']\n",
    "ts_D = defaultdict(list)\n",
    "for MATCH in tqdm_notebook(read_matches(PATH_TR), total = TOTAL_TR):\n",
    "    idx = MATCH['match_id_hash']  \n",
    "    for player_idx, player in enumerate(MATCH['players']):\n",
    "        team = 'r' if player_idx<=4 else 'd'\n",
    "        for key in ts_keys:\n",
    "            for element_idx, element in enumerate(player[key]):\n",
    "                ts_D[key].append((idx, team, element_idx, element))\n",
    "                \n",
    "ts_L = []\n",
    "for k, v in tqdm_notebook(ts_D.items()):    \n",
    "    _df = pd.DataFrame.from_records(v)\n",
    "    _df[1] = _df[1].replace({'r':1, 'd':-1})\n",
    "    _df[3] = _df[1] * _df[3]\n",
    "    _df = _df.drop(1, axis = 1)\n",
    "    ts_diffs= []\n",
    "    for ts in np.unique(_df[2]):\n",
    "        ts_diffs.append(empty_df.join(_df[_df[2] <= ts].groupby(0)[3].mean().to_frame()))\n",
    "    ts_L.append(np.column_stack(ts_diffs))\n",
    "\n",
    "X_tr  = np.column_stack([X_tr,np.column_stack(ts_L)])\n",
    "del ts_D, ts_L\n",
    "gc.collect()"
   ]
  },
  {
   "cell_type": "markdown",
   "metadata": {},
   "source": [
    "#### Игроки (апгрейд умений)"
   ]
  },
  {
   "cell_type": "code",
   "execution_count": 14,
   "metadata": {},
   "outputs": [
    {
     "data": {
      "application/vnd.jupyter.widget-view+json": {
       "model_id": "314f2105ade6482e89726f2c289566ec",
       "version_major": 2,
       "version_minor": 0
      },
      "text/plain": [
       "HBox(children=(FloatProgress(value=0.0, max=39675.0), HTML(value='')))"
      ]
     },
     "metadata": {},
     "output_type": "display_data"
    },
    {
     "name": "stdout",
     "output_type": "stream",
     "text": [
      "\n"
     ]
    },
    {
     "data": {
      "application/vnd.jupyter.widget-view+json": {
       "model_id": "89d2f3a678444428bc5bd46cb7af3b05",
       "version_major": 2,
       "version_minor": 0
      },
      "text/plain": [
       "HBox(children=(FloatProgress(value=0.0, max=35438.0), HTML(value='')))"
      ]
     },
     "metadata": {},
     "output_type": "display_data"
    },
    {
     "name": "stdout",
     "output_type": "stream",
     "text": [
      "\n"
     ]
    },
    {
     "data": {
      "text/plain": [
       "35502"
      ]
     },
     "execution_count": 14,
     "metadata": {},
     "output_type": "execute_result"
    }
   ],
   "source": [
    "abil_upgrades_L = []\n",
    "for MATCH in tqdm_notebook(read_matches(PATH_TR), total = TOTAL_TR):\n",
    "    idx = MATCH['match_id_hash']  \n",
    "    for player_idx, player in enumerate(MATCH['players']):\n",
    "        team = 'r' if player_idx<=4 else 'd'\n",
    "        for upgrade in player['ability_upgrades']:\n",
    "            upgrade['idx'] = idx\n",
    "            upgrade['team'] = team\n",
    "            abil_upgrades_L.append(upgrade)\n",
    "_df = pd.DataFrame.from_records(abil_upgrades_L)\n",
    "_df['time'] = _df['time'].abs()\n",
    "L4 = []\n",
    "for _idx, _subdf in tqdm_notebook(_df.groupby('idx')):\n",
    "    _r = _subdf[_subdf['team'] == 'r'].sort_values('time')['time'].diff().mean()\n",
    "    _d = _subdf[_subdf['team'] == 'd'].sort_values('time')['time'].diff().mean()\n",
    "    L4.append((_idx, _r, _d))\n",
    "_df['team'] = _df['team'].replace({'r':1, 'd':-1})\n",
    "\n",
    "X_tr  = np.column_stack([X_tr,pd.concat([empty_df.join(_df.groupby(['idx', 'ability'])['team'].mean().unstack()),\\\n",
    "                                         empty_df.join(pd.DataFrame.from_records(L4))], 1)])\n",
    "del abil_upgrades_L, _df, L4\n",
    "gc.collect()"
   ]
  },
  {
   "cell_type": "markdown",
   "metadata": {},
   "source": [
    "#### Игроки (buyback:выкуп мертвого героя)"
   ]
  },
  {
   "cell_type": "code",
   "execution_count": 15,
   "metadata": {},
   "outputs": [
    {
     "data": {
      "application/vnd.jupyter.widget-view+json": {
       "model_id": "17361e37993f4686ae7dd2e64df1c6d5",
       "version_major": 2,
       "version_minor": 0
      },
      "text/plain": [
       "HBox(children=(FloatProgress(value=0.0, max=39675.0), HTML(value='')))"
      ]
     },
     "metadata": {},
     "output_type": "display_data"
    },
    {
     "name": "stdout",
     "output_type": "stream",
     "text": [
      "\n"
     ]
    },
    {
     "data": {
      "text/plain": [
       "4"
      ]
     },
     "execution_count": 15,
     "metadata": {},
     "output_type": "execute_result"
    }
   ],
   "source": [
    "bb_log_L = []\n",
    "for MATCH in tqdm_notebook(read_matches(PATH_TR), total = TOTAL_TR):\n",
    "    idx = MATCH['match_id_hash']  \n",
    "    for player_idx, player in enumerate(MATCH['players']):\n",
    "        team = 'r' if player_idx<=4 else 'd'\n",
    "        for bb_log in player['buyback_log']:\n",
    "            bb_log_L.append((idx, ('r' if bb_log['player_slot'] < 100 else 'd'), np.abs(bb_log['time'])))\n",
    "_df = pd.DataFrame.from_records(bb_log_L)\n",
    "X_tr  = np.column_stack([X_tr,empty_df.join(_df.groupby([0, 1])[2].apply(lambda x: np.diff(sorted(x)).mean()).unstack())])\n",
    "del bb_log_L, _df\n",
    "gc.collect()"
   ]
  },
  {
   "cell_type": "markdown",
   "metadata": {},
   "source": [
    "#### Игроки (hero inventory: инвентарь героя)"
   ]
  },
  {
   "cell_type": "code",
   "execution_count": 16,
   "metadata": {},
   "outputs": [
    {
     "data": {
      "application/vnd.jupyter.widget-view+json": {
       "model_id": "9696cd10c4a14fb79a58a8d22e6b623a",
       "version_major": 2,
       "version_minor": 0
      },
      "text/plain": [
       "HBox(children=(FloatProgress(value=0.0, max=39675.0), HTML(value='')))"
      ]
     },
     "metadata": {},
     "output_type": "display_data"
    },
    {
     "name": "stdout",
     "output_type": "stream",
     "text": [
      "\n"
     ]
    },
    {
     "data": {
      "text/plain": [
       "17"
      ]
     },
     "execution_count": 16,
     "metadata": {},
     "output_type": "execute_result"
    }
   ],
   "source": [
    "inv_L = []\n",
    "for MATCH in tqdm_notebook(read_matches(PATH_TR), total = TOTAL_TR):\n",
    "    idx = MATCH['match_id_hash']  \n",
    "    for player_idx, player in enumerate(MATCH['players']):\n",
    "        team = 'r' if player_idx<=4 else 'd'\n",
    "        for item in player['hero_inventory']:\n",
    "            try:\n",
    "                inv_L.append((idx, team, item['id'], item['cooldown']))\n",
    "            except:\n",
    "                pass\n",
    "_df = pd.DataFrame.from_records(inv_L)  \n",
    "_df[4] = _df[3] * _df[1].replace({'r':1, 'd':-1})\n",
    "X_tr  = np.column_stack([X_tr, empty_df.join(_df.groupby([0, 2])[4].sum().unstack())])\n",
    "del inv_L, _df\n",
    "gc.collect()"
   ]
  },
  {
   "cell_type": "markdown",
   "metadata": {},
   "source": [
    "#### Игроки (kills log: логи убийств)"
   ]
  },
  {
   "cell_type": "code",
   "execution_count": 17,
   "metadata": {},
   "outputs": [
    {
     "data": {
      "application/vnd.jupyter.widget-view+json": {
       "model_id": "5dafd2625687498da330d7ec412c137d",
       "version_major": 2,
       "version_minor": 0
      },
      "text/plain": [
       "HBox(children=(FloatProgress(value=0.0, max=39675.0), HTML(value='')))"
      ]
     },
     "metadata": {},
     "output_type": "display_data"
    },
    {
     "name": "stdout",
     "output_type": "stream",
     "text": [
      "\n"
     ]
    },
    {
     "data": {
      "text/plain": [
       "4"
      ]
     },
     "execution_count": 17,
     "metadata": {},
     "output_type": "execute_result"
    }
   ],
   "source": [
    "kl_L = []\n",
    "for MATCH in tqdm_notebook(read_matches(PATH_TR), total = TOTAL_TR):\n",
    "    idx = MATCH['match_id_hash']  \n",
    "    for player_idx, player in enumerate(MATCH['players']):\n",
    "        team = 'r' if player_idx<=4 else 'd'\n",
    "        for log in player['kills_log']:\n",
    "            kl_L.append((idx, team, np.abs(log['time'])))\n",
    "            \n",
    "_df = pd.DataFrame.from_records(kl_L)  \n",
    "X_tr  = np.column_stack([X_tr, empty_df.join(_df.groupby([0, 1])[2].apply(lambda x: np.diff(sorted(x)).mean()).unstack())])\n",
    "del kl_L, _df\n",
    "gc.collect()"
   ]
  },
  {
   "cell_type": "markdown",
   "metadata": {},
   "source": [
    "#### Игроки (purchase log: логи покупок)"
   ]
  },
  {
   "cell_type": "code",
   "execution_count": 18,
   "metadata": {},
   "outputs": [
    {
     "data": {
      "application/vnd.jupyter.widget-view+json": {
       "model_id": "3f9a61cc1a57417fbe61a37084db88c2",
       "version_major": 2,
       "version_minor": 0
      },
      "text/plain": [
       "HBox(children=(FloatProgress(value=0.0, max=39675.0), HTML(value='')))"
      ]
     },
     "metadata": {},
     "output_type": "display_data"
    },
    {
     "name": "stdout",
     "output_type": "stream",
     "text": [
      "\n"
     ]
    },
    {
     "data": {
      "text/plain": [
       "4"
      ]
     },
     "execution_count": 18,
     "metadata": {},
     "output_type": "execute_result"
    }
   ],
   "source": [
    "pc_L = []\n",
    "rn_L = []\n",
    "for MATCH in tqdm_notebook(read_matches(PATH_TR), total = TOTAL_TR):\n",
    "    idx = MATCH['match_id_hash']  \n",
    "    for player_idx, player in enumerate(MATCH['players']):\n",
    "        team = 'r' if player_idx<=4 else 'd'\n",
    "        for log in player['purchase_log']:\n",
    "            pc_L.append((idx, team, np.abs(log['time']), log['key']))\n",
    "        for log in player['runes_log']:\n",
    "            rn_L.append((idx, team, np.abs(log['time']), log['key']))\n",
    "_df = pd.DataFrame.from_records(pc_L) \n",
    "_df[1] = _df[1].replace({'r':1, 'd':-1})\n",
    "X_tr  = np.column_stack([X_tr, empty_df.join(_df.groupby([0, 3])[1].sum().unstack())])\n",
    "\n",
    "_df = pd.DataFrame.from_records(rn_L) \n",
    "_df[1] = _df[1].replace({'r':1, 'd':-1})\n",
    "X_tr  = np.column_stack([X_tr, empty_df.join(_df.groupby([0, 3])[1].sum().unstack())])\n",
    "\n",
    "del pc_L, _df, rn_L\n",
    "gc.collect()\n"
   ]
  },
  {
   "cell_type": "markdown",
   "metadata": {},
   "source": [
    "#### Игроки (логи вардов)"
   ]
  },
  {
   "cell_type": "code",
   "execution_count": 19,
   "metadata": {},
   "outputs": [
    {
     "data": {
      "application/vnd.jupyter.widget-view+json": {
       "model_id": "67637e45c1a9408ba857d26c650f65b8",
       "version_major": 2,
       "version_minor": 0
      },
      "text/plain": [
       "HBox(children=(FloatProgress(value=0.0, max=39675.0), HTML(value='')))"
      ]
     },
     "metadata": {},
     "output_type": "display_data"
    },
    {
     "name": "stdout",
     "output_type": "stream",
     "text": [
      "\n"
     ]
    },
    {
     "data": {
      "application/vnd.jupyter.widget-view+json": {
       "model_id": "1a18cad946ae4131b7d7ad1f89b5d48b",
       "version_major": 2,
       "version_minor": 0
      },
      "text/plain": [
       "HBox(children=(FloatProgress(value=0.0, max=4.0), HTML(value='')))"
      ]
     },
     "metadata": {},
     "output_type": "display_data"
    },
    {
     "name": "stdout",
     "output_type": "stream",
     "text": [
      "\n"
     ]
    },
    {
     "data": {
      "text/plain": [
       "79"
      ]
     },
     "execution_count": 19,
     "metadata": {},
     "output_type": "execute_result"
    }
   ],
   "source": [
    "D = defaultdict(list)\n",
    "logs = ['obs_left_log', 'obs_log', 'sen_left_log', 'sen_log']\n",
    "for MATCH in tqdm_notebook(read_matches(PATH_TR), total = TOTAL_TR):\n",
    "    idx = MATCH['match_id_hash']  \n",
    "    for player_idx, player in enumerate(MATCH['players']):\n",
    "        team = 'r' if player_idx<=4 else 'd'\n",
    "        for key in logs: \n",
    "            for element in player[key]:\n",
    "                D[key].append((idx, team, str(element['x'] // 10)+'_'+str(element['y'] // 10)+'_'+str(element['z'] // 10)))\n",
    "            \n",
    "            \n",
    "_logs_L = []\n",
    "for k, v in tqdm_notebook(D.items()):\n",
    "    _df = pd.DataFrame.from_records(v)\n",
    "    _df[1] = _df[1].replace({'r':1, 'd':-1})\n",
    "    _logs_L.append(empty_df.join(_df.groupby([0, 2])[1].sum().unstack()))   \n",
    "    \n",
    "X_tr  = np.column_stack([X_tr, np.column_stack(_logs_L)])\n",
    "del D, _logs_L, _df\n",
    "gc.collect()"
   ]
  },
  {
   "cell_type": "markdown",
   "metadata": {},
   "source": [
    "#### Игроки (использованные умения, айтемы)"
   ]
  },
  {
   "cell_type": "code",
   "execution_count": 20,
   "metadata": {},
   "outputs": [
    {
     "data": {
      "application/vnd.jupyter.widget-view+json": {
       "model_id": "c30a4969cc4944ec85bc1983b765bfc5",
       "version_major": 2,
       "version_minor": 0
      },
      "text/plain": [
       "HBox(children=(FloatProgress(value=0.0, max=39675.0), HTML(value='')))"
      ]
     },
     "metadata": {},
     "output_type": "display_data"
    },
    {
     "name": "stdout",
     "output_type": "stream",
     "text": [
      "\n"
     ]
    }
   ],
   "source": [
    "abil_uses_L = []\n",
    "item_uses_L = []\n",
    "for MATCH in tqdm_notebook(read_matches(PATH_TR), total = TOTAL_TR):\n",
    "    idx = MATCH['match_id_hash']  \n",
    "    for player_idx, player in enumerate(MATCH['players']):\n",
    "        team = 'r' if player_idx<=4 else 'd'\n",
    "        for k, v in player['ability_uses'].items():\n",
    "            abil_uses_L.append((idx, team, k, v))\n",
    "        for k, v in player['item_uses'].items():\n",
    "            item_uses_L.append((idx, team, k, v))\n",
    "_df = pd.DataFrame.from_records(abil_uses_L)\n",
    "_df[1] = _df[1].replace({'r':1, 'd':-1})\n",
    "_df[4] = _df[1]*_df[3]\n",
    "\n",
    "_df2 = pd.DataFrame.from_records(item_uses_L)\n",
    "_df2[1] = _df2[1].replace({'r':1, 'd':-1})\n",
    "_df2[4] = _df2[1]*_df2[3]\n",
    "\n",
    "X_tr = np.column_stack([X_tr, pd.concat([empty_df.join(_df.groupby([0, 2])[4].sum().unstack()),\\\n",
    "                                         empty_df.join(_df2.groupby([0, 2])[4].sum().unstack())], 1)])        "
   ]
  },
  {
   "cell_type": "markdown",
   "metadata": {},
   "source": [
    "#### Игроки (действия, причины получения золотта, серии убийств, мульти убийства, пинги, причины получения опыта)"
   ]
  },
  {
   "cell_type": "code",
   "execution_count": 21,
   "metadata": {},
   "outputs": [
    {
     "data": {
      "application/vnd.jupyter.widget-view+json": {
       "model_id": "99067382848b4621b7930652cbb47f9e",
       "version_major": 2,
       "version_minor": 0
      },
      "text/plain": [
       "HBox(children=(FloatProgress(value=0.0, max=39675.0), HTML(value='')))"
      ]
     },
     "metadata": {},
     "output_type": "display_data"
    },
    {
     "name": "stdout",
     "output_type": "stream",
     "text": [
      "\n"
     ]
    },
    {
     "data": {
      "text/plain": [
       "4"
      ]
     },
     "execution_count": 21,
     "metadata": {},
     "output_type": "execute_result"
    }
   ],
   "source": [
    "LL = ['actions', 'gold_reasons', 'kill_streaks', 'life_state', 'multi_kills', 'pings', 'xp_reasons']\n",
    "D = defaultdict(list)\n",
    "for MATCH in tqdm_notebook(read_matches(PATH_TR), total = TOTAL_TR):\n",
    "    idx = MATCH['match_id_hash']  \n",
    "    for player_idx, player in enumerate(MATCH['players']):\n",
    "        team = 'r' if player_idx<=4 else 'd'\n",
    "        for key in LL:\n",
    "            for k, v in player[key].items():\n",
    "                D[key].append((idx, team, k, v))\n",
    "_dfs = []\n",
    "for k, v in D.items():\n",
    "    _df = pd.DataFrame.from_records(v)\n",
    "    _df[4] = _df[1].replace({'r':1, 'd':-1}) * _df[3]\n",
    "    _dfs.append(empty_df.join(_df.groupby([0, 2])[4].sum().unstack()))\n",
    "    \n",
    "X_tr = np.column_stack([X_tr,pd.concat(_dfs, 1)])\n",
    "del D, _dfs, _df\n",
    "gc.collect()"
   ]
  },
  {
   "cell_type": "markdown",
   "metadata": {},
   "source": [
    "#### Игроки (урон)"
   ]
  },
  {
   "cell_type": "code",
   "execution_count": 22,
   "metadata": {},
   "outputs": [
    {
     "data": {
      "application/vnd.jupyter.widget-view+json": {
       "model_id": "a648256911934857ae5bb5a3568ab3f4",
       "version_major": 2,
       "version_minor": 0
      },
      "text/plain": [
       "HBox(children=(FloatProgress(value=0.0, max=39675.0), HTML(value='')))"
      ]
     },
     "metadata": {},
     "output_type": "display_data"
    },
    {
     "name": "stdout",
     "output_type": "stream",
     "text": [
      "\n"
     ]
    }
   ],
   "source": [
    "dmg_L = []\n",
    "for MATCH in tqdm_notebook(read_matches(PATH_TR), total = TOTAL_TR):\n",
    "    idx = MATCH['match_id_hash']\n",
    "    for player_idx, player in enumerate(MATCH['players']):\n",
    "        team = 'r' if player_idx<=4 else 'd'   \n",
    "        for k, v in player['damage'].items():\n",
    "            dmg_L.append((idx, team, k, v))\n",
    "_df = pd.DataFrame.from_records(dmg_L)  \n",
    "_df[4] = _df[1].replace({'r':1, 'd':-1}) * _df[3]\n",
    "X_tr = np.column_stack([X_tr,empty_df.join(_df.groupby([0, 2])[4].sum().unstack())])"
   ]
  },
  {
   "cell_type": "code",
   "execution_count": 23,
   "metadata": {},
   "outputs": [
    {
     "name": "stdout",
     "output_type": "stream",
     "text": [
      "Кол-во признаков == 6618\n"
     ]
    }
   ],
   "source": [
    "print('Кол-во признаков == {}'.format(X_tr.shape[1]))"
   ]
  },
  {
   "cell_type": "code",
   "execution_count": 28,
   "metadata": {},
   "outputs": [],
   "source": [
    "# with open('X_tr.pickle', 'wb') as f:\n",
    "#     pickle.dump(X_tr, f)\n",
    "# with open('y_tr.pickle', 'wb') as f:\n",
    "#     pickle.dump(y_tr, f)"
   ]
  },
  {
   "cell_type": "code",
   "execution_count": 4,
   "metadata": {},
   "outputs": [],
   "source": [
    "with open('X_tr.pickle', 'rb') as f:\n",
    "    X_tr = pickle.load(f)\n",
    "with open('y_tr.pickle', 'rb') as f:\n",
    "    y_tr = pickle.load(f)"
   ]
  },
  {
   "cell_type": "markdown",
   "metadata": {},
   "source": [
    "#### Отбираем признаки"
   ]
  },
  {
   "cell_type": "code",
   "execution_count": null,
   "metadata": {},
   "outputs": [],
   "source": [
    "def _select_features(estimator, X, y, cv, scoring, holdout_share, stratify, seed):\n",
    "    \n",
    "    '''Рекурсивно отбирает признаки (в соответствии с метриками на валидационной и на отложенной выборках)'''\n",
    "    \n",
    "    ############################################################################################################\n",
    "    def _get_val_holdout_scores(estimator, _X_TR, _X_HOLDOUT, Y_TR, Y_HOLDOUT, cv, metric):\n",
    "        mean_cv = cross_validate(estimator, _X_TR, Y_TR, cv = cv, scoring = metric)['test_score'].mean()\n",
    "        estimator.fit(X_TR[:, current_features], Y_TR)\n",
    "        Y_PREDPROB = estimator.predict_proba(_X_HOLDOUT)[:, 1]\n",
    "        Y_PRED = estimator.predict(_X_HOLDOUT)[:, 1]\n",
    "        if metric == 'roc_auc':\n",
    "            holdout = roc_auc_score(Y_HOLDOUT, Y_PREDPROB)\n",
    "        if metric == 'accuracy':\n",
    "            holdout = accuracy_score(Y_HOLDOUT, Y_PRED)\n",
    "        if metric == 'precision':\n",
    "            holdout = precision_score(Y_HOLDOUT, Y_PRED)\n",
    "        if metric == 'recall':\n",
    "            holdout = recall_score(Y_HOLDOUT, Y_PRED)\n",
    "        if metric == 'f1':\n",
    "            holdout = f1_score(Y_HOLDOUT, Y_PRED)\n",
    "        return (mean_cv, holdout)\n",
    "    #################################################################################################################\n",
    "    \n",
    "    _X, _y = np.array(X), np.array(y)\n",
    "    if stratify:\n",
    "        # разбиваем данные на трейн и отложенную части, сохраняя пропорции таргета\n",
    "        X_TR, X_HOLDOUT, Y_TR, Y_HOLDOUT = train_test_split(_X, _y, stratify = _y,\\\n",
    "                                                            test_size = holdout_share,\\\n",
    "                                                            random_state = seed, shuffle = True)\n",
    "    else:\n",
    "        X_TR, X_HOLDOUT, Y_TR, Y_HOLDOUT = train_test_split(_X, _y, test_size = holdout_share)\n",
    "        \n",
    "    # считаем валидацию каждого признака\n",
    "    scores = []\n",
    "    for i in tqdm_notebook(range(X_TR.shape[1])):\n",
    "        mean_cv = cross_validate(lgb_est, X_TR[:, i].reshape(-1,1), Y_TR, cv = skf3, scoring = 'roc_auc')['test_score'].mean()\n",
    "        scores.append(mean_cv)\n",
    "\n",
    "    # сортируем признаки в порядке убывания валидации\n",
    "    order = np.argsort(scores)[::-1]\n",
    "\n",
    "    # лучший набор, лучшая валидация, лучшая отложенная\n",
    "    # бесполезные признаки до и после повторного отбора \n",
    "    best_features, best_cv, best_holdout, to_drop_before, to_drop_after = [], .5, .5, [], []\n",
    "\n",
    "    # по признакам в порядке убывания валидации\n",
    "    for i in tqdm_notebook(order):\n",
    "\n",
    "        # добавляем к писку лучших\n",
    "        current_features = best_features+[i]\n",
    "\n",
    "        # валидация, отложенная\n",
    "        mean_cv, holdout = _get_val_holdout_scores(estimator, X_TR[:, current_features], X_HOLDOUT[:, current_features],\\\n",
    "                                                   Y_TR, Y_HOLDOUT, cv=cv, metric=scoring)\n",
    "\n",
    "        # если оба скора растут\n",
    "        if (mean_cv>best_cv) & (holdout>best_holdout):\n",
    "            # обновляем лучшие скоры, лучшие признаки\n",
    "            best_cv = mean_cv\n",
    "            best_holdout = holdout\n",
    "            best_features = current_features\n",
    "        else:\n",
    "            # если скоры не растут, добавляем признак в претенденты на удаление\n",
    "            to_drop_before.append(i)\n",
    "\n",
    "    # пока списки кандидатов на удаление ДО и ПОСЛЕ отбора не перестанут изменяться\n",
    "    while True:   \n",
    "\n",
    "        # добавляем очередной признак\n",
    "        for i in tqdm_notebook(to_drop_before):\n",
    "            current_features = best_features+[i]\n",
    "            \n",
    "            # валидация, отложенная\n",
    "            mean_cv, holdout = _get_val_holdout_scores(estimator, X_TR[:, current_features], X_HOLDOUT[:, current_features],\\\n",
    "                                                       Y_TR, Y_HOLDOUT, cv=cv, metric=scoring)\n",
    "            \n",
    "            if (mean_cv>best_cv) & (holdout>best_holdout):\n",
    "                best_cv = mean_cv\n",
    "                best_holdout = holdout\n",
    "                best_features = current_features\n",
    "            else:\n",
    "                # выбрасываем, если он не дал улучшений\n",
    "                to_drop_after.append(i)\n",
    "\n",
    "        # если списки признаков до и после отбора не изменились, прекращаем отбор\n",
    "        if len(to_drop_before) == len(to_drop_after):\n",
    "            break\n",
    "        else:\n",
    "            # список до --> список после, список после - пустой\n",
    "            to_drop_before = to_drop_after\n",
    "            to_drop_after = []   \n",
    "            \n",
    "    return (best_cv, best_holdout, best_features)\n",
    "    "
   ]
  },
  {
   "cell_type": "code",
   "execution_count": null,
   "metadata": {},
   "outputs": [],
   "source": [
    "SEED = 13\n",
    "best_cv, best_holdout, best_features = _select_features(estimator=LGBMClassifier(random_state = SEED),\\\n",
    "                                                        X=X_tr, y=y_tr,\\\n",
    "                                                        cv=StratifiedKFold(3, random_state = SEED),\\\n",
    "                                                        scoring='roc_auc',\\\n",
    "                                                        holdout_share=.2, stratify=True, seed=SEED)"
   ]
  },
  {
   "cell_type": "code",
   "execution_count": null,
   "metadata": {},
   "outputs": [],
   "source": [
    "X_selected_tr = X_tr[:, best_features]"
   ]
  },
  {
   "cell_type": "code",
   "execution_count": 31,
   "metadata": {},
   "outputs": [
    {
     "name": "stdout",
     "output_type": "stream",
     "text": [
      "валидация = 0.8332850212086367\n",
      "отложенная = 0.83517680812378\n"
     ]
    }
   ],
   "source": [
    "print('auc на валидации = {}\\nauc на отложенной = {}'.format(best_cv, best_holdout))"
   ]
  },
  {
   "cell_type": "markdown",
   "metadata": {},
   "source": [
    "#### Оптимизация гиперпараметров"
   ]
  },
  {
   "cell_type": "code",
   "execution_count": 77,
   "metadata": {},
   "outputs": [
    {
     "data": {
      "application/vnd.jupyter.widget-view+json": {
       "model_id": "ebcaad21ed4e48e998f94a9ebfc08159",
       "version_major": 2,
       "version_minor": 0
      },
      "text/plain": [
       "HBox(children=(FloatProgress(value=0.0), HTML(value='')))"
      ]
     },
     "metadata": {},
     "output_type": "display_data"
    },
    {
     "name": "stdout",
     "output_type": "stream",
     "text": [
      "\n"
     ]
    }
   ],
   "source": [
    "best_params_d = {}\n",
    "convergence_grid = {'learning_rate' : np.linspace(.005, .1, 100).tolist(),              \n",
    "                    'n_estimators': [100, 500]}\n",
    "best_score = .5\n",
    "for lr in tqdm_notebook(convergence_grid['learning_rate']):\n",
    "    for n_estimators in tqdm_notebook(convergence_grid['n_estimators']):\n",
    "    mean_score = cross_validate(LGBMClassifier(random_state = SEED, learning_rate = lr,\\\n",
    "                                               n_estimators =n_estimators),\\\n",
    "                       X_selected_tr, y_tr,\\\n",
    "                       scoring = 'roc_auc',\\\n",
    "                       cv = StratifiedKFold(3, random_state = SEED))['test_score'].mean()        \n",
    "    if mean_score>best_score:\n",
    "        best_score = mean_score\n",
    "        best_lr = lr\n",
    "        best_n_estimators = n_estimators\n",
    "best_params_d['n_estimators'] = best_n_estimators\n",
    "best_params_d['learning_rate'] = best_lr\n",
    "\n",
    "complexity_grid = {'max_depth' : [3, 5, 7, 9, 25, 50, 75, 110, 130],\\\n",
    "                   'num_leaves': [2**power for power in range(2, 10)],\\\n",
    "                   'min_child_samples' : [20, 50, 100, 150, 250]}\n",
    "for max_depth in tqdm_notebook(complexity_grid['max_depth']):\n",
    "    for num_leaves in complexity_grid['num_leaves']:\n",
    "        for min_child_samples in complexity_grid['min_child_samples']:\n",
    "            est = LGBMClassifier(random_state = SEED, learning_rate = lr,\\\n",
    "                                 n_estimators =N, max_depth = max_depth,\\\n",
    "                                 num_leaves = num_leaves, min_child_samples = min_child_samples)\n",
    "            mean_score = cross_validate(est,\\\n",
    "                       X_selected_tr, y_tr,\\\n",
    "                       scoring = 'roc_auc',\\\n",
    "                       cv = StratifiedKFold(3, random_state = SEED))['test_score'].mean() \n",
    "            if mean_score>best_score:                \n",
    "                best_score = mean_score\n",
    "                best_max_depth = max_depth\n",
    "                best_num_leaves = num_leaves\n",
    "                best_min_child_samples = min_child_samples        \n",
    "best_params_d['max_depth'] = best_max_depth\n",
    "best_params_d['num_leaves'] = best_num_leaves\n",
    "best_params_d['min_child_samples'] = best_min_child_samples"
   ]
  },
  {
   "cell_type": "code",
   "execution_count": 116,
   "metadata": {},
   "outputs": [
    {
     "name": "stdout",
     "output_type": "stream",
     "text": [
      "1) auc(после оптимизациии lightgbm) = 0.834689319792246\n",
      "\n",
      "2) оптимизация гиперпараметров для lightgbm\n",
      "\n",
      "\t    параметр      | значение\n",
      "\t-----------------------------\n",
      "\tn_estimators      | 500.000\n",
      "\tlearning_rate     | 0.014\n",
      "\tmax_depth         | 3.000\n",
      "\tnum_leaves        | 4.000\n",
      "\tmin_child_samples | 150.000\n"
     ]
    }
   ],
   "source": [
    "print('1) auc(после оптимизациии lightgbm) = {}\\n'.format(best_score))\n",
    "\n",
    "print('2) оптимизация гиперпараметров для lightgbm\\n')\n",
    "print('\\t{:^17} | {}'.format('параметр', 'значение'))\n",
    "print('\\t-----------------------------')\n",
    "for k, v in best_params_d.items():\n",
    "    print('\\t{:<17} | {:.3f}'.format(k, v))"
   ]
  },
  {
   "cell_type": "code",
   "execution_count": 120,
   "metadata": {},
   "outputs": [
    {
     "data": {
      "application/vnd.jupyter.widget-view+json": {
       "model_id": "c4a0209f3a69449487cab9a40ad82bf4",
       "version_major": 2,
       "version_minor": 0
      },
      "text/plain": [
       "HBox(children=(FloatProgress(value=0.0, max=39675.0), HTML(value='')))"
      ]
     },
     "metadata": {},
     "output_type": "display_data"
    },
    {
     "name": "stdout",
     "output_type": "stream",
     "text": [
      "\n"
     ]
    }
   ],
   "source": [
    "targets_L =[]\n",
    "for MATCH in tqdm_notebook(read_matches(PATH_TR), total = TOTAL_TR):\n",
    "    MATCH['targets']['idx'] = MATCH['match_id_hash']\n",
    "    targets_L.append(MATCH['targets'])\n",
    "targets_df = pd.DataFrame.from_records(targets_L).set_index('idx')"
   ]
  },
  {
   "cell_type": "markdown",
   "metadata": {},
   "source": [
    "#### Соберем таймстемпы всех событий в матче"
   ]
  },
  {
   "cell_type": "code",
   "execution_count": 334,
   "metadata": {},
   "outputs": [
    {
     "data": {
      "application/vnd.jupyter.widget-view+json": {
       "model_id": "00e31788d26f4cdea762ca45f8b38b84",
       "version_major": 2,
       "version_minor": 0
      },
      "text/plain": [
       "HBox(children=(FloatProgress(value=0.0, max=39675.0), HTML(value='')))"
      ]
     },
     "metadata": {},
     "output_type": "display_data"
    },
    {
     "name": "stdout",
     "output_type": "stream",
     "text": [
      "\n"
     ]
    },
    {
     "data": {
      "application/vnd.jupyter.widget-view+json": {
       "model_id": "1bb6f78625ef455987fd9dfdf8abca73",
       "version_major": 2,
       "version_minor": 0
      },
      "text/plain": [
       "HBox(children=(FloatProgress(value=0.0, max=39675.0), HTML(value='')))"
      ]
     },
     "metadata": {},
     "output_type": "display_data"
    },
    {
     "name": "stdout",
     "output_type": "stream",
     "text": [
      "\n"
     ]
    }
   ],
   "source": [
    "timestamps_d = defaultdict(list)\n",
    "\n",
    "for MATCH in tqdm_notebook(read_matches(PATH_TR), total = TOTAL_TR):\n",
    "    idx = MATCH['match_id_hash']\n",
    "    try:\n",
    "        for mess in MATCH['chat']:\n",
    "            timestamps_d[idx].append(np.abs(mess['time']))\n",
    "    except:\n",
    "        pass\n",
    "    for tf in MATCH['teamfights']:\n",
    "        timestamps_d[idx].append(np.abs(tf['start']))\n",
    "\n",
    "    for obj in MATCH['objectives']:\n",
    "        timestamps_d[idx].append(np.abs(obj['time']))\n",
    "\n",
    "    for player in MATCH['players']:\n",
    "        for k, v in player.items():\n",
    "            if isinstance(v, dict):\n",
    "                for k2, v2 in v.items():\n",
    "                    if k2 == 'time':\n",
    "                        timestamps_d[idx].append(np.abs(v2))\n",
    "            if isinstance(v, list):\n",
    "                for el in v:\n",
    "                    if isinstance(el, dict):\n",
    "                        for k2, v2 in el.items():\n",
    "                            if k2 =='time':\n",
    "                                timestamps_d[idx].append(np.abs(v2))\n",
    "for k, v in timestamps_d.items():\n",
    "    timestamps_d[k] = np.unique(v) \n",
    "    \n",
    "durations_L = []\n",
    "for i in targets_df.index:    \n",
    "    durations_L.append((max(timestamps_d[i]), targets_df.loc[i, 'duration']))\n",
    "_df = pd.DataFrame.from_records(durations_L)\n",
    "_df.index = targets_df.index\n",
    "_df.columns = ['максимальная_временная_метка_сырые_данные', 'длительность_матча_организаторы']\n",
    "_df['таргет'] = targets_df['radiant_win'].astype(int)\n",
    "_df['убийство_рошана_организаторы'] = targets_df['next_roshan_team'].replace({None:np.nan})\n",
    "roshan_kills_L = []\n",
    "for MATCH in tqdm_notebook(read_matches(PATH_TR), total = TOTAL_TR):\n",
    "    idx = MATCH['match_id_hash']\n",
    "    for obj in MATCH['objectives']:\n",
    "        if obj['type'] == 'CHAT_MESSAGE_ROSHAN_KILL':\n",
    "            roshan_kills_L.append((idx, True))\n",
    "_df = _df.join(pd.DataFrame.from_records(roshan_kills_L).set_index(0).rename(columns = {1:'убийство_рошана_сырые_данные'}))\n",
    "\n",
    "_df['убийство_рошана_организаторы'] = _df['убийство_рошана_организаторы'].notna()"
   ]
  },
  {
   "cell_type": "code",
   "execution_count": 335,
   "metadata": {},
   "outputs": [
    {
     "name": "stdout",
     "output_type": "stream",
     "text": [
      "% совпавших значений убийства рошана (от организаторов, из описания матчей) = 36%\n",
      "Похоже, организаторы в \"убийство рошана\" дали совершенно другую статистику\n"
     ]
    }
   ],
   "source": [
    "print('% совпавших значений убийства рошана (от организаторов, из описания матчей) = {:.0%}'\\\n",
    "      .format((_df['убийство_рошана_сырые_данные'].fillna(0) == _df['убийство_рошана_организаторы'].fillna(0)).mean()))\n",
    "print('Похоже, организаторы в \"убийство рошана\" дали совершенно другую статистику')"
   ]
  },
  {
   "cell_type": "code",
   "execution_count": 336,
   "metadata": {},
   "outputs": [
    {
     "name": "stdout",
     "output_type": "stream",
     "text": [
      "\t\tсредние разные, alpha = .05\n"
     ]
    },
    {
     "data": {
      "image/png": "[encoded data removed]",
      "text/plain": [
       "<Figure size 432x288 with 1 Axes>"
      ]
     },
     "metadata": {},
     "output_type": "display_data"
    }
   ],
   "source": [
    "v1 = _df[_df['таргет'] == 1]['длительность_матча_организаторы']\n",
    "v2 = _df[_df['таргет'] != 1]['длительность_матча_организаторы']\n",
    "sns.kdeplot(v1, color = 'blue')\n",
    "sns.kdeplot(v2, color = 'red')\n",
    "plt.legend(['таргет ==1', 'таргет == 0'])\n",
    "plt.axvline(v1.mean(), linestyle = '--', color = 'blue')\n",
    "plt.axvline(v2.mean(), linestyle = '--', color = 'red')\n",
    "plt.title('длительность_матча_организаторы')\n",
    "plt.xlabel('длительность_матча')\n",
    "plt.ylabel('плотность')\n",
    "\n",
    "low1, high1 = np.percentile(np.mean(np.random.choice(v2.values, (1000, 100)), 1), [.025, .975])\n",
    "low2, high2 = np.percentile(np.mean(np.random.choice(v1.values, (1000, 100)), 1), [.025, .975])\n",
    "if ((low1<low2) & (high1<low2)) | ((low2<low1) & (high2<low1)):\n",
    "    print('\\t\\tсредние разные, alpha = .05')\n",
    "else:\n",
    "    print('\\t\\tсредние одинаковые, alpha = .05')\n",
    "    \n",
    "_df['длительность_матча_организаторы_минуты'] =(_df['длительность_матча_организаторы']/60)round().astype(int)\n",
    "mean_counts_df = _df.groupby('длительность_матча_организаторы_минуты')['таргет'].agg({'mean', 'count'})"
   ]
  },
  {
   "cell_type": "markdown",
   "metadata": {},
   "source": [
    "#### длительность матча начинает сильно влиять на его результат с ~50 минуты"
   ]
  },
  {
   "cell_type": "code",
   "execution_count": 346,
   "metadata": {},
   "outputs": [
    {
     "data": {
      "image/png": "[encoded data removed]",
      "text/plain": [
       "<Figure size 864x504 with 1 Axes>"
      ]
     },
     "metadata": {},
     "output_type": "display_data"
    }
   ],
   "source": [
    "ser = mean_counts_df[mean_counts_df['count'] >= 10]['mean'].sort_values(ascending= False)\n",
    "fig, ax = plt.subplots(figsize = (12, 7))\n",
    "for k, v in ser.items():\n",
    "    plt.scatter(k, v, color = 'black')\n",
    "plt.xlabel('разница в длительности матча по протоколу и длительности, данной оргнизаторами (в минутах)')\n",
    "plt.ylabel('доля побед radiant')\n",
    "ax.annotate('аномально большой винрейт', xy=(62, .84), xytext=(35, .84),\n",
    "            arrowprops=dict(facecolor='black', shrink=0.05),\n",
    "            )\n",
    "ax.annotate('аномально маленьеий винрейт', xy=(48, 0.392), xytext=(25, 0.392),\n",
    "            arrowprops=dict(facecolor='black', shrink=0.05),\n",
    "            )\n",
    "q25, q75 = ser.quantile([.25, .75])\n",
    "iqr = q75-q25\n",
    "plt.axhline(ser[(ser > q25-1.5*iqr) & (ser < q75+1.5*iqr)].mean(), linestyle = '--')\n",
    "plt.legend(['средний винрейт (без аномалий)', 'винрейт <-> длительность матча в минутах'])\n",
    "plt.axvspan(48, 70, alpha = .2, color = 'red')\n",
    "plt.show()    "
   ]
  },
  {
   "cell_type": "code",
   "execution_count": 349,
   "metadata": {},
   "outputs": [
    {
     "data": {
      "application/vnd.jupyter.widget-view+json": {
       "model_id": "c054507b582a45f0bc69b7d30ba15a7c",
       "version_major": 2,
       "version_minor": 0
      },
      "text/plain": [
       "HBox(children=(FloatProgress(value=0.0, max=39675.0), HTML(value='')))"
      ]
     },
     "metadata": {},
     "output_type": "display_data"
    },
    {
     "name": "stdout",
     "output_type": "stream",
     "text": [
      "\n"
     ]
    }
   ],
   "source": [
    "obj_L = []\n",
    "for MATCH in tqdm_notebook(read_matches(PATH_TR), total = TOTAL_TR):\n",
    "    idx = MATCH['match_id_hash']  \n",
    "    for obj in MATCH['objectives']:\n",
    "        obj['idx'] = idx\n",
    "        obj_L.append(obj)\n",
    "df = pd.DataFrame.from_records(obj_L)\n",
    "\n",
    "df.loc[df['team'].isna(), 'flag'] = df[df['team'].isna()]['player_slot'].apply(lambda x: 2 if x<100 else 3)\n",
    "df.loc[~df['team'].isna(), 'flag'] = df[~df['team'].isna()]['team']\n",
    "df.loc[df['flag'].isin([60, 100]), 'flag'] = df[df['flag'].isin([60, 100])]['slot'].apply(lambda x: 2 if x<=4 else 3)\n",
    "df['flag'] = df['flag'].replace({2:1, 3:-1})\n",
    "\n",
    "df_obj_counts = df.groupby(['idx', 'flag']).size().unstack()\n",
    "df_obj_counts = df_obj_counts.join(targets_df['duration'].to_frame('длительность'))\n",
    "df_obj_counts = df_obj_counts.rename(columns = {-1:'d', 1:'r'})\n",
    "df_obj_counts = df_obj_counts.join(targets_df['time_remaining'].to_frame('длительность2'))"
   ]
  },
  {
   "cell_type": "code",
   "execution_count": 387,
   "metadata": {},
   "outputs": [],
   "source": [
    "# with open('X_selected_tr.pickle', 'wb') as f:\n",
    "#     pickle.dump(X_selected_tr, f)"
   ]
  },
  {
   "cell_type": "code",
   "execution_count": null,
   "metadata": {},
   "outputs": [],
   "source": [
    "X_selected_tr"
   ]
  },
  {
   "cell_type": "code",
   "execution_count": 390,
   "metadata": {},
   "outputs": [],
   "source": [
    "_to_add_df = targets_df[['duration', 'time_remaining', 'next_roshan_team']]\n",
    "_to_add_df['next_roshan_team'] = _to_add_df['next_roshan_team'].replace({None:'other'}).factorize()[0]"
   ]
  },
  {
   "cell_type": "code",
   "execution_count": 392,
   "metadata": {},
   "outputs": [],
   "source": [
    "X_sel2_tr = np.column_stack([X_selected_tr, _to_add_df])"
   ]
  },
  {
   "cell_type": "code",
   "execution_count": 393,
   "metadata": {},
   "outputs": [],
   "source": [
    "mean_score = cross_validate(LGBMClassifier(random_state = SEED),\\\n",
    "                       X_sel2_tr, y_tr,\\\n",
    "                       scoring = 'roc_auc',\\\n",
    "                       cv = StratifiedKFold(3, random_state = SEED))['test_score'].mean() "
   ]
  },
  {
   "cell_type": "code",
   "execution_count": 399,
   "metadata": {},
   "outputs": [
    {
     "name": "stdout",
     "output_type": "stream",
     "text": [
      "auc на валидации с признаками, данными организаторами(отсутсвуют в сырых файлах) = 0.8953176130444199\n",
      "auc первого места = 0.86\n"
     ]
    }
   ],
   "source": [
    "print('auc на валидации с признаками, данными организаторами(отсутсвуют в сырых файлах) = {}'.format(mean_score))\n",
    "print('auc первого места = 0.86')"
   ]
  },
  {
   "cell_type": "code",
   "execution_count": null,
   "metadata": {},
   "outputs": [],
   "source": []
  },
  {
   "cell_type": "code",
   "execution_count": null,
   "metadata": {},
   "outputs": [],
   "source": []
  },
  {
   "cell_type": "code",
   "execution_count": null,
   "metadata": {},
   "outputs": [],
   "source": []
  },
  {
   "cell_type": "code",
   "execution_count": null,
   "metadata": {},
   "outputs": [],
   "source": []
  },
  {
   "cell_type": "code",
   "execution_count": null,
   "metadata": {},
   "outputs": [],
   "source": []
  },
  {
   "cell_type": "code",
   "execution_count": null,
   "metadata": {},
   "outputs": [],
   "source": []
  }
 ],
 "metadata": {
  "kernelspec": {
   "display_name": "Python 3",
   "language": "python",
   "name": "python3"
  },
  "language_info": {
   "codemirror_mode": {
    "name": "ipython",
    "version": 3
   },
   "file_extension": ".py",
   "mimetype": "text/x-python",
   "name": "python",
   "nbconvert_exporter": "python",
   "pygments_lexer": "ipython3",
   "version": "3.8.3"
  }
 },
 "nbformat": 4,
 "nbformat_minor": 4
}
