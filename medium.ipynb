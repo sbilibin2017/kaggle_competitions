{
 "cells": [
  {
   "cell_type": "markdown",
   "metadata": {},
   "source": [
    "## Соревнование How good is your Medium article?\n",
    "\n",
    "#### Описание:\n",
    "The training set is comprised of 62313 articles published on Medium before July 1, 2017. (train.json.gz, ungzipped ~2.1 Gb). The test set contains 34645 articles published on Medium from July 1, 2017 till March 3, 2018. (test.json.gz, ungzipped ~1.16 Gb).\n",
    "\n",
    "#### Цель:\n",
    "предсказать число рекомендаций для статьи на medium\n",
    "\n",
    "#### Данные:\n",
    "* id статьи\n",
    "* дата публикации\n",
    "* автор публикации\n",
    "* content - текст статьи в html формате\n",
    "* meta_tags - дополнительная информация"
   ]
  },
  {
   "cell_type": "code",
   "execution_count": 4,
   "metadata": {},
   "outputs": [],
   "source": [
    "import pandas as pd\n",
    "import numpy as np\n",
    "from scipy import stats\n",
    "import matplotlib.pyplot as plt\n",
    "import seaborn as sns\n",
    "plt.style.use('ggplot')\n",
    "import warnings\n",
    "warnings.filterwarnings('ignore')\n",
    "from sklearn.feature_extraction.text import TfidfVectorizer\n",
    "from scipy.sparse import vstack, hstack, csc_matrix\n",
    "from sklearn.preprocessing import OneHotEncoder\n",
    "from lightgbm import LGBMClassifier\n",
    "from sklearn.model_selection import KFold, StratifiedKFold, TimeSeriesSplit,\\\n",
    "                                    cross_val_score, cross_validate, GridSearchCV, ParameterGrid\n",
    "from sklearn.linear_model import LogisticRegression\n",
    "from sklearn.metrics import roc_auc_score\n",
    "from tqdm import tqdm_notebook\n",
    "from collections import defaultdict\n",
    "import time\n",
    "import pickle\n",
    "from sklearn.preprocessing import MinMaxScaler\n",
    "from sklearn.ensemble import RandomForestClassifier\n",
    "import category_encoders as ce\n",
    "import json\n",
    "from bs4 import BeautifulSoup\n",
    "import re\n",
    "from lightgbm import LGBMRegressor\n",
    "from sklearn.linear_model import Ridge, Lasso, LinearRegression\n",
    "import gc"
   ]
  },
  {
   "cell_type": "code",
   "execution_count": 5,
   "metadata": {},
   "outputs": [],
   "source": [
    "# функция для чтения json файлов\n",
    "def read_json(path_to_file):\n",
    "    with open(path_to_file) as fin:\n",
    "        for line in fin: \n",
    "            yield json.loads(line)"
   ]
  },
  {
   "cell_type": "code",
   "execution_count": 6,
   "metadata": {},
   "outputs": [],
   "source": [
    "# пути к файлам, размеры файлов\n",
    "PATH_TR, PATH_TE = 'train.json', 'test.json'\n",
    "LEN_TR, LEN_TE = 62313, None\n",
    "y_tr = pd.read_csv('train_log1p_recommends.csv', index_col='id')['log_recommends'].values\n",
    "IDX_SPLIT = np.int32(LEN_TR*.9)\n",
    "NFOLDS = 3\n",
    "SEED = 13"
   ]
  },
  {
   "cell_type": "code",
   "execution_count": 7,
   "metadata": {},
   "outputs": [],
   "source": [
    "def _clean_text(string):\n",
    "    '''\n",
    "    чистит текст от пунктуации, эмоджи, приводит к нижнему регистру\n",
    "    '''\n",
    "    # приводим к нижнему регистру\n",
    "    string_lower = string.lower().strip()  \n",
    "    # удаляем пунктуацию\n",
    "    punctuation = \"!@#$%^&*()_+<>?:.,;-«»–“”''\" \n",
    "    for c in string_lower:\n",
    "        if c in punctuation:\n",
    "            string_lower = string_lower.replace(c, \"\")  \n",
    "    string_lower = string_lower.replace('medium', \"\").strip()\n",
    "    \n",
    "    emoji_pattern = re.compile(\"[\"\n",
    "            u\"\\U0001F600-\\U0001F64F\"  \n",
    "            u\"\\U0001F300-\\U0001F5FF\"  \n",
    "            u\"\\U0001F680-\\U0001F6FF\"  \n",
    "            u\"\\U0001F1E0-\\U0001F1FF\"  \n",
    "                               \"]+\", flags=re.UNICODE)\n",
    "    # удаляем эмоджи\n",
    "    string_lower = emoji_pattern.sub(r'', string_lower).strip()    \n",
    "    return string_lower"
   ]
  },
  {
   "cell_type": "code",
   "execution_count": 8,
   "metadata": {},
   "outputs": [],
   "source": [
    "# D = defaultdict(list)\n",
    "# for article in tqdm_notebook(read_json(PATH_TR), total = LEN_TR):    \n",
    "    \n",
    "#     D['_id'].append(article['_id'])\n",
    "#     D['_timestamp'].append(article['_timestamp'])\n",
    "#     D['_spider'].append(article['_spider'])\n",
    "#     D['url'].append(article['url'])\n",
    "#     D['domain'].append(article['domain'])\n",
    "#     D['published_date'].append(pd.Timestamp(article['published']['$date']))\n",
    "\n",
    "#     # название статьи (чистим от пунктуации, приводим к нижнему регистру, удаляем лишние пропуски)\n",
    "#     D['title'].append(_clean_text(article['title']))\n",
    "    \n",
    "#     # чистим текст от html тэгов\n",
    "#     text = BeautifulSoup(article['content'], \"lxml\").text    \n",
    "#     D['text'].append(_clean_text(text))\n",
    "    \n",
    "#     # автор\n",
    "#     if article['author']['name'] is None:\n",
    "#         D['name'].append(np.nan)\n",
    "#     else:\n",
    "#         D['name'].append(name)\n",
    "\n",
    "#     # url статьи\n",
    "#     if article['author']['url'] is None:\n",
    "#         D['url'].append(np.nan)\n",
    "#     else:\n",
    "#         D['url'].append(article['author']['url'])\n",
    "\n",
    "#     # twitter автора\n",
    "#     if article['author']['twitter'] is None:\n",
    "#         D['twitter'].append(np.nan)\n",
    "#     else:\n",
    "#         D['twitter'].append(article['author']['twitter'])\n",
    "        \n",
    "# # with open ('D.pickle', 'wb') as f:\n",
    "# #     pickle.dump(D, f)"
   ]
  },
  {
   "cell_type": "code",
   "execution_count": 9,
   "metadata": {},
   "outputs": [],
   "source": [
    "with open ('D.pickle', 'rb') as f:\n",
    "    D = pickle.load(f)"
   ]
  },
  {
   "cell_type": "markdown",
   "metadata": {},
   "source": [
    "#### целевая переменная"
   ]
  },
  {
   "cell_type": "code",
   "execution_count": 10,
   "metadata": {},
   "outputs": [],
   "source": [
    "def inv_boxcox(y,ld):\n",
    "    '''обратное преобразование бокса-кокса'''\n",
    "    if ld == 0:\n",
    "        return(np.exp(y))\n",
    "    else:\n",
    "        return(np.exp(np.log(ld*y+1)/ld))"
   ]
  },
  {
   "cell_type": "code",
   "execution_count": 11,
   "metadata": {},
   "outputs": [
    {
     "data": {
      "image/png": "[encoded data removed]",
      "text/plain": [
       "<Figure size 432x288 with 1 Axes>"
      ]
     },
     "metadata": {},
     "output_type": "display_data"
    }
   ],
   "source": [
    "# box-cox преобразование(чтобы исправить сильную скошенность)\n",
    "y_boxcox_tr, ld = stats.boxcox(y_tr)\n",
    "\n",
    "plt.hist(y_tr, density = 1, alpha = .7)\n",
    "plt.hist(y_boxcox_tr, density = 1, alpha = .7)\n",
    "plt.legend(['log', 'boxcol+log'])\n",
    "plt.title('target')\n",
    "plt.ylabel('share')\n",
    "plt.xlabel('value')\n",
    "plt.show()"
   ]
  },
  {
   "cell_type": "code",
   "execution_count": 12,
   "metadata": {},
   "outputs": [
    {
     "data": {
      "text/plain": [
       "dict_keys(['_id', '_timestamp', '_spider', 'url', 'domain', 'published_date', 'title', 'text', 'name', 'twitter'])"
      ]
     },
     "execution_count": 12,
     "metadata": {},
     "output_type": "execute_result"
    }
   ],
   "source": [
    "D.keys()"
   ]
  },
  {
   "cell_type": "code",
   "execution_count": 13,
   "metadata": {},
   "outputs": [],
   "source": [
    "lin_reg = LinearRegression()\n",
    "ridge_reg = Ridge(random_state = SEED)\n",
    "lasso_reg = Lasso(random_state = SEED)\n",
    "lgb_reg = LGBMRegressor(random_state = SEED)"
   ]
  },
  {
   "cell_type": "markdown",
   "metadata": {},
   "source": [
    "#### title"
   ]
  },
  {
   "cell_type": "code",
   "execution_count": 14,
   "metadata": {},
   "outputs": [
    {
     "data": {
      "application/vnd.jupyter.widget-view+json": {
       "model_id": "cfe7bdb2cd4548c3aa2d46f2324fc906",
       "version_major": 2,
       "version_minor": 0
      },
      "text/plain": [
       "HBox(children=(FloatProgress(value=0.0, max=10.0), HTML(value='')))"
      ]
     },
     "metadata": {},
     "output_type": "display_data"
    },
    {
     "data": {
      "application/vnd.jupyter.widget-view+json": {
       "model_id": "70de6ad026fc4d5f8a991d604d99976a",
       "version_major": 2,
       "version_minor": 0
      },
      "text/plain": [
       "HBox(children=(FloatProgress(value=0.0, max=6.0), HTML(value='')))"
      ]
     },
     "metadata": {},
     "output_type": "display_data"
    },
    {
     "name": "stdout",
     "output_type": "stream",
     "text": [
      "\n"
     ]
    },
    {
     "data": {
      "application/vnd.jupyter.widget-view+json": {
       "model_id": "995698c48cd047399507626a0382c44d",
       "version_major": 2,
       "version_minor": 0
      },
      "text/plain": [
       "HBox(children=(FloatProgress(value=0.0, max=6.0), HTML(value='')))"
      ]
     },
     "metadata": {},
     "output_type": "display_data"
    },
    {
     "name": "stdout",
     "output_type": "stream",
     "text": [
      "\n"
     ]
    },
    {
     "data": {
      "application/vnd.jupyter.widget-view+json": {
       "model_id": "a68a50b638594db68bd58848c9871d80",
       "version_major": 2,
       "version_minor": 0
      },
      "text/plain": [
       "HBox(children=(FloatProgress(value=0.0, max=6.0), HTML(value='')))"
      ]
     },
     "metadata": {},
     "output_type": "display_data"
    },
    {
     "name": "stdout",
     "output_type": "stream",
     "text": [
      "\n"
     ]
    },
    {
     "data": {
      "application/vnd.jupyter.widget-view+json": {
       "model_id": "896fbce02e994f35abe40e318d1879a7",
       "version_major": 2,
       "version_minor": 0
      },
      "text/plain": [
       "HBox(children=(FloatProgress(value=0.0, max=6.0), HTML(value='')))"
      ]
     },
     "metadata": {},
     "output_type": "display_data"
    },
    {
     "name": "stdout",
     "output_type": "stream",
     "text": [
      "\n"
     ]
    },
    {
     "data": {
      "application/vnd.jupyter.widget-view+json": {
       "model_id": "6aad049145584de78de4ae8a863c9261",
       "version_major": 2,
       "version_minor": 0
      },
      "text/plain": [
       "HBox(children=(FloatProgress(value=0.0, max=6.0), HTML(value='')))"
      ]
     },
     "metadata": {},
     "output_type": "display_data"
    },
    {
     "name": "stdout",
     "output_type": "stream",
     "text": [
      "\n"
     ]
    },
    {
     "data": {
      "application/vnd.jupyter.widget-view+json": {
       "model_id": "8a7bbe633e9a46f5a9f7f08cadabbf5a",
       "version_major": 2,
       "version_minor": 0
      },
      "text/plain": [
       "HBox(children=(FloatProgress(value=0.0, max=6.0), HTML(value='')))"
      ]
     },
     "metadata": {},
     "output_type": "display_data"
    },
    {
     "name": "stdout",
     "output_type": "stream",
     "text": [
      "\n"
     ]
    },
    {
     "data": {
      "application/vnd.jupyter.widget-view+json": {
       "model_id": "f8b08e518d64462f85331fcacc461794",
       "version_major": 2,
       "version_minor": 0
      },
      "text/plain": [
       "HBox(children=(FloatProgress(value=0.0, max=6.0), HTML(value='')))"
      ]
     },
     "metadata": {},
     "output_type": "display_data"
    },
    {
     "name": "stdout",
     "output_type": "stream",
     "text": [
      "\n"
     ]
    },
    {
     "data": {
      "application/vnd.jupyter.widget-view+json": {
       "model_id": "a43d932bd6bc421dbec98a6f64e6e941",
       "version_major": 2,
       "version_minor": 0
      },
      "text/plain": [
       "HBox(children=(FloatProgress(value=0.0, max=6.0), HTML(value='')))"
      ]
     },
     "metadata": {},
     "output_type": "display_data"
    },
    {
     "name": "stdout",
     "output_type": "stream",
     "text": [
      "\n"
     ]
    },
    {
     "data": {
      "application/vnd.jupyter.widget-view+json": {
       "model_id": "e9a0e53d183848ec9047b470738b20c3",
       "version_major": 2,
       "version_minor": 0
      },
      "text/plain": [
       "HBox(children=(FloatProgress(value=0.0, max=6.0), HTML(value='')))"
      ]
     },
     "metadata": {},
     "output_type": "display_data"
    },
    {
     "name": "stdout",
     "output_type": "stream",
     "text": [
      "\n"
     ]
    },
    {
     "data": {
      "application/vnd.jupyter.widget-view+json": {
       "model_id": "bfde77233c574503a21b48432edf6c84",
       "version_major": 2,
       "version_minor": 0
      },
      "text/plain": [
       "HBox(children=(FloatProgress(value=0.0, max=6.0), HTML(value='')))"
      ]
     },
     "metadata": {},
     "output_type": "display_data"
    },
    {
     "name": "stdout",
     "output_type": "stream",
     "text": [
      "\n",
      "\n"
     ]
    }
   ],
   "source": [
    "title_tfidf_param_grid = {'ngram_range':[(1, i) for i in range(1, 11)],\\\n",
    "                          'max_features':[1e1, 1e2, 1e3, 1e4, 1e5, 1e6]}                 \n",
    "\n",
    "L_title = []\n",
    "for ngram_range in tqdm_notebook(title_tfidf_param_grid['ngram_range']):\n",
    "    for max_features in tqdm_notebook(title_tfidf_param_grid['max_features']):\n",
    "        vectorizer = TfidfVectorizer(ngram_range = ngram_range, max_features = int(max_features))\n",
    "        tfidf_tr = csc_matrix(vectorizer.fit_transform(D['title']))\n",
    "        lgb_mean_cv = cross_validate(lgb_reg, tfidf_tr[:IDX_SPLIT], y_boxcox_tr[:IDX_SPLIT],\n",
    "               cv=NFOLDS,\n",
    "               scoring = 'neg_mean_absolute_error')['test_score'].mean()\n",
    "        ridge_mean_cv = cross_validate(ridge_reg, tfidf_tr[:IDX_SPLIT], y_boxcox_tr[:IDX_SPLIT],\n",
    "               cv=NFOLDS,\n",
    "               scoring = 'neg_mean_absolute_error')['test_score'].mean()\n",
    "        lasso_mean_cv = cross_validate(lasso_reg, tfidf_tr[:IDX_SPLIT], y_boxcox_tr[:IDX_SPLIT],\n",
    "               cv=NFOLDS,\n",
    "               scoring = 'neg_mean_absolute_error')['test_score'].mean()\n",
    "        linreg_mean_cv = cross_validate(lin_reg, tfidf_tr[:IDX_SPLIT], y_boxcox_tr[:IDX_SPLIT],\n",
    "               cv=NFOLDS,\n",
    "               scoring = 'neg_mean_absolute_error')['test_score'].mean()\n",
    "        L_title.append((ngram_range, max_features, lgb_mean_cv, ridge_mean_cv, lasso_mean_cv, linreg_mean_cv))\n",
    "        del tfidf_tr, lgb_mean_cv, ridge_mean_cv, lasso_mean_cv, linreg_mean_cv\n",
    "        gc.collect()"
   ]
  },
  {
   "cell_type": "code",
   "execution_count": 15,
   "metadata": {},
   "outputs": [
    {
     "data": {
      "text/plain": [
       "ngram_range          (1, 3)\n",
       "max_features      1000000.0\n",
       "lgb_mean_cv       -0.662311\n",
       "ridge_mean_cv     -0.638334\n",
       "lasso_mean_cv     -0.749675\n",
       "linreg_mean_cv    -0.625188\n",
       "Name: 17, dtype: object"
      ]
     },
     "execution_count": 15,
     "metadata": {},
     "output_type": "execute_result"
    }
   ],
   "source": [
    "cvAB_title = pd.DataFrame(L_title, columns = ['ngram_range', 'max_features',\\\n",
    "                                              'lgb_mean_cv', 'ridge_mean_cv',\\\n",
    "                                              'lasso_mean_cv','linreg_mean_cv'])\n",
    "cvAB_title.iloc[cvAB_title.iloc[:, 2:].max(1).idxmax()]"
   ]
  },
  {
   "cell_type": "markdown",
   "metadata": {},
   "source": [
    "#### text"
   ]
  },
  {
   "cell_type": "code",
   "execution_count": null,
   "metadata": {},
   "outputs": [
    {
     "data": {
      "application/vnd.jupyter.widget-view+json": {
       "model_id": "3a87e2c4d45b4141ab575b595cfb81a7",
       "version_major": 2,
       "version_minor": 0
      },
      "text/plain": [
       "HBox(children=(FloatProgress(value=0.0, max=2.0), HTML(value='')))"
      ]
     },
     "metadata": {},
     "output_type": "display_data"
    },
    {
     "data": {
      "application/vnd.jupyter.widget-view+json": {
       "model_id": "8d883a549eaf4491acafcb4e6251ea16",
       "version_major": 2,
       "version_minor": 0
      },
      "text/plain": [
       "HBox(children=(FloatProgress(value=0.0, max=1.0), HTML(value='')))"
      ]
     },
     "metadata": {},
     "output_type": "display_data"
    },
    {
     "name": "stdout",
     "output_type": "stream",
     "text": [
      "\n"
     ]
    },
    {
     "data": {
      "application/vnd.jupyter.widget-view+json": {
       "model_id": "43cc3da66d2647e2874de6ca20478d67",
       "version_major": 2,
       "version_minor": 0
      },
      "text/plain": [
       "HBox(children=(FloatProgress(value=0.0, max=1.0), HTML(value='')))"
      ]
     },
     "metadata": {},
     "output_type": "display_data"
    }
   ],
   "source": [
    "text_tfidf_param_grid = {'ngram_range':[(1, i) for i in np.arange(1, 3)],\\\n",
    "                         'max_features':[1e6]}                 \n",
    "\n",
    "L_text = []\n",
    "for ngram_range in tqdm_notebook(text_tfidf_param_grid['ngram_range']):\n",
    "    for max_features in tqdm_notebook(text_tfidf_param_grid['max_features']):\n",
    "        vectorizer = TfidfVectorizer(ngram_range = ngram_range, max_features = int(max_features))\n",
    "        \n",
    "        tfidf_tr = csc_matrix(vectorizer.fit_transform(D['text']))\n",
    "        linreg_mean_cv = cross_validate(lin_reg, tfidf_tr[:IDX_SPLIT], y_boxcox_tr[:IDX_SPLIT],\n",
    "               cv=NFOLDS,\n",
    "               scoring = 'neg_mean_absolute_error')['test_score'].mean()  \n",
    "        ridge_mean_cv = cross_validate(ridge_reg, tfidf_tr[:IDX_SPLIT], y_boxcox_tr[:IDX_SPLIT],\n",
    "               cv=NFOLDS,\n",
    "               scoring = 'neg_mean_absolute_error')['test_score'].mean()   \n",
    "        L_text.append((ngram_range, max_features, ridge_mean_cv, linreg_mean_cv))\n",
    "        del ridge_mean_cv, linreg_mean_cv, tfidf_tr\n",
    "        gc.collect()"
   ]
  },
  {
   "cell_type": "code",
   "execution_count": null,
   "metadata": {},
   "outputs": [],
   "source": [
    "cvAB_text = pd.DataFrame(L_text, columns = ['ngram_range', 'max_features',\\\n",
    "                                              'lgb_mean_cv', 'ridge_mean_cv',\\\n",
    "                                              'lasso_mean_cv', 'linreg_cv'])\n",
    "cvAB_text.iloc[cvAB_text.iloc[:, 2:].max(1).idxmax()]"
   ]
  },
  {
   "cell_type": "code",
   "execution_count": null,
   "metadata": {},
   "outputs": [],
   "source": []
  },
  {
   "cell_type": "code",
   "execution_count": null,
   "metadata": {},
   "outputs": [],
   "source": []
  },
  {
   "cell_type": "code",
   "execution_count": null,
   "metadata": {},
   "outputs": [],
   "source": []
  },
  {
   "cell_type": "code",
   "execution_count": null,
   "metadata": {},
   "outputs": [],
   "source": []
  },
  {
   "cell_type": "code",
   "execution_count": null,
   "metadata": {},
   "outputs": [],
   "source": []
  },
  {
   "cell_type": "code",
   "execution_count": null,
   "metadata": {},
   "outputs": [],
   "source": []
  },
  {
   "cell_type": "code",
   "execution_count": null,
   "metadata": {},
   "outputs": [],
   "source": []
  },
  {
   "cell_type": "code",
   "execution_count": null,
   "metadata": {},
   "outputs": [],
   "source": []
  },
  {
   "cell_type": "code",
   "execution_count": null,
   "metadata": {},
   "outputs": [],
   "source": []
  }
 ],
 "metadata": {
  "kernelspec": {
   "display_name": "Python 3",
   "language": "python",
   "name": "python3"
  },
  "language_info": {
   "codemirror_mode": {
    "name": "ipython",
    "version": 3
   },
   "file_extension": ".py",
   "mimetype": "text/x-python",
   "name": "python",
   "nbconvert_exporter": "python",
   "pygments_lexer": "ipython3",
   "version": "3.8.3"
  }
 },
 "nbformat": 4,
 "nbformat_minor": 4
}
