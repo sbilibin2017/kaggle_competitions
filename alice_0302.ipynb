{
 "cells": [
  {
   "cell_type": "code",
   "execution_count": 1,
   "metadata": {},
   "outputs": [],
   "source": [
    "import pandas as pd\n",
    "import numpy as np\n",
    "from scipy import  stats\n",
    "import seaborn as sns\n",
    "import matplotlib.pyplot as plt\n",
    "plt.style.use('ggplot')\n",
    "import warnings\n",
    "warnings.filterwarnings('ignore')\n",
    "from tqdm import tqdm_notebook\n",
    "from sklearn.feature_extraction.text import TfidfVectorizer\n",
    "from scipy.sparse import csc_matrix, hstack\n",
    "from sklearn.model_selection import cross_validate, train_test_split, TimeSeriesSplit, cross_val_score\n",
    "from sklearn.metrics import roc_auc_score\n",
    "from sklearn.linear_model import LogisticRegression\n",
    "from lightgbm import LGBMClassifier\n",
    "from sklearn.preprocessing import MinMaxScaler\n",
    "from sklearn.base import BaseEstimator, TransformerMixin, ClassifierMixin, clone\n",
    "from xgboost import XGBClassifier\n",
    "from sklearn.ensemble import RandomForestClassifier\n",
    "from sklearn.neighbors import KNeighborsClassifier\n",
    "import pickle\n",
    "from sklearn.preprocessing import OneHotEncoder\n",
    "from collections import defaultdict\n",
    "from matplotlib_venn import venn2\n",
    "import time"
   ]
  },
  {
   "cell_type": "code",
   "execution_count": null,
   "metadata": {},
   "outputs": [],
   "source": [
    "class FeatureSelector():\n",
    "    def __init__(self, estimator,\n",
    "                       metric,\\\n",
    "                       larger_is_better,\\\n",
    "                       cv,\n",
    "                       use_values,\\\n",
    "                       use_recursion,\n",
    "                       fill_na,\\\n",
    "                       show_progress, \n",
    "                       early_stopping = None):\n",
    "        '''\n",
    "        Инициализирует модель для отбора признаков\n",
    "        \n",
    "        Параметры:\n",
    "            1) estimator - модель\n",
    "            2) metric - метрика качества (названия метрик sklearn + может быть кастомная)\n",
    "            3) larger_is_better - критерий оптимизации (чем больше, тем лучше)\n",
    "            4) cv - схема валидации\n",
    "            5) use_values - индексы столбцов, в которых требуется отобрать значения\n",
    "            6) use_recursion - использовать рекурсию в отборе\n",
    "            7) fill_na - значение, которым заполняются np.nan\n",
    "            8) show_progress - печатать результаты валидации\n",
    "            9) early_stopping - число итераций без улучшения метрики для ранней остановки отбора\n",
    "        Возвращает:\n",
    "            1) fit - производит отбор признаков\n",
    "            2) transform - оставляет отобранные признаки\n",
    "            3) return_self - возвращает \n",
    "                - best_features - отобранные признаки(список)\n",
    "                - D_best_features - отобранные значения признаков (словарь: {признак:значения})\n",
    "                - best_score - лучшее значение метрики\n",
    "        '''\n",
    "        self.estimator = estimator\n",
    "        self.metric = metric\n",
    "        self.cv = cv\n",
    "        self.use_values = use_values        \n",
    "        self.use_recursion = use_recursion\n",
    "        self.show_progress = show_progress\n",
    "        self.early_stopping = early_stopping\n",
    "        self.fill_na = fill_na\n",
    "        self.larger_is_better = larger_is_better\n",
    "    def fit(self, X, Y):        \n",
    "        flag = isinstance(X[:, 0], csc_matrix)\n",
    "        # список с результатами валидации\n",
    "        column_value_score = []\n",
    "        # проходим по признакам\n",
    "        for i in tqdm_notebook(range(X.shape[1])):\n",
    "            # если формат матрицы признаков == csc_matrix\n",
    "            if flag:\n",
    "                # выбираем столбец, преобразуем\n",
    "                ser = pd.DataFrame(X[:, i].todense())[0].values.flatten()\n",
    "            # если формат != csc_matrix\n",
    "            else:\n",
    "                # выбираем столбец\n",
    "                ser = X[:, i]        \n",
    "            # если столбец в списке с проверкой значений \n",
    "            if self.use_values is not None:                \n",
    "                if i in self.use_values:\n",
    "                    # уникальные значения столбца\n",
    "                    unique_values = np.unique(ser)  \n",
    "                    # валидируем каждое значение\n",
    "                    for val in unique_values:\n",
    "                        _x = np.int32(ser==val).reshape(-1,1)\n",
    "                        column_value_score.append((i, val,\\\n",
    "                                                   cross_val_score(self.estimator,\\\n",
    "                                                                   _x, Y,\\\n",
    "                                                                   scoring = self.metric,\\\n",
    "                                                                   cv = self.cv).mean()))\n",
    "                else: \n",
    "                    # валидируем столбец\n",
    "                    column_value_score.append((i, None,\\\n",
    "                                               cross_val_score(self.estimator,\\\n",
    "                                                               _x, Y,\\\n",
    "                                                               scoring = self.metric,\\\n",
    "                                                               cv = self.cv).mean()))\n",
    "            else:\n",
    "                # валидируем столбец\n",
    "                    column_value_score.append((i, None,\\\n",
    "                                               cross_val_score(self.estimator,\\\n",
    "                                                               ser.reshape(-1,1), Y,\\\n",
    "                                                               scoring = self.metric,\\\n",
    "                                                               cv = self.cv).mean()))\n",
    "                \n",
    "\n",
    "        # признаки и значения признаков в порядке убывания валидации\n",
    "        order = np.array(sorted(column_value_score, key = lambda x: x[-1], reverse = True))[:, :2]             \n",
    "        # список лучших признаков\n",
    "        best_features = []\n",
    "        # словарь лучших значений признаков\n",
    "        D_best_features = defaultdict(list)\n",
    "        # список с признаками, не давшими прироста\n",
    "        to_drop = []\n",
    "        \n",
    "        # лучшее значение метрики\n",
    "        if self.larger_is_better:\n",
    "            best_score = 0\n",
    "        else:\n",
    "            best_score = np.inf            \n",
    "        counter = 0\n",
    "        # проходим по признакам и значениям признаков в порядке убывания валидации\n",
    "        for feature, feature_value in tqdm_notebook(order):   \n",
    "\n",
    "            # добавляем текущие признаки/значения\n",
    "            if feature_value is None:\n",
    "                best_features.append(feature)               \n",
    "            else:\n",
    "                D_best_features[feature].append(feature_value)\n",
    "\n",
    "            # обновляем матрицы\n",
    "            L = []\n",
    "            for k, v in D_best_features.items():\n",
    "                if isinstance(X[:, k], csc_matrix):\n",
    "                    L.append(pd.DataFrame(X[:, k].tocsc().todense())[0].apply(lambda x: x if x in v else self.fill_na))\n",
    "                else:\n",
    "                    L.append(pd.Series(X[:, k].flatten()).apply(lambda x: x if x in v else self.fill_na))\n",
    "\n",
    "            if flag:\n",
    "                if (len(best_features)>0) & (len(L)>0):\n",
    "                    _X = csc_matrix(hstack([X[:, best_features], csc_matrix(np.column_stack(L)) ]))\n",
    "                elif (len(best_features)==0) & (len(L)>0):\n",
    "                    _X = csc_matrix(np.column_stack(L))\n",
    "                elif (len(best_features)>0) & (len(L)==0):\n",
    "                    _X = csc_matrix(X[:, best_features])                    \n",
    "                        \n",
    "            else:\n",
    "                if (len(best_features)>0) & (len(L)>0):\n",
    "                    _X = np.column_stack([X[:, best_features], np.column_stack(L)])\n",
    "                elif (len(best_features)==0) & (len(L)>0):\n",
    "                    _X = np.column_stack(L)\n",
    "                elif (len(best_features)>0) & (len(L)==0):\n",
    "                    _X = X[:, best_features] \n",
    "            # считаем валидацию    \n",
    "            current_score = cross_val_score(self.estimator, _X, Y, scoring = self.metric, cv = self.cv).mean()\n",
    "            # если метрика улучшилась\n",
    "            if self.larger_is_better:\n",
    "                if current_score>best_score:\n",
    "                    # обновляем лучшую метрику\n",
    "                    best_score = current_score\n",
    "                    counter = 0\n",
    "                    # печатаем \n",
    "                    if self.show_progress:\n",
    "                        print('new best_score = {}'.format(best_score))\n",
    "                # если метрика не улучшилась\n",
    "                else: \n",
    "                    counter+=1\n",
    "                    # удаляем признак/значение\n",
    "                    if feature_value is None:\n",
    "                        best_features = [val for val in best_features if val != feature]\n",
    "                        to_drop.append((feature, None))\n",
    "                    else:\n",
    "                        D_best_features[feature] = [val for val in D_best_features[feature] if val != feature_value]    \n",
    "                        to_drop.append((feature, feature_value))\n",
    "                    if counter == self.early_stopping:\n",
    "                        break\n",
    "            else:\n",
    "                if current_score<best_score:\n",
    "                    # обновляем лучшую метрику\n",
    "                    best_score = current_score\n",
    "                    counter = 0\n",
    "                    # печатаем \n",
    "                    if self.show_progress:\n",
    "                        print('new best_score = {}'.format(best_score))\n",
    "                    # если метрика не улучшилась\n",
    "                else: \n",
    "                    counter+=1\n",
    "                    # удаляем признак/значение\n",
    "                    if feature_value is None:\n",
    "                        best_features = [val for val in best_features if val != feature]\n",
    "                        to_drop.append((feature, None))\n",
    "                    else:\n",
    "                        D_best_features[feature] = [val for val in D_best_features[feature] if val != feature_value]    \n",
    "                        to_drop.append((feature, feature_value))\n",
    "                    if counter == self.early_stopping:\n",
    "                        break\n",
    "\n",
    "        if self.use_recursion:\n",
    "            # запускаем бесконечный цикл\n",
    "            while True:\n",
    "                # списки лучших признаков до и после\n",
    "                to_drop_before = to_drop\n",
    "                to_drop_after = []\n",
    "                # проходим по признакам и значениям признаков в порядке убывания валидации\n",
    "                for feature, feature_value in tqdm_notebook(to_drop_before):   \n",
    "                    # добавляем текущие признаки/значения\n",
    "                    if feature_value is None:\n",
    "                        best_features.append(feature)               \n",
    "                    else:\n",
    "                        D_best_features[feature].append(feature_value)\n",
    "\n",
    "                    # обновляем матрицы\n",
    "                    L = []\n",
    "                    for k, v in D_best_features.items():\n",
    "                        if isinstance(X[:, k], csc_matrix):\n",
    "                            L.append(pd.DataFrame(X[:, k].tocsc().todense())[0].apply(lambda x: x if x in v else self.fill_na))\n",
    "                        else:\n",
    "                            L.append(pd.Series(X[:, k].flatten()).apply(lambda x: x if x in v else self.fill_na))\n",
    "\n",
    "                    if flag:\n",
    "                        if (len(best_features)>0) & (len(L)>0):\n",
    "                            _X = csc_matrix(hstack([X[:, best_features], csc_matrix(np.column_stack(L)) ]))\n",
    "                        elif (len(best_features)==0) & (len(L)>0):\n",
    "                            _X = csc_matrix(np.column_stack(L))\n",
    "                        elif (len(best_features)>0) & (len(L)==0):\n",
    "                            _X = csc_matrix(X[:, best_features])                    \n",
    "\n",
    "                    else:\n",
    "                        if (len(best_features)>0) & (len(L)>0):\n",
    "                            _X = np.column_stack([X[:, best_features], np.column_stack(L)])\n",
    "                        elif (len(best_features)==0) & (len(L)>0):\n",
    "                            _X = np.column_stack(L)\n",
    "                        elif (len(best_features)>0) & (len(L)==0):\n",
    "                            _X = X[:, best_features] \n",
    "\n",
    "                    # считаем валидацию    \n",
    "                    current_score = cross_val_score(self.estimator, _X, Y, scoring = self.metric, cv = self.cv).mean()\n",
    "                    \n",
    "                    \n",
    "                    \n",
    "                    \n",
    "                    \n",
    "                    \n",
    "                    if self.larger_is_better:\n",
    "                        if current_score>best_score:\n",
    "                            # обновляем лучшую метрику\n",
    "                            best_score = current_score\n",
    "                            counter = 0\n",
    "                            # печатаем \n",
    "                            if self.show_progress:\n",
    "                                print('new best_score = {}'.format(best_score))\n",
    "                            # если метрика не улучшилась\n",
    "                        else: \n",
    "                            # удаляем признак/значение\n",
    "                            if feature_value is None:\n",
    "                                best_features = [val for val in best_features if val != feature]\n",
    "                                to_drop_after.append((feature, None))\n",
    "                            else:\n",
    "                                D_best_features[feature] = [val for val in D_best_features[feature] if val != feature_value]    \n",
    "                                to_drop_after.append((feature, feature_value))\n",
    "                    else:\n",
    "                        if current_score<best_score:\n",
    "                            # обновляем лучшую метрику\n",
    "                            best_score = current_score\n",
    "                            counter = 0\n",
    "                            # печатаем \n",
    "                            if self.show_progress:\n",
    "                                print('new best_score = {}'.format(best_score))\n",
    "                        else: \n",
    "                            # удаляем признак/значение\n",
    "                            if feature_value is None:\n",
    "                                best_features = [val for val in best_features if val != feature]\n",
    "                                to_drop_after.append((feature, None))\n",
    "                            else:\n",
    "                                D_best_features[feature] = [val for val in D_best_features[feature] if val != feature_value]    \n",
    "                                to_drop_after.append((feature, feature_value))\n",
    "                    \n",
    "\n",
    "                # если списки одинаковые, останавливаем отбор\n",
    "                if len(to_drop_after) == len(to_drop_before):\n",
    "                    break\n",
    "                # если разные - обновляем списки до и после\n",
    "                else:\n",
    "                    to_drop_before = to_drop_after\n",
    "                    to_drop_after = []\n",
    "                    \n",
    "        self.best_features = best_features\n",
    "        self.D_best_features = D_best_features\n",
    "        self.best_score =best_score\n",
    "        self.flag = flag\n",
    "    def transform(self, X):\n",
    "              \n",
    "        if len(self.best_features) !=0:\n",
    "            x1 = X[:, self.best_features]\n",
    "        else:\n",
    "            x1 = None\n",
    "        if len(list(self.D_best_features.keys())) !=0:\n",
    "            L=[]\n",
    "            for k, v in self.D_best_features.items():\n",
    "                if self.flag:\n",
    "                    L.append(pd.DataFrame(X[:, k].tocsc().todense())[0].apply(lambda x: x if x in v else self.fill_na))                    \n",
    "                else:\n",
    "                    L.append(pd.Series(X[:, k].flatten()).apply(lambda x: x if x in v else self.fill_na))\n",
    "            x2 = np.column_stack(L)\n",
    "        else:\n",
    "            x2 = None\n",
    "            \n",
    "        if (x1 is not None) & (x2 is not None):\n",
    "            if self.flag: \n",
    "                _X = csc_matrix(hstack([x1, x2]))\n",
    "            else:\n",
    "                _X = np.column_stack([x1, x2])\n",
    "                \n",
    "        if (x1 is not None) & (x2 is None):\n",
    "            _X = x1\n",
    "        if (x1 is None) & (x2 is not None):\n",
    "            if self.flag:\n",
    "                _X = csc_matrix(x2)\n",
    "            else:\n",
    "                _X = x2\n",
    "        return _X     \n",
    "        \n",
    "    def return_self(self):\n",
    "        return self\n",
    "\n",
    "\n",
    "class StackingRegressor():\n",
    "    def __init__(self, models, cv_strat):\n",
    "        '''\n",
    "        models - список с ансамблем моделей\n",
    "        nfolds - число фолдов для ооф предсказаний\n",
    "        seed - генератор случайных чисел\n",
    "        '''        \n",
    "        self.models = models\n",
    "        self.cv_strat = cv_strat        \n",
    "    def fit(self, X, y):\n",
    "        '''\n",
    "        1) обучаем модели на валидации\n",
    "        2) сохраняем обученные модели\n",
    "        '''        \n",
    "        try:\n",
    "            _X, _y = np.array(X), np.array(y)\n",
    "        except:\n",
    "            _X, _y = X, y        \n",
    "        estimators = []\n",
    "        for model in tqdm_notebook(self.models):   \n",
    "            try:\n",
    "                for tr_idx, val_idx in self.cv_strat.split(_X):\n",
    "                    model.fit(_X[tr_idx], _y[tr_idx])\n",
    "                    estimators.append(model)\n",
    "            except:\n",
    "                for tr_idx, val_idx in self.cv_strat.split(_X, _y):\n",
    "                    model.fit(_X[tr_idx], _y[tr_idx])\n",
    "                    estimators.append(model)\n",
    "                    \n",
    "        self.fitted_estimators = estimators\n",
    "    def get_metafeatures(self, X):\n",
    "        '''\n",
    "        с помощью обученных моделей получаем метапризнаки\n",
    "        '''\n",
    "        try:\n",
    "            _X = np.array(X)\n",
    "        except:\n",
    "            _X = X\n",
    "        L = []    \n",
    "        for estimator in self.fitted_estimators:\n",
    "            L.append(estimator.predict(_X))\n",
    "        return np.column_stack(L)"
   ]
  },
  {
   "cell_type": "code",
   "execution_count": 3,
   "metadata": {},
   "outputs": [],
   "source": [
    "times = ['time%d' % i for i in range(1, 11)]\n",
    "sites = ['site%d' % i for i in range(1, 11)]\n",
    "\n",
    "df_tr = pd.read_csv('train_sessions.csv', parse_dates = times).set_index('session_id').sort_values('time1')\n",
    "df_te = pd.read_csv('test_sessions.csv', parse_dates = times).set_index('session_id')\n",
    "y_tr = df_tr['target']"
   ]
  },
  {
   "cell_type": "code",
   "execution_count": 4,
   "metadata": {},
   "outputs": [],
   "source": [
    "SEED = 13\n",
    "FILL_NA = -999\n",
    "LEN = len(df_tr)\n",
    "IDX_SPLIT = np.int32(np.around(LEN*.9))"
   ]
  },
  {
   "cell_type": "code",
   "execution_count": 5,
   "metadata": {},
   "outputs": [],
   "source": [
    "# оставляем сайты, которые посещались Элис + присутствуют в тесте\n",
    "sites_to_use = np.intersect1d(pd.Series(df_tr[df_tr['target'] == 1][sites].values.flatten()).dropna().unique(),\\\n",
    "                              pd.Series(df_te[sites].values.flatten()).dropna().unique())\n",
    "\n",
    "# трейн\n",
    "sites_tr = df_tr[sites].applymap(lambda x: x if x in sites_to_use else np.nan)\n",
    "# тест\n",
    "sites_te = df_te[sites]\n",
    "# трейн + тест\n",
    "sites_full = pd.concat([sites_tr, sites_te], 0)\n",
    "# переводим в строку\n",
    "sites_full_str = sites_full.fillna(FILL_NA).astype(str).apply(lambda row:'_'.join(row), axis = 1)\n",
    "\n",
    "# дата начала сессии\n",
    "start_tr = df_tr[times].min(1)\n",
    "start_te = df_te[times].min(1)\n",
    "ts_columns = ['день_года', 'неделя_года', 'год', 'меяц',\\\n",
    "              'день', 'день_недели', 'час', 'минута1','минута2', 'секунда1', 'секунда2']\n",
    "\n",
    "ts_D = {}\n",
    "for name, ser in zip(('tr', 'te'), (start_tr, start_te)):\n",
    "    _df = pd.concat([ser.dt.dayofyear,\\\n",
    "                     ser.dt.weekofyear,\\\n",
    "                     ser.dt.year,\\\n",
    "                     ser.dt.month,\\\n",
    "                     ser.dt.day,\\\n",
    "                     ser.dt.dayofweek,\\\n",
    "                     ser.dt.hour,\\\n",
    "                     ser.dt.minute//60,\\\n",
    "                     ser.dt.minute%60,\\\n",
    "                     ser.dt.second//60,\\\n",
    "                     ser.dt.second%60], 1)\n",
    "    _df.columns = ts_columns    \n",
    "    ts_D[name] = _df\n",
    "\n",
    "# оставляем значения из теста\n",
    "for col in ts_columns:\n",
    "    to_use = ts_D['te'][col].dropna().unique()\n",
    "    ts_D['tr'][col] = ts_D['tr'][col].apply(lambda x: x if x in to_use else np.nan)"
   ]
  },
  {
   "cell_type": "code",
   "execution_count": 6,
   "metadata": {},
   "outputs": [],
   "source": [
    "# ohe\n",
    "encoder = OneHotEncoder(handle_unknown='ignore')\n",
    "_X_ts_ohe_tr = csc_matrix(encoder.fit_transform(ts_D['tr'].fillna(FILL_NA)))\n",
    "_X_ts_ohe_te = csc_matrix(encoder.transform(ts_D['te'].fillna(FILL_NA)))\n",
    "\n",
    "# нормализуем \n",
    "mnmx_scaler = MinMaxScaler()\n",
    "mnmx_scaler.fit(ts_D['tr'].fillna(FILL_NA))\n",
    "_X_ts_tr = mnmx_scaler.transform(ts_D['tr'].fillna(FILL_NA))\n",
    "_X_ts_te = mnmx_scaler.transform(ts_D['te'].fillna(FILL_NA))"
   ]
  },
  {
   "cell_type": "code",
   "execution_count": 7,
   "metadata": {},
   "outputs": [],
   "source": [
    "def _csc_hstack_arrays(arrays):\n",
    "    ''' объединяет массивы типа csc_matrix (по колонкам)'''\n",
    "    return csc_matrix(hstack(arrays))"
   ]
  },
  {
   "cell_type": "code",
   "execution_count": 8,
   "metadata": {},
   "outputs": [],
   "source": [
    "def _prepare_data(sites_full_str, \\\n",
    "                  _X_ts_ohe_tr, _X_ts_ohe_te,\\\n",
    "                  _X_ts_tr, _X_ts_te,\\\n",
    "                  y_tr, vec):\n",
    "    ''' \n",
    "    готовит наборы данных\n",
    "    1) трейн(ТРЕЙН+ОТЛОЖЕННАЯ), тест\n",
    "    2) для логита, для бустинга\n",
    "        \n",
    "    '''\n",
    "    _y_TR, _y_HOLD = np.array(y_tr)[:IDX_SPLIT], np.array(y_tr)[IDX_SPLIT:]\n",
    "    \n",
    "    # tfidf    \n",
    "    tfidf_full = csc_matrix(vec.fit_transform(sites_full_str))\n",
    "    tfidf_tr, tfidf_te = tfidf_full[:LEN], tfidf_full[LEN:]\n",
    "        \n",
    "    _X_logit_tr = _csc_hstack_arrays([_X_ts_ohe_tr, tfidf_tr])\n",
    "    _X_logit_TR, _X_logit_HOLD = _X_logit_tr[:IDX_SPLIT], _X_logit_tr[IDX_SPLIT:]\n",
    "    _X_logit_te = _csc_hstack_arrays([_X_ts_ohe_te, tfidf_te])\n",
    "    \n",
    "    _X_lgb_tr = _csc_hstack_arrays([_X_ts_tr, tfidf_tr])\n",
    "    _X_lgb_TR, _X_lgb_HOLD = _X_lgb_tr[:IDX_SPLIT], _X_lgb_tr[IDX_SPLIT:]\n",
    "    _X_lgb_te = _csc_hstack_arrays([_X_ts_te, tfidf_te])\n",
    "        \n",
    "       \n",
    "    values = (_X_logit_tr, _X_logit_TR, _X_logit_HOLD, _X_logit_te,\\\n",
    "              _X_lgb_tr, _X_lgb_TR, _X_lgb_HOLD, _X_lgb_te,_y_TR, _y_HOLD)\n",
    "    names = ['logit_tr', 'logit_TR', 'logit_HOLD', 'logit_te',\\\n",
    "             'lgb_tr', 'lgb_TR', 'lgb_HOLD', 'lgb_te', 'y_TR', 'y_HOLD']\n",
    "    \n",
    "    return dict(zip(names, values))"
   ]
  },
  {
   "cell_type": "code",
   "execution_count": 9,
   "metadata": {},
   "outputs": [],
   "source": [
    "# модели\n",
    "logit_clf = LogisticRegression(random_state = SEED)\n",
    "lgb_clf = LGBMClassifier(random_state = SEED)\n",
    "\n",
    "_ngram_ranges_L = ((1, 1), (1, 2), (1, 3))\n",
    "_max_features_L = (10, 100)\n",
    "_nfolds_L = [3, 4, 5]"
   ]
  },
  {
   "cell_type": "code",
   "execution_count": 11,
   "metadata": {
    "scrolled": true
   },
   "outputs": [
    {
     "data": {
      "application/vnd.jupyter.widget-view+json": {
       "model_id": "338a0afd475742a888b6b160cbf91921",
       "version_major": 2,
       "version_minor": 0
      },
      "text/plain": [
       "HBox(children=(FloatProgress(value=0.0, max=3.0), HTML(value='')))"
      ]
     },
     "metadata": {},
     "output_type": "display_data"
    },
    {
     "data": {
      "application/vnd.jupyter.widget-view+json": {
       "model_id": "7ff20de844564afda5a08a91ad1dbf98",
       "version_major": 2,
       "version_minor": 0
      },
      "text/plain": [
       "HBox(children=(FloatProgress(value=0.0, max=3.0), HTML(value='')))"
      ]
     },
     "metadata": {},
     "output_type": "display_data"
    },
    {
     "data": {
      "application/vnd.jupyter.widget-view+json": {
       "model_id": "d00fa905da0a41d58b9c271e50a81abc",
       "version_major": 2,
       "version_minor": 0
      },
      "text/plain": [
       "HBox(children=(FloatProgress(value=0.0, max=2.0), HTML(value='')))"
      ]
     },
     "metadata": {},
     "output_type": "display_data"
    },
    {
     "data": {
      "application/vnd.jupyter.widget-view+json": {
       "model_id": "49a5f0643c6f49b8ad6fc3bd0c16f73e",
       "version_major": 2,
       "version_minor": 0
      },
      "text/plain": [
       "HBox(children=(FloatProgress(value=0.0, max=193.0), HTML(value='')))"
      ]
     },
     "metadata": {},
     "output_type": "display_data"
    },
    {
     "name": "stdout",
     "output_type": "stream",
     "text": [
      "\n"
     ]
    },
    {
     "data": {
      "application/vnd.jupyter.widget-view+json": {
       "model_id": "a763a342b3264c3ba099383239bb334a",
       "version_major": 2,
       "version_minor": 0
      },
      "text/plain": [
       "HBox(children=(FloatProgress(value=0.0, max=193.0), HTML(value='')))"
      ]
     },
     "metadata": {},
     "output_type": "display_data"
    },
    {
     "name": "stdout",
     "output_type": "stream",
     "text": [
      "\n"
     ]
    },
    {
     "data": {
      "application/vnd.jupyter.widget-view+json": {
       "model_id": "f260923e2e50461b93f1e84fe2d9968a",
       "version_major": 2,
       "version_minor": 0
      },
      "text/plain": [
       "HBox(children=(FloatProgress(value=0.0, max=21.0), HTML(value='')))"
      ]
     },
     "metadata": {},
     "output_type": "display_data"
    },
    {
     "name": "stdout",
     "output_type": "stream",
     "text": [
      "\n"
     ]
    },
    {
     "data": {
      "application/vnd.jupyter.widget-view+json": {
       "model_id": "dde7a20c50bc446ea933212f60102ba1",
       "version_major": 2,
       "version_minor": 0
      },
      "text/plain": [
       "HBox(children=(FloatProgress(value=0.0, max=192.0), HTML(value='')))"
      ]
     },
     "metadata": {},
     "output_type": "display_data"
    },
    {
     "name": "stdout",
     "output_type": "stream",
     "text": [
      "\n",
      "nfolds = 3, logit hold = 0.94803, lgb hold = 0.97760\n"
     ]
    },
    {
     "data": {
      "application/vnd.jupyter.widget-view+json": {
       "model_id": "5f4e804f5d7d462d854b2364a77d4797",
       "version_major": 2,
       "version_minor": 0
      },
      "text/plain": [
       "HBox(children=(FloatProgress(value=0.0, max=283.0), HTML(value='')))"
      ]
     },
     "metadata": {},
     "output_type": "display_data"
    },
    {
     "name": "stdout",
     "output_type": "stream",
     "text": [
      "\n"
     ]
    },
    {
     "data": {
      "application/vnd.jupyter.widget-view+json": {
       "model_id": "6960fb3bcc8f4f5bb2f2a3210f31432f",
       "version_major": 2,
       "version_minor": 0
      },
      "text/plain": [
       "HBox(children=(FloatProgress(value=0.0, max=283.0), HTML(value='')))"
      ]
     },
     "metadata": {},
     "output_type": "display_data"
    },
    {
     "name": "stdout",
     "output_type": "stream",
     "text": [
      "\n"
     ]
    },
    {
     "data": {
      "application/vnd.jupyter.widget-view+json": {
       "model_id": "8ed367a4d30548798c242953f8373943",
       "version_major": 2,
       "version_minor": 0
      },
      "text/plain": [
       "HBox(children=(FloatProgress(value=0.0, max=111.0), HTML(value='')))"
      ]
     },
     "metadata": {},
     "output_type": "display_data"
    },
    {
     "name": "stdout",
     "output_type": "stream",
     "text": [
      "\n"
     ]
    },
    {
     "data": {
      "application/vnd.jupyter.widget-view+json": {
       "model_id": "85fc522c22d14925bc926fab43dc70ca",
       "version_major": 2,
       "version_minor": 0
      },
      "text/plain": [
       "HBox(children=(FloatProgress(value=0.0, max=282.0), HTML(value='')))"
      ]
     },
     "metadata": {},
     "output_type": "display_data"
    },
    {
     "name": "stdout",
     "output_type": "stream",
     "text": [
      "\n",
      "nfolds = 3, logit hold = 0.95267, lgb hold = 0.98340\n",
      "\n"
     ]
    },
    {
     "data": {
      "application/vnd.jupyter.widget-view+json": {
       "model_id": "3cc362fd21f948c7944cf38192a3e185",
       "version_major": 2,
       "version_minor": 0
      },
      "text/plain": [
       "HBox(children=(FloatProgress(value=0.0, max=2.0), HTML(value='')))"
      ]
     },
     "metadata": {},
     "output_type": "display_data"
    },
    {
     "data": {
      "application/vnd.jupyter.widget-view+json": {
       "model_id": "426dac13b69143c2ac5667730a5213c1",
       "version_major": 2,
       "version_minor": 0
      },
      "text/plain": [
       "HBox(children=(FloatProgress(value=0.0, max=193.0), HTML(value='')))"
      ]
     },
     "metadata": {},
     "output_type": "display_data"
    },
    {
     "name": "stdout",
     "output_type": "stream",
     "text": [
      "\n"
     ]
    },
    {
     "data": {
      "application/vnd.jupyter.widget-view+json": {
       "model_id": "a259509db0e6415c81f00ac9c97178bc",
       "version_major": 2,
       "version_minor": 0
      },
      "text/plain": [
       "HBox(children=(FloatProgress(value=0.0, max=193.0), HTML(value='')))"
      ]
     },
     "metadata": {},
     "output_type": "display_data"
    },
    {
     "name": "stdout",
     "output_type": "stream",
     "text": [
      "\n"
     ]
    },
    {
     "data": {
      "application/vnd.jupyter.widget-view+json": {
       "model_id": "c8b9d2fb54574b45b69b65ec8f993edf",
       "version_major": 2,
       "version_minor": 0
      },
      "text/plain": [
       "HBox(children=(FloatProgress(value=0.0, max=21.0), HTML(value='')))"
      ]
     },
     "metadata": {},
     "output_type": "display_data"
    },
    {
     "name": "stdout",
     "output_type": "stream",
     "text": [
      "\n"
     ]
    },
    {
     "data": {
      "application/vnd.jupyter.widget-view+json": {
       "model_id": "6dd99463694c4084bd894b91049fc7d9",
       "version_major": 2,
       "version_minor": 0
      },
      "text/plain": [
       "HBox(children=(FloatProgress(value=0.0, max=192.0), HTML(value='')))"
      ]
     },
     "metadata": {},
     "output_type": "display_data"
    },
    {
     "name": "stdout",
     "output_type": "stream",
     "text": [
      "\n",
      "nfolds = 3, logit hold = 0.94683, lgb hold = 0.98233\n"
     ]
    },
    {
     "data": {
      "application/vnd.jupyter.widget-view+json": {
       "model_id": "1d6437b4135d447aa2fe17d17ba9b52a",
       "version_major": 2,
       "version_minor": 0
      },
      "text/plain": [
       "HBox(children=(FloatProgress(value=0.0, max=283.0), HTML(value='')))"
      ]
     },
     "metadata": {},
     "output_type": "display_data"
    },
    {
     "name": "stdout",
     "output_type": "stream",
     "text": [
      "\n"
     ]
    },
    {
     "data": {
      "application/vnd.jupyter.widget-view+json": {
       "model_id": "6b704b16a057467f83bd475e8f25bf66",
       "version_major": 2,
       "version_minor": 0
      },
      "text/plain": [
       "HBox(children=(FloatProgress(value=0.0, max=283.0), HTML(value='')))"
      ]
     },
     "metadata": {},
     "output_type": "display_data"
    },
    {
     "name": "stdout",
     "output_type": "stream",
     "text": [
      "\n"
     ]
    },
    {
     "data": {
      "application/vnd.jupyter.widget-view+json": {
       "model_id": "86129af4b1e04d469deafc01b6c918b4",
       "version_major": 2,
       "version_minor": 0
      },
      "text/plain": [
       "HBox(children=(FloatProgress(value=0.0, max=111.0), HTML(value='')))"
      ]
     },
     "metadata": {},
     "output_type": "display_data"
    },
    {
     "name": "stdout",
     "output_type": "stream",
     "text": [
      "\n"
     ]
    },
    {
     "data": {
      "application/vnd.jupyter.widget-view+json": {
       "model_id": "26c0d1d061a4473a91eb85ebc8e0f1ea",
       "version_major": 2,
       "version_minor": 0
      },
      "text/plain": [
       "HBox(children=(FloatProgress(value=0.0, max=282.0), HTML(value='')))"
      ]
     },
     "metadata": {},
     "output_type": "display_data"
    },
    {
     "name": "stdout",
     "output_type": "stream",
     "text": [
      "\n",
      "nfolds = 3, logit hold = 0.95181, lgb hold = 0.97931\n",
      "\n"
     ]
    },
    {
     "data": {
      "application/vnd.jupyter.widget-view+json": {
       "model_id": "02a97ae39b5b4aa9b3dd6347ac856b7a",
       "version_major": 2,
       "version_minor": 0
      },
      "text/plain": [
       "HBox(children=(FloatProgress(value=0.0, max=2.0), HTML(value='')))"
      ]
     },
     "metadata": {},
     "output_type": "display_data"
    },
    {
     "data": {
      "application/vnd.jupyter.widget-view+json": {
       "model_id": "fc68e4c1803346d39463c75ff2bd3430",
       "version_major": 2,
       "version_minor": 0
      },
      "text/plain": [
       "HBox(children=(FloatProgress(value=0.0, max=193.0), HTML(value='')))"
      ]
     },
     "metadata": {},
     "output_type": "display_data"
    },
    {
     "name": "stdout",
     "output_type": "stream",
     "text": [
      "\n"
     ]
    },
    {
     "data": {
      "application/vnd.jupyter.widget-view+json": {
       "model_id": "d954b2c5a2cf4d1b905ee6f2b2505b1d",
       "version_major": 2,
       "version_minor": 0
      },
      "text/plain": [
       "HBox(children=(FloatProgress(value=0.0, max=193.0), HTML(value='')))"
      ]
     },
     "metadata": {},
     "output_type": "display_data"
    },
    {
     "name": "stdout",
     "output_type": "stream",
     "text": [
      "\n"
     ]
    },
    {
     "data": {
      "application/vnd.jupyter.widget-view+json": {
       "model_id": "88a818a51f1746a89ab542dc506b1895",
       "version_major": 2,
       "version_minor": 0
      },
      "text/plain": [
       "HBox(children=(FloatProgress(value=0.0, max=21.0), HTML(value='')))"
      ]
     },
     "metadata": {},
     "output_type": "display_data"
    },
    {
     "name": "stdout",
     "output_type": "stream",
     "text": [
      "\n"
     ]
    },
    {
     "data": {
      "application/vnd.jupyter.widget-view+json": {
       "model_id": "1d4c9adc55da4dfa85a24f4b028d2263",
       "version_major": 2,
       "version_minor": 0
      },
      "text/plain": [
       "HBox(children=(FloatProgress(value=0.0, max=192.0), HTML(value='')))"
      ]
     },
     "metadata": {},
     "output_type": "display_data"
    },
    {
     "name": "stdout",
     "output_type": "stream",
     "text": [
      "\n",
      "nfolds = 3, logit hold = 0.94683, lgb hold = 0.98634\n"
     ]
    },
    {
     "data": {
      "application/vnd.jupyter.widget-view+json": {
       "model_id": "9300427ac12d4dbd84b726bd093c242b",
       "version_major": 2,
       "version_minor": 0
      },
      "text/plain": [
       "HBox(children=(FloatProgress(value=0.0, max=283.0), HTML(value='')))"
      ]
     },
     "metadata": {},
     "output_type": "display_data"
    },
    {
     "name": "stdout",
     "output_type": "stream",
     "text": [
      "\n"
     ]
    },
    {
     "data": {
      "application/vnd.jupyter.widget-view+json": {
       "model_id": "61ecc721da4949dc9154f459fab95df7",
       "version_major": 2,
       "version_minor": 0
      },
      "text/plain": [
       "HBox(children=(FloatProgress(value=0.0, max=283.0), HTML(value='')))"
      ]
     },
     "metadata": {},
     "output_type": "display_data"
    },
    {
     "name": "stdout",
     "output_type": "stream",
     "text": [
      "\n"
     ]
    },
    {
     "data": {
      "application/vnd.jupyter.widget-view+json": {
       "model_id": "2ef8e03e87d541aeacc61fe0bf5f118d",
       "version_major": 2,
       "version_minor": 0
      },
      "text/plain": [
       "HBox(children=(FloatProgress(value=0.0, max=111.0), HTML(value='')))"
      ]
     },
     "metadata": {},
     "output_type": "display_data"
    },
    {
     "name": "stdout",
     "output_type": "stream",
     "text": [
      "\n"
     ]
    },
    {
     "data": {
      "application/vnd.jupyter.widget-view+json": {
       "model_id": "9e0efa980b88486f8b8c9c7aa1a28572",
       "version_major": 2,
       "version_minor": 0
      },
      "text/plain": [
       "HBox(children=(FloatProgress(value=0.0, max=282.0), HTML(value='')))"
      ]
     },
     "metadata": {},
     "output_type": "display_data"
    },
    {
     "name": "stdout",
     "output_type": "stream",
     "text": [
      "\n",
      "nfolds = 3, logit hold = 0.95177, lgb hold = 0.97990\n",
      "\n",
      "\n"
     ]
    },
    {
     "data": {
      "application/vnd.jupyter.widget-view+json": {
       "model_id": "093465f521ad47bfb02acc0656ec6a2d",
       "version_major": 2,
       "version_minor": 0
      },
      "text/plain": [
       "HBox(children=(FloatProgress(value=0.0, max=3.0), HTML(value='')))"
      ]
     },
     "metadata": {},
     "output_type": "display_data"
    },
    {
     "data": {
      "application/vnd.jupyter.widget-view+json": {
       "model_id": "81bd8f7bd14a4345b75b05b26fdf3721",
       "version_major": 2,
       "version_minor": 0
      },
      "text/plain": [
       "HBox(children=(FloatProgress(value=0.0, max=2.0), HTML(value='')))"
      ]
     },
     "metadata": {},
     "output_type": "display_data"
    },
    {
     "data": {
      "application/vnd.jupyter.widget-view+json": {
       "model_id": "3f9eab59bf304ad8a09b4632399690c4",
       "version_major": 2,
       "version_minor": 0
      },
      "text/plain": [
       "HBox(children=(FloatProgress(value=0.0, max=193.0), HTML(value='')))"
      ]
     },
     "metadata": {},
     "output_type": "display_data"
    },
    {
     "name": "stdout",
     "output_type": "stream",
     "text": [
      "\n"
     ]
    },
    {
     "data": {
      "application/vnd.jupyter.widget-view+json": {
       "model_id": "3b0a527378c24dea9f9653f31f137e20",
       "version_major": 2,
       "version_minor": 0
      },
      "text/plain": [
       "HBox(children=(FloatProgress(value=0.0, max=193.0), HTML(value='')))"
      ]
     },
     "metadata": {},
     "output_type": "display_data"
    },
    {
     "name": "stdout",
     "output_type": "stream",
     "text": [
      "\n"
     ]
    },
    {
     "data": {
      "application/vnd.jupyter.widget-view+json": {
       "model_id": "b4715d51851a4ed5ba28e8147f49332f",
       "version_major": 2,
       "version_minor": 0
      },
      "text/plain": [
       "HBox(children=(FloatProgress(value=0.0, max=21.0), HTML(value='')))"
      ]
     },
     "metadata": {},
     "output_type": "display_data"
    },
    {
     "name": "stdout",
     "output_type": "stream",
     "text": [
      "\n"
     ]
    },
    {
     "data": {
      "application/vnd.jupyter.widget-view+json": {
       "model_id": "79c35c4f902b4985af52a92d1e555180",
       "version_major": 2,
       "version_minor": 0
      },
      "text/plain": [
       "HBox(children=(FloatProgress(value=0.0, max=192.0), HTML(value='')))"
      ]
     },
     "metadata": {},
     "output_type": "display_data"
    },
    {
     "name": "stdout",
     "output_type": "stream",
     "text": [
      "\n",
      "nfolds = 4, logit hold = 0.96618, lgb hold = 0.87199\n"
     ]
    },
    {
     "data": {
      "application/vnd.jupyter.widget-view+json": {
       "model_id": "276c09ced28b424db84fc8002893d319",
       "version_major": 2,
       "version_minor": 0
      },
      "text/plain": [
       "HBox(children=(FloatProgress(value=0.0, max=283.0), HTML(value='')))"
      ]
     },
     "metadata": {},
     "output_type": "display_data"
    },
    {
     "name": "stdout",
     "output_type": "stream",
     "text": [
      "\n"
     ]
    },
    {
     "data": {
      "application/vnd.jupyter.widget-view+json": {
       "model_id": "807edaecf6ad4f62836c961ea8bb602c",
       "version_major": 2,
       "version_minor": 0
      },
      "text/plain": [
       "HBox(children=(FloatProgress(value=0.0, max=283.0), HTML(value='')))"
      ]
     },
     "metadata": {},
     "output_type": "display_data"
    },
    {
     "name": "stdout",
     "output_type": "stream",
     "text": [
      "\n"
     ]
    },
    {
     "data": {
      "application/vnd.jupyter.widget-view+json": {
       "model_id": "b0c2f30438014c139e656325aa6bacd1",
       "version_major": 2,
       "version_minor": 0
      },
      "text/plain": [
       "HBox(children=(FloatProgress(value=0.0, max=111.0), HTML(value='')))"
      ]
     },
     "metadata": {},
     "output_type": "display_data"
    },
    {
     "name": "stdout",
     "output_type": "stream",
     "text": [
      "\n"
     ]
    },
    {
     "data": {
      "application/vnd.jupyter.widget-view+json": {
       "model_id": "b120ba15b84d43b9a37c07db2838b060",
       "version_major": 2,
       "version_minor": 0
      },
      "text/plain": [
       "HBox(children=(FloatProgress(value=0.0, max=282.0), HTML(value='')))"
      ]
     },
     "metadata": {},
     "output_type": "display_data"
    },
    {
     "name": "stdout",
     "output_type": "stream",
     "text": [
      "\n",
      "nfolds = 4, logit hold = 0.96631, lgb hold = 0.79840\n",
      "\n"
     ]
    },
    {
     "data": {
      "application/vnd.jupyter.widget-view+json": {
       "model_id": "c6b935386f4d49bd97515cc70048262c",
       "version_major": 2,
       "version_minor": 0
      },
      "text/plain": [
       "HBox(children=(FloatProgress(value=0.0, max=2.0), HTML(value='')))"
      ]
     },
     "metadata": {},
     "output_type": "display_data"
    },
    {
     "data": {
      "application/vnd.jupyter.widget-view+json": {
       "model_id": "30bae892f06d4383ac72b3e0402fe364",
       "version_major": 2,
       "version_minor": 0
      },
      "text/plain": [
       "HBox(children=(FloatProgress(value=0.0, max=193.0), HTML(value='')))"
      ]
     },
     "metadata": {},
     "output_type": "display_data"
    },
    {
     "name": "stdout",
     "output_type": "stream",
     "text": [
      "\n"
     ]
    },
    {
     "data": {
      "application/vnd.jupyter.widget-view+json": {
       "model_id": "24c4ba4e460e43019473f992626c63d7",
       "version_major": 2,
       "version_minor": 0
      },
      "text/plain": [
       "HBox(children=(FloatProgress(value=0.0, max=193.0), HTML(value='')))"
      ]
     },
     "metadata": {},
     "output_type": "display_data"
    },
    {
     "name": "stdout",
     "output_type": "stream",
     "text": [
      "\n"
     ]
    },
    {
     "data": {
      "application/vnd.jupyter.widget-view+json": {
       "model_id": "cd8fbb1d1221416b937c94adacd36615",
       "version_major": 2,
       "version_minor": 0
      },
      "text/plain": [
       "HBox(children=(FloatProgress(value=0.0, max=21.0), HTML(value='')))"
      ]
     },
     "metadata": {},
     "output_type": "display_data"
    },
    {
     "name": "stdout",
     "output_type": "stream",
     "text": [
      "\n"
     ]
    },
    {
     "data": {
      "application/vnd.jupyter.widget-view+json": {
       "model_id": "79ac4871b23d41d092826b640c41ca74",
       "version_major": 2,
       "version_minor": 0
      },
      "text/plain": [
       "HBox(children=(FloatProgress(value=0.0, max=192.0), HTML(value='')))"
      ]
     },
     "metadata": {},
     "output_type": "display_data"
    },
    {
     "name": "stdout",
     "output_type": "stream",
     "text": [
      "\n",
      "nfolds = 4, logit hold = 0.96577, lgb hold = 0.84687\n"
     ]
    },
    {
     "data": {
      "application/vnd.jupyter.widget-view+json": {
       "model_id": "b6d47c74860b47928b597210f1ef6bd0",
       "version_major": 2,
       "version_minor": 0
      },
      "text/plain": [
       "HBox(children=(FloatProgress(value=0.0, max=283.0), HTML(value='')))"
      ]
     },
     "metadata": {},
     "output_type": "display_data"
    },
    {
     "name": "stdout",
     "output_type": "stream",
     "text": [
      "\n"
     ]
    },
    {
     "data": {
      "application/vnd.jupyter.widget-view+json": {
       "model_id": "3d723f568014481fa2f0265707dcebba",
       "version_major": 2,
       "version_minor": 0
      },
      "text/plain": [
       "HBox(children=(FloatProgress(value=0.0, max=283.0), HTML(value='')))"
      ]
     },
     "metadata": {},
     "output_type": "display_data"
    },
    {
     "name": "stdout",
     "output_type": "stream",
     "text": [
      "\n"
     ]
    },
    {
     "data": {
      "application/vnd.jupyter.widget-view+json": {
       "model_id": "8d9196d2b1d1462187f6052a1c15e263",
       "version_major": 2,
       "version_minor": 0
      },
      "text/plain": [
       "HBox(children=(FloatProgress(value=0.0, max=111.0), HTML(value='')))"
      ]
     },
     "metadata": {},
     "output_type": "display_data"
    },
    {
     "name": "stdout",
     "output_type": "stream",
     "text": [
      "\n"
     ]
    },
    {
     "data": {
      "application/vnd.jupyter.widget-view+json": {
       "model_id": "66527c588fd84ceea1d55044bbed4c0d",
       "version_major": 2,
       "version_minor": 0
      },
      "text/plain": [
       "HBox(children=(FloatProgress(value=0.0, max=282.0), HTML(value='')))"
      ]
     },
     "metadata": {},
     "output_type": "display_data"
    },
    {
     "name": "stdout",
     "output_type": "stream",
     "text": [
      "\n",
      "nfolds = 4, logit hold = 0.96573, lgb hold = 0.88627\n",
      "\n"
     ]
    },
    {
     "data": {
      "application/vnd.jupyter.widget-view+json": {
       "model_id": "37462329e848441f8e139d20bcd3a39a",
       "version_major": 2,
       "version_minor": 0
      },
      "text/plain": [
       "HBox(children=(FloatProgress(value=0.0, max=2.0), HTML(value='')))"
      ]
     },
     "metadata": {},
     "output_type": "display_data"
    },
    {
     "data": {
      "application/vnd.jupyter.widget-view+json": {
       "model_id": "5a119c30870548fdbdc5b6291316d8db",
       "version_major": 2,
       "version_minor": 0
      },
      "text/plain": [
       "HBox(children=(FloatProgress(value=0.0, max=193.0), HTML(value='')))"
      ]
     },
     "metadata": {},
     "output_type": "display_data"
    },
    {
     "name": "stdout",
     "output_type": "stream",
     "text": [
      "\n"
     ]
    },
    {
     "data": {
      "application/vnd.jupyter.widget-view+json": {
       "model_id": "6bba8a1cc37946598407d820d5e35203",
       "version_major": 2,
       "version_minor": 0
      },
      "text/plain": [
       "HBox(children=(FloatProgress(value=0.0, max=193.0), HTML(value='')))"
      ]
     },
     "metadata": {},
     "output_type": "display_data"
    },
    {
     "name": "stdout",
     "output_type": "stream",
     "text": [
      "\n"
     ]
    },
    {
     "data": {
      "application/vnd.jupyter.widget-view+json": {
       "model_id": "9ea2dce03dce47e29ef18f59251d1e14",
       "version_major": 2,
       "version_minor": 0
      },
      "text/plain": [
       "HBox(children=(FloatProgress(value=0.0, max=21.0), HTML(value='')))"
      ]
     },
     "metadata": {},
     "output_type": "display_data"
    },
    {
     "name": "stdout",
     "output_type": "stream",
     "text": [
      "\n"
     ]
    },
    {
     "data": {
      "application/vnd.jupyter.widget-view+json": {
       "model_id": "508fcbd6dca442b7b61d10f640659132",
       "version_major": 2,
       "version_minor": 0
      },
      "text/plain": [
       "HBox(children=(FloatProgress(value=0.0, max=192.0), HTML(value='')))"
      ]
     },
     "metadata": {},
     "output_type": "display_data"
    },
    {
     "name": "stdout",
     "output_type": "stream",
     "text": [
      "\n",
      "nfolds = 4, logit hold = 0.96688, lgb hold = 0.82416\n"
     ]
    },
    {
     "data": {
      "application/vnd.jupyter.widget-view+json": {
       "model_id": "ca0387b0e4aa43038f97b77a11f69ee7",
       "version_major": 2,
       "version_minor": 0
      },
      "text/plain": [
       "HBox(children=(FloatProgress(value=0.0, max=283.0), HTML(value='')))"
      ]
     },
     "metadata": {},
     "output_type": "display_data"
    },
    {
     "name": "stdout",
     "output_type": "stream",
     "text": [
      "\n"
     ]
    },
    {
     "data": {
      "application/vnd.jupyter.widget-view+json": {
       "model_id": "e8a3c60537c343079e6e853264b79c6f",
       "version_major": 2,
       "version_minor": 0
      },
      "text/plain": [
       "HBox(children=(FloatProgress(value=0.0, max=283.0), HTML(value='')))"
      ]
     },
     "metadata": {},
     "output_type": "display_data"
    },
    {
     "name": "stdout",
     "output_type": "stream",
     "text": [
      "\n"
     ]
    },
    {
     "data": {
      "application/vnd.jupyter.widget-view+json": {
       "model_id": "90ef06a924344bb6b0abb9a8ff7bbb61",
       "version_major": 2,
       "version_minor": 0
      },
      "text/plain": [
       "HBox(children=(FloatProgress(value=0.0, max=111.0), HTML(value='')))"
      ]
     },
     "metadata": {},
     "output_type": "display_data"
    },
    {
     "name": "stdout",
     "output_type": "stream",
     "text": [
      "\n"
     ]
    },
    {
     "data": {
      "application/vnd.jupyter.widget-view+json": {
       "model_id": "97ec40011ca0454ca91f53184af0fde6",
       "version_major": 2,
       "version_minor": 0
      },
      "text/plain": [
       "HBox(children=(FloatProgress(value=0.0, max=282.0), HTML(value='')))"
      ]
     },
     "metadata": {},
     "output_type": "display_data"
    },
    {
     "name": "stdout",
     "output_type": "stream",
     "text": [
      "\n",
      "nfolds = 4, logit hold = 0.96717, lgb hold = 0.92604\n",
      "\n",
      "\n"
     ]
    },
    {
     "data": {
      "application/vnd.jupyter.widget-view+json": {
       "model_id": "1f62dafc032544eaa04d7c39a0c1e421",
       "version_major": 2,
       "version_minor": 0
      },
      "text/plain": [
       "HBox(children=(FloatProgress(value=0.0, max=3.0), HTML(value='')))"
      ]
     },
     "metadata": {},
     "output_type": "display_data"
    },
    {
     "data": {
      "application/vnd.jupyter.widget-view+json": {
       "model_id": "0d320e85a3de4157bc1f1e4c2ccfc93f",
       "version_major": 2,
       "version_minor": 0
      },
      "text/plain": [
       "HBox(children=(FloatProgress(value=0.0, max=2.0), HTML(value='')))"
      ]
     },
     "metadata": {},
     "output_type": "display_data"
    },
    {
     "data": {
      "application/vnd.jupyter.widget-view+json": {
       "model_id": "9993be473d0445fa95762aa95790181d",
       "version_major": 2,
       "version_minor": 0
      },
      "text/plain": [
       "HBox(children=(FloatProgress(value=0.0, max=193.0), HTML(value='')))"
      ]
     },
     "metadata": {},
     "output_type": "display_data"
    },
    {
     "name": "stdout",
     "output_type": "stream",
     "text": [
      "\n"
     ]
    },
    {
     "data": {
      "application/vnd.jupyter.widget-view+json": {
       "model_id": "3a692bb9fdff4dcab80206e92240a1cb",
       "version_major": 2,
       "version_minor": 0
      },
      "text/plain": [
       "HBox(children=(FloatProgress(value=0.0, max=193.0), HTML(value='')))"
      ]
     },
     "metadata": {},
     "output_type": "display_data"
    },
    {
     "name": "stdout",
     "output_type": "stream",
     "text": [
      "\n"
     ]
    },
    {
     "data": {
      "application/vnd.jupyter.widget-view+json": {
       "model_id": "dbecb9a7e1bf4edab83ca5a31b2e69ad",
       "version_major": 2,
       "version_minor": 0
      },
      "text/plain": [
       "HBox(children=(FloatProgress(value=0.0, max=21.0), HTML(value='')))"
      ]
     },
     "metadata": {},
     "output_type": "display_data"
    },
    {
     "name": "stdout",
     "output_type": "stream",
     "text": [
      "\n"
     ]
    },
    {
     "data": {
      "application/vnd.jupyter.widget-view+json": {
       "model_id": "3939689a760848a7891aebeb385c2eae",
       "version_major": 2,
       "version_minor": 0
      },
      "text/plain": [
       "HBox(children=(FloatProgress(value=0.0, max=192.0), HTML(value='')))"
      ]
     },
     "metadata": {},
     "output_type": "display_data"
    },
    {
     "name": "stdout",
     "output_type": "stream",
     "text": [
      "\n",
      "nfolds = 5, logit hold = 0.95706, lgb hold = 0.98167\n"
     ]
    },
    {
     "data": {
      "application/vnd.jupyter.widget-view+json": {
       "model_id": "e4d7c0c9de3c474085e15e251a0a4d86",
       "version_major": 2,
       "version_minor": 0
      },
      "text/plain": [
       "HBox(children=(FloatProgress(value=0.0, max=283.0), HTML(value='')))"
      ]
     },
     "metadata": {},
     "output_type": "display_data"
    },
    {
     "name": "stdout",
     "output_type": "stream",
     "text": [
      "\n"
     ]
    },
    {
     "data": {
      "application/vnd.jupyter.widget-view+json": {
       "model_id": "ff24c225cd244dd4b939fb573fc3685c",
       "version_major": 2,
       "version_minor": 0
      },
      "text/plain": [
       "HBox(children=(FloatProgress(value=0.0, max=283.0), HTML(value='')))"
      ]
     },
     "metadata": {},
     "output_type": "display_data"
    },
    {
     "name": "stdout",
     "output_type": "stream",
     "text": [
      "\n"
     ]
    },
    {
     "data": {
      "application/vnd.jupyter.widget-view+json": {
       "model_id": "be0a54ab409e498d99a911b27da0e569",
       "version_major": 2,
       "version_minor": 0
      },
      "text/plain": [
       "HBox(children=(FloatProgress(value=0.0, max=111.0), HTML(value='')))"
      ]
     },
     "metadata": {},
     "output_type": "display_data"
    },
    {
     "name": "stdout",
     "output_type": "stream",
     "text": [
      "\n"
     ]
    },
    {
     "data": {
      "application/vnd.jupyter.widget-view+json": {
       "model_id": "af42c1682a7f4d248093d466fb04b3d2",
       "version_major": 2,
       "version_minor": 0
      },
      "text/plain": [
       "HBox(children=(FloatProgress(value=0.0, max=282.0), HTML(value='')))"
      ]
     },
     "metadata": {},
     "output_type": "display_data"
    },
    {
     "name": "stdout",
     "output_type": "stream",
     "text": [
      "\n",
      "nfolds = 5, logit hold = 0.96189, lgb hold = 0.97060\n",
      "\n"
     ]
    },
    {
     "data": {
      "application/vnd.jupyter.widget-view+json": {
       "model_id": "fdef7a04ee194b9085009dfe8ea40720",
       "version_major": 2,
       "version_minor": 0
      },
      "text/plain": [
       "HBox(children=(FloatProgress(value=0.0, max=2.0), HTML(value='')))"
      ]
     },
     "metadata": {},
     "output_type": "display_data"
    },
    {
     "data": {
      "application/vnd.jupyter.widget-view+json": {
       "model_id": "f444c20510444f8f94b810f86eeb3411",
       "version_major": 2,
       "version_minor": 0
      },
      "text/plain": [
       "HBox(children=(FloatProgress(value=0.0, max=193.0), HTML(value='')))"
      ]
     },
     "metadata": {},
     "output_type": "display_data"
    },
    {
     "name": "stdout",
     "output_type": "stream",
     "text": [
      "\n"
     ]
    },
    {
     "data": {
      "application/vnd.jupyter.widget-view+json": {
       "model_id": "a79eb99f154d420e9443a928cbb3fc68",
       "version_major": 2,
       "version_minor": 0
      },
      "text/plain": [
       "HBox(children=(FloatProgress(value=0.0, max=193.0), HTML(value='')))"
      ]
     },
     "metadata": {},
     "output_type": "display_data"
    },
    {
     "name": "stdout",
     "output_type": "stream",
     "text": [
      "\n"
     ]
    },
    {
     "data": {
      "application/vnd.jupyter.widget-view+json": {
       "model_id": "2b034fc774a14c8087b9fa5e27195f95",
       "version_major": 2,
       "version_minor": 0
      },
      "text/plain": [
       "HBox(children=(FloatProgress(value=0.0, max=21.0), HTML(value='')))"
      ]
     },
     "metadata": {},
     "output_type": "display_data"
    },
    {
     "name": "stdout",
     "output_type": "stream",
     "text": [
      "\n"
     ]
    },
    {
     "data": {
      "application/vnd.jupyter.widget-view+json": {
       "model_id": "ab48facff36b4f0c9251f55bbd79a342",
       "version_major": 2,
       "version_minor": 0
      },
      "text/plain": [
       "HBox(children=(FloatProgress(value=0.0, max=192.0), HTML(value='')))"
      ]
     },
     "metadata": {},
     "output_type": "display_data"
    },
    {
     "name": "stdout",
     "output_type": "stream",
     "text": [
      "\n",
      "nfolds = 5, logit hold = 0.95502, lgb hold = 0.97330\n"
     ]
    },
    {
     "data": {
      "application/vnd.jupyter.widget-view+json": {
       "model_id": "b0929b81dfd342739cbbd8de313b5011",
       "version_major": 2,
       "version_minor": 0
      },
      "text/plain": [
       "HBox(children=(FloatProgress(value=0.0, max=283.0), HTML(value='')))"
      ]
     },
     "metadata": {},
     "output_type": "display_data"
    },
    {
     "name": "stdout",
     "output_type": "stream",
     "text": [
      "\n"
     ]
    },
    {
     "data": {
      "application/vnd.jupyter.widget-view+json": {
       "model_id": "de7838cab4684e62aaaa322fc2d84032",
       "version_major": 2,
       "version_minor": 0
      },
      "text/plain": [
       "HBox(children=(FloatProgress(value=0.0, max=283.0), HTML(value='')))"
      ]
     },
     "metadata": {},
     "output_type": "display_data"
    },
    {
     "name": "stdout",
     "output_type": "stream",
     "text": [
      "\n"
     ]
    },
    {
     "data": {
      "application/vnd.jupyter.widget-view+json": {
       "model_id": "bc90b72c116a4d4ca7c99b442ccde6e7",
       "version_major": 2,
       "version_minor": 0
      },
      "text/plain": [
       "HBox(children=(FloatProgress(value=0.0, max=111.0), HTML(value='')))"
      ]
     },
     "metadata": {},
     "output_type": "display_data"
    },
    {
     "name": "stdout",
     "output_type": "stream",
     "text": [
      "\n"
     ]
    },
    {
     "data": {
      "application/vnd.jupyter.widget-view+json": {
       "model_id": "14d07cd5851c4d599ab82f8df5806c07",
       "version_major": 2,
       "version_minor": 0
      },
      "text/plain": [
       "HBox(children=(FloatProgress(value=0.0, max=282.0), HTML(value='')))"
      ]
     },
     "metadata": {},
     "output_type": "display_data"
    },
    {
     "name": "stdout",
     "output_type": "stream",
     "text": [
      "\n",
      "nfolds = 5, logit hold = 0.97178, lgb hold = 0.97697\n",
      "\n"
     ]
    },
    {
     "data": {
      "application/vnd.jupyter.widget-view+json": {
       "model_id": "9516243bdfcb4810a4f0ef338058a7bf",
       "version_major": 2,
       "version_minor": 0
      },
      "text/plain": [
       "HBox(children=(FloatProgress(value=0.0, max=2.0), HTML(value='')))"
      ]
     },
     "metadata": {},
     "output_type": "display_data"
    },
    {
     "data": {
      "application/vnd.jupyter.widget-view+json": {
       "model_id": "4a3aa1eee9d74901a166367da9ad8c3f",
       "version_major": 2,
       "version_minor": 0
      },
      "text/plain": [
       "HBox(children=(FloatProgress(value=0.0, max=193.0), HTML(value='')))"
      ]
     },
     "metadata": {},
     "output_type": "display_data"
    },
    {
     "name": "stdout",
     "output_type": "stream",
     "text": [
      "\n"
     ]
    },
    {
     "data": {
      "application/vnd.jupyter.widget-view+json": {
       "model_id": "bde4d1a1252b4b90afed30f4a805e914",
       "version_major": 2,
       "version_minor": 0
      },
      "text/plain": [
       "HBox(children=(FloatProgress(value=0.0, max=193.0), HTML(value='')))"
      ]
     },
     "metadata": {},
     "output_type": "display_data"
    },
    {
     "name": "stdout",
     "output_type": "stream",
     "text": [
      "\n"
     ]
    },
    {
     "data": {
      "application/vnd.jupyter.widget-view+json": {
       "model_id": "1c137e70b15e4ea0bd3ebb6c155f099c",
       "version_major": 2,
       "version_minor": 0
      },
      "text/plain": [
       "HBox(children=(FloatProgress(value=0.0, max=21.0), HTML(value='')))"
      ]
     },
     "metadata": {},
     "output_type": "display_data"
    },
    {
     "name": "stdout",
     "output_type": "stream",
     "text": [
      "\n"
     ]
    },
    {
     "data": {
      "application/vnd.jupyter.widget-view+json": {
       "model_id": "d2cb1a6014d44b5d8e5a5dcac8d039c6",
       "version_major": 2,
       "version_minor": 0
      },
      "text/plain": [
       "HBox(children=(FloatProgress(value=0.0, max=192.0), HTML(value='')))"
      ]
     },
     "metadata": {},
     "output_type": "display_data"
    },
    {
     "name": "stdout",
     "output_type": "stream",
     "text": [
      "\n",
      "nfolds = 5, logit hold = 0.95933, lgb hold = 0.97330\n"
     ]
    },
    {
     "data": {
      "application/vnd.jupyter.widget-view+json": {
       "model_id": "82156e001f1548f38bc089c9b4b04249",
       "version_major": 2,
       "version_minor": 0
      },
      "text/plain": [
       "HBox(children=(FloatProgress(value=0.0, max=283.0), HTML(value='')))"
      ]
     },
     "metadata": {},
     "output_type": "display_data"
    },
    {
     "name": "stdout",
     "output_type": "stream",
     "text": [
      "\n"
     ]
    },
    {
     "data": {
      "application/vnd.jupyter.widget-view+json": {
       "model_id": "02c2f5f5d60f4243a0a4f9c8ee06b02f",
       "version_major": 2,
       "version_minor": 0
      },
      "text/plain": [
       "HBox(children=(FloatProgress(value=0.0, max=283.0), HTML(value='')))"
      ]
     },
     "metadata": {},
     "output_type": "display_data"
    },
    {
     "name": "stdout",
     "output_type": "stream",
     "text": [
      "\n"
     ]
    },
    {
     "data": {
      "application/vnd.jupyter.widget-view+json": {
       "model_id": "58a3641600c643ac8ab42e579a002c0e",
       "version_major": 2,
       "version_minor": 0
      },
      "text/plain": [
       "HBox(children=(FloatProgress(value=0.0, max=111.0), HTML(value='')))"
      ]
     },
     "metadata": {},
     "output_type": "display_data"
    },
    {
     "name": "stdout",
     "output_type": "stream",
     "text": [
      "\n"
     ]
    },
    {
     "data": {
      "application/vnd.jupyter.widget-view+json": {
       "model_id": "452811850c034b609c77d58cdaae89e2",
       "version_major": 2,
       "version_minor": 0
      },
      "text/plain": [
       "HBox(children=(FloatProgress(value=0.0, max=282.0), HTML(value='')))"
      ]
     },
     "metadata": {},
     "output_type": "display_data"
    },
    {
     "name": "stdout",
     "output_type": "stream",
     "text": [
      "\n",
      "nfolds = 5, logit hold = 0.97211, lgb hold = 0.97519\n",
      "\n",
      "\n",
      "\n",
      "выполнено за 7.0 часов, 34.0 минут\n"
     ]
    }
   ],
   "source": [
    "start = time.time()\n",
    "\n",
    "L_selection = []\n",
    "L_scores = []\n",
    "# используем разное число фолдов\n",
    "for _nfolds in tqdm_notebook(_nfolds_L):\n",
    "    \n",
    "    # схема валидации\n",
    "    cv_strat = TimeSeriesSplit(_nfolds)\n",
    "    \n",
    "    # инициализируем модели отбора признаков\n",
    "    lgb_selector = FeatureSelector(estimator = lgb_clf,\\\n",
    "                                               metric = 'roc_auc',\\\n",
    "                                               larger_is_better = True,\\\n",
    "                                               cv = cv_strat,\\\n",
    "                                               use_values = np.arange(_X_ts_tr.shape[1]),\\\n",
    "                                               use_recursion = False,\\\n",
    "                                               fill_na = FILL_NA,\\\n",
    "                                               show_progress = False)\n",
    "    logit_selector = FeatureSelector(estimator = logit_clf,\\\n",
    "                                                 metric = 'roc_auc',\\\n",
    "                                                 larger_is_better = True,\\\n",
    "                                                 cv = cv_strat,\\\n",
    "                                                 use_values = None,\\\n",
    "                                                 use_recursion = False,\\\n",
    "                                                 fill_na = FILL_NA,\\\n",
    "                                                 show_progress = False)\n",
    "    \n",
    "    # задаем tfidf vectorizer \n",
    "    for _ngram_range in tqdm_notebook(_ngram_ranges_L):\n",
    "        for _max_features in tqdm_notebook(_max_features_L):\n",
    "\n",
    "            # получаем датасеты\n",
    "            D_datasets = _prepare_data(sites_full_str,\\\n",
    "                                        _X_ts_ohe_tr, _X_ts_ohe_te,\\\n",
    "                                        _X_ts_tr, _X_ts_te,\\\n",
    "                                        y_tr = y_tr,\\\n",
    "                                        vec = TfidfVectorizer(ngram_range = _ngram_range, max_features = _max_features))\n",
    "\n",
    "            # отбираем признаки\n",
    "            logit_selector.fit(D_datasets['logit_TR'], D_datasets['y_TR'])        \n",
    "            x1_TR = logit_selector.transform(D_datasets['logit_TR'])\n",
    "            x1_HOLD = logit_selector.transform(D_datasets['logit_HOLD'])\n",
    "            x1_tr = logit_selector.transform(D_datasets['logit_tr'])\n",
    "            x1_te = logit_selector.transform(D_datasets['logit_te'])\n",
    "            \n",
    "            # тестируем на отложенной\n",
    "            logit_clf.fit(x1_TR, D_datasets['y_TR'])\n",
    "            auc_logit_hold = roc_auc_score(D_datasets['y_HOLD'], logit_clf.predict_proba(x1_HOLD)[:, 1])\n",
    "\n",
    "            # отбираем признаки\n",
    "            lgb_selector.fit(D_datasets['lgb_TR'], D_datasets['y_TR'])        \n",
    "            x2_TR = lgb_selector.transform(D_datasets['lgb_TR'])\n",
    "            x2_HOLD = lgb_selector.transform(D_datasets['lgb_HOLD'])\n",
    "            x2_tr = lgb_selector.transform(D_datasets['lgb_tr'])\n",
    "            x2_te = lgb_selector.transform(D_datasets['lgb_te'])\n",
    "            \n",
    "            # тестируем на отложенной\n",
    "            lgb_clf.fit(x2_TR, D_datasets['y_TR'])\n",
    "            auc_lgb_hold = roc_auc_score(D_datasets['y_HOLD'], lgb_clf.predict_proba(x2_HOLD)[:, 1])\n",
    "\n",
    "            # сохраняем результаты\n",
    "            L_scores.append((_nfolds, _max_features,\\\n",
    "                             logit_selector.best_score, lgb_selector.best_score,\\\n",
    "                             auc_logit_hold, auc_lgb_hold))\n",
    "            print('nfolds = {}, logit hold = {:.5f}, lgb hold = {:.5f}'.format(_nfolds, auc_logit_hold, auc_lgb_hold))\n",
    "            \n",
    "            # сохраняем число фолдов, ngram_range, max_featuers, результаты отбора признаков, словарь с датасетами\n",
    "            L_selection.append(((x1_tr, x1_te), (x2_tr, x2_te)))\n",
    "\n",
    "end = time.time()\n",
    "duration = (end - start) // 60\n",
    "print('выполнено за {} часов, {} минут'.format(duration//60, duration%60))"
   ]
  },
  {
   "cell_type": "code",
   "execution_count": 11,
   "metadata": {},
   "outputs": [
    {
     "data": {
      "text/html": [
       "<div>\n",
       "<style scoped>\n",
       "    .dataframe tbody tr th:only-of-type {\n",
       "        vertical-align: middle;\n",
       "    }\n",
       "\n",
       "    .dataframe tbody tr th {\n",
       "        vertical-align: top;\n",
       "    }\n",
       "\n",
       "    .dataframe thead th {\n",
       "        text-align: right;\n",
       "    }\n",
       "</style>\n",
       "<table border=\"1\" class=\"dataframe\">\n",
       "  <thead>\n",
       "    <tr style=\"text-align: right;\">\n",
       "      <th></th>\n",
       "      <th>nfolds</th>\n",
       "      <th>tfidf_(maxfeatures)</th>\n",
       "      <th>tfidf_(ngram_range)</th>\n",
       "      <th>logit_best_cv</th>\n",
       "      <th>logit_hold</th>\n",
       "      <th>lgb_best_cv</th>\n",
       "      <th>lgb_hold</th>\n",
       "      <th>mean_lgb</th>\n",
       "      <th>mean_logit</th>\n",
       "    </tr>\n",
       "  </thead>\n",
       "  <tbody>\n",
       "    <tr>\n",
       "      <th>17</th>\n",
       "      <td>5</td>\n",
       "      <td>100</td>\n",
       "      <td>(1, 3)</td>\n",
       "      <td>0.958845</td>\n",
       "      <td>0.972107</td>\n",
       "      <td>0.954015</td>\n",
       "      <td>0.975193</td>\n",
       "      <td>0.964604</td>\n",
       "      <td>0.963061</td>\n",
       "    </tr>\n",
       "    <tr>\n",
       "      <th>15</th>\n",
       "      <td>5</td>\n",
       "      <td>100</td>\n",
       "      <td>(1, 2)</td>\n",
       "      <td>0.958924</td>\n",
       "      <td>0.971781</td>\n",
       "      <td>0.950195</td>\n",
       "      <td>0.976971</td>\n",
       "      <td>0.963583</td>\n",
       "      <td>0.960988</td>\n",
       "    </tr>\n",
       "    <tr>\n",
       "      <th>13</th>\n",
       "      <td>5</td>\n",
       "      <td>100</td>\n",
       "      <td>(1, 1)</td>\n",
       "      <td>0.955603</td>\n",
       "      <td>0.961886</td>\n",
       "      <td>0.951838</td>\n",
       "      <td>0.970604</td>\n",
       "      <td>0.961221</td>\n",
       "      <td>0.956862</td>\n",
       "    </tr>\n",
       "    <tr>\n",
       "      <th>16</th>\n",
       "      <td>5</td>\n",
       "      <td>10</td>\n",
       "      <td>(1, 3)</td>\n",
       "      <td>0.954831</td>\n",
       "      <td>0.959330</td>\n",
       "      <td>0.951156</td>\n",
       "      <td>0.973302</td>\n",
       "      <td>0.962229</td>\n",
       "      <td>0.955243</td>\n",
       "    </tr>\n",
       "    <tr>\n",
       "      <th>14</th>\n",
       "      <td>5</td>\n",
       "      <td>10</td>\n",
       "      <td>(1, 2)</td>\n",
       "      <td>0.955756</td>\n",
       "      <td>0.955018</td>\n",
       "      <td>0.955072</td>\n",
       "      <td>0.973300</td>\n",
       "      <td>0.964186</td>\n",
       "      <td>0.955045</td>\n",
       "    </tr>\n",
       "    <tr>\n",
       "      <th>12</th>\n",
       "      <td>5</td>\n",
       "      <td>10</td>\n",
       "      <td>(1, 1)</td>\n",
       "      <td>0.953778</td>\n",
       "      <td>0.957055</td>\n",
       "      <td>0.955421</td>\n",
       "      <td>0.981671</td>\n",
       "      <td>0.968546</td>\n",
       "      <td>0.956238</td>\n",
       "    </tr>\n",
       "    <tr>\n",
       "      <th>3</th>\n",
       "      <td>3</td>\n",
       "      <td>100</td>\n",
       "      <td>(1, 2)</td>\n",
       "      <td>0.969523</td>\n",
       "      <td>0.951814</td>\n",
       "      <td>0.944837</td>\n",
       "      <td>0.979313</td>\n",
       "      <td>0.962075</td>\n",
       "      <td>0.948325</td>\n",
       "    </tr>\n",
       "    <tr>\n",
       "      <th>5</th>\n",
       "      <td>3</td>\n",
       "      <td>100</td>\n",
       "      <td>(1, 3)</td>\n",
       "      <td>0.969154</td>\n",
       "      <td>0.951774</td>\n",
       "      <td>0.944665</td>\n",
       "      <td>0.979904</td>\n",
       "      <td>0.962284</td>\n",
       "      <td>0.948220</td>\n",
       "    </tr>\n",
       "    <tr>\n",
       "      <th>0</th>\n",
       "      <td>3</td>\n",
       "      <td>10</td>\n",
       "      <td>(1, 1)</td>\n",
       "      <td>0.963315</td>\n",
       "      <td>0.948033</td>\n",
       "      <td>0.933474</td>\n",
       "      <td>0.977598</td>\n",
       "      <td>0.955536</td>\n",
       "      <td>0.940754</td>\n",
       "    </tr>\n",
       "    <tr>\n",
       "      <th>1</th>\n",
       "      <td>3</td>\n",
       "      <td>100</td>\n",
       "      <td>(1, 1)</td>\n",
       "      <td>0.965393</td>\n",
       "      <td>0.952674</td>\n",
       "      <td>0.943302</td>\n",
       "      <td>0.983397</td>\n",
       "      <td>0.963350</td>\n",
       "      <td>0.947988</td>\n",
       "    </tr>\n",
       "    <tr>\n",
       "      <th>2</th>\n",
       "      <td>3</td>\n",
       "      <td>10</td>\n",
       "      <td>(1, 2)</td>\n",
       "      <td>0.967861</td>\n",
       "      <td>0.946826</td>\n",
       "      <td>0.941617</td>\n",
       "      <td>0.982334</td>\n",
       "      <td>0.961975</td>\n",
       "      <td>0.944221</td>\n",
       "    </tr>\n",
       "    <tr>\n",
       "      <th>4</th>\n",
       "      <td>3</td>\n",
       "      <td>10</td>\n",
       "      <td>(1, 3)</td>\n",
       "      <td>0.967267</td>\n",
       "      <td>0.946832</td>\n",
       "      <td>0.941322</td>\n",
       "      <td>0.986339</td>\n",
       "      <td>0.963830</td>\n",
       "      <td>0.944077</td>\n",
       "    </tr>\n",
       "    <tr>\n",
       "      <th>11</th>\n",
       "      <td>4</td>\n",
       "      <td>100</td>\n",
       "      <td>(1, 3)</td>\n",
       "      <td>0.969184</td>\n",
       "      <td>0.967169</td>\n",
       "      <td>0.958075</td>\n",
       "      <td>0.926041</td>\n",
       "      <td>0.942058</td>\n",
       "      <td>0.962622</td>\n",
       "    </tr>\n",
       "    <tr>\n",
       "      <th>9</th>\n",
       "      <td>4</td>\n",
       "      <td>100</td>\n",
       "      <td>(1, 2)</td>\n",
       "      <td>0.969680</td>\n",
       "      <td>0.965726</td>\n",
       "      <td>0.959650</td>\n",
       "      <td>0.886272</td>\n",
       "      <td>0.922961</td>\n",
       "      <td>0.962688</td>\n",
       "    </tr>\n",
       "    <tr>\n",
       "      <th>6</th>\n",
       "      <td>4</td>\n",
       "      <td>10</td>\n",
       "      <td>(1, 1)</td>\n",
       "      <td>0.965490</td>\n",
       "      <td>0.966178</td>\n",
       "      <td>0.957527</td>\n",
       "      <td>0.871990</td>\n",
       "      <td>0.914759</td>\n",
       "      <td>0.961852</td>\n",
       "    </tr>\n",
       "    <tr>\n",
       "      <th>8</th>\n",
       "      <td>4</td>\n",
       "      <td>10</td>\n",
       "      <td>(1, 2)</td>\n",
       "      <td>0.968031</td>\n",
       "      <td>0.965765</td>\n",
       "      <td>0.959991</td>\n",
       "      <td>0.846873</td>\n",
       "      <td>0.903432</td>\n",
       "      <td>0.962878</td>\n",
       "    </tr>\n",
       "    <tr>\n",
       "      <th>10</th>\n",
       "      <td>4</td>\n",
       "      <td>10</td>\n",
       "      <td>(1, 3)</td>\n",
       "      <td>0.967545</td>\n",
       "      <td>0.966882</td>\n",
       "      <td>0.958328</td>\n",
       "      <td>0.824159</td>\n",
       "      <td>0.891243</td>\n",
       "      <td>0.962605</td>\n",
       "    </tr>\n",
       "    <tr>\n",
       "      <th>7</th>\n",
       "      <td>4</td>\n",
       "      <td>100</td>\n",
       "      <td>(1, 1)</td>\n",
       "      <td>0.966767</td>\n",
       "      <td>0.966311</td>\n",
       "      <td>0.954531</td>\n",
       "      <td>0.798404</td>\n",
       "      <td>0.876467</td>\n",
       "      <td>0.960421</td>\n",
       "    </tr>\n",
       "  </tbody>\n",
       "</table>\n",
       "</div>"
      ],
      "text/plain": [
       "    nfolds  tfidf_(maxfeatures) tfidf_(ngram_range)  logit_best_cv  \\\n",
       "17       5                  100              (1, 3)       0.958845   \n",
       "15       5                  100              (1, 2)       0.958924   \n",
       "13       5                  100              (1, 1)       0.955603   \n",
       "16       5                   10              (1, 3)       0.954831   \n",
       "14       5                   10              (1, 2)       0.955756   \n",
       "12       5                   10              (1, 1)       0.953778   \n",
       "3        3                  100              (1, 2)       0.969523   \n",
       "5        3                  100              (1, 3)       0.969154   \n",
       "0        3                   10              (1, 1)       0.963315   \n",
       "1        3                  100              (1, 1)       0.965393   \n",
       "2        3                   10              (1, 2)       0.967861   \n",
       "4        3                   10              (1, 3)       0.967267   \n",
       "11       4                  100              (1, 3)       0.969184   \n",
       "9        4                  100              (1, 2)       0.969680   \n",
       "6        4                   10              (1, 1)       0.965490   \n",
       "8        4                   10              (1, 2)       0.968031   \n",
       "10       4                   10              (1, 3)       0.967545   \n",
       "7        4                  100              (1, 1)       0.966767   \n",
       "\n",
       "    logit_hold  lgb_best_cv  lgb_hold  mean_lgb  mean_logit  \n",
       "17    0.972107     0.954015  0.975193  0.964604    0.963061  \n",
       "15    0.971781     0.950195  0.976971  0.963583    0.960988  \n",
       "13    0.961886     0.951838  0.970604  0.961221    0.956862  \n",
       "16    0.959330     0.951156  0.973302  0.962229    0.955243  \n",
       "14    0.955018     0.955072  0.973300  0.964186    0.955045  \n",
       "12    0.957055     0.955421  0.981671  0.968546    0.956238  \n",
       "3     0.951814     0.944837  0.979313  0.962075    0.948325  \n",
       "5     0.951774     0.944665  0.979904  0.962284    0.948220  \n",
       "0     0.948033     0.933474  0.977598  0.955536    0.940754  \n",
       "1     0.952674     0.943302  0.983397  0.963350    0.947988  \n",
       "2     0.946826     0.941617  0.982334  0.961975    0.944221  \n",
       "4     0.946832     0.941322  0.986339  0.963830    0.944077  \n",
       "11    0.967169     0.958075  0.926041  0.942058    0.962622  \n",
       "9     0.965726     0.959650  0.886272  0.922961    0.962688  \n",
       "6     0.966178     0.957527  0.871990  0.914759    0.961852  \n",
       "8     0.965765     0.959991  0.846873  0.903432    0.962878  \n",
       "10    0.966882     0.958328  0.824159  0.891243    0.962605  \n",
       "7     0.966311     0.954531  0.798404  0.876467    0.960421  "
      ]
     },
     "execution_count": 11,
     "metadata": {},
     "output_type": "execute_result"
    }
   ],
   "source": [
    "report_df= pd.read_pickle('report.pkl')\n",
    "report_df['mean_lgb'] = report_df.iloc[:, -2:].mean(1)\n",
    "report_df['mean_logit'] = report_df.iloc[:, -4:-2].mean(1)\n",
    "report_df.loc[(report_df['mean_lgb'] - report_df['mean_logit']).abs().sort_values().index]"
   ]
  },
  {
   "cell_type": "markdown",
   "metadata": {},
   "source": [
    "* выбрали оптимальную валидацию (по разнице валидационного и отложенного скора)(TimeSeriesSplit(5))\n",
    "* выбираем параметры tfidf\n",
    "* max_features = 100 (пока оставим так)"
   ]
  },
  {
   "cell_type": "code",
   "execution_count": 12,
   "metadata": {},
   "outputs": [],
   "source": [
    "tscv5 = TimeSeriesSplit(5)\n",
    "# инициализируем модели отбора признаков\n",
    "lgb_selector = FeatureSelector(estimator = lgb_clf,\\\n",
    "                               metric = 'roc_auc',\\\n",
    "                               larger_is_better = True,\\\n",
    "                               cv = tscv5,\\\n",
    "                               use_values = np.arange(_X_ts_tr.shape[1]),\\\n",
    "                               use_recursion = False,\\\n",
    "                               fill_na = FILL_NA,\\\n",
    "                               show_progress = False)\n",
    "logit_selector = FeatureSelector(estimator = logit_clf,\\\n",
    "                                 metric = 'roc_auc',\\\n",
    "                                 larger_is_better = True,\\\n",
    "                                 cv = tscv5,\\\n",
    "                                 use_values = None,\\\n",
    "                                 use_recursion = False,\\\n",
    "                                 fill_na = FILL_NA,\\\n",
    "                                 show_progress = False)"
   ]
  },
  {
   "cell_type": "code",
   "execution_count": null,
   "metadata": {},
   "outputs": [
    {
     "data": {
      "application/vnd.jupyter.widget-view+json": {
       "model_id": "db9884545cea484f888bf5e5fa6a7891",
       "version_major": 2,
       "version_minor": 0
      },
      "text/plain": [
       "HBox(children=(FloatProgress(value=0.0, max=10.0), HTML(value='')))"
      ]
     },
     "metadata": {},
     "output_type": "display_data"
    },
    {
     "data": {
      "application/vnd.jupyter.widget-view+json": {
       "model_id": "046fc410157c4cb6977e4565a418e001",
       "version_major": 2,
       "version_minor": 0
      },
      "text/plain": [
       "HBox(children=(FloatProgress(value=0.0, max=3.0), HTML(value='')))"
      ]
     },
     "metadata": {},
     "output_type": "display_data"
    },
    {
     "data": {
      "application/vnd.jupyter.widget-view+json": {
       "model_id": "658c15c70a0d4cd794537ef36df9cd20",
       "version_major": 2,
       "version_minor": 0
      },
      "text/plain": [
       "HBox(children=(FloatProgress(value=0.0, max=283.0), HTML(value='')))"
      ]
     },
     "metadata": {},
     "output_type": "display_data"
    },
    {
     "name": "stdout",
     "output_type": "stream",
     "text": [
      "\n"
     ]
    },
    {
     "data": {
      "application/vnd.jupyter.widget-view+json": {
       "model_id": "d1e149e123db481685834f83c9360171",
       "version_major": 2,
       "version_minor": 0
      },
      "text/plain": [
       "HBox(children=(FloatProgress(value=0.0, max=283.0), HTML(value='')))"
      ]
     },
     "metadata": {},
     "output_type": "display_data"
    },
    {
     "name": "stdout",
     "output_type": "stream",
     "text": [
      "\n"
     ]
    },
    {
     "data": {
      "application/vnd.jupyter.widget-view+json": {
       "model_id": "5eaa37a6157a4c50bc198475502b7f82",
       "version_major": 2,
       "version_minor": 0
      },
      "text/plain": [
       "HBox(children=(FloatProgress(value=0.0, max=111.0), HTML(value='')))"
      ]
     },
     "metadata": {},
     "output_type": "display_data"
    },
    {
     "name": "stdout",
     "output_type": "stream",
     "text": [
      "\n"
     ]
    },
    {
     "data": {
      "application/vnd.jupyter.widget-view+json": {
       "model_id": "b77d56347cf04e33ae992fd0340e729b",
       "version_major": 2,
       "version_minor": 0
      },
      "text/plain": [
       "HBox(children=(FloatProgress(value=0.0, max=282.0), HTML(value='')))"
      ]
     },
     "metadata": {},
     "output_type": "display_data"
    },
    {
     "name": "stdout",
     "output_type": "stream",
     "text": [
      "\n"
     ]
    },
    {
     "data": {
      "application/vnd.jupyter.widget-view+json": {
       "model_id": "99642e634b7d403895677bf86ce3dc1f",
       "version_major": 2,
       "version_minor": 0
      },
      "text/plain": [
       "HBox(children=(FloatProgress(value=0.0, max=683.0), HTML(value='')))"
      ]
     },
     "metadata": {},
     "output_type": "display_data"
    },
    {
     "name": "stdout",
     "output_type": "stream",
     "text": [
      "\n"
     ]
    },
    {
     "data": {
      "application/vnd.jupyter.widget-view+json": {
       "model_id": "88d05f10b9644708bf05ad18b9cd83cc",
       "version_major": 2,
       "version_minor": 0
      },
      "text/plain": [
       "HBox(children=(FloatProgress(value=0.0, max=683.0), HTML(value='')))"
      ]
     },
     "metadata": {},
     "output_type": "display_data"
    },
    {
     "name": "stdout",
     "output_type": "stream",
     "text": [
      "\n"
     ]
    },
    {
     "data": {
      "application/vnd.jupyter.widget-view+json": {
       "model_id": "fb5bfada633142079341fa048abcd06b",
       "version_major": 2,
       "version_minor": 0
      },
      "text/plain": [
       "HBox(children=(FloatProgress(value=0.0, max=511.0), HTML(value='')))"
      ]
     },
     "metadata": {},
     "output_type": "display_data"
    },
    {
     "name": "stdout",
     "output_type": "stream",
     "text": [
      "\n"
     ]
    },
    {
     "data": {
      "application/vnd.jupyter.widget-view+json": {
       "model_id": "4926e281368d4239a4d37a4a66cd78e8",
       "version_major": 2,
       "version_minor": 0
      },
      "text/plain": [
       "HBox(children=(FloatProgress(value=0.0, max=682.0), HTML(value='')))"
      ]
     },
     "metadata": {},
     "output_type": "display_data"
    }
   ],
   "source": [
    "L2_scores = []\n",
    "L2_features = []\n",
    "for i in tqdm_notebook(range(1, 11)):  \n",
    "    for _max_features in tqdm_notebook((100, 500, 1000)):\n",
    "        D_datasets = _prepare_data(sites_full_str,\\\n",
    "                                   _X_ts_ohe_tr, _X_ts_ohe_te,\\\n",
    "                                   _X_ts_tr, _X_ts_te,\\\n",
    "                                   y_tr = y_tr,\\\n",
    "                                   vec = TfidfVectorizer(ngram_range = (1, i), max_features = _max_features))\n",
    "        # отбираем признаки\n",
    "        logit_selector.fit(D_datasets['logit_TR'], D_datasets['y_TR'])        \n",
    "        x1_TR = logit_selector.transform(D_datasets['logit_TR'])\n",
    "        x1_HOLD = logit_selector.transform(D_datasets['logit_HOLD'])\n",
    "        x1_tr = logit_selector.transform(D_datasets['logit_tr'])\n",
    "        x1_te = logit_selector.transform(D_datasets['logit_te'])\n",
    "\n",
    "        # тестируем на отложенной\n",
    "        logit_clf.fit(x1_TR, D_datasets['y_TR'])\n",
    "        auc_logit_hold = roc_auc_score(D_datasets['y_HOLD'], logit_clf.predict_proba(x1_HOLD)[:, 1])\n",
    "\n",
    "        # отбираем признаки\n",
    "        lgb_selector.fit(D_datasets['lgb_TR'], D_datasets['y_TR'])        \n",
    "        x2_TR = lgb_selector.transform(D_datasets['lgb_TR'])\n",
    "        x2_HOLD = lgb_selector.transform(D_datasets['lgb_HOLD'])\n",
    "        x2_tr = lgb_selector.transform(D_datasets['lgb_tr'])\n",
    "        x2_te = lgb_selector.transform(D_datasets['lgb_te'])\n",
    "\n",
    "        # тестируем на отложенной\n",
    "        lgb_clf.fit(x2_TR, D_datasets['y_TR'])\n",
    "        auc_lgb_hold = roc_auc_score(D_datasets['y_HOLD'], lgb_clf.predict_proba(x2_HOLD)[:, 1])        \n",
    "        \n",
    "        # собираем метрики, признаки\n",
    "        L2_scores.append((logit_selector.best_score, auc_logit_hold, lgb_selector.best_score, auc_lgb_hold))\n",
    "        L2_features.append(((x1_TR, x1_HOLD, x1_tr, x1_te),(x2_TR, x2_HOLD, x2_tr, x2_te)))    "
   ]
  },
  {
   "cell_type": "markdown",
   "metadata": {},
   "source": [
    "<img src=\"стекинг_0402.png\">"
   ]
  },
  {
   "cell_type": "code",
   "execution_count": null,
   "metadata": {},
   "outputs": [],
   "source": [
    "from sklearn.linear_model import Lasso, Ridge\n",
    "from sklearn.ensemble import RandomForestRegressor\n",
    "from sklearn.neighbors import KNeighborsRegressor\n",
    "from sklern.svm import LinearSVR¶\n",
    "from sklearn.tree import DecisionTreeRegressor\n",
    "\n",
    "# базовые модели\n",
    "BASE_MODELS_LINEAR = [Lasso(random_state = SEED),\\\n",
    "                      Ridge(random_state = SEED),\n",
    "                      KNeighborsRegressor(),\\\n",
    "                      LinearSVR(random_state = SEED)]\n",
    "BASE_MODELS_TREE = [RandomForestRegressor(random_state = SEED),\\\n",
    "                    LGBMRegressor(random_state = SEED),\\\n",
    "                    XGBRegressor(random_state = SEED),\\               \n",
    "                    KNeighborsRegressor(),\\\n",
    "                    DecisionTreeRegressor(random_state = SEED)]\n",
    "# итераций стекинга\n",
    "N_ITERATIONS = 5\n",
    "# число фолдов\n",
    "N_FOLDS = 20\n",
    "# доли признаков, на которых обучаются базовые модели\n",
    "FEAT_USE_SHARE = .85\n",
    "# итераций обучения на подпространствах признаков\n",
    "N_SUBSET_ITERATIONS = 10\n",
    "\n",
    "# признаки\n",
    "L_logit_TR, L_logit_HOLD, L_logit_tr, L_logit_te = [], [], [], []\n",
    "L_lgb_TR, L_lgb_HOLD, L_lgb_tr, L_lgb_te = [], [], [], []\n",
    "for element in L2_features:\n",
    "    L_logit_TR.append(element[0][0])\n",
    "    L_logit_HOLD.append(element[0][1])\n",
    "    L_logit_tr.append(element[0][2])\n",
    "    L_logit_te.append(element[0][3])\n",
    "    \n",
    "    L_lgb_TR.append(element[1][0])\n",
    "    L_lgb_HOLD.append(element[1][1])\n",
    "    L_lgb_tr.append(element[1][2])\n",
    "    L_lgb_te.append(element[1][3])\n",
    "    \n",
    "logits_L = (L_logit_TR, L_logit_HOLD, L_logit_tr, L_logit_te)\n",
    "lgbs_L = (L_lgb_TR, L_lgb_HOLD, L_lgb_tr, L_lgb_te)"
   ]
  },
  {
   "cell_type": "code",
   "execution_count": null,
   "metadata": {},
   "outputs": [],
   "source": [
    "LTR, LHOLD, Ltr, Lte = [], [], [], []\n",
    "\n",
    "# запускаем стекинг N_ITERATIONS раз\n",
    "for _ in tqdm_notebook(range(N_ITERATIONS)):    \n",
    "    \n",
    "    # используем признаки для logit и для lgb\n",
    "    for feat_idx, selected_by in tqdm_notebook(enumerate((logits_L, lgbs_L))):\n",
    "        \n",
    "        # мы отбирали признаки 10 раз (для ngram_range от 1 до 10)\n",
    "        for i in tqdm_notebook(range(len(selected_by))):\n",
    "            \n",
    "            # отобранные признаки\n",
    "            subset = selected_by[i]\n",
    "            _TR, _HOLD, _tr, _te = subset\n",
    "            _y_TR, _y_HOLD = np.array(y_tr)[:IDX_SPLIT], np.array(y_tr)[IDX_SPLIT:]\n",
    "            \n",
    "            # обучаемся на разных подпространствах признаков\n",
    "            for subset_idx in tqdm_notebook(range(1, N_SUBSET_ITERATIONS+1)):\n",
    "                \n",
    "                # фиксируем ансамбль\n",
    "                # если используем признаки с ohe\n",
    "                if feat_idx == 0:\n",
    "                    # в качестве базовых моделей берем линейные\n",
    "                    stacking_reg = StackingRegressor(models = BASE_MODELS_LINEAR,\\\n",
    "                                                     cv_strat = KFold(N_FOLDS, random_state = _))\n",
    "                else:\n",
    "                    # в качестве базовых моделей берем деревья\n",
    "                    stacking_reg = StackingRegressor(models = BASE_MODELS_TREE,\\\n",
    "                                                     cv_strat = KFold(N_FOLDS, random_state = _))\n",
    "                    \n",
    "                \n",
    "                # фиксируем сид\n",
    "                np.random.seed(SEED+subset_idx)\n",
    "                \n",
    "                # выбираем признаки, которые будем использовать\n",
    "                nfeatures = _TR.shape[1]\n",
    "                n_feat_use = np.int32(np.around(nfeatures*FEAT_USE_SHARE))\n",
    "                feat_subset = np.random.choice(np.arange(nfeatures), n_feat_use)\n",
    "                \n",
    "                # фитим ансамбль\n",
    "                stacking_reg.fit(_TR[:, feat_subset], _y_TR)\n",
    "\n",
    "                # получаем метапризнаки\n",
    "                LTR.append(stacking_reg.get_metafeatures(_TR[:, feat_subset]))\n",
    "                LHOLD.append(stacking_reg.get_metafeatures(_HOLD[:, feat_subset]))\n",
    "                Ltr.append(stacking_reg.get_metafeatures(_tr[:, feat_subset]))\n",
    "                Lte.append(stacking_reg.get_metafeatures(_te[:, feat_subset]))\n"
   ]
  },
  {
   "cell_type": "code",
   "execution_count": null,
   "metadata": {},
   "outputs": [],
   "source": []
  },
  {
   "cell_type": "code",
   "execution_count": null,
   "metadata": {},
   "outputs": [],
   "source": []
  },
  {
   "cell_type": "code",
   "execution_count": null,
   "metadata": {},
   "outputs": [],
   "source": []
  },
  {
   "cell_type": "code",
   "execution_count": null,
   "metadata": {},
   "outputs": [],
   "source": []
  },
  {
   "cell_type": "code",
   "execution_count": null,
   "metadata": {},
   "outputs": [],
   "source": []
  },
  {
   "cell_type": "code",
   "execution_count": null,
   "metadata": {},
   "outputs": [],
   "source": []
  },
  {
   "cell_type": "code",
   "execution_count": null,
   "metadata": {},
   "outputs": [],
   "source": []
  },
  {
   "cell_type": "code",
   "execution_count": null,
   "metadata": {},
   "outputs": [],
   "source": []
  },
  {
   "cell_type": "code",
   "execution_count": null,
   "metadata": {},
   "outputs": [],
   "source": []
  }
 ],
 "metadata": {
  "kernelspec": {
   "display_name": "Python 3",
   "language": "python",
   "name": "python3"
  },
  "language_info": {
   "codemirror_mode": {
    "name": "ipython",
    "version": 3
   },
   "file_extension": ".py",
   "mimetype": "text/x-python",
   "name": "python",
   "nbconvert_exporter": "python",
   "pygments_lexer": "ipython3",
   "version": "3.8.3"
  }
 },
 "nbformat": 4,
 "nbformat_minor": 4
}
