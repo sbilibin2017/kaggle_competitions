{
 "cells": [
  {
   "cell_type": "code",
   "execution_count": 1,
   "metadata": {},
   "outputs": [],
   "source": [
    "import pandas as pd\n",
    "import numpy as np\n",
    "from scipy import  stats\n",
    "import seaborn as sns\n",
    "import matplotlib.pyplot as plt\n",
    "plt.style.use('ggplot')\n",
    "import warnings\n",
    "warnings.filterwarnings('ignore')\n",
    "from tqdm import tqdm_notebook\n",
    "from sklearn.feature_extraction.text import TfidfVectorizer\n",
    "from scipy.sparse import csc_matrix, hstack\n",
    "from sklearn.model_selection import cross_validate, train_test_split, TimeSeriesSplit\n",
    "from sklearn.metrics import roc_auc_score\n",
    "from sklearn.linear_model import LogisticRegression\n",
    "from lightgbm import LGBMClassifier\n",
    "from sklearn.preprocessing import MinMaxScaler\n",
    "from sklearn.base import BaseEstimator, TransformerMixin, ClassifierMixin, clone\n",
    "from xgboost import XGBClassifier\n",
    "from sklearn.ensemble import RandomForestClassifier\n",
    "from sklearn.neighbors import KNeighborsClassifier\n",
    "import pickle\n",
    "from sklearn.preprocessing import OneHotEncoder\n",
    "from collections import defaultdict\n",
    "from matplotlib_venn import venn2"
   ]
  },
  {
   "cell_type": "code",
   "execution_count": 2,
   "metadata": {},
   "outputs": [],
   "source": [
    "def optimize_lgb_clf(X, y, seed, cv, metric, greater_is_better, num_boost_round, early_stopping_rounds, show,**my_scorer):\n",
    "    from sklearn.metrics import roc_auc_score, precision_score, recall_score, f1_score, accuracy_score\n",
    "    from sklearn.metrics import make_scorer\n",
    "    \n",
    "    '''\n",
    "    оптимизирует гиперпараметры lightgbm с ранней остановкой и возможностью задать кастомную метрику качества\n",
    "    \n",
    "    параметры:\n",
    "        1) X -признаки\n",
    "        2) y - таргет\n",
    "        3) seed - генератор случайных чисел\n",
    "        4) cv - схема валидации\n",
    "        5) metric - оптимизируемая метрика\n",
    "        6) greater_is_better - направление улучшения значений метрики\n",
    "        7) num_boost_round - ранняя остановка\n",
    "        8) early_stopping_rounds - ранняя остановка\n",
    "        9) show - показывать процесс оптимизации\n",
    "        10) кастомная метрика (необязательный аргумент)\n",
    "    \n",
    "    возвращает:\n",
    "        1) оптимальное значение метрики\n",
    "        2) оптимальные гиперпараметры    \n",
    "    '''\n",
    "    \n",
    "    \n",
    "        \n",
    "    ###############################################################################################################    \n",
    "    def _fit_grid(X, y, seed, cv, metric, greater_is_better, grid, num_boost_round, early_stopping_rounds, show):\n",
    "        if greater_is_better:   \n",
    "            best_metric = 0\n",
    "        else:\n",
    "            best_metric = np.inf            \n",
    "        for parameters in tqdm_notebook(ParameterGrid(grid)):\n",
    "            estimator = LGBMClassifier(random_state = seed, **params)\n",
    "            metrics = []\n",
    "            try:\n",
    "                for tr_idx, val_idx in cv.split(X):\n",
    "                    data_tr = lgb.Dataset(X[tr_idx], label=y[tr_idx])\n",
    "                    data_val = lgb.Dataset(X[val_idx], label=y[val_idx])\n",
    "                    estimator.train(parameters,\n",
    "                                    data_tr,\n",
    "                                    valid_sets=data_val,\n",
    "                                    num_boost_round=num_boost_round,\n",
    "                                    early_stopping_rounds=early_stopping_rounds)\n",
    "                    if metric =='roc_auc':\n",
    "                        metrics.append(roc_auc_score(y[val_idx], estimator.predict_proba(data_val)[:, 1]))\n",
    "                    if metric == 'f1':\n",
    "                        metrics.append(f1_score(y[val_idx], estimator.predict(data_val)))\n",
    "                    if metric == 'accuracy':\n",
    "                        metrics.append(accuracy_score(y[val_idx], estimator.predict(data_val)))\n",
    "                    if metric == 'precision':\n",
    "                        metrics.append(precision_score(y[val_idx], estimator.predict(data_val)))\n",
    "                    if metric == 'recall':\n",
    "                        metrics.append(recall_score(y[val_idx], estimator.predict(data_val)))\n",
    "                    if metric == 'custom':\n",
    "                        metrics.append(**my_scorer(y[val_idx], estimator.predict(data_val)))\n",
    "                    if metric == 'custom_prob':\n",
    "                        metrics.append(**my_scorer(y[val_idx], estimator.predict_proba(data_val)[:, 1]))\n",
    "                        \n",
    "                mean_metric = np.mean(metrics)\n",
    "                if greater_is_better:                    \n",
    "                    if mean_metric>best_metric:\n",
    "                        best_metric = mean_metric\n",
    "                        if show:\n",
    "                            print('best score = {}'.format(best_metric))\n",
    "                        best_params = parameters\n",
    "                else:\n",
    "                    if mean_metric<best_metric:\n",
    "                        best_metric = mean_metric\n",
    "                        if show:\n",
    "                            print('best score = {}'.format(best_metric))\n",
    "                        best_params = parameters\n",
    "                    \n",
    "            except:\n",
    "                for tr_idx, val_idx in cv.split(X, y):\n",
    "                    data_tr = lgb.Dataset(X[tr_idx], label=y[tr_idx])\n",
    "                    data_val = lgb.Dataset(X[val_idx], label=y[val_idx])\n",
    "                    estimator.train(parameters,\n",
    "                                    data_tr,\n",
    "                                    valid_sets=data_val,\n",
    "                                    num_boost_round=num_boost_round,\n",
    "                                    early_stopping_rounds=early_stopping_rounds)\n",
    "                    if metric =='roc_auc':\n",
    "                        metrics.append(roc_auc_score(y[val_idx], estimator.predict_proba(data_val)[:, 1]))\n",
    "                    if metric == 'f1':\n",
    "                        metrics.append(f1_score(y[val_idx], estimator.predict(data_val)))\n",
    "                    if metric == 'accuracy':\n",
    "                        metrics.append(accuracy_score(y[val_idx], estimator.predict(data_val)))\n",
    "                    if metric == 'precision':\n",
    "                        metrics.append(precision_score(y[val_idx], estimator.predict(data_val)))\n",
    "                    if metric == 'recall':\n",
    "                        metrics.append(recall_score(y[val_idx], estimator.predict(data_val)))\n",
    "                    if metric == 'custom':\n",
    "                        metrics.append(**my_scorer(y[val_idx], estimator.predict(data_val)))\n",
    "                    if metric == 'custom_prob':\n",
    "                        metrics.append(**my_scorer(y[val_idx], estimator.predict_proba(data_val)[:, 1]))\n",
    "                        \n",
    "                mean_metric = np.mean(metrics)\n",
    "                if greater_is_better:                    \n",
    "                    if mean_metric>best_metric:\n",
    "                        best_metric = mean_metric\n",
    "                        if show:\n",
    "                            print('best score = {}'.format(best_metric))\n",
    "                        best_params = parameters\n",
    "                else:\n",
    "                    if mean_metric<best_metric:\n",
    "                        best_metric = mean_metric\n",
    "                        if show:\n",
    "                            print('best score = {}'.format(best_metric))\n",
    "                        best_params = parameters\n",
    "                        \n",
    "        return (best_metric, best_params)\n",
    "    ##########################################################################################################################\n",
    "    max_depths = np.arange(3, 11).tolist()\n",
    "    num_leaves = [2**i for i in range(1, 10)]\n",
    "    min_child_samples = [20, 50, 100, 500, 1000]\n",
    "    \n",
    "    grid1 = {'max_depth' : max_depths,\\\n",
    "            'num_leaves' : num_leaves,\\\n",
    "            'min_child_samples' : min_child_samples,\\\n",
    "            'n_estimators' : [500], 'learning_rate' :[.05]}\n",
    "    \n",
    "    best_metric, best_params = _fit_grid(X = X, y = y, seed = seed, cv = cv, metric = metric,\\\n",
    "                                         greater_is_better = greater_is_better,\\\n",
    "                                         grid = grid1, num_boost_round = num_boost_round,\\\n",
    "                                         early_stopping_rounds = early_stopping_rounds, show = show) \n",
    "    \n",
    "    grid2 = {'max_depth' : [best_params['max_depth']-1, best_params['max_depth'], best_params['max_depth']+1],\\\n",
    "            'num_leaves' : [best_params['num_leaves']-8, best_params['num_leaves'], best_params['num_leaves']+8],\\\n",
    "            'min_child_samples' : [best_params['min_child_samples']-10, best_params['min_child_samples'],\\\n",
    "                                   best_params['min_child_samples']+10],\\\n",
    "            'n_estimators' : [500], 'learning_rate' :np.linspace(.01, .06, 10),\\\n",
    "            'subsample' : [.5, .7, 1], 'colsample_bytree' : [.5, .7, 1]}\n",
    "    best_metric2, best_params2 = _fit_grid(X = X, y = y, seed = seed, cv = cv, metric = metric,\\\n",
    "                                         greater_is_better = greater_is_better,\\\n",
    "                                         grid = grid2, num_boost_round = num_boost_round,\\\n",
    "                                         early_stopping_rounds = early_stopping_rounds, show = show) \n",
    "    \n",
    "    return (best_metric2, best_params2)\n",
    "    \n",
    "\n",
    "\n",
    "class FeatureSelector():\n",
    "    \n",
    "    '''\n",
    "    класс, реализующий отбор признаков\n",
    "    \n",
    "    гиперпараметры:\n",
    "        1) estimator - модель, с помощью которой осуществляется отбор признаков\n",
    "        2) cv - схема валидации\n",
    "        3) metric - оптимизируемая метрика\n",
    "        4) use_recursion - использовать рекурсию\n",
    "        5) fill_value - значение, которым заполняются np.nan\n",
    "        6) use_value - использовать отбор значений признаков\n",
    "        7) show_progress - печатать прогресс\n",
    "    '''\n",
    "    \n",
    "    def __init__(self, estimator, cv, metric, use_recursion, fill_value, use_value, show_progress):\n",
    "        self.estimator = estimator\n",
    "        self.cv = cv\n",
    "        self.use_recursion = use_recursion\n",
    "        self.metric = metric\n",
    "        self.fill_value = fill_value\n",
    "        self.use_value = use_value\n",
    "        self.show_progress = show_progress\n",
    "        \n",
    "    def fit(self, X, y):\n",
    "        '''\n",
    "        1) считается валидация каждого признака+значений признаков\n",
    "        2) жадным способом добавляются признаки/значения \n",
    "        3) если используется рекурсия, добавляется рекурсивный отбор\n",
    "            \n",
    "        '''\n",
    "        \n",
    "        try:\n",
    "            X[np.isnan(X)] = self.fill_value\n",
    "        except:\n",
    "            pass\n",
    "        \n",
    "        scores = []\n",
    "        for col_idx in tqdm_notebook(range(X.shape[1])):\n",
    "            series = X[:, col_idx]\n",
    "            if self.use_value is None:\n",
    "                scores.append((col_idx, None,\\\n",
    "                               cross_validate(self.estimator, series.reshape(-1,1), y,\\\n",
    "                                              scoring =self.metric, cv = self.cv)['test_score'].mean()))\n",
    "            else:                                \n",
    "                if col_idx in self.use_value:\n",
    "                    unique_values = np.unique(series[~np.isnan(series)])\n",
    "                    for val in tqdm_notebook(unique_values):\n",
    "                        _x = (series == val).astype(int).reshape(-1,1)\n",
    "                        scores.append((col_idx, val, cross_validate(self.estimator, _x,\\\n",
    "                                              y, scoring =self.metric, cv = self.cv)['test_score'].mean()))\n",
    "                else:\n",
    "                    scores.append((col_idx, None,\\\n",
    "                                   cross_validate(self.estimator, series.reshape(-1,1), y,\\\n",
    "                                                  scoring =self.metric, cv = self.cv)['test_score'].mean()))\n",
    "                \n",
    "        order = []\n",
    "        for row in sorted(scores, key=lambda x: x[-1], reverse = True):\n",
    "            order.append((row[0], row[1]))\n",
    "                \n",
    "        D_selected = defaultdict(list)\n",
    "        best_score = .5\n",
    "        best_features = []\n",
    "        to_drop = []\n",
    "        \n",
    "        for element in tqdm_notebook(order):            \n",
    "            column, value = element[0], element[1]\n",
    "\n",
    "            if value is not None:\n",
    "                D_selected[column].append(value)\n",
    "                L = []\n",
    "                for feat, values in D_selected.items():\n",
    "                    L.append(list(map(lambda x: x if x in values else -1, X[:, feat])))\n",
    "                xcurr1 = np.column_stack(L)\n",
    "            else:\n",
    "                current_features = best_features + [column]\n",
    "                xcurr2 = X[:, current_features]\n",
    "            try:\n",
    "                xcurr = csc_matrix(hstack([xcurr1, xcurr2]))\n",
    "            except:\n",
    "                try:\n",
    "                    xcurr = xcurr1\n",
    "                except:\n",
    "                    xcurr = xcurr2\n",
    "                    \n",
    "            current_score = cross_validate(self.estimator, xcurr, y,\\\n",
    "                                           scoring =self.metric, cv = self.cv)['test_score'].mean()\n",
    "            if current_score>best_score:\n",
    "                best_score = current_score\n",
    "                if self.show_progress:\n",
    "                    print('new best score = {}'.format(best_score))\n",
    "                if value is not None:\n",
    "                    pass\n",
    "                else:\n",
    "                    best_features = current_features\n",
    "            else:\n",
    "                if value is not None:\n",
    "                    D_selected[column] = [val for val in D_selected[column] if val != value]\n",
    "                    to_drop.append((column, value))\n",
    "                else:\n",
    "                    to_drop.append((column, value)) \n",
    "                    \n",
    "        if self.use_recursion:\n",
    "            to_drop_before = to_drop\n",
    "            to_drop_after = []\n",
    "            while True:\n",
    "                for element in tqdm_notebook(to_drop_before):            \n",
    "                    column, value = element[0], element[1]\n",
    "                    if value is not None:\n",
    "                        D_selected[column].append(value)\n",
    "                        L = []\n",
    "                        for feat, values in D_selected.items():\n",
    "                            L.append(list(map(lambda x: x if x in values else -1, X[:, feat])))\n",
    "                        xcurr1 = np.column_stack(L)\n",
    "                    else:\n",
    "                        current_features = best_features + [column]\n",
    "                        xcurr2 = X[:, current_features]\n",
    "                    try:\n",
    "                        xcurr = csc_matrix(hstack([xcurr1, xcurr2]))\n",
    "                    except:\n",
    "                        try:\n",
    "                            xcurr = xcurr1\n",
    "                        except:\n",
    "                            xcurr = xcurr2\n",
    "\n",
    "                    current_score = cross_validate(self.estimator, xcurr, y,\\\n",
    "                                                   scoring =self.metric, cv = self.cv)['test_score'].mean()\n",
    "                    if current_score>best_score:\n",
    "                        best_score = current_score\n",
    "                        if self.show_progress:\n",
    "                            print('new best score = {}'.format(best_score))\n",
    "                        if value is not None:\n",
    "                            pass\n",
    "                        else:\n",
    "                            best_features = current_features\n",
    "                    else:\n",
    "                        if value is not None:\n",
    "                            D_selected[column] = [val for val in D_selected[column] if val != value]\n",
    "                            to_drop_after.append((column, value))\n",
    "                        else:\n",
    "                            to_drop_after.append((column, value)) \n",
    "                            \n",
    "                if len(to_drop_after) == len(to_drop_before):\n",
    "                    break\n",
    "                else:\n",
    "                    to_drop_before= to_drop_after\n",
    "                    to_drop_after = []\n",
    "        \n",
    "        self.D_selected = D_selected\n",
    "        self.best_features = best_features\n",
    "        self.best_score = best_score\n",
    "        return self\n",
    "        \n",
    "    def transform(self, X):\n",
    "        '''\n",
    "        в матрице X оставляются отобранные признаки+значения признаков\n",
    "        '''\n",
    "        try:\n",
    "            X[np.isnan(X)] = self.fill_value\n",
    "        except:\n",
    "            pass\n",
    "        if len(self.best_features) !=0:\n",
    "            x1 = X[:, self.best_features]\n",
    "        else:\n",
    "            x1 = None\n",
    "        if len(list(self.D_selected.keys())) !=0:\n",
    "            L=[]\n",
    "            for k, v in self.D_selected.items():\n",
    "                L.append(list(map(lambda x: x if x in v else self.fill_value, X[:, k])))\n",
    "            x2 = np.column_stack(L)\n",
    "        else:\n",
    "            x2 = None\n",
    "            \n",
    "        if (x1 is not None) & (x2 is not None):\n",
    "            _X = csc_matrix(hstack([f1, f2]))\n",
    "        if (x1 is not None) & (x2 is None):\n",
    "            _X = x1\n",
    "        if (x1 is None) & (x2 is not None):\n",
    "            _X = x2\n",
    "        return _X  \n",
    "    \n",
    "    def best_score(self):\n",
    "        return self.best_score"
   ]
  },
  {
   "cell_type": "code",
   "execution_count": 3,
   "metadata": {},
   "outputs": [],
   "source": [
    "times = ['time%d' % i for i in range(1, 11)]\n",
    "sites = ['site%d' % i for i in range(1, 11)]\n",
    "SEED = 13\n",
    "\n",
    "df_tr = pd.read_csv('train_sessions.csv', parse_dates = times).set_index('session_id').sort_values('time1')\n",
    "df_te = pd.read_csv('test_sessions.csv', parse_dates = times).set_index('session_id')\n",
    "y_tr = df_tr['target']"
   ]
  },
  {
   "cell_type": "code",
   "execution_count": 4,
   "metadata": {},
   "outputs": [
    {
     "name": "stdout",
     "output_type": "stream",
     "text": [
      "дата = 201301, появлений Элис = 0\n",
      "дата = 201302, появлений Элис = 61\n",
      "дата = 201303, появлений Элис = 0\n",
      "дата = 201304, появлений Элис = 38\n",
      "дата = 201305, появлений Элис = 0\n",
      "дата = 201306, появлений Элис = 0\n",
      "дата = 201307, появлений Элис = 0\n",
      "дата = 201308, появлений Элис = 0\n",
      "дата = 201309, появлений Элис = 377\n",
      "дата = 201310, появлений Элис = 0\n",
      "дата = 201311, появлений Элис = 446\n",
      "дата = 201312, появлений Элис = 134\n",
      "дата = 201401, появлений Элис = 129\n",
      "дата = 201402, появлений Элис = 410\n",
      "дата = 201403, появлений Элис = 400\n",
      "дата = 201404, появлений Элис = 302\n"
     ]
    },
    {
     "data": {
      "image/png": "[encoded data removed]",
      "text/plain": [
       "<Figure size 432x288 with 1 Axes>"
      ]
     },
     "metadata": {},
     "output_type": "display_data"
    }
   ],
   "source": [
    "df_tr['ym'] = df_tr['time1'].dt.year*100+df_tr['time1'].dt.month\n",
    "target_by_ym = df_tr.groupby('ym')['target'].sum()\n",
    "for _ym, _total_alice in target_by_ym.items():\n",
    "    print('дата = {}, появлений Элис = {}'.format(_ym, _total_alice))\n",
    "    \n",
    "\n",
    "target_by_ym.cumsum().reset_index(drop = True).plot()\n",
    "plt.title('накопленные песещения Элис (год-месяц)')\n",
    "plt.xlabel('индекс(год+месяц)')\n",
    "plt.ylabel('накопленная сумма')\n",
    "plt.axvspan(7, 15, color = 'green', alpha = .1)\n",
    "plt.show()    \n"
   ]
  },
  {
   "cell_type": "markdown",
   "metadata": {},
   "source": [
    "### актуальный период начинается после 201309, когда активность Элис возобновляется"
   ]
  },
  {
   "cell_type": "code",
   "execution_count": 5,
   "metadata": {},
   "outputs": [
    {
     "data": {
      "image/png": "[encoded data removed]",
      "text/plain": [
       "<Figure size 432x288 with 1 Axes>"
      ]
     },
     "metadata": {},
     "output_type": "display_data"
    }
   ],
   "source": [
    "sites_unique_tr = pd.Series(df_tr[sites].values.flatten()).dropna().unique()\n",
    "sites_unique_te = pd.Series(df_te[sites].values.flatten()).dropna().unique()\n",
    "\n",
    "set_sites_tr = set(sites_unique_tr)\n",
    "set_sites_te = set(sites_unique_te)\n",
    "\n",
    "venn2([set_sites_tr, set_sites_te], ('трейн', 'тест'))\n",
    "\n",
    "plt.show()"
   ]
  },
  {
   "cell_type": "markdown",
   "metadata": {},
   "source": [
    "### оставим в трейне сайты, которые посещались Элис+присутствуют в тест части, чтобы не переобучаться на трейн"
   ]
  },
  {
   "cell_type": "code",
   "execution_count": 6,
   "metadata": {},
   "outputs": [],
   "source": [
    "# оставляем в трейне сайты, которые были посещены Элис + присутствуют в тест части\n",
    "sites_to_use = np.intersect1d(pd.Series(df_tr[sites][y_tr==1].values.flatten()).dropna().unique(),\\\n",
    "                              pd.Series(df_te[sites].values.flatten()).dropna().unique())\n",
    "sites_tr = df_tr[sites].applymap(lambda x: x if x in sites_to_use else -1)"
   ]
  },
  {
   "cell_type": "markdown",
   "metadata": {},
   "source": [
    "### дата: день года, неделя года, год, месяц, день, день недели, час(оставим данные из тест части)"
   ]
  },
  {
   "cell_type": "code",
   "execution_count": 7,
   "metadata": {},
   "outputs": [],
   "source": [
    "D_ts = {}\n",
    "for name, _df in zip(('train', 'test'), (df_tr, df_te)):\n",
    "    start = _df[times].min(1).dt.round('H')\n",
    "    \n",
    "    D_ts[name] = pd.concat([start.dt.dayofyear,\n",
    "                            start.dt.weekofyear,\n",
    "                            start.dt.quarter,\n",
    "                            start.dt.year,\n",
    "                            start.dt.month,\n",
    "                            start.dt.day,\n",
    "                            start.dt.dayofweek,\n",
    "                            start.dt.hour], 1)\n",
    "    \n",
    "for col in D_ts['test'].columns:\n",
    "    values_to_use = D_ts['test'][col].dropna().unique()\n",
    "    D_ts['train'][col] = D_ts['train'][col].apply(lambda x:x if x in values_to_use else -1)"
   ]
  },
  {
   "cell_type": "code",
   "execution_count": 8,
   "metadata": {},
   "outputs": [],
   "source": [
    "# модели\n",
    "logit_clf = LogisticRegression(random_state = SEED)\n",
    "lgb_clf = LGBMClassifier(random_state = SEED)\n",
    "\n",
    "# доля отложенной части\n",
    "HOLDOUT_SHARE = .1\n",
    "idx_split = np.int32(np.around(len(y_tr)*(1-HOLDOUT_SHARE)))"
   ]
  },
  {
   "cell_type": "code",
   "execution_count": 9,
   "metadata": {},
   "outputs": [],
   "source": [
    "# время\n",
    "_X_ts_tr = D_ts['train'].values\n",
    "# ohe\n",
    "encoder = OneHotEncoder(handle_unknown='ignore')\n",
    "_X_ts_ohe_tr = encoder.fit_transform(_X_ts_tr)\n",
    "# сайты\n",
    "_X_sites_tr = sites_tr\n",
    "# таргет\n",
    "_y_tr = np.array(y_tr)"
   ]
  },
  {
   "cell_type": "code",
   "execution_count": null,
   "metadata": {},
   "outputs": [
    {
     "name": "stdout",
     "output_type": "stream",
     "text": [
      "nfolds | ngram_range | max_features | lgb cv | logit cv | lgb ho | logit ho\n",
      "---------------------------------------------------------------------------\n",
      "3      | (1, 1)      | 100          | 0.8715 | 0.845968 | 0.9197 | 0.9229\n",
      "3      | (1, 1)      | 1000         | 0.8917 | 0.873580 | 0.9265 | 0.9226\n",
      "3      | (1, 1)      | 10000        | 0.8974 | 0.895382 | 0.9294 | 0.9292\n",
      "3      | (1, 1)      | 100000       | 0.9021 | 0.898661 | 0.9260 | 0.9291\n",
      "3      | (1, 1)      | 500000       | 0.9021 | 0.898661 | 0.9260 | 0.9291\n",
      "3      | (1, 2)      | 100          | 0.8851 | 0.863838 | 0.9164 | 0.9143\n",
      "3      | (1, 2)      | 1000         | 0.8964 | 0.870675 | 0.9245 | 0.9222\n",
      "3      | (1, 2)      | 10000        | 0.8953 | 0.893099 | 0.9279 | 0.9288\n",
      "3      | (1, 2)      | 100000       | 0.9011 | 0.899790 | 0.9271 | 0.9329\n",
      "3      | (1, 2)      | 500000       | 0.9042 | 0.902313 | 0.9302 | 0.9344\n",
      "3      | (1, 3)      | 100          | 0.8809 | 0.863408 | 0.9252 | 0.9190\n",
      "3      | (1, 3)      | 1000         | 0.8987 | 0.869784 | 0.9227 | 0.9212\n",
      "3      | (1, 3)      | 10000        | 0.8971 | 0.884975 | 0.9262 | 0.9270\n",
      "3      | (1, 3)      | 100000       | 0.8959 | 0.895117 | 0.9262 | 0.9293\n",
      "3      | (1, 3)      | 500000       | 0.9018 | 0.897627 | 0.9221 | 0.9313\n",
      "3      | (1, 4)      | 100          | 0.8813 | 0.862427 | 0.9263 | 0.9198\n",
      "3      | (1, 4)      | 1000         | 0.8988 | 0.869714 | 0.9192 | 0.9226\n",
      "3      | (1, 4)      | 10000        | 0.8976 | 0.878420 | 0.9251 | 0.9274\n",
      "3      | (1, 4)      | 100000       | 0.8946 | 0.891347 | 0.9212 | 0.9279\n",
      "3      | (1, 4)      | 500000       | 0.8951 | 0.892670 | 0.9273 | 0.9295\n",
      "3      | (1, 5)      | 100          | 0.8813 | 0.862536 | 0.9246 | 0.9195\n",
      "3      | (1, 5)      | 1000         | 0.8980 | 0.868698 | 0.9220 | 0.9215\n",
      "3      | (1, 5)      | 10000        | 0.8999 | 0.877161 | 0.9204 | 0.9284\n",
      "3      | (1, 5)      | 100000       | 0.8935 | 0.889150 | 0.9210 | 0.9270\n",
      "3      | (1, 5)      | 500000       | 0.8932 | 0.890492 | 0.9199 | 0.9284\n",
      "5      | (1, 1)      | 100          | 0.8545 | 0.834928 | 0.9197 | 0.9229\n",
      "5      | (1, 1)      | 1000         | 0.8727 | 0.866533 | 0.9265 | 0.9226\n",
      "5      | (1, 1)      | 10000        | 0.8810 | 0.885975 | 0.9294 | 0.9292\n",
      "5      | (1, 1)      | 100000       | 0.8848 | 0.890849 | 0.9260 | 0.9291\n",
      "5      | (1, 1)      | 500000       | 0.8848 | 0.890849 | 0.9260 | 0.9291\n",
      "5      | (1, 2)      | 100          | 0.8640 | 0.852357 | 0.9164 | 0.9143\n",
      "5      | (1, 2)      | 1000         | 0.8805 | 0.864291 | 0.9245 | 0.9222\n",
      "5      | (1, 2)      | 10000        | 0.8810 | 0.883707 | 0.9279 | 0.9288\n",
      "5      | (1, 2)      | 100000       | 0.8836 | 0.889718 | 0.9271 | 0.9329\n",
      "5      | (1, 2)      | 500000       | 0.8887 | 0.893559 | 0.9302 | 0.9344\n",
      "5      | (1, 3)      | 100          | 0.8583 | 0.849301 | 0.9252 | 0.9190\n",
      "5      | (1, 3)      | 1000         | 0.8787 | 0.862541 | 0.9227 | 0.9212\n",
      "5      | (1, 3)      | 10000        | 0.8803 | 0.874765 | 0.9262 | 0.9270\n",
      "5      | (1, 3)      | 100000       | 0.8779 | 0.885311 | 0.9262 | 0.9293\n",
      "5      | (1, 3)      | 500000       | 0.8849 | 0.889380 | 0.9221 | 0.9313\n",
      "5      | (1, 4)      | 100          | 0.8601 | 0.847958 | 0.9263 | 0.9198\n",
      "5      | (1, 4)      | 1000         | 0.8790 | 0.861003 | 0.9192 | 0.9226\n",
      "5      | (1, 4)      | 10000        | 0.8820 | 0.869462 | 0.9251 | 0.9274\n",
      "5      | (1, 4)      | 100000       | 0.8779 | 0.881465 | 0.9212 | 0.9279\n",
      "5      | (1, 4)      | 500000       | 0.8779 | 0.883046 | 0.9273 | 0.9295\n",
      "5      | (1, 5)      | 100          | 0.8598 | 0.848038 | 0.9246 | 0.9195\n",
      "5      | (1, 5)      | 1000         | 0.8828 | 0.859937 | 0.9220 | 0.9215\n",
      "5      | (1, 5)      | 10000        | 0.8810 | 0.867853 | 0.9204 | 0.9284\n",
      "5      | (1, 5)      | 100000       | 0.8751 | 0.879082 | 0.9210 | 0.9270\n",
      "5      | (1, 5)      | 500000       | 0.8780 | 0.880795 | 0.9199 | 0.9284\n",
      "7      | (1, 1)      | 100          | 0.8631 | 0.841122 | 0.9197 | 0.9229\n",
      "7      | (1, 1)      | 1000         | 0.8872 | 0.875366 | 0.9265 | 0.9226\n",
      "7      | (1, 1)      | 10000        | 0.8959 | 0.894127 | 0.9294 | 0.9292\n",
      "7      | (1, 1)      | 100000       | 0.8985 | 0.897427 | 0.9260 | 0.9291\n",
      "7      | (1, 1)      | 500000       | 0.8985 | 0.897427 | 0.9260 | 0.9291\n",
      "7      | (1, 2)      | 100          | 0.8727 | 0.858899 | 0.9164 | 0.9143\n",
      "7      | (1, 2)      | 1000         | 0.8912 | 0.872308 | 0.9245 | 0.9222\n",
      "7      | (1, 2)      | 10000        | 0.8931 | 0.892263 | 0.9279 | 0.9288\n",
      "7      | (1, 2)      | 100000       | 0.8973 | 0.899167 | 0.9271 | 0.9329\n",
      "7      | (1, 2)      | 500000       | 0.9007 | 0.901525 | 0.9302 | 0.9344\n",
      "7      | (1, 3)      | 100          | 0.8676 | 0.857650 | 0.9252 | 0.9190\n",
      "7      | (1, 3)      | 1000         | 0.8914 | 0.870189 | 0.9227 | 0.9212\n",
      "7      | (1, 3)      | 10000        | 0.8889 | 0.884172 | 0.9262 | 0.9270\n",
      "7      | (1, 3)      | 100000       | 0.8925 | 0.894183 | 0.9262 | 0.9293\n",
      "7      | (1, 3)      | 500000       | 0.8949 | 0.897035 | 0.9221 | 0.9313\n",
      "7      | (1, 4)      | 100          | 0.8679 | 0.856685 | 0.9263 | 0.9198\n",
      "7      | (1, 4)      | 1000         | 0.8934 | 0.869808 | 0.9192 | 0.9226\n",
      "7      | (1, 4)      | 10000        | 0.8898 | 0.878632 | 0.9251 | 0.9274\n",
      "7      | (1, 4)      | 100000       | 0.8893 | 0.890532 | 0.9212 | 0.9279\n",
      "7      | (1, 4)      | 500000       | 0.8924 | 0.892048 | 0.9273 | 0.9295\n",
      "7      | (1, 5)      | 100          | 0.8676 | 0.857013 | 0.9246 | 0.9195\n",
      "7      | (1, 5)      | 1000         | 0.8926 | 0.868795 | 0.9220 | 0.9215\n",
      "7      | (1, 5)      | 10000        | 0.8909 | 0.877140 | 0.9204 | 0.9284\n",
      "7      | (1, 5)      | 100000       | 0.8889 | 0.888157 | 0.9210 | 0.9270\n"
     ]
    }
   ],
   "source": [
    "print('{} | {} | {} | {:<6} | {:<6} | {:<6} | {:<6}'.format('nfolds', 'ngram_range',\\\n",
    "                                                            'max_features', 'lgb cv', 'logit cv', 'lgb ho', 'logit ho'))\n",
    "print('---------------------------------------------------------------------------')\n",
    "\n",
    "maxfeatures_range = (1e2, 1e3, 1e4, 1e5, 5e5)\n",
    "ngram_range_range = ((1, 1), (1, 2), (1, 3), (1, 4), (1, 5))\n",
    "cv_sites = []\n",
    "for nfolds in [3, 5, 7, 9]:\n",
    "    TSCV = TimeSeriesSplit(nfolds)\n",
    "    for _ngram_range in ngram_range_range:    \n",
    "        for i, _max_features in enumerate(maxfeatures_range):\n",
    "            vec = TfidfVectorizer(ngram_range = _ngram_range, max_features = np.int32(_max_features))\n",
    "            tfidf_full = vec.fit_transform(pd.concat([sites_tr, df_te[sites]], 0)\\\n",
    "                                           .astype(str).apply(lambda x: '_'.join(x), axis = 1))\n",
    "            tfidf_tr = tfidf_full[:len(y_tr)]\n",
    "            cv_lgb = cross_validate(lgb_clf, tfidf_tr[:idx_split], _y_tr[:idx_split],\\\n",
    "                                            scoring = 'roc_auc', cv = TSCV)['test_score'].mean()\n",
    "            lgb_clf.fit(tfidf_tr[:idx_split], _y_tr[:idx_split])\n",
    "            lgb_holdout = roc_auc_score(_y_tr[idx_split:], lgb_clf.predict_proba(tfidf_tr[idx_split:])[:, 1])\n",
    "            \n",
    "            cv_logit = cross_validate(logit_clf, tfidf_tr[:idx_split], _y_tr[:idx_split],\\\n",
    "                                            scoring = 'roc_auc', cv = TSCV)['test_score'].mean()\n",
    "            logit_clf.fit(tfidf_tr[:idx_split], _y_tr[:idx_split])\n",
    "            logit_holdout = roc_auc_score(_y_tr[idx_split:], logit_clf.predict_proba(tfidf_tr[idx_split:])[:, 1])\n",
    "            \n",
    "            cv_sites.append((nfolds, _ngram_range, _max_features,cv_lgb,cv_logit))\n",
    "            \n",
    "            \n",
    "            \n",
    "            print('{:<6} | {:<11} | {:<12} | {:.4f} | {:.6f} | {:.4f} | {:.4f}'.format(nfolds, str(_ngram_range),\\\n",
    "                                                                     np.int32(_max_features),\\\n",
    "                                                                     cv_lgb, cv_logit,\\\n",
    "                                                                     lgb_holdout, logit_holdout))"
   ]
  },
  {
   "cell_type": "markdown",
   "metadata": {},
   "source": [
    "### отберем признаки для разного числа фолдов (3-10) и разных моделей (logit, lgb). каждые признаки засабмитим и проверим лидерборд\n",
    "* TfidfVectorizer(ngram_range = (1, 2), max_features = 500000)"
   ]
  },
  {
   "cell_type": "code",
   "execution_count": null,
   "metadata": {},
   "outputs": [],
   "source": [
    "# tfidf\n",
    "vec = TfidfVectorizer(ngram_range = (1, 2), max_features = 500000)\n",
    "nfolds_range = np.arange(3, 11)"
   ]
  },
  {
   "cell_type": "code",
   "execution_count": null,
   "metadata": {},
   "outputs": [],
   "source": [
    "\n",
    "for nfolds in tqdm_notebook(nfolds_range):\n",
    "    \n",
    "    # валидация\n",
    "    TSCV = TimeSeriesSplit(nfolds)    \n",
    "    \n",
    "    # трансформируем сайты\n",
    "    tfidf_full = vec.fit_transform(pd.concat([sites_tr, df_te[sites]], 0)\\\n",
    "                                           .astype(str).apply(lambda x: '_'.join(x), axis = 1))\n",
    "    tfidf_tr = tfidf_full[:len(y_tr)]\n",
    "    \n",
    "    # признаки\n",
    "    _logit_X_tr = csc_matrix(hstack([_X_ts_ohe_tr, tfidf_tr]))\n",
    "    _lgb_X_tr = csc_matrix(hstack([_X_ts_tr, tfidf_tr]))\n",
    "    \n",
    "    # отбираем признаки logit\n",
    "    logit_selector = FeatureSelector(estimator = logit_clf, cv = TSCV,\\\n",
    "                                     metric = 'roc_auc', use_recursion = True,\\\n",
    "                                     fill_value = -1, use_value = None,\\\n",
    "                                     show_progress = True)\n",
    "    logit_selector.fit(_logit_X_tr[:idx_split], _y_tr[:idx_split])\n",
    "    X_selected_logit = logit_selector.transform(_logit_X_tr)\n",
    "    with open(f'logit_selector_{nfolds}.pickle', 'wb') as f:\n",
    "        pickle.dump(X_selected_logit, f)\n",
    "        \n",
    "    # отбираем признаки lgb\n",
    "    lgb_selector = FeatureSelector(estimator = lgb_clf, cv = TSCV,\\\n",
    "                                     metric = 'roc_auc', use_recursion = True,\\\n",
    "                                     fill_value = -1, use_value = np.arange(_X_ts_tr.shape[1]).tolist(),\\\n",
    "                                     show_progress = True)\n",
    "    lgb_selector.fit(_lgb_X_tr[:idx_split], _y_tr[:idx_split])\n",
    "    X_selected_lgb = lgb_selector.transform(_lgb_X_tr)\n",
    "    with open(f'lgb_selector_{nfolds}.pickle', 'wb') as f:\n",
    "        pickle.dump(X_selected_lgb, f)"
   ]
  },
  {
   "cell_type": "code",
   "execution_count": null,
   "metadata": {},
   "outputs": [],
   "source": [
    "# валидация\n",
    "TSCV = TimeSeriesSplit(3)    \n",
    "    \n",
    "# трансформируем сайты\n",
    "tfidf_full = vec.fit_transform(pd.concat([sites_tr, df_te[sites]], 0)\\\n",
    "                                 .astype(str).apply(lambda x: '_'.join(x), axis = 1))\n",
    "tfidf_tr = tfidf_full[:len(y_tr)]\n",
    "    \n",
    "# признаки\n",
    "_logit_X_tr = csc_matrix(hstack([_X_ts_ohe_tr, tfidf_tr]))\n",
    "_lgb_X_tr = csc_matrix(hstack([_X_ts_tr, tfidf_tr]))\n",
    "    \n",
    "# отбираем признаки logit\n",
    "logit_selector = FeatureSelector(estimator = logit_clf, cv = TSCV,\\\n",
    "                                 metric = 'roc_auc', use_recursion = True,\\\n",
    "                                 fill_value = -1, use_value = None,\\\n",
    "                                 show_progress = True)\n",
    "logit_selector.fit(_logit_X_tr[:idx_split], _y_tr[:idx_split])\n",
    "X_selected_logit = logit_selector.transform(_logit_X_tr)\n",
    "with open('logit_selector_3.pickle', 'wb') as f:\n",
    "    pickle.dump(X_selected_logit, f)\n",
    "        \n",
    "# отбираем признаки lgb\n",
    "lgb_selector = FeatureSelector(estimator = lgb_clf, cv = TSCV,\\\n",
    "                               metric = 'roc_auc', use_recursion = True,\\\n",
    "                               fill_value = -1, use_value = np.arange(_X_ts_tr.shape[1]).tolist(),\\\n",
    "                               show_progress = True)\n",
    "lgb_selector.fit(_lgb_X_tr[:idx_split], _y_tr[:idx_split])\n",
    "X_selected_lgb = lgb_selector.transform(_lgb_X_tr)\n",
    "with open('lgb_selector_3.pickle', 'wb') as f:\n",
    "    pickle.dump(X_selected_lgb, f)"
   ]
  },
  {
   "cell_type": "code",
   "execution_count": null,
   "metadata": {},
   "outputs": [],
   "source": [
    "# best_metric, best_params = optimize_lgb_clf(X_selected_logit, y_tr, seed=SEED, TimeSeriesSplit(3),\\\n",
    "#                                             metric = 'roc_auc', greater_is_better=True,\\\n",
    "#                                             num_boost_round=5000, early_stopping_rounds=100, show = True)"
   ]
  },
  {
   "cell_type": "code",
   "execution_count": null,
   "metadata": {},
   "outputs": [],
   "source": []
  },
  {
   "cell_type": "code",
   "execution_count": null,
   "metadata": {},
   "outputs": [],
   "source": []
  },
  {
   "cell_type": "code",
   "execution_count": null,
   "metadata": {},
   "outputs": [],
   "source": []
  },
  {
   "cell_type": "code",
   "execution_count": null,
   "metadata": {},
   "outputs": [],
   "source": []
  },
  {
   "cell_type": "code",
   "execution_count": null,
   "metadata": {},
   "outputs": [],
   "source": []
  },
  {
   "cell_type": "code",
   "execution_count": null,
   "metadata": {},
   "outputs": [],
   "source": []
  },
  {
   "cell_type": "code",
   "execution_count": null,
   "metadata": {},
   "outputs": [],
   "source": []
  },
  {
   "cell_type": "code",
   "execution_count": null,
   "metadata": {},
   "outputs": [],
   "source": []
  },
  {
   "cell_type": "code",
   "execution_count": 11,
   "metadata": {},
   "outputs": [
    {
     "name": "stdout",
     "output_type": "stream",
     "text": [
      "auc(ohe время+logit) = 0.7810258812336244\n",
      "auc(сайты+logit) = 0.8899046564476084\n",
      "auc(время+lgb) = 0.867195056363296\n",
      "auc(сайты+lgb) = 0.8918548648204275\n"
     ]
    }
   ],
   "source": [
    "for nfolds in range(3, 11):\n",
    "    TSCV = TimeSeriesSplit(nfolds)\n",
    "    logit_cv1 = cross_validate(logit_clf, _X_ts_ohe_tr[:idx_split], _y_tr[:idx_split],\\\n",
    "                               scoring ='roc_auc', cv = TSCV, return_estimator = True) \n",
    "    logit_cv2 = cross_validate(logit_clf, _X_sites_tr[:idx_split], _y_tr[:idx_split],\\\n",
    "                               scoring ='roc_auc', cv = TSCV, return_estimator = True)\n",
    "    lgb_cv1 = cross_validate(lgb_clf, _X_ts_tr[:idx_split], _y_tr[:idx_split],\\\n",
    "                             scoring ='roc_auc', cv = TSCV, return_estimator = True)\n",
    "    lgb_cv2 = cross_validate(lgb_clf, _X_sites_tr[:idx_split], _y_tr[:idx_split],\\\n",
    "                             scoring ='roc_auc', cv = TSCV, return_estimator = True)\n",
    "\n",
    "    print('auc(ohe время+logit) = {}'.format(logit_cv1['test_score'].mean()))\n",
    "    print('auc(сайты+logit) = {}'.format(logit_cv2['test_score'].mean()))\n",
    "    print('auc(время+lgb) = {}'.format(lgb_cv1['test_score'].mean()))\n",
    "    print('auc(сайты+lgb) = {}'.format(lgb_cv2['test_score'].mean()))\n",
    "\n",
    "    _X_tr = np.column_stack([_X_ts_tr, _X_sites_tr])\n",
    "\n",
    "    # отбираем признаки даты для бустинга\n",
    "    lgb_selector = FeatureSelector(estimator = lgb_clf, cv = TSCV,\\\n",
    "                                   metric = 'roc_auc', use_recursion = True,\\\n",
    "                                   fill_value = -1, use_value = np.arange(_X_ts_tr.shape[1]).tolist(),\\\n",
    "                                   show_progress = True)\n",
    "    lgb_selector.fit(_X_tr[:idx_split], _y_tr[:idx_split])\n",
    "    print('--------------------------------------------------------------------------------------------')"
   ]
  },
  {
   "cell_type": "code",
   "execution_count": 13,
   "metadata": {},
   "outputs": [],
   "source": []
  },
  {
   "cell_type": "code",
   "execution_count": 13,
   "metadata": {},
   "outputs": [
    {
     "data": {
      "application/vnd.jupyter.widget-view+json": {
       "model_id": "8b65a1db81e54a9c9a438bf5e689456f",
       "version_major": 2,
       "version_minor": 0
      },
      "text/plain": [
       "HBox(children=(FloatProgress(value=0.0, max=18.0), HTML(value='')))"
      ]
     },
     "metadata": {},
     "output_type": "display_data"
    },
    {
     "data": {
      "application/vnd.jupyter.widget-view+json": {
       "model_id": "b120431654fa4a4e88fcaf6514a9a387",
       "version_major": 2,
       "version_minor": 0
      },
      "text/plain": [
       "HBox(children=(FloatProgress(value=0.0, max=2.0), HTML(value='')))"
      ]
     },
     "metadata": {},
     "output_type": "display_data"
    },
    {
     "name": "stdout",
     "output_type": "stream",
     "text": [
      "\n"
     ]
    },
    {
     "data": {
      "application/vnd.jupyter.widget-view+json": {
       "model_id": "af2d67ac304e4a96a2796c2733c4318d",
       "version_major": 2,
       "version_minor": 0
      },
      "text/plain": [
       "HBox(children=(FloatProgress(value=0.0, max=2.0), HTML(value='')))"
      ]
     },
     "metadata": {},
     "output_type": "display_data"
    },
    {
     "name": "stdout",
     "output_type": "stream",
     "text": [
      "\n"
     ]
    },
    {
     "data": {
      "application/vnd.jupyter.widget-view+json": {
       "model_id": "142d59dc3c7c43c0a5bedb6535f8ed7c",
       "version_major": 2,
       "version_minor": 0
      },
      "text/plain": [
       "HBox(children=(FloatProgress(value=0.0, max=4.0), HTML(value='')))"
      ]
     },
     "metadata": {},
     "output_type": "display_data"
    },
    {
     "name": "stdout",
     "output_type": "stream",
     "text": [
      "\n"
     ]
    },
    {
     "data": {
      "application/vnd.jupyter.widget-view+json": {
       "model_id": "3b038422b8ff441e80cf7369f953be60",
       "version_major": 2,
       "version_minor": 0
      },
      "text/plain": [
       "HBox(children=(FloatProgress(value=0.0, max=2.0), HTML(value='')))"
      ]
     },
     "metadata": {},
     "output_type": "display_data"
    },
    {
     "name": "stdout",
     "output_type": "stream",
     "text": [
      "\n"
     ]
    },
    {
     "data": {
      "application/vnd.jupyter.widget-view+json": {
       "model_id": "4d41cffd31ee49dc912221d348d0c4dc",
       "version_major": 2,
       "version_minor": 0
      },
      "text/plain": [
       "HBox(children=(FloatProgress(value=0.0, max=9.0), HTML(value='')))"
      ]
     },
     "metadata": {},
     "output_type": "display_data"
    },
    {
     "name": "stdout",
     "output_type": "stream",
     "text": [
      "\n"
     ]
    },
    {
     "data": {
      "application/vnd.jupyter.widget-view+json": {
       "model_id": "e5d1ae8721e9422793766438059ba188",
       "version_major": 2,
       "version_minor": 0
      },
      "text/plain": [
       "HBox(children=(FloatProgress(value=0.0, max=22.0), HTML(value='')))"
      ]
     },
     "metadata": {},
     "output_type": "display_data"
    },
    {
     "name": "stdout",
     "output_type": "stream",
     "text": [
      "\n"
     ]
    },
    {
     "data": {
      "application/vnd.jupyter.widget-view+json": {
       "model_id": "71f72c78643e458397f12bef39148076",
       "version_major": 2,
       "version_minor": 0
      },
      "text/plain": [
       "HBox(children=(FloatProgress(value=0.0, max=7.0), HTML(value='')))"
      ]
     },
     "metadata": {},
     "output_type": "display_data"
    },
    {
     "name": "stdout",
     "output_type": "stream",
     "text": [
      "\n"
     ]
    },
    {
     "data": {
      "application/vnd.jupyter.widget-view+json": {
       "model_id": "c0f329bdcd124d5397f257a8ef25a0f4",
       "version_major": 2,
       "version_minor": 0
      },
      "text/plain": [
       "HBox(children=(FloatProgress(value=0.0, max=17.0), HTML(value='')))"
      ]
     },
     "metadata": {},
     "output_type": "display_data"
    },
    {
     "name": "stdout",
     "output_type": "stream",
     "text": [
      "\n",
      "\n"
     ]
    },
    {
     "data": {
      "application/vnd.jupyter.widget-view+json": {
       "model_id": "376f08d726f1464a983dff5facd45eb1",
       "version_major": 2,
       "version_minor": 0
      },
      "text/plain": [
       "HBox(children=(FloatProgress(value=0.0, max=75.0), HTML(value='')))"
      ]
     },
     "metadata": {},
     "output_type": "display_data"
    },
    {
     "name": "stdout",
     "output_type": "stream",
     "text": [
      "new best score = 0.7709360662801656\n",
      "new best score = 0.8311386163705166\n",
      "new best score = 0.8572793468603981\n",
      "new best score = 0.8628700751593019\n",
      "new best score = 0.8711996876394895\n",
      "new best score = 0.8797622898364658\n",
      "new best score = 0.8820876344872131\n",
      "new best score = 0.8845040204795622\n",
      "new best score = 0.8908939550911241\n",
      "new best score = 0.8930154585314822\n",
      "\n"
     ]
    },
    {
     "data": {
      "application/vnd.jupyter.widget-view+json": {
       "model_id": "7dac4a159e644bb7a9f006265d8d4121",
       "version_major": 2,
       "version_minor": 0
      },
      "text/plain": [
       "HBox(children=(FloatProgress(value=0.0, max=65.0), HTML(value='')))"
      ]
     },
     "metadata": {},
     "output_type": "display_data"
    },
    {
     "name": "stderr",
     "output_type": "stream",
     "text": [
      "ERROR:root:Internal Python error in the inspect module.\n",
      "Below is the traceback from this internal error.\n",
      "\n"
     ]
    },
    {
     "name": "stdout",
     "output_type": "stream",
     "text": [
      "\n",
      "Traceback (most recent call last):\n",
      "  File \"C:\\Users\\Sergey\\anaconda3\\lib\\site-packages\\IPython\\core\\interactiveshell.py\", line 3343, in run_code\n",
      "    exec(code_obj, self.user_global_ns, self.user_ns)\n",
      "  File \"<ipython-input-14-01efd8f011c6>\", line 6, in <module>\n",
      "    lgb_selector.fit(_X_tr[:idx_split], _y_tr[:idx_split])\n",
      "  File \"<ipython-input-2-6988ce90faf1>\", line 268, in fit\n",
      "    current_score = cross_validate(self.estimator, xcurr, y,\\\n",
      "  File \"C:\\Users\\Sergey\\anaconda3\\lib\\site-packages\\sklearn\\utils\\validation.py\", line 73, in inner_f\n",
      "    return f(**kwargs)\n",
      "  File \"C:\\Users\\Sergey\\anaconda3\\lib\\site-packages\\sklearn\\model_selection\\_validation.py\", line 242, in cross_validate\n",
      "    scores = parallel(\n"
     ]
    },
    {
     "name": "stderr",
     "output_type": "stream",
     "text": [
      "ERROR:root:Internal Python error in the inspect module.\n",
      "Below is the traceback from this internal error.\n",
      "\n"
     ]
    },
    {
     "name": "stdout",
     "output_type": "stream",
     "text": [
      "  File \"C:\\Users\\Sergey\\anaconda3\\lib\\site-packages\\joblib\\parallel.py\", line 1032, in __call__\n",
      "    while self.dispatch_one_batch(iterator):\n",
      "  File \"C:\\Users\\Sergey\\anaconda3\\lib\\site-packages\\joblib\\parallel.py\", line 847, in dispatch_one_batch\n",
      "    self._dispatch(tasks)\n",
      "  File \"C:\\Users\\Sergey\\anaconda3\\lib\\site-packages\\joblib\\parallel.py\", line 765, in _dispatch\n",
      "    job = self._backend.apply_async(batch, callback=cb)\n",
      "  File \"C:\\Users\\Sergey\\anaconda3\\lib\\site-packages\\joblib\\_parallel_backends.py\", line 208, in apply_async\n",
      "    result = ImmediateResult(func)\n",
      "  File \"C:\\Users\\Sergey\\anaconda3\\lib\\site-packages\\joblib\\_parallel_backends.py\", line 572, in __init__\n",
      "    self.results = batch()\n",
      "  File \"C:\\Users\\Sergey\\anaconda3\\lib\\site-packages\\joblib\\parallel.py\", line 252, in __call__\n",
      "    return [func(*args, **kwargs)\n",
      "  File \"C:\\Users\\Sergey\\anaconda3\\lib\\site-packages\\joblib\\parallel.py\", line 252, in <listcomp>\n",
      "    return [func(*args, **kwargs)\n",
      "  File \"C:\\Users\\Sergey\\anaconda3\\lib\\site-packages\\sklearn\\model_selection\\_validation.py\", line 531, in _fit_and_score\n",
      "    estimator.fit(X_train, y_train, **fit_params)\n",
      "  File \"C:\\Users\\Sergey\\anaconda3\\lib\\site-packages\\lightgbm\\sklearn.py\", line 828, in fit\n",
      "    super(LGBMClassifier, self).fit(X, _y, sample_weight=sample_weight,\n",
      "  File \"C:\\Users\\Sergey\\anaconda3\\lib\\site-packages\\lightgbm\\sklearn.py\", line 595, in fit\n",
      "    self._Booster = train(params, train_set,\n",
      "  File \"C:\\Users\\Sergey\\anaconda3\\lib\\site-packages\\lightgbm\\engine.py\", line 252, in train\n",
      "    booster.update(fobj=fobj)\n",
      "  File \"C:\\Users\\Sergey\\anaconda3\\lib\\site-packages\\lightgbm\\basic.py\", line 2370, in update\n",
      "    _safe_call(_LIB.LGBM_BoosterUpdateOneIter(\n",
      "KeyboardInterrupt\n",
      "\n",
      "During handling of the above exception, another exception occurred:\n",
      "\n",
      "Traceback (most recent call last):\n",
      "  File \"C:\\Users\\Sergey\\anaconda3\\lib\\site-packages\\IPython\\core\\interactiveshell.py\", line 2044, in showtraceback\n",
      "    stb = value._render_traceback_()\n",
      "AttributeError: 'KeyboardInterrupt' object has no attribute '_render_traceback_'\n",
      "\n",
      "During handling of the above exception, another exception occurred:\n",
      "\n",
      "Traceback (most recent call last):\n",
      "  File \"C:\\Users\\Sergey\\anaconda3\\lib\\site-packages\\IPython\\core\\ultratb.py\", line 1169, in get_records\n",
      "    return _fixed_getinnerframes(etb, number_of_lines_of_context, tb_offset)\n",
      "  File \"C:\\Users\\Sergey\\anaconda3\\lib\\site-packages\\IPython\\core\\ultratb.py\", line 316, in wrapped\n",
      "    return f(*args, **kwargs)\n",
      "  File \"C:\\Users\\Sergey\\anaconda3\\lib\\site-packages\\IPython\\core\\ultratb.py\", line 350, in _fixed_getinnerframes\n",
      "    records = fix_frame_records_filenames(inspect.getinnerframes(etb, context))\n",
      "  File \"C:\\Users\\Sergey\\anaconda3\\lib\\inspect.py\", line 1503, in getinnerframes\n",
      "    frameinfo = (tb.tb_frame,) + getframeinfo(tb, context)\n",
      "  File \"C:\\Users\\Sergey\\anaconda3\\lib\\inspect.py\", line 1461, in getframeinfo\n",
      "    filename = getsourcefile(frame) or getfile(frame)\n",
      "  File \"C:\\Users\\Sergey\\anaconda3\\lib\\inspect.py\", line 708, in getsourcefile\n",
      "    if getattr(getmodule(object, filename), '__loader__', None) is not None:\n",
      "  File \"C:\\Users\\Sergey\\anaconda3\\lib\\inspect.py\", line 751, in getmodule\n",
      "    f = getabsfile(module)\n",
      "  File \"C:\\Users\\Sergey\\anaconda3\\lib\\inspect.py\", line 720, in getabsfile\n",
      "    _filename = getsourcefile(object) or getfile(object)\n",
      "  File \"C:\\Users\\Sergey\\anaconda3\\lib\\inspect.py\", line 705, in getsourcefile\n",
      "    if os.path.exists(filename):\n",
      "  File \"C:\\Users\\Sergey\\anaconda3\\lib\\genericpath.py\", line 19, in exists\n",
      "    os.stat(path)\n",
      "KeyboardInterrupt\n",
      "Traceback (most recent call last):\n",
      "  File \"C:\\Users\\Sergey\\anaconda3\\lib\\site-packages\\IPython\\core\\interactiveshell.py\", line 3343, in run_code\n",
      "    exec(code_obj, self.user_global_ns, self.user_ns)\n",
      "  File \"<ipython-input-14-01efd8f011c6>\", line 6, in <module>\n",
      "    lgb_selector.fit(_X_tr[:idx_split], _y_tr[:idx_split])\n",
      "  File \"<ipython-input-2-6988ce90faf1>\", line 268, in fit\n",
      "    current_score = cross_validate(self.estimator, xcurr, y,\\\n",
      "  File \"C:\\Users\\Sergey\\anaconda3\\lib\\site-packages\\sklearn\\utils\\validation.py\", line 73, in inner_f\n",
      "    return f(**kwargs)\n",
      "  File \"C:\\Users\\Sergey\\anaconda3\\lib\\site-packages\\sklearn\\model_selection\\_validation.py\", line 242, in cross_validate\n",
      "    scores = parallel(\n",
      "  File \"C:\\Users\\Sergey\\anaconda3\\lib\\site-packages\\joblib\\parallel.py\", line 1032, in __call__\n",
      "    while self.dispatch_one_batch(iterator):\n",
      "  File \"C:\\Users\\Sergey\\anaconda3\\lib\\site-packages\\joblib\\parallel.py\", line 847, in dispatch_one_batch\n",
      "    self._dispatch(tasks)\n",
      "  File \"C:\\Users\\Sergey\\anaconda3\\lib\\site-packages\\joblib\\parallel.py\", line 765, in _dispatch\n",
      "    job = self._backend.apply_async(batch, callback=cb)\n",
      "  File \"C:\\Users\\Sergey\\anaconda3\\lib\\site-packages\\joblib\\_parallel_backends.py\", line 208, in apply_async\n",
      "    result = ImmediateResult(func)\n",
      "  File \"C:\\Users\\Sergey\\anaconda3\\lib\\site-packages\\joblib\\_parallel_backends.py\", line 572, in __init__\n",
      "    self.results = batch()\n",
      "  File \"C:\\Users\\Sergey\\anaconda3\\lib\\site-packages\\joblib\\parallel.py\", line 252, in __call__\n",
      "    return [func(*args, **kwargs)\n",
      "  File \"C:\\Users\\Sergey\\anaconda3\\lib\\site-packages\\joblib\\parallel.py\", line 252, in <listcomp>\n",
      "    return [func(*args, **kwargs)\n",
      "  File \"C:\\Users\\Sergey\\anaconda3\\lib\\site-packages\\sklearn\\model_selection\\_validation.py\", line 531, in _fit_and_score\n",
      "    estimator.fit(X_train, y_train, **fit_params)\n",
      "  File \"C:\\Users\\Sergey\\anaconda3\\lib\\site-packages\\lightgbm\\sklearn.py\", line 828, in fit\n",
      "    super(LGBMClassifier, self).fit(X, _y, sample_weight=sample_weight,\n",
      "  File \"C:\\Users\\Sergey\\anaconda3\\lib\\site-packages\\lightgbm\\sklearn.py\", line 595, in fit\n",
      "    self._Booster = train(params, train_set,\n",
      "  File \"C:\\Users\\Sergey\\anaconda3\\lib\\site-packages\\lightgbm\\engine.py\", line 252, in train\n",
      "    booster.update(fobj=fobj)\n",
      "  File \"C:\\Users\\Sergey\\anaconda3\\lib\\site-packages\\lightgbm\\basic.py\", line 2370, in update\n",
      "    _safe_call(_LIB.LGBM_BoosterUpdateOneIter(\n",
      "KeyboardInterrupt\n",
      "\n",
      "During handling of the above exception, another exception occurred:\n",
      "\n",
      "Traceback (most recent call last):\n",
      "  File \"C:\\Users\\Sergey\\anaconda3\\lib\\site-packages\\IPython\\core\\interactiveshell.py\", line 2044, in showtraceback\n",
      "    stb = value._render_traceback_()\n",
      "AttributeError: 'KeyboardInterrupt' object has no attribute '_render_traceback_'\n",
      "\n",
      "During handling of the above exception, another exception occurred:\n",
      "\n",
      "Traceback (most recent call last):\n",
      "  File \"C:\\Users\\Sergey\\anaconda3\\lib\\site-packages\\IPython\\core\\interactiveshell.py\", line 3263, in run_ast_nodes\n",
      "    if (await self.run_code(code, result,  async_=asy)):\n",
      "  File \"C:\\Users\\Sergey\\anaconda3\\lib\\site-packages\\IPython\\core\\interactiveshell.py\", line 3360, in run_code\n",
      "    self.showtraceback(running_compiled_code=True)\n",
      "  File \"C:\\Users\\Sergey\\anaconda3\\lib\\site-packages\\IPython\\core\\interactiveshell.py\", line 2046, in showtraceback\n",
      "    stb = self.InteractiveTB.structured_traceback(etype,\n",
      "  File \"C:\\Users\\Sergey\\anaconda3\\lib\\site-packages\\IPython\\core\\ultratb.py\", line 1435, in structured_traceback\n",
      "    return FormattedTB.structured_traceback(\n",
      "  File \"C:\\Users\\Sergey\\anaconda3\\lib\\site-packages\\IPython\\core\\ultratb.py\", line 1335, in structured_traceback\n",
      "    return VerboseTB.structured_traceback(\n",
      "  File \"C:\\Users\\Sergey\\anaconda3\\lib\\site-packages\\IPython\\core\\ultratb.py\", line 1192, in structured_traceback\n",
      "    formatted_exception = self.format_exception_as_a_whole(etype, evalue, etb, number_of_lines_of_context,\n",
      "  File \"C:\\Users\\Sergey\\anaconda3\\lib\\site-packages\\IPython\\core\\ultratb.py\", line 1150, in format_exception_as_a_whole\n",
      "    last_unique, recursion_repeat = find_recursion(orig_etype, evalue, records)\n",
      "  File \"C:\\Users\\Sergey\\anaconda3\\lib\\site-packages\\IPython\\core\\ultratb.py\", line 451, in find_recursion\n",
      "    return len(records), 0\n",
      "TypeError: object of type 'NoneType' has no len()\n",
      "\n",
      "During handling of the above exception, another exception occurred:\n",
      "\n",
      "Traceback (most recent call last):\n",
      "  File \"C:\\Users\\Sergey\\anaconda3\\lib\\site-packages\\IPython\\core\\interactiveshell.py\", line 2044, in showtraceback\n",
      "    stb = value._render_traceback_()\n",
      "AttributeError: 'TypeError' object has no attribute '_render_traceback_'\n",
      "\n",
      "During handling of the above exception, another exception occurred:\n",
      "\n",
      "Traceback (most recent call last):\n",
      "  File \"C:\\Users\\Sergey\\anaconda3\\lib\\site-packages\\IPython\\core\\ultratb.py\", line 1169, in get_records\n",
      "    return _fixed_getinnerframes(etb, number_of_lines_of_context, tb_offset)\n",
      "  File \"C:\\Users\\Sergey\\anaconda3\\lib\\site-packages\\IPython\\core\\ultratb.py\", line 316, in wrapped\n",
      "    return f(*args, **kwargs)\n",
      "  File \"C:\\Users\\Sergey\\anaconda3\\lib\\site-packages\\IPython\\core\\ultratb.py\", line 350, in _fixed_getinnerframes\n",
      "    records = fix_frame_records_filenames(inspect.getinnerframes(etb, context))\n",
      "  File \"C:\\Users\\Sergey\\anaconda3\\lib\\inspect.py\", line 1503, in getinnerframes\n",
      "    frameinfo = (tb.tb_frame,) + getframeinfo(tb, context)\n",
      "  File \"C:\\Users\\Sergey\\anaconda3\\lib\\inspect.py\", line 1461, in getframeinfo\n",
      "    filename = getsourcefile(frame) or getfile(frame)\n",
      "  File \"C:\\Users\\Sergey\\anaconda3\\lib\\inspect.py\", line 708, in getsourcefile\n",
      "    if getattr(getmodule(object, filename), '__loader__', None) is not None:\n",
      "  File \"C:\\Users\\Sergey\\anaconda3\\lib\\inspect.py\", line 754, in getmodule\n",
      "    os.path.realpath(f)] = module.__name__\n",
      "  File \"C:\\Users\\Sergey\\anaconda3\\lib\\ntpath.py\", line 664, in realpath\n",
      "    if _getfinalpathname(spath) == path:\n",
      "KeyboardInterrupt\n"
     ]
    },
    {
     "ename": "TypeError",
     "evalue": "object of type 'NoneType' has no len()",
     "output_type": "error",
     "traceback": [
      "\u001b[1;31m---------------------------------------------------------------------------\u001b[0m",
      "\u001b[1;31mKeyboardInterrupt\u001b[0m                         Traceback (most recent call last)",
      "    \u001b[1;31m[... skipping hidden 1 frame]\u001b[0m\n",
      "\u001b[1;32m<ipython-input-14-01efd8f011c6>\u001b[0m in \u001b[0;36m<module>\u001b[1;34m\u001b[0m\n\u001b[0;32m      5\u001b[0m                                show_progress = True)\n\u001b[1;32m----> 6\u001b[1;33m \u001b[0mlgb_selector\u001b[0m\u001b[1;33m.\u001b[0m\u001b[0mfit\u001b[0m\u001b[1;33m(\u001b[0m\u001b[0m_X_tr\u001b[0m\u001b[1;33m[\u001b[0m\u001b[1;33m:\u001b[0m\u001b[0midx_split\u001b[0m\u001b[1;33m]\u001b[0m\u001b[1;33m,\u001b[0m \u001b[0m_y_tr\u001b[0m\u001b[1;33m[\u001b[0m\u001b[1;33m:\u001b[0m\u001b[0midx_split\u001b[0m\u001b[1;33m]\u001b[0m\u001b[1;33m)\u001b[0m\u001b[1;33m\u001b[0m\u001b[1;33m\u001b[0m\u001b[0m\n\u001b[0m",
      "\u001b[1;32m<ipython-input-2-6988ce90faf1>\u001b[0m in \u001b[0;36mfit\u001b[1;34m(self, X, y)\u001b[0m\n\u001b[0;32m    267\u001b[0m \u001b[1;33m\u001b[0m\u001b[0m\n\u001b[1;32m--> 268\u001b[1;33m                     current_score = cross_validate(self.estimator, xcurr, y,\\\n\u001b[0m\u001b[0;32m    269\u001b[0m                                                    scoring =self.metric, cv = self.cv)['test_score'].mean()\n",
      "\u001b[1;32m~\\anaconda3\\lib\\site-packages\\sklearn\\utils\\validation.py\u001b[0m in \u001b[0;36minner_f\u001b[1;34m(*args, **kwargs)\u001b[0m\n\u001b[0;32m     72\u001b[0m         \u001b[0mkwargs\u001b[0m\u001b[1;33m.\u001b[0m\u001b[0mupdate\u001b[0m\u001b[1;33m(\u001b[0m\u001b[1;33m{\u001b[0m\u001b[0mk\u001b[0m\u001b[1;33m:\u001b[0m \u001b[0marg\u001b[0m \u001b[1;32mfor\u001b[0m \u001b[0mk\u001b[0m\u001b[1;33m,\u001b[0m \u001b[0marg\u001b[0m \u001b[1;32min\u001b[0m \u001b[0mzip\u001b[0m\u001b[1;33m(\u001b[0m\u001b[0msig\u001b[0m\u001b[1;33m.\u001b[0m\u001b[0mparameters\u001b[0m\u001b[1;33m,\u001b[0m \u001b[0margs\u001b[0m\u001b[1;33m)\u001b[0m\u001b[1;33m}\u001b[0m\u001b[1;33m)\u001b[0m\u001b[1;33m\u001b[0m\u001b[1;33m\u001b[0m\u001b[0m\n\u001b[1;32m---> 73\u001b[1;33m         \u001b[1;32mreturn\u001b[0m \u001b[0mf\u001b[0m\u001b[1;33m(\u001b[0m\u001b[1;33m**\u001b[0m\u001b[0mkwargs\u001b[0m\u001b[1;33m)\u001b[0m\u001b[1;33m\u001b[0m\u001b[1;33m\u001b[0m\u001b[0m\n\u001b[0m\u001b[0;32m     74\u001b[0m     \u001b[1;32mreturn\u001b[0m \u001b[0minner_f\u001b[0m\u001b[1;33m\u001b[0m\u001b[1;33m\u001b[0m\u001b[0m\n",
      "\u001b[1;32m~\\anaconda3\\lib\\site-packages\\sklearn\\model_selection\\_validation.py\u001b[0m in \u001b[0;36mcross_validate\u001b[1;34m(estimator, X, y, groups, scoring, cv, n_jobs, verbose, fit_params, pre_dispatch, return_train_score, return_estimator, error_score)\u001b[0m\n\u001b[0;32m    241\u001b[0m                         pre_dispatch=pre_dispatch)\n\u001b[1;32m--> 242\u001b[1;33m     scores = parallel(\n\u001b[0m\u001b[0;32m    243\u001b[0m         delayed(_fit_and_score)(\n",
      "\u001b[1;32m~\\anaconda3\\lib\\site-packages\\joblib\\parallel.py\u001b[0m in \u001b[0;36m__call__\u001b[1;34m(self, iterable)\u001b[0m\n\u001b[0;32m   1031\u001b[0m \u001b[1;33m\u001b[0m\u001b[0m\n\u001b[1;32m-> 1032\u001b[1;33m             \u001b[1;32mwhile\u001b[0m \u001b[0mself\u001b[0m\u001b[1;33m.\u001b[0m\u001b[0mdispatch_one_batch\u001b[0m\u001b[1;33m(\u001b[0m\u001b[0miterator\u001b[0m\u001b[1;33m)\u001b[0m\u001b[1;33m:\u001b[0m\u001b[1;33m\u001b[0m\u001b[1;33m\u001b[0m\u001b[0m\n\u001b[0m\u001b[0;32m   1033\u001b[0m                 \u001b[1;32mpass\u001b[0m\u001b[1;33m\u001b[0m\u001b[1;33m\u001b[0m\u001b[0m\n",
      "\u001b[1;32m~\\anaconda3\\lib\\site-packages\\joblib\\parallel.py\u001b[0m in \u001b[0;36mdispatch_one_batch\u001b[1;34m(self, iterator)\u001b[0m\n\u001b[0;32m    846\u001b[0m             \u001b[1;32melse\u001b[0m\u001b[1;33m:\u001b[0m\u001b[1;33m\u001b[0m\u001b[1;33m\u001b[0m\u001b[0m\n\u001b[1;32m--> 847\u001b[1;33m                 \u001b[0mself\u001b[0m\u001b[1;33m.\u001b[0m\u001b[0m_dispatch\u001b[0m\u001b[1;33m(\u001b[0m\u001b[0mtasks\u001b[0m\u001b[1;33m)\u001b[0m\u001b[1;33m\u001b[0m\u001b[1;33m\u001b[0m\u001b[0m\n\u001b[0m\u001b[0;32m    848\u001b[0m                 \u001b[1;32mreturn\u001b[0m \u001b[1;32mTrue\u001b[0m\u001b[1;33m\u001b[0m\u001b[1;33m\u001b[0m\u001b[0m\n",
      "\u001b[1;32m~\\anaconda3\\lib\\site-packages\\joblib\\parallel.py\u001b[0m in \u001b[0;36m_dispatch\u001b[1;34m(self, batch)\u001b[0m\n\u001b[0;32m    764\u001b[0m             \u001b[0mjob_idx\u001b[0m \u001b[1;33m=\u001b[0m \u001b[0mlen\u001b[0m\u001b[1;33m(\u001b[0m\u001b[0mself\u001b[0m\u001b[1;33m.\u001b[0m\u001b[0m_jobs\u001b[0m\u001b[1;33m)\u001b[0m\u001b[1;33m\u001b[0m\u001b[1;33m\u001b[0m\u001b[0m\n\u001b[1;32m--> 765\u001b[1;33m             \u001b[0mjob\u001b[0m \u001b[1;33m=\u001b[0m \u001b[0mself\u001b[0m\u001b[1;33m.\u001b[0m\u001b[0m_backend\u001b[0m\u001b[1;33m.\u001b[0m\u001b[0mapply_async\u001b[0m\u001b[1;33m(\u001b[0m\u001b[0mbatch\u001b[0m\u001b[1;33m,\u001b[0m \u001b[0mcallback\u001b[0m\u001b[1;33m=\u001b[0m\u001b[0mcb\u001b[0m\u001b[1;33m)\u001b[0m\u001b[1;33m\u001b[0m\u001b[1;33m\u001b[0m\u001b[0m\n\u001b[0m\u001b[0;32m    766\u001b[0m             \u001b[1;31m# A job can complete so quickly than its callback is\u001b[0m\u001b[1;33m\u001b[0m\u001b[1;33m\u001b[0m\u001b[1;33m\u001b[0m\u001b[0m\n",
      "\u001b[1;32m~\\anaconda3\\lib\\site-packages\\joblib\\_parallel_backends.py\u001b[0m in \u001b[0;36mapply_async\u001b[1;34m(self, func, callback)\u001b[0m\n\u001b[0;32m    207\u001b[0m         \u001b[1;34m\"\"\"Schedule a func to be run\"\"\"\u001b[0m\u001b[1;33m\u001b[0m\u001b[1;33m\u001b[0m\u001b[0m\n\u001b[1;32m--> 208\u001b[1;33m         \u001b[0mresult\u001b[0m \u001b[1;33m=\u001b[0m \u001b[0mImmediateResult\u001b[0m\u001b[1;33m(\u001b[0m\u001b[0mfunc\u001b[0m\u001b[1;33m)\u001b[0m\u001b[1;33m\u001b[0m\u001b[1;33m\u001b[0m\u001b[0m\n\u001b[0m\u001b[0;32m    209\u001b[0m         \u001b[1;32mif\u001b[0m \u001b[0mcallback\u001b[0m\u001b[1;33m:\u001b[0m\u001b[1;33m\u001b[0m\u001b[1;33m\u001b[0m\u001b[0m\n",
      "\u001b[1;32m~\\anaconda3\\lib\\site-packages\\joblib\\_parallel_backends.py\u001b[0m in \u001b[0;36m__init__\u001b[1;34m(self, batch)\u001b[0m\n\u001b[0;32m    571\u001b[0m         \u001b[1;31m# arguments in memory\u001b[0m\u001b[1;33m\u001b[0m\u001b[1;33m\u001b[0m\u001b[1;33m\u001b[0m\u001b[0m\n\u001b[1;32m--> 572\u001b[1;33m         \u001b[0mself\u001b[0m\u001b[1;33m.\u001b[0m\u001b[0mresults\u001b[0m \u001b[1;33m=\u001b[0m \u001b[0mbatch\u001b[0m\u001b[1;33m(\u001b[0m\u001b[1;33m)\u001b[0m\u001b[1;33m\u001b[0m\u001b[1;33m\u001b[0m\u001b[0m\n\u001b[0m\u001b[0;32m    573\u001b[0m \u001b[1;33m\u001b[0m\u001b[0m\n",
      "\u001b[1;32m~\\anaconda3\\lib\\site-packages\\joblib\\parallel.py\u001b[0m in \u001b[0;36m__call__\u001b[1;34m(self)\u001b[0m\n\u001b[0;32m    251\u001b[0m         \u001b[1;32mwith\u001b[0m \u001b[0mparallel_backend\u001b[0m\u001b[1;33m(\u001b[0m\u001b[0mself\u001b[0m\u001b[1;33m.\u001b[0m\u001b[0m_backend\u001b[0m\u001b[1;33m,\u001b[0m \u001b[0mn_jobs\u001b[0m\u001b[1;33m=\u001b[0m\u001b[0mself\u001b[0m\u001b[1;33m.\u001b[0m\u001b[0m_n_jobs\u001b[0m\u001b[1;33m)\u001b[0m\u001b[1;33m:\u001b[0m\u001b[1;33m\u001b[0m\u001b[1;33m\u001b[0m\u001b[0m\n\u001b[1;32m--> 252\u001b[1;33m             return [func(*args, **kwargs)\n\u001b[0m\u001b[0;32m    253\u001b[0m                     for func, args, kwargs in self.items]\n",
      "\u001b[1;32m~\\anaconda3\\lib\\site-packages\\joblib\\parallel.py\u001b[0m in \u001b[0;36m<listcomp>\u001b[1;34m(.0)\u001b[0m\n\u001b[0;32m    251\u001b[0m         \u001b[1;32mwith\u001b[0m \u001b[0mparallel_backend\u001b[0m\u001b[1;33m(\u001b[0m\u001b[0mself\u001b[0m\u001b[1;33m.\u001b[0m\u001b[0m_backend\u001b[0m\u001b[1;33m,\u001b[0m \u001b[0mn_jobs\u001b[0m\u001b[1;33m=\u001b[0m\u001b[0mself\u001b[0m\u001b[1;33m.\u001b[0m\u001b[0m_n_jobs\u001b[0m\u001b[1;33m)\u001b[0m\u001b[1;33m:\u001b[0m\u001b[1;33m\u001b[0m\u001b[1;33m\u001b[0m\u001b[0m\n\u001b[1;32m--> 252\u001b[1;33m             return [func(*args, **kwargs)\n\u001b[0m\u001b[0;32m    253\u001b[0m                     for func, args, kwargs in self.items]\n",
      "\u001b[1;32m~\\anaconda3\\lib\\site-packages\\sklearn\\model_selection\\_validation.py\u001b[0m in \u001b[0;36m_fit_and_score\u001b[1;34m(estimator, X, y, scorer, train, test, verbose, parameters, fit_params, return_train_score, return_parameters, return_n_test_samples, return_times, return_estimator, error_score)\u001b[0m\n\u001b[0;32m    530\u001b[0m         \u001b[1;32melse\u001b[0m\u001b[1;33m:\u001b[0m\u001b[1;33m\u001b[0m\u001b[1;33m\u001b[0m\u001b[0m\n\u001b[1;32m--> 531\u001b[1;33m             \u001b[0mestimator\u001b[0m\u001b[1;33m.\u001b[0m\u001b[0mfit\u001b[0m\u001b[1;33m(\u001b[0m\u001b[0mX_train\u001b[0m\u001b[1;33m,\u001b[0m \u001b[0my_train\u001b[0m\u001b[1;33m,\u001b[0m \u001b[1;33m**\u001b[0m\u001b[0mfit_params\u001b[0m\u001b[1;33m)\u001b[0m\u001b[1;33m\u001b[0m\u001b[1;33m\u001b[0m\u001b[0m\n\u001b[0m\u001b[0;32m    532\u001b[0m \u001b[1;33m\u001b[0m\u001b[0m\n",
      "\u001b[1;32m~\\anaconda3\\lib\\site-packages\\lightgbm\\sklearn.py\u001b[0m in \u001b[0;36mfit\u001b[1;34m(self, X, y, sample_weight, init_score, eval_set, eval_names, eval_sample_weight, eval_class_weight, eval_init_score, eval_metric, early_stopping_rounds, verbose, feature_name, categorical_feature, callbacks, init_model)\u001b[0m\n\u001b[0;32m    827\u001b[0m \u001b[1;33m\u001b[0m\u001b[0m\n\u001b[1;32m--> 828\u001b[1;33m         super(LGBMClassifier, self).fit(X, _y, sample_weight=sample_weight,\n\u001b[0m\u001b[0;32m    829\u001b[0m                                         \u001b[0minit_score\u001b[0m\u001b[1;33m=\u001b[0m\u001b[0minit_score\u001b[0m\u001b[1;33m,\u001b[0m \u001b[0meval_set\u001b[0m\u001b[1;33m=\u001b[0m\u001b[0mvalid_sets\u001b[0m\u001b[1;33m,\u001b[0m\u001b[1;33m\u001b[0m\u001b[1;33m\u001b[0m\u001b[0m\n",
      "\u001b[1;32m~\\anaconda3\\lib\\site-packages\\lightgbm\\sklearn.py\u001b[0m in \u001b[0;36mfit\u001b[1;34m(self, X, y, sample_weight, init_score, group, eval_set, eval_names, eval_sample_weight, eval_class_weight, eval_init_score, eval_group, eval_metric, early_stopping_rounds, verbose, feature_name, categorical_feature, callbacks, init_model)\u001b[0m\n\u001b[0;32m    594\u001b[0m \u001b[1;33m\u001b[0m\u001b[0m\n\u001b[1;32m--> 595\u001b[1;33m         self._Booster = train(params, train_set,\n\u001b[0m\u001b[0;32m    596\u001b[0m                               \u001b[0mself\u001b[0m\u001b[1;33m.\u001b[0m\u001b[0mn_estimators\u001b[0m\u001b[1;33m,\u001b[0m \u001b[0mvalid_sets\u001b[0m\u001b[1;33m=\u001b[0m\u001b[0mvalid_sets\u001b[0m\u001b[1;33m,\u001b[0m \u001b[0mvalid_names\u001b[0m\u001b[1;33m=\u001b[0m\u001b[0meval_names\u001b[0m\u001b[1;33m,\u001b[0m\u001b[1;33m\u001b[0m\u001b[1;33m\u001b[0m\u001b[0m\n",
      "\u001b[1;32m~\\anaconda3\\lib\\site-packages\\lightgbm\\engine.py\u001b[0m in \u001b[0;36mtrain\u001b[1;34m(params, train_set, num_boost_round, valid_sets, valid_names, fobj, feval, init_model, feature_name, categorical_feature, early_stopping_rounds, evals_result, verbose_eval, learning_rates, keep_training_booster, callbacks)\u001b[0m\n\u001b[0;32m    251\u001b[0m \u001b[1;33m\u001b[0m\u001b[0m\n\u001b[1;32m--> 252\u001b[1;33m         \u001b[0mbooster\u001b[0m\u001b[1;33m.\u001b[0m\u001b[0mupdate\u001b[0m\u001b[1;33m(\u001b[0m\u001b[0mfobj\u001b[0m\u001b[1;33m=\u001b[0m\u001b[0mfobj\u001b[0m\u001b[1;33m)\u001b[0m\u001b[1;33m\u001b[0m\u001b[1;33m\u001b[0m\u001b[0m\n\u001b[0m\u001b[0;32m    253\u001b[0m \u001b[1;33m\u001b[0m\u001b[0m\n",
      "\u001b[1;32m~\\anaconda3\\lib\\site-packages\\lightgbm\\basic.py\u001b[0m in \u001b[0;36mupdate\u001b[1;34m(self, train_set, fobj)\u001b[0m\n\u001b[0;32m   2369\u001b[0m                 \u001b[1;32mraise\u001b[0m \u001b[0mLightGBMError\u001b[0m\u001b[1;33m(\u001b[0m\u001b[1;34m'Cannot update due to null objective function.'\u001b[0m\u001b[1;33m)\u001b[0m\u001b[1;33m\u001b[0m\u001b[1;33m\u001b[0m\u001b[0m\n\u001b[1;32m-> 2370\u001b[1;33m             _safe_call(_LIB.LGBM_BoosterUpdateOneIter(\n\u001b[0m\u001b[0;32m   2371\u001b[0m                 \u001b[0mself\u001b[0m\u001b[1;33m.\u001b[0m\u001b[0mhandle\u001b[0m\u001b[1;33m,\u001b[0m\u001b[1;33m\u001b[0m\u001b[1;33m\u001b[0m\u001b[0m\n",
      "\u001b[1;31mKeyboardInterrupt\u001b[0m: ",
      "\nDuring handling of the above exception, another exception occurred:\n",
      "\u001b[1;31mAttributeError\u001b[0m                            Traceback (most recent call last)",
      "\u001b[1;32m~\\anaconda3\\lib\\site-packages\\IPython\\core\\interactiveshell.py\u001b[0m in \u001b[0;36mshowtraceback\u001b[1;34m(self, exc_tuple, filename, tb_offset, exception_only, running_compiled_code)\u001b[0m\n\u001b[0;32m   2043\u001b[0m                         \u001b[1;31m# in the engines. This should return a list of strings.\u001b[0m\u001b[1;33m\u001b[0m\u001b[1;33m\u001b[0m\u001b[1;33m\u001b[0m\u001b[0m\n\u001b[1;32m-> 2044\u001b[1;33m                         \u001b[0mstb\u001b[0m \u001b[1;33m=\u001b[0m \u001b[0mvalue\u001b[0m\u001b[1;33m.\u001b[0m\u001b[0m_render_traceback_\u001b[0m\u001b[1;33m(\u001b[0m\u001b[1;33m)\u001b[0m\u001b[1;33m\u001b[0m\u001b[1;33m\u001b[0m\u001b[0m\n\u001b[0m\u001b[0;32m   2045\u001b[0m                     \u001b[1;32mexcept\u001b[0m \u001b[0mException\u001b[0m\u001b[1;33m:\u001b[0m\u001b[1;33m\u001b[0m\u001b[1;33m\u001b[0m\u001b[0m\n",
      "\u001b[1;31mAttributeError\u001b[0m: 'KeyboardInterrupt' object has no attribute '_render_traceback_'",
      "\nDuring handling of the above exception, another exception occurred:\n",
      "\u001b[1;31mTypeError\u001b[0m                                 Traceback (most recent call last)",
      "\u001b[1;32m~\\anaconda3\\lib\\site-packages\\IPython\\core\\interactiveshell.py\u001b[0m in \u001b[0;36mrun_ast_nodes\u001b[1;34m(self, nodelist, cell_name, interactivity, compiler, result)\u001b[0m\n\u001b[0;32m   3262\u001b[0m                         \u001b[0masy\u001b[0m \u001b[1;33m=\u001b[0m \u001b[0mcompare\u001b[0m\u001b[1;33m(\u001b[0m\u001b[0mcode\u001b[0m\u001b[1;33m)\u001b[0m\u001b[1;33m\u001b[0m\u001b[1;33m\u001b[0m\u001b[0m\n\u001b[1;32m-> 3263\u001b[1;33m                     \u001b[1;32mif\u001b[0m \u001b[1;33m(\u001b[0m\u001b[1;32mawait\u001b[0m \u001b[0mself\u001b[0m\u001b[1;33m.\u001b[0m\u001b[0mrun_code\u001b[0m\u001b[1;33m(\u001b[0m\u001b[0mcode\u001b[0m\u001b[1;33m,\u001b[0m \u001b[0mresult\u001b[0m\u001b[1;33m,\u001b[0m  \u001b[0masync_\u001b[0m\u001b[1;33m=\u001b[0m\u001b[0masy\u001b[0m\u001b[1;33m)\u001b[0m\u001b[1;33m)\u001b[0m\u001b[1;33m:\u001b[0m\u001b[1;33m\u001b[0m\u001b[1;33m\u001b[0m\u001b[0m\n\u001b[0m\u001b[0;32m   3264\u001b[0m                         \u001b[1;32mreturn\u001b[0m \u001b[1;32mTrue\u001b[0m\u001b[1;33m\u001b[0m\u001b[1;33m\u001b[0m\u001b[0m\n",
      "    \u001b[1;31m[... skipping hidden 1 frame]\u001b[0m\n",
      "\u001b[1;32m~\\anaconda3\\lib\\site-packages\\IPython\\core\\interactiveshell.py\u001b[0m in \u001b[0;36mshowtraceback\u001b[1;34m(self, exc_tuple, filename, tb_offset, exception_only, running_compiled_code)\u001b[0m\n\u001b[0;32m   2045\u001b[0m                     \u001b[1;32mexcept\u001b[0m \u001b[0mException\u001b[0m\u001b[1;33m:\u001b[0m\u001b[1;33m\u001b[0m\u001b[1;33m\u001b[0m\u001b[0m\n\u001b[1;32m-> 2046\u001b[1;33m                         stb = self.InteractiveTB.structured_traceback(etype,\n\u001b[0m\u001b[0;32m   2047\u001b[0m                                             value, tb, tb_offset=tb_offset)\n",
      "\u001b[1;32m~\\anaconda3\\lib\\site-packages\\IPython\\core\\ultratb.py\u001b[0m in \u001b[0;36mstructured_traceback\u001b[1;34m(self, etype, value, tb, tb_offset, number_of_lines_of_context)\u001b[0m\n\u001b[0;32m   1434\u001b[0m             \u001b[0mself\u001b[0m\u001b[1;33m.\u001b[0m\u001b[0mtb\u001b[0m \u001b[1;33m=\u001b[0m \u001b[0mtb\u001b[0m\u001b[1;33m\u001b[0m\u001b[1;33m\u001b[0m\u001b[0m\n\u001b[1;32m-> 1435\u001b[1;33m         return FormattedTB.structured_traceback(\n\u001b[0m\u001b[0;32m   1436\u001b[0m             self, etype, value, tb, tb_offset, number_of_lines_of_context)\n",
      "\u001b[1;32m~\\anaconda3\\lib\\site-packages\\IPython\\core\\ultratb.py\u001b[0m in \u001b[0;36mstructured_traceback\u001b[1;34m(self, etype, value, tb, tb_offset, number_of_lines_of_context)\u001b[0m\n\u001b[0;32m   1334\u001b[0m             \u001b[1;31m# Verbose modes need a full traceback\u001b[0m\u001b[1;33m\u001b[0m\u001b[1;33m\u001b[0m\u001b[1;33m\u001b[0m\u001b[0m\n\u001b[1;32m-> 1335\u001b[1;33m             return VerboseTB.structured_traceback(\n\u001b[0m\u001b[0;32m   1336\u001b[0m                 \u001b[0mself\u001b[0m\u001b[1;33m,\u001b[0m \u001b[0metype\u001b[0m\u001b[1;33m,\u001b[0m \u001b[0mvalue\u001b[0m\u001b[1;33m,\u001b[0m \u001b[0mtb\u001b[0m\u001b[1;33m,\u001b[0m \u001b[0mtb_offset\u001b[0m\u001b[1;33m,\u001b[0m \u001b[0mnumber_of_lines_of_context\u001b[0m\u001b[1;33m\u001b[0m\u001b[1;33m\u001b[0m\u001b[0m\n",
      "\u001b[1;32m~\\anaconda3\\lib\\site-packages\\IPython\\core\\ultratb.py\u001b[0m in \u001b[0;36mstructured_traceback\u001b[1;34m(self, etype, evalue, etb, tb_offset, number_of_lines_of_context)\u001b[0m\n\u001b[0;32m   1191\u001b[0m \u001b[1;33m\u001b[0m\u001b[0m\n\u001b[1;32m-> 1192\u001b[1;33m         formatted_exception = self.format_exception_as_a_whole(etype, evalue, etb, number_of_lines_of_context,\n\u001b[0m\u001b[0;32m   1193\u001b[0m                                                                tb_offset)\n",
      "\u001b[1;32m~\\anaconda3\\lib\\site-packages\\IPython\\core\\ultratb.py\u001b[0m in \u001b[0;36mformat_exception_as_a_whole\u001b[1;34m(self, etype, evalue, etb, number_of_lines_of_context, tb_offset)\u001b[0m\n\u001b[0;32m   1149\u001b[0m \u001b[1;33m\u001b[0m\u001b[0m\n\u001b[1;32m-> 1150\u001b[1;33m         \u001b[0mlast_unique\u001b[0m\u001b[1;33m,\u001b[0m \u001b[0mrecursion_repeat\u001b[0m \u001b[1;33m=\u001b[0m \u001b[0mfind_recursion\u001b[0m\u001b[1;33m(\u001b[0m\u001b[0morig_etype\u001b[0m\u001b[1;33m,\u001b[0m \u001b[0mevalue\u001b[0m\u001b[1;33m,\u001b[0m \u001b[0mrecords\u001b[0m\u001b[1;33m)\u001b[0m\u001b[1;33m\u001b[0m\u001b[1;33m\u001b[0m\u001b[0m\n\u001b[0m\u001b[0;32m   1151\u001b[0m \u001b[1;33m\u001b[0m\u001b[0m\n",
      "\u001b[1;32m~\\anaconda3\\lib\\site-packages\\IPython\\core\\ultratb.py\u001b[0m in \u001b[0;36mfind_recursion\u001b[1;34m(etype, value, records)\u001b[0m\n\u001b[0;32m    450\u001b[0m     \u001b[1;32mif\u001b[0m \u001b[1;32mnot\u001b[0m \u001b[0mis_recursion_error\u001b[0m\u001b[1;33m(\u001b[0m\u001b[0metype\u001b[0m\u001b[1;33m,\u001b[0m \u001b[0mvalue\u001b[0m\u001b[1;33m,\u001b[0m \u001b[0mrecords\u001b[0m\u001b[1;33m)\u001b[0m\u001b[1;33m:\u001b[0m\u001b[1;33m\u001b[0m\u001b[1;33m\u001b[0m\u001b[0m\n\u001b[1;32m--> 451\u001b[1;33m         \u001b[1;32mreturn\u001b[0m \u001b[0mlen\u001b[0m\u001b[1;33m(\u001b[0m\u001b[0mrecords\u001b[0m\u001b[1;33m)\u001b[0m\u001b[1;33m,\u001b[0m \u001b[1;36m0\u001b[0m\u001b[1;33m\u001b[0m\u001b[1;33m\u001b[0m\u001b[0m\n\u001b[0m\u001b[0;32m    452\u001b[0m \u001b[1;33m\u001b[0m\u001b[0m\n",
      "\u001b[1;31mTypeError\u001b[0m: object of type 'NoneType' has no len()",
      "\nDuring handling of the above exception, another exception occurred:\n",
      "\u001b[1;31mAttributeError\u001b[0m                            Traceback (most recent call last)",
      "\u001b[1;32m~\\anaconda3\\lib\\site-packages\\IPython\\core\\interactiveshell.py\u001b[0m in \u001b[0;36mshowtraceback\u001b[1;34m(self, exc_tuple, filename, tb_offset, exception_only, running_compiled_code)\u001b[0m\n\u001b[0;32m   2043\u001b[0m                         \u001b[1;31m# in the engines. This should return a list of strings.\u001b[0m\u001b[1;33m\u001b[0m\u001b[1;33m\u001b[0m\u001b[1;33m\u001b[0m\u001b[0m\n\u001b[1;32m-> 2044\u001b[1;33m                         \u001b[0mstb\u001b[0m \u001b[1;33m=\u001b[0m \u001b[0mvalue\u001b[0m\u001b[1;33m.\u001b[0m\u001b[0m_render_traceback_\u001b[0m\u001b[1;33m(\u001b[0m\u001b[1;33m)\u001b[0m\u001b[1;33m\u001b[0m\u001b[1;33m\u001b[0m\u001b[0m\n\u001b[0m\u001b[0;32m   2045\u001b[0m                     \u001b[1;32mexcept\u001b[0m \u001b[0mException\u001b[0m\u001b[1;33m:\u001b[0m\u001b[1;33m\u001b[0m\u001b[1;33m\u001b[0m\u001b[0m\n",
      "\u001b[1;31mAttributeError\u001b[0m: 'TypeError' object has no attribute '_render_traceback_'",
      "\nDuring handling of the above exception, another exception occurred:\n",
      "\u001b[1;31mTypeError\u001b[0m                                 Traceback (most recent call last)",
      "\u001b[1;32m~\\anaconda3\\lib\\site-packages\\IPython\\core\\async_helpers.py\u001b[0m in \u001b[0;36m_pseudo_sync_runner\u001b[1;34m(coro)\u001b[0m\n\u001b[0;32m     66\u001b[0m     \"\"\"\n\u001b[0;32m     67\u001b[0m     \u001b[1;32mtry\u001b[0m\u001b[1;33m:\u001b[0m\u001b[1;33m\u001b[0m\u001b[1;33m\u001b[0m\u001b[0m\n\u001b[1;32m---> 68\u001b[1;33m         \u001b[0mcoro\u001b[0m\u001b[1;33m.\u001b[0m\u001b[0msend\u001b[0m\u001b[1;33m(\u001b[0m\u001b[1;32mNone\u001b[0m\u001b[1;33m)\u001b[0m\u001b[1;33m\u001b[0m\u001b[1;33m\u001b[0m\u001b[0m\n\u001b[0m\u001b[0;32m     69\u001b[0m     \u001b[1;32mexcept\u001b[0m \u001b[0mStopIteration\u001b[0m \u001b[1;32mas\u001b[0m \u001b[0mexc\u001b[0m\u001b[1;33m:\u001b[0m\u001b[1;33m\u001b[0m\u001b[1;33m\u001b[0m\u001b[0m\n\u001b[0;32m     70\u001b[0m         \u001b[1;32mreturn\u001b[0m \u001b[0mexc\u001b[0m\u001b[1;33m.\u001b[0m\u001b[0mvalue\u001b[0m\u001b[1;33m\u001b[0m\u001b[1;33m\u001b[0m\u001b[0m\n",
      "\u001b[1;32m~\\anaconda3\\lib\\site-packages\\IPython\\core\\interactiveshell.py\u001b[0m in \u001b[0;36mrun_cell_async\u001b[1;34m(self, raw_cell, store_history, silent, shell_futures)\u001b[0m\n\u001b[0;32m   3069\u001b[0m                     \u001b[0minteractivity\u001b[0m \u001b[1;33m=\u001b[0m \u001b[1;34m'async'\u001b[0m\u001b[1;33m\u001b[0m\u001b[1;33m\u001b[0m\u001b[0m\n\u001b[0;32m   3070\u001b[0m \u001b[1;33m\u001b[0m\u001b[0m\n\u001b[1;32m-> 3071\u001b[1;33m                 has_raised = await self.run_ast_nodes(code_ast.body, cell_name,\n\u001b[0m\u001b[0;32m   3072\u001b[0m                        interactivity=interactivity, compiler=compiler, result=result)\n\u001b[0;32m   3073\u001b[0m \u001b[1;33m\u001b[0m\u001b[0m\n",
      "\u001b[1;32m~\\anaconda3\\lib\\site-packages\\IPython\\core\\interactiveshell.py\u001b[0m in \u001b[0;36mrun_ast_nodes\u001b[1;34m(self, nodelist, cell_name, interactivity, compiler, result)\u001b[0m\n\u001b[0;32m   3280\u001b[0m             \u001b[1;32mif\u001b[0m \u001b[0mresult\u001b[0m\u001b[1;33m:\u001b[0m\u001b[1;33m\u001b[0m\u001b[1;33m\u001b[0m\u001b[0m\n\u001b[0;32m   3281\u001b[0m                 \u001b[0mresult\u001b[0m\u001b[1;33m.\u001b[0m\u001b[0merror_before_exec\u001b[0m \u001b[1;33m=\u001b[0m \u001b[0msys\u001b[0m\u001b[1;33m.\u001b[0m\u001b[0mexc_info\u001b[0m\u001b[1;33m(\u001b[0m\u001b[1;33m)\u001b[0m\u001b[1;33m[\u001b[0m\u001b[1;36m1\u001b[0m\u001b[1;33m]\u001b[0m\u001b[1;33m\u001b[0m\u001b[1;33m\u001b[0m\u001b[0m\n\u001b[1;32m-> 3282\u001b[1;33m             \u001b[0mself\u001b[0m\u001b[1;33m.\u001b[0m\u001b[0mshowtraceback\u001b[0m\u001b[1;33m(\u001b[0m\u001b[1;33m)\u001b[0m\u001b[1;33m\u001b[0m\u001b[1;33m\u001b[0m\u001b[0m\n\u001b[0m\u001b[0;32m   3283\u001b[0m             \u001b[1;32mreturn\u001b[0m \u001b[1;32mTrue\u001b[0m\u001b[1;33m\u001b[0m\u001b[1;33m\u001b[0m\u001b[0m\n\u001b[0;32m   3284\u001b[0m \u001b[1;33m\u001b[0m\u001b[0m\n",
      "\u001b[1;32m~\\anaconda3\\lib\\site-packages\\IPython\\core\\interactiveshell.py\u001b[0m in \u001b[0;36mshowtraceback\u001b[1;34m(self, exc_tuple, filename, tb_offset, exception_only, running_compiled_code)\u001b[0m\n\u001b[0;32m   2044\u001b[0m                         \u001b[0mstb\u001b[0m \u001b[1;33m=\u001b[0m \u001b[0mvalue\u001b[0m\u001b[1;33m.\u001b[0m\u001b[0m_render_traceback_\u001b[0m\u001b[1;33m(\u001b[0m\u001b[1;33m)\u001b[0m\u001b[1;33m\u001b[0m\u001b[1;33m\u001b[0m\u001b[0m\n\u001b[0;32m   2045\u001b[0m                     \u001b[1;32mexcept\u001b[0m \u001b[0mException\u001b[0m\u001b[1;33m:\u001b[0m\u001b[1;33m\u001b[0m\u001b[1;33m\u001b[0m\u001b[0m\n\u001b[1;32m-> 2046\u001b[1;33m                         stb = self.InteractiveTB.structured_traceback(etype,\n\u001b[0m\u001b[0;32m   2047\u001b[0m                                             value, tb, tb_offset=tb_offset)\n\u001b[0;32m   2048\u001b[0m \u001b[1;33m\u001b[0m\u001b[0m\n",
      "\u001b[1;32m~\\anaconda3\\lib\\site-packages\\IPython\\core\\ultratb.py\u001b[0m in \u001b[0;36mstructured_traceback\u001b[1;34m(self, etype, value, tb, tb_offset, number_of_lines_of_context)\u001b[0m\n\u001b[0;32m   1433\u001b[0m         \u001b[1;32melse\u001b[0m\u001b[1;33m:\u001b[0m\u001b[1;33m\u001b[0m\u001b[1;33m\u001b[0m\u001b[0m\n\u001b[0;32m   1434\u001b[0m             \u001b[0mself\u001b[0m\u001b[1;33m.\u001b[0m\u001b[0mtb\u001b[0m \u001b[1;33m=\u001b[0m \u001b[0mtb\u001b[0m\u001b[1;33m\u001b[0m\u001b[1;33m\u001b[0m\u001b[0m\n\u001b[1;32m-> 1435\u001b[1;33m         return FormattedTB.structured_traceback(\n\u001b[0m\u001b[0;32m   1436\u001b[0m             self, etype, value, tb, tb_offset, number_of_lines_of_context)\n\u001b[0;32m   1437\u001b[0m \u001b[1;33m\u001b[0m\u001b[0m\n",
      "\u001b[1;32m~\\anaconda3\\lib\\site-packages\\IPython\\core\\ultratb.py\u001b[0m in \u001b[0;36mstructured_traceback\u001b[1;34m(self, etype, value, tb, tb_offset, number_of_lines_of_context)\u001b[0m\n\u001b[0;32m   1333\u001b[0m         \u001b[1;32mif\u001b[0m \u001b[0mmode\u001b[0m \u001b[1;32min\u001b[0m \u001b[0mself\u001b[0m\u001b[1;33m.\u001b[0m\u001b[0mverbose_modes\u001b[0m\u001b[1;33m:\u001b[0m\u001b[1;33m\u001b[0m\u001b[1;33m\u001b[0m\u001b[0m\n\u001b[0;32m   1334\u001b[0m             \u001b[1;31m# Verbose modes need a full traceback\u001b[0m\u001b[1;33m\u001b[0m\u001b[1;33m\u001b[0m\u001b[1;33m\u001b[0m\u001b[0m\n\u001b[1;32m-> 1335\u001b[1;33m             return VerboseTB.structured_traceback(\n\u001b[0m\u001b[0;32m   1336\u001b[0m                 \u001b[0mself\u001b[0m\u001b[1;33m,\u001b[0m \u001b[0metype\u001b[0m\u001b[1;33m,\u001b[0m \u001b[0mvalue\u001b[0m\u001b[1;33m,\u001b[0m \u001b[0mtb\u001b[0m\u001b[1;33m,\u001b[0m \u001b[0mtb_offset\u001b[0m\u001b[1;33m,\u001b[0m \u001b[0mnumber_of_lines_of_context\u001b[0m\u001b[1;33m\u001b[0m\u001b[1;33m\u001b[0m\u001b[0m\n\u001b[0;32m   1337\u001b[0m             )\n",
      "\u001b[1;32m~\\anaconda3\\lib\\site-packages\\IPython\\core\\ultratb.py\u001b[0m in \u001b[0;36mstructured_traceback\u001b[1;34m(self, etype, evalue, etb, tb_offset, number_of_lines_of_context)\u001b[0m\n\u001b[0;32m   1208\u001b[0m         \u001b[0mchained_exc_ids\u001b[0m \u001b[1;33m=\u001b[0m \u001b[0mset\u001b[0m\u001b[1;33m(\u001b[0m\u001b[1;33m)\u001b[0m\u001b[1;33m\u001b[0m\u001b[1;33m\u001b[0m\u001b[0m\n\u001b[0;32m   1209\u001b[0m         \u001b[1;32mwhile\u001b[0m \u001b[0mevalue\u001b[0m\u001b[1;33m:\u001b[0m\u001b[1;33m\u001b[0m\u001b[1;33m\u001b[0m\u001b[0m\n\u001b[1;32m-> 1210\u001b[1;33m             formatted_exceptions += self.format_exception_as_a_whole(etype, evalue, etb, lines_of_context,\n\u001b[0m\u001b[0;32m   1211\u001b[0m                                                                      chained_exceptions_tb_offset)\n\u001b[0;32m   1212\u001b[0m             \u001b[0mexception\u001b[0m \u001b[1;33m=\u001b[0m \u001b[0mself\u001b[0m\u001b[1;33m.\u001b[0m\u001b[0mget_parts_of_chained_exception\u001b[0m\u001b[1;33m(\u001b[0m\u001b[0mevalue\u001b[0m\u001b[1;33m)\u001b[0m\u001b[1;33m\u001b[0m\u001b[1;33m\u001b[0m\u001b[0m\n",
      "\u001b[1;32m~\\anaconda3\\lib\\site-packages\\IPython\\core\\ultratb.py\u001b[0m in \u001b[0;36mformat_exception_as_a_whole\u001b[1;34m(self, etype, evalue, etb, number_of_lines_of_context, tb_offset)\u001b[0m\n\u001b[0;32m   1148\u001b[0m \u001b[1;33m\u001b[0m\u001b[0m\n\u001b[0;32m   1149\u001b[0m \u001b[1;33m\u001b[0m\u001b[0m\n\u001b[1;32m-> 1150\u001b[1;33m         \u001b[0mlast_unique\u001b[0m\u001b[1;33m,\u001b[0m \u001b[0mrecursion_repeat\u001b[0m \u001b[1;33m=\u001b[0m \u001b[0mfind_recursion\u001b[0m\u001b[1;33m(\u001b[0m\u001b[0morig_etype\u001b[0m\u001b[1;33m,\u001b[0m \u001b[0mevalue\u001b[0m\u001b[1;33m,\u001b[0m \u001b[0mrecords\u001b[0m\u001b[1;33m)\u001b[0m\u001b[1;33m\u001b[0m\u001b[1;33m\u001b[0m\u001b[0m\n\u001b[0m\u001b[0;32m   1151\u001b[0m \u001b[1;33m\u001b[0m\u001b[0m\n\u001b[0;32m   1152\u001b[0m         \u001b[0mframes\u001b[0m \u001b[1;33m=\u001b[0m \u001b[0mself\u001b[0m\u001b[1;33m.\u001b[0m\u001b[0mformat_records\u001b[0m\u001b[1;33m(\u001b[0m\u001b[0mrecords\u001b[0m\u001b[1;33m,\u001b[0m \u001b[0mlast_unique\u001b[0m\u001b[1;33m,\u001b[0m \u001b[0mrecursion_repeat\u001b[0m\u001b[1;33m)\u001b[0m\u001b[1;33m\u001b[0m\u001b[1;33m\u001b[0m\u001b[0m\n",
      "\u001b[1;32m~\\anaconda3\\lib\\site-packages\\IPython\\core\\ultratb.py\u001b[0m in \u001b[0;36mfind_recursion\u001b[1;34m(etype, value, records)\u001b[0m\n\u001b[0;32m    449\u001b[0m     \u001b[1;31m# first frame (from in to out) that looks different.\u001b[0m\u001b[1;33m\u001b[0m\u001b[1;33m\u001b[0m\u001b[1;33m\u001b[0m\u001b[0m\n\u001b[0;32m    450\u001b[0m     \u001b[1;32mif\u001b[0m \u001b[1;32mnot\u001b[0m \u001b[0mis_recursion_error\u001b[0m\u001b[1;33m(\u001b[0m\u001b[0metype\u001b[0m\u001b[1;33m,\u001b[0m \u001b[0mvalue\u001b[0m\u001b[1;33m,\u001b[0m \u001b[0mrecords\u001b[0m\u001b[1;33m)\u001b[0m\u001b[1;33m:\u001b[0m\u001b[1;33m\u001b[0m\u001b[1;33m\u001b[0m\u001b[0m\n\u001b[1;32m--> 451\u001b[1;33m         \u001b[1;32mreturn\u001b[0m \u001b[0mlen\u001b[0m\u001b[1;33m(\u001b[0m\u001b[0mrecords\u001b[0m\u001b[1;33m)\u001b[0m\u001b[1;33m,\u001b[0m \u001b[1;36m0\u001b[0m\u001b[1;33m\u001b[0m\u001b[1;33m\u001b[0m\u001b[0m\n\u001b[0m\u001b[0;32m    452\u001b[0m \u001b[1;33m\u001b[0m\u001b[0m\n\u001b[0;32m    453\u001b[0m     \u001b[1;31m# Select filename, lineno, func_name to track frames with\u001b[0m\u001b[1;33m\u001b[0m\u001b[1;33m\u001b[0m\u001b[1;33m\u001b[0m\u001b[0m\n",
      "\u001b[1;31mTypeError\u001b[0m: object of type 'NoneType' has no len()"
     ]
    }
   ],
   "source": []
  },
  {
   "cell_type": "code",
   "execution_count": null,
   "metadata": {},
   "outputs": [],
   "source": []
  },
  {
   "cell_type": "code",
   "execution_count": null,
   "metadata": {},
   "outputs": [],
   "source": []
  },
  {
   "cell_type": "code",
   "execution_count": null,
   "metadata": {},
   "outputs": [],
   "source": []
  },
  {
   "cell_type": "code",
   "execution_count": null,
   "metadata": {},
   "outputs": [],
   "source": []
  },
  {
   "cell_type": "code",
   "execution_count": null,
   "metadata": {},
   "outputs": [],
   "source": []
  },
  {
   "cell_type": "code",
   "execution_count": null,
   "metadata": {},
   "outputs": [],
   "source": []
  },
  {
   "cell_type": "code",
   "execution_count": null,
   "metadata": {},
   "outputs": [],
   "source": []
  },
  {
   "cell_type": "code",
   "execution_count": null,
   "metadata": {},
   "outputs": [],
   "source": []
  },
  {
   "cell_type": "code",
   "execution_count": null,
   "metadata": {},
   "outputs": [],
   "source": []
  },
  {
   "cell_type": "code",
   "execution_count": null,
   "metadata": {},
   "outputs": [],
   "source": []
  },
  {
   "cell_type": "code",
   "execution_count": null,
   "metadata": {},
   "outputs": [],
   "source": []
  },
  {
   "cell_type": "code",
   "execution_count": null,
   "metadata": {},
   "outputs": [],
   "source": []
  },
  {
   "cell_type": "code",
   "execution_count": null,
   "metadata": {},
   "outputs": [],
   "source": []
  },
  {
   "cell_type": "code",
   "execution_count": null,
   "metadata": {},
   "outputs": [],
   "source": []
  },
  {
   "cell_type": "code",
   "execution_count": null,
   "metadata": {},
   "outputs": [],
   "source": []
  },
  {
   "cell_type": "code",
   "execution_count": null,
   "metadata": {},
   "outputs": [],
   "source": []
  },
  {
   "cell_type": "code",
   "execution_count": null,
   "metadata": {},
   "outputs": [],
   "source": []
  },
  {
   "cell_type": "code",
   "execution_count": null,
   "metadata": {},
   "outputs": [],
   "source": []
  },
  {
   "cell_type": "code",
   "execution_count": null,
   "metadata": {},
   "outputs": [],
   "source": []
  },
  {
   "cell_type": "code",
   "execution_count": null,
   "metadata": {},
   "outputs": [],
   "source": []
  },
  {
   "cell_type": "code",
   "execution_count": null,
   "metadata": {},
   "outputs": [],
   "source": []
  },
  {
   "cell_type": "code",
   "execution_count": null,
   "metadata": {},
   "outputs": [],
   "source": []
  },
  {
   "cell_type": "code",
   "execution_count": 77,
   "metadata": {},
   "outputs": [
    {
     "name": "stdout",
     "output_type": "stream",
     "text": [
      "auc(ohe время+logit) = 0.7810258812336244\n",
      "auc(сайты+logit) = 0.8899046564476084\n",
      "auc(время+lgb) = 0.867195056363296\n",
      "auc(сайты+lgb) = 0.8918548648204275\n"
     ]
    }
   ],
   "source": [
    "\n",
    "\n",
    "L_imp_lgb_time = [est.feature_importances_.flatten() for est in lgb_cv1['estimator']]\n",
    "imps_lgb_time_mean = sum(L_imp_lgb_time) / len(L_imp_lgb_time)\n",
    "L_imp_lgb_site = [est.feature_importances_.flatten() for est in lgb_cv2['estimator']]\n",
    "imps_lgb_site_mean = sum(L_imp_lgb_site) / len(L_imp_lgb_site)"
   ]
  },
  {
   "cell_type": "code",
   "execution_count": 78,
   "metadata": {},
   "outputs": [],
   "source": [
    "mask = df_tr['ym']>=201309\n",
    "# время\n",
    "_X_ts_tr2 = D_ts['train'][mask].values\n",
    "# ohe\n",
    "encoder = OneHotEncoder(handle_unknown='ignore')\n",
    "_X_ts_ohe_tr2 = encoder.fit_transform(_X_ts_tr2)\n",
    "# сайты\n",
    "_X_sites_tr2 = sites_tr[mask]\n",
    "# таргет\n",
    "_y_tr2 = np.array(y_tr[mask])\n",
    "# трейн-тест сплит\n",
    "idx_split2 = np.int32(np.around(len(_y_tr2)*(1-HOLDOUT_SHARE)))"
   ]
  },
  {
   "cell_type": "code",
   "execution_count": 79,
   "metadata": {},
   "outputs": [
    {
     "name": "stdout",
     "output_type": "stream",
     "text": [
      "auc(ohe время+logit) | ym>=201309 = 0.8092765694966432\n",
      "auc(сайты+logit) | ym>=201309= 0.88946832692538\n",
      "auc(время+lgb) | ym>=201309= 0.8656833142645506\n",
      "auc(сайты+lgb) | ym>=201309= 0.8955239029489017\n"
     ]
    }
   ],
   "source": [
    "logit_cv1_mask = cross_validate(logit_clf, _X_ts_ohe_tr2[:idx_split2], _y_tr2[:idx_split2],\\\n",
    "                           scoring ='roc_auc', cv = TSCV, return_estimator = True) \n",
    "logit_cv2_mask = cross_validate(logit_clf, _X_sites_tr2[:idx_split2], _y_tr2[:idx_split2],\\\n",
    "                           scoring ='roc_auc', cv = TSCV, return_estimator = True)\n",
    "lgb_cv1_mask = cross_validate(lgb_clf, _X_ts_tr2[:idx_split2], _y_tr2[:idx_split2],\\\n",
    "                         scoring ='roc_auc', cv = TSCV, return_estimator = True)\n",
    "lgb_cv2_mask = cross_validate(lgb_clf, _X_sites_tr2[:idx_split2], _y_tr2[:idx_split2],\\\n",
    "                         scoring ='roc_auc', cv = TSCV, return_estimator = True)\n",
    "\n",
    "print('auc(ohe время+logit) | ym>=201309 = {}'.format(logit_cv1_mask['test_score'].mean()))\n",
    "print('auc(сайты+logit) | ym>=201309= {}'.format(logit_cv2_mask['test_score'].mean()))\n",
    "print('auc(время+lgb) | ym>=201309= {}'.format(lgb_cv1_mask['test_score'].mean()))\n",
    "print('auc(сайты+lgb) | ym>=201309= {}'.format(lgb_cv2_mask['test_score'].mean()))\n",
    "\n",
    "L_imp_lgb_time_mask = [est.feature_importances_.flatten() for est in lgb_cv1_mask['estimator']]\n",
    "imps_lgb_time_mean_mask = sum(L_imp_lgb_time_mask) / len(L_imp_lgb_time_mask)\n",
    "L_imp_lgb_site_mask = [est.feature_importances_.flatten() for est in lgb_cv2_mask['estimator']]\n",
    "imps_lgb_site_mean_mask = sum(L_imp_lgb_site_mask) / len(L_imp_lgb_site_mask)"
   ]
  },
  {
   "cell_type": "code",
   "execution_count": 80,
   "metadata": {},
   "outputs": [
    {
     "name": "stdout",
     "output_type": "stream",
     "text": [
      "изменение важности признака / средняя важность признака = nan   | ранг признака(больше-лучше) = 0\n",
      "изменение важности признака / средняя важность признака = 2.00  | ранг признака(больше-лучше) = 1\n",
      "изменение важности признака / средняя важность признака = 0.24  | ранг признака(больше-лучше) = 3\n",
      "изменение важности признака / средняя важность признака = 0.66  | ранг признака(больше-лучше) = 4\n",
      "изменение важности признака / средняя важность признака = 0.55  | ранг признака(больше-лучше) = 2\n",
      "изменение важности признака / средняя важность признака = -0.17 | ранг признака(больше-лучше) = 6\n",
      "изменение важности признака / средняя важность признака = 0.04  | ранг признака(больше-лучше) = 5\n",
      "изменение важности признака / средняя важность признака = -0.03 | ранг признака(больше-лучше) = 7\n"
     ]
    }
   ],
   "source": [
    "for diff, rank in zip((imps_lgb_time_mean - imps_lgb_time_mean_mask)\\\n",
    "                        / np.mean([imps_lgb_time_mean, imps_lgb_time_mean_mask], axis = 0),\\\n",
    "                      np.argsort(imps_lgb_time_mean)):\n",
    "    print('изменение важности признака / средняя важность признака = {:<5.2f} | ранг признака(больше-лучше) = {}'.format(diff, rank))"
   ]
  },
  {
   "cell_type": "markdown",
   "metadata": {},
   "source": [
    "### наиболее важные признаки после удаления части данных несильно повлияли на модель (однако изменение важности на .21 - не очень хорошо)"
   ]
  },
  {
   "cell_type": "code",
   "execution_count": 81,
   "metadata": {},
   "outputs": [
    {
     "data": {
      "application/vnd.jupyter.widget-view+json": {
       "model_id": "acd3cc16e2304bb89f377f0a2fc86bf3",
       "version_major": 2,
       "version_minor": 0
      },
      "text/plain": [
       "HBox(children=(FloatProgress(value=0.0, max=8.0), HTML(value='')))"
      ]
     },
     "metadata": {},
     "output_type": "display_data"
    },
    {
     "data": {
      "application/vnd.jupyter.widget-view+json": {
       "model_id": "83217751922f432482b56925a9a45222",
       "version_major": 2,
       "version_minor": 0
      },
      "text/plain": [
       "HBox(children=(FloatProgress(value=0.0, max=2.0), HTML(value='')))"
      ]
     },
     "metadata": {},
     "output_type": "display_data"
    },
    {
     "name": "stdout",
     "output_type": "stream",
     "text": [
      "\n"
     ]
    },
    {
     "data": {
      "application/vnd.jupyter.widget-view+json": {
       "model_id": "1197b197dca54606a305e0a4f9ee6a24",
       "version_major": 2,
       "version_minor": 0
      },
      "text/plain": [
       "HBox(children=(FloatProgress(value=0.0, max=2.0), HTML(value='')))"
      ]
     },
     "metadata": {},
     "output_type": "display_data"
    },
    {
     "name": "stdout",
     "output_type": "stream",
     "text": [
      "\n"
     ]
    },
    {
     "data": {
      "application/vnd.jupyter.widget-view+json": {
       "model_id": "1add97ebeaba4c4185b94a927f4afb53",
       "version_major": 2,
       "version_minor": 0
      },
      "text/plain": [
       "HBox(children=(FloatProgress(value=0.0, max=4.0), HTML(value='')))"
      ]
     },
     "metadata": {},
     "output_type": "display_data"
    },
    {
     "name": "stdout",
     "output_type": "stream",
     "text": [
      "\n"
     ]
    },
    {
     "data": {
      "application/vnd.jupyter.widget-view+json": {
       "model_id": "6a5433f1469442b087e245a8274a8598",
       "version_major": 2,
       "version_minor": 0
      },
      "text/plain": [
       "HBox(children=(FloatProgress(value=0.0, max=2.0), HTML(value='')))"
      ]
     },
     "metadata": {},
     "output_type": "display_data"
    },
    {
     "name": "stdout",
     "output_type": "stream",
     "text": [
      "\n"
     ]
    },
    {
     "data": {
      "application/vnd.jupyter.widget-view+json": {
       "model_id": "bfc54541acf94ef49c511d9a0cba3ef6",
       "version_major": 2,
       "version_minor": 0
      },
      "text/plain": [
       "HBox(children=(FloatProgress(value=0.0, max=9.0), HTML(value='')))"
      ]
     },
     "metadata": {},
     "output_type": "display_data"
    },
    {
     "name": "stdout",
     "output_type": "stream",
     "text": [
      "\n"
     ]
    },
    {
     "data": {
      "application/vnd.jupyter.widget-view+json": {
       "model_id": "e658519ba1f74d6997c68f02b850f8ef",
       "version_major": 2,
       "version_minor": 0
      },
      "text/plain": [
       "HBox(children=(FloatProgress(value=0.0, max=22.0), HTML(value='')))"
      ]
     },
     "metadata": {},
     "output_type": "display_data"
    },
    {
     "name": "stdout",
     "output_type": "stream",
     "text": [
      "\n"
     ]
    },
    {
     "data": {
      "application/vnd.jupyter.widget-view+json": {
       "model_id": "93e61fa995c14fe9a15cfffc00cfc466",
       "version_major": 2,
       "version_minor": 0
      },
      "text/plain": [
       "HBox(children=(FloatProgress(value=0.0, max=7.0), HTML(value='')))"
      ]
     },
     "metadata": {},
     "output_type": "display_data"
    },
    {
     "name": "stdout",
     "output_type": "stream",
     "text": [
      "\n"
     ]
    },
    {
     "data": {
      "application/vnd.jupyter.widget-view+json": {
       "model_id": "34721604fc27420a93fe5c98e2c6fc84",
       "version_major": 2,
       "version_minor": 0
      },
      "text/plain": [
       "HBox(children=(FloatProgress(value=0.0, max=17.0), HTML(value='')))"
      ]
     },
     "metadata": {},
     "output_type": "display_data"
    },
    {
     "name": "stdout",
     "output_type": "stream",
     "text": [
      "\n",
      "\n"
     ]
    },
    {
     "data": {
      "application/vnd.jupyter.widget-view+json": {
       "model_id": "cddf4cb355474ffa8b262ffb2b3a84a9",
       "version_major": 2,
       "version_minor": 0
      },
      "text/plain": [
       "HBox(children=(FloatProgress(value=0.0, max=65.0), HTML(value='')))"
      ]
     },
     "metadata": {},
     "output_type": "display_data"
    },
    {
     "name": "stdout",
     "output_type": "stream",
     "text": [
      "new best score = 0.632848627669736\n",
      "new best score = 0.7133791977913879\n",
      "new best score = 0.7814928998427\n",
      "new best score = 0.8091293571082608\n",
      "new best score = 0.8588551227309785\n",
      "new best score = 0.8656242920624592\n",
      "new best score = 0.883201715019818\n",
      "new best score = 0.8902765454747409\n",
      "new best score = 0.8907145945164536\n",
      "new best score = 0.8953832590444091\n",
      "new best score = 0.8963070835778517\n",
      "new best score = 0.9008254084226875\n",
      "new best score = 0.9052156510561666\n",
      "new best score = 0.9074311307038898\n",
      "new best score = 0.9091354074466503\n",
      "new best score = 0.9158075266690111\n",
      "new best score = 0.9160719238754749\n",
      "new best score = 0.9173616286318784\n",
      "new best score = 0.9178897975032647\n",
      "new best score = 0.91832812690208\n",
      "new best score = 0.9185151922152439\n",
      "new best score = 0.9185200724477548\n",
      "new best score = 0.9186339218622941\n",
      "new best score = 0.9186347734260919\n",
      "new best score = 0.9196808891675021\n",
      "\n"
     ]
    },
    {
     "data": {
      "application/vnd.jupyter.widget-view+json": {
       "model_id": "c3bf5a34c97345c1b93aa3a0b20149bc",
       "version_major": 2,
       "version_minor": 0
      },
      "text/plain": [
       "HBox(children=(FloatProgress(value=0.0, max=40.0), HTML(value='')))"
      ]
     },
     "metadata": {},
     "output_type": "display_data"
    },
    {
     "name": "stdout",
     "output_type": "stream",
     "text": [
      "new best score = 0.9199006531108384\n",
      "new best score = 0.921206737783148\n",
      "new best score = 0.9218850842401746\n",
      "\n"
     ]
    },
    {
     "data": {
      "application/vnd.jupyter.widget-view+json": {
       "model_id": "a0b447778e304afbad2d185ed2745e5d",
       "version_major": 2,
       "version_minor": 0
      },
      "text/plain": [
       "HBox(children=(FloatProgress(value=0.0, max=37.0), HTML(value='')))"
      ]
     },
     "metadata": {},
     "output_type": "display_data"
    },
    {
     "name": "stdout",
     "output_type": "stream",
     "text": [
      "\n"
     ]
    },
    {
     "data": {
      "text/plain": [
       "<__main__.FeatureSelector at 0x20cc1811580>"
      ]
     },
     "execution_count": 81,
     "metadata": {},
     "output_type": "execute_result"
    }
   ],
   "source": [
    "# отбираем признаки даты для бустинга\n",
    "lgb_selector = FeatureSelector(estimator = lgb_clf, cv = TSCV,\\\n",
    "                               metric = 'roc_auc', use_recursion = True,\\\n",
    "                               fill_value = -1, use_value = np.arange(_X_ts_tr.shape[1]).tolist(),\\\n",
    "                               show_progress = True)\n",
    "lgb_selector.fit(_X_ts_tr[:idx_split], _y_tr[:idx_split])"
   ]
  },
  {
   "cell_type": "code",
   "execution_count": 83,
   "metadata": {},
   "outputs": [
    {
     "data": {
      "application/vnd.jupyter.widget-view+json": {
       "model_id": "601d8cbe250645de90327e6db30202dd",
       "version_major": 2,
       "version_minor": 0
      },
      "text/plain": [
       "HBox(children=(FloatProgress(value=0.0, max=8.0), HTML(value='')))"
      ]
     },
     "metadata": {},
     "output_type": "display_data"
    },
    {
     "data": {
      "application/vnd.jupyter.widget-view+json": {
       "model_id": "82a2ff6f15a349119aaa6bce9ddb63f9",
       "version_major": 2,
       "version_minor": 0
      },
      "text/plain": [
       "HBox(children=(FloatProgress(value=0.0, max=2.0), HTML(value='')))"
      ]
     },
     "metadata": {},
     "output_type": "display_data"
    },
    {
     "name": "stdout",
     "output_type": "stream",
     "text": [
      "\n"
     ]
    },
    {
     "data": {
      "application/vnd.jupyter.widget-view+json": {
       "model_id": "b4d1fb05e31a40a79ea833521ba38fa9",
       "version_major": 2,
       "version_minor": 0
      },
      "text/plain": [
       "HBox(children=(FloatProgress(value=0.0, max=1.0), HTML(value='')))"
      ]
     },
     "metadata": {},
     "output_type": "display_data"
    },
    {
     "name": "stdout",
     "output_type": "stream",
     "text": [
      "\n"
     ]
    },
    {
     "data": {
      "application/vnd.jupyter.widget-view+json": {
       "model_id": "62d9f143e06b47b5a245e5c1af3bb344",
       "version_major": 2,
       "version_minor": 0
      },
      "text/plain": [
       "HBox(children=(FloatProgress(value=0.0, max=4.0), HTML(value='')))"
      ]
     },
     "metadata": {},
     "output_type": "display_data"
    },
    {
     "name": "stdout",
     "output_type": "stream",
     "text": [
      "\n"
     ]
    },
    {
     "data": {
      "application/vnd.jupyter.widget-view+json": {
       "model_id": "b4e1823340b7449cab99e20c6d68aa32",
       "version_major": 2,
       "version_minor": 0
      },
      "text/plain": [
       "HBox(children=(FloatProgress(value=0.0, max=2.0), HTML(value='')))"
      ]
     },
     "metadata": {},
     "output_type": "display_data"
    },
    {
     "name": "stdout",
     "output_type": "stream",
     "text": [
      "\n"
     ]
    },
    {
     "data": {
      "application/vnd.jupyter.widget-view+json": {
       "model_id": "9ceb838d72504c80a2e7434fa3f0e756",
       "version_major": 2,
       "version_minor": 0
      },
      "text/plain": [
       "HBox(children=(FloatProgress(value=0.0, max=5.0), HTML(value='')))"
      ]
     },
     "metadata": {},
     "output_type": "display_data"
    },
    {
     "name": "stdout",
     "output_type": "stream",
     "text": [
      "\n"
     ]
    },
    {
     "data": {
      "application/vnd.jupyter.widget-view+json": {
       "model_id": "074e91d576c34f0d91dbd3a477295e51",
       "version_major": 2,
       "version_minor": 0
      },
      "text/plain": [
       "HBox(children=(FloatProgress(value=0.0, max=22.0), HTML(value='')))"
      ]
     },
     "metadata": {},
     "output_type": "display_data"
    },
    {
     "name": "stdout",
     "output_type": "stream",
     "text": [
      "\n"
     ]
    },
    {
     "data": {
      "application/vnd.jupyter.widget-view+json": {
       "model_id": "a19407a05bbe4e078ac11ae16a6fec90",
       "version_major": 2,
       "version_minor": 0
      },
      "text/plain": [
       "HBox(children=(FloatProgress(value=0.0, max=7.0), HTML(value='')))"
      ]
     },
     "metadata": {},
     "output_type": "display_data"
    },
    {
     "name": "stdout",
     "output_type": "stream",
     "text": [
      "\n"
     ]
    },
    {
     "data": {
      "application/vnd.jupyter.widget-view+json": {
       "model_id": "b48f7199589947a0a145ea6c8cc6e19e",
       "version_major": 2,
       "version_minor": 0
      },
      "text/plain": [
       "HBox(children=(FloatProgress(value=0.0, max=17.0), HTML(value='')))"
      ]
     },
     "metadata": {},
     "output_type": "display_data"
    },
    {
     "name": "stdout",
     "output_type": "stream",
     "text": [
      "\n",
      "\n"
     ]
    },
    {
     "data": {
      "application/vnd.jupyter.widget-view+json": {
       "model_id": "d7b706a84d764ee0ab055f41a7c6c057",
       "version_major": 2,
       "version_minor": 0
      },
      "text/plain": [
       "HBox(children=(FloatProgress(value=0.0, max=60.0), HTML(value='')))"
      ]
     },
     "metadata": {},
     "output_type": "display_data"
    },
    {
     "name": "stdout",
     "output_type": "stream",
     "text": [
      "new best score = 0.6495556626794319\n",
      "new best score = 0.7234178188153977\n",
      "new best score = 0.804046617602676\n",
      "new best score = 0.8266341345535712\n",
      "new best score = 0.850819597302845\n",
      "new best score = 0.8710102387579791\n",
      "new best score = 0.8923404757959993\n",
      "new best score = 0.8994746970564453\n",
      "new best score = 0.8998291869928914\n",
      "new best score = 0.9048607164317243\n",
      "new best score = 0.9091349748147952\n",
      "new best score = 0.9135098204344747\n",
      "new best score = 0.9165368430206406\n",
      "new best score = 0.9192253732878148\n",
      "new best score = 0.9226354424566078\n",
      "new best score = 0.9263554034214188\n",
      "new best score = 0.9269151634658591\n",
      "new best score = 0.9271385443762267\n",
      "new best score = 0.9271385443762268\n",
      "new best score = 0.9271520337993555\n",
      "new best score = 0.9271538063042595\n",
      "\n"
     ]
    },
    {
     "data": {
      "application/vnd.jupyter.widget-view+json": {
       "model_id": "9c9bcd06be1f4c2ca2e12c1889de0984",
       "version_major": 2,
       "version_minor": 0
      },
      "text/plain": [
       "HBox(children=(FloatProgress(value=0.0, max=39.0), HTML(value='')))"
      ]
     },
     "metadata": {},
     "output_type": "display_data"
    },
    {
     "name": "stdout",
     "output_type": "stream",
     "text": [
      "new best score = 0.9293094243906406\n",
      "new best score = 0.940525691752697\n",
      "new best score = 0.9405576139863272\n",
      "new best score = 0.9464860074804373\n",
      "\n"
     ]
    },
    {
     "data": {
      "application/vnd.jupyter.widget-view+json": {
       "model_id": "7c8723135d7042e2be6bb45836cf7eba",
       "version_major": 2,
       "version_minor": 0
      },
      "text/plain": [
       "HBox(children=(FloatProgress(value=0.0, max=35.0), HTML(value='')))"
      ]
     },
     "metadata": {},
     "output_type": "display_data"
    },
    {
     "name": "stdout",
     "output_type": "stream",
     "text": [
      "new best score = 0.9471478506201694\n",
      "new best score = 0.9486056372682902\n",
      "new best score = 0.9493774267187969\n",
      "\n"
     ]
    },
    {
     "data": {
      "application/vnd.jupyter.widget-view+json": {
       "model_id": "061dc5d1813f4b6e837b1893354b6ad3",
       "version_major": 2,
       "version_minor": 0
      },
      "text/plain": [
       "HBox(children=(FloatProgress(value=0.0, max=32.0), HTML(value='')))"
      ]
     },
     "metadata": {},
     "output_type": "display_data"
    },
    {
     "name": "stdout",
     "output_type": "stream",
     "text": [
      "\n"
     ]
    },
    {
     "data": {
      "text/plain": [
       "<__main__.FeatureSelector at 0x20cc705d8b0>"
      ]
     },
     "execution_count": 83,
     "metadata": {},
     "output_type": "execute_result"
    }
   ],
   "source": [
    "# отбираем признаки даты для бустинга\n",
    "lgb_selector2 = FeatureSelector(estimator = lgb_clf, cv = TSCV,\\\n",
    "                               metric = 'roc_auc', use_recursion = True,\\\n",
    "                               fill_value = -1, use_value = np.arange(_X_ts_tr2.shape[1]).tolist(),\\\n",
    "                               show_progress = True)\n",
    "lgb_selector2.fit(_X_ts_tr2[:idx_split2], _y_tr2[:idx_split2])"
   ]
  },
  {
   "cell_type": "markdown",
   "metadata": {},
   "source": [
    "### учитываем посещения после определенного год-месяц"
   ]
  },
  {
   "cell_type": "code",
   "execution_count": 100,
   "metadata": {},
   "outputs": [
    {
     "name": "stdout",
     "output_type": "stream",
     "text": [
      "ym >= 201301, auc = 0.8899046564476084\n",
      "ym >= 201302, auc = 0.889916913389829\n",
      "ym >= 201303, auc = 0.8911459198179351\n",
      "ym >= 201304, auc = 0.8924397212707206\n",
      "ym >= 201305, auc = 0.8929499419196262\n",
      "ym >= 201306, auc = 0.8934009162667058\n",
      "ym >= 201307, auc = 0.893709184491182\n",
      "ym >= 201308, auc = 0.8937104561846932\n",
      "ym >= 201309, auc = 0.8937147814809048\n",
      "ym >= 201310, auc = 0.8927424872332437\n",
      "ym >= 201311, auc = 0.893334476075442\n",
      "ym >= 201312, auc = 0.7505364240890915\n",
      "ym >= 201401, auc = 0.7814620409339782\n",
      "ym >= 201402, auc = 0.5973447485016066\n",
      "ym >= 201403, auc = 0.3807731017453394\n",
      "ym >= 201404, auc = 0.49843696033616774\n"
     ]
    }
   ],
   "source": [
    "best_score = .5\n",
    "for ym in np.unique(df_tr['ym']):\n",
    "    _X_sites_masked_tr = _X_sites_tr.where(df_tr['ym']>=ym).fillna(-1)\n",
    "    mean_score = cross_validate(logit_clf, _X_sites_masked_tr[:idx_split], _y_tr[:idx_split],\\\n",
    "                           scoring ='roc_auc', cv = TSCV)['test_score'].mean()\n",
    "    print('ym >= {}, auc = {}'.format(ym, mean_score))\n",
    "    if mean_score > best_score:\n",
    "        best_score = mean_score\n",
    "        best_X = _X_sites_masked_tr"
   ]
  },
  {
   "cell_type": "code",
   "execution_count": 101,
   "metadata": {},
   "outputs": [
    {
     "name": "stdout",
     "output_type": "stream",
     "text": [
      "ym >= 201309, auc = 0.88946832692538\n",
      "ym >= 201310, auc = 0.8884917294445058\n",
      "ym >= 201311, auc = 0.8908272370203263\n",
      "ym >= 201312, auc = 0.6969036599095216\n",
      "ym >= 201401, auc = 0.7790502375620708\n",
      "ym >= 201402, auc = 0.6041044699041078\n",
      "ym >= 201403, auc = 0.36729181121510435\n",
      "ym >= 201404, auc = 0.49567390442326115\n"
     ]
    }
   ],
   "source": [
    "best_score2 = .5\n",
    "for ym in np.unique(df_tr[mask]['ym']):\n",
    "    _X_sites_masked_tr2 = _X_sites_tr2.where(df_tr[mask]['ym']>=ym).fillna(-1)\n",
    "    mean_score = cross_validate(logit_clf, _X_sites_masked_tr2[:idx_split2], _y_tr2[:idx_split2],\\\n",
    "                           scoring ='roc_auc', cv = TSCV)['test_score'].mean()\n",
    "    print('ym >= {}, auc = {}'.format(ym, mean_score))\n",
    "    if mean_score > best_score2:\n",
    "        best_score2 = mean_score\n",
    "        best_X2 = _X_sites_masked_tr2"
   ]
  },
  {
   "cell_type": "code",
   "execution_count": 107,
   "metadata": {},
   "outputs": [],
   "source": [
    "_X1_tr = np.column_stack([best_X, lgb_selector.transform(_X_ts_tr)])\n",
    "_X2_tr = np.column_stack([best_X2, lgb_selector.transform(_X_ts_tr2)])"
   ]
  },
  {
   "cell_type": "code",
   "execution_count": 111,
   "metadata": {},
   "outputs": [
    {
     "data": {
      "text/plain": [
       "0.9391801546307532"
      ]
     },
     "execution_count": 111,
     "metadata": {},
     "output_type": "execute_result"
    }
   ],
   "source": [
    "cross_validate(lgb_clf, _X1_tr[:idx_split], _y_tr[:idx_split],\\\n",
    "                           scoring ='roc_auc', cv = TSCV)['test_score'].mean()"
   ]
  },
  {
   "cell_type": "code",
   "execution_count": 112,
   "metadata": {},
   "outputs": [
    {
     "data": {
      "text/plain": [
       "0.8660627671861059"
      ]
     },
     "execution_count": 112,
     "metadata": {},
     "output_type": "execute_result"
    }
   ],
   "source": [
    "cross_validate(lgb_clf, _X2_tr[:idx_split2], _y_tr2[:idx_split2],\\\n",
    "                           scoring ='roc_auc', cv = TSCV)['test_score'].mean()"
   ]
  },
  {
   "cell_type": "code",
   "execution_count": null,
   "metadata": {},
   "outputs": [],
   "source": []
  },
  {
   "cell_type": "code",
   "execution_count": null,
   "metadata": {},
   "outputs": [],
   "source": [
    "# _X_sites_tr2"
   ]
  },
  {
   "cell_type": "code",
   "execution_count": null,
   "metadata": {},
   "outputs": [],
   "source": []
  },
  {
   "cell_type": "code",
   "execution_count": null,
   "metadata": {},
   "outputs": [],
   "source": []
  },
  {
   "cell_type": "code",
   "execution_count": null,
   "metadata": {},
   "outputs": [],
   "source": []
  },
  {
   "cell_type": "code",
   "execution_count": null,
   "metadata": {},
   "outputs": [],
   "source": []
  },
  {
   "cell_type": "code",
   "execution_count": null,
   "metadata": {},
   "outputs": [],
   "source": []
  },
  {
   "cell_type": "code",
   "execution_count": null,
   "metadata": {},
   "outputs": [],
   "source": []
  },
  {
   "cell_type": "code",
   "execution_count": 10,
   "metadata": {},
   "outputs": [
    {
     "data": {
      "application/vnd.jupyter.widget-view+json": {
       "model_id": "b157df7de0b8478e99602f832de8426f",
       "version_major": 2,
       "version_minor": 0
      },
      "text/plain": [
       "HBox(children=(FloatProgress(value=0.0, max=67.0), HTML(value='')))"
      ]
     },
     "metadata": {},
     "output_type": "display_data"
    },
    {
     "name": "stdout",
     "output_type": "stream",
     "text": [
      "\n"
     ]
    },
    {
     "data": {
      "application/vnd.jupyter.widget-view+json": {
       "model_id": "7846b21b3c22435e86d63f2ed9360236",
       "version_major": 2,
       "version_minor": 0
      },
      "text/plain": [
       "HBox(children=(FloatProgress(value=0.0, max=67.0), HTML(value='')))"
      ]
     },
     "metadata": {},
     "output_type": "display_data"
    },
    {
     "name": "stdout",
     "output_type": "stream",
     "text": [
      "new best score = 0.632848627669736\n",
      "new best score = 0.7133791977913879\n",
      "new best score = 0.747802977771624\n",
      "new best score = 0.7919946144144729\n",
      "new best score = 0.8165457115328454\n",
      "new best score = 0.8666677827924736\n",
      "new best score = 0.8712629274647941\n",
      "new best score = 0.8863608144268461\n",
      "new best score = 0.894703203610169\n",
      "new best score = 0.895095855553345\n",
      "new best score = 0.8958420338087819\n",
      "new best score = 0.8968012255515593\n",
      "new best score = 0.8982926926353396\n",
      "new best score = 0.9026985264637487\n",
      "new best score = 0.9030837310896369\n",
      "new best score = 0.9057457486764413\n",
      "new best score = 0.9069311928807753\n",
      "new best score = 0.9076135539903997\n",
      "new best score = 0.9096688183528874\n",
      "new best score = 0.9104446362919066\n",
      "new best score = 0.9107206759399662\n",
      "new best score = 0.911239514358302\n",
      "new best score = 0.9120922895108613\n",
      "new best score = 0.9121894325369281\n",
      "new best score = 0.9121902431941721\n",
      "new best score = 0.9127181770205531\n",
      "new best score = 0.912741600653384\n",
      "new best score = 0.9136361446376897\n",
      "new best score = 0.9139857442483896\n",
      "\n"
     ]
    },
    {
     "data": {
      "application/vnd.jupyter.widget-view+json": {
       "model_id": "2f1a55c9428a472c978bef602d2e8277",
       "version_major": 2,
       "version_minor": 0
      },
      "text/plain": [
       "HBox(children=(FloatProgress(value=0.0, max=38.0), HTML(value='')))"
      ]
     },
     "metadata": {},
     "output_type": "display_data"
    },
    {
     "name": "stdout",
     "output_type": "stream",
     "text": [
      "\n"
     ]
    },
    {
     "name": "stderr",
     "output_type": "stream",
     "text": [
      "ERROR:root:Internal Python error in the inspect module.\n",
      "Below is the traceback from this internal error.\n",
      "\n",
      "ERROR:root:Internal Python error in the inspect module.\n",
      "Below is the traceback from this internal error.\n",
      "\n"
     ]
    },
    {
     "name": "stdout",
     "output_type": "stream",
     "text": [
      "Traceback (most recent call last):\n",
      "  File \"C:\\Users\\Sergey\\anaconda3\\lib\\site-packages\\IPython\\core\\interactiveshell.py\", line 3343, in run_code\n",
      "    exec(code_obj, self.user_global_ns, self.user_ns)\n",
      "  File \"<ipython-input-11-8734b7561ba8>\", line 6, in <module>\n",
      "    logit_selector.fit(_X_ts_ohe_tr[:idx_split], _y_tr[:idx_split])\n",
      "  File \"<ipython-input-2-6988ce90faf1>\", line 268, in fit\n",
      "    current_score = cross_validate(self.estimator, xcurr, y,\\\n",
      "  File \"C:\\Users\\Sergey\\anaconda3\\lib\\site-packages\\sklearn\\utils\\validation.py\", line 73, in inner_f\n",
      "    return f(**kwargs)\n",
      "  File \"C:\\Users\\Sergey\\anaconda3\\lib\\site-packages\\sklearn\\model_selection\\_validation.py\", line 242, in cross_validate\n",
      "    scores = parallel(\n",
      "  File \"C:\\Users\\Sergey\\anaconda3\\lib\\site-packages\\joblib\\parallel.py\", line 1032, in __call__\n",
      "    while self.dispatch_one_batch(iterator):\n",
      "  File \"C:\\Users\\Sergey\\anaconda3\\lib\\site-packages\\joblib\\parallel.py\", line 847, in dispatch_one_batch\n",
      "    self._dispatch(tasks)\n",
      "  File \"C:\\Users\\Sergey\\anaconda3\\lib\\site-packages\\joblib\\parallel.py\", line 765, in _dispatch\n",
      "    job = self._backend.apply_async(batch, callback=cb)\n",
      "  File \"C:\\Users\\Sergey\\anaconda3\\lib\\site-packages\\joblib\\_parallel_backends.py\", line 208, in apply_async\n",
      "    result = ImmediateResult(func)\n",
      "  File \"C:\\Users\\Sergey\\anaconda3\\lib\\site-packages\\joblib\\_parallel_backends.py\", line 572, in __init__\n",
      "    self.results = batch()\n",
      "  File \"C:\\Users\\Sergey\\anaconda3\\lib\\site-packages\\joblib\\parallel.py\", line 252, in __call__\n",
      "    return [func(*args, **kwargs)\n",
      "  File \"C:\\Users\\Sergey\\anaconda3\\lib\\site-packages\\joblib\\parallel.py\", line 252, in <listcomp>\n",
      "    return [func(*args, **kwargs)\n",
      "  File \"C:\\Users\\Sergey\\anaconda3\\lib\\site-packages\\sklearn\\model_selection\\_validation.py\", line 531, in _fit_and_score\n",
      "    estimator.fit(X_train, y_train, **fit_params)\n",
      "  File \"C:\\Users\\Sergey\\anaconda3\\lib\\site-packages\\sklearn\\linear_model\\_logistic.py\", line 1407, in fit\n",
      "    fold_coefs_ = Parallel(n_jobs=self.n_jobs, verbose=self.verbose,\n",
      "  File \"C:\\Users\\Sergey\\anaconda3\\lib\\site-packages\\joblib\\parallel.py\", line 1029, in __call__\n",
      "    if self.dispatch_one_batch(iterator):\n",
      "  File \"C:\\Users\\Sergey\\anaconda3\\lib\\site-packages\\joblib\\parallel.py\", line 847, in dispatch_one_batch\n",
      "    self._dispatch(tasks)\n",
      "  File \"C:\\Users\\Sergey\\anaconda3\\lib\\site-packages\\joblib\\parallel.py\", line 765, in _dispatch\n",
      "    job = self._backend.apply_async(batch, callback=cb)\n",
      "  File \"C:\\Users\\Sergey\\anaconda3\\lib\\site-packages\\joblib\\_parallel_backends.py\", line 208, in apply_async\n",
      "    result = ImmediateResult(func)\n",
      "  File \"C:\\Users\\Sergey\\anaconda3\\lib\\site-packages\\joblib\\_parallel_backends.py\", line 572, in __init__\n",
      "    self.results = batch()\n",
      "  File \"C:\\Users\\Sergey\\anaconda3\\lib\\site-packages\\joblib\\parallel.py\", line 252, in __call__\n",
      "    return [func(*args, **kwargs)\n",
      "  File \"C:\\Users\\Sergey\\anaconda3\\lib\\site-packages\\joblib\\parallel.py\", line 252, in <listcomp>\n",
      "    return [func(*args, **kwargs)\n",
      "  File \"C:\\Users\\Sergey\\anaconda3\\lib\\site-packages\\sklearn\\linear_model\\_logistic.py\", line 757, in _logistic_regression_path\n",
      "    opt_res = optimize.minimize(\n",
      "  File \"C:\\Users\\Sergey\\anaconda3\\lib\\site-packages\\scipy\\optimize\\_minimize.py\", line 617, in minimize\n",
      "    return _minimize_lbfgsb(fun, x0, args, jac, bounds,\n",
      "  File \"C:\\Users\\Sergey\\anaconda3\\lib\\site-packages\\scipy\\optimize\\lbfgsb.py\", line 360, in _minimize_lbfgsb\n",
      "    f, g = func_and_grad(x)\n",
      "  File \"C:\\Users\\Sergey\\anaconda3\\lib\\site-packages\\scipy\\optimize\\_differentiable_functions.py\", line 200, in fun_and_grad\n",
      "    self._update_fun()\n",
      "  File \"C:\\Users\\Sergey\\anaconda3\\lib\\site-packages\\scipy\\optimize\\_differentiable_functions.py\", line 166, in _update_fun\n",
      "    self._update_fun_impl()\n",
      "  File \"C:\\Users\\Sergey\\anaconda3\\lib\\site-packages\\scipy\\optimize\\_differentiable_functions.py\", line 73, in update_fun\n",
      "    self.f = fun_wrapped(self.x)\n",
      "  File \"C:\\Users\\Sergey\\anaconda3\\lib\\site-packages\\scipy\\optimize\\_differentiable_functions.py\", line 70, in fun_wrapped\n",
      "    return fun(x, *args)\n",
      "  File \"C:\\Users\\Sergey\\anaconda3\\lib\\site-packages\\scipy\\optimize\\optimize.py\", line 74, in __call__\n",
      "    self._compute_if_needed(x, *args)\n",
      "  File \"C:\\Users\\Sergey\\anaconda3\\lib\\site-packages\\scipy\\optimize\\optimize.py\", line 68, in _compute_if_needed\n",
      "    fg = self.fun(x, *args)\n",
      "  File \"C:\\Users\\Sergey\\anaconda3\\lib\\site-packages\\sklearn\\linear_model\\_logistic.py\", line 122, in _logistic_loss_and_grad\n",
      "    out = -np.sum(sample_weight * log_logistic(yz)) + .5 * alpha * np.dot(w, w)\n",
      "KeyboardInterrupt\n",
      "\n",
      "During handling of the above exception, another exception occurred:\n",
      "\n",
      "Traceback (most recent call last):\n",
      "  File \"C:\\Users\\Sergey\\anaconda3\\lib\\site-packages\\IPython\\core\\interactiveshell.py\", line 2044, in showtraceback\n",
      "    stb = value._render_traceback_()\n",
      "AttributeError: 'KeyboardInterrupt' object has no attribute '_render_traceback_'\n",
      "\n",
      "During handling of the above exception, another exception occurred:\n",
      "\n",
      "Traceback (most recent call last):\n",
      "  File \"C:\\Users\\Sergey\\anaconda3\\lib\\site-packages\\IPython\\core\\ultratb.py\", line 1169, in get_records\n",
      "    return _fixed_getinnerframes(etb, number_of_lines_of_context, tb_offset)\n",
      "  File \"C:\\Users\\Sergey\\anaconda3\\lib\\site-packages\\IPython\\core\\ultratb.py\", line 316, in wrapped\n",
      "    return f(*args, **kwargs)\n",
      "  File \"C:\\Users\\Sergey\\anaconda3\\lib\\site-packages\\IPython\\core\\ultratb.py\", line 350, in _fixed_getinnerframes\n",
      "    records = fix_frame_records_filenames(inspect.getinnerframes(etb, context))\n",
      "  File \"C:\\Users\\Sergey\\anaconda3\\lib\\inspect.py\", line 1503, in getinnerframes\n",
      "    frameinfo = (tb.tb_frame,) + getframeinfo(tb, context)\n",
      "  File \"C:\\Users\\Sergey\\anaconda3\\lib\\inspect.py\", line 1461, in getframeinfo\n",
      "    filename = getsourcefile(frame) or getfile(frame)\n",
      "  File \"C:\\Users\\Sergey\\anaconda3\\lib\\inspect.py\", line 708, in getsourcefile\n",
      "    if getattr(getmodule(object, filename), '__loader__', None) is not None:\n",
      "  File \"C:\\Users\\Sergey\\anaconda3\\lib\\inspect.py\", line 751, in getmodule\n",
      "    f = getabsfile(module)\n",
      "  File \"C:\\Users\\Sergey\\anaconda3\\lib\\inspect.py\", line 720, in getabsfile\n",
      "    _filename = getsourcefile(object) or getfile(object)\n",
      "  File \"C:\\Users\\Sergey\\anaconda3\\lib\\inspect.py\", line 705, in getsourcefile\n",
      "    if os.path.exists(filename):\n",
      "  File \"C:\\Users\\Sergey\\anaconda3\\lib\\genericpath.py\", line 19, in exists\n",
      "    os.stat(path)\n",
      "KeyboardInterrupt\n",
      "Traceback (most recent call last):\n",
      "  File \"C:\\Users\\Sergey\\anaconda3\\lib\\site-packages\\IPython\\core\\interactiveshell.py\", line 3343, in run_code\n",
      "    exec(code_obj, self.user_global_ns, self.user_ns)\n",
      "  File \"<ipython-input-11-8734b7561ba8>\", line 6, in <module>\n",
      "    logit_selector.fit(_X_ts_ohe_tr[:idx_split], _y_tr[:idx_split])\n",
      "  File \"<ipython-input-2-6988ce90faf1>\", line 268, in fit\n",
      "    current_score = cross_validate(self.estimator, xcurr, y,\\\n",
      "  File \"C:\\Users\\Sergey\\anaconda3\\lib\\site-packages\\sklearn\\utils\\validation.py\", line 73, in inner_f\n",
      "    return f(**kwargs)\n",
      "  File \"C:\\Users\\Sergey\\anaconda3\\lib\\site-packages\\sklearn\\model_selection\\_validation.py\", line 242, in cross_validate\n",
      "    scores = parallel(\n",
      "  File \"C:\\Users\\Sergey\\anaconda3\\lib\\site-packages\\joblib\\parallel.py\", line 1032, in __call__\n",
      "    while self.dispatch_one_batch(iterator):\n",
      "  File \"C:\\Users\\Sergey\\anaconda3\\lib\\site-packages\\joblib\\parallel.py\", line 847, in dispatch_one_batch\n",
      "    self._dispatch(tasks)\n",
      "  File \"C:\\Users\\Sergey\\anaconda3\\lib\\site-packages\\joblib\\parallel.py\", line 765, in _dispatch\n",
      "    job = self._backend.apply_async(batch, callback=cb)\n",
      "  File \"C:\\Users\\Sergey\\anaconda3\\lib\\site-packages\\joblib\\_parallel_backends.py\", line 208, in apply_async\n",
      "    result = ImmediateResult(func)\n",
      "  File \"C:\\Users\\Sergey\\anaconda3\\lib\\site-packages\\joblib\\_parallel_backends.py\", line 572, in __init__\n",
      "    self.results = batch()\n",
      "  File \"C:\\Users\\Sergey\\anaconda3\\lib\\site-packages\\joblib\\parallel.py\", line 252, in __call__\n",
      "    return [func(*args, **kwargs)\n",
      "  File \"C:\\Users\\Sergey\\anaconda3\\lib\\site-packages\\joblib\\parallel.py\", line 252, in <listcomp>\n",
      "    return [func(*args, **kwargs)\n",
      "  File \"C:\\Users\\Sergey\\anaconda3\\lib\\site-packages\\sklearn\\model_selection\\_validation.py\", line 531, in _fit_and_score\n",
      "    estimator.fit(X_train, y_train, **fit_params)\n",
      "  File \"C:\\Users\\Sergey\\anaconda3\\lib\\site-packages\\sklearn\\linear_model\\_logistic.py\", line 1407, in fit\n",
      "    fold_coefs_ = Parallel(n_jobs=self.n_jobs, verbose=self.verbose,\n",
      "  File \"C:\\Users\\Sergey\\anaconda3\\lib\\site-packages\\joblib\\parallel.py\", line 1029, in __call__\n",
      "    if self.dispatch_one_batch(iterator):\n",
      "  File \"C:\\Users\\Sergey\\anaconda3\\lib\\site-packages\\joblib\\parallel.py\", line 847, in dispatch_one_batch\n",
      "    self._dispatch(tasks)\n",
      "  File \"C:\\Users\\Sergey\\anaconda3\\lib\\site-packages\\joblib\\parallel.py\", line 765, in _dispatch\n",
      "    job = self._backend.apply_async(batch, callback=cb)\n",
      "  File \"C:\\Users\\Sergey\\anaconda3\\lib\\site-packages\\joblib\\_parallel_backends.py\", line 208, in apply_async\n",
      "    result = ImmediateResult(func)\n",
      "  File \"C:\\Users\\Sergey\\anaconda3\\lib\\site-packages\\joblib\\_parallel_backends.py\", line 572, in __init__\n",
      "    self.results = batch()\n",
      "  File \"C:\\Users\\Sergey\\anaconda3\\lib\\site-packages\\joblib\\parallel.py\", line 252, in __call__\n",
      "    return [func(*args, **kwargs)\n",
      "  File \"C:\\Users\\Sergey\\anaconda3\\lib\\site-packages\\joblib\\parallel.py\", line 252, in <listcomp>\n",
      "    return [func(*args, **kwargs)\n",
      "  File \"C:\\Users\\Sergey\\anaconda3\\lib\\site-packages\\sklearn\\linear_model\\_logistic.py\", line 757, in _logistic_regression_path\n",
      "    opt_res = optimize.minimize(\n",
      "  File \"C:\\Users\\Sergey\\anaconda3\\lib\\site-packages\\scipy\\optimize\\_minimize.py\", line 617, in minimize\n",
      "    return _minimize_lbfgsb(fun, x0, args, jac, bounds,\n",
      "  File \"C:\\Users\\Sergey\\anaconda3\\lib\\site-packages\\scipy\\optimize\\lbfgsb.py\", line 360, in _minimize_lbfgsb\n",
      "    f, g = func_and_grad(x)\n",
      "  File \"C:\\Users\\Sergey\\anaconda3\\lib\\site-packages\\scipy\\optimize\\_differentiable_functions.py\", line 200, in fun_and_grad\n",
      "    self._update_fun()\n",
      "  File \"C:\\Users\\Sergey\\anaconda3\\lib\\site-packages\\scipy\\optimize\\_differentiable_functions.py\", line 166, in _update_fun\n",
      "    self._update_fun_impl()\n",
      "  File \"C:\\Users\\Sergey\\anaconda3\\lib\\site-packages\\scipy\\optimize\\_differentiable_functions.py\", line 73, in update_fun\n",
      "    self.f = fun_wrapped(self.x)\n",
      "  File \"C:\\Users\\Sergey\\anaconda3\\lib\\site-packages\\scipy\\optimize\\_differentiable_functions.py\", line 70, in fun_wrapped\n",
      "    return fun(x, *args)\n",
      "  File \"C:\\Users\\Sergey\\anaconda3\\lib\\site-packages\\scipy\\optimize\\optimize.py\", line 74, in __call__\n",
      "    self._compute_if_needed(x, *args)\n",
      "  File \"C:\\Users\\Sergey\\anaconda3\\lib\\site-packages\\scipy\\optimize\\optimize.py\", line 68, in _compute_if_needed\n",
      "    fg = self.fun(x, *args)\n",
      "  File \"C:\\Users\\Sergey\\anaconda3\\lib\\site-packages\\sklearn\\linear_model\\_logistic.py\", line 122, in _logistic_loss_and_grad\n",
      "    out = -np.sum(sample_weight * log_logistic(yz)) + .5 * alpha * np.dot(w, w)\n",
      "KeyboardInterrupt\n",
      "\n",
      "During handling of the above exception, another exception occurred:\n",
      "\n",
      "Traceback (most recent call last):\n",
      "  File \"C:\\Users\\Sergey\\anaconda3\\lib\\site-packages\\IPython\\core\\interactiveshell.py\", line 2044, in showtraceback\n",
      "    stb = value._render_traceback_()\n",
      "AttributeError: 'KeyboardInterrupt' object has no attribute '_render_traceback_'\n",
      "\n",
      "During handling of the above exception, another exception occurred:\n",
      "\n",
      "Traceback (most recent call last):\n",
      "  File \"C:\\Users\\Sergey\\anaconda3\\lib\\site-packages\\IPython\\core\\interactiveshell.py\", line 3263, in run_ast_nodes\n",
      "    if (await self.run_code(code, result,  async_=asy)):\n",
      "  File \"C:\\Users\\Sergey\\anaconda3\\lib\\site-packages\\IPython\\core\\interactiveshell.py\", line 3360, in run_code\n",
      "    self.showtraceback(running_compiled_code=True)\n",
      "  File \"C:\\Users\\Sergey\\anaconda3\\lib\\site-packages\\IPython\\core\\interactiveshell.py\", line 2046, in showtraceback\n",
      "    stb = self.InteractiveTB.structured_traceback(etype,\n",
      "  File \"C:\\Users\\Sergey\\anaconda3\\lib\\site-packages\\IPython\\core\\ultratb.py\", line 1435, in structured_traceback\n",
      "    return FormattedTB.structured_traceback(\n",
      "  File \"C:\\Users\\Sergey\\anaconda3\\lib\\site-packages\\IPython\\core\\ultratb.py\", line 1335, in structured_traceback\n",
      "    return VerboseTB.structured_traceback(\n",
      "  File \"C:\\Users\\Sergey\\anaconda3\\lib\\site-packages\\IPython\\core\\ultratb.py\", line 1192, in structured_traceback\n",
      "    formatted_exception = self.format_exception_as_a_whole(etype, evalue, etb, number_of_lines_of_context,\n",
      "  File \"C:\\Users\\Sergey\\anaconda3\\lib\\site-packages\\IPython\\core\\ultratb.py\", line 1150, in format_exception_as_a_whole\n",
      "    last_unique, recursion_repeat = find_recursion(orig_etype, evalue, records)\n",
      "  File \"C:\\Users\\Sergey\\anaconda3\\lib\\site-packages\\IPython\\core\\ultratb.py\", line 451, in find_recursion\n",
      "    return len(records), 0\n",
      "TypeError: object of type 'NoneType' has no len()\n",
      "\n",
      "During handling of the above exception, another exception occurred:\n",
      "\n",
      "Traceback (most recent call last):\n",
      "  File \"C:\\Users\\Sergey\\anaconda3\\lib\\site-packages\\IPython\\core\\interactiveshell.py\", line 2044, in showtraceback\n",
      "    stb = value._render_traceback_()\n",
      "AttributeError: 'TypeError' object has no attribute '_render_traceback_'\n",
      "\n",
      "During handling of the above exception, another exception occurred:\n",
      "\n",
      "Traceback (most recent call last):\n",
      "  File \"C:\\Users\\Sergey\\anaconda3\\lib\\site-packages\\IPython\\core\\ultratb.py\", line 1169, in get_records\n",
      "    return _fixed_getinnerframes(etb, number_of_lines_of_context, tb_offset)\n",
      "  File \"C:\\Users\\Sergey\\anaconda3\\lib\\site-packages\\IPython\\core\\ultratb.py\", line 316, in wrapped\n",
      "    return f(*args, **kwargs)\n",
      "  File \"C:\\Users\\Sergey\\anaconda3\\lib\\site-packages\\IPython\\core\\ultratb.py\", line 350, in _fixed_getinnerframes\n",
      "    records = fix_frame_records_filenames(inspect.getinnerframes(etb, context))\n",
      "  File \"C:\\Users\\Sergey\\anaconda3\\lib\\inspect.py\", line 1503, in getinnerframes\n",
      "    frameinfo = (tb.tb_frame,) + getframeinfo(tb, context)\n",
      "  File \"C:\\Users\\Sergey\\anaconda3\\lib\\inspect.py\", line 1461, in getframeinfo\n",
      "    filename = getsourcefile(frame) or getfile(frame)\n",
      "  File \"C:\\Users\\Sergey\\anaconda3\\lib\\inspect.py\", line 708, in getsourcefile\n",
      "    if getattr(getmodule(object, filename), '__loader__', None) is not None:\n",
      "  File \"C:\\Users\\Sergey\\anaconda3\\lib\\inspect.py\", line 754, in getmodule\n",
      "    os.path.realpath(f)] = module.__name__\n",
      "  File \"C:\\Users\\Sergey\\anaconda3\\lib\\ntpath.py\", line 647, in realpath\n",
      "    path = _getfinalpathname(path)\n",
      "KeyboardInterrupt\n"
     ]
    },
    {
     "ename": "TypeError",
     "evalue": "object of type 'NoneType' has no len()",
     "output_type": "error",
     "traceback": [
      "\u001b[1;31m---------------------------------------------------------------------------\u001b[0m",
      "\u001b[1;31mKeyboardInterrupt\u001b[0m                         Traceback (most recent call last)",
      "    \u001b[1;31m[... skipping hidden 1 frame]\u001b[0m\n",
      "\u001b[1;32m<ipython-input-11-8734b7561ba8>\u001b[0m in \u001b[0;36m<module>\u001b[1;34m\u001b[0m\n\u001b[0;32m      5\u001b[0m                                  show_progress = True)\n\u001b[1;32m----> 6\u001b[1;33m \u001b[0mlogit_selector\u001b[0m\u001b[1;33m.\u001b[0m\u001b[0mfit\u001b[0m\u001b[1;33m(\u001b[0m\u001b[0m_X_ts_ohe_tr\u001b[0m\u001b[1;33m[\u001b[0m\u001b[1;33m:\u001b[0m\u001b[0midx_split\u001b[0m\u001b[1;33m]\u001b[0m\u001b[1;33m,\u001b[0m \u001b[0m_y_tr\u001b[0m\u001b[1;33m[\u001b[0m\u001b[1;33m:\u001b[0m\u001b[0midx_split\u001b[0m\u001b[1;33m]\u001b[0m\u001b[1;33m)\u001b[0m\u001b[1;33m\u001b[0m\u001b[1;33m\u001b[0m\u001b[0m\n\u001b[0m",
      "\u001b[1;32m<ipython-input-2-6988ce90faf1>\u001b[0m in \u001b[0;36mfit\u001b[1;34m(self, X, y)\u001b[0m\n\u001b[0;32m    267\u001b[0m \u001b[1;33m\u001b[0m\u001b[0m\n\u001b[1;32m--> 268\u001b[1;33m                     current_score = cross_validate(self.estimator, xcurr, y,\\\n\u001b[0m\u001b[0;32m    269\u001b[0m                                                    scoring =self.metric, cv = self.cv)['test_score'].mean()\n",
      "\u001b[1;32m~\\anaconda3\\lib\\site-packages\\sklearn\\utils\\validation.py\u001b[0m in \u001b[0;36minner_f\u001b[1;34m(*args, **kwargs)\u001b[0m\n\u001b[0;32m     72\u001b[0m         \u001b[0mkwargs\u001b[0m\u001b[1;33m.\u001b[0m\u001b[0mupdate\u001b[0m\u001b[1;33m(\u001b[0m\u001b[1;33m{\u001b[0m\u001b[0mk\u001b[0m\u001b[1;33m:\u001b[0m \u001b[0marg\u001b[0m \u001b[1;32mfor\u001b[0m \u001b[0mk\u001b[0m\u001b[1;33m,\u001b[0m \u001b[0marg\u001b[0m \u001b[1;32min\u001b[0m \u001b[0mzip\u001b[0m\u001b[1;33m(\u001b[0m\u001b[0msig\u001b[0m\u001b[1;33m.\u001b[0m\u001b[0mparameters\u001b[0m\u001b[1;33m,\u001b[0m \u001b[0margs\u001b[0m\u001b[1;33m)\u001b[0m\u001b[1;33m}\u001b[0m\u001b[1;33m)\u001b[0m\u001b[1;33m\u001b[0m\u001b[1;33m\u001b[0m\u001b[0m\n\u001b[1;32m---> 73\u001b[1;33m         \u001b[1;32mreturn\u001b[0m \u001b[0mf\u001b[0m\u001b[1;33m(\u001b[0m\u001b[1;33m**\u001b[0m\u001b[0mkwargs\u001b[0m\u001b[1;33m)\u001b[0m\u001b[1;33m\u001b[0m\u001b[1;33m\u001b[0m\u001b[0m\n\u001b[0m\u001b[0;32m     74\u001b[0m     \u001b[1;32mreturn\u001b[0m \u001b[0minner_f\u001b[0m\u001b[1;33m\u001b[0m\u001b[1;33m\u001b[0m\u001b[0m\n",
      "\u001b[1;32m~\\anaconda3\\lib\\site-packages\\sklearn\\model_selection\\_validation.py\u001b[0m in \u001b[0;36mcross_validate\u001b[1;34m(estimator, X, y, groups, scoring, cv, n_jobs, verbose, fit_params, pre_dispatch, return_train_score, return_estimator, error_score)\u001b[0m\n\u001b[0;32m    241\u001b[0m                         pre_dispatch=pre_dispatch)\n\u001b[1;32m--> 242\u001b[1;33m     scores = parallel(\n\u001b[0m\u001b[0;32m    243\u001b[0m         delayed(_fit_and_score)(\n",
      "\u001b[1;32m~\\anaconda3\\lib\\site-packages\\joblib\\parallel.py\u001b[0m in \u001b[0;36m__call__\u001b[1;34m(self, iterable)\u001b[0m\n\u001b[0;32m   1031\u001b[0m \u001b[1;33m\u001b[0m\u001b[0m\n\u001b[1;32m-> 1032\u001b[1;33m             \u001b[1;32mwhile\u001b[0m \u001b[0mself\u001b[0m\u001b[1;33m.\u001b[0m\u001b[0mdispatch_one_batch\u001b[0m\u001b[1;33m(\u001b[0m\u001b[0miterator\u001b[0m\u001b[1;33m)\u001b[0m\u001b[1;33m:\u001b[0m\u001b[1;33m\u001b[0m\u001b[1;33m\u001b[0m\u001b[0m\n\u001b[0m\u001b[0;32m   1033\u001b[0m                 \u001b[1;32mpass\u001b[0m\u001b[1;33m\u001b[0m\u001b[1;33m\u001b[0m\u001b[0m\n",
      "\u001b[1;32m~\\anaconda3\\lib\\site-packages\\joblib\\parallel.py\u001b[0m in \u001b[0;36mdispatch_one_batch\u001b[1;34m(self, iterator)\u001b[0m\n\u001b[0;32m    846\u001b[0m             \u001b[1;32melse\u001b[0m\u001b[1;33m:\u001b[0m\u001b[1;33m\u001b[0m\u001b[1;33m\u001b[0m\u001b[0m\n\u001b[1;32m--> 847\u001b[1;33m                 \u001b[0mself\u001b[0m\u001b[1;33m.\u001b[0m\u001b[0m_dispatch\u001b[0m\u001b[1;33m(\u001b[0m\u001b[0mtasks\u001b[0m\u001b[1;33m)\u001b[0m\u001b[1;33m\u001b[0m\u001b[1;33m\u001b[0m\u001b[0m\n\u001b[0m\u001b[0;32m    848\u001b[0m                 \u001b[1;32mreturn\u001b[0m \u001b[1;32mTrue\u001b[0m\u001b[1;33m\u001b[0m\u001b[1;33m\u001b[0m\u001b[0m\n",
      "\u001b[1;32m~\\anaconda3\\lib\\site-packages\\joblib\\parallel.py\u001b[0m in \u001b[0;36m_dispatch\u001b[1;34m(self, batch)\u001b[0m\n\u001b[0;32m    764\u001b[0m             \u001b[0mjob_idx\u001b[0m \u001b[1;33m=\u001b[0m \u001b[0mlen\u001b[0m\u001b[1;33m(\u001b[0m\u001b[0mself\u001b[0m\u001b[1;33m.\u001b[0m\u001b[0m_jobs\u001b[0m\u001b[1;33m)\u001b[0m\u001b[1;33m\u001b[0m\u001b[1;33m\u001b[0m\u001b[0m\n\u001b[1;32m--> 765\u001b[1;33m             \u001b[0mjob\u001b[0m \u001b[1;33m=\u001b[0m \u001b[0mself\u001b[0m\u001b[1;33m.\u001b[0m\u001b[0m_backend\u001b[0m\u001b[1;33m.\u001b[0m\u001b[0mapply_async\u001b[0m\u001b[1;33m(\u001b[0m\u001b[0mbatch\u001b[0m\u001b[1;33m,\u001b[0m \u001b[0mcallback\u001b[0m\u001b[1;33m=\u001b[0m\u001b[0mcb\u001b[0m\u001b[1;33m)\u001b[0m\u001b[1;33m\u001b[0m\u001b[1;33m\u001b[0m\u001b[0m\n\u001b[0m\u001b[0;32m    766\u001b[0m             \u001b[1;31m# A job can complete so quickly than its callback is\u001b[0m\u001b[1;33m\u001b[0m\u001b[1;33m\u001b[0m\u001b[1;33m\u001b[0m\u001b[0m\n",
      "\u001b[1;32m~\\anaconda3\\lib\\site-packages\\joblib\\_parallel_backends.py\u001b[0m in \u001b[0;36mapply_async\u001b[1;34m(self, func, callback)\u001b[0m\n\u001b[0;32m    207\u001b[0m         \u001b[1;34m\"\"\"Schedule a func to be run\"\"\"\u001b[0m\u001b[1;33m\u001b[0m\u001b[1;33m\u001b[0m\u001b[0m\n\u001b[1;32m--> 208\u001b[1;33m         \u001b[0mresult\u001b[0m \u001b[1;33m=\u001b[0m \u001b[0mImmediateResult\u001b[0m\u001b[1;33m(\u001b[0m\u001b[0mfunc\u001b[0m\u001b[1;33m)\u001b[0m\u001b[1;33m\u001b[0m\u001b[1;33m\u001b[0m\u001b[0m\n\u001b[0m\u001b[0;32m    209\u001b[0m         \u001b[1;32mif\u001b[0m \u001b[0mcallback\u001b[0m\u001b[1;33m:\u001b[0m\u001b[1;33m\u001b[0m\u001b[1;33m\u001b[0m\u001b[0m\n",
      "\u001b[1;32m~\\anaconda3\\lib\\site-packages\\joblib\\_parallel_backends.py\u001b[0m in \u001b[0;36m__init__\u001b[1;34m(self, batch)\u001b[0m\n\u001b[0;32m    571\u001b[0m         \u001b[1;31m# arguments in memory\u001b[0m\u001b[1;33m\u001b[0m\u001b[1;33m\u001b[0m\u001b[1;33m\u001b[0m\u001b[0m\n\u001b[1;32m--> 572\u001b[1;33m         \u001b[0mself\u001b[0m\u001b[1;33m.\u001b[0m\u001b[0mresults\u001b[0m \u001b[1;33m=\u001b[0m \u001b[0mbatch\u001b[0m\u001b[1;33m(\u001b[0m\u001b[1;33m)\u001b[0m\u001b[1;33m\u001b[0m\u001b[1;33m\u001b[0m\u001b[0m\n\u001b[0m\u001b[0;32m    573\u001b[0m \u001b[1;33m\u001b[0m\u001b[0m\n",
      "\u001b[1;32m~\\anaconda3\\lib\\site-packages\\joblib\\parallel.py\u001b[0m in \u001b[0;36m__call__\u001b[1;34m(self)\u001b[0m\n\u001b[0;32m    251\u001b[0m         \u001b[1;32mwith\u001b[0m \u001b[0mparallel_backend\u001b[0m\u001b[1;33m(\u001b[0m\u001b[0mself\u001b[0m\u001b[1;33m.\u001b[0m\u001b[0m_backend\u001b[0m\u001b[1;33m,\u001b[0m \u001b[0mn_jobs\u001b[0m\u001b[1;33m=\u001b[0m\u001b[0mself\u001b[0m\u001b[1;33m.\u001b[0m\u001b[0m_n_jobs\u001b[0m\u001b[1;33m)\u001b[0m\u001b[1;33m:\u001b[0m\u001b[1;33m\u001b[0m\u001b[1;33m\u001b[0m\u001b[0m\n\u001b[1;32m--> 252\u001b[1;33m             return [func(*args, **kwargs)\n\u001b[0m\u001b[0;32m    253\u001b[0m                     for func, args, kwargs in self.items]\n",
      "\u001b[1;32m~\\anaconda3\\lib\\site-packages\\joblib\\parallel.py\u001b[0m in \u001b[0;36m<listcomp>\u001b[1;34m(.0)\u001b[0m\n\u001b[0;32m    251\u001b[0m         \u001b[1;32mwith\u001b[0m \u001b[0mparallel_backend\u001b[0m\u001b[1;33m(\u001b[0m\u001b[0mself\u001b[0m\u001b[1;33m.\u001b[0m\u001b[0m_backend\u001b[0m\u001b[1;33m,\u001b[0m \u001b[0mn_jobs\u001b[0m\u001b[1;33m=\u001b[0m\u001b[0mself\u001b[0m\u001b[1;33m.\u001b[0m\u001b[0m_n_jobs\u001b[0m\u001b[1;33m)\u001b[0m\u001b[1;33m:\u001b[0m\u001b[1;33m\u001b[0m\u001b[1;33m\u001b[0m\u001b[0m\n\u001b[1;32m--> 252\u001b[1;33m             return [func(*args, **kwargs)\n\u001b[0m\u001b[0;32m    253\u001b[0m                     for func, args, kwargs in self.items]\n",
      "\u001b[1;32m~\\anaconda3\\lib\\site-packages\\sklearn\\model_selection\\_validation.py\u001b[0m in \u001b[0;36m_fit_and_score\u001b[1;34m(estimator, X, y, scorer, train, test, verbose, parameters, fit_params, return_train_score, return_parameters, return_n_test_samples, return_times, return_estimator, error_score)\u001b[0m\n\u001b[0;32m    530\u001b[0m         \u001b[1;32melse\u001b[0m\u001b[1;33m:\u001b[0m\u001b[1;33m\u001b[0m\u001b[1;33m\u001b[0m\u001b[0m\n\u001b[1;32m--> 531\u001b[1;33m             \u001b[0mestimator\u001b[0m\u001b[1;33m.\u001b[0m\u001b[0mfit\u001b[0m\u001b[1;33m(\u001b[0m\u001b[0mX_train\u001b[0m\u001b[1;33m,\u001b[0m \u001b[0my_train\u001b[0m\u001b[1;33m,\u001b[0m \u001b[1;33m**\u001b[0m\u001b[0mfit_params\u001b[0m\u001b[1;33m)\u001b[0m\u001b[1;33m\u001b[0m\u001b[1;33m\u001b[0m\u001b[0m\n\u001b[0m\u001b[0;32m    532\u001b[0m \u001b[1;33m\u001b[0m\u001b[0m\n",
      "\u001b[1;32m~\\anaconda3\\lib\\site-packages\\sklearn\\linear_model\\_logistic.py\u001b[0m in \u001b[0;36mfit\u001b[1;34m(self, X, y, sample_weight)\u001b[0m\n\u001b[0;32m   1406\u001b[0m             \u001b[0mprefer\u001b[0m \u001b[1;33m=\u001b[0m \u001b[1;34m'processes'\u001b[0m\u001b[1;33m\u001b[0m\u001b[1;33m\u001b[0m\u001b[0m\n\u001b[1;32m-> 1407\u001b[1;33m         fold_coefs_ = Parallel(n_jobs=self.n_jobs, verbose=self.verbose,\n\u001b[0m\u001b[0;32m   1408\u001b[0m                                \u001b[1;33m**\u001b[0m\u001b[0m_joblib_parallel_args\u001b[0m\u001b[1;33m(\u001b[0m\u001b[0mprefer\u001b[0m\u001b[1;33m=\u001b[0m\u001b[0mprefer\u001b[0m\u001b[1;33m)\u001b[0m\u001b[1;33m)\u001b[0m\u001b[1;33m(\u001b[0m\u001b[1;33m\u001b[0m\u001b[1;33m\u001b[0m\u001b[0m\n",
      "\u001b[1;32m~\\anaconda3\\lib\\site-packages\\joblib\\parallel.py\u001b[0m in \u001b[0;36m__call__\u001b[1;34m(self, iterable)\u001b[0m\n\u001b[0;32m   1028\u001b[0m             \u001b[0mself\u001b[0m\u001b[1;33m.\u001b[0m\u001b[0m_iterating\u001b[0m \u001b[1;33m=\u001b[0m \u001b[1;32mFalse\u001b[0m\u001b[1;33m\u001b[0m\u001b[1;33m\u001b[0m\u001b[0m\n\u001b[1;32m-> 1029\u001b[1;33m             \u001b[1;32mif\u001b[0m \u001b[0mself\u001b[0m\u001b[1;33m.\u001b[0m\u001b[0mdispatch_one_batch\u001b[0m\u001b[1;33m(\u001b[0m\u001b[0miterator\u001b[0m\u001b[1;33m)\u001b[0m\u001b[1;33m:\u001b[0m\u001b[1;33m\u001b[0m\u001b[1;33m\u001b[0m\u001b[0m\n\u001b[0m\u001b[0;32m   1030\u001b[0m                 \u001b[0mself\u001b[0m\u001b[1;33m.\u001b[0m\u001b[0m_iterating\u001b[0m \u001b[1;33m=\u001b[0m \u001b[0mself\u001b[0m\u001b[1;33m.\u001b[0m\u001b[0m_original_iterator\u001b[0m \u001b[1;32mis\u001b[0m \u001b[1;32mnot\u001b[0m \u001b[1;32mNone\u001b[0m\u001b[1;33m\u001b[0m\u001b[1;33m\u001b[0m\u001b[0m\n",
      "\u001b[1;32m~\\anaconda3\\lib\\site-packages\\joblib\\parallel.py\u001b[0m in \u001b[0;36mdispatch_one_batch\u001b[1;34m(self, iterator)\u001b[0m\n\u001b[0;32m    846\u001b[0m             \u001b[1;32melse\u001b[0m\u001b[1;33m:\u001b[0m\u001b[1;33m\u001b[0m\u001b[1;33m\u001b[0m\u001b[0m\n\u001b[1;32m--> 847\u001b[1;33m                 \u001b[0mself\u001b[0m\u001b[1;33m.\u001b[0m\u001b[0m_dispatch\u001b[0m\u001b[1;33m(\u001b[0m\u001b[0mtasks\u001b[0m\u001b[1;33m)\u001b[0m\u001b[1;33m\u001b[0m\u001b[1;33m\u001b[0m\u001b[0m\n\u001b[0m\u001b[0;32m    848\u001b[0m                 \u001b[1;32mreturn\u001b[0m \u001b[1;32mTrue\u001b[0m\u001b[1;33m\u001b[0m\u001b[1;33m\u001b[0m\u001b[0m\n",
      "\u001b[1;32m~\\anaconda3\\lib\\site-packages\\joblib\\parallel.py\u001b[0m in \u001b[0;36m_dispatch\u001b[1;34m(self, batch)\u001b[0m\n\u001b[0;32m    764\u001b[0m             \u001b[0mjob_idx\u001b[0m \u001b[1;33m=\u001b[0m \u001b[0mlen\u001b[0m\u001b[1;33m(\u001b[0m\u001b[0mself\u001b[0m\u001b[1;33m.\u001b[0m\u001b[0m_jobs\u001b[0m\u001b[1;33m)\u001b[0m\u001b[1;33m\u001b[0m\u001b[1;33m\u001b[0m\u001b[0m\n\u001b[1;32m--> 765\u001b[1;33m             \u001b[0mjob\u001b[0m \u001b[1;33m=\u001b[0m \u001b[0mself\u001b[0m\u001b[1;33m.\u001b[0m\u001b[0m_backend\u001b[0m\u001b[1;33m.\u001b[0m\u001b[0mapply_async\u001b[0m\u001b[1;33m(\u001b[0m\u001b[0mbatch\u001b[0m\u001b[1;33m,\u001b[0m \u001b[0mcallback\u001b[0m\u001b[1;33m=\u001b[0m\u001b[0mcb\u001b[0m\u001b[1;33m)\u001b[0m\u001b[1;33m\u001b[0m\u001b[1;33m\u001b[0m\u001b[0m\n\u001b[0m\u001b[0;32m    766\u001b[0m             \u001b[1;31m# A job can complete so quickly than its callback is\u001b[0m\u001b[1;33m\u001b[0m\u001b[1;33m\u001b[0m\u001b[1;33m\u001b[0m\u001b[0m\n",
      "\u001b[1;32m~\\anaconda3\\lib\\site-packages\\joblib\\_parallel_backends.py\u001b[0m in \u001b[0;36mapply_async\u001b[1;34m(self, func, callback)\u001b[0m\n\u001b[0;32m    207\u001b[0m         \u001b[1;34m\"\"\"Schedule a func to be run\"\"\"\u001b[0m\u001b[1;33m\u001b[0m\u001b[1;33m\u001b[0m\u001b[0m\n\u001b[1;32m--> 208\u001b[1;33m         \u001b[0mresult\u001b[0m \u001b[1;33m=\u001b[0m \u001b[0mImmediateResult\u001b[0m\u001b[1;33m(\u001b[0m\u001b[0mfunc\u001b[0m\u001b[1;33m)\u001b[0m\u001b[1;33m\u001b[0m\u001b[1;33m\u001b[0m\u001b[0m\n\u001b[0m\u001b[0;32m    209\u001b[0m         \u001b[1;32mif\u001b[0m \u001b[0mcallback\u001b[0m\u001b[1;33m:\u001b[0m\u001b[1;33m\u001b[0m\u001b[1;33m\u001b[0m\u001b[0m\n",
      "\u001b[1;32m~\\anaconda3\\lib\\site-packages\\joblib\\_parallel_backends.py\u001b[0m in \u001b[0;36m__init__\u001b[1;34m(self, batch)\u001b[0m\n\u001b[0;32m    571\u001b[0m         \u001b[1;31m# arguments in memory\u001b[0m\u001b[1;33m\u001b[0m\u001b[1;33m\u001b[0m\u001b[1;33m\u001b[0m\u001b[0m\n\u001b[1;32m--> 572\u001b[1;33m         \u001b[0mself\u001b[0m\u001b[1;33m.\u001b[0m\u001b[0mresults\u001b[0m \u001b[1;33m=\u001b[0m \u001b[0mbatch\u001b[0m\u001b[1;33m(\u001b[0m\u001b[1;33m)\u001b[0m\u001b[1;33m\u001b[0m\u001b[1;33m\u001b[0m\u001b[0m\n\u001b[0m\u001b[0;32m    573\u001b[0m \u001b[1;33m\u001b[0m\u001b[0m\n",
      "\u001b[1;32m~\\anaconda3\\lib\\site-packages\\joblib\\parallel.py\u001b[0m in \u001b[0;36m__call__\u001b[1;34m(self)\u001b[0m\n\u001b[0;32m    251\u001b[0m         \u001b[1;32mwith\u001b[0m \u001b[0mparallel_backend\u001b[0m\u001b[1;33m(\u001b[0m\u001b[0mself\u001b[0m\u001b[1;33m.\u001b[0m\u001b[0m_backend\u001b[0m\u001b[1;33m,\u001b[0m \u001b[0mn_jobs\u001b[0m\u001b[1;33m=\u001b[0m\u001b[0mself\u001b[0m\u001b[1;33m.\u001b[0m\u001b[0m_n_jobs\u001b[0m\u001b[1;33m)\u001b[0m\u001b[1;33m:\u001b[0m\u001b[1;33m\u001b[0m\u001b[1;33m\u001b[0m\u001b[0m\n\u001b[1;32m--> 252\u001b[1;33m             return [func(*args, **kwargs)\n\u001b[0m\u001b[0;32m    253\u001b[0m                     for func, args, kwargs in self.items]\n",
      "\u001b[1;32m~\\anaconda3\\lib\\site-packages\\joblib\\parallel.py\u001b[0m in \u001b[0;36m<listcomp>\u001b[1;34m(.0)\u001b[0m\n\u001b[0;32m    251\u001b[0m         \u001b[1;32mwith\u001b[0m \u001b[0mparallel_backend\u001b[0m\u001b[1;33m(\u001b[0m\u001b[0mself\u001b[0m\u001b[1;33m.\u001b[0m\u001b[0m_backend\u001b[0m\u001b[1;33m,\u001b[0m \u001b[0mn_jobs\u001b[0m\u001b[1;33m=\u001b[0m\u001b[0mself\u001b[0m\u001b[1;33m.\u001b[0m\u001b[0m_n_jobs\u001b[0m\u001b[1;33m)\u001b[0m\u001b[1;33m:\u001b[0m\u001b[1;33m\u001b[0m\u001b[1;33m\u001b[0m\u001b[0m\n\u001b[1;32m--> 252\u001b[1;33m             return [func(*args, **kwargs)\n\u001b[0m\u001b[0;32m    253\u001b[0m                     for func, args, kwargs in self.items]\n",
      "\u001b[1;32m~\\anaconda3\\lib\\site-packages\\sklearn\\linear_model\\_logistic.py\u001b[0m in \u001b[0;36m_logistic_regression_path\u001b[1;34m(X, y, pos_class, Cs, fit_intercept, max_iter, tol, verbose, solver, coef, class_weight, dual, penalty, intercept_scaling, multi_class, random_state, check_input, max_squared_sum, sample_weight, l1_ratio)\u001b[0m\n\u001b[0;32m    756\u001b[0m                 np.searchsorted(np.array([0, 1, 2, 3]), verbose)]\n\u001b[1;32m--> 757\u001b[1;33m             opt_res = optimize.minimize(\n\u001b[0m\u001b[0;32m    758\u001b[0m                 \u001b[0mfunc\u001b[0m\u001b[1;33m,\u001b[0m \u001b[0mw0\u001b[0m\u001b[1;33m,\u001b[0m \u001b[0mmethod\u001b[0m\u001b[1;33m=\u001b[0m\u001b[1;34m\"L-BFGS-B\"\u001b[0m\u001b[1;33m,\u001b[0m \u001b[0mjac\u001b[0m\u001b[1;33m=\u001b[0m\u001b[1;32mTrue\u001b[0m\u001b[1;33m,\u001b[0m\u001b[1;33m\u001b[0m\u001b[1;33m\u001b[0m\u001b[0m\n",
      "\u001b[1;32m~\\anaconda3\\lib\\site-packages\\scipy\\optimize\\_minimize.py\u001b[0m in \u001b[0;36mminimize\u001b[1;34m(fun, x0, args, method, jac, hess, hessp, bounds, constraints, tol, callback, options)\u001b[0m\n\u001b[0;32m    616\u001b[0m     \u001b[1;32melif\u001b[0m \u001b[0mmeth\u001b[0m \u001b[1;33m==\u001b[0m \u001b[1;34m'l-bfgs-b'\u001b[0m\u001b[1;33m:\u001b[0m\u001b[1;33m\u001b[0m\u001b[1;33m\u001b[0m\u001b[0m\n\u001b[1;32m--> 617\u001b[1;33m         return _minimize_lbfgsb(fun, x0, args, jac, bounds,\n\u001b[0m\u001b[0;32m    618\u001b[0m                                 callback=callback, **options)\n",
      "\u001b[1;32m~\\anaconda3\\lib\\site-packages\\scipy\\optimize\\lbfgsb.py\u001b[0m in \u001b[0;36m_minimize_lbfgsb\u001b[1;34m(fun, x0, args, jac, bounds, disp, maxcor, ftol, gtol, eps, maxfun, maxiter, iprint, callback, maxls, finite_diff_rel_step, **unknown_options)\u001b[0m\n\u001b[0;32m    359\u001b[0m             \u001b[1;31m# Overwrite f and g:\u001b[0m\u001b[1;33m\u001b[0m\u001b[1;33m\u001b[0m\u001b[1;33m\u001b[0m\u001b[0m\n\u001b[1;32m--> 360\u001b[1;33m             \u001b[0mf\u001b[0m\u001b[1;33m,\u001b[0m \u001b[0mg\u001b[0m \u001b[1;33m=\u001b[0m \u001b[0mfunc_and_grad\u001b[0m\u001b[1;33m(\u001b[0m\u001b[0mx\u001b[0m\u001b[1;33m)\u001b[0m\u001b[1;33m\u001b[0m\u001b[1;33m\u001b[0m\u001b[0m\n\u001b[0m\u001b[0;32m    361\u001b[0m         \u001b[1;32melif\u001b[0m \u001b[0mtask_str\u001b[0m\u001b[1;33m.\u001b[0m\u001b[0mstartswith\u001b[0m\u001b[1;33m(\u001b[0m\u001b[1;34mb'NEW_X'\u001b[0m\u001b[1;33m)\u001b[0m\u001b[1;33m:\u001b[0m\u001b[1;33m\u001b[0m\u001b[1;33m\u001b[0m\u001b[0m\n",
      "\u001b[1;32m~\\anaconda3\\lib\\site-packages\\scipy\\optimize\\_differentiable_functions.py\u001b[0m in \u001b[0;36mfun_and_grad\u001b[1;34m(self, x)\u001b[0m\n\u001b[0;32m    199\u001b[0m             \u001b[0mself\u001b[0m\u001b[1;33m.\u001b[0m\u001b[0m_update_x_impl\u001b[0m\u001b[1;33m(\u001b[0m\u001b[0mx\u001b[0m\u001b[1;33m)\u001b[0m\u001b[1;33m\u001b[0m\u001b[1;33m\u001b[0m\u001b[0m\n\u001b[1;32m--> 200\u001b[1;33m         \u001b[0mself\u001b[0m\u001b[1;33m.\u001b[0m\u001b[0m_update_fun\u001b[0m\u001b[1;33m(\u001b[0m\u001b[1;33m)\u001b[0m\u001b[1;33m\u001b[0m\u001b[1;33m\u001b[0m\u001b[0m\n\u001b[0m\u001b[0;32m    201\u001b[0m         \u001b[0mself\u001b[0m\u001b[1;33m.\u001b[0m\u001b[0m_update_grad\u001b[0m\u001b[1;33m(\u001b[0m\u001b[1;33m)\u001b[0m\u001b[1;33m\u001b[0m\u001b[1;33m\u001b[0m\u001b[0m\n",
      "\u001b[1;32m~\\anaconda3\\lib\\site-packages\\scipy\\optimize\\_differentiable_functions.py\u001b[0m in \u001b[0;36m_update_fun\u001b[1;34m(self)\u001b[0m\n\u001b[0;32m    165\u001b[0m         \u001b[1;32mif\u001b[0m \u001b[1;32mnot\u001b[0m \u001b[0mself\u001b[0m\u001b[1;33m.\u001b[0m\u001b[0mf_updated\u001b[0m\u001b[1;33m:\u001b[0m\u001b[1;33m\u001b[0m\u001b[1;33m\u001b[0m\u001b[0m\n\u001b[1;32m--> 166\u001b[1;33m             \u001b[0mself\u001b[0m\u001b[1;33m.\u001b[0m\u001b[0m_update_fun_impl\u001b[0m\u001b[1;33m(\u001b[0m\u001b[1;33m)\u001b[0m\u001b[1;33m\u001b[0m\u001b[1;33m\u001b[0m\u001b[0m\n\u001b[0m\u001b[0;32m    167\u001b[0m             \u001b[0mself\u001b[0m\u001b[1;33m.\u001b[0m\u001b[0mf_updated\u001b[0m \u001b[1;33m=\u001b[0m \u001b[1;32mTrue\u001b[0m\u001b[1;33m\u001b[0m\u001b[1;33m\u001b[0m\u001b[0m\n",
      "\u001b[1;32m~\\anaconda3\\lib\\site-packages\\scipy\\optimize\\_differentiable_functions.py\u001b[0m in \u001b[0;36mupdate_fun\u001b[1;34m()\u001b[0m\n\u001b[0;32m     72\u001b[0m         \u001b[1;32mdef\u001b[0m \u001b[0mupdate_fun\u001b[0m\u001b[1;33m(\u001b[0m\u001b[1;33m)\u001b[0m\u001b[1;33m:\u001b[0m\u001b[1;33m\u001b[0m\u001b[1;33m\u001b[0m\u001b[0m\n\u001b[1;32m---> 73\u001b[1;33m             \u001b[0mself\u001b[0m\u001b[1;33m.\u001b[0m\u001b[0mf\u001b[0m \u001b[1;33m=\u001b[0m \u001b[0mfun_wrapped\u001b[0m\u001b[1;33m(\u001b[0m\u001b[0mself\u001b[0m\u001b[1;33m.\u001b[0m\u001b[0mx\u001b[0m\u001b[1;33m)\u001b[0m\u001b[1;33m\u001b[0m\u001b[1;33m\u001b[0m\u001b[0m\n\u001b[0m\u001b[0;32m     74\u001b[0m \u001b[1;33m\u001b[0m\u001b[0m\n",
      "\u001b[1;32m~\\anaconda3\\lib\\site-packages\\scipy\\optimize\\_differentiable_functions.py\u001b[0m in \u001b[0;36mfun_wrapped\u001b[1;34m(x)\u001b[0m\n\u001b[0;32m     69\u001b[0m             \u001b[0mself\u001b[0m\u001b[1;33m.\u001b[0m\u001b[0mnfev\u001b[0m \u001b[1;33m+=\u001b[0m \u001b[1;36m1\u001b[0m\u001b[1;33m\u001b[0m\u001b[1;33m\u001b[0m\u001b[0m\n\u001b[1;32m---> 70\u001b[1;33m             \u001b[1;32mreturn\u001b[0m \u001b[0mfun\u001b[0m\u001b[1;33m(\u001b[0m\u001b[0mx\u001b[0m\u001b[1;33m,\u001b[0m \u001b[1;33m*\u001b[0m\u001b[0margs\u001b[0m\u001b[1;33m)\u001b[0m\u001b[1;33m\u001b[0m\u001b[1;33m\u001b[0m\u001b[0m\n\u001b[0m\u001b[0;32m     71\u001b[0m \u001b[1;33m\u001b[0m\u001b[0m\n",
      "\u001b[1;32m~\\anaconda3\\lib\\site-packages\\scipy\\optimize\\optimize.py\u001b[0m in \u001b[0;36m__call__\u001b[1;34m(self, x, *args)\u001b[0m\n\u001b[0;32m     73\u001b[0m         \u001b[1;34m\"\"\" returns the the function value \"\"\"\u001b[0m\u001b[1;33m\u001b[0m\u001b[1;33m\u001b[0m\u001b[0m\n\u001b[1;32m---> 74\u001b[1;33m         \u001b[0mself\u001b[0m\u001b[1;33m.\u001b[0m\u001b[0m_compute_if_needed\u001b[0m\u001b[1;33m(\u001b[0m\u001b[0mx\u001b[0m\u001b[1;33m,\u001b[0m \u001b[1;33m*\u001b[0m\u001b[0margs\u001b[0m\u001b[1;33m)\u001b[0m\u001b[1;33m\u001b[0m\u001b[1;33m\u001b[0m\u001b[0m\n\u001b[0m\u001b[0;32m     75\u001b[0m         \u001b[1;32mreturn\u001b[0m \u001b[0mself\u001b[0m\u001b[1;33m.\u001b[0m\u001b[0m_value\u001b[0m\u001b[1;33m\u001b[0m\u001b[1;33m\u001b[0m\u001b[0m\n",
      "\u001b[1;32m~\\anaconda3\\lib\\site-packages\\scipy\\optimize\\optimize.py\u001b[0m in \u001b[0;36m_compute_if_needed\u001b[1;34m(self, x, *args)\u001b[0m\n\u001b[0;32m     67\u001b[0m             \u001b[0mself\u001b[0m\u001b[1;33m.\u001b[0m\u001b[0mx\u001b[0m \u001b[1;33m=\u001b[0m \u001b[0mnp\u001b[0m\u001b[1;33m.\u001b[0m\u001b[0masarray\u001b[0m\u001b[1;33m(\u001b[0m\u001b[0mx\u001b[0m\u001b[1;33m)\u001b[0m\u001b[1;33m.\u001b[0m\u001b[0mcopy\u001b[0m\u001b[1;33m(\u001b[0m\u001b[1;33m)\u001b[0m\u001b[1;33m\u001b[0m\u001b[1;33m\u001b[0m\u001b[0m\n\u001b[1;32m---> 68\u001b[1;33m             \u001b[0mfg\u001b[0m \u001b[1;33m=\u001b[0m \u001b[0mself\u001b[0m\u001b[1;33m.\u001b[0m\u001b[0mfun\u001b[0m\u001b[1;33m(\u001b[0m\u001b[0mx\u001b[0m\u001b[1;33m,\u001b[0m \u001b[1;33m*\u001b[0m\u001b[0margs\u001b[0m\u001b[1;33m)\u001b[0m\u001b[1;33m\u001b[0m\u001b[1;33m\u001b[0m\u001b[0m\n\u001b[0m\u001b[0;32m     69\u001b[0m             \u001b[0mself\u001b[0m\u001b[1;33m.\u001b[0m\u001b[0mjac\u001b[0m \u001b[1;33m=\u001b[0m \u001b[0mfg\u001b[0m\u001b[1;33m[\u001b[0m\u001b[1;36m1\u001b[0m\u001b[1;33m]\u001b[0m\u001b[1;33m\u001b[0m\u001b[1;33m\u001b[0m\u001b[0m\n",
      "\u001b[1;32m~\\anaconda3\\lib\\site-packages\\sklearn\\linear_model\\_logistic.py\u001b[0m in \u001b[0;36m_logistic_loss_and_grad\u001b[1;34m(w, X, y, alpha, sample_weight)\u001b[0m\n\u001b[0;32m    121\u001b[0m     \u001b[1;31m# Logistic loss is the negative of the log of the logistic function.\u001b[0m\u001b[1;33m\u001b[0m\u001b[1;33m\u001b[0m\u001b[1;33m\u001b[0m\u001b[0m\n\u001b[1;32m--> 122\u001b[1;33m     \u001b[0mout\u001b[0m \u001b[1;33m=\u001b[0m \u001b[1;33m-\u001b[0m\u001b[0mnp\u001b[0m\u001b[1;33m.\u001b[0m\u001b[0msum\u001b[0m\u001b[1;33m(\u001b[0m\u001b[0msample_weight\u001b[0m \u001b[1;33m*\u001b[0m \u001b[0mlog_logistic\u001b[0m\u001b[1;33m(\u001b[0m\u001b[0myz\u001b[0m\u001b[1;33m)\u001b[0m\u001b[1;33m)\u001b[0m \u001b[1;33m+\u001b[0m \u001b[1;36m.5\u001b[0m \u001b[1;33m*\u001b[0m \u001b[0malpha\u001b[0m \u001b[1;33m*\u001b[0m \u001b[0mnp\u001b[0m\u001b[1;33m.\u001b[0m\u001b[0mdot\u001b[0m\u001b[1;33m(\u001b[0m\u001b[0mw\u001b[0m\u001b[1;33m,\u001b[0m \u001b[0mw\u001b[0m\u001b[1;33m)\u001b[0m\u001b[1;33m\u001b[0m\u001b[1;33m\u001b[0m\u001b[0m\n\u001b[0m\u001b[0;32m    123\u001b[0m \u001b[1;33m\u001b[0m\u001b[0m\n",
      "\u001b[1;31mKeyboardInterrupt\u001b[0m: ",
      "\nDuring handling of the above exception, another exception occurred:\n",
      "\u001b[1;31mAttributeError\u001b[0m                            Traceback (most recent call last)",
      "\u001b[1;32m~\\anaconda3\\lib\\site-packages\\IPython\\core\\interactiveshell.py\u001b[0m in \u001b[0;36mshowtraceback\u001b[1;34m(self, exc_tuple, filename, tb_offset, exception_only, running_compiled_code)\u001b[0m\n\u001b[0;32m   2043\u001b[0m                         \u001b[1;31m# in the engines. This should return a list of strings.\u001b[0m\u001b[1;33m\u001b[0m\u001b[1;33m\u001b[0m\u001b[1;33m\u001b[0m\u001b[0m\n\u001b[1;32m-> 2044\u001b[1;33m                         \u001b[0mstb\u001b[0m \u001b[1;33m=\u001b[0m \u001b[0mvalue\u001b[0m\u001b[1;33m.\u001b[0m\u001b[0m_render_traceback_\u001b[0m\u001b[1;33m(\u001b[0m\u001b[1;33m)\u001b[0m\u001b[1;33m\u001b[0m\u001b[1;33m\u001b[0m\u001b[0m\n\u001b[0m\u001b[0;32m   2045\u001b[0m                     \u001b[1;32mexcept\u001b[0m \u001b[0mException\u001b[0m\u001b[1;33m:\u001b[0m\u001b[1;33m\u001b[0m\u001b[1;33m\u001b[0m\u001b[0m\n",
      "\u001b[1;31mAttributeError\u001b[0m: 'KeyboardInterrupt' object has no attribute '_render_traceback_'",
      "\nDuring handling of the above exception, another exception occurred:\n",
      "\u001b[1;31mTypeError\u001b[0m                                 Traceback (most recent call last)",
      "\u001b[1;32m~\\anaconda3\\lib\\site-packages\\IPython\\core\\interactiveshell.py\u001b[0m in \u001b[0;36mrun_ast_nodes\u001b[1;34m(self, nodelist, cell_name, interactivity, compiler, result)\u001b[0m\n\u001b[0;32m   3262\u001b[0m                         \u001b[0masy\u001b[0m \u001b[1;33m=\u001b[0m \u001b[0mcompare\u001b[0m\u001b[1;33m(\u001b[0m\u001b[0mcode\u001b[0m\u001b[1;33m)\u001b[0m\u001b[1;33m\u001b[0m\u001b[1;33m\u001b[0m\u001b[0m\n\u001b[1;32m-> 3263\u001b[1;33m                     \u001b[1;32mif\u001b[0m \u001b[1;33m(\u001b[0m\u001b[1;32mawait\u001b[0m \u001b[0mself\u001b[0m\u001b[1;33m.\u001b[0m\u001b[0mrun_code\u001b[0m\u001b[1;33m(\u001b[0m\u001b[0mcode\u001b[0m\u001b[1;33m,\u001b[0m \u001b[0mresult\u001b[0m\u001b[1;33m,\u001b[0m  \u001b[0masync_\u001b[0m\u001b[1;33m=\u001b[0m\u001b[0masy\u001b[0m\u001b[1;33m)\u001b[0m\u001b[1;33m)\u001b[0m\u001b[1;33m:\u001b[0m\u001b[1;33m\u001b[0m\u001b[1;33m\u001b[0m\u001b[0m\n\u001b[0m\u001b[0;32m   3264\u001b[0m                         \u001b[1;32mreturn\u001b[0m \u001b[1;32mTrue\u001b[0m\u001b[1;33m\u001b[0m\u001b[1;33m\u001b[0m\u001b[0m\n",
      "    \u001b[1;31m[... skipping hidden 1 frame]\u001b[0m\n",
      "\u001b[1;32m~\\anaconda3\\lib\\site-packages\\IPython\\core\\interactiveshell.py\u001b[0m in \u001b[0;36mshowtraceback\u001b[1;34m(self, exc_tuple, filename, tb_offset, exception_only, running_compiled_code)\u001b[0m\n\u001b[0;32m   2045\u001b[0m                     \u001b[1;32mexcept\u001b[0m \u001b[0mException\u001b[0m\u001b[1;33m:\u001b[0m\u001b[1;33m\u001b[0m\u001b[1;33m\u001b[0m\u001b[0m\n\u001b[1;32m-> 2046\u001b[1;33m                         stb = self.InteractiveTB.structured_traceback(etype,\n\u001b[0m\u001b[0;32m   2047\u001b[0m                                             value, tb, tb_offset=tb_offset)\n",
      "\u001b[1;32m~\\anaconda3\\lib\\site-packages\\IPython\\core\\ultratb.py\u001b[0m in \u001b[0;36mstructured_traceback\u001b[1;34m(self, etype, value, tb, tb_offset, number_of_lines_of_context)\u001b[0m\n\u001b[0;32m   1434\u001b[0m             \u001b[0mself\u001b[0m\u001b[1;33m.\u001b[0m\u001b[0mtb\u001b[0m \u001b[1;33m=\u001b[0m \u001b[0mtb\u001b[0m\u001b[1;33m\u001b[0m\u001b[1;33m\u001b[0m\u001b[0m\n\u001b[1;32m-> 1435\u001b[1;33m         return FormattedTB.structured_traceback(\n\u001b[0m\u001b[0;32m   1436\u001b[0m             self, etype, value, tb, tb_offset, number_of_lines_of_context)\n",
      "\u001b[1;32m~\\anaconda3\\lib\\site-packages\\IPython\\core\\ultratb.py\u001b[0m in \u001b[0;36mstructured_traceback\u001b[1;34m(self, etype, value, tb, tb_offset, number_of_lines_of_context)\u001b[0m\n\u001b[0;32m   1334\u001b[0m             \u001b[1;31m# Verbose modes need a full traceback\u001b[0m\u001b[1;33m\u001b[0m\u001b[1;33m\u001b[0m\u001b[1;33m\u001b[0m\u001b[0m\n\u001b[1;32m-> 1335\u001b[1;33m             return VerboseTB.structured_traceback(\n\u001b[0m\u001b[0;32m   1336\u001b[0m                 \u001b[0mself\u001b[0m\u001b[1;33m,\u001b[0m \u001b[0metype\u001b[0m\u001b[1;33m,\u001b[0m \u001b[0mvalue\u001b[0m\u001b[1;33m,\u001b[0m \u001b[0mtb\u001b[0m\u001b[1;33m,\u001b[0m \u001b[0mtb_offset\u001b[0m\u001b[1;33m,\u001b[0m \u001b[0mnumber_of_lines_of_context\u001b[0m\u001b[1;33m\u001b[0m\u001b[1;33m\u001b[0m\u001b[0m\n",
      "\u001b[1;32m~\\anaconda3\\lib\\site-packages\\IPython\\core\\ultratb.py\u001b[0m in \u001b[0;36mstructured_traceback\u001b[1;34m(self, etype, evalue, etb, tb_offset, number_of_lines_of_context)\u001b[0m\n\u001b[0;32m   1191\u001b[0m \u001b[1;33m\u001b[0m\u001b[0m\n\u001b[1;32m-> 1192\u001b[1;33m         formatted_exception = self.format_exception_as_a_whole(etype, evalue, etb, number_of_lines_of_context,\n\u001b[0m\u001b[0;32m   1193\u001b[0m                                                                tb_offset)\n",
      "\u001b[1;32m~\\anaconda3\\lib\\site-packages\\IPython\\core\\ultratb.py\u001b[0m in \u001b[0;36mformat_exception_as_a_whole\u001b[1;34m(self, etype, evalue, etb, number_of_lines_of_context, tb_offset)\u001b[0m\n\u001b[0;32m   1149\u001b[0m \u001b[1;33m\u001b[0m\u001b[0m\n\u001b[1;32m-> 1150\u001b[1;33m         \u001b[0mlast_unique\u001b[0m\u001b[1;33m,\u001b[0m \u001b[0mrecursion_repeat\u001b[0m \u001b[1;33m=\u001b[0m \u001b[0mfind_recursion\u001b[0m\u001b[1;33m(\u001b[0m\u001b[0morig_etype\u001b[0m\u001b[1;33m,\u001b[0m \u001b[0mevalue\u001b[0m\u001b[1;33m,\u001b[0m \u001b[0mrecords\u001b[0m\u001b[1;33m)\u001b[0m\u001b[1;33m\u001b[0m\u001b[1;33m\u001b[0m\u001b[0m\n\u001b[0m\u001b[0;32m   1151\u001b[0m \u001b[1;33m\u001b[0m\u001b[0m\n",
      "\u001b[1;32m~\\anaconda3\\lib\\site-packages\\IPython\\core\\ultratb.py\u001b[0m in \u001b[0;36mfind_recursion\u001b[1;34m(etype, value, records)\u001b[0m\n\u001b[0;32m    450\u001b[0m     \u001b[1;32mif\u001b[0m \u001b[1;32mnot\u001b[0m \u001b[0mis_recursion_error\u001b[0m\u001b[1;33m(\u001b[0m\u001b[0metype\u001b[0m\u001b[1;33m,\u001b[0m \u001b[0mvalue\u001b[0m\u001b[1;33m,\u001b[0m \u001b[0mrecords\u001b[0m\u001b[1;33m)\u001b[0m\u001b[1;33m:\u001b[0m\u001b[1;33m\u001b[0m\u001b[1;33m\u001b[0m\u001b[0m\n\u001b[1;32m--> 451\u001b[1;33m         \u001b[1;32mreturn\u001b[0m \u001b[0mlen\u001b[0m\u001b[1;33m(\u001b[0m\u001b[0mrecords\u001b[0m\u001b[1;33m)\u001b[0m\u001b[1;33m,\u001b[0m \u001b[1;36m0\u001b[0m\u001b[1;33m\u001b[0m\u001b[1;33m\u001b[0m\u001b[0m\n\u001b[0m\u001b[0;32m    452\u001b[0m \u001b[1;33m\u001b[0m\u001b[0m\n",
      "\u001b[1;31mTypeError\u001b[0m: object of type 'NoneType' has no len()",
      "\nDuring handling of the above exception, another exception occurred:\n",
      "\u001b[1;31mAttributeError\u001b[0m                            Traceback (most recent call last)",
      "\u001b[1;32m~\\anaconda3\\lib\\site-packages\\IPython\\core\\interactiveshell.py\u001b[0m in \u001b[0;36mshowtraceback\u001b[1;34m(self, exc_tuple, filename, tb_offset, exception_only, running_compiled_code)\u001b[0m\n\u001b[0;32m   2043\u001b[0m                         \u001b[1;31m# in the engines. This should return a list of strings.\u001b[0m\u001b[1;33m\u001b[0m\u001b[1;33m\u001b[0m\u001b[1;33m\u001b[0m\u001b[0m\n\u001b[1;32m-> 2044\u001b[1;33m                         \u001b[0mstb\u001b[0m \u001b[1;33m=\u001b[0m \u001b[0mvalue\u001b[0m\u001b[1;33m.\u001b[0m\u001b[0m_render_traceback_\u001b[0m\u001b[1;33m(\u001b[0m\u001b[1;33m)\u001b[0m\u001b[1;33m\u001b[0m\u001b[1;33m\u001b[0m\u001b[0m\n\u001b[0m\u001b[0;32m   2045\u001b[0m                     \u001b[1;32mexcept\u001b[0m \u001b[0mException\u001b[0m\u001b[1;33m:\u001b[0m\u001b[1;33m\u001b[0m\u001b[1;33m\u001b[0m\u001b[0m\n",
      "\u001b[1;31mAttributeError\u001b[0m: 'TypeError' object has no attribute '_render_traceback_'",
      "\nDuring handling of the above exception, another exception occurred:\n",
      "\u001b[1;31mTypeError\u001b[0m                                 Traceback (most recent call last)",
      "\u001b[1;32m~\\anaconda3\\lib\\site-packages\\IPython\\core\\async_helpers.py\u001b[0m in \u001b[0;36m_pseudo_sync_runner\u001b[1;34m(coro)\u001b[0m\n\u001b[0;32m     66\u001b[0m     \"\"\"\n\u001b[0;32m     67\u001b[0m     \u001b[1;32mtry\u001b[0m\u001b[1;33m:\u001b[0m\u001b[1;33m\u001b[0m\u001b[1;33m\u001b[0m\u001b[0m\n\u001b[1;32m---> 68\u001b[1;33m         \u001b[0mcoro\u001b[0m\u001b[1;33m.\u001b[0m\u001b[0msend\u001b[0m\u001b[1;33m(\u001b[0m\u001b[1;32mNone\u001b[0m\u001b[1;33m)\u001b[0m\u001b[1;33m\u001b[0m\u001b[1;33m\u001b[0m\u001b[0m\n\u001b[0m\u001b[0;32m     69\u001b[0m     \u001b[1;32mexcept\u001b[0m \u001b[0mStopIteration\u001b[0m \u001b[1;32mas\u001b[0m \u001b[0mexc\u001b[0m\u001b[1;33m:\u001b[0m\u001b[1;33m\u001b[0m\u001b[1;33m\u001b[0m\u001b[0m\n\u001b[0;32m     70\u001b[0m         \u001b[1;32mreturn\u001b[0m \u001b[0mexc\u001b[0m\u001b[1;33m.\u001b[0m\u001b[0mvalue\u001b[0m\u001b[1;33m\u001b[0m\u001b[1;33m\u001b[0m\u001b[0m\n",
      "\u001b[1;32m~\\anaconda3\\lib\\site-packages\\IPython\\core\\interactiveshell.py\u001b[0m in \u001b[0;36mrun_cell_async\u001b[1;34m(self, raw_cell, store_history, silent, shell_futures)\u001b[0m\n\u001b[0;32m   3069\u001b[0m                     \u001b[0minteractivity\u001b[0m \u001b[1;33m=\u001b[0m \u001b[1;34m'async'\u001b[0m\u001b[1;33m\u001b[0m\u001b[1;33m\u001b[0m\u001b[0m\n\u001b[0;32m   3070\u001b[0m \u001b[1;33m\u001b[0m\u001b[0m\n\u001b[1;32m-> 3071\u001b[1;33m                 has_raised = await self.run_ast_nodes(code_ast.body, cell_name,\n\u001b[0m\u001b[0;32m   3072\u001b[0m                        interactivity=interactivity, compiler=compiler, result=result)\n\u001b[0;32m   3073\u001b[0m \u001b[1;33m\u001b[0m\u001b[0m\n",
      "\u001b[1;32m~\\anaconda3\\lib\\site-packages\\IPython\\core\\interactiveshell.py\u001b[0m in \u001b[0;36mrun_ast_nodes\u001b[1;34m(self, nodelist, cell_name, interactivity, compiler, result)\u001b[0m\n\u001b[0;32m   3280\u001b[0m             \u001b[1;32mif\u001b[0m \u001b[0mresult\u001b[0m\u001b[1;33m:\u001b[0m\u001b[1;33m\u001b[0m\u001b[1;33m\u001b[0m\u001b[0m\n\u001b[0;32m   3281\u001b[0m                 \u001b[0mresult\u001b[0m\u001b[1;33m.\u001b[0m\u001b[0merror_before_exec\u001b[0m \u001b[1;33m=\u001b[0m \u001b[0msys\u001b[0m\u001b[1;33m.\u001b[0m\u001b[0mexc_info\u001b[0m\u001b[1;33m(\u001b[0m\u001b[1;33m)\u001b[0m\u001b[1;33m[\u001b[0m\u001b[1;36m1\u001b[0m\u001b[1;33m]\u001b[0m\u001b[1;33m\u001b[0m\u001b[1;33m\u001b[0m\u001b[0m\n\u001b[1;32m-> 3282\u001b[1;33m             \u001b[0mself\u001b[0m\u001b[1;33m.\u001b[0m\u001b[0mshowtraceback\u001b[0m\u001b[1;33m(\u001b[0m\u001b[1;33m)\u001b[0m\u001b[1;33m\u001b[0m\u001b[1;33m\u001b[0m\u001b[0m\n\u001b[0m\u001b[0;32m   3283\u001b[0m             \u001b[1;32mreturn\u001b[0m \u001b[1;32mTrue\u001b[0m\u001b[1;33m\u001b[0m\u001b[1;33m\u001b[0m\u001b[0m\n\u001b[0;32m   3284\u001b[0m \u001b[1;33m\u001b[0m\u001b[0m\n",
      "\u001b[1;32m~\\anaconda3\\lib\\site-packages\\IPython\\core\\interactiveshell.py\u001b[0m in \u001b[0;36mshowtraceback\u001b[1;34m(self, exc_tuple, filename, tb_offset, exception_only, running_compiled_code)\u001b[0m\n\u001b[0;32m   2044\u001b[0m                         \u001b[0mstb\u001b[0m \u001b[1;33m=\u001b[0m \u001b[0mvalue\u001b[0m\u001b[1;33m.\u001b[0m\u001b[0m_render_traceback_\u001b[0m\u001b[1;33m(\u001b[0m\u001b[1;33m)\u001b[0m\u001b[1;33m\u001b[0m\u001b[1;33m\u001b[0m\u001b[0m\n\u001b[0;32m   2045\u001b[0m                     \u001b[1;32mexcept\u001b[0m \u001b[0mException\u001b[0m\u001b[1;33m:\u001b[0m\u001b[1;33m\u001b[0m\u001b[1;33m\u001b[0m\u001b[0m\n\u001b[1;32m-> 2046\u001b[1;33m                         stb = self.InteractiveTB.structured_traceback(etype,\n\u001b[0m\u001b[0;32m   2047\u001b[0m                                             value, tb, tb_offset=tb_offset)\n\u001b[0;32m   2048\u001b[0m \u001b[1;33m\u001b[0m\u001b[0m\n",
      "\u001b[1;32m~\\anaconda3\\lib\\site-packages\\IPython\\core\\ultratb.py\u001b[0m in \u001b[0;36mstructured_traceback\u001b[1;34m(self, etype, value, tb, tb_offset, number_of_lines_of_context)\u001b[0m\n\u001b[0;32m   1433\u001b[0m         \u001b[1;32melse\u001b[0m\u001b[1;33m:\u001b[0m\u001b[1;33m\u001b[0m\u001b[1;33m\u001b[0m\u001b[0m\n\u001b[0;32m   1434\u001b[0m             \u001b[0mself\u001b[0m\u001b[1;33m.\u001b[0m\u001b[0mtb\u001b[0m \u001b[1;33m=\u001b[0m \u001b[0mtb\u001b[0m\u001b[1;33m\u001b[0m\u001b[1;33m\u001b[0m\u001b[0m\n\u001b[1;32m-> 1435\u001b[1;33m         return FormattedTB.structured_traceback(\n\u001b[0m\u001b[0;32m   1436\u001b[0m             self, etype, value, tb, tb_offset, number_of_lines_of_context)\n\u001b[0;32m   1437\u001b[0m \u001b[1;33m\u001b[0m\u001b[0m\n",
      "\u001b[1;32m~\\anaconda3\\lib\\site-packages\\IPython\\core\\ultratb.py\u001b[0m in \u001b[0;36mstructured_traceback\u001b[1;34m(self, etype, value, tb, tb_offset, number_of_lines_of_context)\u001b[0m\n\u001b[0;32m   1333\u001b[0m         \u001b[1;32mif\u001b[0m \u001b[0mmode\u001b[0m \u001b[1;32min\u001b[0m \u001b[0mself\u001b[0m\u001b[1;33m.\u001b[0m\u001b[0mverbose_modes\u001b[0m\u001b[1;33m:\u001b[0m\u001b[1;33m\u001b[0m\u001b[1;33m\u001b[0m\u001b[0m\n\u001b[0;32m   1334\u001b[0m             \u001b[1;31m# Verbose modes need a full traceback\u001b[0m\u001b[1;33m\u001b[0m\u001b[1;33m\u001b[0m\u001b[1;33m\u001b[0m\u001b[0m\n\u001b[1;32m-> 1335\u001b[1;33m             return VerboseTB.structured_traceback(\n\u001b[0m\u001b[0;32m   1336\u001b[0m                 \u001b[0mself\u001b[0m\u001b[1;33m,\u001b[0m \u001b[0metype\u001b[0m\u001b[1;33m,\u001b[0m \u001b[0mvalue\u001b[0m\u001b[1;33m,\u001b[0m \u001b[0mtb\u001b[0m\u001b[1;33m,\u001b[0m \u001b[0mtb_offset\u001b[0m\u001b[1;33m,\u001b[0m \u001b[0mnumber_of_lines_of_context\u001b[0m\u001b[1;33m\u001b[0m\u001b[1;33m\u001b[0m\u001b[0m\n\u001b[0;32m   1337\u001b[0m             )\n",
      "\u001b[1;32m~\\anaconda3\\lib\\site-packages\\IPython\\core\\ultratb.py\u001b[0m in \u001b[0;36mstructured_traceback\u001b[1;34m(self, etype, evalue, etb, tb_offset, number_of_lines_of_context)\u001b[0m\n\u001b[0;32m   1208\u001b[0m         \u001b[0mchained_exc_ids\u001b[0m \u001b[1;33m=\u001b[0m \u001b[0mset\u001b[0m\u001b[1;33m(\u001b[0m\u001b[1;33m)\u001b[0m\u001b[1;33m\u001b[0m\u001b[1;33m\u001b[0m\u001b[0m\n\u001b[0;32m   1209\u001b[0m         \u001b[1;32mwhile\u001b[0m \u001b[0mevalue\u001b[0m\u001b[1;33m:\u001b[0m\u001b[1;33m\u001b[0m\u001b[1;33m\u001b[0m\u001b[0m\n\u001b[1;32m-> 1210\u001b[1;33m             formatted_exceptions += self.format_exception_as_a_whole(etype, evalue, etb, lines_of_context,\n\u001b[0m\u001b[0;32m   1211\u001b[0m                                                                      chained_exceptions_tb_offset)\n\u001b[0;32m   1212\u001b[0m             \u001b[0mexception\u001b[0m \u001b[1;33m=\u001b[0m \u001b[0mself\u001b[0m\u001b[1;33m.\u001b[0m\u001b[0mget_parts_of_chained_exception\u001b[0m\u001b[1;33m(\u001b[0m\u001b[0mevalue\u001b[0m\u001b[1;33m)\u001b[0m\u001b[1;33m\u001b[0m\u001b[1;33m\u001b[0m\u001b[0m\n",
      "\u001b[1;32m~\\anaconda3\\lib\\site-packages\\IPython\\core\\ultratb.py\u001b[0m in \u001b[0;36mformat_exception_as_a_whole\u001b[1;34m(self, etype, evalue, etb, number_of_lines_of_context, tb_offset)\u001b[0m\n\u001b[0;32m   1148\u001b[0m \u001b[1;33m\u001b[0m\u001b[0m\n\u001b[0;32m   1149\u001b[0m \u001b[1;33m\u001b[0m\u001b[0m\n\u001b[1;32m-> 1150\u001b[1;33m         \u001b[0mlast_unique\u001b[0m\u001b[1;33m,\u001b[0m \u001b[0mrecursion_repeat\u001b[0m \u001b[1;33m=\u001b[0m \u001b[0mfind_recursion\u001b[0m\u001b[1;33m(\u001b[0m\u001b[0morig_etype\u001b[0m\u001b[1;33m,\u001b[0m \u001b[0mevalue\u001b[0m\u001b[1;33m,\u001b[0m \u001b[0mrecords\u001b[0m\u001b[1;33m)\u001b[0m\u001b[1;33m\u001b[0m\u001b[1;33m\u001b[0m\u001b[0m\n\u001b[0m\u001b[0;32m   1151\u001b[0m \u001b[1;33m\u001b[0m\u001b[0m\n\u001b[0;32m   1152\u001b[0m         \u001b[0mframes\u001b[0m \u001b[1;33m=\u001b[0m \u001b[0mself\u001b[0m\u001b[1;33m.\u001b[0m\u001b[0mformat_records\u001b[0m\u001b[1;33m(\u001b[0m\u001b[0mrecords\u001b[0m\u001b[1;33m,\u001b[0m \u001b[0mlast_unique\u001b[0m\u001b[1;33m,\u001b[0m \u001b[0mrecursion_repeat\u001b[0m\u001b[1;33m)\u001b[0m\u001b[1;33m\u001b[0m\u001b[1;33m\u001b[0m\u001b[0m\n",
      "\u001b[1;32m~\\anaconda3\\lib\\site-packages\\IPython\\core\\ultratb.py\u001b[0m in \u001b[0;36mfind_recursion\u001b[1;34m(etype, value, records)\u001b[0m\n\u001b[0;32m    449\u001b[0m     \u001b[1;31m# first frame (from in to out) that looks different.\u001b[0m\u001b[1;33m\u001b[0m\u001b[1;33m\u001b[0m\u001b[1;33m\u001b[0m\u001b[0m\n\u001b[0;32m    450\u001b[0m     \u001b[1;32mif\u001b[0m \u001b[1;32mnot\u001b[0m \u001b[0mis_recursion_error\u001b[0m\u001b[1;33m(\u001b[0m\u001b[0metype\u001b[0m\u001b[1;33m,\u001b[0m \u001b[0mvalue\u001b[0m\u001b[1;33m,\u001b[0m \u001b[0mrecords\u001b[0m\u001b[1;33m)\u001b[0m\u001b[1;33m:\u001b[0m\u001b[1;33m\u001b[0m\u001b[1;33m\u001b[0m\u001b[0m\n\u001b[1;32m--> 451\u001b[1;33m         \u001b[1;32mreturn\u001b[0m \u001b[0mlen\u001b[0m\u001b[1;33m(\u001b[0m\u001b[0mrecords\u001b[0m\u001b[1;33m)\u001b[0m\u001b[1;33m,\u001b[0m \u001b[1;36m0\u001b[0m\u001b[1;33m\u001b[0m\u001b[1;33m\u001b[0m\u001b[0m\n\u001b[0m\u001b[0;32m    452\u001b[0m \u001b[1;33m\u001b[0m\u001b[0m\n\u001b[0;32m    453\u001b[0m     \u001b[1;31m# Select filename, lineno, func_name to track frames with\u001b[0m\u001b[1;33m\u001b[0m\u001b[1;33m\u001b[0m\u001b[1;33m\u001b[0m\u001b[0m\n",
      "\u001b[1;31mTypeError\u001b[0m: object of type 'NoneType' has no len()"
     ]
    }
   ],
   "source": [
    "# отбираем признаки даты для логита\n",
    "logit_selector = FeatureSelector(estimator = logit_clf, cv = TSCV,\\\n",
    "                                 metric = 'roc_auc', use_recursion = True,\\\n",
    "                                 fill_value = -1, use_value = None,\\\n",
    "                                 show_progress = True)\n",
    "logit_selector.fit(_X_ts_ohe_tr[:idx_split], _y_tr[:idx_split])"
   ]
  },
  {
   "cell_type": "code",
   "execution_count": 40,
   "metadata": {},
   "outputs": [],
   "source": []
  },
  {
   "cell_type": "code",
   "execution_count": 41,
   "metadata": {},
   "outputs": [],
   "source": []
  },
  {
   "cell_type": "code",
   "execution_count": 55,
   "metadata": {},
   "outputs": [
    {
     "data": {
      "application/vnd.jupyter.widget-view+json": {
       "model_id": "d14beaf1b81b4f48a40fddd7bf71d89b",
       "version_major": 2,
       "version_minor": 0
      },
      "text/plain": [
       "HBox(children=(FloatProgress(value=0.0, max=3.0), HTML(value='')))"
      ]
     },
     "metadata": {},
     "output_type": "display_data"
    },
    {
     "data": {
      "application/vnd.jupyter.widget-view+json": {
       "model_id": "dfe915a48f454de2a74bc8e2761cdc68",
       "version_major": 2,
       "version_minor": 0
      },
      "text/plain": [
       "HBox(children=(FloatProgress(value=0.0), HTML(value='')))"
      ]
     },
     "metadata": {},
     "output_type": "display_data"
    },
    {
     "name": "stdout",
     "output_type": "stream",
     "text": [
      "\n"
     ]
    },
    {
     "data": {
      "application/vnd.jupyter.widget-view+json": {
       "model_id": "f748ff398b744cbf9bb23f6721e98465",
       "version_major": 2,
       "version_minor": 0
      },
      "text/plain": [
       "HBox(children=(FloatProgress(value=0.0), HTML(value='')))"
      ]
     },
     "metadata": {},
     "output_type": "display_data"
    },
    {
     "name": "stdout",
     "output_type": "stream",
     "text": [
      "\n"
     ]
    },
    {
     "data": {
      "application/vnd.jupyter.widget-view+json": {
       "model_id": "6eb19cf3d11742d68b9dcbbf816533c6",
       "version_major": 2,
       "version_minor": 0
      },
      "text/plain": [
       "HBox(children=(FloatProgress(value=0.0), HTML(value='')))"
      ]
     },
     "metadata": {},
     "output_type": "display_data"
    },
    {
     "name": "stdout",
     "output_type": "stream",
     "text": [
      "\n",
      "\n"
     ]
    }
   ],
   "source": [
    "cv_sites = []\n",
    "maxfeatures_range = (1e2, 1e3, 1e4, 1e5)\n",
    "ngram_range_range = ((1,2), (1, 3), (1, 4))\n",
    "for _ngram_range in tqdm_notebook(ngram_range_range):    \n",
    "    for i, _max_features in tqdm_notebook(enumerate(maxfeatures_range), total = len(maxfeatures_range)):\n",
    "        vec = TfidfVectorizer(ngram_range = _ngram_range, max_features = _max_features)\n",
    "        tfidf_full = vec.fit_transform(pd.concat([sites_tr, df_te[sites]], 0).astype(str).apply(lambda x: '_'.join(x), axis = 1))\n",
    "        tfidf_tr = tfidf12_full[:len(y_tr)]\n",
    "        cv_sites.append((n, i,\\\n",
    "                         cross_validate(lgb_clf, tfidf_tr[:idx_split], _y_tr[:idx_split],\\\n",
    "                                        scoring = 'roc_auc', cv = TSCV)['test_score'].mean(),\\\n",
    "                         cross_validate(logit_clf, tfidf_tr[:idx_split], _y_tr[:idx_split],\\\n",
    "                                        scoring = 'roc_auc', cv = TSCV)['test_score'].mean()))\n",
    "        "
   ]
  },
  {
   "cell_type": "code",
   "execution_count": 56,
   "metadata": {
    "scrolled": false
   },
   "outputs": [
    {
     "data": {
      "text/plain": [
       "[(2, 0, 0.8796130969359011),\n",
       " (2, 1, 0.8811247839402754),\n",
       " (2, 2, 0.8810636546491293),\n",
       " (2, 3, 0.882962592793179),\n",
       " (2, 4, 0.8821374061988855),\n",
       " (2, 5, 0.8826950098891215),\n",
       " (2, 6, 0.8823655392205821),\n",
       " (2, 7, 0.8799434663333914),\n",
       " (2, 8, 0.8836145563952456),\n",
       " (2, 9, 0.8798578129654416),\n",
       " (2, 10, 0.8843096480903438),\n",
       " (2, 11, 0.884502781913048),\n",
       " (2, 12, 0.8847378511070938),\n",
       " (2, 13, 0.8838533256382559),\n",
       " (2, 14, 0.8858453219058625),\n",
       " (2, 15, 0.8871112099282197),\n",
       " (2, 16, 0.884947476305779),\n",
       " (2, 17, 0.8868134366726654),\n",
       " (2, 18, 0.8850305674839518),\n",
       " (2, 19, 0.8870584335957661),\n",
       " (2, 20, 0.8865154793899018),\n",
       " (2, 21, 0.8874689324006886),\n",
       " (2, 22, 0.8882551443570053),\n",
       " (2, 23, 0.8885612765253499),\n",
       " (2, 24, 0.8867739848654413),\n",
       " (2, 25, 0.8882176931570595),\n",
       " (2, 26, 0.8874434358618509),\n",
       " (2, 27, 0.8873067201718827),\n",
       " (2, 28, 0.8859888796263669),\n",
       " (2, 29, 0.8852145130731448),\n",
       " (2, 30, 0.8857926140956811),\n",
       " (2, 31, 0.888151494631783),\n",
       " (2, 32, 0.8885285331294152),\n",
       " (2, 33, 0.8879410757904648),\n",
       " (2, 34, 0.8870453448358567),\n",
       " (2, 35, 0.8880113114643498),\n",
       " (2, 36, 0.8867108270335977),\n",
       " (2, 37, 0.8877007875235124),\n",
       " (2, 38, 0.8878102750331025),\n",
       " (2, 39, 0.8892156148658696),\n",
       " (2, 40, 0.8878293612005661),\n",
       " (2, 41, 0.8875443247795072),\n",
       " (2, 42, 0.888173695533583),\n",
       " (2, 43, 0.8872967226459265),\n",
       " (2, 44, 0.8885613094259734),\n",
       " (2, 45, 0.8879351142236565),\n",
       " (2, 46, 0.8882321432823749),\n",
       " (2, 47, 0.8880164361019656),\n",
       " (2, 48, 0.8875789316403793),\n",
       " (2, 49, 0.8868004800846369),\n",
       " (2, 50, 0.8877049845752387),\n",
       " (2, 51, 0.8871995091336884),\n",
       " (2, 52, 0.8862479071583027),\n",
       " (2, 53, 0.887075695565333),\n",
       " (2, 54, 0.887075695565333),\n",
       " (2, 55, 0.887075695565333),\n",
       " (2, 56, 0.887075695565333),\n",
       " (2, 57, 0.887075695565333),\n",
       " (2, 58, 0.8871022601766775),\n",
       " (2, 59, 0.8871022601766775),\n",
       " (2, 60, 0.8871022601766775),\n",
       " (2, 61, 0.8871022345165844),\n",
       " (2, 62, 0.8871022345165844),\n",
       " (2, 63, 0.8871022345165844),\n",
       " (2, 64, 0.8871022345165844),\n",
       " (2, 65, 0.8871022345165844),\n",
       " (2, 66, 0.8871022345165844),\n",
       " (2, 67, 0.8871022345165844),\n",
       " (2, 68, 0.8871022345165844),\n",
       " (2, 69, 0.8871022345165844),\n",
       " (2, 70, 0.8871022345165844),\n",
       " (2, 71, 0.8871022345165844),\n",
       " (2, 72, 0.8880792532464572),\n",
       " (2, 73, 0.8886637155194146),\n",
       " (2, 74, 0.8898959805141576),\n",
       " (2, 75, 0.8880322388442361),\n",
       " (2, 76, 0.8897920006146355),\n",
       " (2, 77, 0.8886888488760019),\n",
       " (2, 78, 0.8891898997383407),\n",
       " (2, 79, 0.8879533101849879),\n",
       " (2, 80, 0.8879940726200675),\n",
       " (2, 81, 0.8881796213549953),\n",
       " (2, 82, 0.8884229571242881),\n",
       " (2, 83, 0.8888474273650941),\n",
       " (2, 84, 0.8891899992738146),\n",
       " (2, 85, 0.8880647884522032),\n",
       " (2, 86, 0.8889867214393677),\n",
       " (2, 87, 0.8886583646114931),\n",
       " (2, 88, 0.8886395072782842),\n",
       " (2, 89, 0.8882374705750014),\n",
       " (2, 90, 0.8888330305687656),\n",
       " (2, 91, 0.8892624249736469),\n",
       " (2, 92, 0.8878805257482913),\n",
       " (2, 93, 0.8881319613069976),\n",
       " (2, 94, 0.8880130483775837),\n",
       " (2, 95, 0.8883766728389048),\n",
       " (2, 96, 0.8885546856589464),\n",
       " (2, 97, 0.888343985732032),\n",
       " (2, 98, 0.8885236881014003),\n",
       " (2, 99, 0.8883108041416733),\n",
       " (3, 0, 0.882783854969692),\n",
       " (3, 1, 0.884628602038454),\n",
       " (3, 2, 0.886191123561424),\n",
       " (3, 3, 0.8832919953195424),\n",
       " (3, 4, 0.88278983938925),\n",
       " (3, 5, 0.8825339269580078),\n",
       " (3, 6, 0.8828873985200775),\n",
       " (3, 7, 0.8814246060116473),\n",
       " (3, 8, 0.8825323683911565),\n",
       " (3, 9, 0.8820537311278116),\n",
       " (3, 10, 0.8832774688042926),\n",
       " (3, 11, 0.8828088139111148),\n",
       " (3, 12, 0.881825015522469),\n",
       " (3, 13, 0.8846117425127162),\n",
       " (3, 14, 0.8821626645319556),\n",
       " (3, 15, 0.8821767977710779),\n",
       " (3, 16, 0.8837671181049936),\n",
       " (3, 17, 0.8829675957123897),\n",
       " (3, 18, 0.8813807609175053),\n",
       " (3, 19, 0.8821833165273649),\n",
       " (3, 20, 0.8823493593288612),\n",
       " (3, 21, 0.8836021004384469),\n",
       " (3, 22, 0.8833916643239061),\n",
       " (3, 23, 0.8812077538487292),\n",
       " (3, 24, 0.8806535196486125),\n",
       " (3, 25, 0.8820323650688885),\n",
       " (3, 26, 0.881321019301639),\n",
       " (3, 27, 0.8818840906242739),\n",
       " (3, 28, 0.8830803089237529),\n",
       " (3, 29, 0.8834007852372784),\n",
       " (3, 30, 0.8828669763059638),\n",
       " (3, 31, 0.8824653011738468),\n",
       " (3, 32, 0.882466506386451),\n",
       " (3, 33, 0.8837566071237271),\n",
       " (3, 34, 0.8834741283879914),\n",
       " (3, 35, 0.8837022421230862),\n",
       " (3, 36, 0.882977626273036),\n",
       " (3, 37, 0.8836891515493143),\n",
       " (3, 38, 0.8837429995280554),\n",
       " (3, 39, 0.8840094738898789),\n",
       " (3, 40, 0.8838647919508593),\n",
       " (3, 41, 0.8837266796813683),\n",
       " (3, 42, 0.882099756815182),\n",
       " (3, 43, 0.8831096265760774),\n",
       " (3, 44, 0.8823412018046035),\n",
       " (3, 45, 0.8823688091673186),\n",
       " (3, 46, 0.8830839543973249),\n",
       " (3, 47, 0.8836973386349913),\n",
       " (3, 48, 0.8838019461831547),\n",
       " (3, 49, 0.8827242157422981),\n",
       " (3, 50, 0.8832020538660306),\n",
       " (3, 51, 0.8833743122546646),\n",
       " (3, 52, 0.8804330732241232),\n",
       " (3, 53, 0.8832225219765276),\n",
       " (3, 54, 0.8834423860508525),\n",
       " (3, 55, 0.8827181976511327),\n",
       " (3, 56, 0.8829642026636617),\n",
       " (3, 57, 0.8837455261428764),\n",
       " (3, 58, 0.8840564439717372),\n",
       " (3, 59, 0.8825396599808335),\n",
       " (3, 60, 0.8817071224020807),\n",
       " (3, 61, 0.8833906277758411),\n",
       " (3, 62, 0.8831648980379854),\n",
       " (3, 63, 0.8821825751737418),\n",
       " (3, 64, 0.8837490182493725),\n",
       " (3, 65, 0.8822348978466528),\n",
       " (3, 66, 0.8828210981366063),\n",
       " (3, 67, 0.8832951744209023),\n",
       " (3, 68, 0.883750159162691),\n",
       " (3, 69, 0.8829900593654576),\n",
       " (3, 70, 0.8836152818012896),\n",
       " (3, 71, 0.883748378079928),\n",
       " (3, 72, 0.884999786949412),\n",
       " (3, 73, 0.8842031249439035),\n",
       " (3, 74, 0.8839780478183313),\n",
       " (3, 75, 0.8839498293274205),\n",
       " (3, 76, 0.8844051411869556),\n",
       " (3, 77, 0.8839914927835514),\n",
       " (3, 78, 0.8845133970830242),\n",
       " (3, 79, 0.8838901033208933),\n",
       " (3, 80, 0.8842727396871455),\n",
       " (3, 81, 0.8842317682934152),\n",
       " (3, 82, 0.8835272363489961),\n",
       " (3, 83, 0.8843057731106874),\n",
       " (3, 84, 0.8833846510335074),\n",
       " (3, 85, 0.8851466943800397),\n",
       " (3, 86, 0.8835455596901249),\n",
       " (3, 87, 0.8847089720493292),\n",
       " (3, 88, 0.8851531394665297),\n",
       " (3, 89, 0.8855261661386261),\n",
       " (3, 90, 0.8855261661386261),\n",
       " (3, 91, 0.8852467258281369),\n",
       " (3, 92, 0.8851640665240788),\n",
       " (3, 93, 0.8851640665240788),\n",
       " (3, 94, 0.8851640665240788),\n",
       " (3, 95, 0.8851640665240788),\n",
       " (3, 96, 0.8856192604465232),\n",
       " (3, 97, 0.885721721492798),\n",
       " (3, 98, 0.8851457026902346),\n",
       " (3, 99, 0.8857800378094449),\n",
       " (4, 0, 0.8840059969283262),\n",
       " (4, 1, 0.8833401192356883),\n",
       " (4, 2, 0.8860263034002184),\n",
       " (4, 3, 0.8866953334968908),\n",
       " (4, 4, 0.8854235318434467),\n",
       " (4, 5, 0.8850305717025291),\n",
       " (4, 6, 0.8855801140514729),\n",
       " (4, 7, 0.8829673298529497),\n",
       " (4, 8, 0.8837391989122135),\n",
       " (4, 9, 0.8821649295254788),\n",
       " (4, 10, 0.8823682684162676),\n",
       " (4, 11, 0.8821574715973056),\n",
       " (4, 12, 0.8818726872172133),\n",
       " (4, 13, 0.8814223123839481),\n",
       " (4, 14, 0.8811970769636241),\n",
       " (4, 15, 0.8833424085649011),\n",
       " (4, 16, 0.8812423842516438),\n",
       " (4, 17, 0.8819601612867202),\n",
       " (4, 18, 0.8829303548105776),\n",
       " (4, 19, 0.8832612343035968),\n",
       " (4, 20, 0.883028271690804),\n",
       " (4, 21, 0.8823149980082504),\n",
       " (4, 22, 0.882438627614509),\n",
       " (4, 23, 0.8821124825317512),\n",
       " (4, 24, 0.8830470910628558),\n",
       " (4, 25, 0.8831870881174487),\n",
       " (4, 26, 0.8822507503924699),\n",
       " (4, 27, 0.8818000600512993),\n",
       " (4, 28, 0.8830842364799099),\n",
       " (4, 29, 0.8821716154067512),\n",
       " (4, 30, 0.8823437941227132),\n",
       " (4, 31, 0.8817937886970268),\n",
       " (4, 32, 0.8816043724948928),\n",
       " (4, 33, 0.8811121410719656),\n",
       " (4, 34, 0.8814089082041056),\n",
       " (4, 35, 0.8808796707372557),\n",
       " (4, 36, 0.88184669602148),\n",
       " (4, 37, 0.8811740059389979),\n",
       " (4, 38, 0.8810135690725655),\n",
       " (4, 39, 0.881288762718745),\n",
       " (4, 40, 0.8814283978928186),\n",
       " (4, 41, 0.8819149150971348),\n",
       " (4, 42, 0.8809659663123202),\n",
       " (4, 43, 0.8809450886432455),\n",
       " (4, 44, 0.8834121524665253),\n",
       " (4, 45, 0.8823874033593763),\n",
       " (4, 46, 0.8822081698519401),\n",
       " (4, 47, 0.8829087606462502),\n",
       " (4, 48, 0.8829547455572014),\n",
       " (4, 49, 0.8824030470676916),\n",
       " (4, 50, 0.8826480623240625),\n",
       " (4, 51, 0.8825153694612538),\n",
       " (4, 52, 0.8829972613633479),\n",
       " (4, 53, 0.8832692140213373),\n",
       " (4, 54, 0.8832522902164754),\n",
       " (4, 55, 0.8832159412411569),\n",
       " (4, 56, 0.882836912021123),\n",
       " (4, 57, 0.8830225358435208),\n",
       " (4, 58, 0.8837340221243288),\n",
       " (4, 59, 0.8835070394487421),\n",
       " (4, 60, 0.8837386820067606),\n",
       " (4, 61, 0.8840071842019012),\n",
       " (4, 62, 0.8842877507769921),\n",
       " (4, 63, 0.8825322044213904),\n",
       " (4, 64, 0.882176027228871),\n",
       " (4, 65, 0.883611372475979),\n",
       " (4, 66, 0.8821082967943185),\n",
       " (4, 67, 0.8814200799777974),\n",
       " (4, 68, 0.8824392986854381),\n",
       " (4, 69, 0.881459963963035),\n",
       " (4, 70, 0.8835057303688841),\n",
       " (4, 71, 0.8817784971478322),\n",
       " (4, 72, 0.8822694016457071),\n",
       " (4, 73, 0.8829901583524135),\n",
       " (4, 74, 0.8823314471083545),\n",
       " (4, 75, 0.8827725876065062),\n",
       " (4, 76, 0.8833518443904806),\n",
       " (4, 77, 0.8831273901420177),\n",
       " (4, 78, 0.8822075899359503),\n",
       " (4, 79, 0.8829577626921405),\n",
       " (4, 80, 0.8812605058012805),\n",
       " (4, 81, 0.8814904234827363),\n",
       " (4, 82, 0.8815510058969824),\n",
       " (4, 83, 0.8817827061465338),\n",
       " (4, 84, 0.8805433529382762),\n",
       " (4, 85, 0.8803813028362135),\n",
       " (4, 86, 0.8816539144104794),\n",
       " (4, 87, 0.8807650625937624),\n",
       " (4, 88, 0.8818455396785234),\n",
       " (4, 89, 0.8811154538518445),\n",
       " (4, 90, 0.8822454058908492),\n",
       " (4, 91, 0.8811617339348911),\n",
       " (4, 92, 0.8808533161236439),\n",
       " (4, 93, 0.8805743995498638),\n",
       " (4, 94, 0.8814986278387463),\n",
       " (4, 95, 0.8815021061276879),\n",
       " (4, 96, 0.8826153699934893),\n",
       " (4, 97, 0.8804733448678779),\n",
       " (4, 98, 0.8817568091552084),\n",
       " (4, 99, 0.881563234913995)]"
      ]
     },
     "execution_count": 56,
     "metadata": {},
     "output_type": "execute_result"
    }
   ],
   "source": [
    "cv_sites_lgb"
   ]
  },
  {
   "cell_type": "code",
   "execution_count": 57,
   "metadata": {
    "scrolled": false
   },
   "outputs": [
    {
     "data": {
      "text/plain": [
       "[(2, 0, 0.8644684997568386),\n",
       " (2, 1, 0.8719409468601789),\n",
       " (2, 2, 0.8758416123240949),\n",
       " (2, 3, 0.8774855419576613),\n",
       " (2, 4, 0.8816723231703574),\n",
       " (2, 5, 0.8830319877310491),\n",
       " (2, 6, 0.8844154954484622),\n",
       " (2, 7, 0.8845006469427894),\n",
       " (2, 8, 0.8854871095447379),\n",
       " (2, 9, 0.8873127727350469),\n",
       " (2, 10, 0.8885389322765498),\n",
       " (2, 11, 0.8887110423294686),\n",
       " (2, 12, 0.8890220184401996),\n",
       " (2, 13, 0.8895190829217463),\n",
       " (2, 14, 0.889829164904044),\n",
       " (2, 15, 0.8898771271915646),\n",
       " (2, 16, 0.8902852495901676),\n",
       " (2, 17, 0.890321872644025),\n",
       " (2, 18, 0.8906414807785614),\n",
       " (2, 19, 0.8906509336714501),\n",
       " (2, 20, 0.8907259722366228),\n",
       " (2, 21, 0.8908938763073426),\n",
       " (2, 22, 0.8908739816797249),\n",
       " (2, 23, 0.8911328687835166),\n",
       " (2, 24, 0.8912067793023781),\n",
       " (2, 25, 0.8911825655395587),\n",
       " (2, 26, 0.891292385884623),\n",
       " (2, 27, 0.8916520736212383),\n",
       " (2, 28, 0.8918321446585471),\n",
       " (2, 29, 0.8919698160146405),\n",
       " (2, 30, 0.8920908408342256),\n",
       " (2, 31, 0.8920578976619453),\n",
       " (2, 32, 0.8920982689267987),\n",
       " (2, 33, 0.8920703411450848),\n",
       " (2, 34, 0.8920603002281215),\n",
       " (2, 35, 0.8920587145108968),\n",
       " (2, 36, 0.892067454500525),\n",
       " (2, 37, 0.8921384857368402),\n",
       " (2, 38, 0.8922520979195434),\n",
       " (2, 39, 0.8923730498923861),\n",
       " (2, 40, 0.8925197885028011),\n",
       " (2, 41, 0.8925547301322925),\n",
       " (2, 42, 0.8924872667550174),\n",
       " (2, 43, 0.8926075270285949),\n",
       " (2, 44, 0.8928846560079412),\n",
       " (2, 45, 0.8928237378015135),\n",
       " (2, 46, 0.89286741695561),\n",
       " (2, 47, 0.8931375783297296),\n",
       " (2, 48, 0.8930996323364235),\n",
       " (2, 49, 0.8930632555233128),\n",
       " (2, 50, 0.8930084889621058),\n",
       " (2, 51, 0.8934144265251855),\n",
       " (2, 52, 0.8933642861803617),\n",
       " (2, 53, 0.893560091847528),\n",
       " (2, 54, 0.893560091847528),\n",
       " (2, 55, 0.893560091847528),\n",
       " (2, 56, 0.893560091847528),\n",
       " (2, 57, 0.893560091847528),\n",
       " (2, 58, 0.8935361638107459),\n",
       " (2, 59, 0.8935361638107459),\n",
       " (2, 60, 0.8935361638107459),\n",
       " (2, 61, 0.8935360355102805),\n",
       " (2, 62, 0.8935360483403271),\n",
       " (2, 63, 0.8935360483403271),\n",
       " (2, 64, 0.8935360483403271),\n",
       " (2, 65, 0.8935360483403271),\n",
       " (2, 66, 0.8935360483403271),\n",
       " (2, 67, 0.8935360355102805),\n",
       " (2, 68, 0.8935360355102805),\n",
       " (2, 69, 0.8935360483403271),\n",
       " (2, 70, 0.8935360483403271),\n",
       " (2, 71, 0.8935360483403271),\n",
       " (2, 72, 0.893657365523935),\n",
       " (2, 73, 0.8938726169928602),\n",
       " (2, 74, 0.8939427873107355),\n",
       " (2, 75, 0.894055620689427),\n",
       " (2, 76, 0.8941185709139549),\n",
       " (2, 77, 0.8940329145605318),\n",
       " (2, 78, 0.8940084951506319),\n",
       " (2, 79, 0.8939392407336706),\n",
       " (2, 80, 0.8940148760063846),\n",
       " (2, 81, 0.8939639756597881),\n",
       " (2, 82, 0.8940808901116385),\n",
       " (2, 83, 0.8940667059232099),\n",
       " (2, 84, 0.8940645104380525),\n",
       " (2, 85, 0.8940457024479336),\n",
       " (2, 86, 0.8940323975658004),\n",
       " (2, 87, 0.8940223904781058),\n",
       " (2, 88, 0.8940112345455383),\n",
       " (2, 89, 0.8940040427004806),\n",
       " (2, 90, 0.8940175408648083),\n",
       " (2, 91, 0.8939922461266505),\n",
       " (2, 92, 0.8941155319363079),\n",
       " (2, 93, 0.8942070176964072),\n",
       " (2, 94, 0.8942379043261365),\n",
       " (2, 95, 0.8942277077723717),\n",
       " (2, 96, 0.8942129401987364),\n",
       " (2, 97, 0.8941987075892646),\n",
       " (2, 98, 0.8941818165393006),\n",
       " (2, 99, 0.894143909083081),\n",
       " (3, 0, 0.8639396903171318),\n",
       " (3, 1, 0.8655662222118908),\n",
       " (3, 2, 0.8695668214109753),\n",
       " (3, 3, 0.8704007922392968),\n",
       " (3, 4, 0.8737323599047833),\n",
       " (3, 5, 0.8738752054734557),\n",
       " (3, 6, 0.8750165412132798),\n",
       " (3, 7, 0.8786316418581068),\n",
       " (3, 8, 0.8796660874756248),\n",
       " (3, 9, 0.8798561036458895),\n",
       " (3, 10, 0.8807223785101477),\n",
       " (3, 11, 0.8813735371784741),\n",
       " (3, 12, 0.8814944845017154),\n",
       " (3, 13, 0.8815629265851912),\n",
       " (3, 14, 0.8821192368396394),\n",
       " (3, 15, 0.8827122905039346),\n",
       " (3, 16, 0.883795940626132),\n",
       " (3, 17, 0.8848334380696838),\n",
       " (3, 18, 0.8848814597429626),\n",
       " (3, 19, 0.8854818683312451),\n",
       " (3, 20, 0.8858605200381449),\n",
       " (3, 21, 0.8858629531566786),\n",
       " (3, 22, 0.8858976209565069),\n",
       " (3, 23, 0.886191963873393),\n",
       " (3, 24, 0.88660165649439),\n",
       " (3, 25, 0.8868164612932308),\n",
       " (3, 26, 0.886906237749955),\n",
       " (3, 27, 0.8868995054887744),\n",
       " (3, 28, 0.8870129875852706),\n",
       " (3, 29, 0.8872566840300271),\n",
       " (3, 30, 0.8872790053533199),\n",
       " (3, 31, 0.8873696544655453),\n",
       " (3, 32, 0.8873898235684886),\n",
       " (3, 33, 0.8873048794446999),\n",
       " (3, 34, 0.887487423275467),\n",
       " (3, 35, 0.8874809070654521),\n",
       " (3, 36, 0.8875659144418785),\n",
       " (3, 37, 0.8877046921376487),\n",
       " (3, 38, 0.8876261309820812),\n",
       " (3, 39, 0.8877917914665544),\n",
       " (3, 40, 0.8878046535774464),\n",
       " (3, 41, 0.8877740964481158),\n",
       " (3, 42, 0.8877669234359532),\n",
       " (3, 43, 0.8878177984091289),\n",
       " (3, 44, 0.8878542518972978),\n",
       " (3, 45, 0.8881223636110496),\n",
       " (3, 46, 0.8880982464562909),\n",
       " (3, 47, 0.888038531787487),\n",
       " (3, 48, 0.887957593899116),\n",
       " (3, 49, 0.8879511871230203),\n",
       " (3, 50, 0.8880489296548004),\n",
       " (3, 51, 0.8881016194777045),\n",
       " (3, 52, 0.8882752089093349),\n",
       " (3, 53, 0.888321602275463),\n",
       " (3, 54, 0.8886417353562334),\n",
       " (3, 55, 0.8886137288553225),\n",
       " (3, 56, 0.8887328193028345),\n",
       " (3, 57, 0.8887354898963599),\n",
       " (3, 58, 0.8888675290286766),\n",
       " (3, 59, 0.8887779187766894),\n",
       " (3, 60, 0.8887727899959574),\n",
       " (3, 61, 0.8889666845803126),\n",
       " (3, 62, 0.8890736166191713),\n",
       " (3, 63, 0.888978080348916),\n",
       " (3, 64, 0.8889109189914102),\n",
       " (3, 65, 0.8888938695173396),\n",
       " (3, 66, 0.8889129416531494),\n",
       " (3, 67, 0.8889485276642886),\n",
       " (3, 68, 0.8890011189111862),\n",
       " (3, 69, 0.8891050820152828),\n",
       " (3, 70, 0.8892546803558571),\n",
       " (3, 71, 0.8891718469505456),\n",
       " (3, 72, 0.8891555888076734),\n",
       " (3, 73, 0.8891893855254538),\n",
       " (3, 74, 0.88913097900365),\n",
       " (3, 75, 0.8891874732211289),\n",
       " (3, 76, 0.8891727974362672),\n",
       " (3, 77, 0.8892181279974698),\n",
       " (3, 78, 0.8893102366971908),\n",
       " (3, 79, 0.8892288777240543),\n",
       " (3, 80, 0.8892398456311266),\n",
       " (3, 81, 0.8892188399767433),\n",
       " (3, 82, 0.8891554807701947),\n",
       " (3, 83, 0.8891990883465992),\n",
       " (3, 84, 0.8894722836958477),\n",
       " (3, 85, 0.8894108876059436),\n",
       " (3, 86, 0.8893652907863997),\n",
       " (3, 87, 0.889331060941546),\n",
       " (3, 88, 0.8895084978188318),\n",
       " (3, 89, 0.8895545750545931),\n",
       " (3, 90, 0.8895545750545931),\n",
       " (3, 91, 0.8895437052873167),\n",
       " (3, 92, 0.8896121731570668),\n",
       " (3, 93, 0.8896121731570668),\n",
       " (3, 94, 0.8896121731570668),\n",
       " (3, 95, 0.8896121731570668),\n",
       " (3, 96, 0.8896259323907127),\n",
       " (3, 97, 0.8896417783391998),\n",
       " (3, 98, 0.8896295639254574),\n",
       " (3, 99, 0.8896042320656069),\n",
       " (4, 0, 0.863146546214286),\n",
       " (4, 1, 0.8640837235810617),\n",
       " (4, 2, 0.8687944893231407),\n",
       " (4, 3, 0.8684012227892807),\n",
       " (4, 4, 0.8688268065578038),\n",
       " (4, 5, 0.8712369712971371),\n",
       " (4, 6, 0.8717861693610915),\n",
       " (4, 7, 0.8715731622254509),\n",
       " (4, 8, 0.8727263592160965),\n",
       " (4, 9, 0.8730316523757415),\n",
       " (4, 10, 0.8770333028027871),\n",
       " (4, 11, 0.8776601920149707),\n",
       " (4, 12, 0.8776442088768179),\n",
       " (4, 13, 0.8783855869993457),\n",
       " (4, 14, 0.8787147311118395),\n",
       " (4, 15, 0.8794393354360786),\n",
       " (4, 16, 0.8797650571910027),\n",
       " (4, 17, 0.8795361305282838),\n",
       " (4, 18, 0.8797502970984528),\n",
       " (4, 19, 0.8805346504495098),\n",
       " (4, 20, 0.8806498664483307),\n",
       " (4, 21, 0.8814417165043743),\n",
       " (4, 22, 0.8824414640652111),\n",
       " (4, 23, 0.8830348449410933),\n",
       " (4, 24, 0.8832616584490768),\n",
       " (4, 25, 0.8834729104724752),\n",
       " (4, 26, 0.8834984488352415),\n",
       " (4, 27, 0.8834489075572045),\n",
       " (4, 28, 0.8836065352001972),\n",
       " (4, 29, 0.8837671515838077),\n",
       " (4, 30, 0.8838376860401407),\n",
       " (4, 31, 0.8840544366938916),\n",
       " (4, 32, 0.8844526643376758),\n",
       " (4, 33, 0.8844105474750287),\n",
       " (4, 34, 0.8844149765816787),\n",
       " (4, 35, 0.8843566733866197),\n",
       " (4, 36, 0.8844805054881772),\n",
       " (4, 37, 0.8844602164534844),\n",
       " (4, 38, 0.8844317663768606),\n",
       " (4, 39, 0.8845485254283814),\n",
       " (4, 40, 0.8847400399596959),\n",
       " (4, 41, 0.8848723760718096),\n",
       " (4, 42, 0.8848424063547129),\n",
       " (4, 43, 0.8848314597116274),\n",
       " (4, 44, 0.8848148434277328),\n",
       " (4, 45, 0.8848555818268647),\n",
       " (4, 46, 0.8848997083399899),\n",
       " (4, 47, 0.884872725615649),\n",
       " (4, 48, 0.8847322043589632),\n",
       " (4, 49, 0.884727677754962),\n",
       " (4, 50, 0.8850144465723131),\n",
       " (4, 51, 0.8850378960048435),\n",
       " (4, 52, 0.8850262064797823),\n",
       " (4, 53, 0.8849736379945298),\n",
       " (4, 54, 0.8849265460696686),\n",
       " (4, 55, 0.88489166199611),\n",
       " (4, 56, 0.8850367759157882),\n",
       " (4, 57, 0.8850910112535508),\n",
       " (4, 58, 0.8850846480142343),\n",
       " (4, 59, 0.8852167122763943),\n",
       " (4, 60, 0.8853119030556484),\n",
       " (4, 61, 0.8854603726335875),\n",
       " (4, 62, 0.8854782080106496),\n",
       " (4, 63, 0.8854774245987815),\n",
       " (4, 64, 0.8853790111005022),\n",
       " (4, 65, 0.8853129909112809),\n",
       " (4, 66, 0.885300050562928),\n",
       " (4, 67, 0.8855484151746327),\n",
       " (4, 68, 0.8854902142533166),\n",
       " (4, 69, 0.8854562782214686),\n",
       " (4, 70, 0.8855650539521176),\n",
       " (4, 71, 0.8856414543557768),\n",
       " (4, 72, 0.8856130252922938),\n",
       " (4, 73, 0.8856166795573652),\n",
       " (4, 74, 0.8857400791255206),\n",
       " (4, 75, 0.8858116568239077),\n",
       " (4, 76, 0.8859216938323746),\n",
       " (4, 77, 0.8860574185113891),\n",
       " (4, 78, 0.8861056462917158),\n",
       " (4, 79, 0.8861439850707395),\n",
       " (4, 80, 0.8862124743859756),\n",
       " (4, 81, 0.8863325854999771),\n",
       " (4, 82, 0.8862836221101328),\n",
       " (4, 83, 0.8862257583088765),\n",
       " (4, 84, 0.8862678820202946),\n",
       " (4, 85, 0.8863541629376954),\n",
       " (4, 86, 0.8862899919202094),\n",
       " (4, 87, 0.8863645848198649),\n",
       " (4, 88, 0.8864109218180375),\n",
       " (4, 89, 0.8863463197235001),\n",
       " (4, 90, 0.8862847303987529),\n",
       " (4, 91, 0.8862895430867778),\n",
       " (4, 92, 0.8862940681854705),\n",
       " (4, 93, 0.8863230568365592),\n",
       " (4, 94, 0.8864259751881768),\n",
       " (4, 95, 0.8863729886851668),\n",
       " (4, 96, 0.8863938818687593),\n",
       " (4, 97, 0.8863708405547865),\n",
       " (4, 98, 0.8863795138478141),\n",
       " (4, 99, 0.8864347985146932)]"
      ]
     },
     "execution_count": 57,
     "metadata": {},
     "output_type": "execute_result"
    }
   ],
   "source": [
    "cv_sites_logit"
   ]
  },
  {
   "cell_type": "code",
   "execution_count": null,
   "metadata": {},
   "outputs": [],
   "source": []
  },
  {
   "cell_type": "code",
   "execution_count": null,
   "metadata": {},
   "outputs": [],
   "source": []
  },
  {
   "cell_type": "code",
   "execution_count": null,
   "metadata": {},
   "outputs": [],
   "source": []
  },
  {
   "cell_type": "code",
   "execution_count": null,
   "metadata": {},
   "outputs": [],
   "source": []
  },
  {
   "cell_type": "code",
   "execution_count": 42,
   "metadata": {
    "scrolled": false
   },
   "outputs": [
    {
     "data": {
      "application/vnd.jupyter.widget-view+json": {
       "model_id": "d939c4cb6ce84cacad2c29da10403138",
       "version_major": 2,
       "version_minor": 0
      },
      "text/plain": [
       "HBox(children=(FloatProgress(value=0.0, max=10000.0), HTML(value='')))"
      ]
     },
     "metadata": {},
     "output_type": "display_data"
    },
    {
     "name": "stdout",
     "output_type": "stream",
     "text": [
      "\n"
     ]
    },
    {
     "ename": "KeyboardInterrupt",
     "evalue": "",
     "output_type": "error",
     "traceback": [
      "\u001b[1;31m---------------------------------------------------------------------------\u001b[0m",
      "\u001b[1;31mKeyboardInterrupt\u001b[0m                         Traceback (most recent call last)",
      "\u001b[1;32m<ipython-input-42-1bc148f78c1a>\u001b[0m in \u001b[0;36m<module>\u001b[1;34m\u001b[0m\n\u001b[0;32m      4\u001b[0m                                \u001b[0mfill_value\u001b[0m \u001b[1;33m=\u001b[0m \u001b[1;33m-\u001b[0m\u001b[1;36m1\u001b[0m\u001b[1;33m,\u001b[0m \u001b[0muse_value\u001b[0m \u001b[1;33m=\u001b[0m \u001b[1;32mNone\u001b[0m\u001b[1;33m,\u001b[0m\u001b[0;31m\\\u001b[0m\u001b[1;33m\u001b[0m\u001b[1;33m\u001b[0m\u001b[0m\n\u001b[0;32m      5\u001b[0m                                show_progress = True)\n\u001b[1;32m----> 6\u001b[1;33m \u001b[0mlgb_selector2\u001b[0m\u001b[1;33m.\u001b[0m\u001b[0mfit\u001b[0m\u001b[1;33m(\u001b[0m\u001b[0mtfidf12_tr\u001b[0m\u001b[1;33m[\u001b[0m\u001b[1;33m:\u001b[0m\u001b[0midx_split\u001b[0m\u001b[1;33m]\u001b[0m\u001b[1;33m,\u001b[0m \u001b[0m_y_tr\u001b[0m\u001b[1;33m[\u001b[0m\u001b[1;33m:\u001b[0m\u001b[0midx_split\u001b[0m\u001b[1;33m]\u001b[0m\u001b[1;33m)\u001b[0m\u001b[1;33m\u001b[0m\u001b[1;33m\u001b[0m\u001b[0m\n\u001b[0m",
      "\u001b[1;32m<ipython-input-2-98886ca52854>\u001b[0m in \u001b[0;36mfit\u001b[1;34m(self, X, y)\u001b[0m\n\u001b[0;32m     22\u001b[0m             \u001b[1;32mif\u001b[0m \u001b[0mself\u001b[0m\u001b[1;33m.\u001b[0m\u001b[0muse_value\u001b[0m \u001b[1;32mis\u001b[0m \u001b[1;32mNone\u001b[0m\u001b[1;33m:\u001b[0m\u001b[1;33m\u001b[0m\u001b[1;33m\u001b[0m\u001b[0m\n\u001b[0;32m     23\u001b[0m                 scores.append((col_idx, None,\\\n\u001b[1;32m---> 24\u001b[1;33m                                cross_validate(self.estimator, series.reshape(-1,1), y,\\\n\u001b[0m\u001b[0;32m     25\u001b[0m                                               scoring =self.metric, cv = self.cv)['test_score'].mean()))\n\u001b[0;32m     26\u001b[0m             \u001b[1;32melse\u001b[0m\u001b[1;33m:\u001b[0m\u001b[1;33m\u001b[0m\u001b[1;33m\u001b[0m\u001b[0m\n",
      "\u001b[1;32m~\\anaconda3\\lib\\site-packages\\sklearn\\utils\\validation.py\u001b[0m in \u001b[0;36minner_f\u001b[1;34m(*args, **kwargs)\u001b[0m\n\u001b[0;32m     71\u001b[0m                           FutureWarning)\n\u001b[0;32m     72\u001b[0m         \u001b[0mkwargs\u001b[0m\u001b[1;33m.\u001b[0m\u001b[0mupdate\u001b[0m\u001b[1;33m(\u001b[0m\u001b[1;33m{\u001b[0m\u001b[0mk\u001b[0m\u001b[1;33m:\u001b[0m \u001b[0marg\u001b[0m \u001b[1;32mfor\u001b[0m \u001b[0mk\u001b[0m\u001b[1;33m,\u001b[0m \u001b[0marg\u001b[0m \u001b[1;32min\u001b[0m \u001b[0mzip\u001b[0m\u001b[1;33m(\u001b[0m\u001b[0msig\u001b[0m\u001b[1;33m.\u001b[0m\u001b[0mparameters\u001b[0m\u001b[1;33m,\u001b[0m \u001b[0margs\u001b[0m\u001b[1;33m)\u001b[0m\u001b[1;33m}\u001b[0m\u001b[1;33m)\u001b[0m\u001b[1;33m\u001b[0m\u001b[1;33m\u001b[0m\u001b[0m\n\u001b[1;32m---> 73\u001b[1;33m         \u001b[1;32mreturn\u001b[0m \u001b[0mf\u001b[0m\u001b[1;33m(\u001b[0m\u001b[1;33m**\u001b[0m\u001b[0mkwargs\u001b[0m\u001b[1;33m)\u001b[0m\u001b[1;33m\u001b[0m\u001b[1;33m\u001b[0m\u001b[0m\n\u001b[0m\u001b[0;32m     74\u001b[0m     \u001b[1;32mreturn\u001b[0m \u001b[0minner_f\u001b[0m\u001b[1;33m\u001b[0m\u001b[1;33m\u001b[0m\u001b[0m\n\u001b[0;32m     75\u001b[0m \u001b[1;33m\u001b[0m\u001b[0m\n",
      "\u001b[1;32m~\\anaconda3\\lib\\site-packages\\sklearn\\model_selection\\_validation.py\u001b[0m in \u001b[0;36mcross_validate\u001b[1;34m(estimator, X, y, groups, scoring, cv, n_jobs, verbose, fit_params, pre_dispatch, return_train_score, return_estimator, error_score)\u001b[0m\n\u001b[0;32m    240\u001b[0m     parallel = Parallel(n_jobs=n_jobs, verbose=verbose,\n\u001b[0;32m    241\u001b[0m                         pre_dispatch=pre_dispatch)\n\u001b[1;32m--> 242\u001b[1;33m     scores = parallel(\n\u001b[0m\u001b[0;32m    243\u001b[0m         delayed(_fit_and_score)(\n\u001b[0;32m    244\u001b[0m             \u001b[0mclone\u001b[0m\u001b[1;33m(\u001b[0m\u001b[0mestimator\u001b[0m\u001b[1;33m)\u001b[0m\u001b[1;33m,\u001b[0m \u001b[0mX\u001b[0m\u001b[1;33m,\u001b[0m \u001b[0my\u001b[0m\u001b[1;33m,\u001b[0m \u001b[0mscorers\u001b[0m\u001b[1;33m,\u001b[0m \u001b[0mtrain\u001b[0m\u001b[1;33m,\u001b[0m \u001b[0mtest\u001b[0m\u001b[1;33m,\u001b[0m \u001b[0mverbose\u001b[0m\u001b[1;33m,\u001b[0m \u001b[1;32mNone\u001b[0m\u001b[1;33m,\u001b[0m\u001b[1;33m\u001b[0m\u001b[1;33m\u001b[0m\u001b[0m\n",
      "\u001b[1;32m~\\anaconda3\\lib\\site-packages\\joblib\\parallel.py\u001b[0m in \u001b[0;36m__call__\u001b[1;34m(self, iterable)\u001b[0m\n\u001b[0;32m   1030\u001b[0m                 \u001b[0mself\u001b[0m\u001b[1;33m.\u001b[0m\u001b[0m_iterating\u001b[0m \u001b[1;33m=\u001b[0m \u001b[0mself\u001b[0m\u001b[1;33m.\u001b[0m\u001b[0m_original_iterator\u001b[0m \u001b[1;32mis\u001b[0m \u001b[1;32mnot\u001b[0m \u001b[1;32mNone\u001b[0m\u001b[1;33m\u001b[0m\u001b[1;33m\u001b[0m\u001b[0m\n\u001b[0;32m   1031\u001b[0m \u001b[1;33m\u001b[0m\u001b[0m\n\u001b[1;32m-> 1032\u001b[1;33m             \u001b[1;32mwhile\u001b[0m \u001b[0mself\u001b[0m\u001b[1;33m.\u001b[0m\u001b[0mdispatch_one_batch\u001b[0m\u001b[1;33m(\u001b[0m\u001b[0miterator\u001b[0m\u001b[1;33m)\u001b[0m\u001b[1;33m:\u001b[0m\u001b[1;33m\u001b[0m\u001b[1;33m\u001b[0m\u001b[0m\n\u001b[0m\u001b[0;32m   1033\u001b[0m                 \u001b[1;32mpass\u001b[0m\u001b[1;33m\u001b[0m\u001b[1;33m\u001b[0m\u001b[0m\n\u001b[0;32m   1034\u001b[0m \u001b[1;33m\u001b[0m\u001b[0m\n",
      "\u001b[1;32m~\\anaconda3\\lib\\site-packages\\joblib\\parallel.py\u001b[0m in \u001b[0;36mdispatch_one_batch\u001b[1;34m(self, iterator)\u001b[0m\n\u001b[0;32m    845\u001b[0m                 \u001b[1;32mreturn\u001b[0m \u001b[1;32mFalse\u001b[0m\u001b[1;33m\u001b[0m\u001b[1;33m\u001b[0m\u001b[0m\n\u001b[0;32m    846\u001b[0m             \u001b[1;32melse\u001b[0m\u001b[1;33m:\u001b[0m\u001b[1;33m\u001b[0m\u001b[1;33m\u001b[0m\u001b[0m\n\u001b[1;32m--> 847\u001b[1;33m                 \u001b[0mself\u001b[0m\u001b[1;33m.\u001b[0m\u001b[0m_dispatch\u001b[0m\u001b[1;33m(\u001b[0m\u001b[0mtasks\u001b[0m\u001b[1;33m)\u001b[0m\u001b[1;33m\u001b[0m\u001b[1;33m\u001b[0m\u001b[0m\n\u001b[0m\u001b[0;32m    848\u001b[0m                 \u001b[1;32mreturn\u001b[0m \u001b[1;32mTrue\u001b[0m\u001b[1;33m\u001b[0m\u001b[1;33m\u001b[0m\u001b[0m\n\u001b[0;32m    849\u001b[0m \u001b[1;33m\u001b[0m\u001b[0m\n",
      "\u001b[1;32m~\\anaconda3\\lib\\site-packages\\joblib\\parallel.py\u001b[0m in \u001b[0;36m_dispatch\u001b[1;34m(self, batch)\u001b[0m\n\u001b[0;32m    763\u001b[0m         \u001b[1;32mwith\u001b[0m \u001b[0mself\u001b[0m\u001b[1;33m.\u001b[0m\u001b[0m_lock\u001b[0m\u001b[1;33m:\u001b[0m\u001b[1;33m\u001b[0m\u001b[1;33m\u001b[0m\u001b[0m\n\u001b[0;32m    764\u001b[0m             \u001b[0mjob_idx\u001b[0m \u001b[1;33m=\u001b[0m \u001b[0mlen\u001b[0m\u001b[1;33m(\u001b[0m\u001b[0mself\u001b[0m\u001b[1;33m.\u001b[0m\u001b[0m_jobs\u001b[0m\u001b[1;33m)\u001b[0m\u001b[1;33m\u001b[0m\u001b[1;33m\u001b[0m\u001b[0m\n\u001b[1;32m--> 765\u001b[1;33m             \u001b[0mjob\u001b[0m \u001b[1;33m=\u001b[0m \u001b[0mself\u001b[0m\u001b[1;33m.\u001b[0m\u001b[0m_backend\u001b[0m\u001b[1;33m.\u001b[0m\u001b[0mapply_async\u001b[0m\u001b[1;33m(\u001b[0m\u001b[0mbatch\u001b[0m\u001b[1;33m,\u001b[0m \u001b[0mcallback\u001b[0m\u001b[1;33m=\u001b[0m\u001b[0mcb\u001b[0m\u001b[1;33m)\u001b[0m\u001b[1;33m\u001b[0m\u001b[1;33m\u001b[0m\u001b[0m\n\u001b[0m\u001b[0;32m    766\u001b[0m             \u001b[1;31m# A job can complete so quickly than its callback is\u001b[0m\u001b[1;33m\u001b[0m\u001b[1;33m\u001b[0m\u001b[1;33m\u001b[0m\u001b[0m\n\u001b[0;32m    767\u001b[0m             \u001b[1;31m# called before we get here, causing self._jobs to\u001b[0m\u001b[1;33m\u001b[0m\u001b[1;33m\u001b[0m\u001b[1;33m\u001b[0m\u001b[0m\n",
      "\u001b[1;32m~\\anaconda3\\lib\\site-packages\\joblib\\_parallel_backends.py\u001b[0m in \u001b[0;36mapply_async\u001b[1;34m(self, func, callback)\u001b[0m\n\u001b[0;32m    206\u001b[0m     \u001b[1;32mdef\u001b[0m \u001b[0mapply_async\u001b[0m\u001b[1;33m(\u001b[0m\u001b[0mself\u001b[0m\u001b[1;33m,\u001b[0m \u001b[0mfunc\u001b[0m\u001b[1;33m,\u001b[0m \u001b[0mcallback\u001b[0m\u001b[1;33m=\u001b[0m\u001b[1;32mNone\u001b[0m\u001b[1;33m)\u001b[0m\u001b[1;33m:\u001b[0m\u001b[1;33m\u001b[0m\u001b[1;33m\u001b[0m\u001b[0m\n\u001b[0;32m    207\u001b[0m         \u001b[1;34m\"\"\"Schedule a func to be run\"\"\"\u001b[0m\u001b[1;33m\u001b[0m\u001b[1;33m\u001b[0m\u001b[0m\n\u001b[1;32m--> 208\u001b[1;33m         \u001b[0mresult\u001b[0m \u001b[1;33m=\u001b[0m \u001b[0mImmediateResult\u001b[0m\u001b[1;33m(\u001b[0m\u001b[0mfunc\u001b[0m\u001b[1;33m)\u001b[0m\u001b[1;33m\u001b[0m\u001b[1;33m\u001b[0m\u001b[0m\n\u001b[0m\u001b[0;32m    209\u001b[0m         \u001b[1;32mif\u001b[0m \u001b[0mcallback\u001b[0m\u001b[1;33m:\u001b[0m\u001b[1;33m\u001b[0m\u001b[1;33m\u001b[0m\u001b[0m\n\u001b[0;32m    210\u001b[0m             \u001b[0mcallback\u001b[0m\u001b[1;33m(\u001b[0m\u001b[0mresult\u001b[0m\u001b[1;33m)\u001b[0m\u001b[1;33m\u001b[0m\u001b[1;33m\u001b[0m\u001b[0m\n",
      "\u001b[1;32m~\\anaconda3\\lib\\site-packages\\joblib\\_parallel_backends.py\u001b[0m in \u001b[0;36m__init__\u001b[1;34m(self, batch)\u001b[0m\n\u001b[0;32m    570\u001b[0m         \u001b[1;31m# Don't delay the application, to avoid keeping the input\u001b[0m\u001b[1;33m\u001b[0m\u001b[1;33m\u001b[0m\u001b[1;33m\u001b[0m\u001b[0m\n\u001b[0;32m    571\u001b[0m         \u001b[1;31m# arguments in memory\u001b[0m\u001b[1;33m\u001b[0m\u001b[1;33m\u001b[0m\u001b[1;33m\u001b[0m\u001b[0m\n\u001b[1;32m--> 572\u001b[1;33m         \u001b[0mself\u001b[0m\u001b[1;33m.\u001b[0m\u001b[0mresults\u001b[0m \u001b[1;33m=\u001b[0m \u001b[0mbatch\u001b[0m\u001b[1;33m(\u001b[0m\u001b[1;33m)\u001b[0m\u001b[1;33m\u001b[0m\u001b[1;33m\u001b[0m\u001b[0m\n\u001b[0m\u001b[0;32m    573\u001b[0m \u001b[1;33m\u001b[0m\u001b[0m\n\u001b[0;32m    574\u001b[0m     \u001b[1;32mdef\u001b[0m \u001b[0mget\u001b[0m\u001b[1;33m(\u001b[0m\u001b[0mself\u001b[0m\u001b[1;33m)\u001b[0m\u001b[1;33m:\u001b[0m\u001b[1;33m\u001b[0m\u001b[1;33m\u001b[0m\u001b[0m\n",
      "\u001b[1;32m~\\anaconda3\\lib\\site-packages\\joblib\\parallel.py\u001b[0m in \u001b[0;36m__call__\u001b[1;34m(self)\u001b[0m\n\u001b[0;32m    250\u001b[0m         \u001b[1;31m# change the default number of processes to -1\u001b[0m\u001b[1;33m\u001b[0m\u001b[1;33m\u001b[0m\u001b[1;33m\u001b[0m\u001b[0m\n\u001b[0;32m    251\u001b[0m         \u001b[1;32mwith\u001b[0m \u001b[0mparallel_backend\u001b[0m\u001b[1;33m(\u001b[0m\u001b[0mself\u001b[0m\u001b[1;33m.\u001b[0m\u001b[0m_backend\u001b[0m\u001b[1;33m,\u001b[0m \u001b[0mn_jobs\u001b[0m\u001b[1;33m=\u001b[0m\u001b[0mself\u001b[0m\u001b[1;33m.\u001b[0m\u001b[0m_n_jobs\u001b[0m\u001b[1;33m)\u001b[0m\u001b[1;33m:\u001b[0m\u001b[1;33m\u001b[0m\u001b[1;33m\u001b[0m\u001b[0m\n\u001b[1;32m--> 252\u001b[1;33m             return [func(*args, **kwargs)\n\u001b[0m\u001b[0;32m    253\u001b[0m                     for func, args, kwargs in self.items]\n\u001b[0;32m    254\u001b[0m \u001b[1;33m\u001b[0m\u001b[0m\n",
      "\u001b[1;32m~\\anaconda3\\lib\\site-packages\\joblib\\parallel.py\u001b[0m in \u001b[0;36m<listcomp>\u001b[1;34m(.0)\u001b[0m\n\u001b[0;32m    250\u001b[0m         \u001b[1;31m# change the default number of processes to -1\u001b[0m\u001b[1;33m\u001b[0m\u001b[1;33m\u001b[0m\u001b[1;33m\u001b[0m\u001b[0m\n\u001b[0;32m    251\u001b[0m         \u001b[1;32mwith\u001b[0m \u001b[0mparallel_backend\u001b[0m\u001b[1;33m(\u001b[0m\u001b[0mself\u001b[0m\u001b[1;33m.\u001b[0m\u001b[0m_backend\u001b[0m\u001b[1;33m,\u001b[0m \u001b[0mn_jobs\u001b[0m\u001b[1;33m=\u001b[0m\u001b[0mself\u001b[0m\u001b[1;33m.\u001b[0m\u001b[0m_n_jobs\u001b[0m\u001b[1;33m)\u001b[0m\u001b[1;33m:\u001b[0m\u001b[1;33m\u001b[0m\u001b[1;33m\u001b[0m\u001b[0m\n\u001b[1;32m--> 252\u001b[1;33m             return [func(*args, **kwargs)\n\u001b[0m\u001b[0;32m    253\u001b[0m                     for func, args, kwargs in self.items]\n\u001b[0;32m    254\u001b[0m \u001b[1;33m\u001b[0m\u001b[0m\n",
      "\u001b[1;32m~\\anaconda3\\lib\\site-packages\\sklearn\\model_selection\\_validation.py\u001b[0m in \u001b[0;36m_fit_and_score\u001b[1;34m(estimator, X, y, scorer, train, test, verbose, parameters, fit_params, return_train_score, return_parameters, return_n_test_samples, return_times, return_estimator, error_score)\u001b[0m\n\u001b[0;32m    529\u001b[0m             \u001b[0mestimator\u001b[0m\u001b[1;33m.\u001b[0m\u001b[0mfit\u001b[0m\u001b[1;33m(\u001b[0m\u001b[0mX_train\u001b[0m\u001b[1;33m,\u001b[0m \u001b[1;33m**\u001b[0m\u001b[0mfit_params\u001b[0m\u001b[1;33m)\u001b[0m\u001b[1;33m\u001b[0m\u001b[1;33m\u001b[0m\u001b[0m\n\u001b[0;32m    530\u001b[0m         \u001b[1;32melse\u001b[0m\u001b[1;33m:\u001b[0m\u001b[1;33m\u001b[0m\u001b[1;33m\u001b[0m\u001b[0m\n\u001b[1;32m--> 531\u001b[1;33m             \u001b[0mestimator\u001b[0m\u001b[1;33m.\u001b[0m\u001b[0mfit\u001b[0m\u001b[1;33m(\u001b[0m\u001b[0mX_train\u001b[0m\u001b[1;33m,\u001b[0m \u001b[0my_train\u001b[0m\u001b[1;33m,\u001b[0m \u001b[1;33m**\u001b[0m\u001b[0mfit_params\u001b[0m\u001b[1;33m)\u001b[0m\u001b[1;33m\u001b[0m\u001b[1;33m\u001b[0m\u001b[0m\n\u001b[0m\u001b[0;32m    532\u001b[0m \u001b[1;33m\u001b[0m\u001b[0m\n\u001b[0;32m    533\u001b[0m     \u001b[1;32mexcept\u001b[0m \u001b[0mException\u001b[0m \u001b[1;32mas\u001b[0m \u001b[0me\u001b[0m\u001b[1;33m:\u001b[0m\u001b[1;33m\u001b[0m\u001b[1;33m\u001b[0m\u001b[0m\n",
      "\u001b[1;32m~\\anaconda3\\lib\\site-packages\\lightgbm\\sklearn.py\u001b[0m in \u001b[0;36mfit\u001b[1;34m(self, X, y, sample_weight, init_score, eval_set, eval_names, eval_sample_weight, eval_class_weight, eval_init_score, eval_metric, early_stopping_rounds, verbose, feature_name, categorical_feature, callbacks, init_model)\u001b[0m\n\u001b[0;32m    826\u001b[0m                     \u001b[0mvalid_sets\u001b[0m\u001b[1;33m[\u001b[0m\u001b[0mi\u001b[0m\u001b[1;33m]\u001b[0m \u001b[1;33m=\u001b[0m \u001b[1;33m(\u001b[0m\u001b[0mvalid_x\u001b[0m\u001b[1;33m,\u001b[0m \u001b[0mself\u001b[0m\u001b[1;33m.\u001b[0m\u001b[0m_le\u001b[0m\u001b[1;33m.\u001b[0m\u001b[0mtransform\u001b[0m\u001b[1;33m(\u001b[0m\u001b[0mvalid_y\u001b[0m\u001b[1;33m)\u001b[0m\u001b[1;33m)\u001b[0m\u001b[1;33m\u001b[0m\u001b[1;33m\u001b[0m\u001b[0m\n\u001b[0;32m    827\u001b[0m \u001b[1;33m\u001b[0m\u001b[0m\n\u001b[1;32m--> 828\u001b[1;33m         super(LGBMClassifier, self).fit(X, _y, sample_weight=sample_weight,\n\u001b[0m\u001b[0;32m    829\u001b[0m                                         \u001b[0minit_score\u001b[0m\u001b[1;33m=\u001b[0m\u001b[0minit_score\u001b[0m\u001b[1;33m,\u001b[0m \u001b[0meval_set\u001b[0m\u001b[1;33m=\u001b[0m\u001b[0mvalid_sets\u001b[0m\u001b[1;33m,\u001b[0m\u001b[1;33m\u001b[0m\u001b[1;33m\u001b[0m\u001b[0m\n\u001b[0;32m    830\u001b[0m                                         \u001b[0meval_names\u001b[0m\u001b[1;33m=\u001b[0m\u001b[0meval_names\u001b[0m\u001b[1;33m,\u001b[0m\u001b[1;33m\u001b[0m\u001b[1;33m\u001b[0m\u001b[0m\n",
      "\u001b[1;32m~\\anaconda3\\lib\\site-packages\\lightgbm\\sklearn.py\u001b[0m in \u001b[0;36mfit\u001b[1;34m(self, X, y, sample_weight, init_score, group, eval_set, eval_names, eval_sample_weight, eval_class_weight, eval_init_score, eval_group, eval_metric, early_stopping_rounds, verbose, feature_name, categorical_feature, callbacks, init_model)\u001b[0m\n\u001b[0;32m    593\u001b[0m             \u001b[0minit_model\u001b[0m \u001b[1;33m=\u001b[0m \u001b[0minit_model\u001b[0m\u001b[1;33m.\u001b[0m\u001b[0mbooster_\u001b[0m\u001b[1;33m\u001b[0m\u001b[1;33m\u001b[0m\u001b[0m\n\u001b[0;32m    594\u001b[0m \u001b[1;33m\u001b[0m\u001b[0m\n\u001b[1;32m--> 595\u001b[1;33m         self._Booster = train(params, train_set,\n\u001b[0m\u001b[0;32m    596\u001b[0m                               \u001b[0mself\u001b[0m\u001b[1;33m.\u001b[0m\u001b[0mn_estimators\u001b[0m\u001b[1;33m,\u001b[0m \u001b[0mvalid_sets\u001b[0m\u001b[1;33m=\u001b[0m\u001b[0mvalid_sets\u001b[0m\u001b[1;33m,\u001b[0m \u001b[0mvalid_names\u001b[0m\u001b[1;33m=\u001b[0m\u001b[0meval_names\u001b[0m\u001b[1;33m,\u001b[0m\u001b[1;33m\u001b[0m\u001b[1;33m\u001b[0m\u001b[0m\n\u001b[0;32m    597\u001b[0m                               \u001b[0mearly_stopping_rounds\u001b[0m\u001b[1;33m=\u001b[0m\u001b[0mearly_stopping_rounds\u001b[0m\u001b[1;33m,\u001b[0m\u001b[1;33m\u001b[0m\u001b[1;33m\u001b[0m\u001b[0m\n",
      "\u001b[1;32m~\\anaconda3\\lib\\site-packages\\lightgbm\\engine.py\u001b[0m in \u001b[0;36mtrain\u001b[1;34m(params, train_set, num_boost_round, valid_sets, valid_names, fobj, feval, init_model, feature_name, categorical_feature, early_stopping_rounds, evals_result, verbose_eval, learning_rates, keep_training_booster, callbacks)\u001b[0m\n\u001b[0;32m    250\u001b[0m                                     evaluation_result_list=None))\n\u001b[0;32m    251\u001b[0m \u001b[1;33m\u001b[0m\u001b[0m\n\u001b[1;32m--> 252\u001b[1;33m         \u001b[0mbooster\u001b[0m\u001b[1;33m.\u001b[0m\u001b[0mupdate\u001b[0m\u001b[1;33m(\u001b[0m\u001b[0mfobj\u001b[0m\u001b[1;33m=\u001b[0m\u001b[0mfobj\u001b[0m\u001b[1;33m)\u001b[0m\u001b[1;33m\u001b[0m\u001b[1;33m\u001b[0m\u001b[0m\n\u001b[0m\u001b[0;32m    253\u001b[0m \u001b[1;33m\u001b[0m\u001b[0m\n\u001b[0;32m    254\u001b[0m         \u001b[0mevaluation_result_list\u001b[0m \u001b[1;33m=\u001b[0m \u001b[1;33m[\u001b[0m\u001b[1;33m]\u001b[0m\u001b[1;33m\u001b[0m\u001b[1;33m\u001b[0m\u001b[0m\n",
      "\u001b[1;32m~\\anaconda3\\lib\\site-packages\\lightgbm\\basic.py\u001b[0m in \u001b[0;36mupdate\u001b[1;34m(self, train_set, fobj)\u001b[0m\n\u001b[0;32m   2368\u001b[0m             \u001b[1;32mif\u001b[0m \u001b[0mself\u001b[0m\u001b[1;33m.\u001b[0m\u001b[0m__set_objective_to_none\u001b[0m\u001b[1;33m:\u001b[0m\u001b[1;33m\u001b[0m\u001b[1;33m\u001b[0m\u001b[0m\n\u001b[0;32m   2369\u001b[0m                 \u001b[1;32mraise\u001b[0m \u001b[0mLightGBMError\u001b[0m\u001b[1;33m(\u001b[0m\u001b[1;34m'Cannot update due to null objective function.'\u001b[0m\u001b[1;33m)\u001b[0m\u001b[1;33m\u001b[0m\u001b[1;33m\u001b[0m\u001b[0m\n\u001b[1;32m-> 2370\u001b[1;33m             _safe_call(_LIB.LGBM_BoosterUpdateOneIter(\n\u001b[0m\u001b[0;32m   2371\u001b[0m                 \u001b[0mself\u001b[0m\u001b[1;33m.\u001b[0m\u001b[0mhandle\u001b[0m\u001b[1;33m,\u001b[0m\u001b[1;33m\u001b[0m\u001b[1;33m\u001b[0m\u001b[0m\n\u001b[0;32m   2372\u001b[0m                 ctypes.byref(is_finished)))\n",
      "\u001b[1;31mKeyboardInterrupt\u001b[0m: "
     ]
    }
   ],
   "source": [
    "# отбираем сайты для бустинга\n",
    "lgb_selector2 = FeatureSelector(estimator = lgb_clf, cv = TSCV,\\\n",
    "                               metric = 'roc_auc', use_recursion = False,\\\n",
    "                               fill_value = -1, use_value = None,\\\n",
    "                               show_progress = True)\n",
    "lgb_selector2.fit(tfidf12_tr[:idx_split], _y_tr[:idx_split])"
   ]
  },
  {
   "cell_type": "code",
   "execution_count": null,
   "metadata": {},
   "outputs": [],
   "source": []
  },
  {
   "cell_type": "code",
   "execution_count": null,
   "metadata": {},
   "outputs": [],
   "source": []
  },
  {
   "cell_type": "code",
   "execution_count": null,
   "metadata": {},
   "outputs": [],
   "source": []
  },
  {
   "cell_type": "code",
   "execution_count": null,
   "metadata": {},
   "outputs": [],
   "source": []
  },
  {
   "cell_type": "code",
   "execution_count": null,
   "metadata": {},
   "outputs": [],
   "source": []
  },
  {
   "cell_type": "code",
   "execution_count": null,
   "metadata": {},
   "outputs": [],
   "source": []
  },
  {
   "cell_type": "code",
   "execution_count": null,
   "metadata": {},
   "outputs": [],
   "source": []
  },
  {
   "cell_type": "code",
   "execution_count": null,
   "metadata": {},
   "outputs": [],
   "source": []
  },
  {
   "cell_type": "code",
   "execution_count": null,
   "metadata": {},
   "outputs": [],
   "source": []
  },
  {
   "cell_type": "code",
   "execution_count": null,
   "metadata": {},
   "outputs": [],
   "source": []
  },
  {
   "cell_type": "code",
   "execution_count": null,
   "metadata": {},
   "outputs": [],
   "source": []
  },
  {
   "cell_type": "code",
   "execution_count": null,
   "metadata": {},
   "outputs": [],
   "source": []
  },
  {
   "cell_type": "code",
   "execution_count": null,
   "metadata": {},
   "outputs": [],
   "source": []
  },
  {
   "cell_type": "code",
   "execution_count": null,
   "metadata": {},
   "outputs": [],
   "source": [
    "# отбираем сайты для логита\n",
    "logit_selector2 = FeatureSelector(estimator = logit_clf, cv = TSCV,\\\n",
    "                               metric = 'roc_auc', use_recursion = True,\\\n",
    "                               fill_value = -1, use_value = np.arange(_X_sites_tr.shape[1]).tolist(),\\\n",
    "                               show_progress = True)\n",
    "logit_selector2.fit(_X_sites_tr[:idx_split], _y_tr[:idx_split])"
   ]
  },
  {
   "cell_type": "code",
   "execution_count": null,
   "metadata": {},
   "outputs": [],
   "source": []
  },
  {
   "cell_type": "code",
   "execution_count": null,
   "metadata": {},
   "outputs": [],
   "source": []
  },
  {
   "cell_type": "code",
   "execution_count": null,
   "metadata": {},
   "outputs": [],
   "source": []
  },
  {
   "cell_type": "code",
   "execution_count": null,
   "metadata": {},
   "outputs": [],
   "source": []
  },
  {
   "cell_type": "code",
   "execution_count": null,
   "metadata": {},
   "outputs": [],
   "source": []
  },
  {
   "cell_type": "code",
   "execution_count": null,
   "metadata": {},
   "outputs": [],
   "source": []
  },
  {
   "cell_type": "code",
   "execution_count": null,
   "metadata": {},
   "outputs": [],
   "source": []
  },
  {
   "cell_type": "code",
   "execution_count": null,
   "metadata": {},
   "outputs": [],
   "source": []
  },
  {
   "cell_type": "code",
   "execution_count": null,
   "metadata": {},
   "outputs": [],
   "source": []
  },
  {
   "cell_type": "code",
   "execution_count": null,
   "metadata": {},
   "outputs": [],
   "source": []
  },
  {
   "cell_type": "code",
   "execution_count": null,
   "metadata": {},
   "outputs": [],
   "source": []
  },
  {
   "cell_type": "code",
   "execution_count": null,
   "metadata": {},
   "outputs": [],
   "source": []
  },
  {
   "cell_type": "code",
   "execution_count": null,
   "metadata": {},
   "outputs": [],
   "source": []
  },
  {
   "cell_type": "code",
   "execution_count": null,
   "metadata": {},
   "outputs": [],
   "source": []
  },
  {
   "cell_type": "code",
   "execution_count": null,
   "metadata": {},
   "outputs": [],
   "source": []
  },
  {
   "cell_type": "code",
   "execution_count": null,
   "metadata": {},
   "outputs": [],
   "source": []
  },
  {
   "cell_type": "code",
   "execution_count": null,
   "metadata": {},
   "outputs": [],
   "source": []
  },
  {
   "cell_type": "code",
   "execution_count": null,
   "metadata": {},
   "outputs": [],
   "source": []
  },
  {
   "cell_type": "code",
   "execution_count": null,
   "metadata": {},
   "outputs": [],
   "source": []
  }
 ],
 "metadata": {
  "kernelspec": {
   "display_name": "Python 3",
   "language": "python",
   "name": "python3"
  },
  "language_info": {
   "codemirror_mode": {
    "name": "ipython",
    "version": 3
   },
   "file_extension": ".py",
   "mimetype": "text/x-python",
   "name": "python",
   "nbconvert_exporter": "python",
   "pygments_lexer": "ipython3",
   "version": "3.8.3"
  }
 },
 "nbformat": 4,
 "nbformat_minor": 4
}
