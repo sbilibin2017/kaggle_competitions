{
 "cells": [
  {
   "cell_type": "code",
   "execution_count": 1,
   "metadata": {},
   "outputs": [
    {
     "data": {
      "image/png": "[encoded data removed]",
      "text/plain": [
       "<Figure size 432x86.4 with 1 Axes>"
      ]
     },
     "metadata": {
      "needs_background": "light"
     },
     "output_type": "display_data"
    }
   ],
   "source": [
    "import os, tqdm, json, pickle, gc, zipfile, itertools, time, collections, sys, requests, schedule\n",
    "import pandas as pd\n",
    "import numpy as np\n",
    "from dateutil import parser\n",
    "import warnings\n",
    "warnings.filterwarnings('ignore')\n",
    "from pathlib import Path\n",
    "from collections import defaultdict\n",
    "from datetime import datetime\n",
    "from sklearn.model_selection import train_test_split\n",
    "import catboost as cb\n",
    "from sklearn.metrics import accuracy_score, f1_score, roc_auc_score, mean_squared_error\n",
    "import catboost as cb\n",
    "from sklearn.preprocessing import LabelEncoder, MinMaxScaler\n",
    "from sklearn.inspection import permutation_importance\n",
    "from scipy import stats\n",
    "from functools import reduce\n",
    "\n",
    "import matplotlib.pyplot as plt\n",
    "import seaborn as sns\n",
    "\n",
    "custom_colors = [\"#ffd670\",\"#70d6ff\",\"#ff4d6d\",\"#8338ec\",\"#90cf8e\"]\n",
    "customPalette = sns.set_palette(sns.color_palette(custom_colors))\n",
    "sns.palplot(sns.color_palette(custom_colors),size=1.2)\n",
    "plt.tick_params(axis='both', labelsize=0, length = 0)\n",
    "\n",
    "def reduce_mem_usage(series):  \n",
    "            \n",
    "    col_type = series.dtype\n",
    "    \n",
    "    try:\n",
    "        if (col_type != object):\n",
    "            c_min = series.min()\n",
    "            c_max = series.max()\n",
    "            if str(col_type)[:3] == 'int':\n",
    "                if c_min > np.iinfo(np.int8).min and c_max < np.iinfo(np.int8).max:\n",
    "                    series= series.astype(np.int8)\n",
    "                elif c_min > np.iinfo(np.int16).min and c_max < np.iinfo(np.int16).max:\n",
    "                    series= series.astype(np.int16)\n",
    "                elif c_min > np.iinfo(np.int32).min and c_max < np.iinfo(np.int32).max:\n",
    "                    series= series.astype(np.int32)\n",
    "                elif c_min > np.iinfo(np.int64).min and c_max < np.iinfo(np.int64).max:\n",
    "                    series= series.astype(np.int64)  \n",
    "            else:\n",
    "                if c_min > np.finfo(np.float16).min and c_max < np.finfo(np.float16).max:\n",
    "                    series= series = series= series.astype(np.float16)\n",
    "                elif c_min > np.finfo(np.float32).min and c_max < np.finfo(np.float32).max:\n",
    "                    series= series.astype(np.float32)\n",
    "                else:\n",
    "                    series= series.astype(np.float64)\n",
    "        else:\n",
    "            pass\n",
    "    except:\n",
    "        pass\n",
    "    \n",
    "    return series\n",
    "\n",
    "class CatBoostEvalMetricAMEX(object):\n",
    "    \n",
    "    def get_final_error(self, error, weight):\n",
    "        return error\n",
    "\n",
    "    def is_max_optimal(self):        \n",
    "        return True\n",
    "\n",
    "    def evaluate(self, approxes, target, weight):\n",
    "\n",
    "        assert len(approxes) == 1\n",
    "        assert len(target) == len(approxes[0])\n",
    "\n",
    "        preds = np.array(approxes[0])\n",
    "        target = np.array(target)\n",
    "\n",
    "        score = self.amex_metric_numpy(target, preds)     \n",
    "\n",
    "        return score, 0\n",
    "\n",
    "    def amex_metric_numpy(self, y_true, y_pred):\n",
    "\n",
    "        # count of positives and negatives\n",
    "        n_pos = y_true.sum()\n",
    "        n_neg = y_true.shape[0] - n_pos\n",
    "\n",
    "        # sorting by descring prediction values\n",
    "        indices = np.argsort(y_pred)[::-1]\n",
    "        preds, target = y_pred[indices], y_true[indices]\n",
    "\n",
    "        # filter the top 4% by cumulative row weights\n",
    "        weight = 20.0 - target * 19.0\n",
    "        cum_norm_weight = (weight / weight.sum()).cumsum()\n",
    "        four_pct_filter = cum_norm_weight <= 0.04\n",
    "\n",
    "        # default rate captured at 4%\n",
    "        d = target[four_pct_filter].sum() / n_pos\n",
    "\n",
    "        # weighted gini coefficient\n",
    "        lorentz = (target / n_pos).cumsum()\n",
    "        gini = ((lorentz - cum_norm_weight) * weight).sum()\n",
    "\n",
    "        # max weighted gini coefficient\n",
    "        gini_max = 10 * n_neg * (1 - 19 / (n_pos + 20 * n_neg))\n",
    "\n",
    "        # normalized weighted gini coefficient\n",
    "        g = gini / gini_max\n",
    "\n",
    "        return 0.5 * (g + d)\n",
    "\n",
    "def amex_metric_official(y_true: pd.DataFrame, y_pred: pd.DataFrame) -> float:\n",
    "\n",
    "    def top_four_percent_captured(y_true: pd.DataFrame, y_pred: pd.DataFrame) -> float:\n",
    "        df = (pd.concat([y_true, y_pred], axis='columns')\n",
    "              .sort_values('prediction', ascending=False))\n",
    "        df['weight'] = df['target'].apply(lambda x: 20 if x==0 else 1)\n",
    "        four_pct_cutoff = int(0.04 * df['weight'].sum())\n",
    "        df['weight_cumsum'] = df['weight'].cumsum()\n",
    "        df_cutoff = df.loc[df['weight_cumsum'] <= four_pct_cutoff]\n",
    "        return (df_cutoff['target'] == 1).sum() / (df['target'] == 1).sum()\n",
    "\n",
    "    def weighted_gini(y_true: pd.DataFrame, y_pred: pd.DataFrame) -> float:\n",
    "        df = (pd.concat([y_true, y_pred], axis='columns')\n",
    "              .sort_values('prediction', ascending=False))\n",
    "        df['weight'] = df['target'].apply(lambda x: 20 if x==0 else 1)\n",
    "        df['random'] = (df['weight'] / df['weight'].sum()).cumsum()\n",
    "        total_pos = (df['target'] * df['weight']).sum()\n",
    "        df['cum_pos_found'] = (df['target'] * df['weight']).cumsum()\n",
    "        df['lorentz'] = df['cum_pos_found'] / total_pos\n",
    "        df['gini'] = (df['lorentz'] - df['random']) * df['weight']\n",
    "        return df['gini'].sum()\n",
    "\n",
    "    def normalized_weighted_gini(y_true: pd.DataFrame, y_pred: pd.DataFrame) -> float:\n",
    "        y_true_pred = y_true.rename(columns={'target': 'prediction'})\n",
    "        return weighted_gini(y_true, y_pred) / weighted_gini(y_true, y_true_pred)\n",
    "\n",
    "    g = normalized_weighted_gini(y_true, y_pred)\n",
    "    d = top_four_percent_captured(y_true, y_pred)\n",
    "\n",
    "    return 0.5 * (g + d)\n",
    "\n",
    "def get_metrics(model, X_eval, y_eval):\n",
    "\n",
    "    \"\"\" calulate metrics \"\"\"\n",
    "\n",
    "    pred = model.predict(X_eval)\n",
    "    pred_prob = model.predict_proba(X_eval)[:, 1]\n",
    "\n",
    "    d= {}\n",
    "\n",
    "    d['accuracy'] = accuracy_score(y_eval, pred)\n",
    "    d['f1'] = f1_score(y_eval, pred)\n",
    "    d['auc'] = roc_auc_score(y_eval, pred_prob)\n",
    "\n",
    "    y_true, y_predprob = y_eval.to_frame('target'), pd.Series(pred_prob, index = y_eval.index).to_frame('prediction')\n",
    "    d['amex_metric_official'] = amex_metric_official(y_true, y_predprob)\n",
    "\n",
    "    d['tp'] = ((y_eval==1)&(pred==1)).sum()\n",
    "    d['tn'] = ((y_eval==0)&(pred==0)).sum()\n",
    "    d['fp'] = ((y_eval==0)&(pred==1)).sum()\n",
    "    d['fn'] = ((y_eval==1)&(pred==0)).sum()\n",
    "\n",
    "    d['importances'] = ser_imp = pd.Series(dict(zip(X_eval.columns, model.feature_importances_))).sort_values(ascending = False)\n",
    "\n",
    "    return d\n",
    "\n",
    "def eval_catboost(X_train, y_train, X_eval, y_eval, eval_metric, seed, verbose, od_wait, params):\n",
    "\n",
    "    \"\"\" evaluate model \"\"\"\n",
    "\n",
    "    cat_features = np.where(X_train.dtypes=='category')[0]\n",
    "\n",
    "    if params is not None:\n",
    "        params_c = params.copy()\n",
    "    else:\n",
    "        params_c = {}   \n",
    "        params_c['iterations'] = 100\n",
    "    params_c['cat_features'] = cat_features\n",
    "    params_c['od_type'] = 'Iter'\n",
    "    params_c['od_wait'] = od_wait  \n",
    "    params_c['random_state'] = seed\n",
    "    params_c['eval_metric'] = eval_metric\n",
    "    params_c['verbose'] = verbose\n",
    "\n",
    "    model = cb.CatBoostClassifier(**params_c)\n",
    "    model.fit(X_train, y_train, eval_set = (X_eval, y_eval))    \n",
    "    best_iter = model.best_iteration_\n",
    "    return model, best_iter, get_metrics(model, X_eval, y_eval) \n",
    "\n",
    "def get_catboost_eval_results(X_train, y_train, X_eval, y_eval):\n",
    "\n",
    "    \"\"\" feature selection and eval results \"\"\"\n",
    "\n",
    "    i=1\n",
    "    while True:\n",
    "\n",
    "        print('> iter#{}. n_features: {}'.format(i, X_train.shape[1]))\n",
    "\n",
    "        model, best_iter, d_eval_results = eval_catboost(X_train, y_train, X_eval, y_eval,verbose=1)\n",
    "\n",
    "        mask = model.feature_importances_>0\n",
    "\n",
    "        if np.all(mask):\n",
    "            break\n",
    "        else:\n",
    "            best_features = X_train.columns[mask]\n",
    "            X_train, X_eval = X_train[best_features], X_eval[best_features]\n",
    "            i+=1\n",
    "    i = 1       \n",
    "    while True:\n",
    "\n",
    "        L_perm_imp = []\n",
    "        for _ in tqdm.tqdm(range(10)):\n",
    "            d_perm_imp = permutation_importance(model, X_eval, y_eval, scoring='roc_auc', n_jobs=-1, n_repeats = 1, random_state = _)    \n",
    "            L_perm_imp.append(d_perm_imp['importances_mean'])\n",
    "        mean_perm_imp = np.c_[L_perm_imp].mean(0)\n",
    "\n",
    "        mask = mean_perm_imp>0\n",
    "\n",
    "        if np.all(mask):\n",
    "            break\n",
    "        else:\n",
    "            best_features = X_train.columns[mask]\n",
    "            X_train, X_eval = X_train[best_features], X_eval[best_features]\n",
    "            model, best_iter, d_eval_results = eval_catboost(X_train, y_train, X_eval, y_eval,verbose=0)\n",
    "            i+=1\n",
    "\n",
    "    return {\n",
    "        'iterations':best_iter,        \n",
    "        'eval_results':d_eval_results\n",
    "    }\n",
    "\n",
    "def amex_metric_numpy(y_true, y_pred):\n",
    "\n",
    "    # count of positives and negatives\n",
    "    n_pos = y_true.sum()\n",
    "    n_neg = y_true.shape[0] - n_pos\n",
    "\n",
    "    # sorting by descring prediction values\n",
    "    indices = np.argsort(y_pred)[::-1]\n",
    "    preds, target = y_pred[indices], y_true[indices]\n",
    "\n",
    "    # filter the top 4% by cumulative row weights\n",
    "    weight = 20.0 - target * 19.0\n",
    "    cum_norm_weight = (weight / weight.sum()).cumsum()\n",
    "    four_pct_filter = cum_norm_weight <= 0.04\n",
    "\n",
    "    # default rate captured at 4%\n",
    "    d = target[four_pct_filter].sum() / n_pos\n",
    "\n",
    "    # weighted gini coefficient\n",
    "    lorentz = (target / n_pos).cumsum()\n",
    "    gini = ((lorentz - cum_norm_weight) * weight).sum()\n",
    "\n",
    "    # max weighted gini coefficient\n",
    "    gini_max = 10 * n_neg * (1 - 19 / (n_pos + 20 * n_neg))\n",
    "\n",
    "    # normalized weighted gini coefficient\n",
    "    g = gini / gini_max\n",
    "\n",
    "    return 0.5 * (g + d)"
   ]
  },
  {
   "cell_type": "code",
   "execution_count": 2,
   "metadata": {},
   "outputs": [],
   "source": [
    "class CFG:\n",
    "\n",
    "    # paths \n",
    "    PATH_TO_DATA = 'data'\n",
    "    PATH_TO_TRAIN_DATA = os.path.join(PATH_TO_DATA,'train_data.ftr')\n",
    "    PATH_TO_TEST_DATA = os.path.join(PATH_TO_DATA,'test_data.ftr')\n",
    "    TRAIN_LABELS = os.path.join(PATH_TO_DATA,'train_labels.csv')\n",
    "    SAMPLE_SUBMISSION = os.path.join(PATH_TO_DATA,'sample_submission.csv')\n",
    "    SEED = 13\n",
    "    TARGET_KEY= 'target'\n",
    "    ID_KEY = 'customer_ID'\n",
    "    PREDICTION_KEY= 'prediction'    \n",
    "    DATE_KEY = 'S_2'\n",
    "    PATH_OUT_TRAIN = 'train_data_out.pickle'\n",
    "    PATH_OUT_TEST = 'test_data_out.pickle'   \n",
    "    PATH_TO_FEATURES_TRAIN = 'features_train' \n",
    "\n",
    "    \n",
    "    # batch size\n",
    "    BATCH_SIZE = 1000\n",
    "    # fill value\n",
    "    DEFAULT_VALUE = -9999\n",
    "    # split\n",
    "    TEST_SIZE= .1\n",
    "    \n",
    "    # categories\n",
    "    CAT_FEATURES = [\n",
    "        'D_63', 'D_64', 'D_66', 'D_68', 'B_30', 'B_38', 'D_114', 'D_116',\n",
    "        'D_117', 'D_120', 'D_126'\n",
    "    ]\n",
    "\n",
    "    # numbers\n",
    "    NUM_FEATURES = [\n",
    "        'P_2', 'D_39', 'B_1', 'B_2', 'R_1', 'S_3', 'D_41', 'B_3', 'D_42', 'D_43', 'D_44', 'B_4',\n",
    "        'D_45', 'B_5', 'R_2', 'D_46', 'D_47', 'D_48', 'D_49', 'B_6', 'B_7', 'B_8', 'D_50', 'D_51',\n",
    "        'B_9', 'R_3', 'D_52', 'P_3', 'B_10', 'D_53', 'S_5', 'B_11', 'S_6', 'D_54', 'R_4', 'S_7',\n",
    "        'B_12', 'S_8', 'D_55', 'D_56', 'B_13', 'R_5', 'D_58', 'S_9', 'B_14', 'D_59', 'D_60',\n",
    "        'D_61', 'B_15', 'S_11', 'D_62', 'D_65', 'B_16', 'B_17', 'B_18', 'B_19', 'B_20', 'S_12',\n",
    "        'R_6', 'S_13', 'B_21', 'D_69', 'B_22', 'D_70', 'D_71', 'D_72', 'S_15', 'B_23', 'D_73', 'P_4',\n",
    "        'D_74', 'D_75', 'D_76', 'B_24', 'R_7', 'D_77', 'B_25', 'B_26', 'D_78', 'D_79', 'R_8', 'R_9', 'S_16',\n",
    "        'D_80', 'R_10', 'R_11', 'B_27', 'D_81', 'D_82', 'S_17', 'R_12', 'B_28', 'R_13', 'D_83', 'R_14',\n",
    "        'R_15', 'D_84', 'R_16', 'B_29', 'S_18', 'D_86', 'D_87', 'R_17', 'R_18', 'D_88', 'B_31', 'S_19', 'R_19',\n",
    "        'B_32', 'S_20', 'R_20', 'R_21', 'B_33', 'D_89', 'R_22', 'R_23', 'D_91', 'D_92', 'D_93', 'D_94', 'R_24',\n",
    "        'R_25', 'D_96', 'S_22', 'S_23', 'S_24', 'S_25', 'S_26', 'D_102', 'D_103', 'D_104', 'D_105', 'D_106',\n",
    "        'D_107',    'B_36', 'B_37', 'R_26', 'R_27', 'D_108', 'D_109', 'D_110', 'D_111', 'B_39', 'D_112', 'B_40',\n",
    "        'S_27','D_113', 'D_115', 'D_118', 'D_119', 'D_121', 'D_122', 'D_123', 'D_124', 'D_125', 'D_127', 'D_128',\n",
    "        'D_129', 'B_41', 'B_42', 'D_130', 'D_131', 'D_132', 'D_133', 'R_28', 'D_134', 'D_135', 'D_136', 'D_137',\n",
    "        'D_138','D_139', 'D_140', 'D_141', 'D_142', 'D_143', 'D_144', 'D_145'\n",
    "    ]\n",
    "\n",
    "    TIME_FEATURES = ['timestamp', 'year']\n",
    "\n",
    "    MAX_GROUP_SIZE = 13\n",
    "    NUM_DIFF_FEATURES = []\n",
    "    NUM_LAG_FEATURES = []\n",
    "\n",
    "    for i in range(MAX_GROUP_SIZE-1):\n",
    "        for key in NUM_FEATURES:\n",
    "            NUM_DIFF_FEATURES.append(f'{key}__diff_{i+1}')\n",
    "            NUM_LAG_FEATURES.append(f'{key}__lag_{i+1}')\n",
    "    \n",
    "    NUM_RANK_FEATURES = []\n",
    "    for i in range(MAX_GROUP_SIZE):\n",
    "        for key in NUM_FEATURES:        \n",
    "            NUM_RANK_FEATURES.append(f'{key}__rank_{i+1}')\n"
   ]
  },
  {
   "cell_type": "code",
   "execution_count": 3,
   "metadata": {},
   "outputs": [],
   "source": [
    "def load_data(CFG):\n",
    "\n",
    "    # target\n",
    "    y = pd.read_csv(CFG.TRAIN_LABELS).set_index(CFG.ID_KEY)[CFG.TARGET_KEY]\n",
    "\n",
    "    # submission\n",
    "    sample_submission = pd.read_csv(CFG.SAMPLE_SUBMISSION)\n",
    "\n",
    "    # train data\n",
    "    df_train = pd.read_feather(CFG.PATH_TO_TRAIN_DATA)\n",
    "    df_train = df_train.set_index(CFG.ID_KEY).loc[y.index].reset_index()\n",
    "    df_train_reduced= df_train.apply(reduce_mem_usage)\n",
    "    del df_train\n",
    "    gc.collect()\n",
    "    df_train = df_train_reduced\n",
    "    del df_train_reduced\n",
    "    gc.collect()    \n",
    "\n",
    "    # test data\n",
    "    df_test = pd.read_feather(CFG.PATH_TO_TEST_DATA)\n",
    "    df_test = df_test.set_index(CFG.ID_KEY)\n",
    "    df_test_reduced = df_test.apply(reduce_mem_usage)\n",
    "    del df_test\n",
    "    gc.collect()\n",
    "    df_test = df_test_reduced.reset_index()\n",
    "    del df_test_reduced\n",
    "    gc.collect()\n",
    "\n",
    "    df_train['year'] = df_train[CFG.DATE_KEY].dt.year\n",
    "    df_test['year'] = df_test[CFG.DATE_KEY].dt.year           \n",
    "\n",
    "    return df_train, df_test, y, sample_submission"
   ]
  },
  {
   "cell_type": "code",
   "execution_count": 4,
   "metadata": {},
   "outputs": [],
   "source": [
    "# load train and test data\n",
    "df_train, df_test, y, sample_submission = load_data(CFG)"
   ]
  },
  {
   "cell_type": "code",
   "execution_count": 5,
   "metadata": {},
   "outputs": [],
   "source": [
    "assert df_train.shape[1] == df_test.shape[1]+1"
   ]
  },
  {
   "cell_type": "code",
   "execution_count": 6,
   "metadata": {},
   "outputs": [],
   "source": [
    "def clip_numbers(CFG, df_train, df_test, verbose):\n",
    "\n",
    "    # series with target\n",
    "    target = df_train[CFG.TARGET_KEY]\n",
    "\n",
    "    # clip outliers\n",
    "    for i, key in enumerate(CFG.NUM_FEATURES):\n",
    "        \n",
    "        ser= df_train[key]\n",
    "\n",
    "        corr_abs = ser.to_frame().corrwith(target).abs().iloc[0]\n",
    "        \n",
    "        q1,q3=ser.quantile([.25,.95])\n",
    "        iqr =q3-q1\n",
    "        corr_abs_clipped= ser.clip(q1,q3).to_frame().corrwith(target).abs().iloc[0]\n",
    "\n",
    "        if corr_abs_clipped>corr_abs:\n",
    "            df_train[key]=df_train[key].clip(q1,q3)\n",
    "            df_test[key]=df_test[key].clip(q1,q3)\n",
    "\n",
    "            if verbose:\n",
    "                print('ITER {}/{}. {} -> CLIPPED'.format(i+1, len(CFG.NUM_FEATURES), key))\n",
    "        else:\n",
    "            \n",
    "            if verbose:\n",
    "                print('ITER {}/{}. {} -> RAW'.format(i+1, len(CFG.NUM_FEATURES),key))\n",
    "\n",
    "    return df_train, df_test"
   ]
  },
  {
   "cell_type": "code",
   "execution_count": 7,
   "metadata": {},
   "outputs": [
    {
     "name": "stdout",
     "output_type": "stream",
     "text": [
      "ITER 1/177. P_2 -> RAW\n",
      "ITER 2/177. D_39 -> RAW\n",
      "ITER 3/177. B_1 -> CLIPPED\n",
      "ITER 4/177. B_2 -> RAW\n",
      "ITER 5/177. R_1 -> CLIPPED\n",
      "ITER 6/177. S_3 -> CLIPPED\n",
      "ITER 7/177. D_41 -> CLIPPED\n",
      "ITER 8/177. B_3 -> CLIPPED\n",
      "ITER 9/177. D_42 -> CLIPPED\n",
      "ITER 10/177. D_43 -> CLIPPED\n",
      "ITER 11/177. D_44 -> CLIPPED\n",
      "ITER 12/177. B_4 -> CLIPPED\n",
      "ITER 13/177. D_45 -> CLIPPED\n",
      "ITER 14/177. B_5 -> CLIPPED\n",
      "ITER 15/177. R_2 -> RAW\n",
      "ITER 16/177. D_46 -> CLIPPED\n",
      "ITER 17/177. D_47 -> RAW\n",
      "ITER 18/177. D_48 -> CLIPPED\n",
      "ITER 19/177. D_49 -> RAW\n",
      "ITER 20/177. B_6 -> CLIPPED\n",
      "ITER 21/177. B_7 -> CLIPPED\n",
      "ITER 22/177. B_8 -> CLIPPED\n",
      "ITER 23/177. D_50 -> CLIPPED\n",
      "ITER 24/177. D_51 -> CLIPPED\n",
      "ITER 25/177. B_9 -> CLIPPED\n",
      "ITER 26/177. R_3 -> CLIPPED\n",
      "ITER 27/177. D_52 -> CLIPPED\n",
      "ITER 28/177. P_3 -> RAW\n",
      "ITER 29/177. B_10 -> CLIPPED\n",
      "ITER 30/177. D_53 -> CLIPPED\n",
      "ITER 31/177. S_5 -> CLIPPED\n",
      "ITER 32/177. B_11 -> CLIPPED\n",
      "ITER 33/177. S_6 -> RAW\n",
      "ITER 34/177. D_54 -> RAW\n",
      "ITER 35/177. R_4 -> RAW\n",
      "ITER 36/177. S_7 -> CLIPPED\n",
      "ITER 37/177. B_12 -> CLIPPED\n",
      "ITER 38/177. S_8 -> RAW\n",
      "ITER 39/177. D_55 -> CLIPPED\n",
      "ITER 40/177. D_56 -> CLIPPED\n",
      "ITER 41/177. B_13 -> CLIPPED\n",
      "ITER 42/177. R_5 -> RAW\n",
      "ITER 43/177. D_58 -> CLIPPED\n",
      "ITER 44/177. S_9 -> CLIPPED\n",
      "ITER 45/177. B_14 -> CLIPPED\n",
      "ITER 46/177. D_59 -> RAW\n",
      "ITER 47/177. D_60 -> CLIPPED\n",
      "ITER 48/177. D_61 -> CLIPPED\n",
      "ITER 49/177. B_15 -> RAW\n",
      "ITER 50/177. S_11 -> RAW\n",
      "ITER 51/177. D_62 -> CLIPPED\n",
      "ITER 52/177. D_65 -> CLIPPED\n",
      "ITER 53/177. B_16 -> RAW\n",
      "ITER 54/177. B_17 -> CLIPPED\n",
      "ITER 55/177. B_18 -> RAW\n",
      "ITER 56/177. B_19 -> CLIPPED\n",
      "ITER 57/177. B_20 -> RAW\n",
      "ITER 58/177. S_12 -> CLIPPED\n",
      "ITER 59/177. R_6 -> RAW\n",
      "ITER 60/177. S_13 -> RAW\n",
      "ITER 61/177. B_21 -> RAW\n",
      "ITER 62/177. D_69 -> CLIPPED\n",
      "ITER 63/177. B_22 -> CLIPPED\n",
      "ITER 64/177. D_70 -> CLIPPED\n",
      "ITER 65/177. D_71 -> CLIPPED\n",
      "ITER 66/177. D_72 -> RAW\n",
      "ITER 67/177. S_15 -> RAW\n",
      "ITER 68/177. B_23 -> CLIPPED\n",
      "ITER 69/177. D_73 -> CLIPPED\n",
      "ITER 70/177. P_4 -> RAW\n",
      "ITER 71/177. D_74 -> CLIPPED\n",
      "ITER 72/177. D_75 -> CLIPPED\n",
      "ITER 73/177. D_76 -> CLIPPED\n",
      "ITER 74/177. B_24 -> RAW\n",
      "ITER 75/177. R_7 -> RAW\n",
      "ITER 76/177. D_77 -> CLIPPED\n",
      "ITER 77/177. B_25 -> CLIPPED\n",
      "ITER 78/177. B_26 -> CLIPPED\n",
      "ITER 79/177. D_78 -> CLIPPED\n",
      "ITER 80/177. D_79 -> CLIPPED\n",
      "ITER 81/177. R_8 -> RAW\n",
      "ITER 82/177. R_9 -> RAW\n",
      "ITER 83/177. S_16 -> RAW\n",
      "ITER 84/177. D_80 -> RAW\n",
      "ITER 85/177. R_10 -> RAW\n",
      "ITER 86/177. R_11 -> RAW\n",
      "ITER 87/177. B_27 -> RAW\n",
      "ITER 88/177. D_81 -> RAW\n",
      "ITER 89/177. D_82 -> RAW\n",
      "ITER 90/177. S_17 -> RAW\n",
      "ITER 91/177. R_12 -> RAW\n",
      "ITER 92/177. B_28 -> CLIPPED\n",
      "ITER 93/177. R_13 -> RAW\n",
      "ITER 94/177. D_83 -> RAW\n",
      "ITER 95/177. R_14 -> RAW\n",
      "ITER 96/177. R_15 -> RAW\n",
      "ITER 97/177. D_84 -> RAW\n",
      "ITER 98/177. R_16 -> CLIPPED\n",
      "ITER 99/177. B_29 -> RAW\n",
      "ITER 100/177. S_18 -> RAW\n",
      "ITER 101/177. D_86 -> RAW\n",
      "ITER 102/177. D_87 -> RAW\n",
      "ITER 103/177. R_17 -> RAW\n",
      "ITER 104/177. R_18 -> RAW\n",
      "ITER 105/177. D_88 -> CLIPPED\n",
      "ITER 106/177. B_31 -> RAW\n",
      "ITER 107/177. S_19 -> RAW\n",
      "ITER 108/177. R_19 -> RAW\n",
      "ITER 109/177. B_32 -> RAW\n",
      "ITER 110/177. S_20 -> RAW\n",
      "ITER 111/177. R_20 -> RAW\n",
      "ITER 112/177. R_21 -> RAW\n",
      "ITER 113/177. B_33 -> CLIPPED\n",
      "ITER 114/177. D_89 -> RAW\n",
      "ITER 115/177. R_22 -> RAW\n",
      "ITER 116/177. R_23 -> RAW\n",
      "ITER 117/177. D_91 -> CLIPPED\n",
      "ITER 118/177. D_92 -> CLIPPED\n",
      "ITER 119/177. D_93 -> RAW\n",
      "ITER 120/177. D_94 -> RAW\n",
      "ITER 121/177. R_24 -> RAW\n",
      "ITER 122/177. R_25 -> RAW\n",
      "ITER 123/177. D_96 -> RAW\n",
      "ITER 124/177. S_22 -> CLIPPED\n",
      "ITER 125/177. S_23 -> CLIPPED\n",
      "ITER 126/177. S_24 -> CLIPPED\n",
      "ITER 127/177. S_25 -> RAW\n",
      "ITER 128/177. S_26 -> CLIPPED\n",
      "ITER 129/177. D_102 -> CLIPPED\n",
      "ITER 130/177. D_103 -> CLIPPED\n",
      "ITER 131/177. D_104 -> CLIPPED\n",
      "ITER 132/177. D_105 -> CLIPPED\n",
      "ITER 133/177. D_106 -> RAW\n",
      "ITER 134/177. D_107 -> CLIPPED\n",
      "ITER 135/177. B_36 -> RAW\n",
      "ITER 136/177. B_37 -> CLIPPED\n",
      "ITER 137/177. R_26 -> CLIPPED\n",
      "ITER 138/177. R_27 -> RAW\n",
      "ITER 139/177. D_108 -> CLIPPED\n",
      "ITER 140/177. D_109 -> RAW\n",
      "ITER 141/177. D_110 -> RAW\n",
      "ITER 142/177. D_111 -> RAW\n",
      "ITER 143/177. B_39 -> CLIPPED\n",
      "ITER 144/177. D_112 -> RAW\n",
      "ITER 145/177. B_40 -> CLIPPED\n",
      "ITER 146/177. S_27 -> CLIPPED\n",
      "ITER 147/177. D_113 -> CLIPPED\n",
      "ITER 148/177. D_115 -> CLIPPED\n",
      "ITER 149/177. D_118 -> CLIPPED\n",
      "ITER 150/177. D_119 -> CLIPPED\n",
      "ITER 151/177. D_121 -> RAW\n",
      "ITER 152/177. D_122 -> CLIPPED\n",
      "ITER 153/177. D_123 -> RAW\n",
      "ITER 154/177. D_124 -> CLIPPED\n",
      "ITER 155/177. D_125 -> CLIPPED\n",
      "ITER 156/177. D_127 -> CLIPPED\n",
      "ITER 157/177. D_128 -> CLIPPED\n",
      "ITER 158/177. D_129 -> RAW\n",
      "ITER 159/177. B_41 -> RAW\n",
      "ITER 160/177. B_42 -> CLIPPED\n",
      "ITER 161/177. D_130 -> RAW\n",
      "ITER 162/177. D_131 -> CLIPPED\n",
      "ITER 163/177. D_132 -> CLIPPED\n",
      "ITER 164/177. D_133 -> CLIPPED\n",
      "ITER 165/177. R_28 -> RAW\n",
      "ITER 166/177. D_134 -> CLIPPED\n",
      "ITER 167/177. D_135 -> RAW\n",
      "ITER 168/177. D_136 -> RAW\n",
      "ITER 169/177. D_137 -> RAW\n",
      "ITER 170/177. D_138 -> RAW\n",
      "ITER 171/177. D_139 -> CLIPPED\n",
      "ITER 172/177. D_140 -> RAW\n",
      "ITER 173/177. D_141 -> CLIPPED\n",
      "ITER 174/177. D_142 -> CLIPPED\n",
      "ITER 175/177. D_143 -> CLIPPED\n",
      "ITER 176/177. D_144 -> RAW\n",
      "ITER 177/177. D_145 -> CLIPPED\n"
     ]
    }
   ],
   "source": [
    "# clip\n",
    "df_train, df_test = clip_numbers(CFG, df_train, df_test, verbose=True)\n",
    "\n",
    "# export\n",
    "df_train.to_pickle(CFG.PATH_OUT_TRAIN)\n",
    "df_test.to_pickle(CFG.PATH_OUT_TEST)\n",
    "del df_train, df_test\n",
    "gc.collect()"
   ]
  },
  {
   "cell_type": "code",
   "execution_count": 3,
   "metadata": {},
   "outputs": [],
   "source": [
    "df_train = pd.read_pickle(CFG.PATH_OUT_TRAIN)"
   ]
  },
  {
   "cell_type": "code",
   "execution_count": 9,
   "metadata": {},
   "outputs": [],
   "source": [
    "def addNumeric_lag_diff_rank(CFG, df_train):\n",
    "\n",
    "    # ADD DIFFERENCE, LAG FOR NUMERIC FEATURES\n",
    "    # RANK EVERY NUMERIC FEATURE IN TIME BY VALUE\n",
    "\n",
    "    # padding dataframe\n",
    "    def add_rows(subdf, max_group_size, num_features):\n",
    "        ''' pad data for customer to max records size'''\n",
    "        size = subdf.shape[0]    \n",
    "        df_add = pd.DataFrame(np.full((max_group_size-size, len(num_features)), np.nan), columns = num_features)    \n",
    "        return df_add\n",
    "\n",
    "    # customer_ID\n",
    "    id_values = df_train[CFG.ID_KEY].unique()\n",
    "    # customer batches\n",
    "    batches = np.array_split(id_values, np.int32(np.ceil(len(id_values)/(CFG.BATCH_SIZE*10))))\n",
    "\n",
    "    # aggregation numeric features in time\n",
    "    num_in_time_agg = pd.DataFrame()\n",
    "\n",
    "    # for each batch\n",
    "    for batch in tqdm.tqdm_notebook(batches):\n",
    "\n",
    "        # slice\n",
    "        df_batch = df_train[df_train[CFG.ID_KEY].isin(batch)]\n",
    "\n",
    "        # collection\n",
    "        rows = []\n",
    "\n",
    "        for id, subdf in tqdm.tqdm_notebook(df_batch.groupby(CFG.ID_KEY)):\n",
    "\n",
    "            # features\n",
    "            d = {CFG.ID_KEY:id}\n",
    "\n",
    "            # padding history\n",
    "            subdf_pad = pd.concat([\n",
    "                add_rows(subdf, CFG.MAX_GROUP_SIZE, CFG.NUM_FEATURES),\n",
    "                subdf[CFG.NUM_FEATURES]\n",
    "            ])\n",
    "            \n",
    "            # rank every column\n",
    "            arr_pad_ordered = pd.DataFrame(\n",
    "                np.sort(subdf_pad.values, axis=0),\n",
    "                index=subdf_pad.index,\n",
    "                columns=subdf_pad.columns\n",
    "            ).fillna(CFG.DEFAULT_VALUE).values.flatten()\n",
    "            # diff\n",
    "            arr_diff = subdf_pad.diff(1).iloc[1:].values.flatten()    \n",
    "            # shift        \n",
    "            arr_shift = subdf_pad.shift(1).iloc[1:].values.flatten()\n",
    "\n",
    "            d.update(dict(zip(CFG.NUM_RANK_FEATURES, arr_pad_ordered)))\n",
    "            d.update(dict(zip(CFG.NUM_LAG_FEATURES, arr_shift)))\n",
    "            d.update(dict(zip(CFG.NUM_DIFF_FEATURES, arr_diff)))\n",
    "            \n",
    "            # collect\n",
    "            rows.append(d)        \n",
    "            del d, subdf_pad\n",
    "\n",
    "        # to dataframe\n",
    "        subdf_time_agg = pd.DataFrame.from_records(rows).replace({CFG.DEFAULT_VALUE:np.nan})\n",
    "        del rows\n",
    "        \n",
    "        # reduce memory usage\n",
    "        subdf_time_agg_reduced = subdf_time_agg.apply(reduce_mem_usage)\n",
    "        del subdf_time_agg \n",
    "\n",
    "        # update\n",
    "        num_in_time_agg = num_in_time_agg.append(subdf_time_agg_reduced)\n",
    "        del subdf_time_agg_reduced \n",
    "\n",
    "    return num_in_time_agg"
   ]
  },
  {
   "cell_type": "code",
   "execution_count": 10,
   "metadata": {},
   "outputs": [
    {
     "data": {
      "application/vnd.jupyter.widget-view+json": {
       "model_id": "70646a9275924716a19f5f82a7889baf",
       "version_major": 2,
       "version_minor": 0
      },
      "text/plain": [
       "  0%|          | 0/46 [00:00<?, ?it/s]"
      ]
     },
     "metadata": {},
     "output_type": "display_data"
    },
    {
     "data": {
      "application/vnd.jupyter.widget-view+json": {
       "model_id": "720bf0880e604975861a7d773dd6fa81",
       "version_major": 2,
       "version_minor": 0
      },
      "text/plain": [
       "  0%|          | 0/9977 [00:00<?, ?it/s]"
      ]
     },
     "metadata": {},
     "output_type": "display_data"
    },
    {
     "data": {
      "application/vnd.jupyter.widget-view+json": {
       "model_id": "d7999ca0f4a84a50afc0da031cd576f2",
       "version_major": 2,
       "version_minor": 0
      },
      "text/plain": [
       "  0%|          | 0/9977 [00:00<?, ?it/s]"
      ]
     },
     "metadata": {},
     "output_type": "display_data"
    },
    {
     "data": {
      "application/vnd.jupyter.widget-view+json": {
       "model_id": "4a1a4e4d79a34161bf606e6822494690",
       "version_major": 2,
       "version_minor": 0
      },
      "text/plain": [
       "  0%|          | 0/9977 [00:00<?, ?it/s]"
      ]
     },
     "metadata": {},
     "output_type": "display_data"
    },
    {
     "data": {
      "application/vnd.jupyter.widget-view+json": {
       "model_id": "3a5838a7d3b94572855be805ed11ccca",
       "version_major": 2,
       "version_minor": 0
      },
      "text/plain": [
       "  0%|          | 0/9977 [00:00<?, ?it/s]"
      ]
     },
     "metadata": {},
     "output_type": "display_data"
    },
    {
     "data": {
      "application/vnd.jupyter.widget-view+json": {
       "model_id": "52046e0acfb4479280536445ca172a67",
       "version_major": 2,
       "version_minor": 0
      },
      "text/plain": [
       "  0%|          | 0/9977 [00:00<?, ?it/s]"
      ]
     },
     "metadata": {},
     "output_type": "display_data"
    },
    {
     "data": {
      "application/vnd.jupyter.widget-view+json": {
       "model_id": "924e7f88ee4349a0b5b5fea3b11a6ee9",
       "version_major": 2,
       "version_minor": 0
      },
      "text/plain": [
       "  0%|          | 0/9977 [00:00<?, ?it/s]"
      ]
     },
     "metadata": {},
     "output_type": "display_data"
    },
    {
     "data": {
      "application/vnd.jupyter.widget-view+json": {
       "model_id": "8be433c47ef948ad9e60bb759586d397",
       "version_major": 2,
       "version_minor": 0
      },
      "text/plain": [
       "  0%|          | 0/9977 [00:00<?, ?it/s]"
      ]
     },
     "metadata": {},
     "output_type": "display_data"
    },
    {
     "data": {
      "application/vnd.jupyter.widget-view+json": {
       "model_id": "53f0959338cc4bf28f6751973bd24782",
       "version_major": 2,
       "version_minor": 0
      },
      "text/plain": [
       "  0%|          | 0/9977 [00:00<?, ?it/s]"
      ]
     },
     "metadata": {},
     "output_type": "display_data"
    },
    {
     "data": {
      "application/vnd.jupyter.widget-view+json": {
       "model_id": "b3b9255ca6fe483ca903cbe081cb8ade",
       "version_major": 2,
       "version_minor": 0
      },
      "text/plain": [
       "  0%|          | 0/9977 [00:00<?, ?it/s]"
      ]
     },
     "metadata": {},
     "output_type": "display_data"
    },
    {
     "data": {
      "application/vnd.jupyter.widget-view+json": {
       "model_id": "7a7f00935f214174a234812993072449",
       "version_major": 2,
       "version_minor": 0
      },
      "text/plain": [
       "  0%|          | 0/9977 [00:00<?, ?it/s]"
      ]
     },
     "metadata": {},
     "output_type": "display_data"
    },
    {
     "data": {
      "application/vnd.jupyter.widget-view+json": {
       "model_id": "538a4d1808cc4be69dd3882fbf01c48c",
       "version_major": 2,
       "version_minor": 0
      },
      "text/plain": [
       "  0%|          | 0/9977 [00:00<?, ?it/s]"
      ]
     },
     "metadata": {},
     "output_type": "display_data"
    },
    {
     "data": {
      "application/vnd.jupyter.widget-view+json": {
       "model_id": "42bcab08dfb74dcfb8efbce99ba39a82",
       "version_major": 2,
       "version_minor": 0
      },
      "text/plain": [
       "  0%|          | 0/9977 [00:00<?, ?it/s]"
      ]
     },
     "metadata": {},
     "output_type": "display_data"
    },
    {
     "data": {
      "application/vnd.jupyter.widget-view+json": {
       "model_id": "d59be0ed9a884ceea33c152704377057",
       "version_major": 2,
       "version_minor": 0
      },
      "text/plain": [
       "  0%|          | 0/9977 [00:00<?, ?it/s]"
      ]
     },
     "metadata": {},
     "output_type": "display_data"
    },
    {
     "data": {
      "application/vnd.jupyter.widget-view+json": {
       "model_id": "17868b3d35ad47f0bd66e6936f64c9e8",
       "version_major": 2,
       "version_minor": 0
      },
      "text/plain": [
       "  0%|          | 0/9977 [00:00<?, ?it/s]"
      ]
     },
     "metadata": {},
     "output_type": "display_data"
    },
    {
     "data": {
      "application/vnd.jupyter.widget-view+json": {
       "model_id": "54cc898af93040abb234db15a651892d",
       "version_major": 2,
       "version_minor": 0
      },
      "text/plain": [
       "  0%|          | 0/9977 [00:00<?, ?it/s]"
      ]
     },
     "metadata": {},
     "output_type": "display_data"
    },
    {
     "data": {
      "application/vnd.jupyter.widget-view+json": {
       "model_id": "d3671d22ce8d4d93bb6df21595438a52",
       "version_major": 2,
       "version_minor": 0
      },
      "text/plain": [
       "  0%|          | 0/9977 [00:00<?, ?it/s]"
      ]
     },
     "metadata": {},
     "output_type": "display_data"
    },
    {
     "data": {
      "application/vnd.jupyter.widget-view+json": {
       "model_id": "d3cb96e98a544d9894a95646218b45b0",
       "version_major": 2,
       "version_minor": 0
      },
      "text/plain": [
       "  0%|          | 0/9977 [00:00<?, ?it/s]"
      ]
     },
     "metadata": {},
     "output_type": "display_data"
    },
    {
     "data": {
      "application/vnd.jupyter.widget-view+json": {
       "model_id": "5a852100240e49a28d315e5b5c29c2e4",
       "version_major": 2,
       "version_minor": 0
      },
      "text/plain": [
       "  0%|          | 0/9976 [00:00<?, ?it/s]"
      ]
     },
     "metadata": {},
     "output_type": "display_data"
    },
    {
     "data": {
      "application/vnd.jupyter.widget-view+json": {
       "model_id": "2bd567a9331b4683b780485690a61e65",
       "version_major": 2,
       "version_minor": 0
      },
      "text/plain": [
       "  0%|          | 0/9976 [00:00<?, ?it/s]"
      ]
     },
     "metadata": {},
     "output_type": "display_data"
    },
    {
     "data": {
      "application/vnd.jupyter.widget-view+json": {
       "model_id": "a02638bb87bf4f8ebf8c45397eb6d43b",
       "version_major": 2,
       "version_minor": 0
      },
      "text/plain": [
       "  0%|          | 0/9976 [00:00<?, ?it/s]"
      ]
     },
     "metadata": {},
     "output_type": "display_data"
    },
    {
     "data": {
      "application/vnd.jupyter.widget-view+json": {
       "model_id": "392ca4e4dac04bc380846e7af6a87fa2",
       "version_major": 2,
       "version_minor": 0
      },
      "text/plain": [
       "  0%|          | 0/9976 [00:00<?, ?it/s]"
      ]
     },
     "metadata": {},
     "output_type": "display_data"
    },
    {
     "data": {
      "application/vnd.jupyter.widget-view+json": {
       "model_id": "9c72c65d0c3f48d480d5eb1d7a3cbd69",
       "version_major": 2,
       "version_minor": 0
      },
      "text/plain": [
       "  0%|          | 0/9976 [00:00<?, ?it/s]"
      ]
     },
     "metadata": {},
     "output_type": "display_data"
    },
    {
     "data": {
      "application/vnd.jupyter.widget-view+json": {
       "model_id": "c6233eeed9ee4a1c994284cd9a245c7d",
       "version_major": 2,
       "version_minor": 0
      },
      "text/plain": [
       "  0%|          | 0/9976 [00:00<?, ?it/s]"
      ]
     },
     "metadata": {},
     "output_type": "display_data"
    },
    {
     "data": {
      "application/vnd.jupyter.widget-view+json": {
       "model_id": "40f9c7a84f8542729b9364dde32d6185",
       "version_major": 2,
       "version_minor": 0
      },
      "text/plain": [
       "  0%|          | 0/9976 [00:00<?, ?it/s]"
      ]
     },
     "metadata": {},
     "output_type": "display_data"
    },
    {
     "data": {
      "application/vnd.jupyter.widget-view+json": {
       "model_id": "85cdd83306cf4cb0bc45966a314ebf1c",
       "version_major": 2,
       "version_minor": 0
      },
      "text/plain": [
       "  0%|          | 0/9976 [00:00<?, ?it/s]"
      ]
     },
     "metadata": {},
     "output_type": "display_data"
    },
    {
     "data": {
      "application/vnd.jupyter.widget-view+json": {
       "model_id": "b12467d7cb634c47ab358e314ca9f57e",
       "version_major": 2,
       "version_minor": 0
      },
      "text/plain": [
       "  0%|          | 0/9976 [00:00<?, ?it/s]"
      ]
     },
     "metadata": {},
     "output_type": "display_data"
    },
    {
     "data": {
      "application/vnd.jupyter.widget-view+json": {
       "model_id": "9c63ebbcac484529926f1342745992fa",
       "version_major": 2,
       "version_minor": 0
      },
      "text/plain": [
       "  0%|          | 0/9976 [00:00<?, ?it/s]"
      ]
     },
     "metadata": {},
     "output_type": "display_data"
    },
    {
     "data": {
      "application/vnd.jupyter.widget-view+json": {
       "model_id": "c962ecfdd29a45f2b3190545b81d511d",
       "version_major": 2,
       "version_minor": 0
      },
      "text/plain": [
       "  0%|          | 0/9976 [00:00<?, ?it/s]"
      ]
     },
     "metadata": {},
     "output_type": "display_data"
    },
    {
     "data": {
      "application/vnd.jupyter.widget-view+json": {
       "model_id": "054cb26413e945b5a0c852c5f00d0ece",
       "version_major": 2,
       "version_minor": 0
      },
      "text/plain": [
       "  0%|          | 0/9976 [00:00<?, ?it/s]"
      ]
     },
     "metadata": {},
     "output_type": "display_data"
    },
    {
     "data": {
      "application/vnd.jupyter.widget-view+json": {
       "model_id": "6c619bd221394504b199ff18d332eab5",
       "version_major": 2,
       "version_minor": 0
      },
      "text/plain": [
       "  0%|          | 0/9976 [00:00<?, ?it/s]"
      ]
     },
     "metadata": {},
     "output_type": "display_data"
    },
    {
     "data": {
      "application/vnd.jupyter.widget-view+json": {
       "model_id": "c0a13aabb5af41dcacdd8d21febac981",
       "version_major": 2,
       "version_minor": 0
      },
      "text/plain": [
       "  0%|          | 0/9976 [00:00<?, ?it/s]"
      ]
     },
     "metadata": {},
     "output_type": "display_data"
    },
    {
     "data": {
      "application/vnd.jupyter.widget-view+json": {
       "model_id": "0950deb71dde4b1bb69b2b0d10bee72a",
       "version_major": 2,
       "version_minor": 0
      },
      "text/plain": [
       "  0%|          | 0/9976 [00:00<?, ?it/s]"
      ]
     },
     "metadata": {},
     "output_type": "display_data"
    },
    {
     "data": {
      "application/vnd.jupyter.widget-view+json": {
       "model_id": "33028db74b294fd39ffbb58ef75bc7d5",
       "version_major": 2,
       "version_minor": 0
      },
      "text/plain": [
       "  0%|          | 0/9976 [00:00<?, ?it/s]"
      ]
     },
     "metadata": {},
     "output_type": "display_data"
    },
    {
     "data": {
      "application/vnd.jupyter.widget-view+json": {
       "model_id": "69878998bf364bcea8554d4a5db0accf",
       "version_major": 2,
       "version_minor": 0
      },
      "text/plain": [
       "  0%|          | 0/9976 [00:00<?, ?it/s]"
      ]
     },
     "metadata": {},
     "output_type": "display_data"
    },
    {
     "data": {
      "application/vnd.jupyter.widget-view+json": {
       "model_id": "c49fe1fa82234f06a33f9d216ddf91cb",
       "version_major": 2,
       "version_minor": 0
      },
      "text/plain": [
       "  0%|          | 0/9976 [00:00<?, ?it/s]"
      ]
     },
     "metadata": {},
     "output_type": "display_data"
    },
    {
     "data": {
      "application/vnd.jupyter.widget-view+json": {
       "model_id": "218bae20941a42608f8b8396c5428a21",
       "version_major": 2,
       "version_minor": 0
      },
      "text/plain": [
       "  0%|          | 0/9976 [00:00<?, ?it/s]"
      ]
     },
     "metadata": {},
     "output_type": "display_data"
    },
    {
     "data": {
      "application/vnd.jupyter.widget-view+json": {
       "model_id": "a6b66d31d79b4688bf30654f280a3025",
       "version_major": 2,
       "version_minor": 0
      },
      "text/plain": [
       "  0%|          | 0/9976 [00:00<?, ?it/s]"
      ]
     },
     "metadata": {},
     "output_type": "display_data"
    },
    {
     "data": {
      "application/vnd.jupyter.widget-view+json": {
       "model_id": "b064cb6c9b334084be3c75948d4cdcbd",
       "version_major": 2,
       "version_minor": 0
      },
      "text/plain": [
       "  0%|          | 0/9976 [00:00<?, ?it/s]"
      ]
     },
     "metadata": {},
     "output_type": "display_data"
    },
    {
     "data": {
      "application/vnd.jupyter.widget-view+json": {
       "model_id": "b8b5c33afccf47bd96085b5bc9d48351",
       "version_major": 2,
       "version_minor": 0
      },
      "text/plain": [
       "  0%|          | 0/9976 [00:00<?, ?it/s]"
      ]
     },
     "metadata": {},
     "output_type": "display_data"
    },
    {
     "data": {
      "application/vnd.jupyter.widget-view+json": {
       "model_id": "b8851b00367e459bad4467754b519b95",
       "version_major": 2,
       "version_minor": 0
      },
      "text/plain": [
       "  0%|          | 0/9976 [00:00<?, ?it/s]"
      ]
     },
     "metadata": {},
     "output_type": "display_data"
    },
    {
     "data": {
      "application/vnd.jupyter.widget-view+json": {
       "model_id": "707886b0562e41a4bf230eb25bfdf024",
       "version_major": 2,
       "version_minor": 0
      },
      "text/plain": [
       "  0%|          | 0/9976 [00:00<?, ?it/s]"
      ]
     },
     "metadata": {},
     "output_type": "display_data"
    },
    {
     "data": {
      "application/vnd.jupyter.widget-view+json": {
       "model_id": "1c77b51a5e4747a698dc125703b2fbbb",
       "version_major": 2,
       "version_minor": 0
      },
      "text/plain": [
       "  0%|          | 0/9976 [00:00<?, ?it/s]"
      ]
     },
     "metadata": {},
     "output_type": "display_data"
    },
    {
     "data": {
      "application/vnd.jupyter.widget-view+json": {
       "model_id": "5c14df597b8a4a50b9e3ed49c3f12268",
       "version_major": 2,
       "version_minor": 0
      },
      "text/plain": [
       "  0%|          | 0/9976 [00:00<?, ?it/s]"
      ]
     },
     "metadata": {},
     "output_type": "display_data"
    },
    {
     "data": {
      "application/vnd.jupyter.widget-view+json": {
       "model_id": "2bd2682862834ec1bc2e864be1c9b7ef",
       "version_major": 2,
       "version_minor": 0
      },
      "text/plain": [
       "  0%|          | 0/9976 [00:00<?, ?it/s]"
      ]
     },
     "metadata": {},
     "output_type": "display_data"
    },
    {
     "data": {
      "application/vnd.jupyter.widget-view+json": {
       "model_id": "a729eb03853f4c53939c9274d32bebb5",
       "version_major": 2,
       "version_minor": 0
      },
      "text/plain": [
       "  0%|          | 0/9976 [00:00<?, ?it/s]"
      ]
     },
     "metadata": {},
     "output_type": "display_data"
    },
    {
     "data": {
      "application/vnd.jupyter.widget-view+json": {
       "model_id": "b24fadc02a61436bb8dcd6de19024fa3",
       "version_major": 2,
       "version_minor": 0
      },
      "text/plain": [
       "  0%|          | 0/9976 [00:00<?, ?it/s]"
      ]
     },
     "metadata": {},
     "output_type": "display_data"
    }
   ],
   "source": [
    "num_in_time_agg = addNumeric_lag_diff_rank(CFG, df_train)"
   ]
  },
  {
   "cell_type": "code",
   "execution_count": 11,
   "metadata": {},
   "outputs": [
    {
     "data": {
      "text/html": [
       "<div>\n",
       "<style scoped>\n",
       "    .dataframe tbody tr th:only-of-type {\n",
       "        vertical-align: middle;\n",
       "    }\n",
       "\n",
       "    .dataframe tbody tr th {\n",
       "        vertical-align: top;\n",
       "    }\n",
       "\n",
       "    .dataframe thead th {\n",
       "        text-align: right;\n",
       "    }\n",
       "</style>\n",
       "<table border=\"1\" class=\"dataframe\">\n",
       "  <thead>\n",
       "    <tr style=\"text-align: right;\">\n",
       "      <th></th>\n",
       "      <th>customer_ID</th>\n",
       "      <th>P_2__rank_1</th>\n",
       "      <th>D_39__rank_1</th>\n",
       "      <th>B_1__rank_1</th>\n",
       "      <th>B_2__rank_1</th>\n",
       "      <th>R_1__rank_1</th>\n",
       "      <th>S_3__rank_1</th>\n",
       "      <th>D_41__rank_1</th>\n",
       "      <th>B_3__rank_1</th>\n",
       "      <th>D_42__rank_1</th>\n",
       "      <th>...</th>\n",
       "      <th>D_136__diff_12</th>\n",
       "      <th>D_137__diff_12</th>\n",
       "      <th>D_138__diff_12</th>\n",
       "      <th>D_139__diff_12</th>\n",
       "      <th>D_140__diff_12</th>\n",
       "      <th>D_141__diff_12</th>\n",
       "      <th>D_142__diff_12</th>\n",
       "      <th>D_143__diff_12</th>\n",
       "      <th>D_144__diff_12</th>\n",
       "      <th>D_145__diff_12</th>\n",
       "    </tr>\n",
       "  </thead>\n",
       "  <tbody>\n",
       "    <tr>\n",
       "      <th>0</th>\n",
       "      <td>0000099d6bd597052cdcda90ffabf56573fe9d7c79be5f...</td>\n",
       "      <td>0.868652</td>\n",
       "      <td>0.001082</td>\n",
       "      <td>0.008865</td>\n",
       "      <td>1.000000</td>\n",
       "      <td>0.002895</td>\n",
       "      <td>0.127319</td>\n",
       "      <td>0.002872</td>\n",
       "      <td>0.005226</td>\n",
       "      <td>NaN</td>\n",
       "      <td>...</td>\n",
       "      <td>NaN</td>\n",
       "      <td>NaN</td>\n",
       "      <td>NaN</td>\n",
       "      <td>0.004158</td>\n",
       "      <td>0.002258</td>\n",
       "      <td>0.002058</td>\n",
       "      <td>NaN</td>\n",
       "      <td>0.002781</td>\n",
       "      <td>-0.003378</td>\n",
       "      <td>0.004326</td>\n",
       "    </tr>\n",
       "    <tr>\n",
       "      <th>1</th>\n",
       "      <td>00000fd6641609c6ece5454664794f0340ad84dddce9a2...</td>\n",
       "      <td>0.861328</td>\n",
       "      <td>0.002224</td>\n",
       "      <td>0.008865</td>\n",
       "      <td>0.819824</td>\n",
       "      <td>0.002895</td>\n",
       "      <td>0.127319</td>\n",
       "      <td>0.002872</td>\n",
       "      <td>0.005226</td>\n",
       "      <td>NaN</td>\n",
       "      <td>...</td>\n",
       "      <td>NaN</td>\n",
       "      <td>NaN</td>\n",
       "      <td>NaN</td>\n",
       "      <td>-0.003630</td>\n",
       "      <td>0.002853</td>\n",
       "      <td>0.003052</td>\n",
       "      <td>NaN</td>\n",
       "      <td>-0.004986</td>\n",
       "      <td>0.000641</td>\n",
       "      <td>0.004929</td>\n",
       "    </tr>\n",
       "    <tr>\n",
       "      <th>2</th>\n",
       "      <td>00001b22f846c82c51f6e3958ccd81970162bae8b007e8...</td>\n",
       "      <td>0.797852</td>\n",
       "      <td>0.000802</td>\n",
       "      <td>0.008865</td>\n",
       "      <td>0.811035</td>\n",
       "      <td>0.003540</td>\n",
       "      <td>NaN</td>\n",
       "      <td>0.002872</td>\n",
       "      <td>0.005226</td>\n",
       "      <td>NaN</td>\n",
       "      <td>...</td>\n",
       "      <td>NaN</td>\n",
       "      <td>NaN</td>\n",
       "      <td>NaN</td>\n",
       "      <td>-0.000729</td>\n",
       "      <td>-0.002922</td>\n",
       "      <td>-0.000301</td>\n",
       "      <td>NaN</td>\n",
       "      <td>-0.001751</td>\n",
       "      <td>-0.006493</td>\n",
       "      <td>-0.002159</td>\n",
       "    </tr>\n",
       "    <tr>\n",
       "      <th>3</th>\n",
       "      <td>000041bdba6ecadd89a52d11886e8eaaec9325906c9723...</td>\n",
       "      <td>0.567383</td>\n",
       "      <td>0.000660</td>\n",
       "      <td>0.008865</td>\n",
       "      <td>0.812012</td>\n",
       "      <td>0.002895</td>\n",
       "      <td>0.149170</td>\n",
       "      <td>0.002872</td>\n",
       "      <td>0.005226</td>\n",
       "      <td>NaN</td>\n",
       "      <td>...</td>\n",
       "      <td>NaN</td>\n",
       "      <td>NaN</td>\n",
       "      <td>NaN</td>\n",
       "      <td>-0.006287</td>\n",
       "      <td>-0.000744</td>\n",
       "      <td>0.000000</td>\n",
       "      <td>NaN</td>\n",
       "      <td>-0.001686</td>\n",
       "      <td>0.000740</td>\n",
       "      <td>-0.003819</td>\n",
       "    </tr>\n",
       "    <tr>\n",
       "      <th>4</th>\n",
       "      <td>00007889e4fcd2614b6cbe7f8f3d2e5c728eca32d9eb8a...</td>\n",
       "      <td>0.805176</td>\n",
       "      <td>0.000030</td>\n",
       "      <td>0.008865</td>\n",
       "      <td>0.810547</td>\n",
       "      <td>0.002895</td>\n",
       "      <td>0.166138</td>\n",
       "      <td>0.002872</td>\n",
       "      <td>0.005226</td>\n",
       "      <td>NaN</td>\n",
       "      <td>...</td>\n",
       "      <td>NaN</td>\n",
       "      <td>NaN</td>\n",
       "      <td>NaN</td>\n",
       "      <td>0.000000</td>\n",
       "      <td>0.001209</td>\n",
       "      <td>-0.001514</td>\n",
       "      <td>NaN</td>\n",
       "      <td>0.003178</td>\n",
       "      <td>0.000618</td>\n",
       "      <td>0.000000</td>\n",
       "    </tr>\n",
       "  </tbody>\n",
       "</table>\n",
       "<p>5 rows × 6550 columns</p>\n",
       "</div>"
      ],
      "text/plain": [
       "                                         customer_ID  P_2__rank_1  \\\n",
       "0  0000099d6bd597052cdcda90ffabf56573fe9d7c79be5f...     0.868652   \n",
       "1  00000fd6641609c6ece5454664794f0340ad84dddce9a2...     0.861328   \n",
       "2  00001b22f846c82c51f6e3958ccd81970162bae8b007e8...     0.797852   \n",
       "3  000041bdba6ecadd89a52d11886e8eaaec9325906c9723...     0.567383   \n",
       "4  00007889e4fcd2614b6cbe7f8f3d2e5c728eca32d9eb8a...     0.805176   \n",
       "\n",
       "   D_39__rank_1  B_1__rank_1  B_2__rank_1  R_1__rank_1  S_3__rank_1  \\\n",
       "0      0.001082     0.008865     1.000000     0.002895     0.127319   \n",
       "1      0.002224     0.008865     0.819824     0.002895     0.127319   \n",
       "2      0.000802     0.008865     0.811035     0.003540          NaN   \n",
       "3      0.000660     0.008865     0.812012     0.002895     0.149170   \n",
       "4      0.000030     0.008865     0.810547     0.002895     0.166138   \n",
       "\n",
       "   D_41__rank_1  B_3__rank_1  D_42__rank_1  ...  D_136__diff_12  \\\n",
       "0      0.002872     0.005226           NaN  ...             NaN   \n",
       "1      0.002872     0.005226           NaN  ...             NaN   \n",
       "2      0.002872     0.005226           NaN  ...             NaN   \n",
       "3      0.002872     0.005226           NaN  ...             NaN   \n",
       "4      0.002872     0.005226           NaN  ...             NaN   \n",
       "\n",
       "   D_137__diff_12  D_138__diff_12  D_139__diff_12  D_140__diff_12  \\\n",
       "0             NaN             NaN        0.004158        0.002258   \n",
       "1             NaN             NaN       -0.003630        0.002853   \n",
       "2             NaN             NaN       -0.000729       -0.002922   \n",
       "3             NaN             NaN       -0.006287       -0.000744   \n",
       "4             NaN             NaN        0.000000        0.001209   \n",
       "\n",
       "   D_141__diff_12  D_142__diff_12  D_143__diff_12  D_144__diff_12  \\\n",
       "0        0.002058             NaN        0.002781       -0.003378   \n",
       "1        0.003052             NaN       -0.004986        0.000641   \n",
       "2       -0.000301             NaN       -0.001751       -0.006493   \n",
       "3        0.000000             NaN       -0.001686        0.000740   \n",
       "4       -0.001514             NaN        0.003178        0.000618   \n",
       "\n",
       "   D_145__diff_12  \n",
       "0        0.004326  \n",
       "1        0.004929  \n",
       "2       -0.002159  \n",
       "3       -0.003819  \n",
       "4        0.000000  \n",
       "\n",
       "[5 rows x 6550 columns]"
      ]
     },
     "execution_count": 11,
     "metadata": {},
     "output_type": "execute_result"
    }
   ],
   "source": [
    "num_in_time_agg.head()"
   ]
  },
  {
   "cell_type": "code",
   "execution_count": 12,
   "metadata": {},
   "outputs": [],
   "source": [
    "num_in_time_agg.to_pickle(os.path.join(CFG.PATH_TO_FEATURES_TRAIN, 'num_in_time_agg.pickle'))\n"
   ]
  },
  {
   "cell_type": "code",
   "execution_count": 13,
   "metadata": {},
   "outputs": [
    {
     "data": {
      "text/plain": [
       "(458913, 6550)"
      ]
     },
     "execution_count": 13,
     "metadata": {},
     "output_type": "execute_result"
    }
   ],
   "source": [
    "num_in_time_agg.shape"
   ]
  },
  {
   "cell_type": "code",
   "execution_count": 15,
   "metadata": {},
   "outputs": [
    {
     "data": {
      "text/plain": [
       "120"
      ]
     },
     "execution_count": 15,
     "metadata": {},
     "output_type": "execute_result"
    }
   ],
   "source": [
    "del num_in_time_agg\n",
    "gc.collect()"
   ]
  },
  {
   "cell_type": "code",
   "execution_count": 16,
   "metadata": {},
   "outputs": [],
   "source": [
    "def addNumeric_aggregation(CFG, df_train):\n",
    "    # agg numbers\n",
    "    num_agg = df_train\\\n",
    "        .groupby(CFG.ID_KEY)\\\n",
    "        [CFG.NUM_FEATURES]\\\n",
    "        .agg(['mean', 'std', 'min', 'max', 'first', 'last'])    \n",
    "    num_agg.columns = ['__'.join(x) for x in num_agg.columns]\n",
    "    num_agg.reset_index(inplace = True)\n",
    "    num_agg_reduced = num_agg.apply(reduce_mem_usage)\n",
    "    del num_agg\n",
    "    gc.collect()\n",
    "    return num_agg_reduced"
   ]
  },
  {
   "cell_type": "code",
   "execution_count": 17,
   "metadata": {},
   "outputs": [],
   "source": [
    "num_agg = addNumeric_aggregation(CFG, df_train)\n",
    "num_agg.to_pickle(os.path.join(CFG.PATH_TO_FEATURES_TRAIN, 'num_agg.pickle'))"
   ]
  },
  {
   "cell_type": "code",
   "execution_count": 18,
   "metadata": {},
   "outputs": [
    {
     "data": {
      "text/html": [
       "<div>\n",
       "<style scoped>\n",
       "    .dataframe tbody tr th:only-of-type {\n",
       "        vertical-align: middle;\n",
       "    }\n",
       "\n",
       "    .dataframe tbody tr th {\n",
       "        vertical-align: top;\n",
       "    }\n",
       "\n",
       "    .dataframe thead th {\n",
       "        text-align: right;\n",
       "    }\n",
       "</style>\n",
       "<table border=\"1\" class=\"dataframe\">\n",
       "  <thead>\n",
       "    <tr style=\"text-align: right;\">\n",
       "      <th></th>\n",
       "      <th>customer_ID</th>\n",
       "      <th>P_2__mean</th>\n",
       "      <th>P_2__std</th>\n",
       "      <th>P_2__min</th>\n",
       "      <th>P_2__max</th>\n",
       "      <th>P_2__first</th>\n",
       "      <th>P_2__last</th>\n",
       "      <th>D_39__mean</th>\n",
       "      <th>D_39__std</th>\n",
       "      <th>D_39__min</th>\n",
       "      <th>...</th>\n",
       "      <th>D_144__min</th>\n",
       "      <th>D_144__max</th>\n",
       "      <th>D_144__first</th>\n",
       "      <th>D_144__last</th>\n",
       "      <th>D_145__mean</th>\n",
       "      <th>D_145__std</th>\n",
       "      <th>D_145__min</th>\n",
       "      <th>D_145__max</th>\n",
       "      <th>D_145__first</th>\n",
       "      <th>D_145__last</th>\n",
       "    </tr>\n",
       "  </thead>\n",
       "  <tbody>\n",
       "    <tr>\n",
       "      <th>0</th>\n",
       "      <td>0000099d6bd597052cdcda90ffabf56573fe9d7c79be5f...</td>\n",
       "      <td>0.933594</td>\n",
       "      <td>0.024200</td>\n",
       "      <td>0.868652</td>\n",
       "      <td>0.960449</td>\n",
       "      <td>0.938477</td>\n",
       "      <td>0.934570</td>\n",
       "      <td>0.010704</td>\n",
       "      <td>0.024445</td>\n",
       "      <td>0.001082</td>\n",
       "      <td>...</td>\n",
       "      <td>0.000610</td>\n",
       "      <td>0.009613</td>\n",
       "      <td>0.000610</td>\n",
       "      <td>0.002970</td>\n",
       "      <td>0.006104</td>\n",
       "      <td>0.002930</td>\n",
       "      <td>0.003029</td>\n",
       "      <td>0.009827</td>\n",
       "      <td>0.003029</td>\n",
       "      <td>0.008530</td>\n",
       "    </tr>\n",
       "    <tr>\n",
       "      <th>1</th>\n",
       "      <td>00000fd6641609c6ece5454664794f0340ad84dddce9a2...</td>\n",
       "      <td>0.899902</td>\n",
       "      <td>0.022095</td>\n",
       "      <td>0.861328</td>\n",
       "      <td>0.929199</td>\n",
       "      <td>0.929199</td>\n",
       "      <td>0.880371</td>\n",
       "      <td>0.215210</td>\n",
       "      <td>0.199097</td>\n",
       "      <td>0.002224</td>\n",
       "      <td>...</td>\n",
       "      <td>0.000027</td>\n",
       "      <td>0.009567</td>\n",
       "      <td>0.000027</td>\n",
       "      <td>0.003170</td>\n",
       "      <td>0.005238</td>\n",
       "      <td>0.002327</td>\n",
       "      <td>0.003029</td>\n",
       "      <td>0.009392</td>\n",
       "      <td>0.003029</td>\n",
       "      <td>0.008514</td>\n",
       "    </tr>\n",
       "    <tr>\n",
       "      <th>2</th>\n",
       "      <td>00001b22f846c82c51f6e3958ccd81970162bae8b007e8...</td>\n",
       "      <td>0.878418</td>\n",
       "      <td>0.028839</td>\n",
       "      <td>0.797852</td>\n",
       "      <td>0.904297</td>\n",
       "      <td>0.876465</td>\n",
       "      <td>0.880859</td>\n",
       "      <td>0.004181</td>\n",
       "      <td>0.002758</td>\n",
       "      <td>0.000802</td>\n",
       "      <td>...</td>\n",
       "      <td>0.000129</td>\n",
       "      <td>0.009415</td>\n",
       "      <td>0.002739</td>\n",
       "      <td>0.000834</td>\n",
       "      <td>0.004894</td>\n",
       "      <td>0.001464</td>\n",
       "      <td>0.003029</td>\n",
       "      <td>0.006931</td>\n",
       "      <td>0.003029</td>\n",
       "      <td>0.003445</td>\n",
       "    </tr>\n",
       "    <tr>\n",
       "      <th>3</th>\n",
       "      <td>000041bdba6ecadd89a52d11886e8eaaec9325906c9723...</td>\n",
       "      <td>0.599121</td>\n",
       "      <td>0.020081</td>\n",
       "      <td>0.567383</td>\n",
       "      <td>0.623535</td>\n",
       "      <td>0.567383</td>\n",
       "      <td>0.621582</td>\n",
       "      <td>0.048859</td>\n",
       "      <td>0.088501</td>\n",
       "      <td>0.000660</td>\n",
       "      <td>...</td>\n",
       "      <td>0.000492</td>\n",
       "      <td>0.009918</td>\n",
       "      <td>0.001873</td>\n",
       "      <td>0.005558</td>\n",
       "      <td>0.005825</td>\n",
       "      <td>0.002602</td>\n",
       "      <td>0.003029</td>\n",
       "      <td>0.009834</td>\n",
       "      <td>0.007587</td>\n",
       "      <td>0.003029</td>\n",
       "    </tr>\n",
       "    <tr>\n",
       "      <th>4</th>\n",
       "      <td>00007889e4fcd2614b6cbe7f8f3d2e5c728eca32d9eb8a...</td>\n",
       "      <td>0.891602</td>\n",
       "      <td>0.042328</td>\n",
       "      <td>0.805176</td>\n",
       "      <td>0.940430</td>\n",
       "      <td>0.937012</td>\n",
       "      <td>0.872070</td>\n",
       "      <td>0.004642</td>\n",
       "      <td>0.002882</td>\n",
       "      <td>0.000030</td>\n",
       "      <td>...</td>\n",
       "      <td>0.000633</td>\n",
       "      <td>0.009438</td>\n",
       "      <td>0.003866</td>\n",
       "      <td>0.006943</td>\n",
       "      <td>0.005001</td>\n",
       "      <td>0.002722</td>\n",
       "      <td>0.003029</td>\n",
       "      <td>0.009666</td>\n",
       "      <td>0.003029</td>\n",
       "      <td>0.003029</td>\n",
       "    </tr>\n",
       "  </tbody>\n",
       "</table>\n",
       "<p>5 rows × 1063 columns</p>\n",
       "</div>"
      ],
      "text/plain": [
       "                                         customer_ID  P_2__mean  P_2__std  \\\n",
       "0  0000099d6bd597052cdcda90ffabf56573fe9d7c79be5f...   0.933594  0.024200   \n",
       "1  00000fd6641609c6ece5454664794f0340ad84dddce9a2...   0.899902  0.022095   \n",
       "2  00001b22f846c82c51f6e3958ccd81970162bae8b007e8...   0.878418  0.028839   \n",
       "3  000041bdba6ecadd89a52d11886e8eaaec9325906c9723...   0.599121  0.020081   \n",
       "4  00007889e4fcd2614b6cbe7f8f3d2e5c728eca32d9eb8a...   0.891602  0.042328   \n",
       "\n",
       "   P_2__min  P_2__max  P_2__first  P_2__last  D_39__mean  D_39__std  \\\n",
       "0  0.868652  0.960449    0.938477   0.934570    0.010704   0.024445   \n",
       "1  0.861328  0.929199    0.929199   0.880371    0.215210   0.199097   \n",
       "2  0.797852  0.904297    0.876465   0.880859    0.004181   0.002758   \n",
       "3  0.567383  0.623535    0.567383   0.621582    0.048859   0.088501   \n",
       "4  0.805176  0.940430    0.937012   0.872070    0.004642   0.002882   \n",
       "\n",
       "   D_39__min  ...  D_144__min  D_144__max  D_144__first  D_144__last  \\\n",
       "0   0.001082  ...    0.000610    0.009613      0.000610     0.002970   \n",
       "1   0.002224  ...    0.000027    0.009567      0.000027     0.003170   \n",
       "2   0.000802  ...    0.000129    0.009415      0.002739     0.000834   \n",
       "3   0.000660  ...    0.000492    0.009918      0.001873     0.005558   \n",
       "4   0.000030  ...    0.000633    0.009438      0.003866     0.006943   \n",
       "\n",
       "   D_145__mean  D_145__std  D_145__min  D_145__max  D_145__first  D_145__last  \n",
       "0     0.006104    0.002930    0.003029    0.009827      0.003029     0.008530  \n",
       "1     0.005238    0.002327    0.003029    0.009392      0.003029     0.008514  \n",
       "2     0.004894    0.001464    0.003029    0.006931      0.003029     0.003445  \n",
       "3     0.005825    0.002602    0.003029    0.009834      0.007587     0.003029  \n",
       "4     0.005001    0.002722    0.003029    0.009666      0.003029     0.003029  \n",
       "\n",
       "[5 rows x 1063 columns]"
      ]
     },
     "execution_count": 18,
     "metadata": {},
     "output_type": "execute_result"
    }
   ],
   "source": [
    "num_agg.head()"
   ]
  },
  {
   "cell_type": "code",
   "execution_count": 34,
   "metadata": {},
   "outputs": [
    {
     "data": {
      "text/plain": [
       "30"
      ]
     },
     "execution_count": 34,
     "metadata": {},
     "output_type": "execute_result"
    }
   ],
   "source": [
    "del num_agg\n",
    "gc.collect()"
   ]
  },
  {
   "cell_type": "code",
   "execution_count": 31,
   "metadata": {},
   "outputs": [],
   "source": [
    "def addCategorial_aggregation(CFG, df_train):\n",
    "    # agg categories\n",
    "    for key in CFG.CAT_FEATURES:\n",
    "        try:\n",
    "            s = df_train[key].fillna(CFG.DEFAULT_VALUE).astype('int').astype('str')\n",
    "            del s\n",
    "        except:\n",
    "            df_train[key] = df_train[key].astype('str')\n",
    "    cat_agg = df_train\\\n",
    "        .groupby(CFG.ID_KEY)\\\n",
    "        [CFG.CAT_FEATURES]\\\n",
    "        .agg(['count', 'first', 'last', 'nunique', pd.Series.mode])\n",
    "    cat_agg.columns = ['__'.join(x) for x in cat_agg.columns]\n",
    "    cat_agg.reset_index(inplace = True)    \n",
    "    return cat_agg"
   ]
  },
  {
   "cell_type": "code",
   "execution_count": 32,
   "metadata": {},
   "outputs": [],
   "source": [
    "cat_agg = addCategorial_aggregation(CFG, df_train)\n",
    "cat_agg.to_pickle(os.path.join(CFG.PATH_TO_FEATURES_TRAIN, 'cat_agg.pickle'))\n"
   ]
  },
  {
   "cell_type": "code",
   "execution_count": 33,
   "metadata": {},
   "outputs": [
    {
     "data": {
      "text/html": [
       "<div>\n",
       "<style scoped>\n",
       "    .dataframe tbody tr th:only-of-type {\n",
       "        vertical-align: middle;\n",
       "    }\n",
       "\n",
       "    .dataframe tbody tr th {\n",
       "        vertical-align: top;\n",
       "    }\n",
       "\n",
       "    .dataframe thead th {\n",
       "        text-align: right;\n",
       "    }\n",
       "</style>\n",
       "<table border=\"1\" class=\"dataframe\">\n",
       "  <thead>\n",
       "    <tr style=\"text-align: right;\">\n",
       "      <th></th>\n",
       "      <th>customer_ID</th>\n",
       "      <th>D_63__count</th>\n",
       "      <th>D_63__first</th>\n",
       "      <th>D_63__last</th>\n",
       "      <th>D_63__nunique</th>\n",
       "      <th>D_63__mode</th>\n",
       "      <th>D_64__count</th>\n",
       "      <th>D_64__first</th>\n",
       "      <th>D_64__last</th>\n",
       "      <th>D_64__nunique</th>\n",
       "      <th>...</th>\n",
       "      <th>D_120__count</th>\n",
       "      <th>D_120__first</th>\n",
       "      <th>D_120__last</th>\n",
       "      <th>D_120__nunique</th>\n",
       "      <th>D_120__mode</th>\n",
       "      <th>D_126__count</th>\n",
       "      <th>D_126__first</th>\n",
       "      <th>D_126__last</th>\n",
       "      <th>D_126__nunique</th>\n",
       "      <th>D_126__mode</th>\n",
       "    </tr>\n",
       "  </thead>\n",
       "  <tbody>\n",
       "    <tr>\n",
       "      <th>0</th>\n",
       "      <td>0000099d6bd597052cdcda90ffabf56573fe9d7c79be5f...</td>\n",
       "      <td>13</td>\n",
       "      <td>CR</td>\n",
       "      <td>CR</td>\n",
       "      <td>1</td>\n",
       "      <td>CR</td>\n",
       "      <td>13</td>\n",
       "      <td>O</td>\n",
       "      <td>O</td>\n",
       "      <td>1</td>\n",
       "      <td>...</td>\n",
       "      <td>13</td>\n",
       "      <td>0.0</td>\n",
       "      <td>0.0</td>\n",
       "      <td>1</td>\n",
       "      <td>0.0</td>\n",
       "      <td>13</td>\n",
       "      <td>1.0</td>\n",
       "      <td>1.0</td>\n",
       "      <td>1</td>\n",
       "      <td>1.0</td>\n",
       "    </tr>\n",
       "    <tr>\n",
       "      <th>1</th>\n",
       "      <td>00000fd6641609c6ece5454664794f0340ad84dddce9a2...</td>\n",
       "      <td>13</td>\n",
       "      <td>CO</td>\n",
       "      <td>CO</td>\n",
       "      <td>1</td>\n",
       "      <td>CO</td>\n",
       "      <td>13</td>\n",
       "      <td>O</td>\n",
       "      <td>O</td>\n",
       "      <td>1</td>\n",
       "      <td>...</td>\n",
       "      <td>13</td>\n",
       "      <td>0.0</td>\n",
       "      <td>0.0</td>\n",
       "      <td>2</td>\n",
       "      <td>0.0</td>\n",
       "      <td>13</td>\n",
       "      <td>1.0</td>\n",
       "      <td>1.0</td>\n",
       "      <td>1</td>\n",
       "      <td>1.0</td>\n",
       "    </tr>\n",
       "    <tr>\n",
       "      <th>2</th>\n",
       "      <td>00001b22f846c82c51f6e3958ccd81970162bae8b007e8...</td>\n",
       "      <td>13</td>\n",
       "      <td>CO</td>\n",
       "      <td>CO</td>\n",
       "      <td>1</td>\n",
       "      <td>CO</td>\n",
       "      <td>13</td>\n",
       "      <td>R</td>\n",
       "      <td>R</td>\n",
       "      <td>1</td>\n",
       "      <td>...</td>\n",
       "      <td>13</td>\n",
       "      <td>0.0</td>\n",
       "      <td>0.0</td>\n",
       "      <td>1</td>\n",
       "      <td>0.0</td>\n",
       "      <td>13</td>\n",
       "      <td>1.0</td>\n",
       "      <td>1.0</td>\n",
       "      <td>1</td>\n",
       "      <td>1.0</td>\n",
       "    </tr>\n",
       "    <tr>\n",
       "      <th>3</th>\n",
       "      <td>000041bdba6ecadd89a52d11886e8eaaec9325906c9723...</td>\n",
       "      <td>13</td>\n",
       "      <td>CO</td>\n",
       "      <td>CO</td>\n",
       "      <td>1</td>\n",
       "      <td>CO</td>\n",
       "      <td>13</td>\n",
       "      <td>O</td>\n",
       "      <td>O</td>\n",
       "      <td>1</td>\n",
       "      <td>...</td>\n",
       "      <td>13</td>\n",
       "      <td>0.0</td>\n",
       "      <td>0.0</td>\n",
       "      <td>1</td>\n",
       "      <td>0.0</td>\n",
       "      <td>13</td>\n",
       "      <td>1.0</td>\n",
       "      <td>1.0</td>\n",
       "      <td>1</td>\n",
       "      <td>1.0</td>\n",
       "    </tr>\n",
       "    <tr>\n",
       "      <th>4</th>\n",
       "      <td>00007889e4fcd2614b6cbe7f8f3d2e5c728eca32d9eb8a...</td>\n",
       "      <td>13</td>\n",
       "      <td>CO</td>\n",
       "      <td>CO</td>\n",
       "      <td>1</td>\n",
       "      <td>CO</td>\n",
       "      <td>13</td>\n",
       "      <td>O</td>\n",
       "      <td>O</td>\n",
       "      <td>1</td>\n",
       "      <td>...</td>\n",
       "      <td>13</td>\n",
       "      <td>0.0</td>\n",
       "      <td>0.0</td>\n",
       "      <td>1</td>\n",
       "      <td>0.0</td>\n",
       "      <td>13</td>\n",
       "      <td>1.0</td>\n",
       "      <td>1.0</td>\n",
       "      <td>1</td>\n",
       "      <td>1.0</td>\n",
       "    </tr>\n",
       "  </tbody>\n",
       "</table>\n",
       "<p>5 rows × 56 columns</p>\n",
       "</div>"
      ],
      "text/plain": [
       "                                         customer_ID  D_63__count D_63__first  \\\n",
       "0  0000099d6bd597052cdcda90ffabf56573fe9d7c79be5f...           13          CR   \n",
       "1  00000fd6641609c6ece5454664794f0340ad84dddce9a2...           13          CO   \n",
       "2  00001b22f846c82c51f6e3958ccd81970162bae8b007e8...           13          CO   \n",
       "3  000041bdba6ecadd89a52d11886e8eaaec9325906c9723...           13          CO   \n",
       "4  00007889e4fcd2614b6cbe7f8f3d2e5c728eca32d9eb8a...           13          CO   \n",
       "\n",
       "  D_63__last  D_63__nunique D_63__mode  D_64__count D_64__first D_64__last  \\\n",
       "0         CR              1         CR           13           O          O   \n",
       "1         CO              1         CO           13           O          O   \n",
       "2         CO              1         CO           13           R          R   \n",
       "3         CO              1         CO           13           O          O   \n",
       "4         CO              1         CO           13           O          O   \n",
       "\n",
       "   D_64__nunique  ... D_120__count  D_120__first D_120__last D_120__nunique  \\\n",
       "0              1  ...           13           0.0         0.0              1   \n",
       "1              1  ...           13           0.0         0.0              2   \n",
       "2              1  ...           13           0.0         0.0              1   \n",
       "3              1  ...           13           0.0         0.0              1   \n",
       "4              1  ...           13           0.0         0.0              1   \n",
       "\n",
       "   D_120__mode D_126__count  D_126__first D_126__last D_126__nunique  \\\n",
       "0          0.0           13           1.0         1.0              1   \n",
       "1          0.0           13           1.0         1.0              1   \n",
       "2          0.0           13           1.0         1.0              1   \n",
       "3          0.0           13           1.0         1.0              1   \n",
       "4          0.0           13           1.0         1.0              1   \n",
       "\n",
       "   D_126__mode  \n",
       "0          1.0  \n",
       "1          1.0  \n",
       "2          1.0  \n",
       "3          1.0  \n",
       "4          1.0  \n",
       "\n",
       "[5 rows x 56 columns]"
      ]
     },
     "execution_count": 33,
     "metadata": {},
     "output_type": "execute_result"
    }
   ],
   "source": [
    "cat_agg.head()"
   ]
  },
  {
   "cell_type": "code",
   "execution_count": 35,
   "metadata": {},
   "outputs": [
    {
     "data": {
      "text/plain": [
       "15"
      ]
     },
     "execution_count": 35,
     "metadata": {},
     "output_type": "execute_result"
    }
   ],
   "source": [
    "del cat_agg\n",
    "gc.collect()"
   ]
  },
  {
   "cell_type": "code",
   "execution_count": 38,
   "metadata": {},
   "outputs": [],
   "source": [
    "def addNumeric_aggregation_with_year(CFG, df_train):\n",
    "    \n",
    "    num_agg_by_year = df_train\\\n",
    "        .groupby([CFG.ID_KEY, 'year'])\\\n",
    "        [CFG.NUM_FEATURES]\\\n",
    "        .agg(['mean'])   \n",
    "    num_agg_by_year.columns = ['__'.join(x) for x in num_agg_by_year.columns]\n",
    "    num_agg_by_year_reduced = num_agg_by_year.apply(reduce_mem_usage)\n",
    "    num_agg_by_year_reduced.reset_index(inplace = True)\n",
    "    del num_agg_by_year\n",
    "    gc.collect()\n",
    "\n",
    "    ids = num_agg_by_year_reduced[CFG.ID_KEY].unique()\n",
    "    n_batches = np.int32(np.ceil(len(ids)/(CFG.BATCH_SIZE*10)))\n",
    "    batches = np.array_split(ids, n_batches)\n",
    "\n",
    "    num_growth = pd.DataFrame()\n",
    "    for batch in tqdm.tqdm_notebook(batches):\n",
    "        df = num_agg_by_year_reduced[num_agg_by_year_reduced[CFG.ID_KEY].isin(batch)]\n",
    "        L_num_growth = []\n",
    "        for id, subdf in tqdm.tqdm_notebook(df.groupby(CFG.ID_KEY)):   \n",
    "            dd = defaultdict(list)\n",
    "            d = {CFG.ID_KEY:id}\n",
    "            for i in range(len(subdf)):\n",
    "                row = subdf.iloc[i]\n",
    "                year = int(row['year'])\n",
    "                for k, v in row.iloc[2:].to_dict().items():\n",
    "                    d[f'{k}__year_{year}'] = v\n",
    "                    dd[k].append(v)\n",
    "            for k, v in dd.items():\n",
    "                k = k.split('__')[0]\n",
    "                try:\n",
    "                    d[f'{k}__growth'] = v[1]/v[0]\n",
    "                except:\n",
    "                    pass\n",
    "            L_num_growth.append(d)\n",
    "            del d, dd, subdf\n",
    "        subdf = pd.DataFrame.from_records(L_num_growth)\n",
    "        del L_num_growth\n",
    "        gc.collect()\n",
    "        num_growth = num_growth.append(subdf)\n",
    "        del subdf\n",
    "\n",
    "    return num_growth"
   ]
  },
  {
   "cell_type": "code",
   "execution_count": 39,
   "metadata": {},
   "outputs": [
    {
     "data": {
      "application/vnd.jupyter.widget-view+json": {
       "model_id": "de56a049750b405c88a6c0858cc70775",
       "version_major": 2,
       "version_minor": 0
      },
      "text/plain": [
       "  0%|          | 0/46 [00:00<?, ?it/s]"
      ]
     },
     "metadata": {},
     "output_type": "display_data"
    },
    {
     "data": {
      "application/vnd.jupyter.widget-view+json": {
       "model_id": "66034149239d4adba18fcdd780d56668",
       "version_major": 2,
       "version_minor": 0
      },
      "text/plain": [
       "  0%|          | 0/9977 [00:00<?, ?it/s]"
      ]
     },
     "metadata": {},
     "output_type": "display_data"
    },
    {
     "data": {
      "application/vnd.jupyter.widget-view+json": {
       "model_id": "bc41ee3b5fb74a1e8bf0e8e3643a230d",
       "version_major": 2,
       "version_minor": 0
      },
      "text/plain": [
       "  0%|          | 0/9977 [00:00<?, ?it/s]"
      ]
     },
     "metadata": {},
     "output_type": "display_data"
    },
    {
     "data": {
      "application/vnd.jupyter.widget-view+json": {
       "model_id": "d97499f938064056bcf91f52883d6924",
       "version_major": 2,
       "version_minor": 0
      },
      "text/plain": [
       "  0%|          | 0/9977 [00:00<?, ?it/s]"
      ]
     },
     "metadata": {},
     "output_type": "display_data"
    },
    {
     "data": {
      "application/vnd.jupyter.widget-view+json": {
       "model_id": "c472563c5ffd44e5b4680385ba88c0fb",
       "version_major": 2,
       "version_minor": 0
      },
      "text/plain": [
       "  0%|          | 0/9977 [00:00<?, ?it/s]"
      ]
     },
     "metadata": {},
     "output_type": "display_data"
    },
    {
     "data": {
      "application/vnd.jupyter.widget-view+json": {
       "model_id": "9bab2d3515bd4d59a06ae2ceef42570c",
       "version_major": 2,
       "version_minor": 0
      },
      "text/plain": [
       "  0%|          | 0/9977 [00:00<?, ?it/s]"
      ]
     },
     "metadata": {},
     "output_type": "display_data"
    },
    {
     "data": {
      "application/vnd.jupyter.widget-view+json": {
       "model_id": "12abc1bed5e446daa3cc09a0297b9d87",
       "version_major": 2,
       "version_minor": 0
      },
      "text/plain": [
       "  0%|          | 0/9977 [00:00<?, ?it/s]"
      ]
     },
     "metadata": {},
     "output_type": "display_data"
    },
    {
     "data": {
      "application/vnd.jupyter.widget-view+json": {
       "model_id": "45aceef61b2840af8ab1a721eef562ff",
       "version_major": 2,
       "version_minor": 0
      },
      "text/plain": [
       "  0%|          | 0/9977 [00:00<?, ?it/s]"
      ]
     },
     "metadata": {},
     "output_type": "display_data"
    },
    {
     "data": {
      "application/vnd.jupyter.widget-view+json": {
       "model_id": "00570c9e63594aea9dfe5420aab18c70",
       "version_major": 2,
       "version_minor": 0
      },
      "text/plain": [
       "  0%|          | 0/9977 [00:00<?, ?it/s]"
      ]
     },
     "metadata": {},
     "output_type": "display_data"
    },
    {
     "data": {
      "application/vnd.jupyter.widget-view+json": {
       "model_id": "b886e74dbcdc403ba8f3fedd07cfc940",
       "version_major": 2,
       "version_minor": 0
      },
      "text/plain": [
       "  0%|          | 0/9977 [00:00<?, ?it/s]"
      ]
     },
     "metadata": {},
     "output_type": "display_data"
    },
    {
     "data": {
      "application/vnd.jupyter.widget-view+json": {
       "model_id": "d32916d0b50441cba432c5017a711706",
       "version_major": 2,
       "version_minor": 0
      },
      "text/plain": [
       "  0%|          | 0/9977 [00:00<?, ?it/s]"
      ]
     },
     "metadata": {},
     "output_type": "display_data"
    },
    {
     "data": {
      "application/vnd.jupyter.widget-view+json": {
       "model_id": "842b217acadf4058a58e613643b4c158",
       "version_major": 2,
       "version_minor": 0
      },
      "text/plain": [
       "  0%|          | 0/9977 [00:00<?, ?it/s]"
      ]
     },
     "metadata": {},
     "output_type": "display_data"
    },
    {
     "data": {
      "application/vnd.jupyter.widget-view+json": {
       "model_id": "2d301997ddd341c99270685c22a9da44",
       "version_major": 2,
       "version_minor": 0
      },
      "text/plain": [
       "  0%|          | 0/9977 [00:00<?, ?it/s]"
      ]
     },
     "metadata": {},
     "output_type": "display_data"
    },
    {
     "data": {
      "application/vnd.jupyter.widget-view+json": {
       "model_id": "9dcb2a5602ed4d84883425b776a7e654",
       "version_major": 2,
       "version_minor": 0
      },
      "text/plain": [
       "  0%|          | 0/9977 [00:00<?, ?it/s]"
      ]
     },
     "metadata": {},
     "output_type": "display_data"
    },
    {
     "data": {
      "application/vnd.jupyter.widget-view+json": {
       "model_id": "af31e5c73edd43d69ab189ab652a2650",
       "version_major": 2,
       "version_minor": 0
      },
      "text/plain": [
       "  0%|          | 0/9977 [00:00<?, ?it/s]"
      ]
     },
     "metadata": {},
     "output_type": "display_data"
    },
    {
     "data": {
      "application/vnd.jupyter.widget-view+json": {
       "model_id": "b97d844d42b74c4897e568e4c8d47353",
       "version_major": 2,
       "version_minor": 0
      },
      "text/plain": [
       "  0%|          | 0/9977 [00:00<?, ?it/s]"
      ]
     },
     "metadata": {},
     "output_type": "display_data"
    },
    {
     "data": {
      "application/vnd.jupyter.widget-view+json": {
       "model_id": "5a6ecff996284b9689c604d0bab879be",
       "version_major": 2,
       "version_minor": 0
      },
      "text/plain": [
       "  0%|          | 0/9977 [00:00<?, ?it/s]"
      ]
     },
     "metadata": {},
     "output_type": "display_data"
    },
    {
     "data": {
      "application/vnd.jupyter.widget-view+json": {
       "model_id": "d73480d4a2e04121ac2631e695301443",
       "version_major": 2,
       "version_minor": 0
      },
      "text/plain": [
       "  0%|          | 0/9977 [00:00<?, ?it/s]"
      ]
     },
     "metadata": {},
     "output_type": "display_data"
    },
    {
     "data": {
      "application/vnd.jupyter.widget-view+json": {
       "model_id": "8cadd88f81c94fabb0eb0645f83e6557",
       "version_major": 2,
       "version_minor": 0
      },
      "text/plain": [
       "  0%|          | 0/9976 [00:00<?, ?it/s]"
      ]
     },
     "metadata": {},
     "output_type": "display_data"
    },
    {
     "data": {
      "application/vnd.jupyter.widget-view+json": {
       "model_id": "bfd8a84e7acc48a5b38b1b0a694ca423",
       "version_major": 2,
       "version_minor": 0
      },
      "text/plain": [
       "  0%|          | 0/9976 [00:00<?, ?it/s]"
      ]
     },
     "metadata": {},
     "output_type": "display_data"
    },
    {
     "data": {
      "application/vnd.jupyter.widget-view+json": {
       "model_id": "052fd6b741bc4faca34febcd695774a3",
       "version_major": 2,
       "version_minor": 0
      },
      "text/plain": [
       "  0%|          | 0/9976 [00:00<?, ?it/s]"
      ]
     },
     "metadata": {},
     "output_type": "display_data"
    },
    {
     "data": {
      "application/vnd.jupyter.widget-view+json": {
       "model_id": "2ed1df5a16914c85935df39b0c24ad48",
       "version_major": 2,
       "version_minor": 0
      },
      "text/plain": [
       "  0%|          | 0/9976 [00:00<?, ?it/s]"
      ]
     },
     "metadata": {},
     "output_type": "display_data"
    },
    {
     "data": {
      "application/vnd.jupyter.widget-view+json": {
       "model_id": "d9584fbdc61f4419b68240035f728b19",
       "version_major": 2,
       "version_minor": 0
      },
      "text/plain": [
       "  0%|          | 0/9976 [00:00<?, ?it/s]"
      ]
     },
     "metadata": {},
     "output_type": "display_data"
    },
    {
     "data": {
      "application/vnd.jupyter.widget-view+json": {
       "model_id": "c3d9e430594246258711dd5fa66adfc1",
       "version_major": 2,
       "version_minor": 0
      },
      "text/plain": [
       "  0%|          | 0/9976 [00:00<?, ?it/s]"
      ]
     },
     "metadata": {},
     "output_type": "display_data"
    },
    {
     "data": {
      "application/vnd.jupyter.widget-view+json": {
       "model_id": "dc2bf4f1c4a54dbf9afe24cf01db53dc",
       "version_major": 2,
       "version_minor": 0
      },
      "text/plain": [
       "  0%|          | 0/9976 [00:00<?, ?it/s]"
      ]
     },
     "metadata": {},
     "output_type": "display_data"
    },
    {
     "data": {
      "application/vnd.jupyter.widget-view+json": {
       "model_id": "c29c09bf50ab42f690b7ff7de9519ec1",
       "version_major": 2,
       "version_minor": 0
      },
      "text/plain": [
       "  0%|          | 0/9976 [00:00<?, ?it/s]"
      ]
     },
     "metadata": {},
     "output_type": "display_data"
    },
    {
     "data": {
      "application/vnd.jupyter.widget-view+json": {
       "model_id": "9c41c1486cd24c08abf1e73548cd56f8",
       "version_major": 2,
       "version_minor": 0
      },
      "text/plain": [
       "  0%|          | 0/9976 [00:00<?, ?it/s]"
      ]
     },
     "metadata": {},
     "output_type": "display_data"
    },
    {
     "data": {
      "application/vnd.jupyter.widget-view+json": {
       "model_id": "164e3cc3da96463186303cff2fda0362",
       "version_major": 2,
       "version_minor": 0
      },
      "text/plain": [
       "  0%|          | 0/9976 [00:00<?, ?it/s]"
      ]
     },
     "metadata": {},
     "output_type": "display_data"
    },
    {
     "data": {
      "application/vnd.jupyter.widget-view+json": {
       "model_id": "fe1139c26b6242d4b9d1946f9d19626a",
       "version_major": 2,
       "version_minor": 0
      },
      "text/plain": [
       "  0%|          | 0/9976 [00:00<?, ?it/s]"
      ]
     },
     "metadata": {},
     "output_type": "display_data"
    },
    {
     "data": {
      "application/vnd.jupyter.widget-view+json": {
       "model_id": "e74703a8a7e04f82911eab667c567e72",
       "version_major": 2,
       "version_minor": 0
      },
      "text/plain": [
       "  0%|          | 0/9976 [00:00<?, ?it/s]"
      ]
     },
     "metadata": {},
     "output_type": "display_data"
    },
    {
     "data": {
      "application/vnd.jupyter.widget-view+json": {
       "model_id": "b476663adff347fdb0a9b398010d8ca2",
       "version_major": 2,
       "version_minor": 0
      },
      "text/plain": [
       "  0%|          | 0/9976 [00:00<?, ?it/s]"
      ]
     },
     "metadata": {},
     "output_type": "display_data"
    },
    {
     "data": {
      "application/vnd.jupyter.widget-view+json": {
       "model_id": "d43cf63c84624ea988253d66012cbd05",
       "version_major": 2,
       "version_minor": 0
      },
      "text/plain": [
       "  0%|          | 0/9976 [00:00<?, ?it/s]"
      ]
     },
     "metadata": {},
     "output_type": "display_data"
    },
    {
     "data": {
      "application/vnd.jupyter.widget-view+json": {
       "model_id": "5f738c8b1d7c4a449d67cfd64ef63a5a",
       "version_major": 2,
       "version_minor": 0
      },
      "text/plain": [
       "  0%|          | 0/9976 [00:00<?, ?it/s]"
      ]
     },
     "metadata": {},
     "output_type": "display_data"
    },
    {
     "data": {
      "application/vnd.jupyter.widget-view+json": {
       "model_id": "69404144933c42cba8a81ed643c7594d",
       "version_major": 2,
       "version_minor": 0
      },
      "text/plain": [
       "  0%|          | 0/9976 [00:00<?, ?it/s]"
      ]
     },
     "metadata": {},
     "output_type": "display_data"
    },
    {
     "data": {
      "application/vnd.jupyter.widget-view+json": {
       "model_id": "af05364409944e84be863f5174a6b207",
       "version_major": 2,
       "version_minor": 0
      },
      "text/plain": [
       "  0%|          | 0/9976 [00:00<?, ?it/s]"
      ]
     },
     "metadata": {},
     "output_type": "display_data"
    },
    {
     "data": {
      "application/vnd.jupyter.widget-view+json": {
       "model_id": "e10da4e677834730ba5a503210d3dbe3",
       "version_major": 2,
       "version_minor": 0
      },
      "text/plain": [
       "  0%|          | 0/9976 [00:00<?, ?it/s]"
      ]
     },
     "metadata": {},
     "output_type": "display_data"
    },
    {
     "data": {
      "application/vnd.jupyter.widget-view+json": {
       "model_id": "f15aa61e7fe34d23a0f9aad7aa6635a9",
       "version_major": 2,
       "version_minor": 0
      },
      "text/plain": [
       "  0%|          | 0/9976 [00:00<?, ?it/s]"
      ]
     },
     "metadata": {},
     "output_type": "display_data"
    },
    {
     "data": {
      "application/vnd.jupyter.widget-view+json": {
       "model_id": "6df6a694c3894570ace17f2f3116f93f",
       "version_major": 2,
       "version_minor": 0
      },
      "text/plain": [
       "  0%|          | 0/9976 [00:00<?, ?it/s]"
      ]
     },
     "metadata": {},
     "output_type": "display_data"
    },
    {
     "data": {
      "application/vnd.jupyter.widget-view+json": {
       "model_id": "eadadaa12a384bb4bcdf41a882966464",
       "version_major": 2,
       "version_minor": 0
      },
      "text/plain": [
       "  0%|          | 0/9976 [00:00<?, ?it/s]"
      ]
     },
     "metadata": {},
     "output_type": "display_data"
    },
    {
     "data": {
      "application/vnd.jupyter.widget-view+json": {
       "model_id": "a1eb4d87bca24156afee16968245896a",
       "version_major": 2,
       "version_minor": 0
      },
      "text/plain": [
       "  0%|          | 0/9976 [00:00<?, ?it/s]"
      ]
     },
     "metadata": {},
     "output_type": "display_data"
    },
    {
     "data": {
      "application/vnd.jupyter.widget-view+json": {
       "model_id": "81e6e31b0e9245289d71c2b78c08f475",
       "version_major": 2,
       "version_minor": 0
      },
      "text/plain": [
       "  0%|          | 0/9976 [00:00<?, ?it/s]"
      ]
     },
     "metadata": {},
     "output_type": "display_data"
    },
    {
     "data": {
      "application/vnd.jupyter.widget-view+json": {
       "model_id": "62cab5469b314ada933171b49645dc43",
       "version_major": 2,
       "version_minor": 0
      },
      "text/plain": [
       "  0%|          | 0/9976 [00:00<?, ?it/s]"
      ]
     },
     "metadata": {},
     "output_type": "display_data"
    },
    {
     "data": {
      "application/vnd.jupyter.widget-view+json": {
       "model_id": "efca400f015d44099513ca8db5e72497",
       "version_major": 2,
       "version_minor": 0
      },
      "text/plain": [
       "  0%|          | 0/9976 [00:00<?, ?it/s]"
      ]
     },
     "metadata": {},
     "output_type": "display_data"
    },
    {
     "data": {
      "application/vnd.jupyter.widget-view+json": {
       "model_id": "d65ee2a2890d4661bee8110909c3e81b",
       "version_major": 2,
       "version_minor": 0
      },
      "text/plain": [
       "  0%|          | 0/9976 [00:00<?, ?it/s]"
      ]
     },
     "metadata": {},
     "output_type": "display_data"
    },
    {
     "data": {
      "application/vnd.jupyter.widget-view+json": {
       "model_id": "8e5022c327974e0abada97135eb61d0e",
       "version_major": 2,
       "version_minor": 0
      },
      "text/plain": [
       "  0%|          | 0/9976 [00:00<?, ?it/s]"
      ]
     },
     "metadata": {},
     "output_type": "display_data"
    },
    {
     "data": {
      "application/vnd.jupyter.widget-view+json": {
       "model_id": "1f75663bf42a43ef922f4b8f3b29ae10",
       "version_major": 2,
       "version_minor": 0
      },
      "text/plain": [
       "  0%|          | 0/9976 [00:00<?, ?it/s]"
      ]
     },
     "metadata": {},
     "output_type": "display_data"
    },
    {
     "data": {
      "application/vnd.jupyter.widget-view+json": {
       "model_id": "bddcf5626f904e65bcca702732be7d17",
       "version_major": 2,
       "version_minor": 0
      },
      "text/plain": [
       "  0%|          | 0/9976 [00:00<?, ?it/s]"
      ]
     },
     "metadata": {},
     "output_type": "display_data"
    }
   ],
   "source": [
    "num_agg_with_year = addNumeric_aggregation_with_year(CFG, df_train)\n",
    "num_agg_with_year.to_pickle(os.path.join(CFG.PATH_TO_FEATURES_TRAIN, 'num_agg_with_year.pickle'))"
   ]
  },
  {
   "cell_type": "code",
   "execution_count": 40,
   "metadata": {},
   "outputs": [
    {
     "data": {
      "text/html": [
       "<div>\n",
       "<style scoped>\n",
       "    .dataframe tbody tr th:only-of-type {\n",
       "        vertical-align: middle;\n",
       "    }\n",
       "\n",
       "    .dataframe tbody tr th {\n",
       "        vertical-align: top;\n",
       "    }\n",
       "\n",
       "    .dataframe thead th {\n",
       "        text-align: right;\n",
       "    }\n",
       "</style>\n",
       "<table border=\"1\" class=\"dataframe\">\n",
       "  <thead>\n",
       "    <tr style=\"text-align: right;\">\n",
       "      <th></th>\n",
       "      <th>customer_ID</th>\n",
       "      <th>P_2__mean__year_2017</th>\n",
       "      <th>D_39__mean__year_2017</th>\n",
       "      <th>B_1__mean__year_2017</th>\n",
       "      <th>B_2__mean__year_2017</th>\n",
       "      <th>R_1__mean__year_2017</th>\n",
       "      <th>S_3__mean__year_2017</th>\n",
       "      <th>D_41__mean__year_2017</th>\n",
       "      <th>B_3__mean__year_2017</th>\n",
       "      <th>D_42__mean__year_2017</th>\n",
       "      <th>...</th>\n",
       "      <th>D_136__growth</th>\n",
       "      <th>D_137__growth</th>\n",
       "      <th>D_138__growth</th>\n",
       "      <th>D_139__growth</th>\n",
       "      <th>D_140__growth</th>\n",
       "      <th>D_141__growth</th>\n",
       "      <th>D_142__growth</th>\n",
       "      <th>D_143__growth</th>\n",
       "      <th>D_144__growth</th>\n",
       "      <th>D_145__growth</th>\n",
       "    </tr>\n",
       "  </thead>\n",
       "  <tbody>\n",
       "    <tr>\n",
       "      <th>0</th>\n",
       "      <td>0000099d6bd597052cdcda90ffabf56573fe9d7c79be5f...</td>\n",
       "      <td>0.935547</td>\n",
       "      <td>0.012184</td>\n",
       "      <td>0.013611</td>\n",
       "      <td>1.004883</td>\n",
       "      <td>0.005013</td>\n",
       "      <td>0.127319</td>\n",
       "      <td>0.006027</td>\n",
       "      <td>0.007355</td>\n",
       "      <td>NaN</td>\n",
       "      <td>...</td>\n",
       "      <td>NaN</td>\n",
       "      <td>NaN</td>\n",
       "      <td>NaN</td>\n",
       "      <td>1.038600</td>\n",
       "      <td>0.614183</td>\n",
       "      <td>0.666233</td>\n",
       "      <td>NaN</td>\n",
       "      <td>0.931169</td>\n",
       "      <td>0.729181</td>\n",
       "      <td>1.056998</td>\n",
       "    </tr>\n",
       "    <tr>\n",
       "      <th>1</th>\n",
       "      <td>00000fd6641609c6ece5454664794f0340ad84dddce9a2...</td>\n",
       "      <td>0.905762</td>\n",
       "      <td>0.187134</td>\n",
       "      <td>0.025848</td>\n",
       "      <td>0.987305</td>\n",
       "      <td>0.006294</td>\n",
       "      <td>0.128540</td>\n",
       "      <td>0.005512</td>\n",
       "      <td>0.006634</td>\n",
       "      <td>NaN</td>\n",
       "      <td>...</td>\n",
       "      <td>NaN</td>\n",
       "      <td>NaN</td>\n",
       "      <td>NaN</td>\n",
       "      <td>1.064655</td>\n",
       "      <td>1.162879</td>\n",
       "      <td>0.777589</td>\n",
       "      <td>NaN</td>\n",
       "      <td>0.939751</td>\n",
       "      <td>0.966786</td>\n",
       "      <td>0.952450</td>\n",
       "    </tr>\n",
       "    <tr>\n",
       "      <th>2</th>\n",
       "      <td>00001b22f846c82c51f6e3958ccd81970162bae8b007e8...</td>\n",
       "      <td>0.877441</td>\n",
       "      <td>0.003876</td>\n",
       "      <td>0.008980</td>\n",
       "      <td>0.815918</td>\n",
       "      <td>0.006546</td>\n",
       "      <td>NaN</td>\n",
       "      <td>0.006847</td>\n",
       "      <td>0.006748</td>\n",
       "      <td>NaN</td>\n",
       "      <td>...</td>\n",
       "      <td>NaN</td>\n",
       "      <td>NaN</td>\n",
       "      <td>NaN</td>\n",
       "      <td>1.457627</td>\n",
       "      <td>1.640449</td>\n",
       "      <td>0.603385</td>\n",
       "      <td>NaN</td>\n",
       "      <td>1.130942</td>\n",
       "      <td>1.198128</td>\n",
       "      <td>0.780903</td>\n",
       "    </tr>\n",
       "    <tr>\n",
       "      <th>3</th>\n",
       "      <td>000041bdba6ecadd89a52d11886e8eaaec9325906c9723...</td>\n",
       "      <td>0.592773</td>\n",
       "      <td>0.062378</td>\n",
       "      <td>0.072937</td>\n",
       "      <td>0.943359</td>\n",
       "      <td>0.005875</td>\n",
       "      <td>0.231445</td>\n",
       "      <td>0.005199</td>\n",
       "      <td>0.007229</td>\n",
       "      <td>NaN</td>\n",
       "      <td>...</td>\n",
       "      <td>NaN</td>\n",
       "      <td>NaN</td>\n",
       "      <td>NaN</td>\n",
       "      <td>0.844654</td>\n",
       "      <td>0.967890</td>\n",
       "      <td>0.562766</td>\n",
       "      <td>NaN</td>\n",
       "      <td>1.412456</td>\n",
       "      <td>1.079870</td>\n",
       "      <td>0.685298</td>\n",
       "    </tr>\n",
       "    <tr>\n",
       "      <th>4</th>\n",
       "      <td>00007889e4fcd2614b6cbe7f8f3d2e5c728eca32d9eb8a...</td>\n",
       "      <td>0.895996</td>\n",
       "      <td>0.004993</td>\n",
       "      <td>0.008865</td>\n",
       "      <td>0.814941</td>\n",
       "      <td>0.004223</td>\n",
       "      <td>0.173096</td>\n",
       "      <td>0.006283</td>\n",
       "      <td>0.006573</td>\n",
       "      <td>NaN</td>\n",
       "      <td>...</td>\n",
       "      <td>NaN</td>\n",
       "      <td>NaN</td>\n",
       "      <td>NaN</td>\n",
       "      <td>0.584315</td>\n",
       "      <td>0.543201</td>\n",
       "      <td>1.025566</td>\n",
       "      <td>NaN</td>\n",
       "      <td>1.226341</td>\n",
       "      <td>1.282004</td>\n",
       "      <td>1.061872</td>\n",
       "    </tr>\n",
       "  </tbody>\n",
       "</table>\n",
       "<p>5 rows × 532 columns</p>\n",
       "</div>"
      ],
      "text/plain": [
       "                                         customer_ID  P_2__mean__year_2017  \\\n",
       "0  0000099d6bd597052cdcda90ffabf56573fe9d7c79be5f...              0.935547   \n",
       "1  00000fd6641609c6ece5454664794f0340ad84dddce9a2...              0.905762   \n",
       "2  00001b22f846c82c51f6e3958ccd81970162bae8b007e8...              0.877441   \n",
       "3  000041bdba6ecadd89a52d11886e8eaaec9325906c9723...              0.592773   \n",
       "4  00007889e4fcd2614b6cbe7f8f3d2e5c728eca32d9eb8a...              0.895996   \n",
       "\n",
       "   D_39__mean__year_2017  B_1__mean__year_2017  B_2__mean__year_2017  \\\n",
       "0               0.012184              0.013611              1.004883   \n",
       "1               0.187134              0.025848              0.987305   \n",
       "2               0.003876              0.008980              0.815918   \n",
       "3               0.062378              0.072937              0.943359   \n",
       "4               0.004993              0.008865              0.814941   \n",
       "\n",
       "   R_1__mean__year_2017  S_3__mean__year_2017  D_41__mean__year_2017  \\\n",
       "0              0.005013              0.127319               0.006027   \n",
       "1              0.006294              0.128540               0.005512   \n",
       "2              0.006546                   NaN               0.006847   \n",
       "3              0.005875              0.231445               0.005199   \n",
       "4              0.004223              0.173096               0.006283   \n",
       "\n",
       "   B_3__mean__year_2017  D_42__mean__year_2017  ...  D_136__growth  \\\n",
       "0              0.007355                    NaN  ...            NaN   \n",
       "1              0.006634                    NaN  ...            NaN   \n",
       "2              0.006748                    NaN  ...            NaN   \n",
       "3              0.007229                    NaN  ...            NaN   \n",
       "4              0.006573                    NaN  ...            NaN   \n",
       "\n",
       "   D_137__growth  D_138__growth  D_139__growth  D_140__growth  D_141__growth  \\\n",
       "0            NaN            NaN       1.038600       0.614183       0.666233   \n",
       "1            NaN            NaN       1.064655       1.162879       0.777589   \n",
       "2            NaN            NaN       1.457627       1.640449       0.603385   \n",
       "3            NaN            NaN       0.844654       0.967890       0.562766   \n",
       "4            NaN            NaN       0.584315       0.543201       1.025566   \n",
       "\n",
       "   D_142__growth  D_143__growth  D_144__growth  D_145__growth  \n",
       "0            NaN       0.931169       0.729181       1.056998  \n",
       "1            NaN       0.939751       0.966786       0.952450  \n",
       "2            NaN       1.130942       1.198128       0.780903  \n",
       "3            NaN       1.412456       1.079870       0.685298  \n",
       "4            NaN       1.226341       1.282004       1.061872  \n",
       "\n",
       "[5 rows x 532 columns]"
      ]
     },
     "execution_count": 40,
     "metadata": {},
     "output_type": "execute_result"
    }
   ],
   "source": [
    "num_agg_with_year.head()"
   ]
  },
  {
   "cell_type": "code",
   "execution_count": 41,
   "metadata": {},
   "outputs": [
    {
     "data": {
      "text/plain": [
       "34"
      ]
     },
     "execution_count": 41,
     "metadata": {},
     "output_type": "execute_result"
    }
   ],
   "source": [
    "del num_agg_with_year\n",
    "gc.collect()"
   ]
  },
  {
   "cell_type": "code",
   "execution_count": null,
   "metadata": {},
   "outputs": [],
   "source": []
  },
  {
   "cell_type": "code",
   "execution_count": 3,
   "metadata": {},
   "outputs": [],
   "source": [
    "cat_agg = pd.read_pickle(os.path.join(CFG.PATH_TO_FEATURES_TRAIN, 'cat_agg.pickle'))\n",
    "num_agg = pd.read_pickle(os.path.join(CFG.PATH_TO_FEATURES_TRAIN, 'num_agg.pickle'))\n",
    "num_agg_with_year = pd.read_pickle(os.path.join(CFG.PATH_TO_FEATURES_TRAIN, 'num_agg_with_year.pickle'))\n",
    "num_in_time_agg = pd.read_pickle(os.path.join(CFG.PATH_TO_FEATURES_TRAIN, 'num_in_time_agg.pickle'))"
   ]
  },
  {
   "cell_type": "code",
   "execution_count": 4,
   "metadata": {},
   "outputs": [],
   "source": [
    "assert CFG.ID_KEY in num_agg_with_year.columns\n",
    "assert CFG.ID_KEY in cat_agg.columns\n",
    "assert CFG.ID_KEY in num_agg.columns\n",
    "assert CFG.ID_KEY in num_in_time_agg.columns"
   ]
  },
  {
   "cell_type": "code",
   "execution_count": 5,
   "metadata": {},
   "outputs": [],
   "source": [
    "df_features = reduce(\n",
    "    lambda  left,right: pd.merge(left,right,on=CFG.ID_KEY,how='inner'),\n",
    "    [cat_agg, num_agg, num_agg_with_year, num_in_time_agg]\n",
    ")\n",
    "del cat_agg, num_agg, num_agg_with_year, num_in_time_agg\n",
    "gc.collect()\n",
    "\n",
    "df_features = df_features.set_index(CFG.ID_KEY)"
   ]
  },
  {
   "cell_type": "code",
   "execution_count": 6,
   "metadata": {},
   "outputs": [
    {
     "data": {
      "text/html": [
       "<div>\n",
       "<style scoped>\n",
       "    .dataframe tbody tr th:only-of-type {\n",
       "        vertical-align: middle;\n",
       "    }\n",
       "\n",
       "    .dataframe tbody tr th {\n",
       "        vertical-align: top;\n",
       "    }\n",
       "\n",
       "    .dataframe thead th {\n",
       "        text-align: right;\n",
       "    }\n",
       "</style>\n",
       "<table border=\"1\" class=\"dataframe\">\n",
       "  <thead>\n",
       "    <tr style=\"text-align: right;\">\n",
       "      <th></th>\n",
       "      <th>D_63__count</th>\n",
       "      <th>D_63__first</th>\n",
       "      <th>D_63__last</th>\n",
       "      <th>D_63__nunique</th>\n",
       "      <th>D_63__mode</th>\n",
       "      <th>D_64__count</th>\n",
       "      <th>D_64__first</th>\n",
       "      <th>D_64__last</th>\n",
       "      <th>D_64__nunique</th>\n",
       "      <th>D_64__mode</th>\n",
       "      <th>...</th>\n",
       "      <th>D_136__diff_12</th>\n",
       "      <th>D_137__diff_12</th>\n",
       "      <th>D_138__diff_12</th>\n",
       "      <th>D_139__diff_12</th>\n",
       "      <th>D_140__diff_12</th>\n",
       "      <th>D_141__diff_12</th>\n",
       "      <th>D_142__diff_12</th>\n",
       "      <th>D_143__diff_12</th>\n",
       "      <th>D_144__diff_12</th>\n",
       "      <th>D_145__diff_12</th>\n",
       "    </tr>\n",
       "    <tr>\n",
       "      <th>customer_ID</th>\n",
       "      <th></th>\n",
       "      <th></th>\n",
       "      <th></th>\n",
       "      <th></th>\n",
       "      <th></th>\n",
       "      <th></th>\n",
       "      <th></th>\n",
       "      <th></th>\n",
       "      <th></th>\n",
       "      <th></th>\n",
       "      <th></th>\n",
       "      <th></th>\n",
       "      <th></th>\n",
       "      <th></th>\n",
       "      <th></th>\n",
       "      <th></th>\n",
       "      <th></th>\n",
       "      <th></th>\n",
       "      <th></th>\n",
       "      <th></th>\n",
       "      <th></th>\n",
       "    </tr>\n",
       "  </thead>\n",
       "  <tbody>\n",
       "    <tr>\n",
       "      <th>0000099d6bd597052cdcda90ffabf56573fe9d7c79be5fbac11a8ed792feb62a</th>\n",
       "      <td>13</td>\n",
       "      <td>CR</td>\n",
       "      <td>CR</td>\n",
       "      <td>1</td>\n",
       "      <td>CR</td>\n",
       "      <td>13</td>\n",
       "      <td>O</td>\n",
       "      <td>O</td>\n",
       "      <td>1</td>\n",
       "      <td>O</td>\n",
       "      <td>...</td>\n",
       "      <td>NaN</td>\n",
       "      <td>NaN</td>\n",
       "      <td>NaN</td>\n",
       "      <td>0.004158</td>\n",
       "      <td>0.002258</td>\n",
       "      <td>0.002058</td>\n",
       "      <td>NaN</td>\n",
       "      <td>0.002781</td>\n",
       "      <td>-0.003378</td>\n",
       "      <td>0.004326</td>\n",
       "    </tr>\n",
       "    <tr>\n",
       "      <th>00000fd6641609c6ece5454664794f0340ad84dddce9a267a310b5ae68e9d8e5</th>\n",
       "      <td>13</td>\n",
       "      <td>CO</td>\n",
       "      <td>CO</td>\n",
       "      <td>1</td>\n",
       "      <td>CO</td>\n",
       "      <td>13</td>\n",
       "      <td>O</td>\n",
       "      <td>O</td>\n",
       "      <td>1</td>\n",
       "      <td>O</td>\n",
       "      <td>...</td>\n",
       "      <td>NaN</td>\n",
       "      <td>NaN</td>\n",
       "      <td>NaN</td>\n",
       "      <td>-0.003630</td>\n",
       "      <td>0.002853</td>\n",
       "      <td>0.003052</td>\n",
       "      <td>NaN</td>\n",
       "      <td>-0.004986</td>\n",
       "      <td>0.000641</td>\n",
       "      <td>0.004929</td>\n",
       "    </tr>\n",
       "    <tr>\n",
       "      <th>00001b22f846c82c51f6e3958ccd81970162bae8b007e80662ef27519fcc18c1</th>\n",
       "      <td>13</td>\n",
       "      <td>CO</td>\n",
       "      <td>CO</td>\n",
       "      <td>1</td>\n",
       "      <td>CO</td>\n",
       "      <td>13</td>\n",
       "      <td>R</td>\n",
       "      <td>R</td>\n",
       "      <td>1</td>\n",
       "      <td>R</td>\n",
       "      <td>...</td>\n",
       "      <td>NaN</td>\n",
       "      <td>NaN</td>\n",
       "      <td>NaN</td>\n",
       "      <td>-0.000729</td>\n",
       "      <td>-0.002922</td>\n",
       "      <td>-0.000301</td>\n",
       "      <td>NaN</td>\n",
       "      <td>-0.001751</td>\n",
       "      <td>-0.006493</td>\n",
       "      <td>-0.002159</td>\n",
       "    </tr>\n",
       "    <tr>\n",
       "      <th>000041bdba6ecadd89a52d11886e8eaaec9325906c9723355abb5ca523658edc</th>\n",
       "      <td>13</td>\n",
       "      <td>CO</td>\n",
       "      <td>CO</td>\n",
       "      <td>1</td>\n",
       "      <td>CO</td>\n",
       "      <td>13</td>\n",
       "      <td>O</td>\n",
       "      <td>O</td>\n",
       "      <td>1</td>\n",
       "      <td>O</td>\n",
       "      <td>...</td>\n",
       "      <td>NaN</td>\n",
       "      <td>NaN</td>\n",
       "      <td>NaN</td>\n",
       "      <td>-0.006287</td>\n",
       "      <td>-0.000744</td>\n",
       "      <td>0.000000</td>\n",
       "      <td>NaN</td>\n",
       "      <td>-0.001686</td>\n",
       "      <td>0.000740</td>\n",
       "      <td>-0.003819</td>\n",
       "    </tr>\n",
       "    <tr>\n",
       "      <th>00007889e4fcd2614b6cbe7f8f3d2e5c728eca32d9eb8ad51ca8b8c4a24cefed</th>\n",
       "      <td>13</td>\n",
       "      <td>CO</td>\n",
       "      <td>CO</td>\n",
       "      <td>1</td>\n",
       "      <td>CO</td>\n",
       "      <td>13</td>\n",
       "      <td>O</td>\n",
       "      <td>O</td>\n",
       "      <td>1</td>\n",
       "      <td>O</td>\n",
       "      <td>...</td>\n",
       "      <td>NaN</td>\n",
       "      <td>NaN</td>\n",
       "      <td>NaN</td>\n",
       "      <td>0.000000</td>\n",
       "      <td>0.001209</td>\n",
       "      <td>-0.001514</td>\n",
       "      <td>NaN</td>\n",
       "      <td>0.003178</td>\n",
       "      <td>0.000618</td>\n",
       "      <td>0.000000</td>\n",
       "    </tr>\n",
       "  </tbody>\n",
       "</table>\n",
       "<p>5 rows × 8197 columns</p>\n",
       "</div>"
      ],
      "text/plain": [
       "                                                    D_63__count D_63__first  \\\n",
       "customer_ID                                                                   \n",
       "0000099d6bd597052cdcda90ffabf56573fe9d7c79be5fb...           13          CR   \n",
       "00000fd6641609c6ece5454664794f0340ad84dddce9a26...           13          CO   \n",
       "00001b22f846c82c51f6e3958ccd81970162bae8b007e80...           13          CO   \n",
       "000041bdba6ecadd89a52d11886e8eaaec9325906c97233...           13          CO   \n",
       "00007889e4fcd2614b6cbe7f8f3d2e5c728eca32d9eb8ad...           13          CO   \n",
       "\n",
       "                                                   D_63__last  D_63__nunique  \\\n",
       "customer_ID                                                                    \n",
       "0000099d6bd597052cdcda90ffabf56573fe9d7c79be5fb...         CR              1   \n",
       "00000fd6641609c6ece5454664794f0340ad84dddce9a26...         CO              1   \n",
       "00001b22f846c82c51f6e3958ccd81970162bae8b007e80...         CO              1   \n",
       "000041bdba6ecadd89a52d11886e8eaaec9325906c97233...         CO              1   \n",
       "00007889e4fcd2614b6cbe7f8f3d2e5c728eca32d9eb8ad...         CO              1   \n",
       "\n",
       "                                                   D_63__mode  D_64__count  \\\n",
       "customer_ID                                                                  \n",
       "0000099d6bd597052cdcda90ffabf56573fe9d7c79be5fb...         CR           13   \n",
       "00000fd6641609c6ece5454664794f0340ad84dddce9a26...         CO           13   \n",
       "00001b22f846c82c51f6e3958ccd81970162bae8b007e80...         CO           13   \n",
       "000041bdba6ecadd89a52d11886e8eaaec9325906c97233...         CO           13   \n",
       "00007889e4fcd2614b6cbe7f8f3d2e5c728eca32d9eb8ad...         CO           13   \n",
       "\n",
       "                                                   D_64__first D_64__last  \\\n",
       "customer_ID                                                                 \n",
       "0000099d6bd597052cdcda90ffabf56573fe9d7c79be5fb...           O          O   \n",
       "00000fd6641609c6ece5454664794f0340ad84dddce9a26...           O          O   \n",
       "00001b22f846c82c51f6e3958ccd81970162bae8b007e80...           R          R   \n",
       "000041bdba6ecadd89a52d11886e8eaaec9325906c97233...           O          O   \n",
       "00007889e4fcd2614b6cbe7f8f3d2e5c728eca32d9eb8ad...           O          O   \n",
       "\n",
       "                                                    D_64__nunique D_64__mode  \\\n",
       "customer_ID                                                                    \n",
       "0000099d6bd597052cdcda90ffabf56573fe9d7c79be5fb...              1          O   \n",
       "00000fd6641609c6ece5454664794f0340ad84dddce9a26...              1          O   \n",
       "00001b22f846c82c51f6e3958ccd81970162bae8b007e80...              1          R   \n",
       "000041bdba6ecadd89a52d11886e8eaaec9325906c97233...              1          O   \n",
       "00007889e4fcd2614b6cbe7f8f3d2e5c728eca32d9eb8ad...              1          O   \n",
       "\n",
       "                                                    ...  D_136__diff_12  \\\n",
       "customer_ID                                         ...                   \n",
       "0000099d6bd597052cdcda90ffabf56573fe9d7c79be5fb...  ...             NaN   \n",
       "00000fd6641609c6ece5454664794f0340ad84dddce9a26...  ...             NaN   \n",
       "00001b22f846c82c51f6e3958ccd81970162bae8b007e80...  ...             NaN   \n",
       "000041bdba6ecadd89a52d11886e8eaaec9325906c97233...  ...             NaN   \n",
       "00007889e4fcd2614b6cbe7f8f3d2e5c728eca32d9eb8ad...  ...             NaN   \n",
       "\n",
       "                                                   D_137__diff_12  \\\n",
       "customer_ID                                                         \n",
       "0000099d6bd597052cdcda90ffabf56573fe9d7c79be5fb...            NaN   \n",
       "00000fd6641609c6ece5454664794f0340ad84dddce9a26...            NaN   \n",
       "00001b22f846c82c51f6e3958ccd81970162bae8b007e80...            NaN   \n",
       "000041bdba6ecadd89a52d11886e8eaaec9325906c97233...            NaN   \n",
       "00007889e4fcd2614b6cbe7f8f3d2e5c728eca32d9eb8ad...            NaN   \n",
       "\n",
       "                                                   D_138__diff_12  \\\n",
       "customer_ID                                                         \n",
       "0000099d6bd597052cdcda90ffabf56573fe9d7c79be5fb...            NaN   \n",
       "00000fd6641609c6ece5454664794f0340ad84dddce9a26...            NaN   \n",
       "00001b22f846c82c51f6e3958ccd81970162bae8b007e80...            NaN   \n",
       "000041bdba6ecadd89a52d11886e8eaaec9325906c97233...            NaN   \n",
       "00007889e4fcd2614b6cbe7f8f3d2e5c728eca32d9eb8ad...            NaN   \n",
       "\n",
       "                                                    D_139__diff_12  \\\n",
       "customer_ID                                                          \n",
       "0000099d6bd597052cdcda90ffabf56573fe9d7c79be5fb...        0.004158   \n",
       "00000fd6641609c6ece5454664794f0340ad84dddce9a26...       -0.003630   \n",
       "00001b22f846c82c51f6e3958ccd81970162bae8b007e80...       -0.000729   \n",
       "000041bdba6ecadd89a52d11886e8eaaec9325906c97233...       -0.006287   \n",
       "00007889e4fcd2614b6cbe7f8f3d2e5c728eca32d9eb8ad...        0.000000   \n",
       "\n",
       "                                                   D_140__diff_12  \\\n",
       "customer_ID                                                         \n",
       "0000099d6bd597052cdcda90ffabf56573fe9d7c79be5fb...       0.002258   \n",
       "00000fd6641609c6ece5454664794f0340ad84dddce9a26...       0.002853   \n",
       "00001b22f846c82c51f6e3958ccd81970162bae8b007e80...      -0.002922   \n",
       "000041bdba6ecadd89a52d11886e8eaaec9325906c97233...      -0.000744   \n",
       "00007889e4fcd2614b6cbe7f8f3d2e5c728eca32d9eb8ad...       0.001209   \n",
       "\n",
       "                                                    D_141__diff_12  \\\n",
       "customer_ID                                                          \n",
       "0000099d6bd597052cdcda90ffabf56573fe9d7c79be5fb...        0.002058   \n",
       "00000fd6641609c6ece5454664794f0340ad84dddce9a26...        0.003052   \n",
       "00001b22f846c82c51f6e3958ccd81970162bae8b007e80...       -0.000301   \n",
       "000041bdba6ecadd89a52d11886e8eaaec9325906c97233...        0.000000   \n",
       "00007889e4fcd2614b6cbe7f8f3d2e5c728eca32d9eb8ad...       -0.001514   \n",
       "\n",
       "                                                   D_142__diff_12  \\\n",
       "customer_ID                                                         \n",
       "0000099d6bd597052cdcda90ffabf56573fe9d7c79be5fb...            NaN   \n",
       "00000fd6641609c6ece5454664794f0340ad84dddce9a26...            NaN   \n",
       "00001b22f846c82c51f6e3958ccd81970162bae8b007e80...            NaN   \n",
       "000041bdba6ecadd89a52d11886e8eaaec9325906c97233...            NaN   \n",
       "00007889e4fcd2614b6cbe7f8f3d2e5c728eca32d9eb8ad...            NaN   \n",
       "\n",
       "                                                   D_143__diff_12  \\\n",
       "customer_ID                                                         \n",
       "0000099d6bd597052cdcda90ffabf56573fe9d7c79be5fb...       0.002781   \n",
       "00000fd6641609c6ece5454664794f0340ad84dddce9a26...      -0.004986   \n",
       "00001b22f846c82c51f6e3958ccd81970162bae8b007e80...      -0.001751   \n",
       "000041bdba6ecadd89a52d11886e8eaaec9325906c97233...      -0.001686   \n",
       "00007889e4fcd2614b6cbe7f8f3d2e5c728eca32d9eb8ad...       0.003178   \n",
       "\n",
       "                                                    D_144__diff_12  \\\n",
       "customer_ID                                                          \n",
       "0000099d6bd597052cdcda90ffabf56573fe9d7c79be5fb...       -0.003378   \n",
       "00000fd6641609c6ece5454664794f0340ad84dddce9a26...        0.000641   \n",
       "00001b22f846c82c51f6e3958ccd81970162bae8b007e80...       -0.006493   \n",
       "000041bdba6ecadd89a52d11886e8eaaec9325906c97233...        0.000740   \n",
       "00007889e4fcd2614b6cbe7f8f3d2e5c728eca32d9eb8ad...        0.000618   \n",
       "\n",
       "                                                   D_145__diff_12  \n",
       "customer_ID                                                        \n",
       "0000099d6bd597052cdcda90ffabf56573fe9d7c79be5fb...       0.004326  \n",
       "00000fd6641609c6ece5454664794f0340ad84dddce9a26...       0.004929  \n",
       "00001b22f846c82c51f6e3958ccd81970162bae8b007e80...      -0.002159  \n",
       "000041bdba6ecadd89a52d11886e8eaaec9325906c97233...      -0.003819  \n",
       "00007889e4fcd2614b6cbe7f8f3d2e5c728eca32d9eb8ad...       0.000000  \n",
       "\n",
       "[5 rows x 8197 columns]"
      ]
     },
     "execution_count": 6,
     "metadata": {},
     "output_type": "execute_result"
    }
   ],
   "source": [
    "df_features.head()"
   ]
  },
  {
   "cell_type": "code",
   "execution_count": 7,
   "metadata": {},
   "outputs": [],
   "source": [
    "df_features.to_pickle(os.path.join(CFG.PATH_TO_FEATURES_TRAIN, 'df_features.pickle'))"
   ]
  },
  {
   "cell_type": "code",
   "execution_count": null,
   "metadata": {},
   "outputs": [],
   "source": [
    "del df_features\n",
    "gc.collect()"
   ]
  },
  {
   "cell_type": "code",
   "execution_count": null,
   "metadata": {},
   "outputs": [],
   "source": []
  },
  {
   "cell_type": "code",
   "execution_count": null,
   "metadata": {},
   "outputs": [],
   "source": []
  },
  {
   "cell_type": "code",
   "execution_count": null,
   "metadata": {},
   "outputs": [],
   "source": []
  }
 ],
 "metadata": {
  "kernelspec": {
   "display_name": "Python 3.8.8 ('base')",
   "language": "python",
   "name": "python3"
  },
  "language_info": {
   "codemirror_mode": {
    "name": "ipython",
    "version": 3
   },
   "file_extension": ".py",
   "mimetype": "text/x-python",
   "name": "python",
   "nbconvert_exporter": "python",
   "pygments_lexer": "ipython3",
   "version": "3.8.8"
  },
  "orig_nbformat": 4,
  "vscode": {
   "interpreter": {
    "hash": "899f0a3c5ad0e42f7243cad936495903bada6a93186c371d9f61c48e98383a75"
   }
  }
 },
 "nbformat": 4,
 "nbformat_minor": 2
}
