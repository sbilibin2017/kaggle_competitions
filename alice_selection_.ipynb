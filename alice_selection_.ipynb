{
 "cells": [
  {
   "cell_type": "code",
   "execution_count": 1,
   "metadata": {},
   "outputs": [],
   "source": [
    "import pandas as pd\n",
    "import numpy as np\n",
    "from scipy import  stats\n",
    "import seaborn as sns\n",
    "import matplotlib.pyplot as plt\n",
    "plt.style.use('ggplot')\n",
    "import warnings\n",
    "warnings.filterwarnings('ignore')\n",
    "from tqdm import tqdm_notebook\n",
    "from sklearn.feature_extraction.text import TfidfVectorizer\n",
    "from scipy.sparse import csc_matrix, hstack\n",
    "from sklearn.model_selection import cross_validate, train_test_split, TimeSeriesSplit, cross_val_score\n",
    "from sklearn.metrics import roc_auc_score\n",
    "from sklearn.linear_model import LogisticRegression\n",
    "from lightgbm import LGBMClassifier\n",
    "from sklearn.preprocessing import MinMaxScaler\n",
    "from sklearn.base import BaseEstimator, TransformerMixin, ClassifierMixin, clone\n",
    "from xgboost import XGBClassifier\n",
    "from sklearn.ensemble import RandomForestClassifier\n",
    "from sklearn.neighbors import KNeighborsClassifier\n",
    "import pickle\n",
    "from sklearn.preprocessing import OneHotEncoder\n",
    "from collections import defaultdict\n",
    "from matplotlib_venn import venn2"
   ]
  },
  {
   "cell_type": "code",
   "execution_count": 14,
   "metadata": {},
   "outputs": [],
   "source": [
    "class FeatureSelector():\n",
    "    def __init__(self, estimator, metric, cv, use_values, use_recursion, fill_na, show_progress):\n",
    "        self.estimator = estimator\n",
    "        self.metric = metric\n",
    "        self.cv = cv\n",
    "        self.use_values = use_values        \n",
    "        self.use_recursion = use_recursion\n",
    "        self.show_progress = show_progress\n",
    "        self.fill_na = fill_na\n",
    "    def fit(self, X, Y):        \n",
    "        flag = isinstance(X[:, 0], csc_matrix)\n",
    "        # список с результатами валидации\n",
    "        column_value_score = []\n",
    "        # проходим по признакам\n",
    "        for i in tqdm_notebook(range(X.shape[1])):\n",
    "            # если формат матрицы признаков == csc_matrix\n",
    "            if flag:\n",
    "                # выбираем столбец, преобразуем\n",
    "                ser = pd.DataFrame(X[:, i].todense())[0].values.flatten()\n",
    "            # если формат != csc_matrix\n",
    "            else:\n",
    "                # выбираем столбец\n",
    "                ser = X[:, i]        \n",
    "            # если столбец в списке с проверкой значений \n",
    "            if self.use_values is not None:                \n",
    "                if i in self.use_values:\n",
    "                    # уникальные значения столбца\n",
    "                    unique_values = np.unique(ser)  \n",
    "                    # валидируем каждое значение\n",
    "                    for val in unique_values:\n",
    "                        _x = np.int32(ser==val).reshape(-1,1)\n",
    "                        column_value_score.append((i, val,\\\n",
    "                                                   cross_val_score(self.estimator,\\\n",
    "                                                                   _x, Y,\\\n",
    "                                                                   scoring = self.metric,\\\n",
    "                                                                   cv = self.cv).mean()))\n",
    "                else: \n",
    "                    # валидируем столбец\n",
    "                    column_value_score.append((i, None,\\\n",
    "                                               cross_val_score(self.estimator,\\\n",
    "                                                               _x, Y,\\\n",
    "                                                               scoring = self.metric,\\\n",
    "                                                               cv = self.cv).mean()))\n",
    "            else:\n",
    "                # валидируем столбец\n",
    "                    column_value_score.append((i, None,\\\n",
    "                                               cross_val_score(self.estimator,\\\n",
    "                                                               ser.reshape(-1,1), Y,\\\n",
    "                                                               scoring = self.metric,\\\n",
    "                                                               cv = self.cv).mean()))\n",
    "                \n",
    "\n",
    "        # признаки и значения признаков в порядке убывания валидации\n",
    "        order = np.array(sorted(column_value_score, key = lambda x: x[-1], reverse = True))[:, :2]             \n",
    "        # список лучших признаков\n",
    "        best_features = []\n",
    "        # словарь лучших значений признаков\n",
    "        D_best_features = defaultdict(list)\n",
    "        # список с признаками, не давшими прироста\n",
    "        to_drop = []\n",
    "        # лучшее значение метрики\n",
    "        best_score = 0\n",
    "        # проходим по признакам и значениям признаков в порядке убывания валидации\n",
    "        for feature, feature_value in tqdm_notebook(order):   \n",
    "\n",
    "            # добавляем текущие признаки/значения\n",
    "            if feature_value is None:\n",
    "                best_features.append(feature)               \n",
    "            else:\n",
    "                D_best_features[feature].append(feature_value)\n",
    "\n",
    "            # обновляем матрицы\n",
    "            L = []\n",
    "            for k, v in D_best_features.items():\n",
    "                if isinstance(X[:, k], csc_matrix):\n",
    "                    L.append(pd.DataFrame(X[:, k].tocsc().todense())[0].apply(lambda x: x if x in v else self.fill_na))\n",
    "                else:\n",
    "                    L.append(pd.Series(X[:, k].flatten()).apply(lambda x: x if x in v else self.fill_na))\n",
    "\n",
    "            if flag:\n",
    "                if (len(best_features)>0) & (len(L)>0):\n",
    "                    _X = csc_matrix(hstack([X[:, best_features], csc_matrix(np.column_stack(L)) ]))\n",
    "                elif (len(best_features)==0) & (len(L)>0):\n",
    "                    _X = csc_matrix(np.column_stack(L))\n",
    "                elif (len(best_features)>0) & (len(L)==0):\n",
    "                    _X = csc_matrix(X[:, best_features])                    \n",
    "                        \n",
    "            else:\n",
    "                if (len(best_features)>0) & (len(L)>0):\n",
    "                    _X = np.column_stack([X[:, best_features], np.column_stack(L)])\n",
    "                elif (len(best_features)==0) & (len(L)>0):\n",
    "                    _X = np.column_stack(L)\n",
    "                elif (len(best_features)>0) & (len(L)==0):\n",
    "                    _X = X[:, best_features] \n",
    "            # считаем валидацию    \n",
    "            current_score = cross_val_score(self.estimator, _X, Y, scoring = self.metric, cv = self.cv).mean()\n",
    "            # если метрика улучшилась\n",
    "            if current_score>best_score:\n",
    "                # обновляем лучшую метрику\n",
    "                best_score = current_score\n",
    "                # печатаем \n",
    "                if self.show_progress:\n",
    "                    print('new best_score = {}'.format(best_score))\n",
    "            # если метрика не улучшилась\n",
    "            else: \n",
    "                # удаляем признак/значение\n",
    "                if feature_value is None:\n",
    "                    best_features = [val for val in best_features if val != feature]\n",
    "                    to_drop.append((feature, None))\n",
    "                else:\n",
    "                    D_best_features[feature] = [val for val in D_best_features[feature] if val != feature_value]    \n",
    "                    to_drop.append((feature, feature_value))\n",
    "\n",
    "\n",
    "\n",
    "        if self.use_recursion:\n",
    "            # запускаем бесконечный цикл\n",
    "            while True:\n",
    "                # списки лучших признаков до и после\n",
    "                to_drop_before = to_drop\n",
    "                to_drop_after = []\n",
    "                # проходим по признакам и значениям признаков в порядке убывания валидации\n",
    "                for feature, feature_value in tqdm_notebook(to_drop_before):   \n",
    "                    # добавляем текущие признаки/значения\n",
    "                    if feature_value is None:\n",
    "                        best_features.append(feature)               \n",
    "                    else:\n",
    "                        D_best_features[feature].append(feature_value)\n",
    "\n",
    "                    # обновляем матрицы\n",
    "                    L = []\n",
    "                    for k, v in D_best_features.items():\n",
    "                        if isinstance(X[:, k], csc_matrix):\n",
    "                            L.append(pd.DataFrame(X[:, k].tocsc().todense())[0].apply(lambda x: x if x in v else self.fill_na))\n",
    "                        else:\n",
    "                            L.append(pd.Series(X[:, k].flatten()).apply(lambda x: x if x in v else self.fill_na))\n",
    "\n",
    "                    if flag:\n",
    "                        _X = csc_matrix(hstack([X[:, best_features], csc_matrix(np.column_stack(L)) ]))\n",
    "                    else:\n",
    "                        _X = np.column_stack([X[:, best_features], np.column_stack(L)])\n",
    "\n",
    "                    # считаем валидацию    \n",
    "                    current_score = cross_val_score(self.estimator, _X, Y, scoring = self.metric, cv = self.cv).mean()\n",
    "                    # если метрика улучшилась\n",
    "                    if current_score>best_score:\n",
    "                        # обновляем лучшую метрику\n",
    "                        best_score = current_score\n",
    "                        # печатаем \n",
    "                        if self.show_progress:\n",
    "                            print('new best_score = {}'.format(best_score))\n",
    "                    # если метрика не улучшилась\n",
    "                    else: \n",
    "                        # удаляем признак/значение\n",
    "                        if feature_value is None:\n",
    "                            best_features = [val for val in best_features if val != feature]\n",
    "                            to_drop_after.append((feature, None))\n",
    "                        else:\n",
    "                            D_best_features[feature] = [val for val in D_best_features[feature] if val != feature_value]    \n",
    "                            to_drop_after.append((feature, feature_value))\n",
    "\n",
    "                # если списки одинаковые, останавливаем отбор\n",
    "                if len(to_drop_after) == len(to_drop_before):\n",
    "                    break\n",
    "                # если разные - обновляем списки до и после\n",
    "                else:\n",
    "                    to_drop_before = to_drop_after\n",
    "                    to_drop_after = []\n",
    "                    \n",
    "        self.best_features = best_features\n",
    "        self.D_best_features = D_best_features\n",
    "        self.best_score =best_score\n",
    "        self.flag = flag\n",
    "    def transform(self, X):\n",
    "              \n",
    "        if len(self.best_features) !=0:\n",
    "            x1 = X[:, self.best_features]\n",
    "        else:\n",
    "            x1 = None\n",
    "        if len(list(self.D_best_features.keys())) !=0:\n",
    "            L=[]\n",
    "            for k, v in self.D_best_features.items():\n",
    "                if self.flag:\n",
    "                    L.append(pd.DataFrame(X[:, k].tocsc().todense())[0].apply(lambda x: x if x in v else self.fill_na))                    \n",
    "                else:\n",
    "                    L.append(pd.Series(X[:, k].flatten()).apply(lambda x: x if x in v else self.fill_na))\n",
    "            x2 = np.column_stack(L)\n",
    "        else:\n",
    "            x2 = None\n",
    "            \n",
    "        if (x1 is not None) & (x2 is not None):\n",
    "            if self.flag: \n",
    "                _X = csc_matrix(hstack([x1, x2]))\n",
    "            else:\n",
    "                _X = np.column_stack([x1, x2])\n",
    "                \n",
    "        if (x1 is not None) & (x2 is None):\n",
    "            _X = x1\n",
    "        if (x1 is None) & (x2 is not None):\n",
    "            if self.flag:\n",
    "                _X = csc_matrix(x2)\n",
    "            else:\n",
    "                _X = x2\n",
    "        return _X     \n",
    "        \n",
    "    def return_self(self):\n",
    "        return self\n",
    "    \n",
    "            \n",
    "            \n",
    "            "
   ]
  },
  {
   "cell_type": "code",
   "execution_count": 15,
   "metadata": {},
   "outputs": [],
   "source": [
    "times = ['time%d' % i for i in range(1, 11)]\n",
    "sites = ['site%d' % i for i in range(1, 11)]\n",
    "SEED = 13\n",
    "\n",
    "df_tr = pd.read_csv('train_sessions.csv', parse_dates = times).set_index('session_id').sort_values('time1')\n",
    "df_te = pd.read_csv('test_sessions.csv', parse_dates = times).set_index('session_id')\n",
    "y_tr = df_tr['target']"
   ]
  },
  {
   "cell_type": "code",
   "execution_count": 16,
   "metadata": {},
   "outputs": [
    {
     "name": "stdout",
     "output_type": "stream",
     "text": [
      "дата = 201301, появлений Элис = 0\n",
      "дата = 201302, появлений Элис = 61\n",
      "дата = 201303, появлений Элис = 0\n",
      "дата = 201304, появлений Элис = 38\n",
      "дата = 201305, появлений Элис = 0\n",
      "дата = 201306, появлений Элис = 0\n",
      "дата = 201307, появлений Элис = 0\n",
      "дата = 201308, появлений Элис = 0\n",
      "дата = 201309, появлений Элис = 377\n",
      "дата = 201310, появлений Элис = 0\n",
      "дата = 201311, появлений Элис = 446\n",
      "дата = 201312, появлений Элис = 134\n",
      "дата = 201401, появлений Элис = 129\n",
      "дата = 201402, появлений Элис = 410\n",
      "дата = 201403, появлений Элис = 400\n",
      "дата = 201404, появлений Элис = 302\n"
     ]
    },
    {
     "data": {
      "image/png": "[encoded data removed]",
      "text/plain": [
       "<Figure size 432x288 with 1 Axes>"
      ]
     },
     "metadata": {},
     "output_type": "display_data"
    }
   ],
   "source": [
    "df_tr['ym'] = df_tr['time1'].dt.year*100+df_tr['time1'].dt.month\n",
    "target_by_ym = df_tr.groupby('ym')['target'].sum()\n",
    "for _ym, _total_alice in target_by_ym.items():\n",
    "    print('дата = {}, появлений Элис = {}'.format(_ym, _total_alice))\n",
    "    \n",
    "\n",
    "target_by_ym.cumsum().reset_index(drop = True).plot()\n",
    "plt.title('накопленные песещения Элис (год-месяц)')\n",
    "plt.xlabel('индекс(год+месяц)')\n",
    "plt.ylabel('накопленная сумма')\n",
    "plt.axvspan(7, 15, color = 'green', alpha = .1)\n",
    "plt.show()    \n"
   ]
  },
  {
   "cell_type": "markdown",
   "metadata": {},
   "source": [
    "### актуальный период начинается после 201309, когда активность Элис возобновляется"
   ]
  },
  {
   "cell_type": "code",
   "execution_count": 17,
   "metadata": {},
   "outputs": [
    {
     "data": {
      "image/png": "[encoded data removed]",
      "text/plain": [
       "<Figure size 432x288 with 1 Axes>"
      ]
     },
     "metadata": {},
     "output_type": "display_data"
    }
   ],
   "source": [
    "sites_unique_tr = pd.Series(df_tr[sites].values.flatten()).dropna().unique()\n",
    "sites_unique_te = pd.Series(df_te[sites].values.flatten()).dropna().unique()\n",
    "\n",
    "set_sites_tr = set(sites_unique_tr)\n",
    "set_sites_te = set(sites_unique_te)\n",
    "\n",
    "venn2([set_sites_tr, set_sites_te], ('трейн', 'тест'))\n",
    "\n",
    "plt.show()"
   ]
  },
  {
   "cell_type": "markdown",
   "metadata": {},
   "source": [
    "### оставим в трейне сайты, которые посещались Элис+присутствуют в тест части, чтобы не переобучаться на трейн"
   ]
  },
  {
   "cell_type": "code",
   "execution_count": 18,
   "metadata": {},
   "outputs": [],
   "source": [
    "# оставляем в трейне сайты, которые были посещены Элис + присутствуют в тест части\n",
    "sites_to_use = np.intersect1d(pd.Series(df_tr[sites][y_tr==1].values.flatten()).dropna().unique(),\\\n",
    "                              pd.Series(df_te[sites].values.flatten()).dropna().unique())\n",
    "sites_tr = df_tr[sites].applymap(lambda x: x if x in sites_to_use else -1)"
   ]
  },
  {
   "cell_type": "markdown",
   "metadata": {},
   "source": [
    "### дата: день года, неделя года, год, месяц, день, день недели, час(оставим данные из тест части)"
   ]
  },
  {
   "cell_type": "code",
   "execution_count": 19,
   "metadata": {},
   "outputs": [],
   "source": [
    "D_ts = {}\n",
    "for name, _df in zip(('train', 'test'), (df_tr, df_te)):\n",
    "    start = _df[times].min(1).dt.round('H')\n",
    "    \n",
    "    D_ts[name] = pd.concat([start.dt.dayofyear,\n",
    "                            start.dt.weekofyear,\n",
    "                            start.dt.quarter,\n",
    "                            start.dt.year,\n",
    "                            start.dt.month,\n",
    "                            start.dt.day,\n",
    "                            start.dt.dayofweek,\n",
    "                            start.dt.hour], 1)\n",
    "    \n",
    "for col in D_ts['test'].columns:\n",
    "    values_to_use = D_ts['test'][col].dropna().unique()\n",
    "    D_ts['train'][col] = D_ts['train'][col].apply(lambda x:x if x in values_to_use else -1)"
   ]
  },
  {
   "cell_type": "code",
   "execution_count": 20,
   "metadata": {},
   "outputs": [],
   "source": [
    "# модели\n",
    "logit_clf = LogisticRegression(random_state = SEED)\n",
    "lgb_clf = LGBMClassifier(random_state = SEED)\n",
    "\n",
    "# доля отложенной части\n",
    "HOLDOUT_SHARE = .1\n",
    "idx_split = np.int32(np.around(len(y_tr)*(1-HOLDOUT_SHARE)))"
   ]
  },
  {
   "cell_type": "code",
   "execution_count": 21,
   "metadata": {},
   "outputs": [],
   "source": [
    "# время\n",
    "_X_ts_tr = D_ts['train'].values\n",
    "# ohe\n",
    "encoder = OneHotEncoder(handle_unknown='ignore')\n",
    "_X_ts_ohe_tr = csc_matrix(encoder.fit_transform(_X_ts_tr))\n",
    "# сайты\n",
    "_X_sites_tr = sites_tr\n",
    "# таргет\n",
    "_y_tr = np.array(y_tr)"
   ]
  },
  {
   "cell_type": "markdown",
   "metadata": {},
   "source": [
    "### отберем признаки для разного числа фолдов (3-10) и разных моделей (logit, lgb)\n",
    "* TfidfVectorizer(ngram_range = (1, 1), max_features = 100)\n",
    "* ngram_range - используем комбинации длиной 1, 2\n",
    "* max_features = используем топ 100 самых популярных признаков\n",
    "\n",
    "используется ранняя остановка, так что найдутся далеко не самые оптимальные признаки"
   ]
  },
  {
   "cell_type": "code",
   "execution_count": 22,
   "metadata": {},
   "outputs": [],
   "source": [
    "BASELINE_VECTORIZER = TfidfVectorizer(ngram_range = (1, 1), max_features = 100)\n",
    "# трансформируем сайты\n",
    "tfidf_full = BASELINE_VECTORIZER.fit_transform(pd.concat([sites_tr, df_te[sites]], 0)\\\n",
    "                                           .astype(str).apply(lambda x: '_'.join(x), axis = 1))\n",
    "tfidf_tr = tfidf_full[:len(y_tr)]\n",
    "\n",
    "_X_lgb_tr = csc_matrix(hstack([_X_ts_tr, tfidf_tr]))\n",
    "_X_logit_tr = csc_matrix(hstack([_X_ts_ohe_tr, tfidf_tr])) \n",
    "\n",
    "NFOLDS_RANGE = np.arange(3, 11)"
   ]
  },
  {
   "cell_type": "markdown",
   "metadata": {},
   "source": [
    "* отбираем признаки на валидации, тестируем отобранные признаки на отложенной выборке(которую модель не видела)\n",
    "* используем разные схемы валидации\n",
    "* выбираем те признаки, которые дали лучший auc на отложенной выборке"
   ]
  },
  {
   "cell_type": "code",
   "execution_count": 30,
   "metadata": {
    "scrolled": false
   },
   "outputs": [
    {
     "data": {
      "application/vnd.jupyter.widget-view+json": {
       "model_id": "ee4d364064874657904a23e1e5086c6e",
       "version_major": 2,
       "version_minor": 0
      },
      "text/plain": [
       "HBox(children=(FloatProgress(value=0.0, max=8.0), HTML(value='')))"
      ]
     },
     "metadata": {},
     "output_type": "display_data"
    },
    {
     "data": {
      "application/vnd.jupyter.widget-view+json": {
       "model_id": "d8c1de0ab7dc439fa621dab26abb9e6a",
       "version_major": 2,
       "version_minor": 0
      },
      "text/plain": [
       "HBox(children=(FloatProgress(value=0.0, max=108.0), HTML(value='')))"
      ]
     },
     "metadata": {},
     "output_type": "display_data"
    },
    {
     "name": "stdout",
     "output_type": "stream",
     "text": [
      "\n"
     ]
    },
    {
     "data": {
      "application/vnd.jupyter.widget-view+json": {
       "model_id": "b8fa61641ff142a496e748a22c7e4210",
       "version_major": 2,
       "version_minor": 0
      },
      "text/plain": [
       "HBox(children=(FloatProgress(value=0.0, max=165.0), HTML(value='')))"
      ]
     },
     "metadata": {},
     "output_type": "display_data"
    },
    {
     "name": "stdout",
     "output_type": "stream",
     "text": [
      "new best_score = 0.6380714571760009\n",
      "new best_score = 0.7548915740914087\n",
      "new best_score = 0.7970640678886763\n",
      "new best_score = 0.8235382674527684\n",
      "new best_score = 0.8423313710136489\n",
      "new best_score = 0.8637247671574776\n",
      "new best_score = 0.8848632261828105\n",
      "new best_score = 0.9000121583505275\n",
      "new best_score = 0.9004368523318375\n",
      "new best_score = 0.9013791871868949\n",
      "new best_score = 0.9075604488470757\n",
      "new best_score = 0.9131281672227036\n",
      "new best_score = 0.9160811887394001\n",
      "new best_score = 0.91708485334979\n",
      "new best_score = 0.9212062965565645\n",
      "new best_score = 0.9212246995307417\n",
      "new best_score = 0.921252843626544\n",
      "new best_score = 0.921271267131308\n",
      "new best_score = 0.9311937931618809\n",
      "new best_score = 0.9316713364834134\n",
      "new best_score = 0.9318700467289234\n",
      "new best_score = 0.9331052805100937\n",
      "new best_score = 0.9344867327267347\n",
      "new best_score = 0.9363918490721468\n",
      "new best_score = 0.9378206297985611\n",
      "new best_score = 0.9386880655612968\n",
      "\n"
     ]
    },
    {
     "data": {
      "application/vnd.jupyter.widget-view+json": {
       "model_id": "1343bf1873bb4a7eb7b15e0c58704474",
       "version_major": 2,
       "version_minor": 0
      },
      "text/plain": [
       "HBox(children=(FloatProgress(value=0.0, max=167.0), HTML(value='')))"
      ]
     },
     "metadata": {},
     "output_type": "display_data"
    },
    {
     "name": "stdout",
     "output_type": "stream",
     "text": [
      "\n"
     ]
    },
    {
     "data": {
      "application/vnd.jupyter.widget-view+json": {
       "model_id": "98f30732bd79413892db5bc54bc6061d",
       "version_major": 2,
       "version_minor": 0
      },
      "text/plain": [
       "HBox(children=(FloatProgress(value=0.0, max=167.0), HTML(value='')))"
      ]
     },
     "metadata": {},
     "output_type": "display_data"
    },
    {
     "name": "stdout",
     "output_type": "stream",
     "text": [
      "new best_score = 0.8232574472033137\n",
      "new best_score = 0.8325931139904655\n",
      "new best_score = 0.8528561521110766\n",
      "new best_score = 0.8826936335848159\n",
      "new best_score = 0.9005400128776514\n",
      "new best_score = 0.9095277608890066\n",
      "new best_score = 0.9148199308791165\n",
      "new best_score = 0.9181582601067397\n",
      "new best_score = 0.926558281024043\n",
      "new best_score = 0.9313964878397206\n",
      "new best_score = 0.9412145309834301\n",
      "new best_score = 0.9412790931116546\n",
      "new best_score = 0.942102857554611\n",
      "new best_score = 0.9421911000115221\n",
      "new best_score = 0.9422711446361819\n",
      "new best_score = 0.9425380658726693\n",
      "new best_score = 0.9427804616963268\n",
      "new best_score = 0.9430850318127532\n",
      "new best_score = 0.9430942866999543\n",
      "new best_score = 0.9440492563079061\n",
      "new best_score = 0.9461203637296816\n",
      "new best_score = 0.9495146781229776\n",
      "new best_score = 0.9503145962234992\n",
      "new best_score = 0.9503981174569613\n",
      "new best_score = 0.9508334230205344\n",
      "new best_score = 0.9520081592713129\n",
      "new best_score = 0.9521752734380318\n",
      "new best_score = 0.9528762526287591\n",
      "new best_score = 0.954011278412498\n",
      "new best_score = 0.9545366127094311\n",
      "new best_score = 0.9549489027737706\n",
      "new best_score = 0.9560630264560066\n",
      "new best_score = 0.9562244809498797\n",
      "new best_score = 0.9563249501172971\n",
      "new best_score = 0.9569765591476567\n",
      "new best_score = 0.9572505162723463\n",
      "new best_score = 0.9573511692182209\n",
      "new best_score = 0.9578848124549131\n",
      "new best_score = 0.95794621388902\n",
      "new best_score = 0.9580530650074133\n",
      "new best_score = 0.9582249139364135\n",
      "new best_score = 0.9585563083899666\n",
      "new best_score = 0.9587404573309648\n",
      "new best_score = 0.9588541659330172\n",
      "new best_score = 0.9591111158179383\n",
      "new best_score = 0.9591851443053621\n",
      "new best_score = 0.9592705269531127\n",
      "new best_score = 0.9594230146015823\n",
      "new best_score = 0.9594960670394475\n",
      "new best_score = 0.9595271239815961\n",
      "new best_score = 0.959568678644267\n",
      "new best_score = 0.9596106727455753\n",
      "new best_score = 0.9596210349604695\n",
      "new best_score = 0.9596543488010415\n",
      "new best_score = 0.9596659288802867\n",
      "new best_score = 0.9596854072802293\n",
      "new best_score = 0.9597057800184755\n",
      "new best_score = 0.9597260287938368\n",
      "new best_score = 0.9597286431835471\n",
      "new best_score = 0.959798963670666\n",
      "new best_score = 0.9600224037907052\n",
      "new best_score = 0.960024539144579\n",
      "new best_score = 0.9600270014899611\n",
      "new best_score = 0.9600270082266031\n",
      "new best_score = 0.9600272616817556\n",
      "new best_score = 0.9602006359156506\n",
      "new best_score = 0.9602358140285808\n",
      "new best_score = 0.9603620415218618\n",
      "new best_score = 0.9603761011134241\n",
      "new best_score = 0.9605501541141687\n",
      "new best_score = 0.9607451323979181\n",
      "new best_score = 0.9607498832178352\n",
      "new best_score = 0.9608642751371832\n",
      "new best_score = 0.960998317742965\n",
      "\n"
     ]
    },
    {
     "data": {
      "application/vnd.jupyter.widget-view+json": {
       "model_id": "79b9fa8b34034069942783a083246867",
       "version_major": 2,
       "version_minor": 0
      },
      "text/plain": [
       "HBox(children=(FloatProgress(value=0.0, max=108.0), HTML(value='')))"
      ]
     },
     "metadata": {},
     "output_type": "display_data"
    },
    {
     "name": "stdout",
     "output_type": "stream",
     "text": [
      "\n"
     ]
    },
    {
     "data": {
      "application/vnd.jupyter.widget-view+json": {
       "model_id": "5aa83dacede64642ad4425a367cc3fe1",
       "version_major": 2,
       "version_minor": 0
      },
      "text/plain": [
       "HBox(children=(FloatProgress(value=0.0, max=165.0), HTML(value='')))"
      ]
     },
     "metadata": {},
     "output_type": "display_data"
    },
    {
     "name": "stdout",
     "output_type": "stream",
     "text": [
      "new best_score = 0.632848627669736\n",
      "new best_score = 0.7133791977913879\n",
      "new best_score = 0.7814928998427\n",
      "new best_score = 0.8091293571082608\n",
      "new best_score = 0.8588551227309785\n",
      "new best_score = 0.8656242920624592\n",
      "new best_score = 0.883201715019818\n",
      "new best_score = 0.8902765454747409\n",
      "new best_score = 0.8907145945164536\n",
      "new best_score = 0.8953832590444091\n",
      "new best_score = 0.8963070835778517\n",
      "new best_score = 0.9008254084226875\n",
      "new best_score = 0.9052156510561666\n",
      "new best_score = 0.9074311307038898\n",
      "new best_score = 0.9091354074466503\n",
      "new best_score = 0.9158075266690111\n",
      "new best_score = 0.9160719238754749\n",
      "new best_score = 0.9173616286318784\n",
      "new best_score = 0.9178897975032647\n",
      "new best_score = 0.942513512219334\n",
      "new best_score = 0.9435661909759329\n",
      "new best_score = 0.9438548647393068\n",
      "new best_score = 0.9445907976042216\n",
      "new best_score = 0.9445926883092137\n",
      "new best_score = 0.947400565981479\n",
      "new best_score = 0.9474264233888623\n",
      "new best_score = 0.9482525306107743\n",
      "new best_score = 0.9488501631045023\n",
      "new best_score = 0.9489599434896561\n",
      "new best_score = 0.9491234981651127\n",
      "new best_score = 0.949618861335221\n",
      "new best_score = 0.9504854202846673\n",
      "new best_score = 0.9507890743018417\n",
      "new best_score = 0.9559826817313266\n",
      "\n"
     ]
    },
    {
     "data": {
      "application/vnd.jupyter.widget-view+json": {
       "model_id": "dc3b34860eda4df4bd31a01f45b8198c",
       "version_major": 2,
       "version_minor": 0
      },
      "text/plain": [
       "HBox(children=(FloatProgress(value=0.0, max=167.0), HTML(value='')))"
      ]
     },
     "metadata": {},
     "output_type": "display_data"
    },
    {
     "name": "stdout",
     "output_type": "stream",
     "text": [
      "\n"
     ]
    },
    {
     "data": {
      "application/vnd.jupyter.widget-view+json": {
       "model_id": "40715780f50d47b3870fb7c4948265cf",
       "version_major": 2,
       "version_minor": 0
      },
      "text/plain": [
       "HBox(children=(FloatProgress(value=0.0, max=167.0), HTML(value='')))"
      ]
     },
     "metadata": {},
     "output_type": "display_data"
    },
    {
     "name": "stdout",
     "output_type": "stream",
     "text": [
      "new best_score = 0.8333830062935954\n",
      "new best_score = 0.8431268166776111\n",
      "new best_score = 0.860300287835563\n",
      "new best_score = 0.8845231261231663\n",
      "new best_score = 0.8882231809178469\n",
      "new best_score = 0.9058439056461962\n",
      "new best_score = 0.9099861524928108\n",
      "new best_score = 0.9178458894997278\n",
      "new best_score = 0.927447929572822\n",
      "new best_score = 0.9286849976588168\n",
      "new best_score = 0.9345882778140995\n",
      "new best_score = 0.9348949913864723\n",
      "new best_score = 0.9364567368359252\n",
      "new best_score = 0.9372613547483847\n",
      "new best_score = 0.943625689977132\n",
      "new best_score = 0.9440697447409729\n",
      "new best_score = 0.9441545310018896\n",
      "new best_score = 0.9443496391937869\n",
      "new best_score = 0.9462383563401879\n",
      "new best_score = 0.9493527227497841\n",
      "new best_score = 0.9502230687086102\n",
      "new best_score = 0.9503502823841463\n",
      "new best_score = 0.9507561052603823\n",
      "new best_score = 0.9508714363556974\n",
      "new best_score = 0.9514134567983277\n",
      "new best_score = 0.9515850651419732\n",
      "new best_score = 0.9520952951019596\n",
      "new best_score = 0.9527782256592137\n",
      "new best_score = 0.9530281514411152\n",
      "new best_score = 0.9534247899147827\n",
      "new best_score = 0.9544226962642519\n",
      "new best_score = 0.9550096381969071\n",
      "new best_score = 0.9553291540500413\n",
      "new best_score = 0.9559385658343064\n",
      "new best_score = 0.9566092519280529\n",
      "new best_score = 0.9567507978479748\n",
      "new best_score = 0.9569219866823868\n",
      "new best_score = 0.9570850310185619\n",
      "new best_score = 0.9571847905544151\n",
      "new best_score = 0.9572960853279489\n",
      "new best_score = 0.9574311734624387\n",
      "new best_score = 0.9577150190441328\n",
      "new best_score = 0.9578920500965392\n",
      "new best_score = 0.9582004977996759\n",
      "new best_score = 0.9582188573270098\n",
      "new best_score = 0.9583174678937907\n",
      "new best_score = 0.9584146930731068\n",
      "new best_score = 0.9584404780275277\n",
      "new best_score = 0.9585969425093859\n",
      "new best_score = 0.9586685829525616\n",
      "new best_score = 0.9586998783855982\n",
      "new best_score = 0.9587116389505002\n",
      "new best_score = 0.9587279314480978\n",
      "new best_score = 0.9587533107855813\n",
      "new best_score = 0.9587631480434781\n",
      "new best_score = 0.9587682642904747\n",
      "new best_score = 0.9587799103324021\n",
      "new best_score = 0.9589880648693933\n",
      "new best_score = 0.9589929467502485\n",
      "new best_score = 0.9590798491451935\n",
      "new best_score = 0.9590987979986146\n",
      "new best_score = 0.9591455717409377\n",
      "new best_score = 0.9591530437292783\n",
      "new best_score = 0.9591594715005017\n",
      "new best_score = 0.9591608171191905\n",
      "new best_score = 0.9592310213534329\n",
      "new best_score = 0.9592393501937387\n",
      "new best_score = 0.9593204712684879\n",
      "new best_score = 0.9593223431955156\n",
      "new best_score = 0.9598366984133938\n",
      "new best_score = 0.9599220660134847\n",
      "new best_score = 0.9599638060019824\n",
      "new best_score = 0.9599654767800803\n",
      "new best_score = 0.959979301053191\n",
      "new best_score = 0.9601354469928138\n",
      "new best_score = 0.9602853045908584\n",
      "new best_score = 0.9603607066475756\n",
      "new best_score = 0.9605812359211303\n",
      "new best_score = 0.960587573946303\n",
      "\n"
     ]
    },
    {
     "data": {
      "application/vnd.jupyter.widget-view+json": {
       "model_id": "e391af1f1c704c0caeb40f4b9c79e381",
       "version_major": 2,
       "version_minor": 0
      },
      "text/plain": [
       "HBox(children=(FloatProgress(value=0.0, max=108.0), HTML(value='')))"
      ]
     },
     "metadata": {},
     "output_type": "display_data"
    },
    {
     "name": "stdout",
     "output_type": "stream",
     "text": [
      "\n"
     ]
    },
    {
     "data": {
      "application/vnd.jupyter.widget-view+json": {
       "model_id": "9b61cef10ba64e6995782fa1378d2545",
       "version_major": 2,
       "version_minor": 0
      },
      "text/plain": [
       "HBox(children=(FloatProgress(value=0.0, max=165.0), HTML(value='')))"
      ]
     },
     "metadata": {},
     "output_type": "display_data"
    },
    {
     "name": "stdout",
     "output_type": "stream",
     "text": [
      "new best_score = 0.6128920424700828\n",
      "new best_score = 0.6891616265005271\n",
      "new best_score = 0.69619561892985\n",
      "new best_score = 0.7632460358156574\n",
      "new best_score = 0.7929874321203574\n",
      "new best_score = 0.8045101306584144\n",
      "new best_score = 0.83897421402506\n",
      "new best_score = 0.838990200279486\n",
      "new best_score = 0.8650725853450847\n",
      "new best_score = 0.8773383926685892\n",
      "new best_score = 0.8821772795617939\n",
      "new best_score = 0.8844301135356915\n",
      "new best_score = 0.8891805084810178\n",
      "new best_score = 0.8927356850614867\n",
      "new best_score = 0.8945396074321514\n",
      "new best_score = 0.8948527735705196\n",
      "new best_score = 0.8977184703352805\n",
      "new best_score = 0.9386925387289283\n",
      "new best_score = 0.9387106577066391\n",
      "new best_score = 0.9391909835190233\n",
      "new best_score = 0.9398932427238332\n",
      "new best_score = 0.9404816631367845\n",
      "new best_score = 0.942626037289959\n",
      "new best_score = 0.9427404560955672\n",
      "new best_score = 0.9429736605318452\n",
      "new best_score = 0.9449801689760762\n",
      "new best_score = 0.9450833069006187\n",
      "new best_score = 0.9454128529145054\n",
      "new best_score = 0.9454137102588351\n",
      "new best_score = 0.9466134263853998\n",
      "new best_score = 0.9470970503470124\n",
      "new best_score = 0.9474315893776897\n",
      "new best_score = 0.9476430238492866\n",
      "new best_score = 0.9484315069504807\n",
      "new best_score = 0.9503808672445855\n",
      "new best_score = 0.9506947694358736\n",
      "new best_score = 0.9507311045286256\n",
      "new best_score = 0.9509775798496569\n",
      "new best_score = 0.9512995104880524\n",
      "new best_score = 0.9518303114801384\n",
      "new best_score = 0.953826516715713\n",
      "\n"
     ]
    },
    {
     "data": {
      "application/vnd.jupyter.widget-view+json": {
       "model_id": "5903016cba144d4b85ebd0e97b23c33b",
       "version_major": 2,
       "version_minor": 0
      },
      "text/plain": [
       "HBox(children=(FloatProgress(value=0.0, max=167.0), HTML(value='')))"
      ]
     },
     "metadata": {},
     "output_type": "display_data"
    },
    {
     "name": "stdout",
     "output_type": "stream",
     "text": [
      "\n"
     ]
    },
    {
     "data": {
      "application/vnd.jupyter.widget-view+json": {
       "model_id": "3bf9266b902c49cc91e47666b7e87a0f",
       "version_major": 2,
       "version_minor": 0
      },
      "text/plain": [
       "HBox(children=(FloatProgress(value=0.0, max=167.0), HTML(value='')))"
      ]
     },
     "metadata": {},
     "output_type": "display_data"
    },
    {
     "name": "stdout",
     "output_type": "stream",
     "text": [
      "new best_score = 0.8139502140618682\n",
      "new best_score = 0.8271823444638015\n",
      "new best_score = 0.8595165788316868\n",
      "new best_score = 0.8776682708342051\n",
      "new best_score = 0.8818928518365052\n",
      "new best_score = 0.8884611100354561\n",
      "new best_score = 0.8941552839486034\n",
      "new best_score = 0.9039886386931111\n",
      "new best_score = 0.9061283142870952\n",
      "new best_score = 0.9172229060396088\n",
      "new best_score = 0.9188623972875807\n",
      "new best_score = 0.9192765408553951\n",
      "new best_score = 0.9196807324910017\n",
      "new best_score = 0.9217276437502349\n",
      "new best_score = 0.9262758348189184\n",
      "new best_score = 0.9294028140913699\n",
      "new best_score = 0.9328903100086059\n",
      "new best_score = 0.933649864709485\n",
      "new best_score = 0.9347445672041006\n",
      "new best_score = 0.935683184787228\n",
      "new best_score = 0.9361425134983984\n",
      "new best_score = 0.936206501880766\n",
      "new best_score = 0.9371179382634359\n",
      "new best_score = 0.9383812144737147\n",
      "new best_score = 0.9386640839016318\n",
      "new best_score = 0.9391308706042782\n",
      "new best_score = 0.9393173263018376\n",
      "new best_score = 0.9394833898926848\n",
      "new best_score = 0.9401332415224595\n",
      "new best_score = 0.9410469386024376\n",
      "new best_score = 0.9412836558343181\n",
      "new best_score = 0.9414971520975527\n",
      "new best_score = 0.9415405599542737\n",
      "new best_score = 0.9417260633961849\n",
      "new best_score = 0.9420458234400704\n",
      "new best_score = 0.9424205748317676\n",
      "new best_score = 0.9428006942430993\n",
      "new best_score = 0.9428100128566769\n",
      "new best_score = 0.9428386590526305\n",
      "new best_score = 0.9429854589685001\n",
      "new best_score = 0.9430764243181196\n",
      "new best_score = 0.9435215821318682\n",
      "new best_score = 0.9436500745919376\n",
      "new best_score = 0.9436816241875364\n",
      "new best_score = 0.9440861282345676\n",
      "new best_score = 0.944117252901064\n",
      "new best_score = 0.9442119402106405\n",
      "new best_score = 0.944459271426998\n",
      "new best_score = 0.9446532794986304\n",
      "new best_score = 0.9449345951247693\n",
      "new best_score = 0.9451173935177598\n",
      "new best_score = 0.9451539842232233\n",
      "new best_score = 0.9452137499682672\n",
      "new best_score = 0.9454868220187869\n",
      "new best_score = 0.9455388181456863\n",
      "new best_score = 0.9456453214747358\n",
      "new best_score = 0.945646653203363\n",
      "new best_score = 0.9458000402521908\n",
      "new best_score = 0.946120977330111\n",
      "new best_score = 0.946159474424344\n",
      "new best_score = 0.9463194098157249\n",
      "new best_score = 0.9464287617942743\n",
      "new best_score = 0.9464291173128668\n",
      "new best_score = 0.9464292462986821\n",
      "new best_score = 0.9465195482572673\n",
      "new best_score = 0.9465195891591958\n",
      "new best_score = 0.9465865917237087\n",
      "new best_score = 0.9470760793441941\n",
      "new best_score = 0.9470761068390544\n",
      "new best_score = 0.9471129945564669\n",
      "new best_score = 0.9472262951266053\n",
      "new best_score = 0.9472599874840089\n",
      "new best_score = 0.9473469788752304\n",
      "new best_score = 0.9477947023739418\n",
      "new best_score = 0.9478786220769708\n",
      "\n"
     ]
    },
    {
     "data": {
      "application/vnd.jupyter.widget-view+json": {
       "model_id": "9678d3d379c546f8a333ebcaacd6caaa",
       "version_major": 2,
       "version_minor": 0
      },
      "text/plain": [
       "HBox(children=(FloatProgress(value=0.0, max=108.0), HTML(value='')))"
      ]
     },
     "metadata": {},
     "output_type": "display_data"
    },
    {
     "name": "stdout",
     "output_type": "stream",
     "text": [
      "\n"
     ]
    },
    {
     "data": {
      "application/vnd.jupyter.widget-view+json": {
       "model_id": "dd468f31c71f490589cf30d996715190",
       "version_major": 2,
       "version_minor": 0
      },
      "text/plain": [
       "HBox(children=(FloatProgress(value=0.0, max=165.0), HTML(value='')))"
      ]
     },
     "metadata": {},
     "output_type": "display_data"
    },
    {
     "name": "stdout",
     "output_type": "stream",
     "text": [
      "new best_score = 0.6196096385014045\n",
      "new best_score = 0.6850812206880432\n",
      "new best_score = 0.7493456012743289\n",
      "new best_score = 0.7824494774374156\n",
      "new best_score = 0.7978935258110539\n",
      "new best_score = 0.8338577285873621\n",
      "new best_score = 0.8466771838700303\n",
      "new best_score = 0.8472023707020259\n",
      "new best_score = 0.8536476343389032\n",
      "new best_score = 0.8628284020157082\n",
      "new best_score = 0.8666777284482801\n",
      "new best_score = 0.8766597177002827\n",
      "new best_score = 0.8797100363709783\n",
      "new best_score = 0.8845155613934877\n",
      "new best_score = 0.8981731073376545\n",
      "new best_score = 0.9019330869589258\n",
      "new best_score = 0.9049441005923614\n",
      "new best_score = 0.9051144176577869\n",
      "new best_score = 0.9053615076665188\n",
      "new best_score = 0.9059953773484549\n",
      "new best_score = 0.9064473894803325\n",
      "new best_score = 0.9389284812383493\n",
      "new best_score = 0.9402707418269678\n",
      "new best_score = 0.9416103339315299\n",
      "new best_score = 0.9431028373787629\n",
      "new best_score = 0.9437275921390093\n",
      "new best_score = 0.9439354081240893\n",
      "new best_score = 0.9442397965832923\n",
      "new best_score = 0.9443297202383466\n",
      "new best_score = 0.9444753710952467\n",
      "new best_score = 0.9451399079641297\n",
      "new best_score = 0.9472663723407672\n",
      "new best_score = 0.9477147824968428\n",
      "\n"
     ]
    },
    {
     "data": {
      "application/vnd.jupyter.widget-view+json": {
       "model_id": "476a0df534094e07ab6ee1961e6e6c1d",
       "version_major": 2,
       "version_minor": 0
      },
      "text/plain": [
       "HBox(children=(FloatProgress(value=0.0, max=167.0), HTML(value='')))"
      ]
     },
     "metadata": {},
     "output_type": "display_data"
    },
    {
     "name": "stdout",
     "output_type": "stream",
     "text": [
      "\n"
     ]
    },
    {
     "data": {
      "application/vnd.jupyter.widget-view+json": {
       "model_id": "f217d9827ab9414ea61df529803955c4",
       "version_major": 2,
       "version_minor": 0
      },
      "text/plain": [
       "HBox(children=(FloatProgress(value=0.0, max=167.0), HTML(value='')))"
      ]
     },
     "metadata": {},
     "output_type": "display_data"
    },
    {
     "name": "stdout",
     "output_type": "stream",
     "text": [
      "new best_score = 0.8152110491172789\n",
      "new best_score = 0.8320242422880234\n",
      "new best_score = 0.8647268195307601\n",
      "new best_score = 0.8720292936376186\n",
      "new best_score = 0.8877860303717063\n",
      "new best_score = 0.8984627810408347\n",
      "new best_score = 0.9013011885078362\n",
      "new best_score = 0.9039957812353179\n",
      "new best_score = 0.9145119012348782\n",
      "new best_score = 0.9158822926796252\n",
      "new best_score = 0.9172042795206862\n",
      "new best_score = 0.9214375256891216\n",
      "new best_score = 0.9220667164265922\n",
      "new best_score = 0.9232070335942747\n",
      "new best_score = 0.9233087829847348\n",
      "new best_score = 0.9265574046897922\n",
      "new best_score = 0.9301202323507929\n",
      "new best_score = 0.931112869852266\n",
      "new best_score = 0.9360563426017258\n",
      "new best_score = 0.9369907142352618\n",
      "new best_score = 0.9374183958583022\n",
      "new best_score = 0.9383140355517071\n",
      "new best_score = 0.9385180351676584\n",
      "new best_score = 0.9388158046657932\n",
      "new best_score = 0.9389838383956883\n",
      "new best_score = 0.9394802667459259\n",
      "new best_score = 0.940414549634068\n",
      "new best_score = 0.9416475698916319\n",
      "new best_score = 0.9423956649009383\n",
      "new best_score = 0.9424122372852374\n",
      "new best_score = 0.9424383444691196\n",
      "new best_score = 0.9428099760540309\n",
      "new best_score = 0.9430225400684676\n",
      "new best_score = 0.9431625379795645\n",
      "new best_score = 0.9439271782383344\n",
      "new best_score = 0.9442681801642429\n",
      "new best_score = 0.9446246148085412\n",
      "new best_score = 0.9446857522625566\n",
      "new best_score = 0.945048228672314\n",
      "new best_score = 0.9451740562439275\n",
      "new best_score = 0.9452759765041338\n",
      "new best_score = 0.9455355829275657\n",
      "new best_score = 0.9458943999411377\n",
      "new best_score = 0.9459313975151699\n",
      "new best_score = 0.9460041019462201\n",
      "new best_score = 0.9460070623962502\n",
      "new best_score = 0.9460384160696679\n",
      "new best_score = 0.9463121547071222\n",
      "new best_score = 0.9465857189651551\n",
      "new best_score = 0.9467354774295371\n",
      "new best_score = 0.9468019629603525\n",
      "new best_score = 0.9468683355599349\n",
      "new best_score = 0.9470966062545498\n",
      "new best_score = 0.9472218401601284\n",
      "new best_score = 0.947759936128003\n",
      "new best_score = 0.9477998805752788\n",
      "new best_score = 0.9478459214890504\n",
      "new best_score = 0.9479188358767453\n",
      "new best_score = 0.947918959459332\n",
      "new best_score = 0.9479266361430962\n",
      "new best_score = 0.9483425740724929\n",
      "new best_score = 0.9483426629936748\n",
      "new best_score = 0.9483662689515425\n",
      "new best_score = 0.9483698309612804\n",
      "new best_score = 0.9484967583449565\n",
      "new best_score = 0.9485197860293865\n",
      "new best_score = 0.9485280625644057\n",
      "new best_score = 0.9485810839876949\n",
      "new best_score = 0.9485966447095171\n",
      "new best_score = 0.9486228179862121\n",
      "new best_score = 0.9486710015250791\n",
      "new best_score = 0.9487320610007145\n",
      "\n"
     ]
    },
    {
     "data": {
      "application/vnd.jupyter.widget-view+json": {
       "model_id": "f00dfe0409ac4b90b58c4a48b2277478",
       "version_major": 2,
       "version_minor": 0
      },
      "text/plain": [
       "HBox(children=(FloatProgress(value=0.0, max=108.0), HTML(value='')))"
      ]
     },
     "metadata": {},
     "output_type": "display_data"
    },
    {
     "name": "stdout",
     "output_type": "stream",
     "text": [
      "\n"
     ]
    },
    {
     "data": {
      "application/vnd.jupyter.widget-view+json": {
       "model_id": "908d91fe59334d8e995950dcd76c0771",
       "version_major": 2,
       "version_minor": 0
      },
      "text/plain": [
       "HBox(children=(FloatProgress(value=0.0, max=165.0), HTML(value='')))"
      ]
     },
     "metadata": {},
     "output_type": "display_data"
    },
    {
     "name": "stdout",
     "output_type": "stream",
     "text": [
      "new best_score = 0.615245195437962\n",
      "new best_score = 0.628503584509655\n",
      "new best_score = 0.6713555287608998\n",
      "new best_score = 0.7614013089852908\n",
      "new best_score = 0.7906234825357809\n",
      "new best_score = 0.7922687305145569\n",
      "new best_score = 0.8210866916903542\n",
      "new best_score = 0.8752816985595337\n",
      "new best_score = 0.8829138261243018\n",
      "new best_score = 0.8859234630914382\n",
      "new best_score = 0.8873747504689522\n",
      "new best_score = 0.8907840978032704\n",
      "new best_score = 0.8988198667997439\n",
      "new best_score = 0.9041936907024286\n",
      "new best_score = 0.9290851711580581\n",
      "new best_score = 0.9293703836611874\n",
      "new best_score = 0.9295390948888891\n",
      "new best_score = 0.9306092257737127\n",
      "new best_score = 0.9308589070590197\n",
      "new best_score = 0.931992396639058\n",
      "new best_score = 0.9320935645909277\n",
      "new best_score = 0.9325535572262229\n",
      "new best_score = 0.9355106195157268\n",
      "new best_score = 0.9380995180451216\n",
      "new best_score = 0.9393519458183437\n",
      "new best_score = 0.9398425340693122\n",
      "new best_score = 0.94728540222031\n",
      "\n"
     ]
    },
    {
     "data": {
      "application/vnd.jupyter.widget-view+json": {
       "model_id": "116ee9b251464f2e855fa15fff69711b",
       "version_major": 2,
       "version_minor": 0
      },
      "text/plain": [
       "HBox(children=(FloatProgress(value=0.0, max=167.0), HTML(value='')))"
      ]
     },
     "metadata": {},
     "output_type": "display_data"
    },
    {
     "name": "stdout",
     "output_type": "stream",
     "text": [
      "\n"
     ]
    },
    {
     "data": {
      "application/vnd.jupyter.widget-view+json": {
       "model_id": "29cac66b133a4267b8dbceb98ff9b21d",
       "version_major": 2,
       "version_minor": 0
      },
      "text/plain": [
       "HBox(children=(FloatProgress(value=0.0, max=167.0), HTML(value='')))"
      ]
     },
     "metadata": {},
     "output_type": "display_data"
    },
    {
     "name": "stdout",
     "output_type": "stream",
     "text": [
      "new best_score = 0.821160825602407\n",
      "new best_score = 0.8298748403787533\n",
      "new best_score = 0.839313994285276\n",
      "new best_score = 0.8516495968507797\n",
      "new best_score = 0.8635483232875004\n",
      "new best_score = 0.8904638272571207\n",
      "new best_score = 0.9001138383252323\n",
      "new best_score = 0.9027922244524184\n",
      "new best_score = 0.9129497288088826\n",
      "new best_score = 0.9158974597617154\n",
      "new best_score = 0.9165366696355085\n",
      "new best_score = 0.9167355976590635\n",
      "new best_score = 0.919246307841158\n",
      "new best_score = 0.9220317865678052\n",
      "new best_score = 0.9230310944751194\n",
      "new best_score = 0.92361852081393\n",
      "new best_score = 0.9237286297695316\n",
      "new best_score = 0.924156290729479\n",
      "new best_score = 0.9267390040704863\n",
      "new best_score = 0.9297794797545247\n",
      "new best_score = 0.9316778564911645\n",
      "new best_score = 0.9325671743463817\n",
      "new best_score = 0.9329279757302718\n",
      "new best_score = 0.9329504945199382\n",
      "new best_score = 0.9336810774231487\n",
      "new best_score = 0.9363685465125829\n",
      "new best_score = 0.9371008783485858\n",
      "new best_score = 0.9382909672655974\n",
      "new best_score = 0.9385327091775926\n",
      "new best_score = 0.9389251118881472\n",
      "new best_score = 0.9395220093259287\n",
      "new best_score = 0.9407106934299172\n",
      "new best_score = 0.9423999567350135\n",
      "new best_score = 0.9424380837558151\n",
      "new best_score = 0.9431121464613162\n",
      "new best_score = 0.9431980371465748\n",
      "new best_score = 0.9433096038830888\n",
      "new best_score = 0.9434942852061818\n",
      "new best_score = 0.9436636585178066\n",
      "new best_score = 0.9443512351257909\n",
      "new best_score = 0.94446932179971\n",
      "new best_score = 0.9444793205938112\n",
      "new best_score = 0.9446097349859561\n",
      "new best_score = 0.9448945411604008\n",
      "new best_score = 0.9451228892570185\n",
      "new best_score = 0.9454811895623035\n",
      "new best_score = 0.9455859033559031\n",
      "new best_score = 0.9456468072386944\n",
      "new best_score = 0.945703716267993\n",
      "new best_score = 0.9457405889920505\n",
      "new best_score = 0.9457654934159766\n",
      "new best_score = 0.9458011280154335\n",
      "new best_score = 0.9458788632427787\n",
      "new best_score = 0.9459051240872179\n",
      "new best_score = 0.945913487001187\n",
      "new best_score = 0.9460458827374979\n",
      "new best_score = 0.9460839334081713\n",
      "new best_score = 0.9460859070400021\n",
      "new best_score = 0.9460959279556053\n",
      "new best_score = 0.946716022194079\n",
      "new best_score = 0.9467831226414601\n",
      "new best_score = 0.9468014839236444\n",
      "new best_score = 0.9468109504273495\n",
      "new best_score = 0.9468797226290813\n",
      "new best_score = 0.9468833246764182\n",
      "new best_score = 0.9468869018899373\n",
      "new best_score = 0.9471169705445986\n",
      "new best_score = 0.9472013008453873\n",
      "new best_score = 0.9474380944008028\n",
      "new best_score = 0.9474667158731381\n",
      "new best_score = 0.9474667345525878\n",
      "new best_score = 0.9474667526161065\n",
      "new best_score = 0.9477276572993976\n",
      "new best_score = 0.947728885285335\n",
      "new best_score = 0.9477858834840914\n",
      "new best_score = 0.9481085965705184\n",
      "new best_score = 0.948152898125225\n",
      "new best_score = 0.9484673893973871\n",
      "new best_score = 0.9489038987819554\n",
      "new best_score = 0.9490306327406632\n",
      "new best_score = 0.9497652067640743\n",
      "\n"
     ]
    },
    {
     "data": {
      "application/vnd.jupyter.widget-view+json": {
       "model_id": "c2eac0a0175b477f9dfa6f915f8c7c6f",
       "version_major": 2,
       "version_minor": 0
      },
      "text/plain": [
       "HBox(children=(FloatProgress(value=0.0, max=108.0), HTML(value='')))"
      ]
     },
     "metadata": {},
     "output_type": "display_data"
    },
    {
     "name": "stdout",
     "output_type": "stream",
     "text": [
      "\n"
     ]
    },
    {
     "data": {
      "application/vnd.jupyter.widget-view+json": {
       "model_id": "3b0a7fbd380549259888ac0dc07751c8",
       "version_major": 2,
       "version_minor": 0
      },
      "text/plain": [
       "HBox(children=(FloatProgress(value=0.0, max=165.0), HTML(value='')))"
      ]
     },
     "metadata": {},
     "output_type": "display_data"
    },
    {
     "name": "stdout",
     "output_type": "stream",
     "text": [
      "new best_score = 0.6164016249861313\n",
      "new best_score = 0.6622687172268685\n",
      "new best_score = 0.7211027104491343\n",
      "new best_score = 0.7574791283270459\n",
      "new best_score = 0.7739865749072041\n",
      "new best_score = 0.7785901509696007\n",
      "new best_score = 0.8097908442707051\n",
      "new best_score = 0.8103054181531404\n",
      "new best_score = 0.8184328219780732\n",
      "new best_score = 0.8220961931028856\n",
      "new best_score = 0.8263492299469964\n",
      "new best_score = 0.8291127693724452\n",
      "new best_score = 0.8333387183494343\n",
      "new best_score = 0.8358370344563375\n",
      "new best_score = 0.8373426570982119\n",
      "new best_score = 0.8422214739621221\n",
      "new best_score = 0.8440351793106645\n",
      "new best_score = 0.8445831249541215\n",
      "new best_score = 0.8484418264479544\n",
      "new best_score = 0.848596815539293\n",
      "new best_score = 0.8488673933576781\n",
      "new best_score = 0.8488924302541572\n",
      "new best_score = 0.8705423522249264\n",
      "\n"
     ]
    },
    {
     "data": {
      "application/vnd.jupyter.widget-view+json": {
       "model_id": "b7602970a6344f3696e88ce772a38c09",
       "version_major": 2,
       "version_minor": 0
      },
      "text/plain": [
       "HBox(children=(FloatProgress(value=0.0, max=167.0), HTML(value='')))"
      ]
     },
     "metadata": {},
     "output_type": "display_data"
    },
    {
     "name": "stdout",
     "output_type": "stream",
     "text": [
      "\n"
     ]
    },
    {
     "data": {
      "application/vnd.jupyter.widget-view+json": {
       "model_id": "59031941f0e0419baf2ebfe9a12f9292",
       "version_major": 2,
       "version_minor": 0
      },
      "text/plain": [
       "HBox(children=(FloatProgress(value=0.0, max=167.0), HTML(value='')))"
      ]
     },
     "metadata": {},
     "output_type": "display_data"
    },
    {
     "name": "stdout",
     "output_type": "stream",
     "text": [
      "new best_score = 0.8222413787537091\n",
      "new best_score = 0.8330363716075176\n",
      "new best_score = 0.8563310898482273\n",
      "new best_score = 0.8586510022073485\n",
      "new best_score = 0.8664427588320469\n",
      "new best_score = 0.8759678934234543\n",
      "new best_score = 0.8878977988915908\n",
      "new best_score = 0.8911881528614953\n",
      "new best_score = 0.9036890403459354\n",
      "new best_score = 0.9057434150363133\n",
      "new best_score = 0.906246327137479\n",
      "new best_score = 0.9088734757254175\n",
      "new best_score = 0.9110958058790399\n",
      "new best_score = 0.9112033749472039\n",
      "new best_score = 0.913675194286516\n",
      "new best_score = 0.9172769373795412\n",
      "new best_score = 0.9200172889741289\n",
      "new best_score = 0.9233791835413742\n",
      "new best_score = 0.9247322468774943\n",
      "new best_score = 0.9251515440255146\n",
      "new best_score = 0.9259144139759142\n",
      "new best_score = 0.9261192127628236\n",
      "new best_score = 0.9270620417426316\n",
      "new best_score = 0.9293537119536595\n",
      "new best_score = 0.9298264232277873\n",
      "new best_score = 0.9298837735107113\n",
      "new best_score = 0.9306792519523557\n",
      "new best_score = 0.9317996538120281\n",
      "new best_score = 0.933051561035874\n",
      "new best_score = 0.9331134492768852\n",
      "new best_score = 0.9333586476713251\n",
      "new best_score = 0.9336371533280425\n",
      "new best_score = 0.9338274793691461\n",
      "new best_score = 0.9338973024549722\n",
      "new best_score = 0.9341605184994484\n",
      "new best_score = 0.9346013029136547\n",
      "new best_score = 0.9347694093411167\n",
      "new best_score = 0.9347766467177532\n",
      "new best_score = 0.9347947602967952\n",
      "new best_score = 0.9351495704180026\n",
      "new best_score = 0.9351831884323589\n",
      "new best_score = 0.9352231883520558\n",
      "new best_score = 0.9353647446652245\n",
      "new best_score = 0.935586337255338\n",
      "new best_score = 0.9359130816332835\n",
      "new best_score = 0.9372592613794444\n",
      "new best_score = 0.9374163973628021\n",
      "new best_score = 0.9378079684865692\n",
      "new best_score = 0.9378501833079796\n",
      "new best_score = 0.9379361958467367\n",
      "new best_score = 0.937968448767758\n",
      "new best_score = 0.9379766409402325\n",
      "new best_score = 0.9382097945892433\n",
      "new best_score = 0.9385118968461557\n",
      "new best_score = 0.9386761078548\n",
      "new best_score = 0.9387195512300827\n",
      "new best_score = 0.9387801938932773\n",
      "new best_score = 0.9387984447250037\n",
      "new best_score = 0.9390450320682762\n",
      "new best_score = 0.9391639023928853\n",
      "new best_score = 0.939375040522461\n",
      "new best_score = 0.9394223332289091\n",
      "new best_score = 0.9401279843109775\n",
      "new best_score = 0.9401578015980572\n",
      "new best_score = 0.9401844796646392\n",
      "new best_score = 0.9402779235944665\n",
      "new best_score = 0.940282266560198\n",
      "new best_score = 0.9402907843633243\n",
      "new best_score = 0.9403278650262594\n",
      "new best_score = 0.9403384152443449\n",
      "new best_score = 0.9403900558475828\n",
      "new best_score = 0.9404743487038825\n",
      "new best_score = 0.9408430937208545\n",
      "new best_score = 0.9408431739245062\n",
      "new best_score = 0.9409698670464122\n",
      "new best_score = 0.9410096311998722\n",
      "new best_score = 0.9421137947900318\n",
      "new best_score = 0.9421308537591842\n",
      "new best_score = 0.9425947324614782\n",
      "\n"
     ]
    },
    {
     "data": {
      "application/vnd.jupyter.widget-view+json": {
       "model_id": "539aefbf5aaf46dba59f65ae06ecbe60",
       "version_major": 2,
       "version_minor": 0
      },
      "text/plain": [
       "HBox(children=(FloatProgress(value=0.0, max=108.0), HTML(value='')))"
      ]
     },
     "metadata": {},
     "output_type": "display_data"
    },
    {
     "name": "stdout",
     "output_type": "stream",
     "text": [
      "\n"
     ]
    },
    {
     "data": {
      "application/vnd.jupyter.widget-view+json": {
       "model_id": "8aea7471206b4b33994d6b2b8e8a1b35",
       "version_major": 2,
       "version_minor": 0
      },
      "text/plain": [
       "HBox(children=(FloatProgress(value=0.0, max=165.0), HTML(value='')))"
      ]
     },
     "metadata": {},
     "output_type": "display_data"
    },
    {
     "name": "stdout",
     "output_type": "stream",
     "text": [
      "new best_score = 0.6180545006033772\n",
      "new best_score = 0.7173111845700065\n",
      "new best_score = 0.7319145084613727\n",
      "new best_score = 0.7368495199580952\n",
      "new best_score = 0.7685484779335909\n",
      "new best_score = 0.7854150980307408\n",
      "new best_score = 0.8152324385363574\n",
      "new best_score = 0.824554263227364\n",
      "new best_score = 0.8252908273235519\n",
      "new best_score = 0.8426722789092883\n",
      "new best_score = 0.8506016934995397\n",
      "new best_score = 0.8547432077326537\n",
      "new best_score = 0.8610198835579921\n",
      "new best_score = 0.8625487210767622\n",
      "new best_score = 0.864515324470553\n",
      "new best_score = 0.8646373402039278\n",
      "new best_score = 0.8654074944967752\n",
      "new best_score = 0.8664494808770148\n",
      "new best_score = 0.8705293815814327\n",
      "new best_score = 0.8744206007880777\n",
      "new best_score = 0.8755650360799785\n",
      "new best_score = 0.8773433624365649\n",
      "new best_score = 0.8810553766824795\n",
      "new best_score = 0.8818559130923574\n",
      "new best_score = 0.8877373045217252\n",
      "new best_score = 0.8879779742928613\n",
      "new best_score = 0.9178812933544843\n",
      "new best_score = 0.9185270797003354\n",
      "\n"
     ]
    },
    {
     "data": {
      "application/vnd.jupyter.widget-view+json": {
       "model_id": "895f8167af1c4074be3b15668a9fff51",
       "version_major": 2,
       "version_minor": 0
      },
      "text/plain": [
       "HBox(children=(FloatProgress(value=0.0, max=167.0), HTML(value='')))"
      ]
     },
     "metadata": {},
     "output_type": "display_data"
    },
    {
     "name": "stdout",
     "output_type": "stream",
     "text": [
      "\n"
     ]
    },
    {
     "data": {
      "application/vnd.jupyter.widget-view+json": {
       "model_id": "f2629062b48f47b2ba058652a226caa7",
       "version_major": 2,
       "version_minor": 0
      },
      "text/plain": [
       "HBox(children=(FloatProgress(value=0.0, max=167.0), HTML(value='')))"
      ]
     },
     "metadata": {},
     "output_type": "display_data"
    },
    {
     "name": "stdout",
     "output_type": "stream",
     "text": [
      "new best_score = 0.8090461203008285\n",
      "new best_score = 0.8241078521613328\n",
      "new best_score = 0.851157623095613\n",
      "new best_score = 0.8661434204609744\n",
      "new best_score = 0.874414127830633\n",
      "new best_score = 0.8745544087684338\n",
      "new best_score = 0.8862740124198999\n",
      "new best_score = 0.8891007014837773\n",
      "new best_score = 0.9015083978923086\n",
      "new best_score = 0.9039082886823206\n",
      "new best_score = 0.9045531243490367\n",
      "new best_score = 0.9046072293031949\n",
      "new best_score = 0.9063145160408368\n",
      "new best_score = 0.9075293707715983\n",
      "new best_score = 0.9111367065717929\n",
      "new best_score = 0.9142349265372144\n",
      "new best_score = 0.914361229845091\n",
      "new best_score = 0.9179827586029883\n",
      "new best_score = 0.9190317079035386\n",
      "new best_score = 0.9193229931997404\n",
      "new best_score = 0.9194701216208541\n",
      "new best_score = 0.9198492074418034\n",
      "new best_score = 0.9201992699809731\n",
      "new best_score = 0.9209785461844222\n",
      "new best_score = 0.9225123934833539\n",
      "new best_score = 0.9231280955187278\n",
      "new best_score = 0.9232517692868514\n",
      "new best_score = 0.92578857197864\n",
      "new best_score = 0.926126660619398\n",
      "new best_score = 0.9269421674285832\n",
      "new best_score = 0.9270143291862392\n",
      "new best_score = 0.92851895823075\n",
      "new best_score = 0.9286539956036882\n",
      "new best_score = 0.9289046392722854\n",
      "new best_score = 0.9291738242366\n",
      "new best_score = 0.9293803740550484\n",
      "new best_score = 0.9306057367112306\n",
      "new best_score = 0.9311708630617387\n",
      "new best_score = 0.9315223001648589\n",
      "new best_score = 0.9315862817346168\n",
      "new best_score = 0.932024078008503\n",
      "new best_score = 0.932029075484843\n",
      "new best_score = 0.932123826821681\n",
      "new best_score = 0.9322921366972642\n",
      "new best_score = 0.9325004365124128\n",
      "new best_score = 0.9326738152934462\n",
      "new best_score = 0.9329029148016387\n",
      "new best_score = 0.9329843243633797\n",
      "new best_score = 0.933002110423292\n",
      "new best_score = 0.9330397320846977\n",
      "new best_score = 0.9330432117273629\n",
      "new best_score = 0.9332165877879617\n",
      "new best_score = 0.9333162604624834\n",
      "new best_score = 0.9335701989892959\n",
      "new best_score = 0.9336254816749212\n",
      "new best_score = 0.9336877628225939\n",
      "new best_score = 0.9337756889654545\n",
      "new best_score = 0.933942475624096\n",
      "new best_score = 0.9341473982714776\n",
      "new best_score = 0.9341686053170901\n",
      "new best_score = 0.9343708184361655\n",
      "new best_score = 0.9343925521123757\n",
      "new best_score = 0.934420600332046\n",
      "new best_score = 0.9345336247521908\n",
      "new best_score = 0.9345336328950015\n",
      "new best_score = 0.9346871812037898\n",
      "new best_score = 0.9346873689009438\n",
      "new best_score = 0.9363334841677374\n",
      "new best_score = 0.9364001392302327\n",
      "new best_score = 0.9364001473730433\n",
      "new best_score = 0.9365412820811417\n",
      "new best_score = 0.9366189776345172\n",
      "new best_score = 0.9367183566940436\n",
      "new best_score = 0.9367606154228094\n",
      "new best_score = 0.9368240185292667\n",
      "new best_score = 0.9368434069734328\n",
      "\n"
     ]
    },
    {
     "data": {
      "application/vnd.jupyter.widget-view+json": {
       "model_id": "ba10f309738448239669c63ff90b632c",
       "version_major": 2,
       "version_minor": 0
      },
      "text/plain": [
       "HBox(children=(FloatProgress(value=0.0, max=108.0), HTML(value='')))"
      ]
     },
     "metadata": {},
     "output_type": "display_data"
    },
    {
     "name": "stdout",
     "output_type": "stream",
     "text": [
      "\n"
     ]
    },
    {
     "data": {
      "application/vnd.jupyter.widget-view+json": {
       "model_id": "d47cf5abb2d54762b40fb96f1a90b262",
       "version_major": 2,
       "version_minor": 0
      },
      "text/plain": [
       "HBox(children=(FloatProgress(value=0.0, max=165.0), HTML(value='')))"
      ]
     },
     "metadata": {},
     "output_type": "display_data"
    },
    {
     "name": "stdout",
     "output_type": "stream",
     "text": [
      "new best_score = 0.5963958188253057\n",
      "new best_score = 0.6882626365079657\n",
      "new best_score = 0.7167916494108573\n",
      "new best_score = 0.753659061773167\n",
      "new best_score = 0.7658434452703773\n",
      "new best_score = 0.8073686589637855\n",
      "new best_score = 0.8264736600155406\n",
      "new best_score = 0.8276316772680312\n",
      "new best_score = 0.832171440505712\n",
      "new best_score = 0.8367245561838423\n",
      "new best_score = 0.8449874751649771\n",
      "new best_score = 0.856008441775564\n",
      "new best_score = 0.8638345100921219\n",
      "new best_score = 0.8677499926625034\n",
      "new best_score = 0.8687538787284461\n",
      "new best_score = 0.8701671378237616\n",
      "new best_score = 0.8712703418151089\n",
      "new best_score = 0.8959258917008303\n",
      "new best_score = 0.8988542585028589\n",
      "new best_score = 0.8995946120935701\n",
      "new best_score = 0.9032449837947076\n",
      "new best_score = 0.9033688793900645\n",
      "new best_score = 0.9035259920068185\n",
      "new best_score = 0.9036335352643935\n",
      "new best_score = 0.905148323129145\n",
      "new best_score = 0.9104422250173521\n",
      "new best_score = 0.9104698253113377\n",
      "new best_score = 0.9171037576327041\n",
      "new best_score = 0.91765563100412\n",
      "new best_score = 0.9176889350876293\n",
      "new best_score = 0.9210902382400501\n",
      "new best_score = 0.9240736078130217\n",
      "\n"
     ]
    },
    {
     "data": {
      "application/vnd.jupyter.widget-view+json": {
       "model_id": "0f1e082e3fa74e6890c51cb36083b730",
       "version_major": 2,
       "version_minor": 0
      },
      "text/plain": [
       "HBox(children=(FloatProgress(value=0.0, max=167.0), HTML(value='')))"
      ]
     },
     "metadata": {},
     "output_type": "display_data"
    },
    {
     "name": "stdout",
     "output_type": "stream",
     "text": [
      "\n"
     ]
    },
    {
     "data": {
      "application/vnd.jupyter.widget-view+json": {
       "model_id": "1972ede628134fa9bffbc5c331fcc45b",
       "version_major": 2,
       "version_minor": 0
      },
      "text/plain": [
       "HBox(children=(FloatProgress(value=0.0, max=167.0), HTML(value='')))"
      ]
     },
     "metadata": {},
     "output_type": "display_data"
    },
    {
     "name": "stdout",
     "output_type": "stream",
     "text": [
      "new best_score = 0.8070094211483113\n",
      "new best_score = 0.8226483808646219\n",
      "new best_score = 0.8426807535934959\n",
      "new best_score = 0.8558610712585484\n",
      "new best_score = 0.8631544576598553\n",
      "new best_score = 0.8675142825695682\n",
      "new best_score = 0.8798113258232642\n",
      "new best_score = 0.8832624971910127\n",
      "new best_score = 0.897405568269644\n",
      "new best_score = 0.8996195994168655\n",
      "new best_score = 0.9073860930232989\n",
      "new best_score = 0.9088711930570066\n",
      "new best_score = 0.9089137386254398\n",
      "new best_score = 0.9101318326931871\n",
      "new best_score = 0.913981473470856\n",
      "new best_score = 0.9166970530431546\n",
      "new best_score = 0.9178553215066072\n",
      "new best_score = 0.9217944373029221\n",
      "new best_score = 0.9223867164273531\n",
      "new best_score = 0.9231671434298176\n",
      "new best_score = 0.9237211957338343\n",
      "new best_score = 0.9239178135148135\n",
      "new best_score = 0.924646566651073\n",
      "new best_score = 0.925646842025273\n",
      "new best_score = 0.9256469486954441\n",
      "new best_score = 0.9262827375502176\n",
      "new best_score = 0.9264315345984991\n",
      "new best_score = 0.926701244713436\n",
      "new best_score = 0.9275065970863631\n",
      "new best_score = 0.9300525025900095\n",
      "new best_score = 0.9301213331688831\n",
      "new best_score = 0.9302015659167504\n",
      "new best_score = 0.9305029803093359\n",
      "new best_score = 0.9308337825824458\n",
      "new best_score = 0.930982298247183\n",
      "new best_score = 0.9314524931969912\n",
      "new best_score = 0.9318763845787761\n",
      "new best_score = 0.9323451648254816\n",
      "new best_score = 0.9324810161959427\n",
      "new best_score = 0.9325925331140199\n",
      "new best_score = 0.9329534756696585\n",
      "new best_score = 0.933250318221382\n",
      "new best_score = 0.9332832829360431\n",
      "new best_score = 0.9338493488408315\n",
      "new best_score = 0.9339299406725085\n",
      "new best_score = 0.9339638264717232\n",
      "new best_score = 0.9342441378263981\n",
      "new best_score = 0.9343557480123925\n",
      "new best_score = 0.9344367915987697\n",
      "new best_score = 0.9347511069713541\n",
      "new best_score = 0.9348121349587519\n",
      "new best_score = 0.9349487278126052\n",
      "new best_score = 0.9351912888088533\n",
      "new best_score = 0.9352375319897789\n",
      "new best_score = 0.9354381991621729\n",
      "new best_score = 0.9354799804783258\n",
      "new best_score = 0.9355387718376503\n",
      "new best_score = 0.9355453719833982\n",
      "new best_score = 0.9355453785982449\n",
      "new best_score = 0.935546211497346\n",
      "new best_score = 0.9355638307703089\n",
      "new best_score = 0.9355641323152801\n",
      "new best_score = 0.9357082250471542\n",
      "new best_score = 0.9357220267325872\n",
      "new best_score = 0.9358374985340024\n",
      "new best_score = 0.9359836247549433\n",
      "\n",
      "\n"
     ]
    }
   ],
   "source": [
    "L_lgb = []\n",
    "L_logit = []\n",
    "for nfolds in tqdm_notebook(NFOLDS_RANGE):\n",
    "    tscv = TimeSeriesSplit(nfolds)\n",
    "    \n",
    "    lgb_selector = FeatureSelector(estimator = lgb_clf,\\\n",
    "                               metric = 'roc_auc',\\\n",
    "                               cv = tscv,\\\n",
    "                               use_values = np.arange(_X_ts_tr.shape[1]).tolist(),\\\n",
    "                               use_recursion = False,\\\n",
    "                               fill_na = -1,\\\n",
    "                               show_progress = True)\n",
    "    \n",
    "    lgb_selector.fit(_X_lgb_tr[:idx_split], _y_tr[:idx_split])\n",
    "    # лучший auc на валидации\n",
    "    best_cv = lgb_selector.return_self().best_score    \n",
    "    # отобранные признаки    \n",
    "    lgb_clf.fit(_X_selected_tr[:idx_split], _y_tr[:idx_split])\n",
    "    # auc на отложенной \n",
    "    auc_holdout = roc_auc_score(_y_tr[idx_split:], lgb_clf.predict_proba(_X_selected_tr[idx_split:])[:, 1])\n",
    "    \n",
    "    L_lgb.append((nfolds, best_cv, auc_holdout,\\\n",
    "                 (lgb_selector.return_self().best_features,\\\n",
    "                 lgb_selector.return_self().D_best_features)))\n",
    "    \n",
    "    logit_selector = FeatureSelector(estimator = logit_clf,\\\n",
    "                               metric = 'roc_auc',\\\n",
    "                               cv = tscv,\\\n",
    "                               use_values = None,\\\n",
    "                               use_recursion = False,\\\n",
    "                               fill_na = -1,\\\n",
    "                               show_progress = True)\n",
    "    \n",
    "    logit_selector.fit(_X_logit_tr[:idx_split], _y_tr[:idx_split])\n",
    "    # лучший auc на валидации\n",
    "    best_cv = logit_selector.return_self().best_score    \n",
    "    # отобранные признаки\n",
    "    _X_selected_tr = logit_selector.transform(_X_logit_tr)\n",
    "    logit_clf.fit(_X_selected_tr[:idx_split], _y_tr[:idx_split])\n",
    "    # auc на отложенной \n",
    "    auc_holdout = roc_auc_score(_y_tr[idx_split:], logit_clf.predict_proba(_X_selected_tr[idx_split:])[:, 1])\n",
    "    \n",
    "    L_logit.append((nfolds, best_cv, auc_holdout,\\\n",
    "                 (logit_selector.return_self().best_features,\\\n",
    "                 logit_selector.return_self().D_best_features)))\n",
    "    "
   ]
  },
  {
   "cell_type": "markdown",
   "metadata": {},
   "source": [
    "### если метрика на валидации сильно больше метрики на отложенной - переобучение на трейн датасет"
   ]
  },
  {
   "cell_type": "code",
   "execution_count": 53,
   "metadata": {},
   "outputs": [
    {
     "name": "stdout",
     "output_type": "stream",
     "text": [
      "nfolds | logit_cv | logit_holdout | lgb_cv | lgb_holdout\n",
      "--------------------------------------------------------\n",
      "     3 | 0.9610   | 0.9513        | 0.9387 | 0.7086\n",
      "     4 | 0.9606   | 0.9652        | 0.9560 | 0.9239\n",
      "     5 | 0.9479   | 0.9520        | 0.9538 | 0.9637\n",
      "     6 | 0.9487   | 0.9314        | 0.9477 | 0.9441\n",
      "     7 | 0.9498   | 0.9601        | 0.9473 | 0.8735\n",
      "     8 | 0.9426   | 0.9420        | 0.8705 | 0.9533\n",
      "     9 | 0.9368   | 0.9348        | 0.9185 | 0.9117\n",
      "    10 | 0.9360   | 0.9333        | 0.9241 | 0.8836\n"
     ]
    }
   ],
   "source": [
    "print('{} | {} | {} | {} | {}'.format('nfolds', 'logit_cv', 'logit_holdout', 'lgb_cv', 'lgb_holdout'))\n",
    "print('--------------------------------------------------------')\n",
    "for i in range(len(L_lgb)):\n",
    "    l1 = L_logit[i]\n",
    "    l2 = L_lgb[i]\n",
    "    print('{:>6} | {:<8.4f} | {:<13.4f} | {:.4f} | {:.4f}'.format(l1[0], l1[1], l1[2], l2[1], l2[2]))"
   ]
  },
  {
   "cell_type": "code",
   "execution_count": null,
   "metadata": {},
   "outputs": [],
   "source": []
  },
  {
   "cell_type": "code",
   "execution_count": null,
   "metadata": {},
   "outputs": [],
   "source": []
  },
  {
   "cell_type": "code",
   "execution_count": null,
   "metadata": {},
   "outputs": [],
   "source": []
  },
  {
   "cell_type": "code",
   "execution_count": null,
   "metadata": {},
   "outputs": [],
   "source": []
  },
  {
   "cell_type": "code",
   "execution_count": null,
   "metadata": {},
   "outputs": [],
   "source": []
  },
  {
   "cell_type": "code",
   "execution_count": null,
   "metadata": {},
   "outputs": [],
   "source": []
  },
  {
   "cell_type": "code",
   "execution_count": null,
   "metadata": {},
   "outputs": [],
   "source": [
    "from sklearn import metrics\n",
    "from sklearn.model_selection import GridSearchCV, ParameterGrid\n",
    "\n",
    "grid1 = {'max_depth' : np.arange(3, 11, 2).tolist(),\\\n",
    "        'num_leaves' : [2**i for i in range(2, 7)],\\\n",
    "        'min_child_samples' : [50, 100, 300],\\\n",
    "        'n_estimators' : [500], 'learning_rate' :[.03, .05, .1],\n",
    "        'subsample' : [.5, .7, 1], 'colsample_bytree' : [.5, .7, 1]}\n",
    "#         'reg_alpha' :[0, 2, 5], 'reg_lambda' :[0, 2, 5] }\n",
    "\n",
    "best_score = .5\n",
    "for params in tqdm_notebook(ParameterGrid(grid1)):  \n",
    "    est = LGBMClassifier(**params)\n",
    "    est.fit(xtr, ytr, eval_set=[(xtr, ytr), (xval, yval)],\\\n",
    "            eval_metric='auc', early_stopping_rounds=30, verbose = 0)\n",
    "    score = roc_auc_score(yval, est.predict_proba(xval)[:, 1])\n",
    "    if score > best_score:\n",
    "        best_score = score\n",
    "        best_params = params"
   ]
  },
  {
   "cell_type": "code",
   "execution_count": null,
   "metadata": {},
   "outputs": [],
   "source": []
  },
  {
   "cell_type": "code",
   "execution_count": null,
   "metadata": {},
   "outputs": [],
   "source": []
  },
  {
   "cell_type": "code",
   "execution_count": null,
   "metadata": {},
   "outputs": [],
   "source": []
  },
  {
   "cell_type": "code",
   "execution_count": null,
   "metadata": {},
   "outputs": [],
   "source": []
  },
  {
   "cell_type": "code",
   "execution_count": null,
   "metadata": {},
   "outputs": [],
   "source": []
  },
  {
   "cell_type": "code",
   "execution_count": null,
   "metadata": {},
   "outputs": [],
   "source": []
  }
 ],
 "metadata": {
  "kernelspec": {
   "display_name": "Python 3",
   "language": "python",
   "name": "python3"
  },
  "language_info": {
   "codemirror_mode": {
    "name": "ipython",
    "version": 3
   },
   "file_extension": ".py",
   "mimetype": "text/x-python",
   "name": "python",
   "nbconvert_exporter": "python",
   "pygments_lexer": "ipython3",
   "version": "3.8.3"
  }
 },
 "nbformat": 4,
 "nbformat_minor": 4
}
