{
 "cells": [
  {
   "cell_type": "markdown",
   "metadata": {},
   "source": [
    "<h1><center>Kaggle: Catch me if you can<center></h1>\n",
    "\n",
    "* автор: БилибинС.К.\n",
    "* telegram: @serg_bill\n",
    "    \n",
    "#### Цель:\n",
    "\n",
    "проанализировать последовательность из нескольких веб-сайтов, посещенных подряд одним и тем же человеком, и определять, Элис это или взломщик (кто-то другой).\n",
    "\n",
    "#### Данные:\n",
    "\n",
    "|site1|time1|site2|time2|site3|time3|site4|time4|site5|time5|site6|time6|site7|time7|site8|time8|site9|time9|site10|time10|target|\n",
    "|---|---|---|---|---|---|---|---|---|---|---|---|---|---|---|---|---|---|---|---|---|\n",
    "|56|2013-01-12 08:05:57|55.0|2013-01-12 08:05:57|nan|NaT|nan|NaT|nan|NaT|nan|NaT|nan|NaT|nan|NaT|nan|NaT|nan|NaT|0|\n",
    "|56|2013-01-12 08:37:23|55.0|2013-01-12 08:37:23|56.0|2013-01-12 09:07:07|55.0|2013-01-12 09:07:09|nan|NaT|nan|NaT|nan|NaT|nan|NaT|nan|NaT|nan|NaT|0|\n",
    "|946|2013-01-12 08:50:13|946.0|2013-01-12 08:50:14|951.0|2013-01-12 08:50:15|946.0|2013-01-12 08:50:15|946.0|2013-01-12 08:50:16|945.0|2013-01-12 08:50:16|948.0|2013-01-12 08:50:16|784.0|2013-01-12 08:50:16|949.0|2013-01-12 08:50:17|946.0|2013-01-12 08:50:17|0|\n",
    "|945|2013-01-12 08:50:17|948.0|2013-01-12 08:50:17|949.0|2013-01-12 08:50:18|948.0|2013-01-12 08:50:18|945.0|2013-01-12 08:50:18|946.0|2013-01-12 08:50:18|947.0|2013-01-12 08:50:19|945.0|2013-01-12 08:50:19|946.0|2013-01-12 08:50:19|946.0|2013-01-12 08:50:20|0|\n",
    "|947|2013-01-12 08:50:20|950.0|2013-01-12 08:50:20|948.0|2013-01-12 08:50:20|947.0|2013-01-12 08:50:21|950.0|2013-01-12 08:50:21|952.0|2013-01-12 08:50:21|946.0|2013-01-12 08:50:21|951.0|2013-01-12 08:50:22|946.0|2013-01-12 08:50:22|947.0|2013-01-12 08:50:22|0|\n",
    "    \n",
    "#### Содержание\n",
    "\n",
    "* [библиотеки](#_1_2112) \n",
    "* [данные, фиксируем генератор случайных чисел](#_2_2112)\n",
    "* [модели, сессии --> tfidf](#_3_2112)\n",
    "* [отбираем признаки с помощью разных моделей и схем валидации](#_4_2112)\n",
    " "
   ]
  },
  {
   "cell_type": "markdown",
   "metadata": {},
   "source": [
    "<div class=\"alert alert-block alert-info\">\n",
    "\n",
    "библиотеки\n",
    "\n",
    "</div>"
   ]
  },
  {
   "cell_type": "markdown",
   "metadata": {},
   "source": [
    "<a id='_1_2112'></a>"
   ]
  },
  {
   "cell_type": "code",
   "execution_count": 1,
   "metadata": {},
   "outputs": [],
   "source": [
    "import numpy as np\n",
    "import matplotlib.pyplot as plt\n",
    "plt.style.use('ggplot')\n",
    "import seaborn as sns\n",
    "import pickle\n",
    "from collections import defaultdict\n",
    "from lightgbm import LGBMClassifier\n",
    "from sklearn.model_selection import KFold, StratifiedKFold, TimeSeriesSplit,\\\n",
    "                                    cross_val_score, cross_validate\n",
    "import scipy.stats as stats\n",
    "from sklearn.metrics import roc_auc_score\n",
    "import gc\n",
    "import warnings\n",
    "warnings.filterwarnings('ignore')\n",
    "import os\n",
    "import category_encoders as ce\n",
    "from tqdm import tqdm_notebook\n",
    "import json\n",
    "from itertools import combinations, groupby\n",
    "from functools import reduce\n",
    "from sklearn.cluster import KMeans\n",
    "import time\n",
    "from itertools import groupby\n",
    "from sklearn.metrics import roc_auc_score\n",
    "from sklearn.feature_selection import RFECV\n",
    "from sklearn.ensemble import RandomForestClassifier\n",
    "from sklearn.linear_model import LogisticRegression\n",
    "from sklearn.preprocessing import MinMaxScaler\n",
    "import lightgbm as lgb\n",
    "import pandas as pd\n",
    "from pymystem3 import Mystem\n",
    "from sklearn.model_selection import train_test_split\n",
    "from matplotlib_venn import venn2, venn3, venn3_circles\n",
    "from scipy.sparse import hstack\n",
    "import xgboost as xgb\n",
    "from sklearn.feature_extraction.text import TfidfVectorizer\n",
    "from scipy.sparse import csc_matrix"
   ]
  },
  {
   "cell_type": "markdown",
   "metadata": {},
   "source": [
    "<div class=\"alert alert-block alert-info\">\n",
    "\n",
    "данные, фиксируем генератор случайных чисел\n",
    "\n",
    "</div>"
   ]
  },
  {
   "cell_type": "markdown",
   "metadata": {},
   "source": [
    "<a id='_2_2112'></a>"
   ]
  },
  {
   "cell_type": "code",
   "execution_count": 2,
   "metadata": {},
   "outputs": [],
   "source": [
    "times = ['time%d' % i for i in range(1, 11)]\n",
    "sites = ['site%d' % i for i in range(1, 11)]\n",
    "SEED = 13\n",
    "\n",
    "df_tr = pd.read_csv('train_sessions.csv', parse_dates = times).set_index('session_id').sort_values('time1')\n",
    "df_te = pd.read_csv('test_sessions.csv', parse_dates = times).set_index('session_id')\n",
    "y = df_tr['target']\n",
    "\n"
   ]
  },
  {
   "cell_type": "markdown",
   "metadata": {},
   "source": [
    "<div class=\"alert alert-block alert-info\">\n",
    "\n",
    "1) задаем модели\n",
    "\n",
    "2) в трейне оставляем сайты из теста (чтобы не переобучаться на трейн)\n",
    "\n",
    "3) переводим сессии (сайт1 -> сайт2 ...) в строки (чтобы закодировать с помощью tfidf)\n",
    "\n",
    "</div>"
   ]
  },
  {
   "cell_type": "markdown",
   "metadata": {},
   "source": [
    "<a id='_3_2112'></a>"
   ]
  },
  {
   "cell_type": "code",
   "execution_count": null,
   "metadata": {},
   "outputs": [],
   "source": [
    "logit_est = LogisticRegression(random_state = SEED)\n",
    "lgb_est = LGBMClassifier(random_state = SEED)\n",
    "\n",
    "sites_te_flat = df_te[sites].values.flatten()\n",
    "sites_to_use = np.unique(sites_te_flat[~np.isnan(sites_te_flat)])\n",
    "alice_sites = pd.Series(df_tr[y==1][sites].values.flatten()).dropna().unique()\n",
    "_sites_alice_use = np.intersect1d(sites_to_use, alice_sites)\n",
    "\n",
    "sites_tr = df_tr[sites].applymap(lambda x: x if x in _sites_alice_use else np.nan)\n",
    "sites_tr = sites_tr.fillna(sites_tr.min().min()-1)\n",
    "\n",
    "sites_str_tr = sites_tr.astype(str).apply(lambda row : '_'.join(row), axis = 1)"
   ]
  },
  {
   "cell_type": "markdown",
   "metadata": {},
   "source": [
    "<div class=\"alert alert-block alert-info\">\n",
    "\n",
    "1) задаем сетку параметров tfidf, валидации, ранней остановки\n",
    "\n",
    "2) с помощью критерия ранней остановки отбираем лучший набор признаков (на валидации, на отложенной, на валидации и на отложенной, (на валидации + на отложенной)/2\n",
    "\n",
    "3) экспортируем параметры, отобранные признаки, лучшую метрику\n",
    "                                                                       \n",
    "</div>"
   ]
  },
  {
   "cell_type": "markdown",
   "metadata": {},
   "source": [
    "<a id='_4_2112'></a>"
   ]
  },
  {
   "cell_type": "code",
   "execution_count": null,
   "metadata": {},
   "outputs": [
    {
     "data": {
      "application/vnd.jupyter.widget-view+json": {
       "model_id": "0cbc382b1d064267824f1187be06d447",
       "version_major": 2,
       "version_minor": 0
      },
      "text/plain": [
       "HBox(children=(FloatProgress(value=0.0, max=2.0), HTML(value='')))"
      ]
     },
     "metadata": {},
     "output_type": "display_data"
    },
    {
     "data": {
      "application/vnd.jupyter.widget-view+json": {
       "model_id": "3f841fafc5664f3b91ace77373021597",
       "version_major": 2,
       "version_minor": 0
      },
      "text/plain": [
       "HBox(children=(FloatProgress(value=0.0, max=2.0), HTML(value='')))"
      ]
     },
     "metadata": {},
     "output_type": "display_data"
    },
    {
     "data": {
      "application/vnd.jupyter.widget-view+json": {
       "model_id": "49fdebf5e21c409aa1d8b7583b2c5c6f",
       "version_major": 2,
       "version_minor": 0
      },
      "text/plain": [
       "HBox(children=(FloatProgress(value=0.0, max=3.0), HTML(value='')))"
      ]
     },
     "metadata": {},
     "output_type": "display_data"
    },
    {
     "data": {
      "application/vnd.jupyter.widget-view+json": {
       "model_id": "b7cb75f2ff824a3f8f41473c402a792d",
       "version_major": 2,
       "version_minor": 0
      },
      "text/plain": [
       "HBox(children=(FloatProgress(value=0.0, max=4.0), HTML(value='')))"
      ]
     },
     "metadata": {},
     "output_type": "display_data"
    },
    {
     "data": {
      "application/vnd.jupyter.widget-view+json": {
       "model_id": "ab1679acbb31437780a3cd1c28b1e591",
       "version_major": 2,
       "version_minor": 0
      },
      "text/plain": [
       "HBox(children=(FloatProgress(value=0.0, max=1.0), HTML(value='')))"
      ]
     },
     "metadata": {},
     "output_type": "display_data"
    },
    {
     "data": {
      "application/vnd.jupyter.widget-view+json": {
       "model_id": "62ae54d0e09b496497a123feab380b2a",
       "version_major": 2,
       "version_minor": 0
      },
      "text/plain": [
       "HBox(children=(FloatProgress(value=0.0, max=43049.0), HTML(value='')))"
      ]
     },
     "metadata": {},
     "output_type": "display_data"
    }
   ],
   "source": [
    "param_grid = {'estimator' : [logit_est, lgb_est],\n",
    "              'test_share' : [.2, .1, 0],\n",
    "              'cv' : [TimeSeriesSplit(3), TimeSeriesSplit(5), TimeSeriesSplit(7), TimeSeriesSplit(9)],\n",
    "              'tfidf' : [TfidfVectorizer(ngram_range = (1, 2)),TfidfVectorizer(ngram_range = (1, 3))],\n",
    "              'early_stopping' : [50]}\n",
    "\n",
    "# инициализируем счетчик\n",
    "COUNTER = 1\n",
    "\n",
    "# проходим по парметрам\n",
    "for estimator in tqdm_notebook(param_grid['estimator']):\n",
    "    for tfidf in tqdm_notebook(param_grid['tfidf']):\n",
    "        for test_share in tqdm_notebook(param_grid['test_share']):\n",
    "            for cv in tqdm_notebook(param_grid['cv']):\n",
    "                for early_stopping in tqdm_notebook(param_grid['early_stopping']):                    \n",
    "                    \n",
    "                    # список с параметрами и отобранными признаками \n",
    "                    selected_L = []\n",
    "                    \n",
    "                    # кодируем сайты с помощью tfidf\n",
    "                    tfidf_tr = csc_matrix(tfidf.fit_transform(sites_str_tr))\n",
    "                    \n",
    "                    # считаем валидацию на трейне                    \n",
    "                    # получаем важность признаков в порядке убывания\n",
    "                    try:\n",
    "                        xtr, xte, ytr, yte = train_test_split(tfidf_tr, y.values, test_size = test_share, shuffle = False)                        \n",
    "                        cv_res = cross_validate(estimator, xtr, ytr,\\\n",
    "                                                cv = cv, scoring = 'roc_auc',\\\n",
    "                                                return_estimator = True)\n",
    "                        try:\n",
    "                            order = np.argsort(sum([est.feature_importances_.flatten() for est in cv_res['estimator']]))[::-1]\n",
    "                        except:\n",
    "                            order = np.argsort(sum([np.abs(est.coef_.flatten()) for est in cv_res['estimator']]))[::-1]\n",
    "                        \n",
    "                        # жадным образом добавляем очередной признак\n",
    "                        # в качестве критерия выбора используем:\n",
    "                        #          1) auc на валидации\n",
    "                        #          2) auc на отложенной\n",
    "                        #          3) (auc на валидации + auc на отложенной) / 2\n",
    "                        #          4) auc на валидации & auc на отложенной\n",
    "                        counter, best_features, best_cv = 0, [], .5 \n",
    "                        for i in tqdm_notebook(order):\n",
    "                            current_features = best_features + [i]\n",
    "                            _X_current = xtr[:, current_features]\n",
    "                            current_cv = cross_validate(estimator, _X_current, ytr,\\\n",
    "                                                        cv = cv, scoring = 'roc_auc')['test_score'].mean()\n",
    "                            if current_cv > best_cv:\n",
    "                                best_cv = current_cv                                 \n",
    "                                best_features = current_features\n",
    "                                counter = 0\n",
    "                            else:\n",
    "                                counter+=1\n",
    "                                if counter == early_stopping:\n",
    "                                    selected_L.append((estimator, tfidf, test_share,\\\n",
    "                                                       cv, early_stopping, best_cv, best_features))\n",
    "                                    break\n",
    "                                    \n",
    "                        counter, best_features, best_holdout = 0, [], .5 \n",
    "                        for i in tqdm_notebook(order):\n",
    "                            current_features = best_features + [i]\n",
    "                            _X_current = xtr[:, current_features]\n",
    "                            estimator.fit(_X_current, ytr)\n",
    "                            current_holdout = roc_auc_score(yte, estimator.predict_proba(xte)[:, 1])                            \n",
    "                            if current_holdout > best_holdout:\n",
    "                                best_holdout = current_holdout\n",
    "                                best_features = current_features\n",
    "                                counter = 0\n",
    "                            else:\n",
    "                                counter+=1\n",
    "                                if counter == early_stopping:\n",
    "                                    selected_L.append((estimator, tfidf, test_share,\\\n",
    "                                                       cv, early_stopping, best_holdout, best_features))\n",
    "                                    break\n",
    "                                    \n",
    "                        counter, best_features, best_mean = 0, [], .5 \n",
    "                        for i in tqdm_notebook(order):\n",
    "                            current_features = best_features + [i]\n",
    "                            _X_current = xtr[:, current_features]\n",
    "                            estimator.fit(_X_current, ytr)\n",
    "                            current_holdout = roc_auc_score(yte, estimator.predict_proba(xte)[:, 1]) \n",
    "                            current_cv = cross_validate(estimator, _X_current, ytr,\\\n",
    "                                                        cv = cv, scoring = 'roc_auc')['test_score'].mean()                            \n",
    "                            current_mean = (current_holdout + current_cv)/2\n",
    "                            if current_mean > best_mean:\n",
    "                                best_mean = current_mean\n",
    "                                best_features = current_features\n",
    "                                counter = 0\n",
    "                            else:\n",
    "                                counter+=1\n",
    "                                if counter == early_stopping:\n",
    "                                    selected_L.append((estimator, tfidf, test_share,\\\n",
    "                                                       cv, early_stopping, best_mean, best_features))\n",
    "                                    break\n",
    "                                    \n",
    "                        counter, best_features, best_holdout, best_cv = 0, [], .5, .5\n",
    "                        for i in tqdm_notebook(order):\n",
    "                            current_features = best_features + [i]\n",
    "                            _X_current = xtr[:, current_features]\n",
    "                            estimator.fit(_X_current, ytr)\n",
    "                            current_holdout = roc_auc_score(yte, estimator.predict_proba(xte)[:, 1]) \n",
    "                            current_cv = cross_validate(estimator, _X_current, ytr,\\\n",
    "                                                        cv = cv, scoring = 'roc_auc')['test_score'].mean()                            \n",
    "                            if (current_holdout>best_holdout) & (current_cv>best_cv):\n",
    "                                best_holdout = current_holdout\n",
    "                                best_cv = current_cv\n",
    "                                best_features = current_features\n",
    "                                counter = 0\n",
    "                            else:\n",
    "                                counter+=1\n",
    "                                if counter == early_stopping:\n",
    "                                    selected_L.append((estimator, tfidf, test_share,\\\n",
    "                                                       cv, early_stopping, (best_holdout, best_cv), best_features))\n",
    "                                    break\n",
    "                        \n",
    "                    except:\n",
    "                        cv_res = cross_validate(estimator, tfidf_tr, y.values,\\\n",
    "                                                cv = cv, scoring = 'roc_auc',\\\n",
    "                                                return_estimator = True)\n",
    "                        try:\n",
    "                            order = np.argsort(sum([est.feature_importances_.flatten() for est in cv_res['estimator']]))[::-1]\n",
    "                        except:\n",
    "                            order = np.argsort(sum([np.abs(est.coef_.flatten()) for est in cv_res['estimator']]))[::-1]\n",
    "                            \n",
    "                        counter, best_features, best_cv = 0, [], .5 \n",
    "                        for i in tqdm_notebook(order):\n",
    "                            current_features = best_features + [i]\n",
    "                            _X_current = tfidf_tr[:, current_features]\n",
    "                            current_cv = cross_validate(estimator, _X_current, y.values,\\\n",
    "                                                        cv = cv, scoring = 'roc_auc')['test_score'].mean()\n",
    "                            if current_cv > best_cv:\n",
    "                                best_cv = current_cv\n",
    "                                best_features = current_features\n",
    "                                counter = 0\n",
    "                            else:\n",
    "                                counter+=1\n",
    "                                if counter == early_stopping:\n",
    "                                    selected_L.append((estimator, tfidf, test_share,\\\n",
    "                                                       cv, early_stopping, best_cv, best_features))\n",
    "                                    break\n",
    "                    \n",
    "                    # сохраняем метрики и выбранные параметры\n",
    "                    with open(f'selection_results_{COUNTER}.pickle', 'wb') as f:\n",
    "                        pickle.dump(selected_L)   \n",
    "                    \n",
    "                    # обновляем счетчик\n",
    "                    COUNTER+=1\n",
    "                    \n",
    "                        \n",
    "                            \n",
    "                        \n",
    "\n",
    "                    \n",
    "                \n",
    "            "
   ]
  },
  {
   "cell_type": "code",
   "execution_count": null,
   "metadata": {},
   "outputs": [],
   "source": []
  },
  {
   "cell_type": "code",
   "execution_count": null,
   "metadata": {},
   "outputs": [],
   "source": []
  },
  {
   "cell_type": "code",
   "execution_count": null,
   "metadata": {},
   "outputs": [],
   "source": []
  },
  {
   "cell_type": "code",
   "execution_count": null,
   "metadata": {},
   "outputs": [],
   "source": []
  },
  {
   "cell_type": "code",
   "execution_count": null,
   "metadata": {},
   "outputs": [],
   "source": []
  },
  {
   "cell_type": "code",
   "execution_count": null,
   "metadata": {},
   "outputs": [],
   "source": []
  },
  {
   "cell_type": "code",
   "execution_count": null,
   "metadata": {},
   "outputs": [],
   "source": []
  },
  {
   "cell_type": "code",
   "execution_count": null,
   "metadata": {},
   "outputs": [],
   "source": []
  },
  {
   "cell_type": "code",
   "execution_count": null,
   "metadata": {},
   "outputs": [],
   "source": []
  },
  {
   "cell_type": "code",
   "execution_count": null,
   "metadata": {},
   "outputs": [],
   "source": []
  },
  {
   "cell_type": "code",
   "execution_count": null,
   "metadata": {},
   "outputs": [],
   "source": []
  },
  {
   "cell_type": "code",
   "execution_count": null,
   "metadata": {},
   "outputs": [],
   "source": []
  },
  {
   "cell_type": "code",
   "execution_count": null,
   "metadata": {},
   "outputs": [],
   "source": []
  },
  {
   "cell_type": "code",
   "execution_count": null,
   "metadata": {},
   "outputs": [],
   "source": []
  },
  {
   "cell_type": "code",
   "execution_count": null,
   "metadata": {},
   "outputs": [],
   "source": []
  },
  {
   "cell_type": "code",
   "execution_count": null,
   "metadata": {},
   "outputs": [],
   "source": []
  },
  {
   "cell_type": "code",
   "execution_count": null,
   "metadata": {},
   "outputs": [],
   "source": []
  },
  {
   "cell_type": "code",
   "execution_count": null,
   "metadata": {},
   "outputs": [],
   "source": []
  },
  {
   "cell_type": "code",
   "execution_count": null,
   "metadata": {},
   "outputs": [],
   "source": []
  },
  {
   "cell_type": "code",
   "execution_count": null,
   "metadata": {},
   "outputs": [],
   "source": []
  },
  {
   "cell_type": "code",
   "execution_count": null,
   "metadata": {},
   "outputs": [],
   "source": []
  },
  {
   "cell_type": "code",
   "execution_count": null,
   "metadata": {},
   "outputs": [],
   "source": []
  },
  {
   "cell_type": "code",
   "execution_count": null,
   "metadata": {},
   "outputs": [],
   "source": []
  },
  {
   "cell_type": "code",
   "execution_count": null,
   "metadata": {},
   "outputs": [],
   "source": []
  },
  {
   "cell_type": "code",
   "execution_count": null,
   "metadata": {},
   "outputs": [],
   "source": []
  },
  {
   "cell_type": "code",
   "execution_count": null,
   "metadata": {},
   "outputs": [],
   "source": []
  },
  {
   "cell_type": "code",
   "execution_count": null,
   "metadata": {},
   "outputs": [],
   "source": []
  },
  {
   "cell_type": "code",
   "execution_count": null,
   "metadata": {},
   "outputs": [],
   "source": []
  },
  {
   "cell_type": "code",
   "execution_count": null,
   "metadata": {},
   "outputs": [],
   "source": []
  },
  {
   "cell_type": "code",
   "execution_count": null,
   "metadata": {},
   "outputs": [],
   "source": []
  },
  {
   "cell_type": "code",
   "execution_count": null,
   "metadata": {},
   "outputs": [],
   "source": []
  },
  {
   "cell_type": "code",
   "execution_count": null,
   "metadata": {},
   "outputs": [],
   "source": []
  },
  {
   "cell_type": "code",
   "execution_count": null,
   "metadata": {},
   "outputs": [],
   "source": []
  },
  {
   "cell_type": "code",
   "execution_count": null,
   "metadata": {},
   "outputs": [],
   "source": []
  },
  {
   "cell_type": "code",
   "execution_count": null,
   "metadata": {},
   "outputs": [],
   "source": []
  },
  {
   "cell_type": "code",
   "execution_count": null,
   "metadata": {},
   "outputs": [],
   "source": []
  },
  {
   "cell_type": "code",
   "execution_count": null,
   "metadata": {},
   "outputs": [],
   "source": []
  },
  {
   "cell_type": "code",
   "execution_count": null,
   "metadata": {},
   "outputs": [],
   "source": []
  },
  {
   "cell_type": "code",
   "execution_count": null,
   "metadata": {},
   "outputs": [],
   "source": []
  },
  {
   "cell_type": "code",
   "execution_count": null,
   "metadata": {},
   "outputs": [],
   "source": []
  },
  {
   "cell_type": "code",
   "execution_count": null,
   "metadata": {},
   "outputs": [],
   "source": []
  },
  {
   "cell_type": "code",
   "execution_count": null,
   "metadata": {},
   "outputs": [],
   "source": []
  },
  {
   "cell_type": "code",
   "execution_count": null,
   "metadata": {},
   "outputs": [],
   "source": []
  },
  {
   "cell_type": "code",
   "execution_count": null,
   "metadata": {},
   "outputs": [],
   "source": []
  },
  {
   "cell_type": "code",
   "execution_count": null,
   "metadata": {},
   "outputs": [],
   "source": []
  },
  {
   "cell_type": "code",
   "execution_count": null,
   "metadata": {},
   "outputs": [],
   "source": []
  },
  {
   "cell_type": "code",
   "execution_count": null,
   "metadata": {},
   "outputs": [],
   "source": []
  },
  {
   "cell_type": "code",
   "execution_count": null,
   "metadata": {},
   "outputs": [],
   "source": []
  },
  {
   "cell_type": "code",
   "execution_count": null,
   "metadata": {},
   "outputs": [],
   "source": []
  },
  {
   "cell_type": "code",
   "execution_count": null,
   "metadata": {},
   "outputs": [],
   "source": []
  },
  {
   "cell_type": "code",
   "execution_count": null,
   "metadata": {},
   "outputs": [],
   "source": []
  },
  {
   "cell_type": "code",
   "execution_count": null,
   "metadata": {},
   "outputs": [],
   "source": []
  },
  {
   "cell_type": "code",
   "execution_count": null,
   "metadata": {},
   "outputs": [],
   "source": []
  },
  {
   "cell_type": "code",
   "execution_count": null,
   "metadata": {},
   "outputs": [],
   "source": []
  },
  {
   "cell_type": "code",
   "execution_count": null,
   "metadata": {},
   "outputs": [],
   "source": []
  },
  {
   "cell_type": "code",
   "execution_count": null,
   "metadata": {},
   "outputs": [],
   "source": []
  },
  {
   "cell_type": "code",
   "execution_count": null,
   "metadata": {},
   "outputs": [],
   "source": []
  },
  {
   "cell_type": "code",
   "execution_count": null,
   "metadata": {},
   "outputs": [],
   "source": []
  },
  {
   "cell_type": "code",
   "execution_count": null,
   "metadata": {},
   "outputs": [],
   "source": []
  },
  {
   "cell_type": "code",
   "execution_count": null,
   "metadata": {},
   "outputs": [],
   "source": []
  },
  {
   "cell_type": "code",
   "execution_count": null,
   "metadata": {},
   "outputs": [],
   "source": []
  },
  {
   "cell_type": "code",
   "execution_count": null,
   "metadata": {},
   "outputs": [],
   "source": []
  },
  {
   "cell_type": "code",
   "execution_count": null,
   "metadata": {},
   "outputs": [],
   "source": []
  },
  {
   "cell_type": "code",
   "execution_count": null,
   "metadata": {},
   "outputs": [],
   "source": []
  },
  {
   "cell_type": "code",
   "execution_count": null,
   "metadata": {},
   "outputs": [],
   "source": []
  },
  {
   "cell_type": "code",
   "execution_count": null,
   "metadata": {},
   "outputs": [],
   "source": []
  },
  {
   "cell_type": "code",
   "execution_count": null,
   "metadata": {},
   "outputs": [],
   "source": []
  },
  {
   "cell_type": "code",
   "execution_count": null,
   "metadata": {},
   "outputs": [],
   "source": []
  },
  {
   "cell_type": "code",
   "execution_count": null,
   "metadata": {},
   "outputs": [],
   "source": []
  },
  {
   "cell_type": "code",
   "execution_count": null,
   "metadata": {},
   "outputs": [],
   "source": []
  },
  {
   "cell_type": "code",
   "execution_count": null,
   "metadata": {},
   "outputs": [],
   "source": []
  },
  {
   "cell_type": "code",
   "execution_count": null,
   "metadata": {},
   "outputs": [],
   "source": []
  },
  {
   "cell_type": "code",
   "execution_count": null,
   "metadata": {},
   "outputs": [],
   "source": []
  },
  {
   "cell_type": "code",
   "execution_count": null,
   "metadata": {},
   "outputs": [],
   "source": []
  },
  {
   "cell_type": "code",
   "execution_count": null,
   "metadata": {},
   "outputs": [],
   "source": []
  },
  {
   "cell_type": "code",
   "execution_count": null,
   "metadata": {},
   "outputs": [],
   "source": []
  },
  {
   "cell_type": "code",
   "execution_count": null,
   "metadata": {},
   "outputs": [],
   "source": []
  }
 ],
 "metadata": {
  "kernelspec": {
   "display_name": "Python 3",
   "language": "python",
   "name": "python3"
  },
  "language_info": {
   "codemirror_mode": {
    "name": "ipython",
    "version": 3
   },
   "file_extension": ".py",
   "mimetype": "text/x-python",
   "name": "python",
   "nbconvert_exporter": "python",
   "pygments_lexer": "ipython3",
   "version": "3.8.3"
  }
 },
 "nbformat": 4,
 "nbformat_minor": 4
}
